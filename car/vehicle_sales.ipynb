{
 "cells": [
  {
   "cell_type": "code",
   "execution_count": 1,
   "id": "initial_id",
   "metadata": {
    "collapsed": true,
    "ExecuteTime": {
     "end_time": "2024-03-27T19:16:22.557156Z",
     "start_time": "2024-03-27T19:16:22.547306Z"
    }
   },
   "outputs": [],
   "source": [
    "import pandas as pd\n",
    "import numpy as np\n",
    "import matplotlib.pyplot as plt\n",
    "import seaborn as sns\n",
    "import datetime as dt\n",
    "import time as tm\n",
    "import multiprocessing as mp"
   ]
  },
  {
   "cell_type": "code",
   "outputs": [],
   "source": [
    "vehicle_sales_path = r'F:\\DataSpell\\Pandas_training\\data_sets\\car_prices.csv'\n",
    "vehicle_sales = pd.read_csv(vehicle_sales_path, parse_dates=['year']).dropna(how='all')"
   ],
   "metadata": {
    "collapsed": false,
    "ExecuteTime": {
     "end_time": "2024-03-27T19:16:23.980055Z",
     "start_time": "2024-03-27T19:16:22.558166Z"
    }
   },
   "id": "31494a7c5bdb14d4",
   "execution_count": 2
  },
  {
   "cell_type": "code",
   "outputs": [],
   "source": [
    "# for col in vehicle_sales.select_dtypes(include=['int', 'float']).columns:\n",
    "#   if vehicle_sales[col].dtype.kind == 'i':\n",
    "#     vehicle_sales[col] = pd.to_numeric(vehicle_sales[col], downcast='integer')\n",
    "#   else:\n",
    "#     vehicle_sales[col] = pd.to_numeric(vehicle_sales[col], downcast='float')\n",
    "\n",
    "vehicle_sales['state'] = vehicle_sales['state'].astype('category')\n",
    "vehicle_sales['year'] = pd.to_datetime(vehicle_sales['year'], format='%Y').dt.year\n",
    "vehicle_sales['make'] = vehicle_sales['make'].fillna('unknown').astype('category')\n",
    "vehicle_sales['model'] = vehicle_sales['model'].fillna('unknown').astype(str)\n",
    "vehicle_sales['trim'] = vehicle_sales['trim'].fillna('unknown').astype(str).str.lower()\n",
    "vehicle_sales['body'] = vehicle_sales['body'].fillna('unknown').astype('category')\n",
    "vehicle_sales['transmission'] = vehicle_sales['transmission'].fillna('unknown').astype('category')\n",
    "vehicle_sales['vin'] = vehicle_sales['vin'].fillna('unknown')\n",
    "vehicle_sales['condition'] = vehicle_sales['condition'].fillna(0)\n",
    "vehicle_sales['odometer'] = vehicle_sales['odometer'].fillna(0)\n",
    "vehicle_sales['color'] = vehicle_sales['color'].fillna('unknown').astype('category')\n",
    "vehicle_sales['interior'] = vehicle_sales['interior'].fillna('unknown').astype('category')\n",
    "vehicle_sales['mmr'] = vehicle_sales['mmr'].fillna(0)\n",
    "vehicle_sales['sellingprice'] = vehicle_sales['sellingprice'].fillna(0)\n",
    "\n",
    "# vehicle_sales['sellingprice'].apply(lambda number: number.is_integer())"
   ],
   "metadata": {
    "collapsed": false,
    "ExecuteTime": {
     "end_time": "2024-03-27T19:16:24.463618Z",
     "start_time": "2024-03-27T19:16:23.982063Z"
    }
   },
   "id": "44d034b5ba475278",
   "execution_count": 3
  },
  {
   "cell_type": "code",
   "outputs": [],
   "source": [
    "# # Define a function to parse datetime strings and convert to Lithuania time\n",
    "# def convert_to_lithuania_time(dt_str):\n",
    "#     try:\n",
    "#         # Parse the datetime string and convert to Lithuania time\n",
    "#         dt = pd.to_datetime(dt_str).tz_convert('Europe/Vilnius')\n",
    "#     except Exception:\n",
    "#         # If parsing fails, return NaT\n",
    "#         dt = pd.NaT\n",
    "#     return dt\n",
    "# \n",
    "# # Apply the function to the 'saledate' column\n",
    "# vehicle_sales['saledate'] = vehicle_sales['saledate'].apply(convert_to_lithuania_time)\n",
    "# \n",
    "# # Replace NaT values with a specific date (e.g., '1900-01-01')\n",
    "# vehicle_sales['saledate'] = vehicle_sales['saledate'].fillna(pd.Timestamp('1900-01-01', tz='Europe/Vilnius'))\n",
    "# \n",
    "# # Check the data type of the 'saledate' column\n",
    "# vehicle_sales['saledate'].dtypes"
   ],
   "metadata": {
    "collapsed": false,
    "ExecuteTime": {
     "end_time": "2024-03-27T19:16:24.468739Z",
     "start_time": "2024-03-27T19:16:24.464628Z"
    }
   },
   "id": "c0a7fa859bd45e37",
   "execution_count": 4
  },
  {
   "cell_type": "code",
   "outputs": [
    {
     "data": {
      "text/plain": "        year    make                model         trim       body  \\\n0       2015     Kia              Sorento           lx        SUV   \n1       2015     Kia              Sorento           lx        SUV   \n2       2014     BMW             3 Series   328i sulev      Sedan   \n3       2015   Volvo                  S60           t5      Sedan   \n4       2014     BMW  6 Series Gran Coupe         650i      Sedan   \n...      ...     ...                  ...          ...        ...   \n558832  2015     Kia                 K900       luxury      Sedan   \n558833  2012     Ram                 2500  power wagon   Crew Cab   \n558834  2012     BMW                   X5    xdrive35d        SUV   \n558835  2015  Nissan               Altima        2.5 s      sedan   \n558836  2014    Ford                F-150          xlt  SuperCrew   \n\n       transmission                vin state  condition  odometer   color  \\\n0         automatic  5xyktca69fg566472    ca        5.0   16639.0   white   \n1         automatic  5xyktca69fg561319    ca        5.0    9393.0   white   \n2         automatic  wba3c1c51ek116351    ca       45.0    1331.0    gray   \n3         automatic  yv1612tb4f1310987    ca       41.0   14282.0   white   \n4         automatic  wba6b2c57ed129731    ca       43.0    2641.0    gray   \n...             ...                ...   ...        ...       ...     ...   \n558832      unknown  knalw4d4xf6019304    in       45.0   18255.0  silver   \n558833    automatic  3c6td5et6cg112407    wa        5.0   54393.0   white   \n558834    automatic  5uxzw0c58cl668465    ca       48.0   50561.0   black   \n558835    automatic  1n4al3ap0fc216050    ga       38.0   16658.0   white   \n558836    automatic  1ftfw1et2eke87277    ca       34.0   15008.0    gray   \n\n       interior                                             seller      mmr  \\\n0         black                            kia motors america  inc  20500.0   \n1         beige                            kia motors america  inc  20800.0   \n2         black             financial services remarketing (lease)  31900.0   \n3         black                            volvo na rep/world omni  27500.0   \n4         black             financial services remarketing (lease)  66000.0   \n...         ...                                                ...      ...   \n558832    black                                   avis corporation  35300.0   \n558833    black                                    i -5 uhlmann rv  30200.0   \n558834    black             financial services remarketing (lease)  29800.0   \n558835    black  enterprise vehicle exchange / tra / rental / t...  15100.0   \n558836     gray                   ford motor credit company llc pd  29600.0   \n\n        sellingprice                                 saledate  \n0            21500.0  Tue Dec 16 2014 12:30:00 GMT-0800 (PST)  \n1            21500.0  Tue Dec 16 2014 12:30:00 GMT-0800 (PST)  \n2            30000.0  Thu Jan 15 2015 04:30:00 GMT-0800 (PST)  \n3            27750.0  Thu Jan 29 2015 04:30:00 GMT-0800 (PST)  \n4            67000.0  Thu Dec 18 2014 12:30:00 GMT-0800 (PST)  \n...              ...                                      ...  \n558832       33000.0  Thu Jul 09 2015 07:00:00 GMT-0700 (PDT)  \n558833       30800.0  Wed Jul 08 2015 09:30:00 GMT-0700 (PDT)  \n558834       34000.0  Wed Jul 08 2015 09:30:00 GMT-0700 (PDT)  \n558835       11100.0  Thu Jul 09 2015 06:45:00 GMT-0700 (PDT)  \n558836       26700.0  Thu May 28 2015 05:30:00 GMT-0700 (PDT)  \n\n[558837 rows x 16 columns]",
      "text/html": "<div>\n<style scoped>\n    .dataframe tbody tr th:only-of-type {\n        vertical-align: middle;\n    }\n\n    .dataframe tbody tr th {\n        vertical-align: top;\n    }\n\n    .dataframe thead th {\n        text-align: right;\n    }\n</style>\n<table border=\"1\" class=\"dataframe\">\n  <thead>\n    <tr style=\"text-align: right;\">\n      <th></th>\n      <th>year</th>\n      <th>make</th>\n      <th>model</th>\n      <th>trim</th>\n      <th>body</th>\n      <th>transmission</th>\n      <th>vin</th>\n      <th>state</th>\n      <th>condition</th>\n      <th>odometer</th>\n      <th>color</th>\n      <th>interior</th>\n      <th>seller</th>\n      <th>mmr</th>\n      <th>sellingprice</th>\n      <th>saledate</th>\n    </tr>\n  </thead>\n  <tbody>\n    <tr>\n      <th>0</th>\n      <td>2015</td>\n      <td>Kia</td>\n      <td>Sorento</td>\n      <td>lx</td>\n      <td>SUV</td>\n      <td>automatic</td>\n      <td>5xyktca69fg566472</td>\n      <td>ca</td>\n      <td>5.0</td>\n      <td>16639.0</td>\n      <td>white</td>\n      <td>black</td>\n      <td>kia motors america  inc</td>\n      <td>20500.0</td>\n      <td>21500.0</td>\n      <td>Tue Dec 16 2014 12:30:00 GMT-0800 (PST)</td>\n    </tr>\n    <tr>\n      <th>1</th>\n      <td>2015</td>\n      <td>Kia</td>\n      <td>Sorento</td>\n      <td>lx</td>\n      <td>SUV</td>\n      <td>automatic</td>\n      <td>5xyktca69fg561319</td>\n      <td>ca</td>\n      <td>5.0</td>\n      <td>9393.0</td>\n      <td>white</td>\n      <td>beige</td>\n      <td>kia motors america  inc</td>\n      <td>20800.0</td>\n      <td>21500.0</td>\n      <td>Tue Dec 16 2014 12:30:00 GMT-0800 (PST)</td>\n    </tr>\n    <tr>\n      <th>2</th>\n      <td>2014</td>\n      <td>BMW</td>\n      <td>3 Series</td>\n      <td>328i sulev</td>\n      <td>Sedan</td>\n      <td>automatic</td>\n      <td>wba3c1c51ek116351</td>\n      <td>ca</td>\n      <td>45.0</td>\n      <td>1331.0</td>\n      <td>gray</td>\n      <td>black</td>\n      <td>financial services remarketing (lease)</td>\n      <td>31900.0</td>\n      <td>30000.0</td>\n      <td>Thu Jan 15 2015 04:30:00 GMT-0800 (PST)</td>\n    </tr>\n    <tr>\n      <th>3</th>\n      <td>2015</td>\n      <td>Volvo</td>\n      <td>S60</td>\n      <td>t5</td>\n      <td>Sedan</td>\n      <td>automatic</td>\n      <td>yv1612tb4f1310987</td>\n      <td>ca</td>\n      <td>41.0</td>\n      <td>14282.0</td>\n      <td>white</td>\n      <td>black</td>\n      <td>volvo na rep/world omni</td>\n      <td>27500.0</td>\n      <td>27750.0</td>\n      <td>Thu Jan 29 2015 04:30:00 GMT-0800 (PST)</td>\n    </tr>\n    <tr>\n      <th>4</th>\n      <td>2014</td>\n      <td>BMW</td>\n      <td>6 Series Gran Coupe</td>\n      <td>650i</td>\n      <td>Sedan</td>\n      <td>automatic</td>\n      <td>wba6b2c57ed129731</td>\n      <td>ca</td>\n      <td>43.0</td>\n      <td>2641.0</td>\n      <td>gray</td>\n      <td>black</td>\n      <td>financial services remarketing (lease)</td>\n      <td>66000.0</td>\n      <td>67000.0</td>\n      <td>Thu Dec 18 2014 12:30:00 GMT-0800 (PST)</td>\n    </tr>\n    <tr>\n      <th>...</th>\n      <td>...</td>\n      <td>...</td>\n      <td>...</td>\n      <td>...</td>\n      <td>...</td>\n      <td>...</td>\n      <td>...</td>\n      <td>...</td>\n      <td>...</td>\n      <td>...</td>\n      <td>...</td>\n      <td>...</td>\n      <td>...</td>\n      <td>...</td>\n      <td>...</td>\n      <td>...</td>\n    </tr>\n    <tr>\n      <th>558832</th>\n      <td>2015</td>\n      <td>Kia</td>\n      <td>K900</td>\n      <td>luxury</td>\n      <td>Sedan</td>\n      <td>unknown</td>\n      <td>knalw4d4xf6019304</td>\n      <td>in</td>\n      <td>45.0</td>\n      <td>18255.0</td>\n      <td>silver</td>\n      <td>black</td>\n      <td>avis corporation</td>\n      <td>35300.0</td>\n      <td>33000.0</td>\n      <td>Thu Jul 09 2015 07:00:00 GMT-0700 (PDT)</td>\n    </tr>\n    <tr>\n      <th>558833</th>\n      <td>2012</td>\n      <td>Ram</td>\n      <td>2500</td>\n      <td>power wagon</td>\n      <td>Crew Cab</td>\n      <td>automatic</td>\n      <td>3c6td5et6cg112407</td>\n      <td>wa</td>\n      <td>5.0</td>\n      <td>54393.0</td>\n      <td>white</td>\n      <td>black</td>\n      <td>i -5 uhlmann rv</td>\n      <td>30200.0</td>\n      <td>30800.0</td>\n      <td>Wed Jul 08 2015 09:30:00 GMT-0700 (PDT)</td>\n    </tr>\n    <tr>\n      <th>558834</th>\n      <td>2012</td>\n      <td>BMW</td>\n      <td>X5</td>\n      <td>xdrive35d</td>\n      <td>SUV</td>\n      <td>automatic</td>\n      <td>5uxzw0c58cl668465</td>\n      <td>ca</td>\n      <td>48.0</td>\n      <td>50561.0</td>\n      <td>black</td>\n      <td>black</td>\n      <td>financial services remarketing (lease)</td>\n      <td>29800.0</td>\n      <td>34000.0</td>\n      <td>Wed Jul 08 2015 09:30:00 GMT-0700 (PDT)</td>\n    </tr>\n    <tr>\n      <th>558835</th>\n      <td>2015</td>\n      <td>Nissan</td>\n      <td>Altima</td>\n      <td>2.5 s</td>\n      <td>sedan</td>\n      <td>automatic</td>\n      <td>1n4al3ap0fc216050</td>\n      <td>ga</td>\n      <td>38.0</td>\n      <td>16658.0</td>\n      <td>white</td>\n      <td>black</td>\n      <td>enterprise vehicle exchange / tra / rental / t...</td>\n      <td>15100.0</td>\n      <td>11100.0</td>\n      <td>Thu Jul 09 2015 06:45:00 GMT-0700 (PDT)</td>\n    </tr>\n    <tr>\n      <th>558836</th>\n      <td>2014</td>\n      <td>Ford</td>\n      <td>F-150</td>\n      <td>xlt</td>\n      <td>SuperCrew</td>\n      <td>automatic</td>\n      <td>1ftfw1et2eke87277</td>\n      <td>ca</td>\n      <td>34.0</td>\n      <td>15008.0</td>\n      <td>gray</td>\n      <td>gray</td>\n      <td>ford motor credit company llc pd</td>\n      <td>29600.0</td>\n      <td>26700.0</td>\n      <td>Thu May 28 2015 05:30:00 GMT-0700 (PDT)</td>\n    </tr>\n  </tbody>\n</table>\n<p>558837 rows × 16 columns</p>\n</div>"
     },
     "execution_count": 5,
     "metadata": {},
     "output_type": "execute_result"
    }
   ],
   "source": [
    "vehicle_sales"
   ],
   "metadata": {
    "collapsed": false,
    "ExecuteTime": {
     "end_time": "2024-03-27T19:16:24.491451Z",
     "start_time": "2024-03-27T19:16:24.470342Z"
    }
   },
   "id": "90850dd7901b9c35",
   "execution_count": 5
  },
  {
   "cell_type": "code",
   "outputs": [
    {
     "data": {
      "text/plain": "year                34\nmake                97\nmodel              974\ntrim              1889\nbody                88\ntransmission         5\nvin             550298\nstate               64\ncondition           42\nodometer        172279\ncolor               47\ninterior            18\nseller           14263\nmmr               1102\nsellingprice      1888\nsaledate          3766\ndtype: int64"
     },
     "execution_count": 6,
     "metadata": {},
     "output_type": "execute_result"
    }
   ],
   "source": [
    "vehicle_sales.nunique()"
   ],
   "metadata": {
    "collapsed": false,
    "ExecuteTime": {
     "end_time": "2024-03-27T19:16:24.807326Z",
     "start_time": "2024-03-27T19:16:24.492459Z"
    }
   },
   "id": "30fecb3951ccb213",
   "execution_count": 6
  },
  {
   "cell_type": "code",
   "outputs": [
    {
     "name": "stdout",
     "output_type": "stream",
     "text": [
      "The script took 1.6380491256713867 seconds to load.\n"
     ]
    }
   ],
   "source": [
    "# Get the current time\n",
    "start_time = tm.time()\n",
    "\n",
    "# Load your script here\n",
    "vehicle_sales = pd.read_csv(vehicle_sales_path)\n",
    "\n",
    "# Get the current time again\n",
    "end_time = tm.time()\n",
    "\n",
    "# Calculate the time it took to load your script\n",
    "load_time = end_time - start_time\n",
    "\n",
    "print(f\"The script took {load_time} seconds to load.\") # 1.0112128257751465 seconds"
   ],
   "metadata": {
    "collapsed": false,
    "ExecuteTime": {
     "end_time": "2024-03-27T19:16:26.453110Z",
     "start_time": "2024-03-27T19:16:24.808333Z"
    }
   },
   "id": "7ad34f9e9d173815",
   "execution_count": 7
  },
  {
   "cell_type": "code",
   "outputs": [
    {
     "name": "stdout",
     "output_type": "stream",
     "text": [
      "<class 'pandas.core.frame.DataFrame'>\n",
      "RangeIndex: 558837 entries, 0 to 558836\n",
      "Data columns (total 16 columns):\n",
      " #   Column        Non-Null Count   Dtype  \n",
      "---  ------        --------------   -----  \n",
      " 0   year          558837 non-null  int64  \n",
      " 1   make          548536 non-null  object \n",
      " 2   model         548438 non-null  object \n",
      " 3   trim          548186 non-null  object \n",
      " 4   body          545642 non-null  object \n",
      " 5   transmission  493485 non-null  object \n",
      " 6   vin           558833 non-null  object \n",
      " 7   state         558837 non-null  object \n",
      " 8   condition     547017 non-null  float64\n",
      " 9   odometer      558743 non-null  float64\n",
      " 10  color         558088 non-null  object \n",
      " 11  interior      558088 non-null  object \n",
      " 12  seller        558837 non-null  object \n",
      " 13  mmr           558799 non-null  float64\n",
      " 14  sellingprice  558825 non-null  float64\n",
      " 15  saledate      558825 non-null  object \n",
      "dtypes: float64(4), int64(1), object(11)\n",
      "memory usage: 68.2+ MB\n"
     ]
    }
   ],
   "source": [
    "vehicle_sales.info() # 68.2+ MB"
   ],
   "metadata": {
    "collapsed": false,
    "ExecuteTime": {
     "end_time": "2024-03-27T19:16:26.611249Z",
     "start_time": "2024-03-27T19:16:26.454117Z"
    }
   },
   "id": "196c71bae1e5d872",
   "execution_count": 8
  },
  {
   "cell_type": "code",
   "outputs": [
    {
     "data": {
      "text/plain": "year              int64\nmake             object\nmodel            object\ntrim             object\nbody             object\ntransmission     object\nvin              object\nstate            object\ncondition       float64\nodometer        float64\ncolor            object\ninterior         object\nseller           object\nmmr             float64\nsellingprice    float64\nsaledate         object\ndtype: object"
     },
     "execution_count": 9,
     "metadata": {},
     "output_type": "execute_result"
    }
   ],
   "source": [
    "vehicle_sales.dtypes"
   ],
   "metadata": {
    "collapsed": false,
    "ExecuteTime": {
     "end_time": "2024-03-27T19:16:26.617370Z",
     "start_time": "2024-03-27T19:16:26.612255Z"
    }
   },
   "id": "f205b25e725c3335",
   "execution_count": 9
  },
  {
   "cell_type": "markdown",
   "source": [
    "# Upper is data cleaning handling to reduce memory usage and data types"
   ],
   "metadata": {
    "collapsed": false
   },
   "id": "af031379a5a22001"
  },
  {
   "cell_type": "code",
   "outputs": [
    {
     "data": {
      "text/plain": "        year    make                model         trim       body  \\\n0       2015     Kia              Sorento           LX        SUV   \n1       2015     Kia              Sorento           LX        SUV   \n2       2014     BMW             3 Series   328i SULEV      Sedan   \n3       2015   Volvo                  S60           T5      Sedan   \n4       2014     BMW  6 Series Gran Coupe         650i      Sedan   \n...      ...     ...                  ...          ...        ...   \n558832  2015     Kia                 K900       Luxury      Sedan   \n558833  2012     Ram                 2500  Power Wagon   Crew Cab   \n558834  2012     BMW                   X5    xDrive35d        SUV   \n558835  2015  Nissan               Altima        2.5 S      sedan   \n558836  2014    Ford                F-150          XLT  SuperCrew   \n\n       transmission                vin state  condition  odometer   color  \\\n0         automatic  5xyktca69fg566472    ca        5.0   16639.0   white   \n1         automatic  5xyktca69fg561319    ca        5.0    9393.0   white   \n2         automatic  wba3c1c51ek116351    ca       45.0    1331.0    gray   \n3         automatic  yv1612tb4f1310987    ca       41.0   14282.0   white   \n4         automatic  wba6b2c57ed129731    ca       43.0    2641.0    gray   \n...             ...                ...   ...        ...       ...     ...   \n558832          NaN  knalw4d4xf6019304    in       45.0   18255.0  silver   \n558833    automatic  3c6td5et6cg112407    wa        5.0   54393.0   white   \n558834    automatic  5uxzw0c58cl668465    ca       48.0   50561.0   black   \n558835    automatic  1n4al3ap0fc216050    ga       38.0   16658.0   white   \n558836    automatic  1ftfw1et2eke87277    ca       34.0   15008.0    gray   \n\n       interior                                             seller      mmr  \\\n0         black                            kia motors america  inc  20500.0   \n1         beige                            kia motors america  inc  20800.0   \n2         black             financial services remarketing (lease)  31900.0   \n3         black                            volvo na rep/world omni  27500.0   \n4         black             financial services remarketing (lease)  66000.0   \n...         ...                                                ...      ...   \n558832    black                                   avis corporation  35300.0   \n558833    black                                    i -5 uhlmann rv  30200.0   \n558834    black             financial services remarketing (lease)  29800.0   \n558835    black  enterprise vehicle exchange / tra / rental / t...  15100.0   \n558836     gray                   ford motor credit company llc pd  29600.0   \n\n        sellingprice                                 saledate  \n0            21500.0  Tue Dec 16 2014 12:30:00 GMT-0800 (PST)  \n1            21500.0  Tue Dec 16 2014 12:30:00 GMT-0800 (PST)  \n2            30000.0  Thu Jan 15 2015 04:30:00 GMT-0800 (PST)  \n3            27750.0  Thu Jan 29 2015 04:30:00 GMT-0800 (PST)  \n4            67000.0  Thu Dec 18 2014 12:30:00 GMT-0800 (PST)  \n...              ...                                      ...  \n558832       33000.0  Thu Jul 09 2015 07:00:00 GMT-0700 (PDT)  \n558833       30800.0  Wed Jul 08 2015 09:30:00 GMT-0700 (PDT)  \n558834       34000.0  Wed Jul 08 2015 09:30:00 GMT-0700 (PDT)  \n558835       11100.0  Thu Jul 09 2015 06:45:00 GMT-0700 (PDT)  \n558836       26700.0  Thu May 28 2015 05:30:00 GMT-0700 (PDT)  \n\n[558837 rows x 16 columns]",
      "text/html": "<div>\n<style scoped>\n    .dataframe tbody tr th:only-of-type {\n        vertical-align: middle;\n    }\n\n    .dataframe tbody tr th {\n        vertical-align: top;\n    }\n\n    .dataframe thead th {\n        text-align: right;\n    }\n</style>\n<table border=\"1\" class=\"dataframe\">\n  <thead>\n    <tr style=\"text-align: right;\">\n      <th></th>\n      <th>year</th>\n      <th>make</th>\n      <th>model</th>\n      <th>trim</th>\n      <th>body</th>\n      <th>transmission</th>\n      <th>vin</th>\n      <th>state</th>\n      <th>condition</th>\n      <th>odometer</th>\n      <th>color</th>\n      <th>interior</th>\n      <th>seller</th>\n      <th>mmr</th>\n      <th>sellingprice</th>\n      <th>saledate</th>\n    </tr>\n  </thead>\n  <tbody>\n    <tr>\n      <th>0</th>\n      <td>2015</td>\n      <td>Kia</td>\n      <td>Sorento</td>\n      <td>LX</td>\n      <td>SUV</td>\n      <td>automatic</td>\n      <td>5xyktca69fg566472</td>\n      <td>ca</td>\n      <td>5.0</td>\n      <td>16639.0</td>\n      <td>white</td>\n      <td>black</td>\n      <td>kia motors america  inc</td>\n      <td>20500.0</td>\n      <td>21500.0</td>\n      <td>Tue Dec 16 2014 12:30:00 GMT-0800 (PST)</td>\n    </tr>\n    <tr>\n      <th>1</th>\n      <td>2015</td>\n      <td>Kia</td>\n      <td>Sorento</td>\n      <td>LX</td>\n      <td>SUV</td>\n      <td>automatic</td>\n      <td>5xyktca69fg561319</td>\n      <td>ca</td>\n      <td>5.0</td>\n      <td>9393.0</td>\n      <td>white</td>\n      <td>beige</td>\n      <td>kia motors america  inc</td>\n      <td>20800.0</td>\n      <td>21500.0</td>\n      <td>Tue Dec 16 2014 12:30:00 GMT-0800 (PST)</td>\n    </tr>\n    <tr>\n      <th>2</th>\n      <td>2014</td>\n      <td>BMW</td>\n      <td>3 Series</td>\n      <td>328i SULEV</td>\n      <td>Sedan</td>\n      <td>automatic</td>\n      <td>wba3c1c51ek116351</td>\n      <td>ca</td>\n      <td>45.0</td>\n      <td>1331.0</td>\n      <td>gray</td>\n      <td>black</td>\n      <td>financial services remarketing (lease)</td>\n      <td>31900.0</td>\n      <td>30000.0</td>\n      <td>Thu Jan 15 2015 04:30:00 GMT-0800 (PST)</td>\n    </tr>\n    <tr>\n      <th>3</th>\n      <td>2015</td>\n      <td>Volvo</td>\n      <td>S60</td>\n      <td>T5</td>\n      <td>Sedan</td>\n      <td>automatic</td>\n      <td>yv1612tb4f1310987</td>\n      <td>ca</td>\n      <td>41.0</td>\n      <td>14282.0</td>\n      <td>white</td>\n      <td>black</td>\n      <td>volvo na rep/world omni</td>\n      <td>27500.0</td>\n      <td>27750.0</td>\n      <td>Thu Jan 29 2015 04:30:00 GMT-0800 (PST)</td>\n    </tr>\n    <tr>\n      <th>4</th>\n      <td>2014</td>\n      <td>BMW</td>\n      <td>6 Series Gran Coupe</td>\n      <td>650i</td>\n      <td>Sedan</td>\n      <td>automatic</td>\n      <td>wba6b2c57ed129731</td>\n      <td>ca</td>\n      <td>43.0</td>\n      <td>2641.0</td>\n      <td>gray</td>\n      <td>black</td>\n      <td>financial services remarketing (lease)</td>\n      <td>66000.0</td>\n      <td>67000.0</td>\n      <td>Thu Dec 18 2014 12:30:00 GMT-0800 (PST)</td>\n    </tr>\n    <tr>\n      <th>...</th>\n      <td>...</td>\n      <td>...</td>\n      <td>...</td>\n      <td>...</td>\n      <td>...</td>\n      <td>...</td>\n      <td>...</td>\n      <td>...</td>\n      <td>...</td>\n      <td>...</td>\n      <td>...</td>\n      <td>...</td>\n      <td>...</td>\n      <td>...</td>\n      <td>...</td>\n      <td>...</td>\n    </tr>\n    <tr>\n      <th>558832</th>\n      <td>2015</td>\n      <td>Kia</td>\n      <td>K900</td>\n      <td>Luxury</td>\n      <td>Sedan</td>\n      <td>NaN</td>\n      <td>knalw4d4xf6019304</td>\n      <td>in</td>\n      <td>45.0</td>\n      <td>18255.0</td>\n      <td>silver</td>\n      <td>black</td>\n      <td>avis corporation</td>\n      <td>35300.0</td>\n      <td>33000.0</td>\n      <td>Thu Jul 09 2015 07:00:00 GMT-0700 (PDT)</td>\n    </tr>\n    <tr>\n      <th>558833</th>\n      <td>2012</td>\n      <td>Ram</td>\n      <td>2500</td>\n      <td>Power Wagon</td>\n      <td>Crew Cab</td>\n      <td>automatic</td>\n      <td>3c6td5et6cg112407</td>\n      <td>wa</td>\n      <td>5.0</td>\n      <td>54393.0</td>\n      <td>white</td>\n      <td>black</td>\n      <td>i -5 uhlmann rv</td>\n      <td>30200.0</td>\n      <td>30800.0</td>\n      <td>Wed Jul 08 2015 09:30:00 GMT-0700 (PDT)</td>\n    </tr>\n    <tr>\n      <th>558834</th>\n      <td>2012</td>\n      <td>BMW</td>\n      <td>X5</td>\n      <td>xDrive35d</td>\n      <td>SUV</td>\n      <td>automatic</td>\n      <td>5uxzw0c58cl668465</td>\n      <td>ca</td>\n      <td>48.0</td>\n      <td>50561.0</td>\n      <td>black</td>\n      <td>black</td>\n      <td>financial services remarketing (lease)</td>\n      <td>29800.0</td>\n      <td>34000.0</td>\n      <td>Wed Jul 08 2015 09:30:00 GMT-0700 (PDT)</td>\n    </tr>\n    <tr>\n      <th>558835</th>\n      <td>2015</td>\n      <td>Nissan</td>\n      <td>Altima</td>\n      <td>2.5 S</td>\n      <td>sedan</td>\n      <td>automatic</td>\n      <td>1n4al3ap0fc216050</td>\n      <td>ga</td>\n      <td>38.0</td>\n      <td>16658.0</td>\n      <td>white</td>\n      <td>black</td>\n      <td>enterprise vehicle exchange / tra / rental / t...</td>\n      <td>15100.0</td>\n      <td>11100.0</td>\n      <td>Thu Jul 09 2015 06:45:00 GMT-0700 (PDT)</td>\n    </tr>\n    <tr>\n      <th>558836</th>\n      <td>2014</td>\n      <td>Ford</td>\n      <td>F-150</td>\n      <td>XLT</td>\n      <td>SuperCrew</td>\n      <td>automatic</td>\n      <td>1ftfw1et2eke87277</td>\n      <td>ca</td>\n      <td>34.0</td>\n      <td>15008.0</td>\n      <td>gray</td>\n      <td>gray</td>\n      <td>ford motor credit company llc pd</td>\n      <td>29600.0</td>\n      <td>26700.0</td>\n      <td>Thu May 28 2015 05:30:00 GMT-0700 (PDT)</td>\n    </tr>\n  </tbody>\n</table>\n<p>558837 rows × 16 columns</p>\n</div>"
     },
     "execution_count": 10,
     "metadata": {},
     "output_type": "execute_result"
    }
   ],
   "source": [
    "vehicle_sales"
   ],
   "metadata": {
    "collapsed": false,
    "ExecuteTime": {
     "end_time": "2024-03-27T19:16:26.633906Z",
     "start_time": "2024-03-27T19:16:26.618379Z"
    }
   },
   "id": "a01641be1fb5b32c",
   "execution_count": 10
  },
  {
   "cell_type": "code",
   "outputs": [
    {
     "data": {
      "text/plain": "                             sum  count\nmake  trim        year                 \nAcura 2.2         1997    1725.0      2\n      2.2 Premium 1997    3350.0      7\n      2.3         1999    3800.0      4\n      2.3 Premium 1998    1900.0      1\n      2.5         1998    4550.0      4\n...                          ...    ...\nvw    se          2013   19400.0      1\n                  2014  103600.0      5\n      se w/nav    2013   20600.0      1\n      se w/rse    2013   40200.0      2\n      sel prm     2014   49600.0      2\n\n[7986 rows x 2 columns]",
      "text/html": "<div>\n<style scoped>\n    .dataframe tbody tr th:only-of-type {\n        vertical-align: middle;\n    }\n\n    .dataframe tbody tr th {\n        vertical-align: top;\n    }\n\n    .dataframe thead th {\n        text-align: right;\n    }\n</style>\n<table border=\"1\" class=\"dataframe\">\n  <thead>\n    <tr style=\"text-align: right;\">\n      <th></th>\n      <th></th>\n      <th></th>\n      <th>sum</th>\n      <th>count</th>\n    </tr>\n    <tr>\n      <th>make</th>\n      <th>trim</th>\n      <th>year</th>\n      <th></th>\n      <th></th>\n    </tr>\n  </thead>\n  <tbody>\n    <tr>\n      <th rowspan=\"5\" valign=\"top\">Acura</th>\n      <th>2.2</th>\n      <th>1997</th>\n      <td>1725.0</td>\n      <td>2</td>\n    </tr>\n    <tr>\n      <th>2.2 Premium</th>\n      <th>1997</th>\n      <td>3350.0</td>\n      <td>7</td>\n    </tr>\n    <tr>\n      <th>2.3</th>\n      <th>1999</th>\n      <td>3800.0</td>\n      <td>4</td>\n    </tr>\n    <tr>\n      <th>2.3 Premium</th>\n      <th>1998</th>\n      <td>1900.0</td>\n      <td>1</td>\n    </tr>\n    <tr>\n      <th>2.5</th>\n      <th>1998</th>\n      <td>4550.0</td>\n      <td>4</td>\n    </tr>\n    <tr>\n      <th>...</th>\n      <th>...</th>\n      <th>...</th>\n      <td>...</td>\n      <td>...</td>\n    </tr>\n    <tr>\n      <th rowspan=\"5\" valign=\"top\">vw</th>\n      <th rowspan=\"2\" valign=\"top\">se</th>\n      <th>2013</th>\n      <td>19400.0</td>\n      <td>1</td>\n    </tr>\n    <tr>\n      <th>2014</th>\n      <td>103600.0</td>\n      <td>5</td>\n    </tr>\n    <tr>\n      <th>se w/nav</th>\n      <th>2013</th>\n      <td>20600.0</td>\n      <td>1</td>\n    </tr>\n    <tr>\n      <th>se w/rse</th>\n      <th>2013</th>\n      <td>40200.0</td>\n      <td>2</td>\n    </tr>\n    <tr>\n      <th>sel prm</th>\n      <th>2014</th>\n      <td>49600.0</td>\n      <td>2</td>\n    </tr>\n  </tbody>\n</table>\n<p>7986 rows × 2 columns</p>\n</div>"
     },
     "execution_count": 11,
     "metadata": {},
     "output_type": "execute_result"
    }
   ],
   "source": [
    "vehicle_sales.groupby(['make', 'trim', 'year'], observed=True)['sellingprice'].agg(\n",
    "  ['sum', 'count']\n",
    ")"
   ],
   "metadata": {
    "collapsed": false,
    "ExecuteTime": {
     "end_time": "2024-03-27T19:16:26.761852Z",
     "start_time": "2024-03-27T19:16:26.634915Z"
    }
   },
   "id": "b4d0fb8d7e0886dc",
   "execution_count": 11
  },
  {
   "cell_type": "code",
   "outputs": [
    {
     "data": {
      "text/plain": "make        Acura  Aston Martin         Audi          BMW    Bentley  \\\nyear                                                                   \n1984          NaN           NaN          NaN          NaN        NaN   \n1985          NaN           NaN          NaN          NaN        NaN   \n1986          NaN           NaN          NaN          NaN        NaN   \n1987          NaN           NaN          NaN          NaN        NaN   \n1989          NaN           NaN          NaN          NaN        NaN   \n1990          NaN           NaN          NaN          NaN        NaN   \n1991          NaN           NaN          NaN       6750.0        NaN   \n1992          NaN           NaN          NaN        450.0        NaN   \n1993       1150.0           NaN          NaN          NaN        NaN   \n1994       7050.0           NaN          NaN      14875.0        NaN   \n1995       3925.0           NaN          NaN      16050.0        NaN   \n1996      10600.0           NaN        300.0      23725.0        NaN   \n1997      30075.0           NaN       3150.0     110950.0        NaN   \n1998      33950.0           NaN      16500.0     122725.0        NaN   \n1999      89975.0           NaN      24200.0     202450.0        NaN   \n2000     124350.0           NaN      53225.0     523725.0        NaN   \n2001     295450.0           NaN     238075.0     981550.0        NaN   \n2002     495475.0           NaN     284650.0    1450300.0        NaN   \n2003     984050.0           NaN     607050.0    2125150.0        NaN   \n2004    1748100.0           NaN    1059675.0    4055125.0   101700.0   \n2005    2189600.0           NaN    1466675.0    4570250.0   849900.0   \n2006    2986300.0      132000.0    2062950.0   12201450.0  1174000.0   \n2007    4342200.0      653800.0    4453900.0   16067645.0  1624450.0   \n2008    4145000.0      273000.0    5845300.0   22568809.0   876350.0   \n2009    3386250.0      114000.0    6790825.0   14403900.0   329500.0   \n2010    4208650.0           NaN    6164950.0   11797050.0   197000.0   \n2011    5824850.0      197500.0    9893650.0   59856550.0   340500.0   \n2012   38498350.0           NaN   33549450.0  131153300.0  1331000.0   \n2013    6789150.0           NaN   21947650.0   60745350.0  1494250.0   \n2014    5835900.0           NaN   18699250.0   73003809.0   308000.0   \n2015     685500.0           NaN    3722250.0   28252700.0        NaN   \nTotal  82715900.0     1370300.0  116883675.0  444254638.0  8626650.0   \n\nmake        Buick     Cadillac    Chevrolet     Chrysler  Daewoo  ...  \\\nyear                                                              ...   \n1984          NaN          NaN          NaN          NaN     NaN  ...   \n1985          NaN          NaN          NaN          NaN     NaN  ...   \n1986          NaN          NaN          NaN          NaN     NaN  ...   \n1987          NaN          NaN          NaN          NaN     NaN  ...   \n1989          NaN          NaN          NaN          NaN     NaN  ...   \n1990          NaN        325.0      40400.0          NaN     NaN  ...   \n1991        500.0       2250.0      11200.0          NaN     NaN  ...   \n1992       4750.0       2250.0      17075.0          NaN     NaN  ...   \n1993        825.0       6650.0      13100.0          NaN     NaN  ...   \n1994       5200.0       7850.0      26600.0       1150.0     NaN  ...   \n1995      24450.0      16225.0      63775.0       2000.0     NaN  ...   \n1996       7700.0      13600.0      62250.0       4800.0     NaN  ...   \n1997      42150.0      41075.0      70350.0       4325.0     NaN  ...   \n1998      44575.0      40800.0     148000.0       7925.0     NaN  ...   \n1999      71000.0      81400.0     448075.0      45350.0     NaN  ...   \n2000     141675.0     170300.0     819275.0      63800.0     NaN  ...   \n2001     116875.0     133950.0    1719775.0     225300.0  1200.0  ...   \n2002     356175.0     470995.0    3338700.0     168250.0     NaN  ...   \n2003     367325.0    1025760.0    4770075.0     268425.0     NaN  ...   \n2004     542925.0    1540775.0    8006300.0     655425.0     NaN  ...   \n2005    1104350.0    2710345.0   12715450.0    3122725.0     NaN  ...   \n2006    1386175.0    3747600.0   14030434.0    5161525.0     NaN  ...   \n2007    1528310.0   11573950.0   32513100.0    6152630.0     NaN  ...   \n2008    4179950.0    9093120.0   34792200.0    7629820.0     NaN  ...   \n2009    2241050.0    6453775.0   28560430.0    3378410.0     NaN  ...   \n2010    3842800.0    7769490.0   40166071.0    6150065.0     NaN  ...   \n2011    6808128.0   17314399.0   68791486.0    6475900.0     NaN  ...   \n2012   10268401.0   22471705.0   96361360.0   18128432.0     NaN  ...   \n2013    8434811.0   15598209.0  156170058.0   40298015.0     NaN  ...   \n2014   10337300.0   10556223.0  171767385.0   86635744.0     NaN  ...   \n2015    2898650.0    3604850.0   45580475.0    8323050.0     NaN  ...   \nTotal  54756050.0  114447871.0  721003399.0  192903066.0  1200.0  ...   \n\nmake   plymouth  pontiac   porsche      smart    subaru   suzuki    toyota  \\\nyear                                                                         \n1984        NaN      NaN       NaN        NaN       NaN      NaN       NaN   \n1985        NaN      NaN       NaN        NaN       NaN      NaN       NaN   \n1986        NaN      NaN       NaN        NaN       NaN      NaN       NaN   \n1987        NaN      NaN       NaN        NaN       NaN      NaN       NaN   \n1989        NaN      NaN       NaN        NaN       NaN      NaN    1075.0   \n1990        NaN      NaN       NaN        NaN       NaN      NaN       NaN   \n1991        NaN      NaN       NaN        NaN       NaN      NaN    1725.0   \n1992        NaN      NaN       NaN        NaN       NaN      NaN       NaN   \n1993        NaN      NaN       NaN        NaN       NaN      NaN       NaN   \n1994        NaN      NaN       NaN        NaN       NaN      NaN     300.0   \n1995        NaN      NaN       NaN        NaN       NaN      NaN     500.0   \n1996        NaN      NaN       NaN        NaN    1900.0      NaN       NaN   \n1997      800.0   2000.0       NaN        NaN       NaN      NaN       NaN   \n1998     1525.0   2100.0       NaN        NaN    2750.0      NaN    4650.0   \n1999      700.0    700.0   29050.0        NaN    1750.0      NaN    8850.0   \n2000     1900.0    850.0       NaN        NaN    3225.0      NaN   38625.0   \n2001        NaN      NaN       NaN        NaN       NaN      NaN       NaN   \n2002        NaN      NaN       NaN        NaN       NaN      NaN    2500.0   \n2003        NaN      NaN   47250.0        NaN   45800.0      NaN    1400.0   \n2004        NaN      NaN   63750.0        NaN   38800.0      NaN       NaN   \n2005        NaN   2400.0       NaN     2000.0   33500.0      NaN       NaN   \n2006        NaN    400.0  246650.0        NaN   42100.0      NaN       NaN   \n2007        NaN  17700.0       NaN        NaN   52800.0   1800.0  557190.0   \n2008        NaN   7900.0   96500.0   182250.0       NaN   4550.0       NaN   \n2009        NaN  26850.0  104550.0   179400.0       NaN      NaN       NaN   \n2010        NaN  26400.0       NaN    44400.0       NaN      NaN       NaN   \n2011        NaN      NaN       NaN    78600.0       NaN      NaN   80400.0   \n2012        NaN      NaN       NaN   961000.0       NaN  17700.0       NaN   \n2013        NaN      NaN       NaN   822250.0       NaN      NaN       NaN   \n2014        NaN      NaN       NaN   172400.0       NaN      NaN       NaN   \n2015        NaN      NaN       NaN    27500.0       NaN      NaN       NaN   \nTotal    4925.0  87300.0  587750.0  2469800.0  222625.0  24050.0  697215.0   \n\nmake   volkswagen        vw         Total  \nyear                                       \n1984          NaN       NaN  3.100000e+03  \n1985          NaN       NaN  7.750000e+03  \n1986          NaN       NaN  1.000000e+04  \n1987          NaN       NaN  3.000000e+02  \n1989          NaN       NaN  1.177500e+04  \n1990          NaN       NaN  6.530000e+04  \n1991          NaN       NaN  6.012500e+04  \n1992          NaN       NaN  1.158500e+05  \n1993          NaN       NaN  1.313000e+05  \n1994          NaN       NaN  2.991250e+05  \n1995          NaN       NaN  5.694510e+05  \n1996          NaN       NaN  6.856250e+05  \n1997          NaN       NaN  1.461200e+06  \n1998          NaN       NaN  2.373135e+06  \n1999          NaN    1500.0  4.507570e+06  \n2000          NaN    3000.0  7.932464e+06  \n2001          NaN       NaN  1.370720e+07  \n2002          NaN    2150.0  2.516363e+07  \n2003      18900.0    1900.0  4.298442e+07  \n2004          NaN       NaN  7.044808e+07  \n2005      34100.0       NaN  9.886272e+07  \n2006       2600.0       NaN  1.540788e+08  \n2007       3800.0       NaN  2.350724e+08  \n2008          NaN       NaN  2.960864e+08  \n2009       8600.0       NaN  2.135190e+08  \n2010       6000.0       NaN  3.235963e+08  \n2011       6900.0   56800.0  7.655271e+08  \n2012          NaN       NaN  1.683337e+09  \n2013      21400.0   80200.0  1.714441e+09  \n2014      45200.0  182600.0  1.618341e+09  \n2015          NaN       NaN  2.406120e+08  \nTotal    147500.0  328150.0  7.514011e+09  \n\n[32 rows x 97 columns]",
      "text/html": "<div>\n<style scoped>\n    .dataframe tbody tr th:only-of-type {\n        vertical-align: middle;\n    }\n\n    .dataframe tbody tr th {\n        vertical-align: top;\n    }\n\n    .dataframe thead th {\n        text-align: right;\n    }\n</style>\n<table border=\"1\" class=\"dataframe\">\n  <thead>\n    <tr style=\"text-align: right;\">\n      <th>make</th>\n      <th>Acura</th>\n      <th>Aston Martin</th>\n      <th>Audi</th>\n      <th>BMW</th>\n      <th>Bentley</th>\n      <th>Buick</th>\n      <th>Cadillac</th>\n      <th>Chevrolet</th>\n      <th>Chrysler</th>\n      <th>Daewoo</th>\n      <th>...</th>\n      <th>plymouth</th>\n      <th>pontiac</th>\n      <th>porsche</th>\n      <th>smart</th>\n      <th>subaru</th>\n      <th>suzuki</th>\n      <th>toyota</th>\n      <th>volkswagen</th>\n      <th>vw</th>\n      <th>Total</th>\n    </tr>\n    <tr>\n      <th>year</th>\n      <th></th>\n      <th></th>\n      <th></th>\n      <th></th>\n      <th></th>\n      <th></th>\n      <th></th>\n      <th></th>\n      <th></th>\n      <th></th>\n      <th></th>\n      <th></th>\n      <th></th>\n      <th></th>\n      <th></th>\n      <th></th>\n      <th></th>\n      <th></th>\n      <th></th>\n      <th></th>\n      <th></th>\n    </tr>\n  </thead>\n  <tbody>\n    <tr>\n      <th>1984</th>\n      <td>NaN</td>\n      <td>NaN</td>\n      <td>NaN</td>\n      <td>NaN</td>\n      <td>NaN</td>\n      <td>NaN</td>\n      <td>NaN</td>\n      <td>NaN</td>\n      <td>NaN</td>\n      <td>NaN</td>\n      <td>...</td>\n      <td>NaN</td>\n      <td>NaN</td>\n      <td>NaN</td>\n      <td>NaN</td>\n      <td>NaN</td>\n      <td>NaN</td>\n      <td>NaN</td>\n      <td>NaN</td>\n      <td>NaN</td>\n      <td>3.100000e+03</td>\n    </tr>\n    <tr>\n      <th>1985</th>\n      <td>NaN</td>\n      <td>NaN</td>\n      <td>NaN</td>\n      <td>NaN</td>\n      <td>NaN</td>\n      <td>NaN</td>\n      <td>NaN</td>\n      <td>NaN</td>\n      <td>NaN</td>\n      <td>NaN</td>\n      <td>...</td>\n      <td>NaN</td>\n      <td>NaN</td>\n      <td>NaN</td>\n      <td>NaN</td>\n      <td>NaN</td>\n      <td>NaN</td>\n      <td>NaN</td>\n      <td>NaN</td>\n      <td>NaN</td>\n      <td>7.750000e+03</td>\n    </tr>\n    <tr>\n      <th>1986</th>\n      <td>NaN</td>\n      <td>NaN</td>\n      <td>NaN</td>\n      <td>NaN</td>\n      <td>NaN</td>\n      <td>NaN</td>\n      <td>NaN</td>\n      <td>NaN</td>\n      <td>NaN</td>\n      <td>NaN</td>\n      <td>...</td>\n      <td>NaN</td>\n      <td>NaN</td>\n      <td>NaN</td>\n      <td>NaN</td>\n      <td>NaN</td>\n      <td>NaN</td>\n      <td>NaN</td>\n      <td>NaN</td>\n      <td>NaN</td>\n      <td>1.000000e+04</td>\n    </tr>\n    <tr>\n      <th>1987</th>\n      <td>NaN</td>\n      <td>NaN</td>\n      <td>NaN</td>\n      <td>NaN</td>\n      <td>NaN</td>\n      <td>NaN</td>\n      <td>NaN</td>\n      <td>NaN</td>\n      <td>NaN</td>\n      <td>NaN</td>\n      <td>...</td>\n      <td>NaN</td>\n      <td>NaN</td>\n      <td>NaN</td>\n      <td>NaN</td>\n      <td>NaN</td>\n      <td>NaN</td>\n      <td>NaN</td>\n      <td>NaN</td>\n      <td>NaN</td>\n      <td>3.000000e+02</td>\n    </tr>\n    <tr>\n      <th>1989</th>\n      <td>NaN</td>\n      <td>NaN</td>\n      <td>NaN</td>\n      <td>NaN</td>\n      <td>NaN</td>\n      <td>NaN</td>\n      <td>NaN</td>\n      <td>NaN</td>\n      <td>NaN</td>\n      <td>NaN</td>\n      <td>...</td>\n      <td>NaN</td>\n      <td>NaN</td>\n      <td>NaN</td>\n      <td>NaN</td>\n      <td>NaN</td>\n      <td>NaN</td>\n      <td>1075.0</td>\n      <td>NaN</td>\n      <td>NaN</td>\n      <td>1.177500e+04</td>\n    </tr>\n    <tr>\n      <th>1990</th>\n      <td>NaN</td>\n      <td>NaN</td>\n      <td>NaN</td>\n      <td>NaN</td>\n      <td>NaN</td>\n      <td>NaN</td>\n      <td>325.0</td>\n      <td>40400.0</td>\n      <td>NaN</td>\n      <td>NaN</td>\n      <td>...</td>\n      <td>NaN</td>\n      <td>NaN</td>\n      <td>NaN</td>\n      <td>NaN</td>\n      <td>NaN</td>\n      <td>NaN</td>\n      <td>NaN</td>\n      <td>NaN</td>\n      <td>NaN</td>\n      <td>6.530000e+04</td>\n    </tr>\n    <tr>\n      <th>1991</th>\n      <td>NaN</td>\n      <td>NaN</td>\n      <td>NaN</td>\n      <td>6750.0</td>\n      <td>NaN</td>\n      <td>500.0</td>\n      <td>2250.0</td>\n      <td>11200.0</td>\n      <td>NaN</td>\n      <td>NaN</td>\n      <td>...</td>\n      <td>NaN</td>\n      <td>NaN</td>\n      <td>NaN</td>\n      <td>NaN</td>\n      <td>NaN</td>\n      <td>NaN</td>\n      <td>1725.0</td>\n      <td>NaN</td>\n      <td>NaN</td>\n      <td>6.012500e+04</td>\n    </tr>\n    <tr>\n      <th>1992</th>\n      <td>NaN</td>\n      <td>NaN</td>\n      <td>NaN</td>\n      <td>450.0</td>\n      <td>NaN</td>\n      <td>4750.0</td>\n      <td>2250.0</td>\n      <td>17075.0</td>\n      <td>NaN</td>\n      <td>NaN</td>\n      <td>...</td>\n      <td>NaN</td>\n      <td>NaN</td>\n      <td>NaN</td>\n      <td>NaN</td>\n      <td>NaN</td>\n      <td>NaN</td>\n      <td>NaN</td>\n      <td>NaN</td>\n      <td>NaN</td>\n      <td>1.158500e+05</td>\n    </tr>\n    <tr>\n      <th>1993</th>\n      <td>1150.0</td>\n      <td>NaN</td>\n      <td>NaN</td>\n      <td>NaN</td>\n      <td>NaN</td>\n      <td>825.0</td>\n      <td>6650.0</td>\n      <td>13100.0</td>\n      <td>NaN</td>\n      <td>NaN</td>\n      <td>...</td>\n      <td>NaN</td>\n      <td>NaN</td>\n      <td>NaN</td>\n      <td>NaN</td>\n      <td>NaN</td>\n      <td>NaN</td>\n      <td>NaN</td>\n      <td>NaN</td>\n      <td>NaN</td>\n      <td>1.313000e+05</td>\n    </tr>\n    <tr>\n      <th>1994</th>\n      <td>7050.0</td>\n      <td>NaN</td>\n      <td>NaN</td>\n      <td>14875.0</td>\n      <td>NaN</td>\n      <td>5200.0</td>\n      <td>7850.0</td>\n      <td>26600.0</td>\n      <td>1150.0</td>\n      <td>NaN</td>\n      <td>...</td>\n      <td>NaN</td>\n      <td>NaN</td>\n      <td>NaN</td>\n      <td>NaN</td>\n      <td>NaN</td>\n      <td>NaN</td>\n      <td>300.0</td>\n      <td>NaN</td>\n      <td>NaN</td>\n      <td>2.991250e+05</td>\n    </tr>\n    <tr>\n      <th>1995</th>\n      <td>3925.0</td>\n      <td>NaN</td>\n      <td>NaN</td>\n      <td>16050.0</td>\n      <td>NaN</td>\n      <td>24450.0</td>\n      <td>16225.0</td>\n      <td>63775.0</td>\n      <td>2000.0</td>\n      <td>NaN</td>\n      <td>...</td>\n      <td>NaN</td>\n      <td>NaN</td>\n      <td>NaN</td>\n      <td>NaN</td>\n      <td>NaN</td>\n      <td>NaN</td>\n      <td>500.0</td>\n      <td>NaN</td>\n      <td>NaN</td>\n      <td>5.694510e+05</td>\n    </tr>\n    <tr>\n      <th>1996</th>\n      <td>10600.0</td>\n      <td>NaN</td>\n      <td>300.0</td>\n      <td>23725.0</td>\n      <td>NaN</td>\n      <td>7700.0</td>\n      <td>13600.0</td>\n      <td>62250.0</td>\n      <td>4800.0</td>\n      <td>NaN</td>\n      <td>...</td>\n      <td>NaN</td>\n      <td>NaN</td>\n      <td>NaN</td>\n      <td>NaN</td>\n      <td>1900.0</td>\n      <td>NaN</td>\n      <td>NaN</td>\n      <td>NaN</td>\n      <td>NaN</td>\n      <td>6.856250e+05</td>\n    </tr>\n    <tr>\n      <th>1997</th>\n      <td>30075.0</td>\n      <td>NaN</td>\n      <td>3150.0</td>\n      <td>110950.0</td>\n      <td>NaN</td>\n      <td>42150.0</td>\n      <td>41075.0</td>\n      <td>70350.0</td>\n      <td>4325.0</td>\n      <td>NaN</td>\n      <td>...</td>\n      <td>800.0</td>\n      <td>2000.0</td>\n      <td>NaN</td>\n      <td>NaN</td>\n      <td>NaN</td>\n      <td>NaN</td>\n      <td>NaN</td>\n      <td>NaN</td>\n      <td>NaN</td>\n      <td>1.461200e+06</td>\n    </tr>\n    <tr>\n      <th>1998</th>\n      <td>33950.0</td>\n      <td>NaN</td>\n      <td>16500.0</td>\n      <td>122725.0</td>\n      <td>NaN</td>\n      <td>44575.0</td>\n      <td>40800.0</td>\n      <td>148000.0</td>\n      <td>7925.0</td>\n      <td>NaN</td>\n      <td>...</td>\n      <td>1525.0</td>\n      <td>2100.0</td>\n      <td>NaN</td>\n      <td>NaN</td>\n      <td>2750.0</td>\n      <td>NaN</td>\n      <td>4650.0</td>\n      <td>NaN</td>\n      <td>NaN</td>\n      <td>2.373135e+06</td>\n    </tr>\n    <tr>\n      <th>1999</th>\n      <td>89975.0</td>\n      <td>NaN</td>\n      <td>24200.0</td>\n      <td>202450.0</td>\n      <td>NaN</td>\n      <td>71000.0</td>\n      <td>81400.0</td>\n      <td>448075.0</td>\n      <td>45350.0</td>\n      <td>NaN</td>\n      <td>...</td>\n      <td>700.0</td>\n      <td>700.0</td>\n      <td>29050.0</td>\n      <td>NaN</td>\n      <td>1750.0</td>\n      <td>NaN</td>\n      <td>8850.0</td>\n      <td>NaN</td>\n      <td>1500.0</td>\n      <td>4.507570e+06</td>\n    </tr>\n    <tr>\n      <th>2000</th>\n      <td>124350.0</td>\n      <td>NaN</td>\n      <td>53225.0</td>\n      <td>523725.0</td>\n      <td>NaN</td>\n      <td>141675.0</td>\n      <td>170300.0</td>\n      <td>819275.0</td>\n      <td>63800.0</td>\n      <td>NaN</td>\n      <td>...</td>\n      <td>1900.0</td>\n      <td>850.0</td>\n      <td>NaN</td>\n      <td>NaN</td>\n      <td>3225.0</td>\n      <td>NaN</td>\n      <td>38625.0</td>\n      <td>NaN</td>\n      <td>3000.0</td>\n      <td>7.932464e+06</td>\n    </tr>\n    <tr>\n      <th>2001</th>\n      <td>295450.0</td>\n      <td>NaN</td>\n      <td>238075.0</td>\n      <td>981550.0</td>\n      <td>NaN</td>\n      <td>116875.0</td>\n      <td>133950.0</td>\n      <td>1719775.0</td>\n      <td>225300.0</td>\n      <td>1200.0</td>\n      <td>...</td>\n      <td>NaN</td>\n      <td>NaN</td>\n      <td>NaN</td>\n      <td>NaN</td>\n      <td>NaN</td>\n      <td>NaN</td>\n      <td>NaN</td>\n      <td>NaN</td>\n      <td>NaN</td>\n      <td>1.370720e+07</td>\n    </tr>\n    <tr>\n      <th>2002</th>\n      <td>495475.0</td>\n      <td>NaN</td>\n      <td>284650.0</td>\n      <td>1450300.0</td>\n      <td>NaN</td>\n      <td>356175.0</td>\n      <td>470995.0</td>\n      <td>3338700.0</td>\n      <td>168250.0</td>\n      <td>NaN</td>\n      <td>...</td>\n      <td>NaN</td>\n      <td>NaN</td>\n      <td>NaN</td>\n      <td>NaN</td>\n      <td>NaN</td>\n      <td>NaN</td>\n      <td>2500.0</td>\n      <td>NaN</td>\n      <td>2150.0</td>\n      <td>2.516363e+07</td>\n    </tr>\n    <tr>\n      <th>2003</th>\n      <td>984050.0</td>\n      <td>NaN</td>\n      <td>607050.0</td>\n      <td>2125150.0</td>\n      <td>NaN</td>\n      <td>367325.0</td>\n      <td>1025760.0</td>\n      <td>4770075.0</td>\n      <td>268425.0</td>\n      <td>NaN</td>\n      <td>...</td>\n      <td>NaN</td>\n      <td>NaN</td>\n      <td>47250.0</td>\n      <td>NaN</td>\n      <td>45800.0</td>\n      <td>NaN</td>\n      <td>1400.0</td>\n      <td>18900.0</td>\n      <td>1900.0</td>\n      <td>4.298442e+07</td>\n    </tr>\n    <tr>\n      <th>2004</th>\n      <td>1748100.0</td>\n      <td>NaN</td>\n      <td>1059675.0</td>\n      <td>4055125.0</td>\n      <td>101700.0</td>\n      <td>542925.0</td>\n      <td>1540775.0</td>\n      <td>8006300.0</td>\n      <td>655425.0</td>\n      <td>NaN</td>\n      <td>...</td>\n      <td>NaN</td>\n      <td>NaN</td>\n      <td>63750.0</td>\n      <td>NaN</td>\n      <td>38800.0</td>\n      <td>NaN</td>\n      <td>NaN</td>\n      <td>NaN</td>\n      <td>NaN</td>\n      <td>7.044808e+07</td>\n    </tr>\n    <tr>\n      <th>2005</th>\n      <td>2189600.0</td>\n      <td>NaN</td>\n      <td>1466675.0</td>\n      <td>4570250.0</td>\n      <td>849900.0</td>\n      <td>1104350.0</td>\n      <td>2710345.0</td>\n      <td>12715450.0</td>\n      <td>3122725.0</td>\n      <td>NaN</td>\n      <td>...</td>\n      <td>NaN</td>\n      <td>2400.0</td>\n      <td>NaN</td>\n      <td>2000.0</td>\n      <td>33500.0</td>\n      <td>NaN</td>\n      <td>NaN</td>\n      <td>34100.0</td>\n      <td>NaN</td>\n      <td>9.886272e+07</td>\n    </tr>\n    <tr>\n      <th>2006</th>\n      <td>2986300.0</td>\n      <td>132000.0</td>\n      <td>2062950.0</td>\n      <td>12201450.0</td>\n      <td>1174000.0</td>\n      <td>1386175.0</td>\n      <td>3747600.0</td>\n      <td>14030434.0</td>\n      <td>5161525.0</td>\n      <td>NaN</td>\n      <td>...</td>\n      <td>NaN</td>\n      <td>400.0</td>\n      <td>246650.0</td>\n      <td>NaN</td>\n      <td>42100.0</td>\n      <td>NaN</td>\n      <td>NaN</td>\n      <td>2600.0</td>\n      <td>NaN</td>\n      <td>1.540788e+08</td>\n    </tr>\n    <tr>\n      <th>2007</th>\n      <td>4342200.0</td>\n      <td>653800.0</td>\n      <td>4453900.0</td>\n      <td>16067645.0</td>\n      <td>1624450.0</td>\n      <td>1528310.0</td>\n      <td>11573950.0</td>\n      <td>32513100.0</td>\n      <td>6152630.0</td>\n      <td>NaN</td>\n      <td>...</td>\n      <td>NaN</td>\n      <td>17700.0</td>\n      <td>NaN</td>\n      <td>NaN</td>\n      <td>52800.0</td>\n      <td>1800.0</td>\n      <td>557190.0</td>\n      <td>3800.0</td>\n      <td>NaN</td>\n      <td>2.350724e+08</td>\n    </tr>\n    <tr>\n      <th>2008</th>\n      <td>4145000.0</td>\n      <td>273000.0</td>\n      <td>5845300.0</td>\n      <td>22568809.0</td>\n      <td>876350.0</td>\n      <td>4179950.0</td>\n      <td>9093120.0</td>\n      <td>34792200.0</td>\n      <td>7629820.0</td>\n      <td>NaN</td>\n      <td>...</td>\n      <td>NaN</td>\n      <td>7900.0</td>\n      <td>96500.0</td>\n      <td>182250.0</td>\n      <td>NaN</td>\n      <td>4550.0</td>\n      <td>NaN</td>\n      <td>NaN</td>\n      <td>NaN</td>\n      <td>2.960864e+08</td>\n    </tr>\n    <tr>\n      <th>2009</th>\n      <td>3386250.0</td>\n      <td>114000.0</td>\n      <td>6790825.0</td>\n      <td>14403900.0</td>\n      <td>329500.0</td>\n      <td>2241050.0</td>\n      <td>6453775.0</td>\n      <td>28560430.0</td>\n      <td>3378410.0</td>\n      <td>NaN</td>\n      <td>...</td>\n      <td>NaN</td>\n      <td>26850.0</td>\n      <td>104550.0</td>\n      <td>179400.0</td>\n      <td>NaN</td>\n      <td>NaN</td>\n      <td>NaN</td>\n      <td>8600.0</td>\n      <td>NaN</td>\n      <td>2.135190e+08</td>\n    </tr>\n    <tr>\n      <th>2010</th>\n      <td>4208650.0</td>\n      <td>NaN</td>\n      <td>6164950.0</td>\n      <td>11797050.0</td>\n      <td>197000.0</td>\n      <td>3842800.0</td>\n      <td>7769490.0</td>\n      <td>40166071.0</td>\n      <td>6150065.0</td>\n      <td>NaN</td>\n      <td>...</td>\n      <td>NaN</td>\n      <td>26400.0</td>\n      <td>NaN</td>\n      <td>44400.0</td>\n      <td>NaN</td>\n      <td>NaN</td>\n      <td>NaN</td>\n      <td>6000.0</td>\n      <td>NaN</td>\n      <td>3.235963e+08</td>\n    </tr>\n    <tr>\n      <th>2011</th>\n      <td>5824850.0</td>\n      <td>197500.0</td>\n      <td>9893650.0</td>\n      <td>59856550.0</td>\n      <td>340500.0</td>\n      <td>6808128.0</td>\n      <td>17314399.0</td>\n      <td>68791486.0</td>\n      <td>6475900.0</td>\n      <td>NaN</td>\n      <td>...</td>\n      <td>NaN</td>\n      <td>NaN</td>\n      <td>NaN</td>\n      <td>78600.0</td>\n      <td>NaN</td>\n      <td>NaN</td>\n      <td>80400.0</td>\n      <td>6900.0</td>\n      <td>56800.0</td>\n      <td>7.655271e+08</td>\n    </tr>\n    <tr>\n      <th>2012</th>\n      <td>38498350.0</td>\n      <td>NaN</td>\n      <td>33549450.0</td>\n      <td>131153300.0</td>\n      <td>1331000.0</td>\n      <td>10268401.0</td>\n      <td>22471705.0</td>\n      <td>96361360.0</td>\n      <td>18128432.0</td>\n      <td>NaN</td>\n      <td>...</td>\n      <td>NaN</td>\n      <td>NaN</td>\n      <td>NaN</td>\n      <td>961000.0</td>\n      <td>NaN</td>\n      <td>17700.0</td>\n      <td>NaN</td>\n      <td>NaN</td>\n      <td>NaN</td>\n      <td>1.683337e+09</td>\n    </tr>\n    <tr>\n      <th>2013</th>\n      <td>6789150.0</td>\n      <td>NaN</td>\n      <td>21947650.0</td>\n      <td>60745350.0</td>\n      <td>1494250.0</td>\n      <td>8434811.0</td>\n      <td>15598209.0</td>\n      <td>156170058.0</td>\n      <td>40298015.0</td>\n      <td>NaN</td>\n      <td>...</td>\n      <td>NaN</td>\n      <td>NaN</td>\n      <td>NaN</td>\n      <td>822250.0</td>\n      <td>NaN</td>\n      <td>NaN</td>\n      <td>NaN</td>\n      <td>21400.0</td>\n      <td>80200.0</td>\n      <td>1.714441e+09</td>\n    </tr>\n    <tr>\n      <th>2014</th>\n      <td>5835900.0</td>\n      <td>NaN</td>\n      <td>18699250.0</td>\n      <td>73003809.0</td>\n      <td>308000.0</td>\n      <td>10337300.0</td>\n      <td>10556223.0</td>\n      <td>171767385.0</td>\n      <td>86635744.0</td>\n      <td>NaN</td>\n      <td>...</td>\n      <td>NaN</td>\n      <td>NaN</td>\n      <td>NaN</td>\n      <td>172400.0</td>\n      <td>NaN</td>\n      <td>NaN</td>\n      <td>NaN</td>\n      <td>45200.0</td>\n      <td>182600.0</td>\n      <td>1.618341e+09</td>\n    </tr>\n    <tr>\n      <th>2015</th>\n      <td>685500.0</td>\n      <td>NaN</td>\n      <td>3722250.0</td>\n      <td>28252700.0</td>\n      <td>NaN</td>\n      <td>2898650.0</td>\n      <td>3604850.0</td>\n      <td>45580475.0</td>\n      <td>8323050.0</td>\n      <td>NaN</td>\n      <td>...</td>\n      <td>NaN</td>\n      <td>NaN</td>\n      <td>NaN</td>\n      <td>27500.0</td>\n      <td>NaN</td>\n      <td>NaN</td>\n      <td>NaN</td>\n      <td>NaN</td>\n      <td>NaN</td>\n      <td>2.406120e+08</td>\n    </tr>\n    <tr>\n      <th>Total</th>\n      <td>82715900.0</td>\n      <td>1370300.0</td>\n      <td>116883675.0</td>\n      <td>444254638.0</td>\n      <td>8626650.0</td>\n      <td>54756050.0</td>\n      <td>114447871.0</td>\n      <td>721003399.0</td>\n      <td>192903066.0</td>\n      <td>1200.0</td>\n      <td>...</td>\n      <td>4925.0</td>\n      <td>87300.0</td>\n      <td>587750.0</td>\n      <td>2469800.0</td>\n      <td>222625.0</td>\n      <td>24050.0</td>\n      <td>697215.0</td>\n      <td>147500.0</td>\n      <td>328150.0</td>\n      <td>7.514011e+09</td>\n    </tr>\n  </tbody>\n</table>\n<p>32 rows × 97 columns</p>\n</div>"
     },
     "execution_count": 12,
     "metadata": {},
     "output_type": "execute_result"
    }
   ],
   "source": [
    "# Filter out rows where 'make' is 'unknown'\n",
    "filtered_vehicle_sales = vehicle_sales[vehicle_sales['make'] != 'unknown']\n",
    "\n",
    "# Create the pivot table on the filtered data\n",
    "pivot_table = filtered_vehicle_sales.pivot_table(columns='make', index='year', values='sellingprice',\n",
    "                                                 aggfunc='sum', observed=True, margins=True, margins_name='Total').dropna(how='all')\n",
    "pivot_table"
   ],
   "metadata": {
    "collapsed": false,
    "ExecuteTime": {
     "end_time": "2024-03-27T19:16:27.080749Z",
     "start_time": "2024-03-27T19:16:26.763860Z"
    }
   },
   "id": "98e1228fcfde2f",
   "execution_count": 12
  },
  {
   "cell_type": "code",
   "outputs": [],
   "source": [
    "vehicle_sales_sell_price_quartiles = pd.qcut(vehicle_sales['sellingprice'], q=4, labels=['Q1', 'Q2', 'Q3', 'Q4'])\n",
    "vehicle_sales.insert(15, 'Sell price quartiles', vehicle_sales_sell_price_quartiles)"
   ],
   "metadata": {
    "collapsed": false,
    "ExecuteTime": {
     "end_time": "2024-03-27T19:16:27.118382Z",
     "start_time": "2024-03-27T19:16:27.081757Z"
    }
   },
   "id": "1a5438dc5cb0b514",
   "execution_count": 13
  },
  {
   "cell_type": "code",
   "outputs": [
    {
     "data": {
      "text/plain": "        year    make                model         trim       body  \\\n0       2015     Kia              Sorento           LX        SUV   \n1       2015     Kia              Sorento           LX        SUV   \n2       2014     BMW             3 Series   328i SULEV      Sedan   \n3       2015   Volvo                  S60           T5      Sedan   \n4       2014     BMW  6 Series Gran Coupe         650i      Sedan   \n...      ...     ...                  ...          ...        ...   \n558832  2015     Kia                 K900       Luxury      Sedan   \n558833  2012     Ram                 2500  Power Wagon   Crew Cab   \n558834  2012     BMW                   X5    xDrive35d        SUV   \n558835  2015  Nissan               Altima        2.5 S      sedan   \n558836  2014    Ford                F-150          XLT  SuperCrew   \n\n       transmission                vin state  condition  odometer   color  \\\n0         automatic  5xyktca69fg566472    ca        5.0   16639.0   white   \n1         automatic  5xyktca69fg561319    ca        5.0    9393.0   white   \n2         automatic  wba3c1c51ek116351    ca       45.0    1331.0    gray   \n3         automatic  yv1612tb4f1310987    ca       41.0   14282.0   white   \n4         automatic  wba6b2c57ed129731    ca       43.0    2641.0    gray   \n...             ...                ...   ...        ...       ...     ...   \n558832          NaN  knalw4d4xf6019304    in       45.0   18255.0  silver   \n558833    automatic  3c6td5et6cg112407    wa        5.0   54393.0   white   \n558834    automatic  5uxzw0c58cl668465    ca       48.0   50561.0   black   \n558835    automatic  1n4al3ap0fc216050    ga       38.0   16658.0   white   \n558836    automatic  1ftfw1et2eke87277    ca       34.0   15008.0    gray   \n\n       interior                                             seller      mmr  \\\n0         black                            kia motors america  inc  20500.0   \n1         beige                            kia motors america  inc  20800.0   \n2         black             financial services remarketing (lease)  31900.0   \n3         black                            volvo na rep/world omni  27500.0   \n4         black             financial services remarketing (lease)  66000.0   \n...         ...                                                ...      ...   \n558832    black                                   avis corporation  35300.0   \n558833    black                                    i -5 uhlmann rv  30200.0   \n558834    black             financial services remarketing (lease)  29800.0   \n558835    black  enterprise vehicle exchange / tra / rental / t...  15100.0   \n558836     gray                   ford motor credit company llc pd  29600.0   \n\n        sellingprice Sell price quartiles  \\\n0            21500.0                   Q4   \n1            21500.0                   Q4   \n2            30000.0                   Q4   \n3            27750.0                   Q4   \n4            67000.0                   Q4   \n...              ...                  ...   \n558832       33000.0                   Q4   \n558833       30800.0                   Q4   \n558834       34000.0                   Q4   \n558835       11100.0                   Q2   \n558836       26700.0                   Q4   \n\n                                       saledate  \n0       Tue Dec 16 2014 12:30:00 GMT-0800 (PST)  \n1       Tue Dec 16 2014 12:30:00 GMT-0800 (PST)  \n2       Thu Jan 15 2015 04:30:00 GMT-0800 (PST)  \n3       Thu Jan 29 2015 04:30:00 GMT-0800 (PST)  \n4       Thu Dec 18 2014 12:30:00 GMT-0800 (PST)  \n...                                         ...  \n558832  Thu Jul 09 2015 07:00:00 GMT-0700 (PDT)  \n558833  Wed Jul 08 2015 09:30:00 GMT-0700 (PDT)  \n558834  Wed Jul 08 2015 09:30:00 GMT-0700 (PDT)  \n558835  Thu Jul 09 2015 06:45:00 GMT-0700 (PDT)  \n558836  Thu May 28 2015 05:30:00 GMT-0700 (PDT)  \n\n[558837 rows x 17 columns]",
      "text/html": "<div>\n<style scoped>\n    .dataframe tbody tr th:only-of-type {\n        vertical-align: middle;\n    }\n\n    .dataframe tbody tr th {\n        vertical-align: top;\n    }\n\n    .dataframe thead th {\n        text-align: right;\n    }\n</style>\n<table border=\"1\" class=\"dataframe\">\n  <thead>\n    <tr style=\"text-align: right;\">\n      <th></th>\n      <th>year</th>\n      <th>make</th>\n      <th>model</th>\n      <th>trim</th>\n      <th>body</th>\n      <th>transmission</th>\n      <th>vin</th>\n      <th>state</th>\n      <th>condition</th>\n      <th>odometer</th>\n      <th>color</th>\n      <th>interior</th>\n      <th>seller</th>\n      <th>mmr</th>\n      <th>sellingprice</th>\n      <th>Sell price quartiles</th>\n      <th>saledate</th>\n    </tr>\n  </thead>\n  <tbody>\n    <tr>\n      <th>0</th>\n      <td>2015</td>\n      <td>Kia</td>\n      <td>Sorento</td>\n      <td>LX</td>\n      <td>SUV</td>\n      <td>automatic</td>\n      <td>5xyktca69fg566472</td>\n      <td>ca</td>\n      <td>5.0</td>\n      <td>16639.0</td>\n      <td>white</td>\n      <td>black</td>\n      <td>kia motors america  inc</td>\n      <td>20500.0</td>\n      <td>21500.0</td>\n      <td>Q4</td>\n      <td>Tue Dec 16 2014 12:30:00 GMT-0800 (PST)</td>\n    </tr>\n    <tr>\n      <th>1</th>\n      <td>2015</td>\n      <td>Kia</td>\n      <td>Sorento</td>\n      <td>LX</td>\n      <td>SUV</td>\n      <td>automatic</td>\n      <td>5xyktca69fg561319</td>\n      <td>ca</td>\n      <td>5.0</td>\n      <td>9393.0</td>\n      <td>white</td>\n      <td>beige</td>\n      <td>kia motors america  inc</td>\n      <td>20800.0</td>\n      <td>21500.0</td>\n      <td>Q4</td>\n      <td>Tue Dec 16 2014 12:30:00 GMT-0800 (PST)</td>\n    </tr>\n    <tr>\n      <th>2</th>\n      <td>2014</td>\n      <td>BMW</td>\n      <td>3 Series</td>\n      <td>328i SULEV</td>\n      <td>Sedan</td>\n      <td>automatic</td>\n      <td>wba3c1c51ek116351</td>\n      <td>ca</td>\n      <td>45.0</td>\n      <td>1331.0</td>\n      <td>gray</td>\n      <td>black</td>\n      <td>financial services remarketing (lease)</td>\n      <td>31900.0</td>\n      <td>30000.0</td>\n      <td>Q4</td>\n      <td>Thu Jan 15 2015 04:30:00 GMT-0800 (PST)</td>\n    </tr>\n    <tr>\n      <th>3</th>\n      <td>2015</td>\n      <td>Volvo</td>\n      <td>S60</td>\n      <td>T5</td>\n      <td>Sedan</td>\n      <td>automatic</td>\n      <td>yv1612tb4f1310987</td>\n      <td>ca</td>\n      <td>41.0</td>\n      <td>14282.0</td>\n      <td>white</td>\n      <td>black</td>\n      <td>volvo na rep/world omni</td>\n      <td>27500.0</td>\n      <td>27750.0</td>\n      <td>Q4</td>\n      <td>Thu Jan 29 2015 04:30:00 GMT-0800 (PST)</td>\n    </tr>\n    <tr>\n      <th>4</th>\n      <td>2014</td>\n      <td>BMW</td>\n      <td>6 Series Gran Coupe</td>\n      <td>650i</td>\n      <td>Sedan</td>\n      <td>automatic</td>\n      <td>wba6b2c57ed129731</td>\n      <td>ca</td>\n      <td>43.0</td>\n      <td>2641.0</td>\n      <td>gray</td>\n      <td>black</td>\n      <td>financial services remarketing (lease)</td>\n      <td>66000.0</td>\n      <td>67000.0</td>\n      <td>Q4</td>\n      <td>Thu Dec 18 2014 12:30:00 GMT-0800 (PST)</td>\n    </tr>\n    <tr>\n      <th>...</th>\n      <td>...</td>\n      <td>...</td>\n      <td>...</td>\n      <td>...</td>\n      <td>...</td>\n      <td>...</td>\n      <td>...</td>\n      <td>...</td>\n      <td>...</td>\n      <td>...</td>\n      <td>...</td>\n      <td>...</td>\n      <td>...</td>\n      <td>...</td>\n      <td>...</td>\n      <td>...</td>\n      <td>...</td>\n    </tr>\n    <tr>\n      <th>558832</th>\n      <td>2015</td>\n      <td>Kia</td>\n      <td>K900</td>\n      <td>Luxury</td>\n      <td>Sedan</td>\n      <td>NaN</td>\n      <td>knalw4d4xf6019304</td>\n      <td>in</td>\n      <td>45.0</td>\n      <td>18255.0</td>\n      <td>silver</td>\n      <td>black</td>\n      <td>avis corporation</td>\n      <td>35300.0</td>\n      <td>33000.0</td>\n      <td>Q4</td>\n      <td>Thu Jul 09 2015 07:00:00 GMT-0700 (PDT)</td>\n    </tr>\n    <tr>\n      <th>558833</th>\n      <td>2012</td>\n      <td>Ram</td>\n      <td>2500</td>\n      <td>Power Wagon</td>\n      <td>Crew Cab</td>\n      <td>automatic</td>\n      <td>3c6td5et6cg112407</td>\n      <td>wa</td>\n      <td>5.0</td>\n      <td>54393.0</td>\n      <td>white</td>\n      <td>black</td>\n      <td>i -5 uhlmann rv</td>\n      <td>30200.0</td>\n      <td>30800.0</td>\n      <td>Q4</td>\n      <td>Wed Jul 08 2015 09:30:00 GMT-0700 (PDT)</td>\n    </tr>\n    <tr>\n      <th>558834</th>\n      <td>2012</td>\n      <td>BMW</td>\n      <td>X5</td>\n      <td>xDrive35d</td>\n      <td>SUV</td>\n      <td>automatic</td>\n      <td>5uxzw0c58cl668465</td>\n      <td>ca</td>\n      <td>48.0</td>\n      <td>50561.0</td>\n      <td>black</td>\n      <td>black</td>\n      <td>financial services remarketing (lease)</td>\n      <td>29800.0</td>\n      <td>34000.0</td>\n      <td>Q4</td>\n      <td>Wed Jul 08 2015 09:30:00 GMT-0700 (PDT)</td>\n    </tr>\n    <tr>\n      <th>558835</th>\n      <td>2015</td>\n      <td>Nissan</td>\n      <td>Altima</td>\n      <td>2.5 S</td>\n      <td>sedan</td>\n      <td>automatic</td>\n      <td>1n4al3ap0fc216050</td>\n      <td>ga</td>\n      <td>38.0</td>\n      <td>16658.0</td>\n      <td>white</td>\n      <td>black</td>\n      <td>enterprise vehicle exchange / tra / rental / t...</td>\n      <td>15100.0</td>\n      <td>11100.0</td>\n      <td>Q2</td>\n      <td>Thu Jul 09 2015 06:45:00 GMT-0700 (PDT)</td>\n    </tr>\n    <tr>\n      <th>558836</th>\n      <td>2014</td>\n      <td>Ford</td>\n      <td>F-150</td>\n      <td>XLT</td>\n      <td>SuperCrew</td>\n      <td>automatic</td>\n      <td>1ftfw1et2eke87277</td>\n      <td>ca</td>\n      <td>34.0</td>\n      <td>15008.0</td>\n      <td>gray</td>\n      <td>gray</td>\n      <td>ford motor credit company llc pd</td>\n      <td>29600.0</td>\n      <td>26700.0</td>\n      <td>Q4</td>\n      <td>Thu May 28 2015 05:30:00 GMT-0700 (PDT)</td>\n    </tr>\n  </tbody>\n</table>\n<p>558837 rows × 17 columns</p>\n</div>"
     },
     "execution_count": 14,
     "metadata": {},
     "output_type": "execute_result"
    }
   ],
   "source": [
    "highest_quartile_vehicles = vehicle_sales[vehicle_sales['Sell price quartiles'] == 'Q4']\n",
    "vehicle_sales"
   ],
   "metadata": {
    "collapsed": false,
    "ExecuteTime": {
     "end_time": "2024-03-27T19:16:27.171240Z",
     "start_time": "2024-03-27T19:16:27.118382Z"
    }
   },
   "id": "997aed7c1c73d59d",
   "execution_count": 14
  },
  {
   "cell_type": "code",
   "outputs": [
    {
     "data": {
      "text/plain": "344905"
     },
     "execution_count": 15,
     "metadata": {},
     "output_type": "execute_result"
    }
   ],
   "source": [
    "vehicle_sales['sellingprice'].idxmax()"
   ],
   "metadata": {
    "collapsed": false,
    "ExecuteTime": {
     "end_time": "2024-03-27T19:16:27.184573Z",
     "start_time": "2024-03-27T19:16:27.172248Z"
    }
   },
   "id": "66639629b3d472d3",
   "execution_count": 15
  },
  {
   "cell_type": "code",
   "outputs": [
    {
     "data": {
      "text/plain": "body           Access Cab  Beetle Convertible  CTS Coupe  CTS Wagon  \\\nmake                                                                  \nAcura                   0                   0          0          0   \nAston Martin            0                   0          0          0   \nAudi                    0                   0          0          0   \nBMW                     0                   0          0          0   \nBentley                 0                   0          0          0   \nBuick                   0                   0          0          0   \nCadillac                0                   0        129         13   \nChevrolet               0                   0          0          0   \nChrysler                0                   0          0          0   \nDaewoo                  0                   0          0          0   \nDodge                   0                   0          0          0   \nFIAT                    0                   0          0          0   \nFerrari                 0                   0          0          0   \nFisker                  0                   0          0          0   \nFord                    0                   0          0          0   \nGMC                     0                   0          0          0   \nGeo                     0                   0          0          0   \nHUMMER                  0                   0          0          0   \nHonda                   0                   0          0          0   \nHyundai                 0                   0          0          0   \nInfiniti                0                   0          0          0   \nIsuzu                   0                   0          0          0   \nJaguar                  0                   0          0          0   \nJeep                    0                   0          0          0   \nKia                     0                   0          0          0   \nLamborghini             0                   0          0          0   \nLand Rover              0                   0          0          0   \nLexus                   0                   0          0          0   \nLincoln                 0                   0          0          0   \nLotus                   0                   0          0          0   \nMINI                    0                   0          0          0   \nMaserati                0                   0          0          0   \nMazda                   0                   0          0          0   \nMercedes-Benz           0                   0          0          0   \nMercury                 0                   0          0          0   \nMitsubishi              0                   0          0          0   \nNissan                  0                   0          0          0   \nOldsmobile              0                   0          0          0   \nPlymouth                0                   0          0          0   \nPontiac                 0                   0          0          0   \nPorsche                 0                   0          0          0   \nRam                     0                   0          0          0   \nRolls-Royce             0                   0          0          0   \nSaab                    0                   0          0          0   \nSaturn                  0                   0          0          0   \nScion                   0                   0          0          0   \nSubaru                  0                   0          0          0   \nSuzuki                  0                   0          0          0   \nTesla                   0                   0          0          0   \nToyota                232                   0          0          0   \nVolkswagen              0                  52          0          0   \nVolvo                   0                   0          0          0   \nsmart                   0                   0          0          0   \nTotal                 232                  52        129         13   \n\nbody           CTS-V Coupe  CTS-V Wagon  Cab Plus  Cab Plus 4  Club Cab  \\\nmake                                                                      \nAcura                    0            0         0           0         0   \nAston Martin             0            0         0           0         0   \nAudi                     0            0         0           0         0   \nBMW                      0            0         0           0         0   \nBentley                  0            0         0           0         0   \nBuick                    0            0         0           0         0   \nCadillac                28            1         0           0         0   \nChevrolet                0            0         0           0         0   \nChrysler                 0            0         0           0         0   \nDaewoo                   0            0         0           0         0   \nDodge                    0            0         0           0       156   \nFIAT                     0            0         0           0         0   \nFerrari                  0            0         0           0         0   \nFisker                   0            0         0           0         0   \nFord                     0            0         0           0         0   \nGMC                      0            0         0           0         0   \nGeo                      0            0         0           0         0   \nHUMMER                   0            0         0           0         0   \nHonda                    0            0         0           0         0   \nHyundai                  0            0         0           0         0   \nInfiniti                 0            0         0           0         0   \nIsuzu                    0            0         0           0         0   \nJaguar                   0            0         0           0         0   \nJeep                     0            0         0           0         0   \nKia                      0            0         0           0         0   \nLamborghini              0            0         0           0         0   \nLand Rover               0            0         0           0         0   \nLexus                    0            0         0           0         0   \nLincoln                  0            0         0           0         0   \nLotus                    0            0         0           0         0   \nMINI                     0            0         0           0         0   \nMaserati                 0            0         0           0         0   \nMazda                    0            0         4           5         0   \nMercedes-Benz            0            0         0           0         0   \nMercury                  0            0         0           0         0   \nMitsubishi               0            0         0           0         0   \nNissan                   0            0         0           0         0   \nOldsmobile               0            0         0           0         0   \nPlymouth                 0            0         0           0         0   \nPontiac                  0            0         0           0         0   \nPorsche                  0            0         0           0         0   \nRam                      0            0         0           0         0   \nRolls-Royce              0            0         0           0         0   \nSaab                     0            0         0           0         0   \nSaturn                   0            0         0           0         0   \nScion                    0            0         0           0         0   \nSubaru                   0            0         0           0         0   \nSuzuki                   0            0         0           0         0   \nTesla                    0            0         0           0         0   \nToyota                   0            0         0           0         0   \nVolkswagen               0            0         0           0         0   \nVolvo                    0            0         0           0         0   \nsmart                    0            0         0           0         0   \nTotal                   28            1         4           5       156   \n\nbody           Convertible  ...  sedan  supercab  supercrew    suv  \\\nmake                        ...                                      \nAcura                    0  ...    564         0          0    384   \nAston Martin             9  ...      0         0          0      0   \nAudi                   338  ...    736         0          0    279   \nBMW                   1767  ...   2210         0          0    885   \nBentley                 25  ...      6         0          0      0   \nBuick                    0  ...    618         0          0    246   \nCadillac                22  ...    560         0          0    526   \nChevrolet              611  ...   4012         0          0   2397   \nChrysler               621  ...   1500         0          0     31   \nDaewoo                   0  ...      0         0          0      0   \nDodge                    6  ...   1878         0          0    851   \nFIAT                    58  ...      0         0          0      0   \nFerrari                 10  ...      0         0          0      0   \nFisker                   0  ...      3         0          0      0   \nFord                  1880  ...   4304       862       1610   4287   \nGMC                      0  ...      0         0          0   1154   \nGeo                      0  ...      2         0          0      0   \nHUMMER                   0  ...      0         0          0    137   \nHonda                   28  ...   2237         0          0    970   \nHyundai                  0  ...   2947         0          0    523   \nInfiniti                11  ...    453         0          0    456   \nIsuzu                    0  ...      0         0          0     27   \nJaguar                  99  ...    231         0          0      0   \nJeep                     0  ...      0         0          0   2664   \nKia                      0  ...   1602         0          0    753   \nLamborghini              3  ...      0         0          0      0   \nLand Rover               0  ...      0         0          0    424   \nLexus                  189  ...   1405         0          0    732   \nLincoln                  0  ...    520         0          0    277   \nLotus                    0  ...      0         0          0      0   \nMINI                   231  ...      0         0          0      0   \nMaserati                 3  ...     28         0          0      0   \nMazda                  199  ...    601         0          0    259   \nMercedes-Benz          983  ...   1685         0          0    776   \nMercury                  0  ...    155         0          0    106   \nMitsubishi             117  ...    294         0          0    235   \nNissan                  94  ...   5687         0          0   2600   \nOldsmobile               0  ...     27         0          0      7   \nPlymouth                 5  ...      0         0          0      0   \nPontiac                254  ...    367         0          0     40   \nPorsche                228  ...     99         0          0    159   \nRam                      0  ...      0         0          0      0   \nRolls-Royce              0  ...      6         0          0      0   \nSaab                    81  ...     27         0          0      8   \nSaturn                  38  ...    165         0          0    167   \nScion                    0  ...      0         0          0      0   \nSubaru                   0  ...    241         0          0    274   \nSuzuki                   0  ...     75         0          0     65   \nTesla                    0  ...      9         0          0      0   \nToyota                 142  ...   4814         0          0   1504   \nVolkswagen             445  ...   1525         0          0    181   \nVolvo                  117  ...    313         0          0    168   \nsmart                   38  ...      0         0          0      0   \nTotal                 8652  ...  41906       862       1610  24552   \n\nbody           transit van  tsx sport wagon  van  wagon  xtracab   Total  \nmake                                                                      \nAcura                    0                8    0      0        0    5901  \nAston Martin             0                0    0      0        0      25  \nAudi                     0                0    0     74        0    5869  \nBMW                      0                0    0     27        0   20719  \nBentley                  0                0    0      0        0     116  \nBuick                    0                0    0      0        0    5107  \nCadillac                 0                0    0      0        0    7519  \nChevrolet                0                0  157    154        0   60179  \nChrysler                 0                0    0    187        0   17276  \nDaewoo                   0                0    0      0        0       3  \nDodge                    0                0   10    235        0   30710  \nFIAT                     0                0    0     34        0     865  \nFerrari                  0                0    0      0        0      19  \nFisker                   0                0    0      0        0       9  \nFord                     7                0  242    301        0   93554  \nGMC                      0                0  136      0        0   10613  \nGeo                      0                0    0      0        0      19  \nHUMMER                   0                0    0      0        0     805  \nHonda                    0                0    0      0        0   27203  \nHyundai                  0                0    0      1        0   21816  \nInfiniti                 0                0    0      0        0   15305  \nIsuzu                    0                0    0      0        0     204  \nJaguar                   0                0    0      0        0    1420  \nJeep                     0                0    0      0        0   15372  \nKia                      0                0    0    494        0   18077  \nLamborghini              0                0    0      0        0       4  \nLand Rover               0                0    0      0        0    1735  \nLexus                    0                0    0      1        0   11861  \nLincoln                  0                0    0     18        0    5757  \nLotus                    0                0    0      0        0       1  \nMINI                     0                0    0    109        0    3224  \nMaserati                 0                0    0      0        0     133  \nMazda                    0                0    0      6        0    8362  \nMercedes-Benz            0                0    8     67        0   17141  \nMercury                  0                0    0      2        0    1992  \nMitsubishi               0                0    0      0        0    4140  \nNissan                   0                0   17     46        0   53946  \nOldsmobile               0                0    0      0        0     364  \nPlymouth                 0                0    0      0        0      20  \nPontiac                  0                0    0     28        0    4497  \nPorsche                  0                0    0      0        0    1383  \nRam                      0                0    0      0        0    4574  \nRolls-Royce              0                0    0      0        0      17  \nSaab                     0                0    0      9        0     484  \nSaturn                   0                0    0      3        0    2841  \nScion                    0                0    0     99        0    1687  \nSubaru                   0                0    0    294        0    5043  \nSuzuki                   0                0    0      4        0    1073  \nTesla                    0                0    0      0        0      23  \nToyota                   0                0    0    148        4   39871  \nVolkswagen               0                0    0     86        0   12581  \nVolvo                    0                0    0     72        0    3788  \nsmart                    0                0    0      0        0     395  \nTotal                    7                8  570   2499        4  545642  \n\n[54 rows x 88 columns]",
      "text/html": "<div>\n<style scoped>\n    .dataframe tbody tr th:only-of-type {\n        vertical-align: middle;\n    }\n\n    .dataframe tbody tr th {\n        vertical-align: top;\n    }\n\n    .dataframe thead th {\n        text-align: right;\n    }\n</style>\n<table border=\"1\" class=\"dataframe\">\n  <thead>\n    <tr style=\"text-align: right;\">\n      <th>body</th>\n      <th>Access Cab</th>\n      <th>Beetle Convertible</th>\n      <th>CTS Coupe</th>\n      <th>CTS Wagon</th>\n      <th>CTS-V Coupe</th>\n      <th>CTS-V Wagon</th>\n      <th>Cab Plus</th>\n      <th>Cab Plus 4</th>\n      <th>Club Cab</th>\n      <th>Convertible</th>\n      <th>...</th>\n      <th>sedan</th>\n      <th>supercab</th>\n      <th>supercrew</th>\n      <th>suv</th>\n      <th>transit van</th>\n      <th>tsx sport wagon</th>\n      <th>van</th>\n      <th>wagon</th>\n      <th>xtracab</th>\n      <th>Total</th>\n    </tr>\n    <tr>\n      <th>make</th>\n      <th></th>\n      <th></th>\n      <th></th>\n      <th></th>\n      <th></th>\n      <th></th>\n      <th></th>\n      <th></th>\n      <th></th>\n      <th></th>\n      <th></th>\n      <th></th>\n      <th></th>\n      <th></th>\n      <th></th>\n      <th></th>\n      <th></th>\n      <th></th>\n      <th></th>\n      <th></th>\n      <th></th>\n    </tr>\n  </thead>\n  <tbody>\n    <tr>\n      <th>Acura</th>\n      <td>0</td>\n      <td>0</td>\n      <td>0</td>\n      <td>0</td>\n      <td>0</td>\n      <td>0</td>\n      <td>0</td>\n      <td>0</td>\n      <td>0</td>\n      <td>0</td>\n      <td>...</td>\n      <td>564</td>\n      <td>0</td>\n      <td>0</td>\n      <td>384</td>\n      <td>0</td>\n      <td>8</td>\n      <td>0</td>\n      <td>0</td>\n      <td>0</td>\n      <td>5901</td>\n    </tr>\n    <tr>\n      <th>Aston Martin</th>\n      <td>0</td>\n      <td>0</td>\n      <td>0</td>\n      <td>0</td>\n      <td>0</td>\n      <td>0</td>\n      <td>0</td>\n      <td>0</td>\n      <td>0</td>\n      <td>9</td>\n      <td>...</td>\n      <td>0</td>\n      <td>0</td>\n      <td>0</td>\n      <td>0</td>\n      <td>0</td>\n      <td>0</td>\n      <td>0</td>\n      <td>0</td>\n      <td>0</td>\n      <td>25</td>\n    </tr>\n    <tr>\n      <th>Audi</th>\n      <td>0</td>\n      <td>0</td>\n      <td>0</td>\n      <td>0</td>\n      <td>0</td>\n      <td>0</td>\n      <td>0</td>\n      <td>0</td>\n      <td>0</td>\n      <td>338</td>\n      <td>...</td>\n      <td>736</td>\n      <td>0</td>\n      <td>0</td>\n      <td>279</td>\n      <td>0</td>\n      <td>0</td>\n      <td>0</td>\n      <td>74</td>\n      <td>0</td>\n      <td>5869</td>\n    </tr>\n    <tr>\n      <th>BMW</th>\n      <td>0</td>\n      <td>0</td>\n      <td>0</td>\n      <td>0</td>\n      <td>0</td>\n      <td>0</td>\n      <td>0</td>\n      <td>0</td>\n      <td>0</td>\n      <td>1767</td>\n      <td>...</td>\n      <td>2210</td>\n      <td>0</td>\n      <td>0</td>\n      <td>885</td>\n      <td>0</td>\n      <td>0</td>\n      <td>0</td>\n      <td>27</td>\n      <td>0</td>\n      <td>20719</td>\n    </tr>\n    <tr>\n      <th>Bentley</th>\n      <td>0</td>\n      <td>0</td>\n      <td>0</td>\n      <td>0</td>\n      <td>0</td>\n      <td>0</td>\n      <td>0</td>\n      <td>0</td>\n      <td>0</td>\n      <td>25</td>\n      <td>...</td>\n      <td>6</td>\n      <td>0</td>\n      <td>0</td>\n      <td>0</td>\n      <td>0</td>\n      <td>0</td>\n      <td>0</td>\n      <td>0</td>\n      <td>0</td>\n      <td>116</td>\n    </tr>\n    <tr>\n      <th>Buick</th>\n      <td>0</td>\n      <td>0</td>\n      <td>0</td>\n      <td>0</td>\n      <td>0</td>\n      <td>0</td>\n      <td>0</td>\n      <td>0</td>\n      <td>0</td>\n      <td>0</td>\n      <td>...</td>\n      <td>618</td>\n      <td>0</td>\n      <td>0</td>\n      <td>246</td>\n      <td>0</td>\n      <td>0</td>\n      <td>0</td>\n      <td>0</td>\n      <td>0</td>\n      <td>5107</td>\n    </tr>\n    <tr>\n      <th>Cadillac</th>\n      <td>0</td>\n      <td>0</td>\n      <td>129</td>\n      <td>13</td>\n      <td>28</td>\n      <td>1</td>\n      <td>0</td>\n      <td>0</td>\n      <td>0</td>\n      <td>22</td>\n      <td>...</td>\n      <td>560</td>\n      <td>0</td>\n      <td>0</td>\n      <td>526</td>\n      <td>0</td>\n      <td>0</td>\n      <td>0</td>\n      <td>0</td>\n      <td>0</td>\n      <td>7519</td>\n    </tr>\n    <tr>\n      <th>Chevrolet</th>\n      <td>0</td>\n      <td>0</td>\n      <td>0</td>\n      <td>0</td>\n      <td>0</td>\n      <td>0</td>\n      <td>0</td>\n      <td>0</td>\n      <td>0</td>\n      <td>611</td>\n      <td>...</td>\n      <td>4012</td>\n      <td>0</td>\n      <td>0</td>\n      <td>2397</td>\n      <td>0</td>\n      <td>0</td>\n      <td>157</td>\n      <td>154</td>\n      <td>0</td>\n      <td>60179</td>\n    </tr>\n    <tr>\n      <th>Chrysler</th>\n      <td>0</td>\n      <td>0</td>\n      <td>0</td>\n      <td>0</td>\n      <td>0</td>\n      <td>0</td>\n      <td>0</td>\n      <td>0</td>\n      <td>0</td>\n      <td>621</td>\n      <td>...</td>\n      <td>1500</td>\n      <td>0</td>\n      <td>0</td>\n      <td>31</td>\n      <td>0</td>\n      <td>0</td>\n      <td>0</td>\n      <td>187</td>\n      <td>0</td>\n      <td>17276</td>\n    </tr>\n    <tr>\n      <th>Daewoo</th>\n      <td>0</td>\n      <td>0</td>\n      <td>0</td>\n      <td>0</td>\n      <td>0</td>\n      <td>0</td>\n      <td>0</td>\n      <td>0</td>\n      <td>0</td>\n      <td>0</td>\n      <td>...</td>\n      <td>0</td>\n      <td>0</td>\n      <td>0</td>\n      <td>0</td>\n      <td>0</td>\n      <td>0</td>\n      <td>0</td>\n      <td>0</td>\n      <td>0</td>\n      <td>3</td>\n    </tr>\n    <tr>\n      <th>Dodge</th>\n      <td>0</td>\n      <td>0</td>\n      <td>0</td>\n      <td>0</td>\n      <td>0</td>\n      <td>0</td>\n      <td>0</td>\n      <td>0</td>\n      <td>156</td>\n      <td>6</td>\n      <td>...</td>\n      <td>1878</td>\n      <td>0</td>\n      <td>0</td>\n      <td>851</td>\n      <td>0</td>\n      <td>0</td>\n      <td>10</td>\n      <td>235</td>\n      <td>0</td>\n      <td>30710</td>\n    </tr>\n    <tr>\n      <th>FIAT</th>\n      <td>0</td>\n      <td>0</td>\n      <td>0</td>\n      <td>0</td>\n      <td>0</td>\n      <td>0</td>\n      <td>0</td>\n      <td>0</td>\n      <td>0</td>\n      <td>58</td>\n      <td>...</td>\n      <td>0</td>\n      <td>0</td>\n      <td>0</td>\n      <td>0</td>\n      <td>0</td>\n      <td>0</td>\n      <td>0</td>\n      <td>34</td>\n      <td>0</td>\n      <td>865</td>\n    </tr>\n    <tr>\n      <th>Ferrari</th>\n      <td>0</td>\n      <td>0</td>\n      <td>0</td>\n      <td>0</td>\n      <td>0</td>\n      <td>0</td>\n      <td>0</td>\n      <td>0</td>\n      <td>0</td>\n      <td>10</td>\n      <td>...</td>\n      <td>0</td>\n      <td>0</td>\n      <td>0</td>\n      <td>0</td>\n      <td>0</td>\n      <td>0</td>\n      <td>0</td>\n      <td>0</td>\n      <td>0</td>\n      <td>19</td>\n    </tr>\n    <tr>\n      <th>Fisker</th>\n      <td>0</td>\n      <td>0</td>\n      <td>0</td>\n      <td>0</td>\n      <td>0</td>\n      <td>0</td>\n      <td>0</td>\n      <td>0</td>\n      <td>0</td>\n      <td>0</td>\n      <td>...</td>\n      <td>3</td>\n      <td>0</td>\n      <td>0</td>\n      <td>0</td>\n      <td>0</td>\n      <td>0</td>\n      <td>0</td>\n      <td>0</td>\n      <td>0</td>\n      <td>9</td>\n    </tr>\n    <tr>\n      <th>Ford</th>\n      <td>0</td>\n      <td>0</td>\n      <td>0</td>\n      <td>0</td>\n      <td>0</td>\n      <td>0</td>\n      <td>0</td>\n      <td>0</td>\n      <td>0</td>\n      <td>1880</td>\n      <td>...</td>\n      <td>4304</td>\n      <td>862</td>\n      <td>1610</td>\n      <td>4287</td>\n      <td>7</td>\n      <td>0</td>\n      <td>242</td>\n      <td>301</td>\n      <td>0</td>\n      <td>93554</td>\n    </tr>\n    <tr>\n      <th>GMC</th>\n      <td>0</td>\n      <td>0</td>\n      <td>0</td>\n      <td>0</td>\n      <td>0</td>\n      <td>0</td>\n      <td>0</td>\n      <td>0</td>\n      <td>0</td>\n      <td>0</td>\n      <td>...</td>\n      <td>0</td>\n      <td>0</td>\n      <td>0</td>\n      <td>1154</td>\n      <td>0</td>\n      <td>0</td>\n      <td>136</td>\n      <td>0</td>\n      <td>0</td>\n      <td>10613</td>\n    </tr>\n    <tr>\n      <th>Geo</th>\n      <td>0</td>\n      <td>0</td>\n      <td>0</td>\n      <td>0</td>\n      <td>0</td>\n      <td>0</td>\n      <td>0</td>\n      <td>0</td>\n      <td>0</td>\n      <td>0</td>\n      <td>...</td>\n      <td>2</td>\n      <td>0</td>\n      <td>0</td>\n      <td>0</td>\n      <td>0</td>\n      <td>0</td>\n      <td>0</td>\n      <td>0</td>\n      <td>0</td>\n      <td>19</td>\n    </tr>\n    <tr>\n      <th>HUMMER</th>\n      <td>0</td>\n      <td>0</td>\n      <td>0</td>\n      <td>0</td>\n      <td>0</td>\n      <td>0</td>\n      <td>0</td>\n      <td>0</td>\n      <td>0</td>\n      <td>0</td>\n      <td>...</td>\n      <td>0</td>\n      <td>0</td>\n      <td>0</td>\n      <td>137</td>\n      <td>0</td>\n      <td>0</td>\n      <td>0</td>\n      <td>0</td>\n      <td>0</td>\n      <td>805</td>\n    </tr>\n    <tr>\n      <th>Honda</th>\n      <td>0</td>\n      <td>0</td>\n      <td>0</td>\n      <td>0</td>\n      <td>0</td>\n      <td>0</td>\n      <td>0</td>\n      <td>0</td>\n      <td>0</td>\n      <td>28</td>\n      <td>...</td>\n      <td>2237</td>\n      <td>0</td>\n      <td>0</td>\n      <td>970</td>\n      <td>0</td>\n      <td>0</td>\n      <td>0</td>\n      <td>0</td>\n      <td>0</td>\n      <td>27203</td>\n    </tr>\n    <tr>\n      <th>Hyundai</th>\n      <td>0</td>\n      <td>0</td>\n      <td>0</td>\n      <td>0</td>\n      <td>0</td>\n      <td>0</td>\n      <td>0</td>\n      <td>0</td>\n      <td>0</td>\n      <td>0</td>\n      <td>...</td>\n      <td>2947</td>\n      <td>0</td>\n      <td>0</td>\n      <td>523</td>\n      <td>0</td>\n      <td>0</td>\n      <td>0</td>\n      <td>1</td>\n      <td>0</td>\n      <td>21816</td>\n    </tr>\n    <tr>\n      <th>Infiniti</th>\n      <td>0</td>\n      <td>0</td>\n      <td>0</td>\n      <td>0</td>\n      <td>0</td>\n      <td>0</td>\n      <td>0</td>\n      <td>0</td>\n      <td>0</td>\n      <td>11</td>\n      <td>...</td>\n      <td>453</td>\n      <td>0</td>\n      <td>0</td>\n      <td>456</td>\n      <td>0</td>\n      <td>0</td>\n      <td>0</td>\n      <td>0</td>\n      <td>0</td>\n      <td>15305</td>\n    </tr>\n    <tr>\n      <th>Isuzu</th>\n      <td>0</td>\n      <td>0</td>\n      <td>0</td>\n      <td>0</td>\n      <td>0</td>\n      <td>0</td>\n      <td>0</td>\n      <td>0</td>\n      <td>0</td>\n      <td>0</td>\n      <td>...</td>\n      <td>0</td>\n      <td>0</td>\n      <td>0</td>\n      <td>27</td>\n      <td>0</td>\n      <td>0</td>\n      <td>0</td>\n      <td>0</td>\n      <td>0</td>\n      <td>204</td>\n    </tr>\n    <tr>\n      <th>Jaguar</th>\n      <td>0</td>\n      <td>0</td>\n      <td>0</td>\n      <td>0</td>\n      <td>0</td>\n      <td>0</td>\n      <td>0</td>\n      <td>0</td>\n      <td>0</td>\n      <td>99</td>\n      <td>...</td>\n      <td>231</td>\n      <td>0</td>\n      <td>0</td>\n      <td>0</td>\n      <td>0</td>\n      <td>0</td>\n      <td>0</td>\n      <td>0</td>\n      <td>0</td>\n      <td>1420</td>\n    </tr>\n    <tr>\n      <th>Jeep</th>\n      <td>0</td>\n      <td>0</td>\n      <td>0</td>\n      <td>0</td>\n      <td>0</td>\n      <td>0</td>\n      <td>0</td>\n      <td>0</td>\n      <td>0</td>\n      <td>0</td>\n      <td>...</td>\n      <td>0</td>\n      <td>0</td>\n      <td>0</td>\n      <td>2664</td>\n      <td>0</td>\n      <td>0</td>\n      <td>0</td>\n      <td>0</td>\n      <td>0</td>\n      <td>15372</td>\n    </tr>\n    <tr>\n      <th>Kia</th>\n      <td>0</td>\n      <td>0</td>\n      <td>0</td>\n      <td>0</td>\n      <td>0</td>\n      <td>0</td>\n      <td>0</td>\n      <td>0</td>\n      <td>0</td>\n      <td>0</td>\n      <td>...</td>\n      <td>1602</td>\n      <td>0</td>\n      <td>0</td>\n      <td>753</td>\n      <td>0</td>\n      <td>0</td>\n      <td>0</td>\n      <td>494</td>\n      <td>0</td>\n      <td>18077</td>\n    </tr>\n    <tr>\n      <th>Lamborghini</th>\n      <td>0</td>\n      <td>0</td>\n      <td>0</td>\n      <td>0</td>\n      <td>0</td>\n      <td>0</td>\n      <td>0</td>\n      <td>0</td>\n      <td>0</td>\n      <td>3</td>\n      <td>...</td>\n      <td>0</td>\n      <td>0</td>\n      <td>0</td>\n      <td>0</td>\n      <td>0</td>\n      <td>0</td>\n      <td>0</td>\n      <td>0</td>\n      <td>0</td>\n      <td>4</td>\n    </tr>\n    <tr>\n      <th>Land Rover</th>\n      <td>0</td>\n      <td>0</td>\n      <td>0</td>\n      <td>0</td>\n      <td>0</td>\n      <td>0</td>\n      <td>0</td>\n      <td>0</td>\n      <td>0</td>\n      <td>0</td>\n      <td>...</td>\n      <td>0</td>\n      <td>0</td>\n      <td>0</td>\n      <td>424</td>\n      <td>0</td>\n      <td>0</td>\n      <td>0</td>\n      <td>0</td>\n      <td>0</td>\n      <td>1735</td>\n    </tr>\n    <tr>\n      <th>Lexus</th>\n      <td>0</td>\n      <td>0</td>\n      <td>0</td>\n      <td>0</td>\n      <td>0</td>\n      <td>0</td>\n      <td>0</td>\n      <td>0</td>\n      <td>0</td>\n      <td>189</td>\n      <td>...</td>\n      <td>1405</td>\n      <td>0</td>\n      <td>0</td>\n      <td>732</td>\n      <td>0</td>\n      <td>0</td>\n      <td>0</td>\n      <td>1</td>\n      <td>0</td>\n      <td>11861</td>\n    </tr>\n    <tr>\n      <th>Lincoln</th>\n      <td>0</td>\n      <td>0</td>\n      <td>0</td>\n      <td>0</td>\n      <td>0</td>\n      <td>0</td>\n      <td>0</td>\n      <td>0</td>\n      <td>0</td>\n      <td>0</td>\n      <td>...</td>\n      <td>520</td>\n      <td>0</td>\n      <td>0</td>\n      <td>277</td>\n      <td>0</td>\n      <td>0</td>\n      <td>0</td>\n      <td>18</td>\n      <td>0</td>\n      <td>5757</td>\n    </tr>\n    <tr>\n      <th>Lotus</th>\n      <td>0</td>\n      <td>0</td>\n      <td>0</td>\n      <td>0</td>\n      <td>0</td>\n      <td>0</td>\n      <td>0</td>\n      <td>0</td>\n      <td>0</td>\n      <td>0</td>\n      <td>...</td>\n      <td>0</td>\n      <td>0</td>\n      <td>0</td>\n      <td>0</td>\n      <td>0</td>\n      <td>0</td>\n      <td>0</td>\n      <td>0</td>\n      <td>0</td>\n      <td>1</td>\n    </tr>\n    <tr>\n      <th>MINI</th>\n      <td>0</td>\n      <td>0</td>\n      <td>0</td>\n      <td>0</td>\n      <td>0</td>\n      <td>0</td>\n      <td>0</td>\n      <td>0</td>\n      <td>0</td>\n      <td>231</td>\n      <td>...</td>\n      <td>0</td>\n      <td>0</td>\n      <td>0</td>\n      <td>0</td>\n      <td>0</td>\n      <td>0</td>\n      <td>0</td>\n      <td>109</td>\n      <td>0</td>\n      <td>3224</td>\n    </tr>\n    <tr>\n      <th>Maserati</th>\n      <td>0</td>\n      <td>0</td>\n      <td>0</td>\n      <td>0</td>\n      <td>0</td>\n      <td>0</td>\n      <td>0</td>\n      <td>0</td>\n      <td>0</td>\n      <td>3</td>\n      <td>...</td>\n      <td>28</td>\n      <td>0</td>\n      <td>0</td>\n      <td>0</td>\n      <td>0</td>\n      <td>0</td>\n      <td>0</td>\n      <td>0</td>\n      <td>0</td>\n      <td>133</td>\n    </tr>\n    <tr>\n      <th>Mazda</th>\n      <td>0</td>\n      <td>0</td>\n      <td>0</td>\n      <td>0</td>\n      <td>0</td>\n      <td>0</td>\n      <td>4</td>\n      <td>5</td>\n      <td>0</td>\n      <td>199</td>\n      <td>...</td>\n      <td>601</td>\n      <td>0</td>\n      <td>0</td>\n      <td>259</td>\n      <td>0</td>\n      <td>0</td>\n      <td>0</td>\n      <td>6</td>\n      <td>0</td>\n      <td>8362</td>\n    </tr>\n    <tr>\n      <th>Mercedes-Benz</th>\n      <td>0</td>\n      <td>0</td>\n      <td>0</td>\n      <td>0</td>\n      <td>0</td>\n      <td>0</td>\n      <td>0</td>\n      <td>0</td>\n      <td>0</td>\n      <td>983</td>\n      <td>...</td>\n      <td>1685</td>\n      <td>0</td>\n      <td>0</td>\n      <td>776</td>\n      <td>0</td>\n      <td>0</td>\n      <td>8</td>\n      <td>67</td>\n      <td>0</td>\n      <td>17141</td>\n    </tr>\n    <tr>\n      <th>Mercury</th>\n      <td>0</td>\n      <td>0</td>\n      <td>0</td>\n      <td>0</td>\n      <td>0</td>\n      <td>0</td>\n      <td>0</td>\n      <td>0</td>\n      <td>0</td>\n      <td>0</td>\n      <td>...</td>\n      <td>155</td>\n      <td>0</td>\n      <td>0</td>\n      <td>106</td>\n      <td>0</td>\n      <td>0</td>\n      <td>0</td>\n      <td>2</td>\n      <td>0</td>\n      <td>1992</td>\n    </tr>\n    <tr>\n      <th>Mitsubishi</th>\n      <td>0</td>\n      <td>0</td>\n      <td>0</td>\n      <td>0</td>\n      <td>0</td>\n      <td>0</td>\n      <td>0</td>\n      <td>0</td>\n      <td>0</td>\n      <td>117</td>\n      <td>...</td>\n      <td>294</td>\n      <td>0</td>\n      <td>0</td>\n      <td>235</td>\n      <td>0</td>\n      <td>0</td>\n      <td>0</td>\n      <td>0</td>\n      <td>0</td>\n      <td>4140</td>\n    </tr>\n    <tr>\n      <th>Nissan</th>\n      <td>0</td>\n      <td>0</td>\n      <td>0</td>\n      <td>0</td>\n      <td>0</td>\n      <td>0</td>\n      <td>0</td>\n      <td>0</td>\n      <td>0</td>\n      <td>94</td>\n      <td>...</td>\n      <td>5687</td>\n      <td>0</td>\n      <td>0</td>\n      <td>2600</td>\n      <td>0</td>\n      <td>0</td>\n      <td>17</td>\n      <td>46</td>\n      <td>0</td>\n      <td>53946</td>\n    </tr>\n    <tr>\n      <th>Oldsmobile</th>\n      <td>0</td>\n      <td>0</td>\n      <td>0</td>\n      <td>0</td>\n      <td>0</td>\n      <td>0</td>\n      <td>0</td>\n      <td>0</td>\n      <td>0</td>\n      <td>0</td>\n      <td>...</td>\n      <td>27</td>\n      <td>0</td>\n      <td>0</td>\n      <td>7</td>\n      <td>0</td>\n      <td>0</td>\n      <td>0</td>\n      <td>0</td>\n      <td>0</td>\n      <td>364</td>\n    </tr>\n    <tr>\n      <th>Plymouth</th>\n      <td>0</td>\n      <td>0</td>\n      <td>0</td>\n      <td>0</td>\n      <td>0</td>\n      <td>0</td>\n      <td>0</td>\n      <td>0</td>\n      <td>0</td>\n      <td>5</td>\n      <td>...</td>\n      <td>0</td>\n      <td>0</td>\n      <td>0</td>\n      <td>0</td>\n      <td>0</td>\n      <td>0</td>\n      <td>0</td>\n      <td>0</td>\n      <td>0</td>\n      <td>20</td>\n    </tr>\n    <tr>\n      <th>Pontiac</th>\n      <td>0</td>\n      <td>0</td>\n      <td>0</td>\n      <td>0</td>\n      <td>0</td>\n      <td>0</td>\n      <td>0</td>\n      <td>0</td>\n      <td>0</td>\n      <td>254</td>\n      <td>...</td>\n      <td>367</td>\n      <td>0</td>\n      <td>0</td>\n      <td>40</td>\n      <td>0</td>\n      <td>0</td>\n      <td>0</td>\n      <td>28</td>\n      <td>0</td>\n      <td>4497</td>\n    </tr>\n    <tr>\n      <th>Porsche</th>\n      <td>0</td>\n      <td>0</td>\n      <td>0</td>\n      <td>0</td>\n      <td>0</td>\n      <td>0</td>\n      <td>0</td>\n      <td>0</td>\n      <td>0</td>\n      <td>228</td>\n      <td>...</td>\n      <td>99</td>\n      <td>0</td>\n      <td>0</td>\n      <td>159</td>\n      <td>0</td>\n      <td>0</td>\n      <td>0</td>\n      <td>0</td>\n      <td>0</td>\n      <td>1383</td>\n    </tr>\n    <tr>\n      <th>Ram</th>\n      <td>0</td>\n      <td>0</td>\n      <td>0</td>\n      <td>0</td>\n      <td>0</td>\n      <td>0</td>\n      <td>0</td>\n      <td>0</td>\n      <td>0</td>\n      <td>0</td>\n      <td>...</td>\n      <td>0</td>\n      <td>0</td>\n      <td>0</td>\n      <td>0</td>\n      <td>0</td>\n      <td>0</td>\n      <td>0</td>\n      <td>0</td>\n      <td>0</td>\n      <td>4574</td>\n    </tr>\n    <tr>\n      <th>Rolls-Royce</th>\n      <td>0</td>\n      <td>0</td>\n      <td>0</td>\n      <td>0</td>\n      <td>0</td>\n      <td>0</td>\n      <td>0</td>\n      <td>0</td>\n      <td>0</td>\n      <td>0</td>\n      <td>...</td>\n      <td>6</td>\n      <td>0</td>\n      <td>0</td>\n      <td>0</td>\n      <td>0</td>\n      <td>0</td>\n      <td>0</td>\n      <td>0</td>\n      <td>0</td>\n      <td>17</td>\n    </tr>\n    <tr>\n      <th>Saab</th>\n      <td>0</td>\n      <td>0</td>\n      <td>0</td>\n      <td>0</td>\n      <td>0</td>\n      <td>0</td>\n      <td>0</td>\n      <td>0</td>\n      <td>0</td>\n      <td>81</td>\n      <td>...</td>\n      <td>27</td>\n      <td>0</td>\n      <td>0</td>\n      <td>8</td>\n      <td>0</td>\n      <td>0</td>\n      <td>0</td>\n      <td>9</td>\n      <td>0</td>\n      <td>484</td>\n    </tr>\n    <tr>\n      <th>Saturn</th>\n      <td>0</td>\n      <td>0</td>\n      <td>0</td>\n      <td>0</td>\n      <td>0</td>\n      <td>0</td>\n      <td>0</td>\n      <td>0</td>\n      <td>0</td>\n      <td>38</td>\n      <td>...</td>\n      <td>165</td>\n      <td>0</td>\n      <td>0</td>\n      <td>167</td>\n      <td>0</td>\n      <td>0</td>\n      <td>0</td>\n      <td>3</td>\n      <td>0</td>\n      <td>2841</td>\n    </tr>\n    <tr>\n      <th>Scion</th>\n      <td>0</td>\n      <td>0</td>\n      <td>0</td>\n      <td>0</td>\n      <td>0</td>\n      <td>0</td>\n      <td>0</td>\n      <td>0</td>\n      <td>0</td>\n      <td>0</td>\n      <td>...</td>\n      <td>0</td>\n      <td>0</td>\n      <td>0</td>\n      <td>0</td>\n      <td>0</td>\n      <td>0</td>\n      <td>0</td>\n      <td>99</td>\n      <td>0</td>\n      <td>1687</td>\n    </tr>\n    <tr>\n      <th>Subaru</th>\n      <td>0</td>\n      <td>0</td>\n      <td>0</td>\n      <td>0</td>\n      <td>0</td>\n      <td>0</td>\n      <td>0</td>\n      <td>0</td>\n      <td>0</td>\n      <td>0</td>\n      <td>...</td>\n      <td>241</td>\n      <td>0</td>\n      <td>0</td>\n      <td>274</td>\n      <td>0</td>\n      <td>0</td>\n      <td>0</td>\n      <td>294</td>\n      <td>0</td>\n      <td>5043</td>\n    </tr>\n    <tr>\n      <th>Suzuki</th>\n      <td>0</td>\n      <td>0</td>\n      <td>0</td>\n      <td>0</td>\n      <td>0</td>\n      <td>0</td>\n      <td>0</td>\n      <td>0</td>\n      <td>0</td>\n      <td>0</td>\n      <td>...</td>\n      <td>75</td>\n      <td>0</td>\n      <td>0</td>\n      <td>65</td>\n      <td>0</td>\n      <td>0</td>\n      <td>0</td>\n      <td>4</td>\n      <td>0</td>\n      <td>1073</td>\n    </tr>\n    <tr>\n      <th>Tesla</th>\n      <td>0</td>\n      <td>0</td>\n      <td>0</td>\n      <td>0</td>\n      <td>0</td>\n      <td>0</td>\n      <td>0</td>\n      <td>0</td>\n      <td>0</td>\n      <td>0</td>\n      <td>...</td>\n      <td>9</td>\n      <td>0</td>\n      <td>0</td>\n      <td>0</td>\n      <td>0</td>\n      <td>0</td>\n      <td>0</td>\n      <td>0</td>\n      <td>0</td>\n      <td>23</td>\n    </tr>\n    <tr>\n      <th>Toyota</th>\n      <td>232</td>\n      <td>0</td>\n      <td>0</td>\n      <td>0</td>\n      <td>0</td>\n      <td>0</td>\n      <td>0</td>\n      <td>0</td>\n      <td>0</td>\n      <td>142</td>\n      <td>...</td>\n      <td>4814</td>\n      <td>0</td>\n      <td>0</td>\n      <td>1504</td>\n      <td>0</td>\n      <td>0</td>\n      <td>0</td>\n      <td>148</td>\n      <td>4</td>\n      <td>39871</td>\n    </tr>\n    <tr>\n      <th>Volkswagen</th>\n      <td>0</td>\n      <td>52</td>\n      <td>0</td>\n      <td>0</td>\n      <td>0</td>\n      <td>0</td>\n      <td>0</td>\n      <td>0</td>\n      <td>0</td>\n      <td>445</td>\n      <td>...</td>\n      <td>1525</td>\n      <td>0</td>\n      <td>0</td>\n      <td>181</td>\n      <td>0</td>\n      <td>0</td>\n      <td>0</td>\n      <td>86</td>\n      <td>0</td>\n      <td>12581</td>\n    </tr>\n    <tr>\n      <th>Volvo</th>\n      <td>0</td>\n      <td>0</td>\n      <td>0</td>\n      <td>0</td>\n      <td>0</td>\n      <td>0</td>\n      <td>0</td>\n      <td>0</td>\n      <td>0</td>\n      <td>117</td>\n      <td>...</td>\n      <td>313</td>\n      <td>0</td>\n      <td>0</td>\n      <td>168</td>\n      <td>0</td>\n      <td>0</td>\n      <td>0</td>\n      <td>72</td>\n      <td>0</td>\n      <td>3788</td>\n    </tr>\n    <tr>\n      <th>smart</th>\n      <td>0</td>\n      <td>0</td>\n      <td>0</td>\n      <td>0</td>\n      <td>0</td>\n      <td>0</td>\n      <td>0</td>\n      <td>0</td>\n      <td>0</td>\n      <td>38</td>\n      <td>...</td>\n      <td>0</td>\n      <td>0</td>\n      <td>0</td>\n      <td>0</td>\n      <td>0</td>\n      <td>0</td>\n      <td>0</td>\n      <td>0</td>\n      <td>0</td>\n      <td>395</td>\n    </tr>\n    <tr>\n      <th>Total</th>\n      <td>232</td>\n      <td>52</td>\n      <td>129</td>\n      <td>13</td>\n      <td>28</td>\n      <td>1</td>\n      <td>4</td>\n      <td>5</td>\n      <td>156</td>\n      <td>8652</td>\n      <td>...</td>\n      <td>41906</td>\n      <td>862</td>\n      <td>1610</td>\n      <td>24552</td>\n      <td>7</td>\n      <td>8</td>\n      <td>570</td>\n      <td>2499</td>\n      <td>4</td>\n      <td>545642</td>\n    </tr>\n  </tbody>\n</table>\n<p>54 rows × 88 columns</p>\n</div>"
     },
     "execution_count": 16,
     "metadata": {},
     "output_type": "execute_result"
    }
   ],
   "source": [
    "cross_tab = pd.crosstab(vehicle_sales['make'], vehicle_sales['body'], margins=True, margins_name='Total')\n",
    "cross_tab"
   ],
   "metadata": {
    "collapsed": false,
    "ExecuteTime": {
     "end_time": "2024-03-27T19:16:27.505497Z",
     "start_time": "2024-03-27T19:16:27.185581Z"
    }
   },
   "id": "ae3e603c9e51667f",
   "execution_count": 16
  },
  {
   "cell_type": "code",
   "outputs": [
    {
     "data": {
      "text/plain": "0         20-30k\n1         20-30k\n2         20-30k\n3         20-30k\n4         60-70k\n           ...  \n558832    30-40k\n558833    30-40k\n558834    30-40k\n558835    10-20k\n558836    20-30k\nName: sellingprice, Length: 558837, dtype: category\nCategories (10, object): ['0-10k' < '10-20k' < '20-30k' < '30-40k' ... '60-70k' < '70-80k' < '80-90k' < '90-100k']"
     },
     "execution_count": 17,
     "metadata": {},
     "output_type": "execute_result"
    }
   ],
   "source": [
    "bins = [0, 10000, 20000, 30000, 40000, 50000, 60000, 70000, 80000, 90000, 100000]\n",
    "labels = ['0-10k', '10-20k', '20-30k', '30-40k', '40-50k', '50-60k', '60-70k', '70-80k', '80-90k', '90-100k']\n",
    "\n",
    "pd_cut_test = pd.cut(vehicle_sales['sellingprice'], bins=bins, labels=labels)\n",
    "pd_cut_test"
   ],
   "metadata": {
    "collapsed": false,
    "ExecuteTime": {
     "end_time": "2024-03-27T19:16:27.526169Z",
     "start_time": "2024-03-27T19:16:27.506507Z"
    }
   },
   "id": "7838eb79ca30f139",
   "execution_count": 17
  },
  {
   "cell_type": "code",
   "outputs": [
    {
     "data": {
      "text/plain": "0          21500.0\n1          43000.0\n2          73000.0\n3         100750.0\n4         146250.0\n            ...   \n558832     76600.0\n558833     97000.0\n558834    120600.0\n558835    108900.0\n558836    102600.0\nName: sellingprice, Length: 558837, dtype: float64"
     },
     "execution_count": 18,
     "metadata": {},
     "output_type": "execute_result"
    }
   ],
   "source": [
    "rolling_test = vehicle_sales['sellingprice'].rolling(window=4, min_periods=1).sum()\n",
    "rolling_test"
   ],
   "metadata": {
    "collapsed": false,
    "ExecuteTime": {
     "end_time": "2024-03-27T19:16:27.546278Z",
     "start_time": "2024-03-27T19:16:27.527174Z"
    }
   },
   "id": "d8816606e3449634",
   "execution_count": 18
  },
  {
   "cell_type": "code",
   "outputs": [
    {
     "data": {
      "text/plain": "              sellingprice  odometer       mmr\nsellingprice      1.000000 -0.582393  0.983635\nodometer         -0.582393  1.000000 -0.588113\nmmr               0.983635 -0.588113  1.000000",
      "text/html": "<div>\n<style scoped>\n    .dataframe tbody tr th:only-of-type {\n        vertical-align: middle;\n    }\n\n    .dataframe tbody tr th {\n        vertical-align: top;\n    }\n\n    .dataframe thead th {\n        text-align: right;\n    }\n</style>\n<table border=\"1\" class=\"dataframe\">\n  <thead>\n    <tr style=\"text-align: right;\">\n      <th></th>\n      <th>sellingprice</th>\n      <th>odometer</th>\n      <th>mmr</th>\n    </tr>\n  </thead>\n  <tbody>\n    <tr>\n      <th>sellingprice</th>\n      <td>1.000000</td>\n      <td>-0.582393</td>\n      <td>0.983635</td>\n    </tr>\n    <tr>\n      <th>odometer</th>\n      <td>-0.582393</td>\n      <td>1.000000</td>\n      <td>-0.588113</td>\n    </tr>\n    <tr>\n      <th>mmr</th>\n      <td>0.983635</td>\n      <td>-0.588113</td>\n      <td>1.000000</td>\n    </tr>\n  </tbody>\n</table>\n</div>"
     },
     "execution_count": 19,
     "metadata": {},
     "output_type": "execute_result"
    }
   ],
   "source": [
    "corr_testing = vehicle_sales[['sellingprice', 'odometer', 'mmr']].corr()\n",
    "corr_testing"
   ],
   "metadata": {
    "collapsed": false,
    "ExecuteTime": {
     "end_time": "2024-03-27T19:16:27.574045Z",
     "start_time": "2024-03-27T19:16:27.547286Z"
    }
   },
   "id": "934a3523bfcf8076",
   "execution_count": 19
  },
  {
   "cell_type": "code",
   "outputs": [
    {
     "data": {
      "text/plain": "        year    make                model         trim       body  \\\n0       2015     Kia              Sorento           LX        SUV   \n1       2015     Kia              Sorento           LX        SUV   \n2       2014     BMW             3 Series   328i SULEV      Sedan   \n3       2015   Volvo                  S60           T5      Sedan   \n4       2014     BMW  6 Series Gran Coupe         650i      Sedan   \n...      ...     ...                  ...          ...        ...   \n558832  2015     Kia                 K900       Luxury      Sedan   \n558833  2012     Ram                 2500  Power Wagon   Crew Cab   \n558834  2012     BMW                   X5    xDrive35d        SUV   \n558835  2015  Nissan               Altima        2.5 S      sedan   \n558836  2014    Ford                F-150          XLT  SuperCrew   \n\n       transmission                vin state  condition  odometer   color  \\\n0         automatic  5xyktca69fg566472    ca        5.0   16639.0   white   \n1         automatic  5xyktca69fg561319    ca        5.0    9393.0   white   \n2         automatic  wba3c1c51ek116351    ca       45.0    1331.0    gray   \n3         automatic  yv1612tb4f1310987    ca       41.0   14282.0   white   \n4         automatic  wba6b2c57ed129731    ca       43.0    2641.0    gray   \n...             ...                ...   ...        ...       ...     ...   \n558832          NaN  knalw4d4xf6019304    in       45.0   18255.0  silver   \n558833    automatic  3c6td5et6cg112407    wa        5.0   54393.0   white   \n558834    automatic  5uxzw0c58cl668465    ca       48.0   50561.0   black   \n558835    automatic  1n4al3ap0fc216050    ga       38.0   16658.0   white   \n558836    automatic  1ftfw1et2eke87277    ca       34.0   15008.0    gray   \n\n       interior                                             seller      mmr  \\\n0         black                            kia motors america  inc  20500.0   \n1         beige                            kia motors america  inc  20800.0   \n2         black             financial services remarketing (lease)  31900.0   \n3         black                            volvo na rep/world omni  27500.0   \n4         black             financial services remarketing (lease)  66000.0   \n...         ...                                                ...      ...   \n558832    black                                   avis corporation  35300.0   \n558833    black                                    i -5 uhlmann rv  30200.0   \n558834    black             financial services remarketing (lease)  29800.0   \n558835    black  enterprise vehicle exchange / tra / rental / t...  15100.0   \n558836     gray                   ford motor credit company llc pd  29600.0   \n\n        sellingprice Sell price quartiles  \\\n0            21500.0                   Q4   \n1            21500.0                   Q4   \n2            30000.0                   Q4   \n3            27750.0                   Q4   \n4            67000.0                   Q4   \n...              ...                  ...   \n558832       33000.0                   Q4   \n558833       30800.0                   Q4   \n558834       34000.0                   Q4   \n558835       11100.0                   Q2   \n558836       26700.0                   Q4   \n\n                                       saledate  \n0       Tue Dec 16 2014 12:30:00 GMT-0800 (PST)  \n1       Tue Dec 16 2014 12:30:00 GMT-0800 (PST)  \n2       Thu Jan 15 2015 04:30:00 GMT-0800 (PST)  \n3       Thu Jan 29 2015 04:30:00 GMT-0800 (PST)  \n4       Thu Dec 18 2014 12:30:00 GMT-0800 (PST)  \n...                                         ...  \n558832  Thu Jul 09 2015 07:00:00 GMT-0700 (PDT)  \n558833  Wed Jul 08 2015 09:30:00 GMT-0700 (PDT)  \n558834  Wed Jul 08 2015 09:30:00 GMT-0700 (PDT)  \n558835  Thu Jul 09 2015 06:45:00 GMT-0700 (PDT)  \n558836  Thu May 28 2015 05:30:00 GMT-0700 (PDT)  \n\n[558837 rows x 17 columns]",
      "text/html": "<div>\n<style scoped>\n    .dataframe tbody tr th:only-of-type {\n        vertical-align: middle;\n    }\n\n    .dataframe tbody tr th {\n        vertical-align: top;\n    }\n\n    .dataframe thead th {\n        text-align: right;\n    }\n</style>\n<table border=\"1\" class=\"dataframe\">\n  <thead>\n    <tr style=\"text-align: right;\">\n      <th></th>\n      <th>year</th>\n      <th>make</th>\n      <th>model</th>\n      <th>trim</th>\n      <th>body</th>\n      <th>transmission</th>\n      <th>vin</th>\n      <th>state</th>\n      <th>condition</th>\n      <th>odometer</th>\n      <th>color</th>\n      <th>interior</th>\n      <th>seller</th>\n      <th>mmr</th>\n      <th>sellingprice</th>\n      <th>Sell price quartiles</th>\n      <th>saledate</th>\n    </tr>\n  </thead>\n  <tbody>\n    <tr>\n      <th>0</th>\n      <td>2015</td>\n      <td>Kia</td>\n      <td>Sorento</td>\n      <td>LX</td>\n      <td>SUV</td>\n      <td>automatic</td>\n      <td>5xyktca69fg566472</td>\n      <td>ca</td>\n      <td>5.0</td>\n      <td>16639.0</td>\n      <td>white</td>\n      <td>black</td>\n      <td>kia motors america  inc</td>\n      <td>20500.0</td>\n      <td>21500.0</td>\n      <td>Q4</td>\n      <td>Tue Dec 16 2014 12:30:00 GMT-0800 (PST)</td>\n    </tr>\n    <tr>\n      <th>1</th>\n      <td>2015</td>\n      <td>Kia</td>\n      <td>Sorento</td>\n      <td>LX</td>\n      <td>SUV</td>\n      <td>automatic</td>\n      <td>5xyktca69fg561319</td>\n      <td>ca</td>\n      <td>5.0</td>\n      <td>9393.0</td>\n      <td>white</td>\n      <td>beige</td>\n      <td>kia motors america  inc</td>\n      <td>20800.0</td>\n      <td>21500.0</td>\n      <td>Q4</td>\n      <td>Tue Dec 16 2014 12:30:00 GMT-0800 (PST)</td>\n    </tr>\n    <tr>\n      <th>2</th>\n      <td>2014</td>\n      <td>BMW</td>\n      <td>3 Series</td>\n      <td>328i SULEV</td>\n      <td>Sedan</td>\n      <td>automatic</td>\n      <td>wba3c1c51ek116351</td>\n      <td>ca</td>\n      <td>45.0</td>\n      <td>1331.0</td>\n      <td>gray</td>\n      <td>black</td>\n      <td>financial services remarketing (lease)</td>\n      <td>31900.0</td>\n      <td>30000.0</td>\n      <td>Q4</td>\n      <td>Thu Jan 15 2015 04:30:00 GMT-0800 (PST)</td>\n    </tr>\n    <tr>\n      <th>3</th>\n      <td>2015</td>\n      <td>Volvo</td>\n      <td>S60</td>\n      <td>T5</td>\n      <td>Sedan</td>\n      <td>automatic</td>\n      <td>yv1612tb4f1310987</td>\n      <td>ca</td>\n      <td>41.0</td>\n      <td>14282.0</td>\n      <td>white</td>\n      <td>black</td>\n      <td>volvo na rep/world omni</td>\n      <td>27500.0</td>\n      <td>27750.0</td>\n      <td>Q4</td>\n      <td>Thu Jan 29 2015 04:30:00 GMT-0800 (PST)</td>\n    </tr>\n    <tr>\n      <th>4</th>\n      <td>2014</td>\n      <td>BMW</td>\n      <td>6 Series Gran Coupe</td>\n      <td>650i</td>\n      <td>Sedan</td>\n      <td>automatic</td>\n      <td>wba6b2c57ed129731</td>\n      <td>ca</td>\n      <td>43.0</td>\n      <td>2641.0</td>\n      <td>gray</td>\n      <td>black</td>\n      <td>financial services remarketing (lease)</td>\n      <td>66000.0</td>\n      <td>67000.0</td>\n      <td>Q4</td>\n      <td>Thu Dec 18 2014 12:30:00 GMT-0800 (PST)</td>\n    </tr>\n    <tr>\n      <th>...</th>\n      <td>...</td>\n      <td>...</td>\n      <td>...</td>\n      <td>...</td>\n      <td>...</td>\n      <td>...</td>\n      <td>...</td>\n      <td>...</td>\n      <td>...</td>\n      <td>...</td>\n      <td>...</td>\n      <td>...</td>\n      <td>...</td>\n      <td>...</td>\n      <td>...</td>\n      <td>...</td>\n      <td>...</td>\n    </tr>\n    <tr>\n      <th>558832</th>\n      <td>2015</td>\n      <td>Kia</td>\n      <td>K900</td>\n      <td>Luxury</td>\n      <td>Sedan</td>\n      <td>NaN</td>\n      <td>knalw4d4xf6019304</td>\n      <td>in</td>\n      <td>45.0</td>\n      <td>18255.0</td>\n      <td>silver</td>\n      <td>black</td>\n      <td>avis corporation</td>\n      <td>35300.0</td>\n      <td>33000.0</td>\n      <td>Q4</td>\n      <td>Thu Jul 09 2015 07:00:00 GMT-0700 (PDT)</td>\n    </tr>\n    <tr>\n      <th>558833</th>\n      <td>2012</td>\n      <td>Ram</td>\n      <td>2500</td>\n      <td>Power Wagon</td>\n      <td>Crew Cab</td>\n      <td>automatic</td>\n      <td>3c6td5et6cg112407</td>\n      <td>wa</td>\n      <td>5.0</td>\n      <td>54393.0</td>\n      <td>white</td>\n      <td>black</td>\n      <td>i -5 uhlmann rv</td>\n      <td>30200.0</td>\n      <td>30800.0</td>\n      <td>Q4</td>\n      <td>Wed Jul 08 2015 09:30:00 GMT-0700 (PDT)</td>\n    </tr>\n    <tr>\n      <th>558834</th>\n      <td>2012</td>\n      <td>BMW</td>\n      <td>X5</td>\n      <td>xDrive35d</td>\n      <td>SUV</td>\n      <td>automatic</td>\n      <td>5uxzw0c58cl668465</td>\n      <td>ca</td>\n      <td>48.0</td>\n      <td>50561.0</td>\n      <td>black</td>\n      <td>black</td>\n      <td>financial services remarketing (lease)</td>\n      <td>29800.0</td>\n      <td>34000.0</td>\n      <td>Q4</td>\n      <td>Wed Jul 08 2015 09:30:00 GMT-0700 (PDT)</td>\n    </tr>\n    <tr>\n      <th>558835</th>\n      <td>2015</td>\n      <td>Nissan</td>\n      <td>Altima</td>\n      <td>2.5 S</td>\n      <td>sedan</td>\n      <td>automatic</td>\n      <td>1n4al3ap0fc216050</td>\n      <td>ga</td>\n      <td>38.0</td>\n      <td>16658.0</td>\n      <td>white</td>\n      <td>black</td>\n      <td>enterprise vehicle exchange / tra / rental / t...</td>\n      <td>15100.0</td>\n      <td>11100.0</td>\n      <td>Q2</td>\n      <td>Thu Jul 09 2015 06:45:00 GMT-0700 (PDT)</td>\n    </tr>\n    <tr>\n      <th>558836</th>\n      <td>2014</td>\n      <td>Ford</td>\n      <td>F-150</td>\n      <td>XLT</td>\n      <td>SuperCrew</td>\n      <td>automatic</td>\n      <td>1ftfw1et2eke87277</td>\n      <td>ca</td>\n      <td>34.0</td>\n      <td>15008.0</td>\n      <td>gray</td>\n      <td>gray</td>\n      <td>ford motor credit company llc pd</td>\n      <td>29600.0</td>\n      <td>26700.0</td>\n      <td>Q4</td>\n      <td>Thu May 28 2015 05:30:00 GMT-0700 (PDT)</td>\n    </tr>\n  </tbody>\n</table>\n<p>558837 rows × 17 columns</p>\n</div>"
     },
     "execution_count": 20,
     "metadata": {},
     "output_type": "execute_result"
    }
   ],
   "source": [
    "vehicle_sales[['mmr', 'sellingprice']]\n",
    "vehicle_sales"
   ],
   "metadata": {
    "collapsed": false,
    "ExecuteTime": {
     "end_time": "2024-03-27T19:16:27.595990Z",
     "start_time": "2024-03-27T19:16:27.575051Z"
    }
   },
   "id": "e173e51544492159",
   "execution_count": 20
  },
  {
   "cell_type": "code",
   "outputs": [
    {
     "data": {
      "text/plain": "18300.0"
     },
     "execution_count": 21,
     "metadata": {},
     "output_type": "execute_result"
    }
   ],
   "source": [
    "vehicle_sales['mmr'].quantile(0.25)\n",
    "vehicle_sales['mmr'].quantile(0.50)\n",
    "vehicle_sales['mmr'].quantile(0.75)"
   ],
   "metadata": {
    "collapsed": false,
    "ExecuteTime": {
     "end_time": "2024-03-27T19:16:27.627953Z",
     "start_time": "2024-03-27T19:16:27.596885Z"
    }
   },
   "id": "5c6024314884314b",
   "execution_count": 21
  },
  {
   "cell_type": "code",
   "outputs": [
    {
     "data": {
      "text/plain": "0          21500.000000\n1          39090.909091\n2          61983.471074\n3          78463.749061\n4         131197.612868\n              ...      \n558832    111307.649001\n558833    121869.894637\n558834    133711.731976\n558835    120500.507980\n558836    125291.324711\nName: sellingprice, Length: 558837, dtype: float64"
     },
     "execution_count": 22,
     "metadata": {},
     "output_type": "execute_result"
    }
   ],
   "source": [
    "vehicle_sales['sellingprice'].ewm(span=10, min_periods=1).sum()"
   ],
   "metadata": {
    "collapsed": false,
    "ExecuteTime": {
     "end_time": "2024-03-27T19:16:27.643841Z",
     "start_time": "2024-03-27T19:16:27.628963Z"
    }
   },
   "id": "223994342df0de8f",
   "execution_count": 22
  },
  {
   "cell_type": "markdown",
   "source": [
    "# Exercises"
   ],
   "metadata": {
    "collapsed": false
   },
   "id": "975472033c7a887f"
  },
  {
   "cell_type": "markdown",
   "source": [
    "# 1. Load the dataset and display the first 10 rows."
   ],
   "metadata": {
    "collapsed": false
   },
   "id": "2b98efc4e30dabc2"
  },
  {
   "cell_type": "code",
   "outputs": [
    {
     "data": {
      "text/plain": "   year       make                model                       trim  \\\n0  2015        Kia              Sorento                         LX   \n1  2015        Kia              Sorento                         LX   \n2  2014        BMW             3 Series                 328i SULEV   \n3  2015      Volvo                  S60                         T5   \n4  2014        BMW  6 Series Gran Coupe                       650i   \n5  2015     Nissan               Altima                      2.5 S   \n6  2014        BMW                   M5                       Base   \n7  2014  Chevrolet                Cruze                        1LT   \n8  2014       Audi                   A4  2.0T Premium Plus quattro   \n9  2014  Chevrolet               Camaro                         LT   \n\n          body transmission                vin state  condition  odometer  \\\n0          SUV    automatic  5xyktca69fg566472    ca        5.0   16639.0   \n1          SUV    automatic  5xyktca69fg561319    ca        5.0    9393.0   \n2        Sedan    automatic  wba3c1c51ek116351    ca       45.0    1331.0   \n3        Sedan    automatic  yv1612tb4f1310987    ca       41.0   14282.0   \n4        Sedan    automatic  wba6b2c57ed129731    ca       43.0    2641.0   \n5        Sedan    automatic  1n4al3ap1fn326013    ca        1.0    5554.0   \n6        Sedan    automatic  wbsfv9c51ed593089    ca       34.0   14943.0   \n7        Sedan    automatic  1g1pc5sb2e7128460    ca        2.0   28617.0   \n8        Sedan    automatic  wauffafl3en030343    ca       42.0    9557.0   \n9  Convertible    automatic  2g1fb3d37e9218789    ca        3.0    4809.0   \n\n   color interior                                             seller      mmr  \\\n0  white    black                            kia motors america  inc  20500.0   \n1  white    beige                            kia motors america  inc  20800.0   \n2   gray    black             financial services remarketing (lease)  31900.0   \n3  white    black                            volvo na rep/world omni  27500.0   \n4   gray    black             financial services remarketing (lease)  66000.0   \n5   gray    black  enterprise vehicle exchange / tra / rental / t...  15350.0   \n6  black    black                              the hertz corporation  69000.0   \n7  black    black  enterprise vehicle exchange / tra / rental / t...  11900.0   \n8  white    black                                 audi mission viejo  32100.0   \n9    red    black                                 d/m auto sales inc  26300.0   \n\n   sellingprice                                 saledate  \n0       21500.0  Tue Dec 16 2014 12:30:00 GMT-0800 (PST)  \n1       21500.0  Tue Dec 16 2014 12:30:00 GMT-0800 (PST)  \n2       30000.0  Thu Jan 15 2015 04:30:00 GMT-0800 (PST)  \n3       27750.0  Thu Jan 29 2015 04:30:00 GMT-0800 (PST)  \n4       67000.0  Thu Dec 18 2014 12:30:00 GMT-0800 (PST)  \n5       10900.0  Tue Dec 30 2014 12:00:00 GMT-0800 (PST)  \n6       65000.0  Wed Dec 17 2014 12:30:00 GMT-0800 (PST)  \n7        9800.0  Tue Dec 16 2014 13:00:00 GMT-0800 (PST)  \n8       32250.0  Thu Dec 18 2014 12:00:00 GMT-0800 (PST)  \n9       17500.0  Tue Jan 20 2015 04:00:00 GMT-0800 (PST)  ",
      "text/html": "<div>\n<style scoped>\n    .dataframe tbody tr th:only-of-type {\n        vertical-align: middle;\n    }\n\n    .dataframe tbody tr th {\n        vertical-align: top;\n    }\n\n    .dataframe thead th {\n        text-align: right;\n    }\n</style>\n<table border=\"1\" class=\"dataframe\">\n  <thead>\n    <tr style=\"text-align: right;\">\n      <th></th>\n      <th>year</th>\n      <th>make</th>\n      <th>model</th>\n      <th>trim</th>\n      <th>body</th>\n      <th>transmission</th>\n      <th>vin</th>\n      <th>state</th>\n      <th>condition</th>\n      <th>odometer</th>\n      <th>color</th>\n      <th>interior</th>\n      <th>seller</th>\n      <th>mmr</th>\n      <th>sellingprice</th>\n      <th>saledate</th>\n    </tr>\n  </thead>\n  <tbody>\n    <tr>\n      <th>0</th>\n      <td>2015</td>\n      <td>Kia</td>\n      <td>Sorento</td>\n      <td>LX</td>\n      <td>SUV</td>\n      <td>automatic</td>\n      <td>5xyktca69fg566472</td>\n      <td>ca</td>\n      <td>5.0</td>\n      <td>16639.0</td>\n      <td>white</td>\n      <td>black</td>\n      <td>kia motors america  inc</td>\n      <td>20500.0</td>\n      <td>21500.0</td>\n      <td>Tue Dec 16 2014 12:30:00 GMT-0800 (PST)</td>\n    </tr>\n    <tr>\n      <th>1</th>\n      <td>2015</td>\n      <td>Kia</td>\n      <td>Sorento</td>\n      <td>LX</td>\n      <td>SUV</td>\n      <td>automatic</td>\n      <td>5xyktca69fg561319</td>\n      <td>ca</td>\n      <td>5.0</td>\n      <td>9393.0</td>\n      <td>white</td>\n      <td>beige</td>\n      <td>kia motors america  inc</td>\n      <td>20800.0</td>\n      <td>21500.0</td>\n      <td>Tue Dec 16 2014 12:30:00 GMT-0800 (PST)</td>\n    </tr>\n    <tr>\n      <th>2</th>\n      <td>2014</td>\n      <td>BMW</td>\n      <td>3 Series</td>\n      <td>328i SULEV</td>\n      <td>Sedan</td>\n      <td>automatic</td>\n      <td>wba3c1c51ek116351</td>\n      <td>ca</td>\n      <td>45.0</td>\n      <td>1331.0</td>\n      <td>gray</td>\n      <td>black</td>\n      <td>financial services remarketing (lease)</td>\n      <td>31900.0</td>\n      <td>30000.0</td>\n      <td>Thu Jan 15 2015 04:30:00 GMT-0800 (PST)</td>\n    </tr>\n    <tr>\n      <th>3</th>\n      <td>2015</td>\n      <td>Volvo</td>\n      <td>S60</td>\n      <td>T5</td>\n      <td>Sedan</td>\n      <td>automatic</td>\n      <td>yv1612tb4f1310987</td>\n      <td>ca</td>\n      <td>41.0</td>\n      <td>14282.0</td>\n      <td>white</td>\n      <td>black</td>\n      <td>volvo na rep/world omni</td>\n      <td>27500.0</td>\n      <td>27750.0</td>\n      <td>Thu Jan 29 2015 04:30:00 GMT-0800 (PST)</td>\n    </tr>\n    <tr>\n      <th>4</th>\n      <td>2014</td>\n      <td>BMW</td>\n      <td>6 Series Gran Coupe</td>\n      <td>650i</td>\n      <td>Sedan</td>\n      <td>automatic</td>\n      <td>wba6b2c57ed129731</td>\n      <td>ca</td>\n      <td>43.0</td>\n      <td>2641.0</td>\n      <td>gray</td>\n      <td>black</td>\n      <td>financial services remarketing (lease)</td>\n      <td>66000.0</td>\n      <td>67000.0</td>\n      <td>Thu Dec 18 2014 12:30:00 GMT-0800 (PST)</td>\n    </tr>\n    <tr>\n      <th>5</th>\n      <td>2015</td>\n      <td>Nissan</td>\n      <td>Altima</td>\n      <td>2.5 S</td>\n      <td>Sedan</td>\n      <td>automatic</td>\n      <td>1n4al3ap1fn326013</td>\n      <td>ca</td>\n      <td>1.0</td>\n      <td>5554.0</td>\n      <td>gray</td>\n      <td>black</td>\n      <td>enterprise vehicle exchange / tra / rental / t...</td>\n      <td>15350.0</td>\n      <td>10900.0</td>\n      <td>Tue Dec 30 2014 12:00:00 GMT-0800 (PST)</td>\n    </tr>\n    <tr>\n      <th>6</th>\n      <td>2014</td>\n      <td>BMW</td>\n      <td>M5</td>\n      <td>Base</td>\n      <td>Sedan</td>\n      <td>automatic</td>\n      <td>wbsfv9c51ed593089</td>\n      <td>ca</td>\n      <td>34.0</td>\n      <td>14943.0</td>\n      <td>black</td>\n      <td>black</td>\n      <td>the hertz corporation</td>\n      <td>69000.0</td>\n      <td>65000.0</td>\n      <td>Wed Dec 17 2014 12:30:00 GMT-0800 (PST)</td>\n    </tr>\n    <tr>\n      <th>7</th>\n      <td>2014</td>\n      <td>Chevrolet</td>\n      <td>Cruze</td>\n      <td>1LT</td>\n      <td>Sedan</td>\n      <td>automatic</td>\n      <td>1g1pc5sb2e7128460</td>\n      <td>ca</td>\n      <td>2.0</td>\n      <td>28617.0</td>\n      <td>black</td>\n      <td>black</td>\n      <td>enterprise vehicle exchange / tra / rental / t...</td>\n      <td>11900.0</td>\n      <td>9800.0</td>\n      <td>Tue Dec 16 2014 13:00:00 GMT-0800 (PST)</td>\n    </tr>\n    <tr>\n      <th>8</th>\n      <td>2014</td>\n      <td>Audi</td>\n      <td>A4</td>\n      <td>2.0T Premium Plus quattro</td>\n      <td>Sedan</td>\n      <td>automatic</td>\n      <td>wauffafl3en030343</td>\n      <td>ca</td>\n      <td>42.0</td>\n      <td>9557.0</td>\n      <td>white</td>\n      <td>black</td>\n      <td>audi mission viejo</td>\n      <td>32100.0</td>\n      <td>32250.0</td>\n      <td>Thu Dec 18 2014 12:00:00 GMT-0800 (PST)</td>\n    </tr>\n    <tr>\n      <th>9</th>\n      <td>2014</td>\n      <td>Chevrolet</td>\n      <td>Camaro</td>\n      <td>LT</td>\n      <td>Convertible</td>\n      <td>automatic</td>\n      <td>2g1fb3d37e9218789</td>\n      <td>ca</td>\n      <td>3.0</td>\n      <td>4809.0</td>\n      <td>red</td>\n      <td>black</td>\n      <td>d/m auto sales inc</td>\n      <td>26300.0</td>\n      <td>17500.0</td>\n      <td>Tue Jan 20 2015 04:00:00 GMT-0800 (PST)</td>\n    </tr>\n  </tbody>\n</table>\n</div>"
     },
     "execution_count": 23,
     "metadata": {},
     "output_type": "execute_result"
    }
   ],
   "source": [
    "car_sales = pd.read_csv(r'F:\\DataSpell\\Pandas_training\\data_sets\\car_prices.csv')\n",
    "car_sales.head(10)"
   ],
   "metadata": {
    "collapsed": false,
    "ExecuteTime": {
     "end_time": "2024-03-27T19:16:29.072847Z",
     "start_time": "2024-03-27T19:16:27.644848Z"
    }
   },
   "id": "495da05cc1a62ec",
   "execution_count": 23
  },
  {
   "cell_type": "markdown",
   "source": [
    "# 2. Display the last 10 rows of the dataset."
   ],
   "metadata": {
    "collapsed": false
   },
   "id": "529b33080685b47c"
  },
  {
   "cell_type": "code",
   "outputs": [
    {
     "data": {
      "text/plain": "        year     make           model                    trim       body  \\\n558827  2014     Jeep  Grand Cherokee                  Laredo        SUV   \n558828  2012    Dodge   Grand Caravan  American Value Package    Minivan   \n558829  2012  Hyundai         Elantra                 Limited      Sedan   \n558830  2012   Nissan          Sentra                  2.0 SR      Sedan   \n558831  2011      BMW        5 Series                    528i      Sedan   \n558832  2015      Kia            K900                  Luxury      Sedan   \n558833  2012      Ram            2500             Power Wagon   Crew Cab   \n558834  2012      BMW              X5               xDrive35d        SUV   \n558835  2015   Nissan          Altima                   2.5 S      sedan   \n558836  2014     Ford           F-150                     XLT  SuperCrew   \n\n       transmission                vin state  condition  odometer   color  \\\n558827    automatic  1c4rjfag0ec466276    pa       42.0   25180.0    gray   \n558828    automatic  2c4rdgbg1cr349287    ma       37.0   97036.0  silver   \n558829          NaN  5npdh4ae7ch106397    pa        4.0   66720.0    gray   \n558830          NaN  3n1ab6ap3cl622485    tn       26.0   35858.0   white   \n558831    automatic  wbafr1c53bc744672    fl       39.0   66403.0   white   \n558832          NaN  knalw4d4xf6019304    in       45.0   18255.0  silver   \n558833    automatic  3c6td5et6cg112407    wa        5.0   54393.0   white   \n558834    automatic  5uxzw0c58cl668465    ca       48.0   50561.0   black   \n558835    automatic  1n4al3ap0fc216050    ga       38.0   16658.0   white   \n558836    automatic  1ftfw1et2eke87277    ca       34.0   15008.0    gray   \n\n       interior                                             seller      mmr  \\\n558827    black                              hertz corporation/gdp  26000.0   \n558828     gray              ge fleet services for itself/servicer   8300.0   \n558829     gray                                     champion mazda  10250.0   \n558830     gray                                 nissan-infiniti lt   9950.0   \n558831    brown           lauderdale imports ltd bmw pembrok pines  20300.0   \n558832    black                                   avis corporation  35300.0   \n558833    black                                    i -5 uhlmann rv  30200.0   \n558834    black             financial services remarketing (lease)  29800.0   \n558835    black  enterprise vehicle exchange / tra / rental / t...  15100.0   \n558836     gray                   ford motor credit company llc pd  29600.0   \n\n        sellingprice                                 saledate  \n558827       24500.0  Tue Jul 07 2015 06:30:00 GMT-0700 (PDT)  \n558828        7800.0  Tue Jul 07 2015 06:30:00 GMT-0700 (PDT)  \n558829       10400.0  Wed Jul 08 2015 07:30:00 GMT-0700 (PDT)  \n558830       10400.0  Wed Jul 08 2015 17:15:00 GMT-0700 (PDT)  \n558831       22800.0  Tue Jul 07 2015 06:15:00 GMT-0700 (PDT)  \n558832       33000.0  Thu Jul 09 2015 07:00:00 GMT-0700 (PDT)  \n558833       30800.0  Wed Jul 08 2015 09:30:00 GMT-0700 (PDT)  \n558834       34000.0  Wed Jul 08 2015 09:30:00 GMT-0700 (PDT)  \n558835       11100.0  Thu Jul 09 2015 06:45:00 GMT-0700 (PDT)  \n558836       26700.0  Thu May 28 2015 05:30:00 GMT-0700 (PDT)  ",
      "text/html": "<div>\n<style scoped>\n    .dataframe tbody tr th:only-of-type {\n        vertical-align: middle;\n    }\n\n    .dataframe tbody tr th {\n        vertical-align: top;\n    }\n\n    .dataframe thead th {\n        text-align: right;\n    }\n</style>\n<table border=\"1\" class=\"dataframe\">\n  <thead>\n    <tr style=\"text-align: right;\">\n      <th></th>\n      <th>year</th>\n      <th>make</th>\n      <th>model</th>\n      <th>trim</th>\n      <th>body</th>\n      <th>transmission</th>\n      <th>vin</th>\n      <th>state</th>\n      <th>condition</th>\n      <th>odometer</th>\n      <th>color</th>\n      <th>interior</th>\n      <th>seller</th>\n      <th>mmr</th>\n      <th>sellingprice</th>\n      <th>saledate</th>\n    </tr>\n  </thead>\n  <tbody>\n    <tr>\n      <th>558827</th>\n      <td>2014</td>\n      <td>Jeep</td>\n      <td>Grand Cherokee</td>\n      <td>Laredo</td>\n      <td>SUV</td>\n      <td>automatic</td>\n      <td>1c4rjfag0ec466276</td>\n      <td>pa</td>\n      <td>42.0</td>\n      <td>25180.0</td>\n      <td>gray</td>\n      <td>black</td>\n      <td>hertz corporation/gdp</td>\n      <td>26000.0</td>\n      <td>24500.0</td>\n      <td>Tue Jul 07 2015 06:30:00 GMT-0700 (PDT)</td>\n    </tr>\n    <tr>\n      <th>558828</th>\n      <td>2012</td>\n      <td>Dodge</td>\n      <td>Grand Caravan</td>\n      <td>American Value Package</td>\n      <td>Minivan</td>\n      <td>automatic</td>\n      <td>2c4rdgbg1cr349287</td>\n      <td>ma</td>\n      <td>37.0</td>\n      <td>97036.0</td>\n      <td>silver</td>\n      <td>gray</td>\n      <td>ge fleet services for itself/servicer</td>\n      <td>8300.0</td>\n      <td>7800.0</td>\n      <td>Tue Jul 07 2015 06:30:00 GMT-0700 (PDT)</td>\n    </tr>\n    <tr>\n      <th>558829</th>\n      <td>2012</td>\n      <td>Hyundai</td>\n      <td>Elantra</td>\n      <td>Limited</td>\n      <td>Sedan</td>\n      <td>NaN</td>\n      <td>5npdh4ae7ch106397</td>\n      <td>pa</td>\n      <td>4.0</td>\n      <td>66720.0</td>\n      <td>gray</td>\n      <td>gray</td>\n      <td>champion mazda</td>\n      <td>10250.0</td>\n      <td>10400.0</td>\n      <td>Wed Jul 08 2015 07:30:00 GMT-0700 (PDT)</td>\n    </tr>\n    <tr>\n      <th>558830</th>\n      <td>2012</td>\n      <td>Nissan</td>\n      <td>Sentra</td>\n      <td>2.0 SR</td>\n      <td>Sedan</td>\n      <td>NaN</td>\n      <td>3n1ab6ap3cl622485</td>\n      <td>tn</td>\n      <td>26.0</td>\n      <td>35858.0</td>\n      <td>white</td>\n      <td>gray</td>\n      <td>nissan-infiniti lt</td>\n      <td>9950.0</td>\n      <td>10400.0</td>\n      <td>Wed Jul 08 2015 17:15:00 GMT-0700 (PDT)</td>\n    </tr>\n    <tr>\n      <th>558831</th>\n      <td>2011</td>\n      <td>BMW</td>\n      <td>5 Series</td>\n      <td>528i</td>\n      <td>Sedan</td>\n      <td>automatic</td>\n      <td>wbafr1c53bc744672</td>\n      <td>fl</td>\n      <td>39.0</td>\n      <td>66403.0</td>\n      <td>white</td>\n      <td>brown</td>\n      <td>lauderdale imports ltd bmw pembrok pines</td>\n      <td>20300.0</td>\n      <td>22800.0</td>\n      <td>Tue Jul 07 2015 06:15:00 GMT-0700 (PDT)</td>\n    </tr>\n    <tr>\n      <th>558832</th>\n      <td>2015</td>\n      <td>Kia</td>\n      <td>K900</td>\n      <td>Luxury</td>\n      <td>Sedan</td>\n      <td>NaN</td>\n      <td>knalw4d4xf6019304</td>\n      <td>in</td>\n      <td>45.0</td>\n      <td>18255.0</td>\n      <td>silver</td>\n      <td>black</td>\n      <td>avis corporation</td>\n      <td>35300.0</td>\n      <td>33000.0</td>\n      <td>Thu Jul 09 2015 07:00:00 GMT-0700 (PDT)</td>\n    </tr>\n    <tr>\n      <th>558833</th>\n      <td>2012</td>\n      <td>Ram</td>\n      <td>2500</td>\n      <td>Power Wagon</td>\n      <td>Crew Cab</td>\n      <td>automatic</td>\n      <td>3c6td5et6cg112407</td>\n      <td>wa</td>\n      <td>5.0</td>\n      <td>54393.0</td>\n      <td>white</td>\n      <td>black</td>\n      <td>i -5 uhlmann rv</td>\n      <td>30200.0</td>\n      <td>30800.0</td>\n      <td>Wed Jul 08 2015 09:30:00 GMT-0700 (PDT)</td>\n    </tr>\n    <tr>\n      <th>558834</th>\n      <td>2012</td>\n      <td>BMW</td>\n      <td>X5</td>\n      <td>xDrive35d</td>\n      <td>SUV</td>\n      <td>automatic</td>\n      <td>5uxzw0c58cl668465</td>\n      <td>ca</td>\n      <td>48.0</td>\n      <td>50561.0</td>\n      <td>black</td>\n      <td>black</td>\n      <td>financial services remarketing (lease)</td>\n      <td>29800.0</td>\n      <td>34000.0</td>\n      <td>Wed Jul 08 2015 09:30:00 GMT-0700 (PDT)</td>\n    </tr>\n    <tr>\n      <th>558835</th>\n      <td>2015</td>\n      <td>Nissan</td>\n      <td>Altima</td>\n      <td>2.5 S</td>\n      <td>sedan</td>\n      <td>automatic</td>\n      <td>1n4al3ap0fc216050</td>\n      <td>ga</td>\n      <td>38.0</td>\n      <td>16658.0</td>\n      <td>white</td>\n      <td>black</td>\n      <td>enterprise vehicle exchange / tra / rental / t...</td>\n      <td>15100.0</td>\n      <td>11100.0</td>\n      <td>Thu Jul 09 2015 06:45:00 GMT-0700 (PDT)</td>\n    </tr>\n    <tr>\n      <th>558836</th>\n      <td>2014</td>\n      <td>Ford</td>\n      <td>F-150</td>\n      <td>XLT</td>\n      <td>SuperCrew</td>\n      <td>automatic</td>\n      <td>1ftfw1et2eke87277</td>\n      <td>ca</td>\n      <td>34.0</td>\n      <td>15008.0</td>\n      <td>gray</td>\n      <td>gray</td>\n      <td>ford motor credit company llc pd</td>\n      <td>29600.0</td>\n      <td>26700.0</td>\n      <td>Thu May 28 2015 05:30:00 GMT-0700 (PDT)</td>\n    </tr>\n  </tbody>\n</table>\n</div>"
     },
     "execution_count": 24,
     "metadata": {},
     "output_type": "execute_result"
    }
   ],
   "source": [
    "car_sales.tail(10)"
   ],
   "metadata": {
    "collapsed": false,
    "ExecuteTime": {
     "end_time": "2024-03-27T19:16:29.087004Z",
     "start_time": "2024-03-27T19:16:29.073925Z"
    }
   },
   "id": "2b2bb303f558f644",
   "execution_count": 24
  },
  {
   "cell_type": "markdown",
   "source": [
    "# 3. Check for any missing values in the dataset."
   ],
   "metadata": {
    "collapsed": false
   },
   "id": "e95c201d0b7744dd"
  },
  {
   "cell_type": "code",
   "outputs": [
    {
     "name": "stdout",
     "output_type": "stream",
     "text": [
      "<class 'pandas.core.frame.DataFrame'>\n",
      "RangeIndex: 558837 entries, 0 to 558836\n",
      "Data columns (total 16 columns):\n",
      " #   Column        Non-Null Count   Dtype  \n",
      "---  ------        --------------   -----  \n",
      " 0   year          558837 non-null  int64  \n",
      " 1   make          548536 non-null  object \n",
      " 2   model         548438 non-null  object \n",
      " 3   trim          548186 non-null  object \n",
      " 4   body          545642 non-null  object \n",
      " 5   transmission  493485 non-null  object \n",
      " 6   vin           558833 non-null  object \n",
      " 7   state         558837 non-null  object \n",
      " 8   condition     547017 non-null  float64\n",
      " 9   odometer      558743 non-null  float64\n",
      " 10  color         558088 non-null  object \n",
      " 11  interior      558088 non-null  object \n",
      " 12  seller        558837 non-null  object \n",
      " 13  mmr           558799 non-null  float64\n",
      " 14  sellingprice  558825 non-null  float64\n",
      " 15  saledate      558825 non-null  object \n",
      "dtypes: float64(4), int64(1), object(11)\n",
      "memory usage: 68.2+ MB\n"
     ]
    },
    {
     "data": {
      "text/plain": "year            False\nmake            False\nmodel           False\ntrim            False\nbody            False\ntransmission    False\nvin             False\nstate           False\ncondition       False\nodometer        False\ncolor           False\ninterior        False\nseller          False\nmmr             False\nsellingprice    False\nsaledate        False\ndtype: bool"
     },
     "execution_count": 25,
     "metadata": {},
     "output_type": "execute_result"
    }
   ],
   "source": [
    "car_sales.isna().sum()\n",
    "car_sales.isnull().sum()\n",
    "car_sales.info()\n",
    "car_sales.isnull().any()\n",
    "car_sales.isnull().all()"
   ],
   "metadata": {
    "collapsed": false,
    "ExecuteTime": {
     "end_time": "2024-03-27T19:16:29.900948Z",
     "start_time": "2024-03-27T19:16:29.088011Z"
    }
   },
   "id": "edb4e056a5ce1894",
   "execution_count": 25
  },
  {
   "cell_type": "markdown",
   "source": [
    "# 4. Find the number of unique makes, models, and trims."
   ],
   "metadata": {
    "collapsed": false
   },
   "id": "9797a4639f3c4801"
  },
  {
   "cell_type": "code",
   "outputs": [
    {
     "data": {
      "text/plain": "        year    make                model         trim       body  \\\n0       2015     Kia              Sorento           LX        SUV   \n1       2015     Kia              Sorento           LX        SUV   \n2       2014     BMW             3 Series   328i SULEV      Sedan   \n3       2015   Volvo                  S60           T5      Sedan   \n4       2014     BMW  6 Series Gran Coupe         650i      Sedan   \n...      ...     ...                  ...          ...        ...   \n558832  2015     Kia                 K900       Luxury      Sedan   \n558833  2012     Ram                 2500  Power Wagon   Crew Cab   \n558834  2012     BMW                   X5    xDrive35d        SUV   \n558835  2015  Nissan               Altima        2.5 S      sedan   \n558836  2014    Ford                F-150          XLT  SuperCrew   \n\n       transmission                vin state  condition  odometer   color  \\\n0         automatic  5xyktca69fg566472    ca        5.0   16639.0   white   \n1         automatic  5xyktca69fg561319    ca        5.0    9393.0   white   \n2         automatic  wba3c1c51ek116351    ca       45.0    1331.0    gray   \n3         automatic  yv1612tb4f1310987    ca       41.0   14282.0   white   \n4         automatic  wba6b2c57ed129731    ca       43.0    2641.0    gray   \n...             ...                ...   ...        ...       ...     ...   \n558832          NaN  knalw4d4xf6019304    in       45.0   18255.0  silver   \n558833    automatic  3c6td5et6cg112407    wa        5.0   54393.0   white   \n558834    automatic  5uxzw0c58cl668465    ca       48.0   50561.0   black   \n558835    automatic  1n4al3ap0fc216050    ga       38.0   16658.0   white   \n558836    automatic  1ftfw1et2eke87277    ca       34.0   15008.0    gray   \n\n       interior                                             seller      mmr  \\\n0         black                            kia motors america  inc  20500.0   \n1         beige                            kia motors america  inc  20800.0   \n2         black             financial services remarketing (lease)  31900.0   \n3         black                            volvo na rep/world omni  27500.0   \n4         black             financial services remarketing (lease)  66000.0   \n...         ...                                                ...      ...   \n558832    black                                   avis corporation  35300.0   \n558833    black                                    i -5 uhlmann rv  30200.0   \n558834    black             financial services remarketing (lease)  29800.0   \n558835    black  enterprise vehicle exchange / tra / rental / t...  15100.0   \n558836     gray                   ford motor credit company llc pd  29600.0   \n\n        sellingprice                                 saledate  \n0            21500.0  Tue Dec 16 2014 12:30:00 GMT-0800 (PST)  \n1            21500.0  Tue Dec 16 2014 12:30:00 GMT-0800 (PST)  \n2            30000.0  Thu Jan 15 2015 04:30:00 GMT-0800 (PST)  \n3            27750.0  Thu Jan 29 2015 04:30:00 GMT-0800 (PST)  \n4            67000.0  Thu Dec 18 2014 12:30:00 GMT-0800 (PST)  \n...              ...                                      ...  \n558832       33000.0  Thu Jul 09 2015 07:00:00 GMT-0700 (PDT)  \n558833       30800.0  Wed Jul 08 2015 09:30:00 GMT-0700 (PDT)  \n558834       34000.0  Wed Jul 08 2015 09:30:00 GMT-0700 (PDT)  \n558835       11100.0  Thu Jul 09 2015 06:45:00 GMT-0700 (PDT)  \n558836       26700.0  Thu May 28 2015 05:30:00 GMT-0700 (PDT)  \n\n[558837 rows x 16 columns]",
      "text/html": "<div>\n<style scoped>\n    .dataframe tbody tr th:only-of-type {\n        vertical-align: middle;\n    }\n\n    .dataframe tbody tr th {\n        vertical-align: top;\n    }\n\n    .dataframe thead th {\n        text-align: right;\n    }\n</style>\n<table border=\"1\" class=\"dataframe\">\n  <thead>\n    <tr style=\"text-align: right;\">\n      <th></th>\n      <th>year</th>\n      <th>make</th>\n      <th>model</th>\n      <th>trim</th>\n      <th>body</th>\n      <th>transmission</th>\n      <th>vin</th>\n      <th>state</th>\n      <th>condition</th>\n      <th>odometer</th>\n      <th>color</th>\n      <th>interior</th>\n      <th>seller</th>\n      <th>mmr</th>\n      <th>sellingprice</th>\n      <th>saledate</th>\n    </tr>\n  </thead>\n  <tbody>\n    <tr>\n      <th>0</th>\n      <td>2015</td>\n      <td>Kia</td>\n      <td>Sorento</td>\n      <td>LX</td>\n      <td>SUV</td>\n      <td>automatic</td>\n      <td>5xyktca69fg566472</td>\n      <td>ca</td>\n      <td>5.0</td>\n      <td>16639.0</td>\n      <td>white</td>\n      <td>black</td>\n      <td>kia motors america  inc</td>\n      <td>20500.0</td>\n      <td>21500.0</td>\n      <td>Tue Dec 16 2014 12:30:00 GMT-0800 (PST)</td>\n    </tr>\n    <tr>\n      <th>1</th>\n      <td>2015</td>\n      <td>Kia</td>\n      <td>Sorento</td>\n      <td>LX</td>\n      <td>SUV</td>\n      <td>automatic</td>\n      <td>5xyktca69fg561319</td>\n      <td>ca</td>\n      <td>5.0</td>\n      <td>9393.0</td>\n      <td>white</td>\n      <td>beige</td>\n      <td>kia motors america  inc</td>\n      <td>20800.0</td>\n      <td>21500.0</td>\n      <td>Tue Dec 16 2014 12:30:00 GMT-0800 (PST)</td>\n    </tr>\n    <tr>\n      <th>2</th>\n      <td>2014</td>\n      <td>BMW</td>\n      <td>3 Series</td>\n      <td>328i SULEV</td>\n      <td>Sedan</td>\n      <td>automatic</td>\n      <td>wba3c1c51ek116351</td>\n      <td>ca</td>\n      <td>45.0</td>\n      <td>1331.0</td>\n      <td>gray</td>\n      <td>black</td>\n      <td>financial services remarketing (lease)</td>\n      <td>31900.0</td>\n      <td>30000.0</td>\n      <td>Thu Jan 15 2015 04:30:00 GMT-0800 (PST)</td>\n    </tr>\n    <tr>\n      <th>3</th>\n      <td>2015</td>\n      <td>Volvo</td>\n      <td>S60</td>\n      <td>T5</td>\n      <td>Sedan</td>\n      <td>automatic</td>\n      <td>yv1612tb4f1310987</td>\n      <td>ca</td>\n      <td>41.0</td>\n      <td>14282.0</td>\n      <td>white</td>\n      <td>black</td>\n      <td>volvo na rep/world omni</td>\n      <td>27500.0</td>\n      <td>27750.0</td>\n      <td>Thu Jan 29 2015 04:30:00 GMT-0800 (PST)</td>\n    </tr>\n    <tr>\n      <th>4</th>\n      <td>2014</td>\n      <td>BMW</td>\n      <td>6 Series Gran Coupe</td>\n      <td>650i</td>\n      <td>Sedan</td>\n      <td>automatic</td>\n      <td>wba6b2c57ed129731</td>\n      <td>ca</td>\n      <td>43.0</td>\n      <td>2641.0</td>\n      <td>gray</td>\n      <td>black</td>\n      <td>financial services remarketing (lease)</td>\n      <td>66000.0</td>\n      <td>67000.0</td>\n      <td>Thu Dec 18 2014 12:30:00 GMT-0800 (PST)</td>\n    </tr>\n    <tr>\n      <th>...</th>\n      <td>...</td>\n      <td>...</td>\n      <td>...</td>\n      <td>...</td>\n      <td>...</td>\n      <td>...</td>\n      <td>...</td>\n      <td>...</td>\n      <td>...</td>\n      <td>...</td>\n      <td>...</td>\n      <td>...</td>\n      <td>...</td>\n      <td>...</td>\n      <td>...</td>\n      <td>...</td>\n    </tr>\n    <tr>\n      <th>558832</th>\n      <td>2015</td>\n      <td>Kia</td>\n      <td>K900</td>\n      <td>Luxury</td>\n      <td>Sedan</td>\n      <td>NaN</td>\n      <td>knalw4d4xf6019304</td>\n      <td>in</td>\n      <td>45.0</td>\n      <td>18255.0</td>\n      <td>silver</td>\n      <td>black</td>\n      <td>avis corporation</td>\n      <td>35300.0</td>\n      <td>33000.0</td>\n      <td>Thu Jul 09 2015 07:00:00 GMT-0700 (PDT)</td>\n    </tr>\n    <tr>\n      <th>558833</th>\n      <td>2012</td>\n      <td>Ram</td>\n      <td>2500</td>\n      <td>Power Wagon</td>\n      <td>Crew Cab</td>\n      <td>automatic</td>\n      <td>3c6td5et6cg112407</td>\n      <td>wa</td>\n      <td>5.0</td>\n      <td>54393.0</td>\n      <td>white</td>\n      <td>black</td>\n      <td>i -5 uhlmann rv</td>\n      <td>30200.0</td>\n      <td>30800.0</td>\n      <td>Wed Jul 08 2015 09:30:00 GMT-0700 (PDT)</td>\n    </tr>\n    <tr>\n      <th>558834</th>\n      <td>2012</td>\n      <td>BMW</td>\n      <td>X5</td>\n      <td>xDrive35d</td>\n      <td>SUV</td>\n      <td>automatic</td>\n      <td>5uxzw0c58cl668465</td>\n      <td>ca</td>\n      <td>48.0</td>\n      <td>50561.0</td>\n      <td>black</td>\n      <td>black</td>\n      <td>financial services remarketing (lease)</td>\n      <td>29800.0</td>\n      <td>34000.0</td>\n      <td>Wed Jul 08 2015 09:30:00 GMT-0700 (PDT)</td>\n    </tr>\n    <tr>\n      <th>558835</th>\n      <td>2015</td>\n      <td>Nissan</td>\n      <td>Altima</td>\n      <td>2.5 S</td>\n      <td>sedan</td>\n      <td>automatic</td>\n      <td>1n4al3ap0fc216050</td>\n      <td>ga</td>\n      <td>38.0</td>\n      <td>16658.0</td>\n      <td>white</td>\n      <td>black</td>\n      <td>enterprise vehicle exchange / tra / rental / t...</td>\n      <td>15100.0</td>\n      <td>11100.0</td>\n      <td>Thu Jul 09 2015 06:45:00 GMT-0700 (PDT)</td>\n    </tr>\n    <tr>\n      <th>558836</th>\n      <td>2014</td>\n      <td>Ford</td>\n      <td>F-150</td>\n      <td>XLT</td>\n      <td>SuperCrew</td>\n      <td>automatic</td>\n      <td>1ftfw1et2eke87277</td>\n      <td>ca</td>\n      <td>34.0</td>\n      <td>15008.0</td>\n      <td>gray</td>\n      <td>gray</td>\n      <td>ford motor credit company llc pd</td>\n      <td>29600.0</td>\n      <td>26700.0</td>\n      <td>Thu May 28 2015 05:30:00 GMT-0700 (PDT)</td>\n    </tr>\n  </tbody>\n</table>\n<p>558837 rows × 16 columns</p>\n</div>"
     },
     "execution_count": 26,
     "metadata": {},
     "output_type": "execute_result"
    }
   ],
   "source": [
    "car_sales"
   ],
   "metadata": {
    "collapsed": false,
    "ExecuteTime": {
     "end_time": "2024-03-27T19:16:29.915412Z",
     "start_time": "2024-03-27T19:16:29.901955Z"
    }
   },
   "id": "c43d12e9658f60e1",
   "execution_count": 26
  },
  {
   "cell_type": "code",
   "outputs": [
    {
     "data": {
      "text/plain": "1963"
     },
     "execution_count": 27,
     "metadata": {},
     "output_type": "execute_result"
    }
   ],
   "source": [
    "car_sales['make'].unique()\n",
    "car_sales['model'].unique()\n",
    "car_sales['trim'].unique()\n",
    "# other solution\n",
    "car_sales['make'].nunique()\n",
    "car_sales['model'].nunique()\n",
    "car_sales['trim'].nunique()"
   ],
   "metadata": {
    "collapsed": false,
    "ExecuteTime": {
     "end_time": "2024-03-27T19:16:30.023243Z",
     "start_time": "2024-03-27T19:16:29.916417Z"
    }
   },
   "id": "7bcba5b40659e7c1",
   "execution_count": 27
  },
  {
   "cell_type": "markdown",
   "source": [
    "# 5. Convert the saledate column to a datetime object."
   ],
   "metadata": {
    "collapsed": false
   },
   "id": "7c49d6753a6d49cd"
  },
  {
   "cell_type": "code",
   "outputs": [
    {
     "data": {
      "text/plain": "        year    make                model         trim       body  \\\n0       2015     Kia              Sorento           LX        SUV   \n1       2015     Kia              Sorento           LX        SUV   \n2       2014     BMW             3 Series   328i SULEV      Sedan   \n3       2015   Volvo                  S60           T5      Sedan   \n4       2014     BMW  6 Series Gran Coupe         650i      Sedan   \n...      ...     ...                  ...          ...        ...   \n558832  2015     Kia                 K900       Luxury      Sedan   \n558833  2012     Ram                 2500  Power Wagon   Crew Cab   \n558834  2012     BMW                   X5    xDrive35d        SUV   \n558835  2015  Nissan               Altima        2.5 S      sedan   \n558836  2014    Ford                F-150          XLT  SuperCrew   \n\n       transmission                vin state  condition  odometer   color  \\\n0         automatic  5xyktca69fg566472    ca        5.0   16639.0   white   \n1         automatic  5xyktca69fg561319    ca        5.0    9393.0   white   \n2         automatic  wba3c1c51ek116351    ca       45.0    1331.0    gray   \n3         automatic  yv1612tb4f1310987    ca       41.0   14282.0   white   \n4         automatic  wba6b2c57ed129731    ca       43.0    2641.0    gray   \n...             ...                ...   ...        ...       ...     ...   \n558832          NaN  knalw4d4xf6019304    in       45.0   18255.0  silver   \n558833    automatic  3c6td5et6cg112407    wa        5.0   54393.0   white   \n558834    automatic  5uxzw0c58cl668465    ca       48.0   50561.0   black   \n558835    automatic  1n4al3ap0fc216050    ga       38.0   16658.0   white   \n558836    automatic  1ftfw1et2eke87277    ca       34.0   15008.0    gray   \n\n       interior                                             seller      mmr  \\\n0         black                            kia motors america  inc  20500.0   \n1         beige                            kia motors america  inc  20800.0   \n2         black             financial services remarketing (lease)  31900.0   \n3         black                            volvo na rep/world omni  27500.0   \n4         black             financial services remarketing (lease)  66000.0   \n...         ...                                                ...      ...   \n558832    black                                   avis corporation  35300.0   \n558833    black                                    i -5 uhlmann rv  30200.0   \n558834    black             financial services remarketing (lease)  29800.0   \n558835    black  enterprise vehicle exchange / tra / rental / t...  15100.0   \n558836     gray                   ford motor credit company llc pd  29600.0   \n\n        sellingprice                                 saledate  \n0            21500.0  Tue Dec 16 2014 12:30:00 GMT-0800 (PST)  \n1            21500.0  Tue Dec 16 2014 12:30:00 GMT-0800 (PST)  \n2            30000.0  Thu Jan 15 2015 04:30:00 GMT-0800 (PST)  \n3            27750.0  Thu Jan 29 2015 04:30:00 GMT-0800 (PST)  \n4            67000.0  Thu Dec 18 2014 12:30:00 GMT-0800 (PST)  \n...              ...                                      ...  \n558832       33000.0  Thu Jul 09 2015 07:00:00 GMT-0700 (PDT)  \n558833       30800.0  Wed Jul 08 2015 09:30:00 GMT-0700 (PDT)  \n558834       34000.0  Wed Jul 08 2015 09:30:00 GMT-0700 (PDT)  \n558835       11100.0  Thu Jul 09 2015 06:45:00 GMT-0700 (PDT)  \n558836       26700.0  Thu May 28 2015 05:30:00 GMT-0700 (PDT)  \n\n[558837 rows x 16 columns]",
      "text/html": "<div>\n<style scoped>\n    .dataframe tbody tr th:only-of-type {\n        vertical-align: middle;\n    }\n\n    .dataframe tbody tr th {\n        vertical-align: top;\n    }\n\n    .dataframe thead th {\n        text-align: right;\n    }\n</style>\n<table border=\"1\" class=\"dataframe\">\n  <thead>\n    <tr style=\"text-align: right;\">\n      <th></th>\n      <th>year</th>\n      <th>make</th>\n      <th>model</th>\n      <th>trim</th>\n      <th>body</th>\n      <th>transmission</th>\n      <th>vin</th>\n      <th>state</th>\n      <th>condition</th>\n      <th>odometer</th>\n      <th>color</th>\n      <th>interior</th>\n      <th>seller</th>\n      <th>mmr</th>\n      <th>sellingprice</th>\n      <th>saledate</th>\n    </tr>\n  </thead>\n  <tbody>\n    <tr>\n      <th>0</th>\n      <td>2015</td>\n      <td>Kia</td>\n      <td>Sorento</td>\n      <td>LX</td>\n      <td>SUV</td>\n      <td>automatic</td>\n      <td>5xyktca69fg566472</td>\n      <td>ca</td>\n      <td>5.0</td>\n      <td>16639.0</td>\n      <td>white</td>\n      <td>black</td>\n      <td>kia motors america  inc</td>\n      <td>20500.0</td>\n      <td>21500.0</td>\n      <td>Tue Dec 16 2014 12:30:00 GMT-0800 (PST)</td>\n    </tr>\n    <tr>\n      <th>1</th>\n      <td>2015</td>\n      <td>Kia</td>\n      <td>Sorento</td>\n      <td>LX</td>\n      <td>SUV</td>\n      <td>automatic</td>\n      <td>5xyktca69fg561319</td>\n      <td>ca</td>\n      <td>5.0</td>\n      <td>9393.0</td>\n      <td>white</td>\n      <td>beige</td>\n      <td>kia motors america  inc</td>\n      <td>20800.0</td>\n      <td>21500.0</td>\n      <td>Tue Dec 16 2014 12:30:00 GMT-0800 (PST)</td>\n    </tr>\n    <tr>\n      <th>2</th>\n      <td>2014</td>\n      <td>BMW</td>\n      <td>3 Series</td>\n      <td>328i SULEV</td>\n      <td>Sedan</td>\n      <td>automatic</td>\n      <td>wba3c1c51ek116351</td>\n      <td>ca</td>\n      <td>45.0</td>\n      <td>1331.0</td>\n      <td>gray</td>\n      <td>black</td>\n      <td>financial services remarketing (lease)</td>\n      <td>31900.0</td>\n      <td>30000.0</td>\n      <td>Thu Jan 15 2015 04:30:00 GMT-0800 (PST)</td>\n    </tr>\n    <tr>\n      <th>3</th>\n      <td>2015</td>\n      <td>Volvo</td>\n      <td>S60</td>\n      <td>T5</td>\n      <td>Sedan</td>\n      <td>automatic</td>\n      <td>yv1612tb4f1310987</td>\n      <td>ca</td>\n      <td>41.0</td>\n      <td>14282.0</td>\n      <td>white</td>\n      <td>black</td>\n      <td>volvo na rep/world omni</td>\n      <td>27500.0</td>\n      <td>27750.0</td>\n      <td>Thu Jan 29 2015 04:30:00 GMT-0800 (PST)</td>\n    </tr>\n    <tr>\n      <th>4</th>\n      <td>2014</td>\n      <td>BMW</td>\n      <td>6 Series Gran Coupe</td>\n      <td>650i</td>\n      <td>Sedan</td>\n      <td>automatic</td>\n      <td>wba6b2c57ed129731</td>\n      <td>ca</td>\n      <td>43.0</td>\n      <td>2641.0</td>\n      <td>gray</td>\n      <td>black</td>\n      <td>financial services remarketing (lease)</td>\n      <td>66000.0</td>\n      <td>67000.0</td>\n      <td>Thu Dec 18 2014 12:30:00 GMT-0800 (PST)</td>\n    </tr>\n    <tr>\n      <th>...</th>\n      <td>...</td>\n      <td>...</td>\n      <td>...</td>\n      <td>...</td>\n      <td>...</td>\n      <td>...</td>\n      <td>...</td>\n      <td>...</td>\n      <td>...</td>\n      <td>...</td>\n      <td>...</td>\n      <td>...</td>\n      <td>...</td>\n      <td>...</td>\n      <td>...</td>\n      <td>...</td>\n    </tr>\n    <tr>\n      <th>558832</th>\n      <td>2015</td>\n      <td>Kia</td>\n      <td>K900</td>\n      <td>Luxury</td>\n      <td>Sedan</td>\n      <td>NaN</td>\n      <td>knalw4d4xf6019304</td>\n      <td>in</td>\n      <td>45.0</td>\n      <td>18255.0</td>\n      <td>silver</td>\n      <td>black</td>\n      <td>avis corporation</td>\n      <td>35300.0</td>\n      <td>33000.0</td>\n      <td>Thu Jul 09 2015 07:00:00 GMT-0700 (PDT)</td>\n    </tr>\n    <tr>\n      <th>558833</th>\n      <td>2012</td>\n      <td>Ram</td>\n      <td>2500</td>\n      <td>Power Wagon</td>\n      <td>Crew Cab</td>\n      <td>automatic</td>\n      <td>3c6td5et6cg112407</td>\n      <td>wa</td>\n      <td>5.0</td>\n      <td>54393.0</td>\n      <td>white</td>\n      <td>black</td>\n      <td>i -5 uhlmann rv</td>\n      <td>30200.0</td>\n      <td>30800.0</td>\n      <td>Wed Jul 08 2015 09:30:00 GMT-0700 (PDT)</td>\n    </tr>\n    <tr>\n      <th>558834</th>\n      <td>2012</td>\n      <td>BMW</td>\n      <td>X5</td>\n      <td>xDrive35d</td>\n      <td>SUV</td>\n      <td>automatic</td>\n      <td>5uxzw0c58cl668465</td>\n      <td>ca</td>\n      <td>48.0</td>\n      <td>50561.0</td>\n      <td>black</td>\n      <td>black</td>\n      <td>financial services remarketing (lease)</td>\n      <td>29800.0</td>\n      <td>34000.0</td>\n      <td>Wed Jul 08 2015 09:30:00 GMT-0700 (PDT)</td>\n    </tr>\n    <tr>\n      <th>558835</th>\n      <td>2015</td>\n      <td>Nissan</td>\n      <td>Altima</td>\n      <td>2.5 S</td>\n      <td>sedan</td>\n      <td>automatic</td>\n      <td>1n4al3ap0fc216050</td>\n      <td>ga</td>\n      <td>38.0</td>\n      <td>16658.0</td>\n      <td>white</td>\n      <td>black</td>\n      <td>enterprise vehicle exchange / tra / rental / t...</td>\n      <td>15100.0</td>\n      <td>11100.0</td>\n      <td>Thu Jul 09 2015 06:45:00 GMT-0700 (PDT)</td>\n    </tr>\n    <tr>\n      <th>558836</th>\n      <td>2014</td>\n      <td>Ford</td>\n      <td>F-150</td>\n      <td>XLT</td>\n      <td>SuperCrew</td>\n      <td>automatic</td>\n      <td>1ftfw1et2eke87277</td>\n      <td>ca</td>\n      <td>34.0</td>\n      <td>15008.0</td>\n      <td>gray</td>\n      <td>gray</td>\n      <td>ford motor credit company llc pd</td>\n      <td>29600.0</td>\n      <td>26700.0</td>\n      <td>Thu May 28 2015 05:30:00 GMT-0700 (PDT)</td>\n    </tr>\n  </tbody>\n</table>\n<p>558837 rows × 16 columns</p>\n</div>"
     },
     "execution_count": 28,
     "metadata": {},
     "output_type": "execute_result"
    }
   ],
   "source": [
    "# %%timeit\n",
    "car_sales"
   ],
   "metadata": {
    "collapsed": false,
    "ExecuteTime": {
     "end_time": "2024-03-27T19:16:30.037553Z",
     "start_time": "2024-03-27T19:16:30.024249Z"
    }
   },
   "id": "1d697bf7c4a5efa6",
   "execution_count": 28
  },
  {
   "cell_type": "code",
   "outputs": [
    {
     "name": "stderr",
     "output_type": "stream",
     "text": [
      "C:\\Users\\Zygim\\AppData\\Local\\Temp\\ipykernel_16556\\2826395139.py:1: UserWarning: Could not infer format, so each element will be parsed individually, falling back to `dateutil`. To ensure parsing is consistent and as-expected, please specify a format.\n",
      "  car_sales['saledate'] = pd.to_datetime(car_sales['saledate'], errors='coerce', utc=True)\n"
     ]
    },
    {
     "data": {
      "text/plain": "year                                     int64\nmake                                    object\nmodel                                   object\ntrim                                    object\nbody                                    object\ntransmission                            object\nvin                                     object\nstate                                   object\ncondition                              float64\nodometer                               float64\ncolor                                   object\ninterior                                object\nseller                                  object\nmmr                                    float64\nsellingprice                           float64\nsaledate        datetime64[ns, Europe/Vilnius]\ndtype: object"
     },
     "execution_count": 29,
     "metadata": {},
     "output_type": "execute_result"
    }
   ],
   "source": [
    "car_sales['saledate'] = pd.to_datetime(car_sales['saledate'], errors='coerce', utc=True)\n",
    "car_sales['saledate'] = car_sales['saledate'].dt.tz_convert('Europe/Vilnius')\n",
    "car_sales.dtypes"
   ],
   "metadata": {
    "collapsed": false,
    "ExecuteTime": {
     "end_time": "2024-03-27T19:16:30.494105Z",
     "start_time": "2024-03-27T19:16:30.038560Z"
    }
   },
   "id": "8258792b861601aa",
   "execution_count": 29
  },
  {
   "cell_type": "markdown",
   "source": [
    "# 6. Extract the year and month from the saledate column into separate columns."
   ],
   "metadata": {
    "collapsed": false
   },
   "id": "449a995c4a785142"
  },
  {
   "cell_type": "code",
   "outputs": [
    {
     "data": {
      "text/plain": "0         12.0\n1         12.0\n2          1.0\n3          1.0\n4         12.0\n          ... \n558832     7.0\n558833     7.0\n558834     7.0\n558835     7.0\n558836     5.0\nName: saledate, Length: 558837, dtype: float64"
     },
     "execution_count": 30,
     "metadata": {},
     "output_type": "execute_result"
    }
   ],
   "source": [
    "# year = car_sales['saledate'].pd.Timestamp\n",
    "year = car_sales['saledate'].apply(lambda y: pd.Timestamp(y).year)\n",
    "month = car_sales['saledate'].apply(lambda m: pd.Timestamp(m).month)\n",
    "month[month.isna()]\n",
    "month"
   ],
   "metadata": {
    "collapsed": false,
    "ExecuteTime": {
     "end_time": "2024-03-27T19:16:31.867664Z",
     "start_time": "2024-03-27T19:16:30.495112Z"
    }
   },
   "id": "cffb8c16250a4654",
   "execution_count": 30
  },
  {
   "cell_type": "markdown",
   "source": [
    "# 7. Filter the dataset to only include cars with an odometer reading less than 100,000 miles."
   ],
   "metadata": {
    "collapsed": false
   },
   "id": "90d430031a3a1d26"
  },
  {
   "cell_type": "code",
   "outputs": [
    {
     "data": {
      "text/plain": "        year       make            model         trim           body  \\\n275     2013    Hyundai    Elantra Coupe           GS  Elantra Coupe   \n585     2013     Toyota           Tundra       Tundra    CrewMax Cab   \n1007    2012       Ford           Fiesta            S          Sedan   \n1038    2012  Chevrolet    Express Cargo         1500            Van   \n1041    2012       ford             e150     wagon v8            NaN   \n...      ...        ...              ...          ...            ...   \n558785  2004       Ford       Expedition          XLT            suv   \n558791  2012       Ford  Transit Connect    Wagon XLT        Minivan   \n558794  2007   Chrysler       PT Cruiser         Base          Wagon   \n558795  2006   Cadillac              DTS  Performance          Sedan   \n558809  2008      Honda          Odyssey         EX-L        Minivan   \n\n       transmission                vin state  condition  odometer   color  \\\n275       automatic  kmhdh6ae8du017422    ca        1.0  999999.0    blue   \n585       automatic  5tfem5f11dx062107    ca       42.0  102345.0       —   \n1007      automatic  3fadp4aj1cm132316    ca        3.0  149962.0   white   \n1038      automatic  1gcsgafx9c1156776    ca       28.0  160525.0   white   \n1041      automatic  1fdne1bw1cdb07405    ca       38.0  102647.0   white   \n...             ...                ...   ...        ...       ...     ...   \n558785    automatic  1fmru15w64la02138    fl       35.0  108286.0   white   \n558791    automatic  nm0ks9bnxct078155    mn       27.0  262065.0  silver   \n558794    automatic  3a4fy48b57t550642    nc       19.0  100881.0  silver   \n558795    automatic  1g6kd57916u116696    nj       24.0  108790.0   black   \n558809    automatic  5fnrl38738b099718    fl       41.0  101773.0  silver   \n\n       interior                            seller      mmr  sellingprice  \\\n275        gray             hyundai motor finance   8025.0        2500.0   \n585        gray               wheels exchange llc  18850.0       18500.0   \n1007       gray  enterprise fm exchange/tra/lease   3650.0        3200.0   \n1038       gray                    lease plan usa   8800.0        7800.0   \n1041       gray                         vpsi  inc   8575.0        8800.0   \n...         ...                               ...      ...           ...   \n558785     gray    prestige leasing and sales inc   4325.0        5100.0   \n558791     gray              saxon fleet services  10100.0        3000.0   \n558794     gray            national fleet leasing   2000.0        3000.0   \n558795    brown                santander consumer   4875.0        4200.0   \n558809     gray     the auto group collection inc   9275.0       10000.0   \n\n                        saledate  \n275    2015-01-26 22:00:00+02:00  \n585    2014-12-17 06:30:00+02:00  \n1007   2014-12-16 06:00:00+02:00  \n1038   2014-12-16 06:00:00+02:00  \n1041   2014-12-17 06:30:00+02:00  \n...                          ...  \n558785 2015-06-23 22:30:00+03:00  \n558791 2015-07-07 08:00:00+03:00  \n558794 2015-07-06 02:30:00+03:00  \n558795 2015-07-02 09:20:00+03:00  \n558809 2015-07-07 02:15:00+03:00  \n\n[137262 rows x 16 columns]",
      "text/html": "<div>\n<style scoped>\n    .dataframe tbody tr th:only-of-type {\n        vertical-align: middle;\n    }\n\n    .dataframe tbody tr th {\n        vertical-align: top;\n    }\n\n    .dataframe thead th {\n        text-align: right;\n    }\n</style>\n<table border=\"1\" class=\"dataframe\">\n  <thead>\n    <tr style=\"text-align: right;\">\n      <th></th>\n      <th>year</th>\n      <th>make</th>\n      <th>model</th>\n      <th>trim</th>\n      <th>body</th>\n      <th>transmission</th>\n      <th>vin</th>\n      <th>state</th>\n      <th>condition</th>\n      <th>odometer</th>\n      <th>color</th>\n      <th>interior</th>\n      <th>seller</th>\n      <th>mmr</th>\n      <th>sellingprice</th>\n      <th>saledate</th>\n    </tr>\n  </thead>\n  <tbody>\n    <tr>\n      <th>275</th>\n      <td>2013</td>\n      <td>Hyundai</td>\n      <td>Elantra Coupe</td>\n      <td>GS</td>\n      <td>Elantra Coupe</td>\n      <td>automatic</td>\n      <td>kmhdh6ae8du017422</td>\n      <td>ca</td>\n      <td>1.0</td>\n      <td>999999.0</td>\n      <td>blue</td>\n      <td>gray</td>\n      <td>hyundai motor finance</td>\n      <td>8025.0</td>\n      <td>2500.0</td>\n      <td>2015-01-26 22:00:00+02:00</td>\n    </tr>\n    <tr>\n      <th>585</th>\n      <td>2013</td>\n      <td>Toyota</td>\n      <td>Tundra</td>\n      <td>Tundra</td>\n      <td>CrewMax Cab</td>\n      <td>automatic</td>\n      <td>5tfem5f11dx062107</td>\n      <td>ca</td>\n      <td>42.0</td>\n      <td>102345.0</td>\n      <td>—</td>\n      <td>gray</td>\n      <td>wheels exchange llc</td>\n      <td>18850.0</td>\n      <td>18500.0</td>\n      <td>2014-12-17 06:30:00+02:00</td>\n    </tr>\n    <tr>\n      <th>1007</th>\n      <td>2012</td>\n      <td>Ford</td>\n      <td>Fiesta</td>\n      <td>S</td>\n      <td>Sedan</td>\n      <td>automatic</td>\n      <td>3fadp4aj1cm132316</td>\n      <td>ca</td>\n      <td>3.0</td>\n      <td>149962.0</td>\n      <td>white</td>\n      <td>gray</td>\n      <td>enterprise fm exchange/tra/lease</td>\n      <td>3650.0</td>\n      <td>3200.0</td>\n      <td>2014-12-16 06:00:00+02:00</td>\n    </tr>\n    <tr>\n      <th>1038</th>\n      <td>2012</td>\n      <td>Chevrolet</td>\n      <td>Express Cargo</td>\n      <td>1500</td>\n      <td>Van</td>\n      <td>automatic</td>\n      <td>1gcsgafx9c1156776</td>\n      <td>ca</td>\n      <td>28.0</td>\n      <td>160525.0</td>\n      <td>white</td>\n      <td>gray</td>\n      <td>lease plan usa</td>\n      <td>8800.0</td>\n      <td>7800.0</td>\n      <td>2014-12-16 06:00:00+02:00</td>\n    </tr>\n    <tr>\n      <th>1041</th>\n      <td>2012</td>\n      <td>ford</td>\n      <td>e150</td>\n      <td>wagon v8</td>\n      <td>NaN</td>\n      <td>automatic</td>\n      <td>1fdne1bw1cdb07405</td>\n      <td>ca</td>\n      <td>38.0</td>\n      <td>102647.0</td>\n      <td>white</td>\n      <td>gray</td>\n      <td>vpsi  inc</td>\n      <td>8575.0</td>\n      <td>8800.0</td>\n      <td>2014-12-17 06:30:00+02:00</td>\n    </tr>\n    <tr>\n      <th>...</th>\n      <td>...</td>\n      <td>...</td>\n      <td>...</td>\n      <td>...</td>\n      <td>...</td>\n      <td>...</td>\n      <td>...</td>\n      <td>...</td>\n      <td>...</td>\n      <td>...</td>\n      <td>...</td>\n      <td>...</td>\n      <td>...</td>\n      <td>...</td>\n      <td>...</td>\n      <td>...</td>\n    </tr>\n    <tr>\n      <th>558785</th>\n      <td>2004</td>\n      <td>Ford</td>\n      <td>Expedition</td>\n      <td>XLT</td>\n      <td>suv</td>\n      <td>automatic</td>\n      <td>1fmru15w64la02138</td>\n      <td>fl</td>\n      <td>35.0</td>\n      <td>108286.0</td>\n      <td>white</td>\n      <td>gray</td>\n      <td>prestige leasing and sales inc</td>\n      <td>4325.0</td>\n      <td>5100.0</td>\n      <td>2015-06-23 22:30:00+03:00</td>\n    </tr>\n    <tr>\n      <th>558791</th>\n      <td>2012</td>\n      <td>Ford</td>\n      <td>Transit Connect</td>\n      <td>Wagon XLT</td>\n      <td>Minivan</td>\n      <td>automatic</td>\n      <td>nm0ks9bnxct078155</td>\n      <td>mn</td>\n      <td>27.0</td>\n      <td>262065.0</td>\n      <td>silver</td>\n      <td>gray</td>\n      <td>saxon fleet services</td>\n      <td>10100.0</td>\n      <td>3000.0</td>\n      <td>2015-07-07 08:00:00+03:00</td>\n    </tr>\n    <tr>\n      <th>558794</th>\n      <td>2007</td>\n      <td>Chrysler</td>\n      <td>PT Cruiser</td>\n      <td>Base</td>\n      <td>Wagon</td>\n      <td>automatic</td>\n      <td>3a4fy48b57t550642</td>\n      <td>nc</td>\n      <td>19.0</td>\n      <td>100881.0</td>\n      <td>silver</td>\n      <td>gray</td>\n      <td>national fleet leasing</td>\n      <td>2000.0</td>\n      <td>3000.0</td>\n      <td>2015-07-06 02:30:00+03:00</td>\n    </tr>\n    <tr>\n      <th>558795</th>\n      <td>2006</td>\n      <td>Cadillac</td>\n      <td>DTS</td>\n      <td>Performance</td>\n      <td>Sedan</td>\n      <td>automatic</td>\n      <td>1g6kd57916u116696</td>\n      <td>nj</td>\n      <td>24.0</td>\n      <td>108790.0</td>\n      <td>black</td>\n      <td>brown</td>\n      <td>santander consumer</td>\n      <td>4875.0</td>\n      <td>4200.0</td>\n      <td>2015-07-02 09:20:00+03:00</td>\n    </tr>\n    <tr>\n      <th>558809</th>\n      <td>2008</td>\n      <td>Honda</td>\n      <td>Odyssey</td>\n      <td>EX-L</td>\n      <td>Minivan</td>\n      <td>automatic</td>\n      <td>5fnrl38738b099718</td>\n      <td>fl</td>\n      <td>41.0</td>\n      <td>101773.0</td>\n      <td>silver</td>\n      <td>gray</td>\n      <td>the auto group collection inc</td>\n      <td>9275.0</td>\n      <td>10000.0</td>\n      <td>2015-07-07 02:15:00+03:00</td>\n    </tr>\n  </tbody>\n</table>\n<p>137262 rows × 16 columns</p>\n</div>"
     },
     "execution_count": 31,
     "metadata": {},
     "output_type": "execute_result"
    }
   ],
   "source": [
    "car_sales.query('odometer > 100_000')"
   ],
   "metadata": {
    "collapsed": false,
    "ExecuteTime": {
     "end_time": "2024-03-27T19:16:31.913096Z",
     "start_time": "2024-03-27T19:16:31.868673Z"
    }
   },
   "id": "9808b02d2e8c3c6",
   "execution_count": 31
  },
  {
   "cell_type": "markdown",
   "source": [
    "# 8. Create a new column indicating whether the car's transmission is automatic or manual."
   ],
   "metadata": {
    "collapsed": false
   },
   "id": "71df4a1a360da147"
  },
  {
   "cell_type": "code",
   "outputs": [
    {
     "data": {
      "text/plain": "{'year': 0,\n 'make': 1,\n 'model': 2,\n 'trim': 3,\n 'body': 4,\n 'transmission': 5,\n 'vin': 6,\n 'state': 7,\n 'condition': 8,\n 'odometer': 9,\n 'color': 10,\n 'interior': 11,\n 'seller': 12,\n 'mmr': 13,\n 'sellingprice': 14,\n 'saledate': 15}"
     },
     "execution_count": 32,
     "metadata": {},
     "output_type": "execute_result"
    }
   ],
   "source": [
    "column_names = list(car_sales.columns)\n",
    "column_names_index = {index: value for value, index in enumerate(column_names)}\n",
    "column_names_index"
   ],
   "metadata": {
    "collapsed": false,
    "ExecuteTime": {
     "end_time": "2024-03-27T19:16:31.919608Z",
     "start_time": "2024-03-27T19:16:31.914103Z"
    }
   },
   "id": "13646f1208c4ae31",
   "execution_count": 32
  },
  {
   "cell_type": "code",
   "outputs": [
    {
     "data": {
      "text/plain": "        year    make                model         trim       body  \\\n0       2015     Kia              Sorento           LX        SUV   \n1       2015     Kia              Sorento           LX        SUV   \n2       2014     BMW             3 Series   328i SULEV      Sedan   \n3       2015   Volvo                  S60           T5      Sedan   \n4       2014     BMW  6 Series Gran Coupe         650i      Sedan   \n...      ...     ...                  ...          ...        ...   \n558832  2015     Kia                 K900       Luxury      Sedan   \n558833  2012     Ram                 2500  Power Wagon   Crew Cab   \n558834  2012     BMW                   X5    xDrive35d        SUV   \n558835  2015  Nissan               Altima        2.5 S      sedan   \n558836  2014    Ford                F-150          XLT  SuperCrew   \n\n       transmission                vin state  condition  odometer   color  \\\n0         automatic  5xyktca69fg566472    ca        5.0   16639.0   white   \n1         automatic  5xyktca69fg561319    ca        5.0    9393.0   white   \n2         automatic  wba3c1c51ek116351    ca       45.0    1331.0    gray   \n3         automatic  yv1612tb4f1310987    ca       41.0   14282.0   white   \n4         automatic  wba6b2c57ed129731    ca       43.0    2641.0    gray   \n...             ...                ...   ...        ...       ...     ...   \n558832          NaN  knalw4d4xf6019304    in       45.0   18255.0  silver   \n558833    automatic  3c6td5et6cg112407    wa        5.0   54393.0   white   \n558834    automatic  5uxzw0c58cl668465    ca       48.0   50561.0   black   \n558835    automatic  1n4al3ap0fc216050    ga       38.0   16658.0   white   \n558836    automatic  1ftfw1et2eke87277    ca       34.0   15008.0    gray   \n\n       interior                                             seller      mmr  \\\n0         black                            kia motors america  inc  20500.0   \n1         beige                            kia motors america  inc  20800.0   \n2         black             financial services remarketing (lease)  31900.0   \n3         black                            volvo na rep/world omni  27500.0   \n4         black             financial services remarketing (lease)  66000.0   \n...         ...                                                ...      ...   \n558832    black                                   avis corporation  35300.0   \n558833    black                                    i -5 uhlmann rv  30200.0   \n558834    black             financial services remarketing (lease)  29800.0   \n558835    black  enterprise vehicle exchange / tra / rental / t...  15100.0   \n558836     gray                   ford motor credit company llc pd  29600.0   \n\n        sellingprice                  saledate  \n0            21500.0 2014-12-16 06:30:00+02:00  \n1            21500.0 2014-12-16 06:30:00+02:00  \n2            30000.0 2015-01-14 22:30:00+02:00  \n3            27750.0 2015-01-28 22:30:00+02:00  \n4            67000.0 2014-12-18 06:30:00+02:00  \n...              ...                       ...  \n558832       33000.0 2015-07-09 03:00:00+03:00  \n558833       30800.0 2015-07-08 05:30:00+03:00  \n558834       34000.0 2015-07-08 05:30:00+03:00  \n558835       11100.0 2015-07-09 02:45:00+03:00  \n558836       26700.0 2015-05-28 01:30:00+03:00  \n\n[558837 rows x 16 columns]",
      "text/html": "<div>\n<style scoped>\n    .dataframe tbody tr th:only-of-type {\n        vertical-align: middle;\n    }\n\n    .dataframe tbody tr th {\n        vertical-align: top;\n    }\n\n    .dataframe thead th {\n        text-align: right;\n    }\n</style>\n<table border=\"1\" class=\"dataframe\">\n  <thead>\n    <tr style=\"text-align: right;\">\n      <th></th>\n      <th>year</th>\n      <th>make</th>\n      <th>model</th>\n      <th>trim</th>\n      <th>body</th>\n      <th>transmission</th>\n      <th>vin</th>\n      <th>state</th>\n      <th>condition</th>\n      <th>odometer</th>\n      <th>color</th>\n      <th>interior</th>\n      <th>seller</th>\n      <th>mmr</th>\n      <th>sellingprice</th>\n      <th>saledate</th>\n    </tr>\n  </thead>\n  <tbody>\n    <tr>\n      <th>0</th>\n      <td>2015</td>\n      <td>Kia</td>\n      <td>Sorento</td>\n      <td>LX</td>\n      <td>SUV</td>\n      <td>automatic</td>\n      <td>5xyktca69fg566472</td>\n      <td>ca</td>\n      <td>5.0</td>\n      <td>16639.0</td>\n      <td>white</td>\n      <td>black</td>\n      <td>kia motors america  inc</td>\n      <td>20500.0</td>\n      <td>21500.0</td>\n      <td>2014-12-16 06:30:00+02:00</td>\n    </tr>\n    <tr>\n      <th>1</th>\n      <td>2015</td>\n      <td>Kia</td>\n      <td>Sorento</td>\n      <td>LX</td>\n      <td>SUV</td>\n      <td>automatic</td>\n      <td>5xyktca69fg561319</td>\n      <td>ca</td>\n      <td>5.0</td>\n      <td>9393.0</td>\n      <td>white</td>\n      <td>beige</td>\n      <td>kia motors america  inc</td>\n      <td>20800.0</td>\n      <td>21500.0</td>\n      <td>2014-12-16 06:30:00+02:00</td>\n    </tr>\n    <tr>\n      <th>2</th>\n      <td>2014</td>\n      <td>BMW</td>\n      <td>3 Series</td>\n      <td>328i SULEV</td>\n      <td>Sedan</td>\n      <td>automatic</td>\n      <td>wba3c1c51ek116351</td>\n      <td>ca</td>\n      <td>45.0</td>\n      <td>1331.0</td>\n      <td>gray</td>\n      <td>black</td>\n      <td>financial services remarketing (lease)</td>\n      <td>31900.0</td>\n      <td>30000.0</td>\n      <td>2015-01-14 22:30:00+02:00</td>\n    </tr>\n    <tr>\n      <th>3</th>\n      <td>2015</td>\n      <td>Volvo</td>\n      <td>S60</td>\n      <td>T5</td>\n      <td>Sedan</td>\n      <td>automatic</td>\n      <td>yv1612tb4f1310987</td>\n      <td>ca</td>\n      <td>41.0</td>\n      <td>14282.0</td>\n      <td>white</td>\n      <td>black</td>\n      <td>volvo na rep/world omni</td>\n      <td>27500.0</td>\n      <td>27750.0</td>\n      <td>2015-01-28 22:30:00+02:00</td>\n    </tr>\n    <tr>\n      <th>4</th>\n      <td>2014</td>\n      <td>BMW</td>\n      <td>6 Series Gran Coupe</td>\n      <td>650i</td>\n      <td>Sedan</td>\n      <td>automatic</td>\n      <td>wba6b2c57ed129731</td>\n      <td>ca</td>\n      <td>43.0</td>\n      <td>2641.0</td>\n      <td>gray</td>\n      <td>black</td>\n      <td>financial services remarketing (lease)</td>\n      <td>66000.0</td>\n      <td>67000.0</td>\n      <td>2014-12-18 06:30:00+02:00</td>\n    </tr>\n    <tr>\n      <th>...</th>\n      <td>...</td>\n      <td>...</td>\n      <td>...</td>\n      <td>...</td>\n      <td>...</td>\n      <td>...</td>\n      <td>...</td>\n      <td>...</td>\n      <td>...</td>\n      <td>...</td>\n      <td>...</td>\n      <td>...</td>\n      <td>...</td>\n      <td>...</td>\n      <td>...</td>\n      <td>...</td>\n    </tr>\n    <tr>\n      <th>558832</th>\n      <td>2015</td>\n      <td>Kia</td>\n      <td>K900</td>\n      <td>Luxury</td>\n      <td>Sedan</td>\n      <td>NaN</td>\n      <td>knalw4d4xf6019304</td>\n      <td>in</td>\n      <td>45.0</td>\n      <td>18255.0</td>\n      <td>silver</td>\n      <td>black</td>\n      <td>avis corporation</td>\n      <td>35300.0</td>\n      <td>33000.0</td>\n      <td>2015-07-09 03:00:00+03:00</td>\n    </tr>\n    <tr>\n      <th>558833</th>\n      <td>2012</td>\n      <td>Ram</td>\n      <td>2500</td>\n      <td>Power Wagon</td>\n      <td>Crew Cab</td>\n      <td>automatic</td>\n      <td>3c6td5et6cg112407</td>\n      <td>wa</td>\n      <td>5.0</td>\n      <td>54393.0</td>\n      <td>white</td>\n      <td>black</td>\n      <td>i -5 uhlmann rv</td>\n      <td>30200.0</td>\n      <td>30800.0</td>\n      <td>2015-07-08 05:30:00+03:00</td>\n    </tr>\n    <tr>\n      <th>558834</th>\n      <td>2012</td>\n      <td>BMW</td>\n      <td>X5</td>\n      <td>xDrive35d</td>\n      <td>SUV</td>\n      <td>automatic</td>\n      <td>5uxzw0c58cl668465</td>\n      <td>ca</td>\n      <td>48.0</td>\n      <td>50561.0</td>\n      <td>black</td>\n      <td>black</td>\n      <td>financial services remarketing (lease)</td>\n      <td>29800.0</td>\n      <td>34000.0</td>\n      <td>2015-07-08 05:30:00+03:00</td>\n    </tr>\n    <tr>\n      <th>558835</th>\n      <td>2015</td>\n      <td>Nissan</td>\n      <td>Altima</td>\n      <td>2.5 S</td>\n      <td>sedan</td>\n      <td>automatic</td>\n      <td>1n4al3ap0fc216050</td>\n      <td>ga</td>\n      <td>38.0</td>\n      <td>16658.0</td>\n      <td>white</td>\n      <td>black</td>\n      <td>enterprise vehicle exchange / tra / rental / t...</td>\n      <td>15100.0</td>\n      <td>11100.0</td>\n      <td>2015-07-09 02:45:00+03:00</td>\n    </tr>\n    <tr>\n      <th>558836</th>\n      <td>2014</td>\n      <td>Ford</td>\n      <td>F-150</td>\n      <td>XLT</td>\n      <td>SuperCrew</td>\n      <td>automatic</td>\n      <td>1ftfw1et2eke87277</td>\n      <td>ca</td>\n      <td>34.0</td>\n      <td>15008.0</td>\n      <td>gray</td>\n      <td>gray</td>\n      <td>ford motor credit company llc pd</td>\n      <td>29600.0</td>\n      <td>26700.0</td>\n      <td>2015-05-28 01:30:00+03:00</td>\n    </tr>\n  </tbody>\n</table>\n<p>558837 rows × 16 columns</p>\n</div>"
     },
     "execution_count": 33,
     "metadata": {},
     "output_type": "execute_result"
    }
   ],
   "source": [
    "def car_transmission(row):\n",
    "  transmission = row['transmission']\n",
    "  if transmission == 'automatic':\n",
    "    return 'Automatic'\n",
    "  if transmission == 'manual':\n",
    "    return 'Manual'\n",
    "  else:\n",
    "    return 'Unknown'\n",
    "\n",
    "car_sales_transmission = car_sales.apply(car_transmission, axis=1)\n",
    "# car_sales.insert(6, 'car_transmission', car_sales_transmission)\n",
    "car_sales"
   ],
   "metadata": {
    "collapsed": false,
    "ExecuteTime": {
     "end_time": "2024-03-27T19:16:34.355379Z",
     "start_time": "2024-03-27T19:16:31.920614Z"
    }
   },
   "id": "883785007627dc50",
   "execution_count": 33
  },
  {
   "cell_type": "markdown",
   "source": [
    "# 9. Group the data by year and calculate the average selling price for each year."
   ],
   "metadata": {
    "collapsed": false
   },
   "id": "d346ab27058be979"
  },
  {
   "cell_type": "code",
   "outputs": [
    {
     "name": "stderr",
     "output_type": "stream",
     "text": [
      "C:\\Users\\Zygim\\AppData\\Local\\Temp\\ipykernel_16556\\3628677806.py:2: UserWarning: Converting to PeriodArray/Index representation will drop timezone information.\n",
      "  year_month = car_sales['saledate'].dt.to_period('M')\n"
     ]
    },
    {
     "data": {
      "text/plain": "saledate\n2014-01    15555.946602\n2014-02    10500.000000\n2014-12    11293.613696\n2015-01    13288.454274\n2015-02    13608.249681\n2015-03    13442.898819\n2015-04    10168.325342\n2015-05    14279.749018\n2015-06    15046.379324\n2015-07    16961.943033\nFreq: M, Name: sellingprice, dtype: float64"
     },
     "execution_count": 35,
     "metadata": {},
     "output_type": "execute_result"
    }
   ],
   "source": [
    "year = car_sales['saledate'].dt.year\n",
    "year_month = car_sales['saledate'].dt.to_period('M')\n",
    "# car_sales.groupby(year)['sellingprice'].mean()\n",
    "car_sales.groupby(year_month)['sellingprice'].mean()"
   ],
   "metadata": {
    "collapsed": false,
    "ExecuteTime": {
     "end_time": "2024-03-27T19:17:09.788550Z",
     "start_time": "2024-03-27T19:17:09.701137Z"
    }
   },
   "id": "4ab4e50435fc054c",
   "execution_count": 35
  },
  {
   "cell_type": "markdown",
   "source": [
    "# 10. Identify the top 5 most common car colors."
   ],
   "metadata": {
    "collapsed": false
   },
   "id": "396ed10aad429d52"
  },
  {
   "cell_type": "code",
   "outputs": [
    {
     "data": {
      "text/plain": "color\nblack     110970\nwhite     106673\nsilver     83389\ngray       82857\nblue       51139\nName: count, dtype: int64"
     },
     "execution_count": 38,
     "metadata": {},
     "output_type": "execute_result"
    }
   ],
   "source": [
    "car_sales['color'].value_counts().head(5)"
   ],
   "metadata": {
    "collapsed": false,
    "ExecuteTime": {
     "end_time": "2024-03-27T19:20:03.597862Z",
     "start_time": "2024-03-27T19:20:03.568590Z"
    }
   },
   "id": "a9dac99f23ae3276",
   "execution_count": 38
  },
  {
   "cell_type": "markdown",
   "source": [
    "# 11. Calculate the average odometer reading by make and model."
   ],
   "metadata": {
    "collapsed": false
   },
   "id": "27f7491eaebab2ca"
  },
  {
   "cell_type": "code",
   "outputs": [
    {
     "data": {
      "text/plain": "make           model                 \nToyota         Paseo                     338382.000000\nchrysler       300                       328980.750000\ngmc            yukon                     295033.000000\nFord           Windstar Cargo            278807.750000\nford           f350                      273757.000000\n                                             ...      \nLexus          RC 350                      2875.000000\nMercedes-Benz  B-Class Electric Drive      2616.600000\nAudi           Q3                          1404.000000\nBMW            i8                          1056.111111\nCadillac       Fleetwood                      1.000000\nName: odometer, Length: 1019, dtype: float64"
     },
     "execution_count": 43,
     "metadata": {},
     "output_type": "execute_result"
    }
   ],
   "source": [
    "car_sales.groupby(['make', 'model'])['odometer'].mean().sort_values(ascending=False)"
   ],
   "metadata": {
    "collapsed": false,
    "ExecuteTime": {
     "end_time": "2024-03-27T19:22:30.196583Z",
     "start_time": "2024-03-27T19:22:30.109078Z"
    }
   },
   "id": "82431a236e7b079b",
   "execution_count": 43
  },
  {
   "cell_type": "markdown",
   "source": [
    "# 12. Find the make and model of the car with the highest selling price."
   ],
   "metadata": {
    "collapsed": false
   },
   "id": "7a4bbfa17bf4d0b5"
  },
  {
   "cell_type": "code",
   "outputs": [
    {
     "data": {
      "text/plain": "make           model     \nFord           Escape        230000.0\nFerrari        458 Italia    183000.0\nMercedes-Benz  S-Class       173000.0\nRolls-Royce    Ghost         171500.0\nBMW            i8            165000.0\n                               ...   \nDodge          Spirit           300.0\nDaewoo         Leganza          300.0\nOldsmobile     Regency          300.0\nchevrolet      cavalier         300.0\nToyota         Paseo            150.0\nName: sellingprice, Length: 1019, dtype: float64"
     },
     "execution_count": 48,
     "metadata": {},
     "output_type": "execute_result"
    }
   ],
   "source": [
    "car_sales.groupby(['make', 'model'])['sellingprice'].max().sort_values(ascending=False)"
   ],
   "metadata": {
    "collapsed": false,
    "ExecuteTime": {
     "end_time": "2024-03-27T19:25:04.971709Z",
     "start_time": "2024-03-27T19:25:04.882236Z"
    }
   },
   "id": "c2e6c68c5126c2af",
   "execution_count": 48
  },
  {
   "cell_type": "code",
   "outputs": [
    {
     "data": {
      "text/plain": "make       Ford\nmodel    Escape\nName: 344905, dtype: object"
     },
     "execution_count": 55,
     "metadata": {},
     "output_type": "execute_result"
    }
   ],
   "source": [
    "index_of_max_sales = car_sales['sellingprice'].idxmax()\n",
    "vehicle_sales.loc[index_of_max_sales, ['make', 'model']]"
   ],
   "metadata": {
    "collapsed": false,
    "ExecuteTime": {
     "end_time": "2024-03-27T19:29:18.933428Z",
     "start_time": "2024-03-27T19:29:18.917866Z"
    }
   },
   "id": "bf289799c86105a2",
   "execution_count": 55
  },
  {
   "cell_type": "markdown",
   "source": [
    "# 13. Filter the dataset to include only cars from states with more than 50 listings in the dataset."
   ],
   "metadata": {
    "collapsed": false
   },
   "id": "9fffa8adc1667f60"
  },
  {
   "cell_type": "code",
   "outputs": [
    {
     "data": {
      "text/plain": "        year    make                model         trim       body  \\\n0       2015     Kia              Sorento           LX        SUV   \n1       2015     Kia              Sorento           LX        SUV   \n2       2014     BMW             3 Series   328i SULEV      Sedan   \n3       2015   Volvo                  S60           T5      Sedan   \n4       2014     BMW  6 Series Gran Coupe         650i      Sedan   \n...      ...     ...                  ...          ...        ...   \n558832  2015     Kia                 K900       Luxury      Sedan   \n558833  2012     Ram                 2500  Power Wagon   Crew Cab   \n558834  2012     BMW                   X5    xDrive35d        SUV   \n558835  2015  Nissan               Altima        2.5 S      sedan   \n558836  2014    Ford                F-150          XLT  SuperCrew   \n\n       transmission                vin state  condition  odometer   color  \\\n0         automatic  5xyktca69fg566472    ca        5.0   16639.0   white   \n1         automatic  5xyktca69fg561319    ca        5.0    9393.0   white   \n2         automatic  wba3c1c51ek116351    ca       45.0    1331.0    gray   \n3         automatic  yv1612tb4f1310987    ca       41.0   14282.0   white   \n4         automatic  wba6b2c57ed129731    ca       43.0    2641.0    gray   \n...             ...                ...   ...        ...       ...     ...   \n558832          NaN  knalw4d4xf6019304    in       45.0   18255.0  silver   \n558833    automatic  3c6td5et6cg112407    wa        5.0   54393.0   white   \n558834    automatic  5uxzw0c58cl668465    ca       48.0   50561.0   black   \n558835    automatic  1n4al3ap0fc216050    ga       38.0   16658.0   white   \n558836    automatic  1ftfw1et2eke87277    ca       34.0   15008.0    gray   \n\n       interior                                             seller      mmr  \\\n0         black                            kia motors america  inc  20500.0   \n1         beige                            kia motors america  inc  20800.0   \n2         black             financial services remarketing (lease)  31900.0   \n3         black                            volvo na rep/world omni  27500.0   \n4         black             financial services remarketing (lease)  66000.0   \n...         ...                                                ...      ...   \n558832    black                                   avis corporation  35300.0   \n558833    black                                    i -5 uhlmann rv  30200.0   \n558834    black             financial services remarketing (lease)  29800.0   \n558835    black  enterprise vehicle exchange / tra / rental / t...  15100.0   \n558836     gray                   ford motor credit company llc pd  29600.0   \n\n        sellingprice                  saledate  \n0            21500.0 2014-12-16 06:30:00+02:00  \n1            21500.0 2014-12-16 06:30:00+02:00  \n2            30000.0 2015-01-14 22:30:00+02:00  \n3            27750.0 2015-01-28 22:30:00+02:00  \n4            67000.0 2014-12-18 06:30:00+02:00  \n...              ...                       ...  \n558832       33000.0 2015-07-09 03:00:00+03:00  \n558833       30800.0 2015-07-08 05:30:00+03:00  \n558834       34000.0 2015-07-08 05:30:00+03:00  \n558835       11100.0 2015-07-09 02:45:00+03:00  \n558836       26700.0 2015-05-28 01:30:00+03:00  \n\n[558785 rows x 16 columns]",
      "text/html": "<div>\n<style scoped>\n    .dataframe tbody tr th:only-of-type {\n        vertical-align: middle;\n    }\n\n    .dataframe tbody tr th {\n        vertical-align: top;\n    }\n\n    .dataframe thead th {\n        text-align: right;\n    }\n</style>\n<table border=\"1\" class=\"dataframe\">\n  <thead>\n    <tr style=\"text-align: right;\">\n      <th></th>\n      <th>year</th>\n      <th>make</th>\n      <th>model</th>\n      <th>trim</th>\n      <th>body</th>\n      <th>transmission</th>\n      <th>vin</th>\n      <th>state</th>\n      <th>condition</th>\n      <th>odometer</th>\n      <th>color</th>\n      <th>interior</th>\n      <th>seller</th>\n      <th>mmr</th>\n      <th>sellingprice</th>\n      <th>saledate</th>\n    </tr>\n  </thead>\n  <tbody>\n    <tr>\n      <th>0</th>\n      <td>2015</td>\n      <td>Kia</td>\n      <td>Sorento</td>\n      <td>LX</td>\n      <td>SUV</td>\n      <td>automatic</td>\n      <td>5xyktca69fg566472</td>\n      <td>ca</td>\n      <td>5.0</td>\n      <td>16639.0</td>\n      <td>white</td>\n      <td>black</td>\n      <td>kia motors america  inc</td>\n      <td>20500.0</td>\n      <td>21500.0</td>\n      <td>2014-12-16 06:30:00+02:00</td>\n    </tr>\n    <tr>\n      <th>1</th>\n      <td>2015</td>\n      <td>Kia</td>\n      <td>Sorento</td>\n      <td>LX</td>\n      <td>SUV</td>\n      <td>automatic</td>\n      <td>5xyktca69fg561319</td>\n      <td>ca</td>\n      <td>5.0</td>\n      <td>9393.0</td>\n      <td>white</td>\n      <td>beige</td>\n      <td>kia motors america  inc</td>\n      <td>20800.0</td>\n      <td>21500.0</td>\n      <td>2014-12-16 06:30:00+02:00</td>\n    </tr>\n    <tr>\n      <th>2</th>\n      <td>2014</td>\n      <td>BMW</td>\n      <td>3 Series</td>\n      <td>328i SULEV</td>\n      <td>Sedan</td>\n      <td>automatic</td>\n      <td>wba3c1c51ek116351</td>\n      <td>ca</td>\n      <td>45.0</td>\n      <td>1331.0</td>\n      <td>gray</td>\n      <td>black</td>\n      <td>financial services remarketing (lease)</td>\n      <td>31900.0</td>\n      <td>30000.0</td>\n      <td>2015-01-14 22:30:00+02:00</td>\n    </tr>\n    <tr>\n      <th>3</th>\n      <td>2015</td>\n      <td>Volvo</td>\n      <td>S60</td>\n      <td>T5</td>\n      <td>Sedan</td>\n      <td>automatic</td>\n      <td>yv1612tb4f1310987</td>\n      <td>ca</td>\n      <td>41.0</td>\n      <td>14282.0</td>\n      <td>white</td>\n      <td>black</td>\n      <td>volvo na rep/world omni</td>\n      <td>27500.0</td>\n      <td>27750.0</td>\n      <td>2015-01-28 22:30:00+02:00</td>\n    </tr>\n    <tr>\n      <th>4</th>\n      <td>2014</td>\n      <td>BMW</td>\n      <td>6 Series Gran Coupe</td>\n      <td>650i</td>\n      <td>Sedan</td>\n      <td>automatic</td>\n      <td>wba6b2c57ed129731</td>\n      <td>ca</td>\n      <td>43.0</td>\n      <td>2641.0</td>\n      <td>gray</td>\n      <td>black</td>\n      <td>financial services remarketing (lease)</td>\n      <td>66000.0</td>\n      <td>67000.0</td>\n      <td>2014-12-18 06:30:00+02:00</td>\n    </tr>\n    <tr>\n      <th>...</th>\n      <td>...</td>\n      <td>...</td>\n      <td>...</td>\n      <td>...</td>\n      <td>...</td>\n      <td>...</td>\n      <td>...</td>\n      <td>...</td>\n      <td>...</td>\n      <td>...</td>\n      <td>...</td>\n      <td>...</td>\n      <td>...</td>\n      <td>...</td>\n      <td>...</td>\n      <td>...</td>\n    </tr>\n    <tr>\n      <th>558832</th>\n      <td>2015</td>\n      <td>Kia</td>\n      <td>K900</td>\n      <td>Luxury</td>\n      <td>Sedan</td>\n      <td>NaN</td>\n      <td>knalw4d4xf6019304</td>\n      <td>in</td>\n      <td>45.0</td>\n      <td>18255.0</td>\n      <td>silver</td>\n      <td>black</td>\n      <td>avis corporation</td>\n      <td>35300.0</td>\n      <td>33000.0</td>\n      <td>2015-07-09 03:00:00+03:00</td>\n    </tr>\n    <tr>\n      <th>558833</th>\n      <td>2012</td>\n      <td>Ram</td>\n      <td>2500</td>\n      <td>Power Wagon</td>\n      <td>Crew Cab</td>\n      <td>automatic</td>\n      <td>3c6td5et6cg112407</td>\n      <td>wa</td>\n      <td>5.0</td>\n      <td>54393.0</td>\n      <td>white</td>\n      <td>black</td>\n      <td>i -5 uhlmann rv</td>\n      <td>30200.0</td>\n      <td>30800.0</td>\n      <td>2015-07-08 05:30:00+03:00</td>\n    </tr>\n    <tr>\n      <th>558834</th>\n      <td>2012</td>\n      <td>BMW</td>\n      <td>X5</td>\n      <td>xDrive35d</td>\n      <td>SUV</td>\n      <td>automatic</td>\n      <td>5uxzw0c58cl668465</td>\n      <td>ca</td>\n      <td>48.0</td>\n      <td>50561.0</td>\n      <td>black</td>\n      <td>black</td>\n      <td>financial services remarketing (lease)</td>\n      <td>29800.0</td>\n      <td>34000.0</td>\n      <td>2015-07-08 05:30:00+03:00</td>\n    </tr>\n    <tr>\n      <th>558835</th>\n      <td>2015</td>\n      <td>Nissan</td>\n      <td>Altima</td>\n      <td>2.5 S</td>\n      <td>sedan</td>\n      <td>automatic</td>\n      <td>1n4al3ap0fc216050</td>\n      <td>ga</td>\n      <td>38.0</td>\n      <td>16658.0</td>\n      <td>white</td>\n      <td>black</td>\n      <td>enterprise vehicle exchange / tra / rental / t...</td>\n      <td>15100.0</td>\n      <td>11100.0</td>\n      <td>2015-07-09 02:45:00+03:00</td>\n    </tr>\n    <tr>\n      <th>558836</th>\n      <td>2014</td>\n      <td>Ford</td>\n      <td>F-150</td>\n      <td>XLT</td>\n      <td>SuperCrew</td>\n      <td>automatic</td>\n      <td>1ftfw1et2eke87277</td>\n      <td>ca</td>\n      <td>34.0</td>\n      <td>15008.0</td>\n      <td>gray</td>\n      <td>gray</td>\n      <td>ford motor credit company llc pd</td>\n      <td>29600.0</td>\n      <td>26700.0</td>\n      <td>2015-05-28 01:30:00+03:00</td>\n    </tr>\n  </tbody>\n</table>\n<p>558785 rows × 16 columns</p>\n</div>"
     },
     "execution_count": 64,
     "metadata": {},
     "output_type": "execute_result"
    }
   ],
   "source": [
    "states_count = car_sales['state'].value_counts() \n",
    "states_over_50 = states_count[states_count > 50].index\n",
    "car_sales[car_sales['state'].isin(states_over_50)]"
   ],
   "metadata": {
    "collapsed": false,
    "ExecuteTime": {
     "end_time": "2024-03-27T19:34:19.616876Z",
     "start_time": "2024-03-27T19:34:19.506207Z"
    }
   },
   "id": "536036f54c5d3b76",
   "execution_count": 64
  },
  {
   "cell_type": "markdown",
   "source": [
    "# 14. Create a pivot table showing the average selling price of cars by make and body type."
   ],
   "metadata": {
    "collapsed": false
   },
   "id": "4b45c339766728f6"
  },
  {
   "cell_type": "code",
   "outputs": [
    {
     "data": {
      "text/plain": "body           Access Cab  Beetle Convertible     CTS Coupe     CTS Wagon  \\\nmake                                                                        \nAcura                 NaN                 NaN           NaN           NaN   \nAston Martin          NaN                 NaN           NaN           NaN   \nAudi                  NaN                 NaN           NaN           NaN   \nBMW                   NaN                 NaN           NaN           NaN   \nBentley               NaN                 NaN           NaN           NaN   \nBuick                 NaN                 NaN           NaN           NaN   \nCadillac              NaN                 NaN  22758.527132  17811.538462   \nChevrolet             NaN                 NaN           NaN           NaN   \nChrysler              NaN                 NaN           NaN           NaN   \nDaewoo                NaN                 NaN           NaN           NaN   \nDodge                 NaN                 NaN           NaN           NaN   \nFIAT                  NaN                 NaN           NaN           NaN   \nFerrari               NaN                 NaN           NaN           NaN   \nFisker                NaN                 NaN           NaN           NaN   \nFord                  NaN                 NaN           NaN           NaN   \nGMC                   NaN                 NaN           NaN           NaN   \nGeo                   NaN                 NaN           NaN           NaN   \nHUMMER                NaN                 NaN           NaN           NaN   \nHonda                 NaN                 NaN           NaN           NaN   \nHyundai               NaN                 NaN           NaN           NaN   \nInfiniti              NaN                 NaN           NaN           NaN   \nIsuzu                 NaN                 NaN           NaN           NaN   \nJaguar                NaN                 NaN           NaN           NaN   \nJeep                  NaN                 NaN           NaN           NaN   \nKia                   NaN                 NaN           NaN           NaN   \nLamborghini           NaN                 NaN           NaN           NaN   \nLand Rover            NaN                 NaN           NaN           NaN   \nLexus                 NaN                 NaN           NaN           NaN   \nLincoln               NaN                 NaN           NaN           NaN   \nLotus                 NaN                 NaN           NaN           NaN   \nMINI                  NaN                 NaN           NaN           NaN   \nMaserati              NaN                 NaN           NaN           NaN   \nMazda                 NaN                 NaN           NaN           NaN   \nMercedes-Benz         NaN                 NaN           NaN           NaN   \nMercury               NaN                 NaN           NaN           NaN   \nMitsubishi            NaN                 NaN           NaN           NaN   \nNissan                NaN                 NaN           NaN           NaN   \nOldsmobile            NaN                 NaN           NaN           NaN   \nPlymouth              NaN                 NaN           NaN           NaN   \nPontiac               NaN                 NaN           NaN           NaN   \nPorsche               NaN                 NaN           NaN           NaN   \nRam                   NaN                 NaN           NaN           NaN   \nRolls-Royce           NaN                 NaN           NaN           NaN   \nSaab                  NaN                 NaN           NaN           NaN   \nSaturn                NaN                 NaN           NaN           NaN   \nScion                 NaN                 NaN           NaN           NaN   \nSubaru                NaN                 NaN           NaN           NaN   \nSuzuki                NaN                 NaN           NaN           NaN   \nTesla                 NaN                 NaN           NaN           NaN   \nToyota            13262.5                 NaN           NaN           NaN   \nVolkswagen            NaN        18070.192308           NaN           NaN   \nVolvo                 NaN                 NaN           NaN           NaN   \nsmart                 NaN                 NaN           NaN           NaN   \nAverage Total     13262.5        18070.192308  22758.527132  17811.538462   \n\nbody           CTS-V Coupe  CTS-V Wagon  Cab Plus  Cab Plus 4     Club Cab  \\\nmake                                                                         \nAcura                  NaN          NaN       NaN         NaN          NaN   \nAston Martin           NaN          NaN       NaN         NaN          NaN   \nAudi                   NaN          NaN       NaN         NaN          NaN   \nBMW                    NaN          NaN       NaN         NaN          NaN   \nBentley                NaN          NaN       NaN         NaN          NaN   \nBuick                  NaN          NaN       NaN         NaN          NaN   \nCadillac          38425.75      50500.0       NaN         NaN          NaN   \nChevrolet              NaN          NaN       NaN         NaN          NaN   \nChrysler               NaN          NaN       NaN         NaN          NaN   \nDaewoo                 NaN          NaN       NaN         NaN          NaN   \nDodge                  NaN          NaN       NaN         NaN  4650.064103   \nFIAT                   NaN          NaN       NaN         NaN          NaN   \nFerrari                NaN          NaN       NaN         NaN          NaN   \nFisker                 NaN          NaN       NaN         NaN          NaN   \nFord                   NaN          NaN       NaN         NaN          NaN   \nGMC                    NaN          NaN       NaN         NaN          NaN   \nGeo                    NaN          NaN       NaN         NaN          NaN   \nHUMMER                 NaN          NaN       NaN         NaN          NaN   \nHonda                  NaN          NaN       NaN         NaN          NaN   \nHyundai                NaN          NaN       NaN         NaN          NaN   \nInfiniti               NaN          NaN       NaN         NaN          NaN   \nIsuzu                  NaN          NaN       NaN         NaN          NaN   \nJaguar                 NaN          NaN       NaN         NaN          NaN   \nJeep                   NaN          NaN       NaN         NaN          NaN   \nKia                    NaN          NaN       NaN         NaN          NaN   \nLamborghini            NaN          NaN       NaN         NaN          NaN   \nLand Rover             NaN          NaN       NaN         NaN          NaN   \nLexus                  NaN          NaN       NaN         NaN          NaN   \nLincoln                NaN          NaN       NaN         NaN          NaN   \nLotus                  NaN          NaN       NaN         NaN          NaN   \nMINI                   NaN          NaN       NaN         NaN          NaN   \nMaserati               NaN          NaN       NaN         NaN          NaN   \nMazda                  NaN          NaN    2825.0      8680.0          NaN   \nMercedes-Benz          NaN          NaN       NaN         NaN          NaN   \nMercury                NaN          NaN       NaN         NaN          NaN   \nMitsubishi             NaN          NaN       NaN         NaN          NaN   \nNissan                 NaN          NaN       NaN         NaN          NaN   \nOldsmobile             NaN          NaN       NaN         NaN          NaN   \nPlymouth               NaN          NaN       NaN         NaN          NaN   \nPontiac                NaN          NaN       NaN         NaN          NaN   \nPorsche                NaN          NaN       NaN         NaN          NaN   \nRam                    NaN          NaN       NaN         NaN          NaN   \nRolls-Royce            NaN          NaN       NaN         NaN          NaN   \nSaab                   NaN          NaN       NaN         NaN          NaN   \nSaturn                 NaN          NaN       NaN         NaN          NaN   \nScion                  NaN          NaN       NaN         NaN          NaN   \nSubaru                 NaN          NaN       NaN         NaN          NaN   \nSuzuki                 NaN          NaN       NaN         NaN          NaN   \nTesla                  NaN          NaN       NaN         NaN          NaN   \nToyota                 NaN          NaN       NaN         NaN          NaN   \nVolkswagen             NaN          NaN       NaN         NaN          NaN   \nVolvo                  NaN          NaN       NaN         NaN          NaN   \nsmart                  NaN          NaN       NaN         NaN          NaN   \nAverage Total     38425.75      50500.0    2825.0      8680.0  4650.064103   \n\nbody             Convertible  ...          sedan      supercab     supercrew  \\\nmake                          ...                                              \nAcura                    NaN  ...   12139.494681           NaN           NaN   \nAston Martin    51333.333333  ...            NaN           NaN           NaN   \nAudi            13455.177515  ...   20981.861413           NaN           NaN   \nBMW             24239.756084  ...   21180.542986           NaN           NaN   \nBentley         94400.000000  ...   74583.333333           NaN           NaN   \nBuick                    NaN  ...   10159.509709           NaN           NaN   \nCadillac        18293.181818  ...   11095.401786           NaN           NaN   \nChevrolet       24571.775777  ...    8900.866650           NaN           NaN   \nChrysler         4483.896940  ...   11609.484000           NaN           NaN   \nDaewoo                   NaN  ...            NaN           NaN           NaN   \nDodge           36900.000000  ...   10849.829073           NaN           NaN   \nFIAT            11827.586207  ...            NaN           NaN           NaN   \nFerrari        126500.000000  ...            NaN           NaN           NaN   \nFisker                   NaN  ...   45800.000000           NaN           NaN   \nFord            13701.380851  ...   10705.874971  13645.214617  23246.538509   \nGMC                      NaN  ...            NaN           NaN           NaN   \nGeo                      NaN  ...     450.000000           NaN           NaN   \nHUMMER                   NaN  ...            NaN           NaN           NaN   \nHonda           10464.285714  ...    9452.011623           NaN           NaN   \nHyundai                  NaN  ...   10920.647997           NaN           NaN   \nInfiniti        18922.727273  ...   16701.655629           NaN           NaN   \nIsuzu                    NaN  ...            NaN           NaN           NaN   \nJaguar          32280.808081  ...   23255.844156           NaN           NaN   \nJeep                     NaN  ...            NaN           NaN           NaN   \nKia                      NaN  ...   11732.011868           NaN           NaN   \nLamborghini    111500.000000  ...            NaN           NaN           NaN   \nLand Rover               NaN  ...            NaN           NaN           NaN   \nLexus           20727.513228  ...   19476.583630           NaN           NaN   \nLincoln                  NaN  ...   16405.913462           NaN           NaN   \nLotus                    NaN  ...            NaN           NaN           NaN   \nMINI            12448.484848  ...            NaN           NaN           NaN   \nMaserati        16850.000000  ...   42639.285714           NaN           NaN   \nMazda           11598.994975  ...    8301.039933           NaN           NaN   \nMercedes-Benz   22964.854527  ...   21337.819585           NaN           NaN   \nMercury                  NaN  ...    3487.096774           NaN           NaN   \nMitsubishi       3594.871795  ...    7868.455782           NaN           NaN   \nNissan          11923.936170  ...   11034.040619           NaN           NaN   \nOldsmobile               NaN  ...     835.185185           NaN           NaN   \nPlymouth        20790.000000  ...            NaN           NaN           NaN   \nPontiac          6531.397638  ...    3615.190736           NaN           NaN   \nPorsche         29899.780702  ...   54918.181818           NaN           NaN   \nRam                      NaN  ...            NaN           NaN           NaN   \nRolls-Royce              NaN  ...  157416.666667           NaN           NaN   \nSaab             3925.617284  ...    4157.407407           NaN           NaN   \nSaturn           8553.947368  ...    2741.363636           NaN           NaN   \nScion                    NaN  ...            NaN           NaN           NaN   \nSubaru                   NaN  ...   15958.506224           NaN           NaN   \nSuzuki                   NaN  ...    3678.666667           NaN           NaN   \nTesla                    NaN  ...   61361.111111           NaN           NaN   \nToyota           5971.126761  ...   11164.211674           NaN           NaN   \nVolkswagen       6744.157303  ...    9926.036721           NaN           NaN   \nVolvo           11890.829060  ...   10021.485623           NaN           NaN   \nsmart            6115.789474  ...            NaN           NaN           NaN   \nAverage Total   17143.756241  ...   12299.985824  13645.214617  23246.538509   \n\nbody                    suv   transit van  tsx sport wagon           van  \\\nmake                                                                       \nAcura          18738.020833           NaN         18118.75           NaN   \nAston Martin            NaN           NaN              NaN           NaN   \nAudi           28400.537634           NaN              NaN           NaN   \nBMW            24675.112994           NaN              NaN           NaN   \nBentley                 NaN           NaN              NaN           NaN   \nBuick          15091.878049           NaN              NaN           NaN   \nCadillac       23982.794677           NaN              NaN           NaN   \nChevrolet      14979.278682           NaN              NaN  11456.050955   \nChrysler        8667.741935           NaN              NaN           NaN   \nDaewoo                  NaN           NaN              NaN           NaN   \nDodge          13724.443008           NaN              NaN   9500.000000   \nFIAT                    NaN           NaN              NaN           NaN   \nFerrari                 NaN           NaN              NaN           NaN   \nFisker                  NaN           NaN              NaN           NaN   \nFord           15936.396548  22707.142857              NaN  14622.326446   \nGMC            16747.855286           NaN              NaN  19319.117647   \nGeo                     NaN           NaN              NaN           NaN   \nHUMMER         15630.656934           NaN              NaN           NaN   \nHonda          14889.175258           NaN              NaN           NaN   \nHyundai        11802.724665           NaN              NaN           NaN   \nInfiniti       27508.445175           NaN              NaN           NaN   \nIsuzu           1000.925926           NaN              NaN           NaN   \nJaguar                  NaN           NaN              NaN           NaN   \nJeep           16142.207583           NaN              NaN           NaN   \nKia            14195.952191           NaN              NaN           NaN   \nLamborghini             NaN           NaN              NaN           NaN   \nLand Rover     35970.754717           NaN              NaN           NaN   \nLexus          25018.852459           NaN              NaN           NaN   \nLincoln        18966.610108           NaN              NaN           NaN   \nLotus                   NaN           NaN              NaN           NaN   \nMINI                    NaN           NaN              NaN           NaN   \nMaserati                NaN           NaN              NaN           NaN   \nMazda          12700.193050           NaN              NaN           NaN   \nMercedes-Benz  27013.792526           NaN              NaN  26243.750000   \nMercury         4516.273585           NaN              NaN           NaN   \nMitsubishi     10194.893617           NaN              NaN           NaN   \nNissan         13727.415769           NaN              NaN  16823.529412   \nOldsmobile      1282.142857           NaN              NaN           NaN   \nPlymouth                NaN           NaN              NaN           NaN   \nPontiac         4703.750000           NaN              NaN           NaN   \nPorsche        36069.811321           NaN              NaN           NaN   \nRam                     NaN           NaN              NaN           NaN   \nRolls-Royce             NaN           NaN              NaN           NaN   \nSaab            4512.500000           NaN              NaN           NaN   \nSaturn          4402.095808           NaN              NaN           NaN   \nScion                   NaN           NaN              NaN           NaN   \nSubaru         19251.642336           NaN              NaN           NaN   \nSuzuki          4808.461538           NaN              NaN           NaN   \nTesla                   NaN           NaN              NaN           NaN   \nToyota         16003.309840           NaN              NaN           NaN   \nVolkswagen     14693.099448           NaN              NaN           NaN   \nVolvo          13798.214286           NaN              NaN           NaN   \nsmart                   NaN           NaN              NaN           NaN   \nAverage Total  17138.260590  22707.142857         18118.75  15009.742105   \n\nbody                  wagon  xtracab  Average Total  \nmake                                                 \nAcura                   NaN      NaN   14017.268260  \nAston Martin            NaN      NaN   54812.000000  \nAudi           13568.243243      NaN   19915.432782  \nBMW            22359.259259      NaN   21441.895748  \nBentley                 NaN      NaN   74367.672414  \nBuick                   NaN      NaN   10721.764245  \nCadillac                NaN      NaN   15221.155872  \nChevrolet       5127.272727      NaN   11978.675269  \nChrysler        2314.705882      NaN   11167.249392  \nDaewoo                  NaN      NaN     400.000000  \nDodge           4653.404255      NaN   11206.802592  \nFIAT           12314.705882      NaN   10367.487861  \nFerrari                 NaN      NaN  127210.526316  \nFisker                  NaN      NaN   46461.111111  \nFord           14169.551495      NaN   14540.469648  \nGMC                     NaN      NaN   16951.410534  \nGeo                     NaN      NaN     528.947368  \nHUMMER                  NaN      NaN   15269.488199  \nHonda                   NaN      NaN   10941.238430  \nHyundai          250.000000      NaN   11010.631608  \nInfiniti                NaN      NaN   20417.457694  \nIsuzu                   NaN      NaN    1709.196078  \nJaguar                  NaN      NaN   19782.518310  \nJeep                    NaN      NaN   15000.244145  \nKia            10176.370445      NaN   11808.672918  \nLamborghini             NaN      NaN  112625.000000  \nLand Rover              NaN      NaN   33097.855908  \nLexus           8500.000000      NaN   20286.236827  \nLincoln        23650.000000      NaN   16824.676915  \nLotus                   NaN      NaN   40800.000000  \nMINI           19505.963303      NaN   12313.663151  \nMaserati                NaN      NaN   45320.300752  \nMazda           1250.000000      NaN   10155.641234  \nMercedes-Benz   9888.805970      NaN   21590.566828  \nMercury          337.500000      NaN    3935.567269  \nMitsubishi              NaN      NaN    8201.565942  \nNissan          8023.913043      NaN   11739.015960  \nOldsmobile              NaN      NaN     954.189560  \nPlymouth                NaN      NaN    9592.500000  \nPontiac         3437.500000      NaN    3755.342673  \nPorsche                 NaN      NaN   39965.329718  \nRam                     NaN      NaN   25299.936817  \nRolls-Royce             NaN      NaN  153488.235294  \nSaab            3733.333333      NaN    3628.099174  \nSaturn           925.000000      NaN    3385.427666  \nScion           8040.404040      NaN    9578.808536  \nSubaru         15580.612245      NaN   15383.107476  \nSuzuki          1625.000000      NaN    3903.140727  \nTesla                   NaN      NaN   67054.347826  \nToyota         13778.378378   5250.0   12249.321813  \nVolkswagen      9095.930233      NaN    9383.704316  \nVolvo          11057.638889      NaN   11463.952482  \nsmart                   NaN      NaN    6247.594937  \nAverage Total  10551.605442   5250.0   13733.524264  \n\n[54 rows x 88 columns]",
      "text/html": "<div>\n<style scoped>\n    .dataframe tbody tr th:only-of-type {\n        vertical-align: middle;\n    }\n\n    .dataframe tbody tr th {\n        vertical-align: top;\n    }\n\n    .dataframe thead th {\n        text-align: right;\n    }\n</style>\n<table border=\"1\" class=\"dataframe\">\n  <thead>\n    <tr style=\"text-align: right;\">\n      <th>body</th>\n      <th>Access Cab</th>\n      <th>Beetle Convertible</th>\n      <th>CTS Coupe</th>\n      <th>CTS Wagon</th>\n      <th>CTS-V Coupe</th>\n      <th>CTS-V Wagon</th>\n      <th>Cab Plus</th>\n      <th>Cab Plus 4</th>\n      <th>Club Cab</th>\n      <th>Convertible</th>\n      <th>...</th>\n      <th>sedan</th>\n      <th>supercab</th>\n      <th>supercrew</th>\n      <th>suv</th>\n      <th>transit van</th>\n      <th>tsx sport wagon</th>\n      <th>van</th>\n      <th>wagon</th>\n      <th>xtracab</th>\n      <th>Average Total</th>\n    </tr>\n    <tr>\n      <th>make</th>\n      <th></th>\n      <th></th>\n      <th></th>\n      <th></th>\n      <th></th>\n      <th></th>\n      <th></th>\n      <th></th>\n      <th></th>\n      <th></th>\n      <th></th>\n      <th></th>\n      <th></th>\n      <th></th>\n      <th></th>\n      <th></th>\n      <th></th>\n      <th></th>\n      <th></th>\n      <th></th>\n      <th></th>\n    </tr>\n  </thead>\n  <tbody>\n    <tr>\n      <th>Acura</th>\n      <td>NaN</td>\n      <td>NaN</td>\n      <td>NaN</td>\n      <td>NaN</td>\n      <td>NaN</td>\n      <td>NaN</td>\n      <td>NaN</td>\n      <td>NaN</td>\n      <td>NaN</td>\n      <td>NaN</td>\n      <td>...</td>\n      <td>12139.494681</td>\n      <td>NaN</td>\n      <td>NaN</td>\n      <td>18738.020833</td>\n      <td>NaN</td>\n      <td>18118.75</td>\n      <td>NaN</td>\n      <td>NaN</td>\n      <td>NaN</td>\n      <td>14017.268260</td>\n    </tr>\n    <tr>\n      <th>Aston Martin</th>\n      <td>NaN</td>\n      <td>NaN</td>\n      <td>NaN</td>\n      <td>NaN</td>\n      <td>NaN</td>\n      <td>NaN</td>\n      <td>NaN</td>\n      <td>NaN</td>\n      <td>NaN</td>\n      <td>51333.333333</td>\n      <td>...</td>\n      <td>NaN</td>\n      <td>NaN</td>\n      <td>NaN</td>\n      <td>NaN</td>\n      <td>NaN</td>\n      <td>NaN</td>\n      <td>NaN</td>\n      <td>NaN</td>\n      <td>NaN</td>\n      <td>54812.000000</td>\n    </tr>\n    <tr>\n      <th>Audi</th>\n      <td>NaN</td>\n      <td>NaN</td>\n      <td>NaN</td>\n      <td>NaN</td>\n      <td>NaN</td>\n      <td>NaN</td>\n      <td>NaN</td>\n      <td>NaN</td>\n      <td>NaN</td>\n      <td>13455.177515</td>\n      <td>...</td>\n      <td>20981.861413</td>\n      <td>NaN</td>\n      <td>NaN</td>\n      <td>28400.537634</td>\n      <td>NaN</td>\n      <td>NaN</td>\n      <td>NaN</td>\n      <td>13568.243243</td>\n      <td>NaN</td>\n      <td>19915.432782</td>\n    </tr>\n    <tr>\n      <th>BMW</th>\n      <td>NaN</td>\n      <td>NaN</td>\n      <td>NaN</td>\n      <td>NaN</td>\n      <td>NaN</td>\n      <td>NaN</td>\n      <td>NaN</td>\n      <td>NaN</td>\n      <td>NaN</td>\n      <td>24239.756084</td>\n      <td>...</td>\n      <td>21180.542986</td>\n      <td>NaN</td>\n      <td>NaN</td>\n      <td>24675.112994</td>\n      <td>NaN</td>\n      <td>NaN</td>\n      <td>NaN</td>\n      <td>22359.259259</td>\n      <td>NaN</td>\n      <td>21441.895748</td>\n    </tr>\n    <tr>\n      <th>Bentley</th>\n      <td>NaN</td>\n      <td>NaN</td>\n      <td>NaN</td>\n      <td>NaN</td>\n      <td>NaN</td>\n      <td>NaN</td>\n      <td>NaN</td>\n      <td>NaN</td>\n      <td>NaN</td>\n      <td>94400.000000</td>\n      <td>...</td>\n      <td>74583.333333</td>\n      <td>NaN</td>\n      <td>NaN</td>\n      <td>NaN</td>\n      <td>NaN</td>\n      <td>NaN</td>\n      <td>NaN</td>\n      <td>NaN</td>\n      <td>NaN</td>\n      <td>74367.672414</td>\n    </tr>\n    <tr>\n      <th>Buick</th>\n      <td>NaN</td>\n      <td>NaN</td>\n      <td>NaN</td>\n      <td>NaN</td>\n      <td>NaN</td>\n      <td>NaN</td>\n      <td>NaN</td>\n      <td>NaN</td>\n      <td>NaN</td>\n      <td>NaN</td>\n      <td>...</td>\n      <td>10159.509709</td>\n      <td>NaN</td>\n      <td>NaN</td>\n      <td>15091.878049</td>\n      <td>NaN</td>\n      <td>NaN</td>\n      <td>NaN</td>\n      <td>NaN</td>\n      <td>NaN</td>\n      <td>10721.764245</td>\n    </tr>\n    <tr>\n      <th>Cadillac</th>\n      <td>NaN</td>\n      <td>NaN</td>\n      <td>22758.527132</td>\n      <td>17811.538462</td>\n      <td>38425.75</td>\n      <td>50500.0</td>\n      <td>NaN</td>\n      <td>NaN</td>\n      <td>NaN</td>\n      <td>18293.181818</td>\n      <td>...</td>\n      <td>11095.401786</td>\n      <td>NaN</td>\n      <td>NaN</td>\n      <td>23982.794677</td>\n      <td>NaN</td>\n      <td>NaN</td>\n      <td>NaN</td>\n      <td>NaN</td>\n      <td>NaN</td>\n      <td>15221.155872</td>\n    </tr>\n    <tr>\n      <th>Chevrolet</th>\n      <td>NaN</td>\n      <td>NaN</td>\n      <td>NaN</td>\n      <td>NaN</td>\n      <td>NaN</td>\n      <td>NaN</td>\n      <td>NaN</td>\n      <td>NaN</td>\n      <td>NaN</td>\n      <td>24571.775777</td>\n      <td>...</td>\n      <td>8900.866650</td>\n      <td>NaN</td>\n      <td>NaN</td>\n      <td>14979.278682</td>\n      <td>NaN</td>\n      <td>NaN</td>\n      <td>11456.050955</td>\n      <td>5127.272727</td>\n      <td>NaN</td>\n      <td>11978.675269</td>\n    </tr>\n    <tr>\n      <th>Chrysler</th>\n      <td>NaN</td>\n      <td>NaN</td>\n      <td>NaN</td>\n      <td>NaN</td>\n      <td>NaN</td>\n      <td>NaN</td>\n      <td>NaN</td>\n      <td>NaN</td>\n      <td>NaN</td>\n      <td>4483.896940</td>\n      <td>...</td>\n      <td>11609.484000</td>\n      <td>NaN</td>\n      <td>NaN</td>\n      <td>8667.741935</td>\n      <td>NaN</td>\n      <td>NaN</td>\n      <td>NaN</td>\n      <td>2314.705882</td>\n      <td>NaN</td>\n      <td>11167.249392</td>\n    </tr>\n    <tr>\n      <th>Daewoo</th>\n      <td>NaN</td>\n      <td>NaN</td>\n      <td>NaN</td>\n      <td>NaN</td>\n      <td>NaN</td>\n      <td>NaN</td>\n      <td>NaN</td>\n      <td>NaN</td>\n      <td>NaN</td>\n      <td>NaN</td>\n      <td>...</td>\n      <td>NaN</td>\n      <td>NaN</td>\n      <td>NaN</td>\n      <td>NaN</td>\n      <td>NaN</td>\n      <td>NaN</td>\n      <td>NaN</td>\n      <td>NaN</td>\n      <td>NaN</td>\n      <td>400.000000</td>\n    </tr>\n    <tr>\n      <th>Dodge</th>\n      <td>NaN</td>\n      <td>NaN</td>\n      <td>NaN</td>\n      <td>NaN</td>\n      <td>NaN</td>\n      <td>NaN</td>\n      <td>NaN</td>\n      <td>NaN</td>\n      <td>4650.064103</td>\n      <td>36900.000000</td>\n      <td>...</td>\n      <td>10849.829073</td>\n      <td>NaN</td>\n      <td>NaN</td>\n      <td>13724.443008</td>\n      <td>NaN</td>\n      <td>NaN</td>\n      <td>9500.000000</td>\n      <td>4653.404255</td>\n      <td>NaN</td>\n      <td>11206.802592</td>\n    </tr>\n    <tr>\n      <th>FIAT</th>\n      <td>NaN</td>\n      <td>NaN</td>\n      <td>NaN</td>\n      <td>NaN</td>\n      <td>NaN</td>\n      <td>NaN</td>\n      <td>NaN</td>\n      <td>NaN</td>\n      <td>NaN</td>\n      <td>11827.586207</td>\n      <td>...</td>\n      <td>NaN</td>\n      <td>NaN</td>\n      <td>NaN</td>\n      <td>NaN</td>\n      <td>NaN</td>\n      <td>NaN</td>\n      <td>NaN</td>\n      <td>12314.705882</td>\n      <td>NaN</td>\n      <td>10367.487861</td>\n    </tr>\n    <tr>\n      <th>Ferrari</th>\n      <td>NaN</td>\n      <td>NaN</td>\n      <td>NaN</td>\n      <td>NaN</td>\n      <td>NaN</td>\n      <td>NaN</td>\n      <td>NaN</td>\n      <td>NaN</td>\n      <td>NaN</td>\n      <td>126500.000000</td>\n      <td>...</td>\n      <td>NaN</td>\n      <td>NaN</td>\n      <td>NaN</td>\n      <td>NaN</td>\n      <td>NaN</td>\n      <td>NaN</td>\n      <td>NaN</td>\n      <td>NaN</td>\n      <td>NaN</td>\n      <td>127210.526316</td>\n    </tr>\n    <tr>\n      <th>Fisker</th>\n      <td>NaN</td>\n      <td>NaN</td>\n      <td>NaN</td>\n      <td>NaN</td>\n      <td>NaN</td>\n      <td>NaN</td>\n      <td>NaN</td>\n      <td>NaN</td>\n      <td>NaN</td>\n      <td>NaN</td>\n      <td>...</td>\n      <td>45800.000000</td>\n      <td>NaN</td>\n      <td>NaN</td>\n      <td>NaN</td>\n      <td>NaN</td>\n      <td>NaN</td>\n      <td>NaN</td>\n      <td>NaN</td>\n      <td>NaN</td>\n      <td>46461.111111</td>\n    </tr>\n    <tr>\n      <th>Ford</th>\n      <td>NaN</td>\n      <td>NaN</td>\n      <td>NaN</td>\n      <td>NaN</td>\n      <td>NaN</td>\n      <td>NaN</td>\n      <td>NaN</td>\n      <td>NaN</td>\n      <td>NaN</td>\n      <td>13701.380851</td>\n      <td>...</td>\n      <td>10705.874971</td>\n      <td>13645.214617</td>\n      <td>23246.538509</td>\n      <td>15936.396548</td>\n      <td>22707.142857</td>\n      <td>NaN</td>\n      <td>14622.326446</td>\n      <td>14169.551495</td>\n      <td>NaN</td>\n      <td>14540.469648</td>\n    </tr>\n    <tr>\n      <th>GMC</th>\n      <td>NaN</td>\n      <td>NaN</td>\n      <td>NaN</td>\n      <td>NaN</td>\n      <td>NaN</td>\n      <td>NaN</td>\n      <td>NaN</td>\n      <td>NaN</td>\n      <td>NaN</td>\n      <td>NaN</td>\n      <td>...</td>\n      <td>NaN</td>\n      <td>NaN</td>\n      <td>NaN</td>\n      <td>16747.855286</td>\n      <td>NaN</td>\n      <td>NaN</td>\n      <td>19319.117647</td>\n      <td>NaN</td>\n      <td>NaN</td>\n      <td>16951.410534</td>\n    </tr>\n    <tr>\n      <th>Geo</th>\n      <td>NaN</td>\n      <td>NaN</td>\n      <td>NaN</td>\n      <td>NaN</td>\n      <td>NaN</td>\n      <td>NaN</td>\n      <td>NaN</td>\n      <td>NaN</td>\n      <td>NaN</td>\n      <td>NaN</td>\n      <td>...</td>\n      <td>450.000000</td>\n      <td>NaN</td>\n      <td>NaN</td>\n      <td>NaN</td>\n      <td>NaN</td>\n      <td>NaN</td>\n      <td>NaN</td>\n      <td>NaN</td>\n      <td>NaN</td>\n      <td>528.947368</td>\n    </tr>\n    <tr>\n      <th>HUMMER</th>\n      <td>NaN</td>\n      <td>NaN</td>\n      <td>NaN</td>\n      <td>NaN</td>\n      <td>NaN</td>\n      <td>NaN</td>\n      <td>NaN</td>\n      <td>NaN</td>\n      <td>NaN</td>\n      <td>NaN</td>\n      <td>...</td>\n      <td>NaN</td>\n      <td>NaN</td>\n      <td>NaN</td>\n      <td>15630.656934</td>\n      <td>NaN</td>\n      <td>NaN</td>\n      <td>NaN</td>\n      <td>NaN</td>\n      <td>NaN</td>\n      <td>15269.488199</td>\n    </tr>\n    <tr>\n      <th>Honda</th>\n      <td>NaN</td>\n      <td>NaN</td>\n      <td>NaN</td>\n      <td>NaN</td>\n      <td>NaN</td>\n      <td>NaN</td>\n      <td>NaN</td>\n      <td>NaN</td>\n      <td>NaN</td>\n      <td>10464.285714</td>\n      <td>...</td>\n      <td>9452.011623</td>\n      <td>NaN</td>\n      <td>NaN</td>\n      <td>14889.175258</td>\n      <td>NaN</td>\n      <td>NaN</td>\n      <td>NaN</td>\n      <td>NaN</td>\n      <td>NaN</td>\n      <td>10941.238430</td>\n    </tr>\n    <tr>\n      <th>Hyundai</th>\n      <td>NaN</td>\n      <td>NaN</td>\n      <td>NaN</td>\n      <td>NaN</td>\n      <td>NaN</td>\n      <td>NaN</td>\n      <td>NaN</td>\n      <td>NaN</td>\n      <td>NaN</td>\n      <td>NaN</td>\n      <td>...</td>\n      <td>10920.647997</td>\n      <td>NaN</td>\n      <td>NaN</td>\n      <td>11802.724665</td>\n      <td>NaN</td>\n      <td>NaN</td>\n      <td>NaN</td>\n      <td>250.000000</td>\n      <td>NaN</td>\n      <td>11010.631608</td>\n    </tr>\n    <tr>\n      <th>Infiniti</th>\n      <td>NaN</td>\n      <td>NaN</td>\n      <td>NaN</td>\n      <td>NaN</td>\n      <td>NaN</td>\n      <td>NaN</td>\n      <td>NaN</td>\n      <td>NaN</td>\n      <td>NaN</td>\n      <td>18922.727273</td>\n      <td>...</td>\n      <td>16701.655629</td>\n      <td>NaN</td>\n      <td>NaN</td>\n      <td>27508.445175</td>\n      <td>NaN</td>\n      <td>NaN</td>\n      <td>NaN</td>\n      <td>NaN</td>\n      <td>NaN</td>\n      <td>20417.457694</td>\n    </tr>\n    <tr>\n      <th>Isuzu</th>\n      <td>NaN</td>\n      <td>NaN</td>\n      <td>NaN</td>\n      <td>NaN</td>\n      <td>NaN</td>\n      <td>NaN</td>\n      <td>NaN</td>\n      <td>NaN</td>\n      <td>NaN</td>\n      <td>NaN</td>\n      <td>...</td>\n      <td>NaN</td>\n      <td>NaN</td>\n      <td>NaN</td>\n      <td>1000.925926</td>\n      <td>NaN</td>\n      <td>NaN</td>\n      <td>NaN</td>\n      <td>NaN</td>\n      <td>NaN</td>\n      <td>1709.196078</td>\n    </tr>\n    <tr>\n      <th>Jaguar</th>\n      <td>NaN</td>\n      <td>NaN</td>\n      <td>NaN</td>\n      <td>NaN</td>\n      <td>NaN</td>\n      <td>NaN</td>\n      <td>NaN</td>\n      <td>NaN</td>\n      <td>NaN</td>\n      <td>32280.808081</td>\n      <td>...</td>\n      <td>23255.844156</td>\n      <td>NaN</td>\n      <td>NaN</td>\n      <td>NaN</td>\n      <td>NaN</td>\n      <td>NaN</td>\n      <td>NaN</td>\n      <td>NaN</td>\n      <td>NaN</td>\n      <td>19782.518310</td>\n    </tr>\n    <tr>\n      <th>Jeep</th>\n      <td>NaN</td>\n      <td>NaN</td>\n      <td>NaN</td>\n      <td>NaN</td>\n      <td>NaN</td>\n      <td>NaN</td>\n      <td>NaN</td>\n      <td>NaN</td>\n      <td>NaN</td>\n      <td>NaN</td>\n      <td>...</td>\n      <td>NaN</td>\n      <td>NaN</td>\n      <td>NaN</td>\n      <td>16142.207583</td>\n      <td>NaN</td>\n      <td>NaN</td>\n      <td>NaN</td>\n      <td>NaN</td>\n      <td>NaN</td>\n      <td>15000.244145</td>\n    </tr>\n    <tr>\n      <th>Kia</th>\n      <td>NaN</td>\n      <td>NaN</td>\n      <td>NaN</td>\n      <td>NaN</td>\n      <td>NaN</td>\n      <td>NaN</td>\n      <td>NaN</td>\n      <td>NaN</td>\n      <td>NaN</td>\n      <td>NaN</td>\n      <td>...</td>\n      <td>11732.011868</td>\n      <td>NaN</td>\n      <td>NaN</td>\n      <td>14195.952191</td>\n      <td>NaN</td>\n      <td>NaN</td>\n      <td>NaN</td>\n      <td>10176.370445</td>\n      <td>NaN</td>\n      <td>11808.672918</td>\n    </tr>\n    <tr>\n      <th>Lamborghini</th>\n      <td>NaN</td>\n      <td>NaN</td>\n      <td>NaN</td>\n      <td>NaN</td>\n      <td>NaN</td>\n      <td>NaN</td>\n      <td>NaN</td>\n      <td>NaN</td>\n      <td>NaN</td>\n      <td>111500.000000</td>\n      <td>...</td>\n      <td>NaN</td>\n      <td>NaN</td>\n      <td>NaN</td>\n      <td>NaN</td>\n      <td>NaN</td>\n      <td>NaN</td>\n      <td>NaN</td>\n      <td>NaN</td>\n      <td>NaN</td>\n      <td>112625.000000</td>\n    </tr>\n    <tr>\n      <th>Land Rover</th>\n      <td>NaN</td>\n      <td>NaN</td>\n      <td>NaN</td>\n      <td>NaN</td>\n      <td>NaN</td>\n      <td>NaN</td>\n      <td>NaN</td>\n      <td>NaN</td>\n      <td>NaN</td>\n      <td>NaN</td>\n      <td>...</td>\n      <td>NaN</td>\n      <td>NaN</td>\n      <td>NaN</td>\n      <td>35970.754717</td>\n      <td>NaN</td>\n      <td>NaN</td>\n      <td>NaN</td>\n      <td>NaN</td>\n      <td>NaN</td>\n      <td>33097.855908</td>\n    </tr>\n    <tr>\n      <th>Lexus</th>\n      <td>NaN</td>\n      <td>NaN</td>\n      <td>NaN</td>\n      <td>NaN</td>\n      <td>NaN</td>\n      <td>NaN</td>\n      <td>NaN</td>\n      <td>NaN</td>\n      <td>NaN</td>\n      <td>20727.513228</td>\n      <td>...</td>\n      <td>19476.583630</td>\n      <td>NaN</td>\n      <td>NaN</td>\n      <td>25018.852459</td>\n      <td>NaN</td>\n      <td>NaN</td>\n      <td>NaN</td>\n      <td>8500.000000</td>\n      <td>NaN</td>\n      <td>20286.236827</td>\n    </tr>\n    <tr>\n      <th>Lincoln</th>\n      <td>NaN</td>\n      <td>NaN</td>\n      <td>NaN</td>\n      <td>NaN</td>\n      <td>NaN</td>\n      <td>NaN</td>\n      <td>NaN</td>\n      <td>NaN</td>\n      <td>NaN</td>\n      <td>NaN</td>\n      <td>...</td>\n      <td>16405.913462</td>\n      <td>NaN</td>\n      <td>NaN</td>\n      <td>18966.610108</td>\n      <td>NaN</td>\n      <td>NaN</td>\n      <td>NaN</td>\n      <td>23650.000000</td>\n      <td>NaN</td>\n      <td>16824.676915</td>\n    </tr>\n    <tr>\n      <th>Lotus</th>\n      <td>NaN</td>\n      <td>NaN</td>\n      <td>NaN</td>\n      <td>NaN</td>\n      <td>NaN</td>\n      <td>NaN</td>\n      <td>NaN</td>\n      <td>NaN</td>\n      <td>NaN</td>\n      <td>NaN</td>\n      <td>...</td>\n      <td>NaN</td>\n      <td>NaN</td>\n      <td>NaN</td>\n      <td>NaN</td>\n      <td>NaN</td>\n      <td>NaN</td>\n      <td>NaN</td>\n      <td>NaN</td>\n      <td>NaN</td>\n      <td>40800.000000</td>\n    </tr>\n    <tr>\n      <th>MINI</th>\n      <td>NaN</td>\n      <td>NaN</td>\n      <td>NaN</td>\n      <td>NaN</td>\n      <td>NaN</td>\n      <td>NaN</td>\n      <td>NaN</td>\n      <td>NaN</td>\n      <td>NaN</td>\n      <td>12448.484848</td>\n      <td>...</td>\n      <td>NaN</td>\n      <td>NaN</td>\n      <td>NaN</td>\n      <td>NaN</td>\n      <td>NaN</td>\n      <td>NaN</td>\n      <td>NaN</td>\n      <td>19505.963303</td>\n      <td>NaN</td>\n      <td>12313.663151</td>\n    </tr>\n    <tr>\n      <th>Maserati</th>\n      <td>NaN</td>\n      <td>NaN</td>\n      <td>NaN</td>\n      <td>NaN</td>\n      <td>NaN</td>\n      <td>NaN</td>\n      <td>NaN</td>\n      <td>NaN</td>\n      <td>NaN</td>\n      <td>16850.000000</td>\n      <td>...</td>\n      <td>42639.285714</td>\n      <td>NaN</td>\n      <td>NaN</td>\n      <td>NaN</td>\n      <td>NaN</td>\n      <td>NaN</td>\n      <td>NaN</td>\n      <td>NaN</td>\n      <td>NaN</td>\n      <td>45320.300752</td>\n    </tr>\n    <tr>\n      <th>Mazda</th>\n      <td>NaN</td>\n      <td>NaN</td>\n      <td>NaN</td>\n      <td>NaN</td>\n      <td>NaN</td>\n      <td>NaN</td>\n      <td>2825.0</td>\n      <td>8680.0</td>\n      <td>NaN</td>\n      <td>11598.994975</td>\n      <td>...</td>\n      <td>8301.039933</td>\n      <td>NaN</td>\n      <td>NaN</td>\n      <td>12700.193050</td>\n      <td>NaN</td>\n      <td>NaN</td>\n      <td>NaN</td>\n      <td>1250.000000</td>\n      <td>NaN</td>\n      <td>10155.641234</td>\n    </tr>\n    <tr>\n      <th>Mercedes-Benz</th>\n      <td>NaN</td>\n      <td>NaN</td>\n      <td>NaN</td>\n      <td>NaN</td>\n      <td>NaN</td>\n      <td>NaN</td>\n      <td>NaN</td>\n      <td>NaN</td>\n      <td>NaN</td>\n      <td>22964.854527</td>\n      <td>...</td>\n      <td>21337.819585</td>\n      <td>NaN</td>\n      <td>NaN</td>\n      <td>27013.792526</td>\n      <td>NaN</td>\n      <td>NaN</td>\n      <td>26243.750000</td>\n      <td>9888.805970</td>\n      <td>NaN</td>\n      <td>21590.566828</td>\n    </tr>\n    <tr>\n      <th>Mercury</th>\n      <td>NaN</td>\n      <td>NaN</td>\n      <td>NaN</td>\n      <td>NaN</td>\n      <td>NaN</td>\n      <td>NaN</td>\n      <td>NaN</td>\n      <td>NaN</td>\n      <td>NaN</td>\n      <td>NaN</td>\n      <td>...</td>\n      <td>3487.096774</td>\n      <td>NaN</td>\n      <td>NaN</td>\n      <td>4516.273585</td>\n      <td>NaN</td>\n      <td>NaN</td>\n      <td>NaN</td>\n      <td>337.500000</td>\n      <td>NaN</td>\n      <td>3935.567269</td>\n    </tr>\n    <tr>\n      <th>Mitsubishi</th>\n      <td>NaN</td>\n      <td>NaN</td>\n      <td>NaN</td>\n      <td>NaN</td>\n      <td>NaN</td>\n      <td>NaN</td>\n      <td>NaN</td>\n      <td>NaN</td>\n      <td>NaN</td>\n      <td>3594.871795</td>\n      <td>...</td>\n      <td>7868.455782</td>\n      <td>NaN</td>\n      <td>NaN</td>\n      <td>10194.893617</td>\n      <td>NaN</td>\n      <td>NaN</td>\n      <td>NaN</td>\n      <td>NaN</td>\n      <td>NaN</td>\n      <td>8201.565942</td>\n    </tr>\n    <tr>\n      <th>Nissan</th>\n      <td>NaN</td>\n      <td>NaN</td>\n      <td>NaN</td>\n      <td>NaN</td>\n      <td>NaN</td>\n      <td>NaN</td>\n      <td>NaN</td>\n      <td>NaN</td>\n      <td>NaN</td>\n      <td>11923.936170</td>\n      <td>...</td>\n      <td>11034.040619</td>\n      <td>NaN</td>\n      <td>NaN</td>\n      <td>13727.415769</td>\n      <td>NaN</td>\n      <td>NaN</td>\n      <td>16823.529412</td>\n      <td>8023.913043</td>\n      <td>NaN</td>\n      <td>11739.015960</td>\n    </tr>\n    <tr>\n      <th>Oldsmobile</th>\n      <td>NaN</td>\n      <td>NaN</td>\n      <td>NaN</td>\n      <td>NaN</td>\n      <td>NaN</td>\n      <td>NaN</td>\n      <td>NaN</td>\n      <td>NaN</td>\n      <td>NaN</td>\n      <td>NaN</td>\n      <td>...</td>\n      <td>835.185185</td>\n      <td>NaN</td>\n      <td>NaN</td>\n      <td>1282.142857</td>\n      <td>NaN</td>\n      <td>NaN</td>\n      <td>NaN</td>\n      <td>NaN</td>\n      <td>NaN</td>\n      <td>954.189560</td>\n    </tr>\n    <tr>\n      <th>Plymouth</th>\n      <td>NaN</td>\n      <td>NaN</td>\n      <td>NaN</td>\n      <td>NaN</td>\n      <td>NaN</td>\n      <td>NaN</td>\n      <td>NaN</td>\n      <td>NaN</td>\n      <td>NaN</td>\n      <td>20790.000000</td>\n      <td>...</td>\n      <td>NaN</td>\n      <td>NaN</td>\n      <td>NaN</td>\n      <td>NaN</td>\n      <td>NaN</td>\n      <td>NaN</td>\n      <td>NaN</td>\n      <td>NaN</td>\n      <td>NaN</td>\n      <td>9592.500000</td>\n    </tr>\n    <tr>\n      <th>Pontiac</th>\n      <td>NaN</td>\n      <td>NaN</td>\n      <td>NaN</td>\n      <td>NaN</td>\n      <td>NaN</td>\n      <td>NaN</td>\n      <td>NaN</td>\n      <td>NaN</td>\n      <td>NaN</td>\n      <td>6531.397638</td>\n      <td>...</td>\n      <td>3615.190736</td>\n      <td>NaN</td>\n      <td>NaN</td>\n      <td>4703.750000</td>\n      <td>NaN</td>\n      <td>NaN</td>\n      <td>NaN</td>\n      <td>3437.500000</td>\n      <td>NaN</td>\n      <td>3755.342673</td>\n    </tr>\n    <tr>\n      <th>Porsche</th>\n      <td>NaN</td>\n      <td>NaN</td>\n      <td>NaN</td>\n      <td>NaN</td>\n      <td>NaN</td>\n      <td>NaN</td>\n      <td>NaN</td>\n      <td>NaN</td>\n      <td>NaN</td>\n      <td>29899.780702</td>\n      <td>...</td>\n      <td>54918.181818</td>\n      <td>NaN</td>\n      <td>NaN</td>\n      <td>36069.811321</td>\n      <td>NaN</td>\n      <td>NaN</td>\n      <td>NaN</td>\n      <td>NaN</td>\n      <td>NaN</td>\n      <td>39965.329718</td>\n    </tr>\n    <tr>\n      <th>Ram</th>\n      <td>NaN</td>\n      <td>NaN</td>\n      <td>NaN</td>\n      <td>NaN</td>\n      <td>NaN</td>\n      <td>NaN</td>\n      <td>NaN</td>\n      <td>NaN</td>\n      <td>NaN</td>\n      <td>NaN</td>\n      <td>...</td>\n      <td>NaN</td>\n      <td>NaN</td>\n      <td>NaN</td>\n      <td>NaN</td>\n      <td>NaN</td>\n      <td>NaN</td>\n      <td>NaN</td>\n      <td>NaN</td>\n      <td>NaN</td>\n      <td>25299.936817</td>\n    </tr>\n    <tr>\n      <th>Rolls-Royce</th>\n      <td>NaN</td>\n      <td>NaN</td>\n      <td>NaN</td>\n      <td>NaN</td>\n      <td>NaN</td>\n      <td>NaN</td>\n      <td>NaN</td>\n      <td>NaN</td>\n      <td>NaN</td>\n      <td>NaN</td>\n      <td>...</td>\n      <td>157416.666667</td>\n      <td>NaN</td>\n      <td>NaN</td>\n      <td>NaN</td>\n      <td>NaN</td>\n      <td>NaN</td>\n      <td>NaN</td>\n      <td>NaN</td>\n      <td>NaN</td>\n      <td>153488.235294</td>\n    </tr>\n    <tr>\n      <th>Saab</th>\n      <td>NaN</td>\n      <td>NaN</td>\n      <td>NaN</td>\n      <td>NaN</td>\n      <td>NaN</td>\n      <td>NaN</td>\n      <td>NaN</td>\n      <td>NaN</td>\n      <td>NaN</td>\n      <td>3925.617284</td>\n      <td>...</td>\n      <td>4157.407407</td>\n      <td>NaN</td>\n      <td>NaN</td>\n      <td>4512.500000</td>\n      <td>NaN</td>\n      <td>NaN</td>\n      <td>NaN</td>\n      <td>3733.333333</td>\n      <td>NaN</td>\n      <td>3628.099174</td>\n    </tr>\n    <tr>\n      <th>Saturn</th>\n      <td>NaN</td>\n      <td>NaN</td>\n      <td>NaN</td>\n      <td>NaN</td>\n      <td>NaN</td>\n      <td>NaN</td>\n      <td>NaN</td>\n      <td>NaN</td>\n      <td>NaN</td>\n      <td>8553.947368</td>\n      <td>...</td>\n      <td>2741.363636</td>\n      <td>NaN</td>\n      <td>NaN</td>\n      <td>4402.095808</td>\n      <td>NaN</td>\n      <td>NaN</td>\n      <td>NaN</td>\n      <td>925.000000</td>\n      <td>NaN</td>\n      <td>3385.427666</td>\n    </tr>\n    <tr>\n      <th>Scion</th>\n      <td>NaN</td>\n      <td>NaN</td>\n      <td>NaN</td>\n      <td>NaN</td>\n      <td>NaN</td>\n      <td>NaN</td>\n      <td>NaN</td>\n      <td>NaN</td>\n      <td>NaN</td>\n      <td>NaN</td>\n      <td>...</td>\n      <td>NaN</td>\n      <td>NaN</td>\n      <td>NaN</td>\n      <td>NaN</td>\n      <td>NaN</td>\n      <td>NaN</td>\n      <td>NaN</td>\n      <td>8040.404040</td>\n      <td>NaN</td>\n      <td>9578.808536</td>\n    </tr>\n    <tr>\n      <th>Subaru</th>\n      <td>NaN</td>\n      <td>NaN</td>\n      <td>NaN</td>\n      <td>NaN</td>\n      <td>NaN</td>\n      <td>NaN</td>\n      <td>NaN</td>\n      <td>NaN</td>\n      <td>NaN</td>\n      <td>NaN</td>\n      <td>...</td>\n      <td>15958.506224</td>\n      <td>NaN</td>\n      <td>NaN</td>\n      <td>19251.642336</td>\n      <td>NaN</td>\n      <td>NaN</td>\n      <td>NaN</td>\n      <td>15580.612245</td>\n      <td>NaN</td>\n      <td>15383.107476</td>\n    </tr>\n    <tr>\n      <th>Suzuki</th>\n      <td>NaN</td>\n      <td>NaN</td>\n      <td>NaN</td>\n      <td>NaN</td>\n      <td>NaN</td>\n      <td>NaN</td>\n      <td>NaN</td>\n      <td>NaN</td>\n      <td>NaN</td>\n      <td>NaN</td>\n      <td>...</td>\n      <td>3678.666667</td>\n      <td>NaN</td>\n      <td>NaN</td>\n      <td>4808.461538</td>\n      <td>NaN</td>\n      <td>NaN</td>\n      <td>NaN</td>\n      <td>1625.000000</td>\n      <td>NaN</td>\n      <td>3903.140727</td>\n    </tr>\n    <tr>\n      <th>Tesla</th>\n      <td>NaN</td>\n      <td>NaN</td>\n      <td>NaN</td>\n      <td>NaN</td>\n      <td>NaN</td>\n      <td>NaN</td>\n      <td>NaN</td>\n      <td>NaN</td>\n      <td>NaN</td>\n      <td>NaN</td>\n      <td>...</td>\n      <td>61361.111111</td>\n      <td>NaN</td>\n      <td>NaN</td>\n      <td>NaN</td>\n      <td>NaN</td>\n      <td>NaN</td>\n      <td>NaN</td>\n      <td>NaN</td>\n      <td>NaN</td>\n      <td>67054.347826</td>\n    </tr>\n    <tr>\n      <th>Toyota</th>\n      <td>13262.5</td>\n      <td>NaN</td>\n      <td>NaN</td>\n      <td>NaN</td>\n      <td>NaN</td>\n      <td>NaN</td>\n      <td>NaN</td>\n      <td>NaN</td>\n      <td>NaN</td>\n      <td>5971.126761</td>\n      <td>...</td>\n      <td>11164.211674</td>\n      <td>NaN</td>\n      <td>NaN</td>\n      <td>16003.309840</td>\n      <td>NaN</td>\n      <td>NaN</td>\n      <td>NaN</td>\n      <td>13778.378378</td>\n      <td>5250.0</td>\n      <td>12249.321813</td>\n    </tr>\n    <tr>\n      <th>Volkswagen</th>\n      <td>NaN</td>\n      <td>18070.192308</td>\n      <td>NaN</td>\n      <td>NaN</td>\n      <td>NaN</td>\n      <td>NaN</td>\n      <td>NaN</td>\n      <td>NaN</td>\n      <td>NaN</td>\n      <td>6744.157303</td>\n      <td>...</td>\n      <td>9926.036721</td>\n      <td>NaN</td>\n      <td>NaN</td>\n      <td>14693.099448</td>\n      <td>NaN</td>\n      <td>NaN</td>\n      <td>NaN</td>\n      <td>9095.930233</td>\n      <td>NaN</td>\n      <td>9383.704316</td>\n    </tr>\n    <tr>\n      <th>Volvo</th>\n      <td>NaN</td>\n      <td>NaN</td>\n      <td>NaN</td>\n      <td>NaN</td>\n      <td>NaN</td>\n      <td>NaN</td>\n      <td>NaN</td>\n      <td>NaN</td>\n      <td>NaN</td>\n      <td>11890.829060</td>\n      <td>...</td>\n      <td>10021.485623</td>\n      <td>NaN</td>\n      <td>NaN</td>\n      <td>13798.214286</td>\n      <td>NaN</td>\n      <td>NaN</td>\n      <td>NaN</td>\n      <td>11057.638889</td>\n      <td>NaN</td>\n      <td>11463.952482</td>\n    </tr>\n    <tr>\n      <th>smart</th>\n      <td>NaN</td>\n      <td>NaN</td>\n      <td>NaN</td>\n      <td>NaN</td>\n      <td>NaN</td>\n      <td>NaN</td>\n      <td>NaN</td>\n      <td>NaN</td>\n      <td>NaN</td>\n      <td>6115.789474</td>\n      <td>...</td>\n      <td>NaN</td>\n      <td>NaN</td>\n      <td>NaN</td>\n      <td>NaN</td>\n      <td>NaN</td>\n      <td>NaN</td>\n      <td>NaN</td>\n      <td>NaN</td>\n      <td>NaN</td>\n      <td>6247.594937</td>\n    </tr>\n    <tr>\n      <th>Average Total</th>\n      <td>13262.5</td>\n      <td>18070.192308</td>\n      <td>22758.527132</td>\n      <td>17811.538462</td>\n      <td>38425.75</td>\n      <td>50500.0</td>\n      <td>2825.0</td>\n      <td>8680.0</td>\n      <td>4650.064103</td>\n      <td>17143.756241</td>\n      <td>...</td>\n      <td>12299.985824</td>\n      <td>13645.214617</td>\n      <td>23246.538509</td>\n      <td>17138.260590</td>\n      <td>22707.142857</td>\n      <td>18118.75</td>\n      <td>15009.742105</td>\n      <td>10551.605442</td>\n      <td>5250.0</td>\n      <td>13733.524264</td>\n    </tr>\n  </tbody>\n</table>\n<p>54 rows × 88 columns</p>\n</div>"
     },
     "execution_count": 72,
     "metadata": {},
     "output_type": "execute_result"
    }
   ],
   "source": [
    "car_sales.pivot_table(index='make', \n",
    "                      columns='body', \n",
    "                      values='sellingprice', \n",
    "                      aggfunc='mean',\n",
    "                      margins=True,\n",
    "                      margins_name='Average Total'\n",
    "                      )"
   ],
   "metadata": {
    "collapsed": false,
    "ExecuteTime": {
     "end_time": "2024-03-27T19:38:38.728771Z",
     "start_time": "2024-03-27T19:38:38.486070Z"
    }
   },
   "id": "c814797ec8757344",
   "execution_count": 72
  },
  {
   "cell_type": "markdown",
   "source": [
    "# 15. Calculate the difference between the MMR (Market Market Range) and the selling price, then create a column for this difference."
   ],
   "metadata": {
    "collapsed": false
   },
   "id": "f27daa55062e321f"
  },
  {
   "cell_type": "code",
   "outputs": [
    {
     "data": {
      "text/plain": "{0: 'year',\n 1: 'make',\n 2: 'model',\n 3: 'trim',\n 4: 'body',\n 5: 'transmission',\n 6: 'vin',\n 7: 'state',\n 8: 'condition',\n 9: 'odometer',\n 10: 'color',\n 11: 'interior',\n 12: 'seller',\n 13: 'mmr',\n 14: 'sellingprice',\n 15: 'saledate'}"
     },
     "execution_count": 78,
     "metadata": {},
     "output_type": "execute_result"
    }
   ],
   "source": [
    "car_sales_columns= list(car_sales.columns)\n",
    "index_columns = {index: value for index, value in enumerate(car_sales_columns)}\n",
    "index_columns"
   ],
   "metadata": {
    "collapsed": false,
    "ExecuteTime": {
     "end_time": "2024-03-27T19:42:09.845210Z",
     "start_time": "2024-03-27T19:42:09.840488Z"
    }
   },
   "id": "781c8ba8d13283fd",
   "execution_count": 78
  },
  {
   "cell_type": "code",
   "outputs": [
    {
     "data": {
      "text/plain": "        year    make                model         trim       body  \\\n0       2015     Kia              Sorento           LX        SUV   \n1       2015     Kia              Sorento           LX        SUV   \n2       2014     BMW             3 Series   328i SULEV      Sedan   \n3       2015   Volvo                  S60           T5      Sedan   \n4       2014     BMW  6 Series Gran Coupe         650i      Sedan   \n...      ...     ...                  ...          ...        ...   \n558832  2015     Kia                 K900       Luxury      Sedan   \n558833  2012     Ram                 2500  Power Wagon   Crew Cab   \n558834  2012     BMW                   X5    xDrive35d        SUV   \n558835  2015  Nissan               Altima        2.5 S      sedan   \n558836  2014    Ford                F-150          XLT  SuperCrew   \n\n       transmission                vin state  condition  odometer   color  \\\n0         automatic  5xyktca69fg566472    ca        5.0   16639.0   white   \n1         automatic  5xyktca69fg561319    ca        5.0    9393.0   white   \n2         automatic  wba3c1c51ek116351    ca       45.0    1331.0    gray   \n3         automatic  yv1612tb4f1310987    ca       41.0   14282.0   white   \n4         automatic  wba6b2c57ed129731    ca       43.0    2641.0    gray   \n...             ...                ...   ...        ...       ...     ...   \n558832          NaN  knalw4d4xf6019304    in       45.0   18255.0  silver   \n558833    automatic  3c6td5et6cg112407    wa        5.0   54393.0   white   \n558834    automatic  5uxzw0c58cl668465    ca       48.0   50561.0   black   \n558835    automatic  1n4al3ap0fc216050    ga       38.0   16658.0   white   \n558836    automatic  1ftfw1et2eke87277    ca       34.0   15008.0    gray   \n\n       interior                                             seller      mmr  \\\n0         black                            kia motors america  inc  20500.0   \n1         beige                            kia motors america  inc  20800.0   \n2         black             financial services remarketing (lease)  31900.0   \n3         black                            volvo na rep/world omni  27500.0   \n4         black             financial services remarketing (lease)  66000.0   \n...         ...                                                ...      ...   \n558832    black                                   avis corporation  35300.0   \n558833    black                                    i -5 uhlmann rv  30200.0   \n558834    black             financial services remarketing (lease)  29800.0   \n558835    black  enterprise vehicle exchange / tra / rental / t...  15100.0   \n558836     gray                   ford motor credit company llc pd  29600.0   \n\n        sellingprice  mmr sell price diff                  saledate  \n0            21500.0              -1000.0 2014-12-16 06:30:00+02:00  \n1            21500.0               -700.0 2014-12-16 06:30:00+02:00  \n2            30000.0               1900.0 2015-01-14 22:30:00+02:00  \n3            27750.0               -250.0 2015-01-28 22:30:00+02:00  \n4            67000.0              -1000.0 2014-12-18 06:30:00+02:00  \n...              ...                  ...                       ...  \n558832       33000.0               2300.0 2015-07-09 03:00:00+03:00  \n558833       30800.0               -600.0 2015-07-08 05:30:00+03:00  \n558834       34000.0              -4200.0 2015-07-08 05:30:00+03:00  \n558835       11100.0               4000.0 2015-07-09 02:45:00+03:00  \n558836       26700.0               2900.0 2015-05-28 01:30:00+03:00  \n\n[558837 rows x 17 columns]",
      "text/html": "<div>\n<style scoped>\n    .dataframe tbody tr th:only-of-type {\n        vertical-align: middle;\n    }\n\n    .dataframe tbody tr th {\n        vertical-align: top;\n    }\n\n    .dataframe thead th {\n        text-align: right;\n    }\n</style>\n<table border=\"1\" class=\"dataframe\">\n  <thead>\n    <tr style=\"text-align: right;\">\n      <th></th>\n      <th>year</th>\n      <th>make</th>\n      <th>model</th>\n      <th>trim</th>\n      <th>body</th>\n      <th>transmission</th>\n      <th>vin</th>\n      <th>state</th>\n      <th>condition</th>\n      <th>odometer</th>\n      <th>color</th>\n      <th>interior</th>\n      <th>seller</th>\n      <th>mmr</th>\n      <th>sellingprice</th>\n      <th>mmr sell price diff</th>\n      <th>saledate</th>\n    </tr>\n  </thead>\n  <tbody>\n    <tr>\n      <th>0</th>\n      <td>2015</td>\n      <td>Kia</td>\n      <td>Sorento</td>\n      <td>LX</td>\n      <td>SUV</td>\n      <td>automatic</td>\n      <td>5xyktca69fg566472</td>\n      <td>ca</td>\n      <td>5.0</td>\n      <td>16639.0</td>\n      <td>white</td>\n      <td>black</td>\n      <td>kia motors america  inc</td>\n      <td>20500.0</td>\n      <td>21500.0</td>\n      <td>-1000.0</td>\n      <td>2014-12-16 06:30:00+02:00</td>\n    </tr>\n    <tr>\n      <th>1</th>\n      <td>2015</td>\n      <td>Kia</td>\n      <td>Sorento</td>\n      <td>LX</td>\n      <td>SUV</td>\n      <td>automatic</td>\n      <td>5xyktca69fg561319</td>\n      <td>ca</td>\n      <td>5.0</td>\n      <td>9393.0</td>\n      <td>white</td>\n      <td>beige</td>\n      <td>kia motors america  inc</td>\n      <td>20800.0</td>\n      <td>21500.0</td>\n      <td>-700.0</td>\n      <td>2014-12-16 06:30:00+02:00</td>\n    </tr>\n    <tr>\n      <th>2</th>\n      <td>2014</td>\n      <td>BMW</td>\n      <td>3 Series</td>\n      <td>328i SULEV</td>\n      <td>Sedan</td>\n      <td>automatic</td>\n      <td>wba3c1c51ek116351</td>\n      <td>ca</td>\n      <td>45.0</td>\n      <td>1331.0</td>\n      <td>gray</td>\n      <td>black</td>\n      <td>financial services remarketing (lease)</td>\n      <td>31900.0</td>\n      <td>30000.0</td>\n      <td>1900.0</td>\n      <td>2015-01-14 22:30:00+02:00</td>\n    </tr>\n    <tr>\n      <th>3</th>\n      <td>2015</td>\n      <td>Volvo</td>\n      <td>S60</td>\n      <td>T5</td>\n      <td>Sedan</td>\n      <td>automatic</td>\n      <td>yv1612tb4f1310987</td>\n      <td>ca</td>\n      <td>41.0</td>\n      <td>14282.0</td>\n      <td>white</td>\n      <td>black</td>\n      <td>volvo na rep/world omni</td>\n      <td>27500.0</td>\n      <td>27750.0</td>\n      <td>-250.0</td>\n      <td>2015-01-28 22:30:00+02:00</td>\n    </tr>\n    <tr>\n      <th>4</th>\n      <td>2014</td>\n      <td>BMW</td>\n      <td>6 Series Gran Coupe</td>\n      <td>650i</td>\n      <td>Sedan</td>\n      <td>automatic</td>\n      <td>wba6b2c57ed129731</td>\n      <td>ca</td>\n      <td>43.0</td>\n      <td>2641.0</td>\n      <td>gray</td>\n      <td>black</td>\n      <td>financial services remarketing (lease)</td>\n      <td>66000.0</td>\n      <td>67000.0</td>\n      <td>-1000.0</td>\n      <td>2014-12-18 06:30:00+02:00</td>\n    </tr>\n    <tr>\n      <th>...</th>\n      <td>...</td>\n      <td>...</td>\n      <td>...</td>\n      <td>...</td>\n      <td>...</td>\n      <td>...</td>\n      <td>...</td>\n      <td>...</td>\n      <td>...</td>\n      <td>...</td>\n      <td>...</td>\n      <td>...</td>\n      <td>...</td>\n      <td>...</td>\n      <td>...</td>\n      <td>...</td>\n      <td>...</td>\n    </tr>\n    <tr>\n      <th>558832</th>\n      <td>2015</td>\n      <td>Kia</td>\n      <td>K900</td>\n      <td>Luxury</td>\n      <td>Sedan</td>\n      <td>NaN</td>\n      <td>knalw4d4xf6019304</td>\n      <td>in</td>\n      <td>45.0</td>\n      <td>18255.0</td>\n      <td>silver</td>\n      <td>black</td>\n      <td>avis corporation</td>\n      <td>35300.0</td>\n      <td>33000.0</td>\n      <td>2300.0</td>\n      <td>2015-07-09 03:00:00+03:00</td>\n    </tr>\n    <tr>\n      <th>558833</th>\n      <td>2012</td>\n      <td>Ram</td>\n      <td>2500</td>\n      <td>Power Wagon</td>\n      <td>Crew Cab</td>\n      <td>automatic</td>\n      <td>3c6td5et6cg112407</td>\n      <td>wa</td>\n      <td>5.0</td>\n      <td>54393.0</td>\n      <td>white</td>\n      <td>black</td>\n      <td>i -5 uhlmann rv</td>\n      <td>30200.0</td>\n      <td>30800.0</td>\n      <td>-600.0</td>\n      <td>2015-07-08 05:30:00+03:00</td>\n    </tr>\n    <tr>\n      <th>558834</th>\n      <td>2012</td>\n      <td>BMW</td>\n      <td>X5</td>\n      <td>xDrive35d</td>\n      <td>SUV</td>\n      <td>automatic</td>\n      <td>5uxzw0c58cl668465</td>\n      <td>ca</td>\n      <td>48.0</td>\n      <td>50561.0</td>\n      <td>black</td>\n      <td>black</td>\n      <td>financial services remarketing (lease)</td>\n      <td>29800.0</td>\n      <td>34000.0</td>\n      <td>-4200.0</td>\n      <td>2015-07-08 05:30:00+03:00</td>\n    </tr>\n    <tr>\n      <th>558835</th>\n      <td>2015</td>\n      <td>Nissan</td>\n      <td>Altima</td>\n      <td>2.5 S</td>\n      <td>sedan</td>\n      <td>automatic</td>\n      <td>1n4al3ap0fc216050</td>\n      <td>ga</td>\n      <td>38.0</td>\n      <td>16658.0</td>\n      <td>white</td>\n      <td>black</td>\n      <td>enterprise vehicle exchange / tra / rental / t...</td>\n      <td>15100.0</td>\n      <td>11100.0</td>\n      <td>4000.0</td>\n      <td>2015-07-09 02:45:00+03:00</td>\n    </tr>\n    <tr>\n      <th>558836</th>\n      <td>2014</td>\n      <td>Ford</td>\n      <td>F-150</td>\n      <td>XLT</td>\n      <td>SuperCrew</td>\n      <td>automatic</td>\n      <td>1ftfw1et2eke87277</td>\n      <td>ca</td>\n      <td>34.0</td>\n      <td>15008.0</td>\n      <td>gray</td>\n      <td>gray</td>\n      <td>ford motor credit company llc pd</td>\n      <td>29600.0</td>\n      <td>26700.0</td>\n      <td>2900.0</td>\n      <td>2015-05-28 01:30:00+03:00</td>\n    </tr>\n  </tbody>\n</table>\n<p>558837 rows × 17 columns</p>\n</div>"
     },
     "execution_count": 81,
     "metadata": {},
     "output_type": "execute_result"
    }
   ],
   "source": [
    "difference = car_sales['mmr'] - car_sales['sellingprice']\n",
    "# car_sales.insert(15, \"mmr sell price diff\", difference)\n",
    "car_sales"
   ],
   "metadata": {
    "collapsed": false,
    "ExecuteTime": {
     "end_time": "2024-03-27T19:43:53.734661Z",
     "start_time": "2024-03-27T19:43:53.718429Z"
    }
   },
   "id": "7f12943a649d47a6",
   "execution_count": 81
  },
  {
   "cell_type": "markdown",
   "source": [
    "# 16. Identify cars with a condition rating above 4.0 and an odometer reading less than 50,000 miles."
   ],
   "metadata": {
    "collapsed": false
   },
   "id": "2e394acee919e44a"
  },
  {
   "cell_type": "code",
   "outputs": [
    {
     "data": {
      "text/plain": "        year    make                model        trim       body transmission  \\\n0       2015     Kia              Sorento          LX        SUV    automatic   \n1       2015     Kia              Sorento          LX        SUV    automatic   \n2       2014     BMW             3 Series  328i SULEV      Sedan    automatic   \n3       2015   Volvo                  S60          T5      Sedan    automatic   \n4       2014     BMW  6 Series Gran Coupe        650i      Sedan    automatic   \n...      ...     ...                  ...         ...        ...          ...   \n558827  2014    Jeep       Grand Cherokee      Laredo        SUV    automatic   \n558830  2012  Nissan               Sentra      2.0 SR      Sedan          NaN   \n558832  2015     Kia                 K900      Luxury      Sedan          NaN   \n558835  2015  Nissan               Altima       2.5 S      sedan    automatic   \n558836  2014    Ford                F-150         XLT  SuperCrew    automatic   \n\n                      vin state  condition  odometer   color interior  \\\n0       5xyktca69fg566472    ca        5.0   16639.0   white    black   \n1       5xyktca69fg561319    ca        5.0    9393.0   white    beige   \n2       wba3c1c51ek116351    ca       45.0    1331.0    gray    black   \n3       yv1612tb4f1310987    ca       41.0   14282.0   white    black   \n4       wba6b2c57ed129731    ca       43.0    2641.0    gray    black   \n...                   ...   ...        ...       ...     ...      ...   \n558827  1c4rjfag0ec466276    pa       42.0   25180.0    gray    black   \n558830  3n1ab6ap3cl622485    tn       26.0   35858.0   white     gray   \n558832  knalw4d4xf6019304    in       45.0   18255.0  silver    black   \n558835  1n4al3ap0fc216050    ga       38.0   16658.0   white    black   \n558836  1ftfw1et2eke87277    ca       34.0   15008.0    gray     gray   \n\n                                                   seller      mmr  \\\n0                                 kia motors america  inc  20500.0   \n1                                 kia motors america  inc  20800.0   \n2                  financial services remarketing (lease)  31900.0   \n3                                 volvo na rep/world omni  27500.0   \n4                  financial services remarketing (lease)  66000.0   \n...                                                   ...      ...   \n558827                              hertz corporation/gdp  26000.0   \n558830                                 nissan-infiniti lt   9950.0   \n558832                                   avis corporation  35300.0   \n558835  enterprise vehicle exchange / tra / rental / t...  15100.0   \n558836                   ford motor credit company llc pd  29600.0   \n\n        sellingprice  mmr sell price diff                  saledate  \n0            21500.0              -1000.0 2014-12-16 06:30:00+02:00  \n1            21500.0               -700.0 2014-12-16 06:30:00+02:00  \n2            30000.0               1900.0 2015-01-14 22:30:00+02:00  \n3            27750.0               -250.0 2015-01-28 22:30:00+02:00  \n4            67000.0              -1000.0 2014-12-18 06:30:00+02:00  \n...              ...                  ...                       ...  \n558827       24500.0               1500.0 2015-07-07 02:30:00+03:00  \n558830       10400.0               -450.0 2015-07-08 13:15:00+03:00  \n558832       33000.0               2300.0 2015-07-09 03:00:00+03:00  \n558835       11100.0               4000.0 2015-07-09 02:45:00+03:00  \n558836       26700.0               2900.0 2015-05-28 01:30:00+03:00  \n\n[241290 rows x 17 columns]",
      "text/html": "<div>\n<style scoped>\n    .dataframe tbody tr th:only-of-type {\n        vertical-align: middle;\n    }\n\n    .dataframe tbody tr th {\n        vertical-align: top;\n    }\n\n    .dataframe thead th {\n        text-align: right;\n    }\n</style>\n<table border=\"1\" class=\"dataframe\">\n  <thead>\n    <tr style=\"text-align: right;\">\n      <th></th>\n      <th>year</th>\n      <th>make</th>\n      <th>model</th>\n      <th>trim</th>\n      <th>body</th>\n      <th>transmission</th>\n      <th>vin</th>\n      <th>state</th>\n      <th>condition</th>\n      <th>odometer</th>\n      <th>color</th>\n      <th>interior</th>\n      <th>seller</th>\n      <th>mmr</th>\n      <th>sellingprice</th>\n      <th>mmr sell price diff</th>\n      <th>saledate</th>\n    </tr>\n  </thead>\n  <tbody>\n    <tr>\n      <th>0</th>\n      <td>2015</td>\n      <td>Kia</td>\n      <td>Sorento</td>\n      <td>LX</td>\n      <td>SUV</td>\n      <td>automatic</td>\n      <td>5xyktca69fg566472</td>\n      <td>ca</td>\n      <td>5.0</td>\n      <td>16639.0</td>\n      <td>white</td>\n      <td>black</td>\n      <td>kia motors america  inc</td>\n      <td>20500.0</td>\n      <td>21500.0</td>\n      <td>-1000.0</td>\n      <td>2014-12-16 06:30:00+02:00</td>\n    </tr>\n    <tr>\n      <th>1</th>\n      <td>2015</td>\n      <td>Kia</td>\n      <td>Sorento</td>\n      <td>LX</td>\n      <td>SUV</td>\n      <td>automatic</td>\n      <td>5xyktca69fg561319</td>\n      <td>ca</td>\n      <td>5.0</td>\n      <td>9393.0</td>\n      <td>white</td>\n      <td>beige</td>\n      <td>kia motors america  inc</td>\n      <td>20800.0</td>\n      <td>21500.0</td>\n      <td>-700.0</td>\n      <td>2014-12-16 06:30:00+02:00</td>\n    </tr>\n    <tr>\n      <th>2</th>\n      <td>2014</td>\n      <td>BMW</td>\n      <td>3 Series</td>\n      <td>328i SULEV</td>\n      <td>Sedan</td>\n      <td>automatic</td>\n      <td>wba3c1c51ek116351</td>\n      <td>ca</td>\n      <td>45.0</td>\n      <td>1331.0</td>\n      <td>gray</td>\n      <td>black</td>\n      <td>financial services remarketing (lease)</td>\n      <td>31900.0</td>\n      <td>30000.0</td>\n      <td>1900.0</td>\n      <td>2015-01-14 22:30:00+02:00</td>\n    </tr>\n    <tr>\n      <th>3</th>\n      <td>2015</td>\n      <td>Volvo</td>\n      <td>S60</td>\n      <td>T5</td>\n      <td>Sedan</td>\n      <td>automatic</td>\n      <td>yv1612tb4f1310987</td>\n      <td>ca</td>\n      <td>41.0</td>\n      <td>14282.0</td>\n      <td>white</td>\n      <td>black</td>\n      <td>volvo na rep/world omni</td>\n      <td>27500.0</td>\n      <td>27750.0</td>\n      <td>-250.0</td>\n      <td>2015-01-28 22:30:00+02:00</td>\n    </tr>\n    <tr>\n      <th>4</th>\n      <td>2014</td>\n      <td>BMW</td>\n      <td>6 Series Gran Coupe</td>\n      <td>650i</td>\n      <td>Sedan</td>\n      <td>automatic</td>\n      <td>wba6b2c57ed129731</td>\n      <td>ca</td>\n      <td>43.0</td>\n      <td>2641.0</td>\n      <td>gray</td>\n      <td>black</td>\n      <td>financial services remarketing (lease)</td>\n      <td>66000.0</td>\n      <td>67000.0</td>\n      <td>-1000.0</td>\n      <td>2014-12-18 06:30:00+02:00</td>\n    </tr>\n    <tr>\n      <th>...</th>\n      <td>...</td>\n      <td>...</td>\n      <td>...</td>\n      <td>...</td>\n      <td>...</td>\n      <td>...</td>\n      <td>...</td>\n      <td>...</td>\n      <td>...</td>\n      <td>...</td>\n      <td>...</td>\n      <td>...</td>\n      <td>...</td>\n      <td>...</td>\n      <td>...</td>\n      <td>...</td>\n      <td>...</td>\n    </tr>\n    <tr>\n      <th>558827</th>\n      <td>2014</td>\n      <td>Jeep</td>\n      <td>Grand Cherokee</td>\n      <td>Laredo</td>\n      <td>SUV</td>\n      <td>automatic</td>\n      <td>1c4rjfag0ec466276</td>\n      <td>pa</td>\n      <td>42.0</td>\n      <td>25180.0</td>\n      <td>gray</td>\n      <td>black</td>\n      <td>hertz corporation/gdp</td>\n      <td>26000.0</td>\n      <td>24500.0</td>\n      <td>1500.0</td>\n      <td>2015-07-07 02:30:00+03:00</td>\n    </tr>\n    <tr>\n      <th>558830</th>\n      <td>2012</td>\n      <td>Nissan</td>\n      <td>Sentra</td>\n      <td>2.0 SR</td>\n      <td>Sedan</td>\n      <td>NaN</td>\n      <td>3n1ab6ap3cl622485</td>\n      <td>tn</td>\n      <td>26.0</td>\n      <td>35858.0</td>\n      <td>white</td>\n      <td>gray</td>\n      <td>nissan-infiniti lt</td>\n      <td>9950.0</td>\n      <td>10400.0</td>\n      <td>-450.0</td>\n      <td>2015-07-08 13:15:00+03:00</td>\n    </tr>\n    <tr>\n      <th>558832</th>\n      <td>2015</td>\n      <td>Kia</td>\n      <td>K900</td>\n      <td>Luxury</td>\n      <td>Sedan</td>\n      <td>NaN</td>\n      <td>knalw4d4xf6019304</td>\n      <td>in</td>\n      <td>45.0</td>\n      <td>18255.0</td>\n      <td>silver</td>\n      <td>black</td>\n      <td>avis corporation</td>\n      <td>35300.0</td>\n      <td>33000.0</td>\n      <td>2300.0</td>\n      <td>2015-07-09 03:00:00+03:00</td>\n    </tr>\n    <tr>\n      <th>558835</th>\n      <td>2015</td>\n      <td>Nissan</td>\n      <td>Altima</td>\n      <td>2.5 S</td>\n      <td>sedan</td>\n      <td>automatic</td>\n      <td>1n4al3ap0fc216050</td>\n      <td>ga</td>\n      <td>38.0</td>\n      <td>16658.0</td>\n      <td>white</td>\n      <td>black</td>\n      <td>enterprise vehicle exchange / tra / rental / t...</td>\n      <td>15100.0</td>\n      <td>11100.0</td>\n      <td>4000.0</td>\n      <td>2015-07-09 02:45:00+03:00</td>\n    </tr>\n    <tr>\n      <th>558836</th>\n      <td>2014</td>\n      <td>Ford</td>\n      <td>F-150</td>\n      <td>XLT</td>\n      <td>SuperCrew</td>\n      <td>automatic</td>\n      <td>1ftfw1et2eke87277</td>\n      <td>ca</td>\n      <td>34.0</td>\n      <td>15008.0</td>\n      <td>gray</td>\n      <td>gray</td>\n      <td>ford motor credit company llc pd</td>\n      <td>29600.0</td>\n      <td>26700.0</td>\n      <td>2900.0</td>\n      <td>2015-05-28 01:30:00+03:00</td>\n    </tr>\n  </tbody>\n</table>\n<p>241290 rows × 17 columns</p>\n</div>"
     },
     "execution_count": 88,
     "metadata": {},
     "output_type": "execute_result"
    }
   ],
   "source": [
    "car_sales.query('condition > 4 & odometer < 50_000')"
   ],
   "metadata": {
    "collapsed": false,
    "ExecuteTime": {
     "end_time": "2024-03-27T19:46:35.630098Z",
     "start_time": "2024-03-27T19:46:35.575401Z"
    }
   },
   "id": "ffba2ce708d0466",
   "execution_count": 88
  },
  {
   "cell_type": "markdown",
   "source": [
    "# 17. Calculate the average selling price of cars for each combination of make and body type."
   ],
   "metadata": {
    "collapsed": false
   },
   "id": "cb0460808c45c63c"
  },
  {
   "cell_type": "code",
   "outputs": [
    {
     "data": {
      "text/plain": "make   body           \nAcura  Coupe               2008.974359\n       Hatchback           8013.874346\n       SUV                17121.514497\n       Sedan              12854.126132\n       TSX Sport Wagon    18855.357143\n                              ...     \nVolvo  wagon              11057.638889\nsmart  Convertible         6115.789474\n       Hatchback           6453.036437\n       convertible         6755.555556\n       hatchback           5749.504950\nName: sellingprice, Length: 552, dtype: float64"
     },
     "execution_count": 90,
     "metadata": {},
     "output_type": "execute_result"
    }
   ],
   "source": [
    "car_sales.groupby(['make', 'body'])['sellingprice'].mean()"
   ],
   "metadata": {
    "collapsed": false,
    "ExecuteTime": {
     "end_time": "2024-03-27T19:48:01.874767Z",
     "start_time": "2024-03-27T19:48:01.795215Z"
    }
   },
   "id": "752c4688bc353b7d",
   "execution_count": 90
  },
  {
   "cell_type": "markdown",
   "source": [
    "# 18. Determine the make and model with the highest average odometer reading."
   ],
   "metadata": {
    "collapsed": false
   },
   "id": "95729721c09e0d17"
  },
  {
   "cell_type": "code",
   "outputs": [
    {
     "data": {
      "text/plain": "make           Hyundai\nmodel    Elantra Coupe\nName: 275, dtype: object"
     },
     "execution_count": 97,
     "metadata": {},
     "output_type": "execute_result"
    }
   ],
   "source": [
    "odometer_max = car_sales['odometer'].idxmax()\n",
    "car_odometer_max = car_sales.loc[odometer_max, ['make', 'model']]\n",
    "car_odometer_max"
   ],
   "metadata": {
    "collapsed": false,
    "ExecuteTime": {
     "end_time": "2024-03-27T19:51:32.076921Z",
     "start_time": "2024-03-27T19:51:32.068234Z"
    }
   },
   "id": "33637921e9b3023b",
   "execution_count": 97
  },
  {
   "cell_type": "code",
   "outputs": [
    {
     "data": {
      "text/plain": "('Toyota', 'Paseo')"
     },
     "execution_count": 103,
     "metadata": {},
     "output_type": "execute_result"
    }
   ],
   "source": [
    "car_sales.groupby(['make', 'model'])['odometer'].mean().sort_values(ascending=False).idxmax()"
   ],
   "metadata": {
    "collapsed": false,
    "ExecuteTime": {
     "end_time": "2024-03-27T19:53:25.816612Z",
     "start_time": "2024-03-27T19:53:25.736251Z"
    }
   },
   "id": "9eae3d3f71204d46",
   "execution_count": 103
  },
  {
   "cell_type": "markdown",
   "source": [
    "# 19. Drop the vin column from the dataset."
   ],
   "metadata": {
    "collapsed": false
   },
   "id": "b73312f44000a9b"
  },
  {
   "cell_type": "code",
   "outputs": [
    {
     "data": {
      "text/plain": "        year    make                model         trim       body  \\\n0       2015     Kia              Sorento           LX        SUV   \n1       2015     Kia              Sorento           LX        SUV   \n2       2014     BMW             3 Series   328i SULEV      Sedan   \n3       2015   Volvo                  S60           T5      Sedan   \n4       2014     BMW  6 Series Gran Coupe         650i      Sedan   \n...      ...     ...                  ...          ...        ...   \n558832  2015     Kia                 K900       Luxury      Sedan   \n558833  2012     Ram                 2500  Power Wagon   Crew Cab   \n558834  2012     BMW                   X5    xDrive35d        SUV   \n558835  2015  Nissan               Altima        2.5 S      sedan   \n558836  2014    Ford                F-150          XLT  SuperCrew   \n\n       transmission state  condition  odometer   color interior  \\\n0         automatic    ca        5.0   16639.0   white    black   \n1         automatic    ca        5.0    9393.0   white    beige   \n2         automatic    ca       45.0    1331.0    gray    black   \n3         automatic    ca       41.0   14282.0   white    black   \n4         automatic    ca       43.0    2641.0    gray    black   \n...             ...   ...        ...       ...     ...      ...   \n558832          NaN    in       45.0   18255.0  silver    black   \n558833    automatic    wa        5.0   54393.0   white    black   \n558834    automatic    ca       48.0   50561.0   black    black   \n558835    automatic    ga       38.0   16658.0   white    black   \n558836    automatic    ca       34.0   15008.0    gray     gray   \n\n                                                   seller      mmr  \\\n0                                 kia motors america  inc  20500.0   \n1                                 kia motors america  inc  20800.0   \n2                  financial services remarketing (lease)  31900.0   \n3                                 volvo na rep/world omni  27500.0   \n4                  financial services remarketing (lease)  66000.0   \n...                                                   ...      ...   \n558832                                   avis corporation  35300.0   \n558833                                    i -5 uhlmann rv  30200.0   \n558834             financial services remarketing (lease)  29800.0   \n558835  enterprise vehicle exchange / tra / rental / t...  15100.0   \n558836                   ford motor credit company llc pd  29600.0   \n\n        sellingprice  mmr sell price diff                  saledate  \n0            21500.0              -1000.0 2014-12-16 06:30:00+02:00  \n1            21500.0               -700.0 2014-12-16 06:30:00+02:00  \n2            30000.0               1900.0 2015-01-14 22:30:00+02:00  \n3            27750.0               -250.0 2015-01-28 22:30:00+02:00  \n4            67000.0              -1000.0 2014-12-18 06:30:00+02:00  \n...              ...                  ...                       ...  \n558832       33000.0               2300.0 2015-07-09 03:00:00+03:00  \n558833       30800.0               -600.0 2015-07-08 05:30:00+03:00  \n558834       34000.0              -4200.0 2015-07-08 05:30:00+03:00  \n558835       11100.0               4000.0 2015-07-09 02:45:00+03:00  \n558836       26700.0               2900.0 2015-05-28 01:30:00+03:00  \n\n[558837 rows x 16 columns]",
      "text/html": "<div>\n<style scoped>\n    .dataframe tbody tr th:only-of-type {\n        vertical-align: middle;\n    }\n\n    .dataframe tbody tr th {\n        vertical-align: top;\n    }\n\n    .dataframe thead th {\n        text-align: right;\n    }\n</style>\n<table border=\"1\" class=\"dataframe\">\n  <thead>\n    <tr style=\"text-align: right;\">\n      <th></th>\n      <th>year</th>\n      <th>make</th>\n      <th>model</th>\n      <th>trim</th>\n      <th>body</th>\n      <th>transmission</th>\n      <th>state</th>\n      <th>condition</th>\n      <th>odometer</th>\n      <th>color</th>\n      <th>interior</th>\n      <th>seller</th>\n      <th>mmr</th>\n      <th>sellingprice</th>\n      <th>mmr sell price diff</th>\n      <th>saledate</th>\n    </tr>\n  </thead>\n  <tbody>\n    <tr>\n      <th>0</th>\n      <td>2015</td>\n      <td>Kia</td>\n      <td>Sorento</td>\n      <td>LX</td>\n      <td>SUV</td>\n      <td>automatic</td>\n      <td>ca</td>\n      <td>5.0</td>\n      <td>16639.0</td>\n      <td>white</td>\n      <td>black</td>\n      <td>kia motors america  inc</td>\n      <td>20500.0</td>\n      <td>21500.0</td>\n      <td>-1000.0</td>\n      <td>2014-12-16 06:30:00+02:00</td>\n    </tr>\n    <tr>\n      <th>1</th>\n      <td>2015</td>\n      <td>Kia</td>\n      <td>Sorento</td>\n      <td>LX</td>\n      <td>SUV</td>\n      <td>automatic</td>\n      <td>ca</td>\n      <td>5.0</td>\n      <td>9393.0</td>\n      <td>white</td>\n      <td>beige</td>\n      <td>kia motors america  inc</td>\n      <td>20800.0</td>\n      <td>21500.0</td>\n      <td>-700.0</td>\n      <td>2014-12-16 06:30:00+02:00</td>\n    </tr>\n    <tr>\n      <th>2</th>\n      <td>2014</td>\n      <td>BMW</td>\n      <td>3 Series</td>\n      <td>328i SULEV</td>\n      <td>Sedan</td>\n      <td>automatic</td>\n      <td>ca</td>\n      <td>45.0</td>\n      <td>1331.0</td>\n      <td>gray</td>\n      <td>black</td>\n      <td>financial services remarketing (lease)</td>\n      <td>31900.0</td>\n      <td>30000.0</td>\n      <td>1900.0</td>\n      <td>2015-01-14 22:30:00+02:00</td>\n    </tr>\n    <tr>\n      <th>3</th>\n      <td>2015</td>\n      <td>Volvo</td>\n      <td>S60</td>\n      <td>T5</td>\n      <td>Sedan</td>\n      <td>automatic</td>\n      <td>ca</td>\n      <td>41.0</td>\n      <td>14282.0</td>\n      <td>white</td>\n      <td>black</td>\n      <td>volvo na rep/world omni</td>\n      <td>27500.0</td>\n      <td>27750.0</td>\n      <td>-250.0</td>\n      <td>2015-01-28 22:30:00+02:00</td>\n    </tr>\n    <tr>\n      <th>4</th>\n      <td>2014</td>\n      <td>BMW</td>\n      <td>6 Series Gran Coupe</td>\n      <td>650i</td>\n      <td>Sedan</td>\n      <td>automatic</td>\n      <td>ca</td>\n      <td>43.0</td>\n      <td>2641.0</td>\n      <td>gray</td>\n      <td>black</td>\n      <td>financial services remarketing (lease)</td>\n      <td>66000.0</td>\n      <td>67000.0</td>\n      <td>-1000.0</td>\n      <td>2014-12-18 06:30:00+02:00</td>\n    </tr>\n    <tr>\n      <th>...</th>\n      <td>...</td>\n      <td>...</td>\n      <td>...</td>\n      <td>...</td>\n      <td>...</td>\n      <td>...</td>\n      <td>...</td>\n      <td>...</td>\n      <td>...</td>\n      <td>...</td>\n      <td>...</td>\n      <td>...</td>\n      <td>...</td>\n      <td>...</td>\n      <td>...</td>\n      <td>...</td>\n    </tr>\n    <tr>\n      <th>558832</th>\n      <td>2015</td>\n      <td>Kia</td>\n      <td>K900</td>\n      <td>Luxury</td>\n      <td>Sedan</td>\n      <td>NaN</td>\n      <td>in</td>\n      <td>45.0</td>\n      <td>18255.0</td>\n      <td>silver</td>\n      <td>black</td>\n      <td>avis corporation</td>\n      <td>35300.0</td>\n      <td>33000.0</td>\n      <td>2300.0</td>\n      <td>2015-07-09 03:00:00+03:00</td>\n    </tr>\n    <tr>\n      <th>558833</th>\n      <td>2012</td>\n      <td>Ram</td>\n      <td>2500</td>\n      <td>Power Wagon</td>\n      <td>Crew Cab</td>\n      <td>automatic</td>\n      <td>wa</td>\n      <td>5.0</td>\n      <td>54393.0</td>\n      <td>white</td>\n      <td>black</td>\n      <td>i -5 uhlmann rv</td>\n      <td>30200.0</td>\n      <td>30800.0</td>\n      <td>-600.0</td>\n      <td>2015-07-08 05:30:00+03:00</td>\n    </tr>\n    <tr>\n      <th>558834</th>\n      <td>2012</td>\n      <td>BMW</td>\n      <td>X5</td>\n      <td>xDrive35d</td>\n      <td>SUV</td>\n      <td>automatic</td>\n      <td>ca</td>\n      <td>48.0</td>\n      <td>50561.0</td>\n      <td>black</td>\n      <td>black</td>\n      <td>financial services remarketing (lease)</td>\n      <td>29800.0</td>\n      <td>34000.0</td>\n      <td>-4200.0</td>\n      <td>2015-07-08 05:30:00+03:00</td>\n    </tr>\n    <tr>\n      <th>558835</th>\n      <td>2015</td>\n      <td>Nissan</td>\n      <td>Altima</td>\n      <td>2.5 S</td>\n      <td>sedan</td>\n      <td>automatic</td>\n      <td>ga</td>\n      <td>38.0</td>\n      <td>16658.0</td>\n      <td>white</td>\n      <td>black</td>\n      <td>enterprise vehicle exchange / tra / rental / t...</td>\n      <td>15100.0</td>\n      <td>11100.0</td>\n      <td>4000.0</td>\n      <td>2015-07-09 02:45:00+03:00</td>\n    </tr>\n    <tr>\n      <th>558836</th>\n      <td>2014</td>\n      <td>Ford</td>\n      <td>F-150</td>\n      <td>XLT</td>\n      <td>SuperCrew</td>\n      <td>automatic</td>\n      <td>ca</td>\n      <td>34.0</td>\n      <td>15008.0</td>\n      <td>gray</td>\n      <td>gray</td>\n      <td>ford motor credit company llc pd</td>\n      <td>29600.0</td>\n      <td>26700.0</td>\n      <td>2900.0</td>\n      <td>2015-05-28 01:30:00+03:00</td>\n    </tr>\n  </tbody>\n</table>\n<p>558837 rows × 16 columns</p>\n</div>"
     },
     "execution_count": 105,
     "metadata": {},
     "output_type": "execute_result"
    }
   ],
   "source": [
    "drop_vin_column = car_sales.drop('vin', axis=1)\n",
    "drop_vin_column"
   ],
   "metadata": {
    "collapsed": false,
    "ExecuteTime": {
     "end_time": "2024-03-27T19:54:19.830264Z",
     "start_time": "2024-03-27T19:54:19.766206Z"
    }
   },
   "id": "8b6bd0f9884998f9",
   "execution_count": 105
  },
  {
   "cell_type": "markdown",
   "source": [
    "# 20. Rename the mmr column to market_market_range."
   ],
   "metadata": {
    "collapsed": false
   },
   "id": "460737f0a75c7276"
  },
  {
   "cell_type": "code",
   "outputs": [
    {
     "data": {
      "text/plain": "        year    make                model         trim       body  \\\n0       2015     Kia              Sorento           LX        SUV   \n1       2015     Kia              Sorento           LX        SUV   \n2       2014     BMW             3 Series   328i SULEV      Sedan   \n3       2015   Volvo                  S60           T5      Sedan   \n4       2014     BMW  6 Series Gran Coupe         650i      Sedan   \n...      ...     ...                  ...          ...        ...   \n558832  2015     Kia                 K900       Luxury      Sedan   \n558833  2012     Ram                 2500  Power Wagon   Crew Cab   \n558834  2012     BMW                   X5    xDrive35d        SUV   \n558835  2015  Nissan               Altima        2.5 S      sedan   \n558836  2014    Ford                F-150          XLT  SuperCrew   \n\n       transmission                vin state  condition  odometer   color  \\\n0         automatic  5xyktca69fg566472    ca        5.0   16639.0   white   \n1         automatic  5xyktca69fg561319    ca        5.0    9393.0   white   \n2         automatic  wba3c1c51ek116351    ca       45.0    1331.0    gray   \n3         automatic  yv1612tb4f1310987    ca       41.0   14282.0   white   \n4         automatic  wba6b2c57ed129731    ca       43.0    2641.0    gray   \n...             ...                ...   ...        ...       ...     ...   \n558832          NaN  knalw4d4xf6019304    in       45.0   18255.0  silver   \n558833    automatic  3c6td5et6cg112407    wa        5.0   54393.0   white   \n558834    automatic  5uxzw0c58cl668465    ca       48.0   50561.0   black   \n558835    automatic  1n4al3ap0fc216050    ga       38.0   16658.0   white   \n558836    automatic  1ftfw1et2eke87277    ca       34.0   15008.0    gray   \n\n       interior                                             seller  \\\n0         black                            kia motors america  inc   \n1         beige                            kia motors america  inc   \n2         black             financial services remarketing (lease)   \n3         black                            volvo na rep/world omni   \n4         black             financial services remarketing (lease)   \n...         ...                                                ...   \n558832    black                                   avis corporation   \n558833    black                                    i -5 uhlmann rv   \n558834    black             financial services remarketing (lease)   \n558835    black  enterprise vehicle exchange / tra / rental / t...   \n558836     gray                   ford motor credit company llc pd   \n\n        market_market_range  sellingprice  mmr sell price diff  \\\n0                   20500.0       21500.0              -1000.0   \n1                   20800.0       21500.0               -700.0   \n2                   31900.0       30000.0               1900.0   \n3                   27500.0       27750.0               -250.0   \n4                   66000.0       67000.0              -1000.0   \n...                     ...           ...                  ...   \n558832              35300.0       33000.0               2300.0   \n558833              30200.0       30800.0               -600.0   \n558834              29800.0       34000.0              -4200.0   \n558835              15100.0       11100.0               4000.0   \n558836              29600.0       26700.0               2900.0   \n\n                        saledate  \n0      2014-12-16 06:30:00+02:00  \n1      2014-12-16 06:30:00+02:00  \n2      2015-01-14 22:30:00+02:00  \n3      2015-01-28 22:30:00+02:00  \n4      2014-12-18 06:30:00+02:00  \n...                          ...  \n558832 2015-07-09 03:00:00+03:00  \n558833 2015-07-08 05:30:00+03:00  \n558834 2015-07-08 05:30:00+03:00  \n558835 2015-07-09 02:45:00+03:00  \n558836 2015-05-28 01:30:00+03:00  \n\n[558837 rows x 17 columns]",
      "text/html": "<div>\n<style scoped>\n    .dataframe tbody tr th:only-of-type {\n        vertical-align: middle;\n    }\n\n    .dataframe tbody tr th {\n        vertical-align: top;\n    }\n\n    .dataframe thead th {\n        text-align: right;\n    }\n</style>\n<table border=\"1\" class=\"dataframe\">\n  <thead>\n    <tr style=\"text-align: right;\">\n      <th></th>\n      <th>year</th>\n      <th>make</th>\n      <th>model</th>\n      <th>trim</th>\n      <th>body</th>\n      <th>transmission</th>\n      <th>vin</th>\n      <th>state</th>\n      <th>condition</th>\n      <th>odometer</th>\n      <th>color</th>\n      <th>interior</th>\n      <th>seller</th>\n      <th>market_market_range</th>\n      <th>sellingprice</th>\n      <th>mmr sell price diff</th>\n      <th>saledate</th>\n    </tr>\n  </thead>\n  <tbody>\n    <tr>\n      <th>0</th>\n      <td>2015</td>\n      <td>Kia</td>\n      <td>Sorento</td>\n      <td>LX</td>\n      <td>SUV</td>\n      <td>automatic</td>\n      <td>5xyktca69fg566472</td>\n      <td>ca</td>\n      <td>5.0</td>\n      <td>16639.0</td>\n      <td>white</td>\n      <td>black</td>\n      <td>kia motors america  inc</td>\n      <td>20500.0</td>\n      <td>21500.0</td>\n      <td>-1000.0</td>\n      <td>2014-12-16 06:30:00+02:00</td>\n    </tr>\n    <tr>\n      <th>1</th>\n      <td>2015</td>\n      <td>Kia</td>\n      <td>Sorento</td>\n      <td>LX</td>\n      <td>SUV</td>\n      <td>automatic</td>\n      <td>5xyktca69fg561319</td>\n      <td>ca</td>\n      <td>5.0</td>\n      <td>9393.0</td>\n      <td>white</td>\n      <td>beige</td>\n      <td>kia motors america  inc</td>\n      <td>20800.0</td>\n      <td>21500.0</td>\n      <td>-700.0</td>\n      <td>2014-12-16 06:30:00+02:00</td>\n    </tr>\n    <tr>\n      <th>2</th>\n      <td>2014</td>\n      <td>BMW</td>\n      <td>3 Series</td>\n      <td>328i SULEV</td>\n      <td>Sedan</td>\n      <td>automatic</td>\n      <td>wba3c1c51ek116351</td>\n      <td>ca</td>\n      <td>45.0</td>\n      <td>1331.0</td>\n      <td>gray</td>\n      <td>black</td>\n      <td>financial services remarketing (lease)</td>\n      <td>31900.0</td>\n      <td>30000.0</td>\n      <td>1900.0</td>\n      <td>2015-01-14 22:30:00+02:00</td>\n    </tr>\n    <tr>\n      <th>3</th>\n      <td>2015</td>\n      <td>Volvo</td>\n      <td>S60</td>\n      <td>T5</td>\n      <td>Sedan</td>\n      <td>automatic</td>\n      <td>yv1612tb4f1310987</td>\n      <td>ca</td>\n      <td>41.0</td>\n      <td>14282.0</td>\n      <td>white</td>\n      <td>black</td>\n      <td>volvo na rep/world omni</td>\n      <td>27500.0</td>\n      <td>27750.0</td>\n      <td>-250.0</td>\n      <td>2015-01-28 22:30:00+02:00</td>\n    </tr>\n    <tr>\n      <th>4</th>\n      <td>2014</td>\n      <td>BMW</td>\n      <td>6 Series Gran Coupe</td>\n      <td>650i</td>\n      <td>Sedan</td>\n      <td>automatic</td>\n      <td>wba6b2c57ed129731</td>\n      <td>ca</td>\n      <td>43.0</td>\n      <td>2641.0</td>\n      <td>gray</td>\n      <td>black</td>\n      <td>financial services remarketing (lease)</td>\n      <td>66000.0</td>\n      <td>67000.0</td>\n      <td>-1000.0</td>\n      <td>2014-12-18 06:30:00+02:00</td>\n    </tr>\n    <tr>\n      <th>...</th>\n      <td>...</td>\n      <td>...</td>\n      <td>...</td>\n      <td>...</td>\n      <td>...</td>\n      <td>...</td>\n      <td>...</td>\n      <td>...</td>\n      <td>...</td>\n      <td>...</td>\n      <td>...</td>\n      <td>...</td>\n      <td>...</td>\n      <td>...</td>\n      <td>...</td>\n      <td>...</td>\n      <td>...</td>\n    </tr>\n    <tr>\n      <th>558832</th>\n      <td>2015</td>\n      <td>Kia</td>\n      <td>K900</td>\n      <td>Luxury</td>\n      <td>Sedan</td>\n      <td>NaN</td>\n      <td>knalw4d4xf6019304</td>\n      <td>in</td>\n      <td>45.0</td>\n      <td>18255.0</td>\n      <td>silver</td>\n      <td>black</td>\n      <td>avis corporation</td>\n      <td>35300.0</td>\n      <td>33000.0</td>\n      <td>2300.0</td>\n      <td>2015-07-09 03:00:00+03:00</td>\n    </tr>\n    <tr>\n      <th>558833</th>\n      <td>2012</td>\n      <td>Ram</td>\n      <td>2500</td>\n      <td>Power Wagon</td>\n      <td>Crew Cab</td>\n      <td>automatic</td>\n      <td>3c6td5et6cg112407</td>\n      <td>wa</td>\n      <td>5.0</td>\n      <td>54393.0</td>\n      <td>white</td>\n      <td>black</td>\n      <td>i -5 uhlmann rv</td>\n      <td>30200.0</td>\n      <td>30800.0</td>\n      <td>-600.0</td>\n      <td>2015-07-08 05:30:00+03:00</td>\n    </tr>\n    <tr>\n      <th>558834</th>\n      <td>2012</td>\n      <td>BMW</td>\n      <td>X5</td>\n      <td>xDrive35d</td>\n      <td>SUV</td>\n      <td>automatic</td>\n      <td>5uxzw0c58cl668465</td>\n      <td>ca</td>\n      <td>48.0</td>\n      <td>50561.0</td>\n      <td>black</td>\n      <td>black</td>\n      <td>financial services remarketing (lease)</td>\n      <td>29800.0</td>\n      <td>34000.0</td>\n      <td>-4200.0</td>\n      <td>2015-07-08 05:30:00+03:00</td>\n    </tr>\n    <tr>\n      <th>558835</th>\n      <td>2015</td>\n      <td>Nissan</td>\n      <td>Altima</td>\n      <td>2.5 S</td>\n      <td>sedan</td>\n      <td>automatic</td>\n      <td>1n4al3ap0fc216050</td>\n      <td>ga</td>\n      <td>38.0</td>\n      <td>16658.0</td>\n      <td>white</td>\n      <td>black</td>\n      <td>enterprise vehicle exchange / tra / rental / t...</td>\n      <td>15100.0</td>\n      <td>11100.0</td>\n      <td>4000.0</td>\n      <td>2015-07-09 02:45:00+03:00</td>\n    </tr>\n    <tr>\n      <th>558836</th>\n      <td>2014</td>\n      <td>Ford</td>\n      <td>F-150</td>\n      <td>XLT</td>\n      <td>SuperCrew</td>\n      <td>automatic</td>\n      <td>1ftfw1et2eke87277</td>\n      <td>ca</td>\n      <td>34.0</td>\n      <td>15008.0</td>\n      <td>gray</td>\n      <td>gray</td>\n      <td>ford motor credit company llc pd</td>\n      <td>29600.0</td>\n      <td>26700.0</td>\n      <td>2900.0</td>\n      <td>2015-05-28 01:30:00+03:00</td>\n    </tr>\n  </tbody>\n</table>\n<p>558837 rows × 17 columns</p>\n</div>"
     },
     "execution_count": 106,
     "metadata": {},
     "output_type": "execute_result"
    }
   ],
   "source": [
    "car_sales = car_sales.rename(columns={'mmr': 'market_market_range'})\n",
    "car_sales"
   ],
   "metadata": {
    "collapsed": false,
    "ExecuteTime": {
     "end_time": "2024-03-27T19:55:44.549799Z",
     "start_time": "2024-03-27T19:55:44.467149Z"
    }
   },
   "id": "f43d508043d13e83",
   "execution_count": 106
  }
 ],
 "metadata": {
  "kernelspec": {
   "display_name": "Python 3",
   "language": "python",
   "name": "python3"
  },
  "language_info": {
   "codemirror_mode": {
    "name": "ipython",
    "version": 2
   },
   "file_extension": ".py",
   "mimetype": "text/x-python",
   "name": "python",
   "nbconvert_exporter": "python",
   "pygments_lexer": "ipython2",
   "version": "2.7.6"
  }
 },
 "nbformat": 4,
 "nbformat_minor": 5
}
