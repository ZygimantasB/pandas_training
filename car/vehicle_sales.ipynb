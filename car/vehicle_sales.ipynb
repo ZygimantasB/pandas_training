{
 "cells": [
  {
   "cell_type": "code",
   "execution_count": 16,
   "id": "initial_id",
   "metadata": {
    "collapsed": true,
    "ExecuteTime": {
     "end_time": "2024-03-24T17:33:31.345649Z",
     "start_time": "2024-03-24T17:33:31.342143Z"
    }
   },
   "outputs": [],
   "source": [
    "import pandas as pd\n",
    "import numpy as np\n",
    "import matplotlib.pyplot as plt\n",
    "import seaborn as sns\n",
    "import datetime as dt\n",
    "import time as tm\n",
    "import multiprocessing as mp"
   ]
  },
  {
   "cell_type": "code",
   "outputs": [],
   "source": [
    "vehicle_sales_path = r'F:\\DataSpell\\Pandas training\\data_sets\\car_prices.csv'\n",
    "vehicle_sales = pd.read_csv(vehicle_sales_path, parse_dates=['year']).dropna(how='all')"
   ],
   "metadata": {
    "collapsed": false,
    "ExecuteTime": {
     "end_time": "2024-03-24T17:33:33.330495Z",
     "start_time": "2024-03-24T17:33:31.855243Z"
    }
   },
   "id": "31494a7c5bdb14d4",
   "execution_count": 17
  },
  {
   "cell_type": "code",
   "outputs": [],
   "source": [
    "for col in vehicle_sales.select_dtypes(include=['int', 'float']).columns:\n",
    "  if vehicle_sales[col].dtype.kind == 'i':\n",
    "    vehicle_sales[col] = pd.to_numeric(vehicle_sales[col], downcast='integer')\n",
    "  else:\n",
    "    vehicle_sales[col] = pd.to_numeric(vehicle_sales[col], downcast='float')\n",
    "\n",
    "vehicle_sales['state'] = vehicle_sales['state'].astype('category')\n",
    "vehicle_sales['year'] = pd.to_datetime(vehicle_sales['year'], format='%Y').dt.year\n",
    "vehicle_sales['make'] = vehicle_sales['make'].fillna('unknown').astype('category')\n",
    "vehicle_sales['model'] = vehicle_sales['model'].fillna('unknown').astype(str)\n",
    "vehicle_sales['trim'] = vehicle_sales['trim'].fillna('unknown').astype(str).str.lower()\n",
    "vehicle_sales['body'] = vehicle_sales['body'].fillna('unknown').astype('category')\n",
    "vehicle_sales['transmission'] = vehicle_sales['transmission'].fillna('unknown').astype('category')\n",
    "vehicle_sales['vin'] = vehicle_sales['vin'].fillna('unknown')\n",
    "vehicle_sales['condition'] = vehicle_sales['condition'].fillna(0)\n",
    "vehicle_sales['odometer'] = vehicle_sales['odometer'].fillna(0)\n",
    "vehicle_sales['color'] = vehicle_sales['color'].fillna('unknown').astype('category')\n",
    "vehicle_sales['interior'] = vehicle_sales['interior'].fillna('unknown').astype('category')\n",
    "vehicle_sales['mmr'] = vehicle_sales['mmr'].fillna(0)\n",
    "vehicle_sales['sellingprice'] = vehicle_sales['sellingprice'].fillna(0)\n",
    "\n",
    "# vehicle_sales['sellingprice'].apply(lambda number: number.is_integer())"
   ],
   "metadata": {
    "collapsed": false,
    "ExecuteTime": {
     "end_time": "2024-03-24T17:38:07.616963Z",
     "start_time": "2024-03-24T17:38:07.428773Z"
    }
   },
   "id": "44d034b5ba475278",
   "execution_count": 34
  },
  {
   "cell_type": "code",
   "outputs": [],
   "source": [
    "# # Define a function to parse datetime strings and convert to Lithuania time\n",
    "# def convert_to_lithuania_time(dt_str):\n",
    "#     try:\n",
    "#         # Parse the datetime string and convert to Lithuania time\n",
    "#         dt = pd.to_datetime(dt_str).tz_convert('Europe/Vilnius')\n",
    "#     except Exception:\n",
    "#         # If parsing fails, return NaT\n",
    "#         dt = pd.NaT\n",
    "#     return dt\n",
    "# \n",
    "# # Apply the function to the 'saledate' column\n",
    "# vehicle_sales['saledate'] = vehicle_sales['saledate'].apply(convert_to_lithuania_time)\n",
    "# \n",
    "# # Replace NaT values with a specific date (e.g., '1900-01-01')\n",
    "# vehicle_sales['saledate'] = vehicle_sales['saledate'].fillna(pd.Timestamp('1900-01-01', tz='Europe/Vilnius'))\n",
    "# \n",
    "# # Check the data type of the 'saledate' column\n",
    "# vehicle_sales['saledate'].dtypes"
   ],
   "metadata": {
    "collapsed": false,
    "ExecuteTime": {
     "end_time": "2024-03-24T17:33:33.826749Z",
     "start_time": "2024-03-24T17:33:33.823937Z"
    }
   },
   "id": "c0a7fa859bd45e37",
   "execution_count": 19
  },
  {
   "cell_type": "code",
   "outputs": [
    {
     "data": {
      "text/plain": "             year    make                model         trim       body  \\\n0      2015-01-01     kia              sorento           lx        SUV   \n1      2015-01-01     kia              sorento           lx        SUV   \n2      2014-01-01     bmw             3 series   328i sulev      Sedan   \n3      2015-01-01   volvo                  s60           t5      Sedan   \n4      2014-01-01     bmw  6 series gran coupe         650i      Sedan   \n...           ...     ...                  ...          ...        ...   \n558832 2015-01-01     kia                 k900       luxury      Sedan   \n558833 2012-01-01     ram                 2500  power wagon   Crew Cab   \n558834 2012-01-01     bmw                   x5    xdrive35d        SUV   \n558835 2015-01-01  nissan               altima        2.5 s      sedan   \n558836 2014-01-01    ford                f-150          xlt  SuperCrew   \n\n       transmission                vin state  condition  odometer   color  \\\n0         automatic  5xyktca69fg566472    ca        5.0   16639.0   white   \n1         automatic  5xyktca69fg561319    ca        5.0    9393.0   white   \n2         automatic  wba3c1c51ek116351    ca       45.0    1331.0    gray   \n3         automatic  yv1612tb4f1310987    ca       41.0   14282.0   white   \n4         automatic  wba6b2c57ed129731    ca       43.0    2641.0    gray   \n...             ...                ...   ...        ...       ...     ...   \n558832      unknown  knalw4d4xf6019304    in       45.0   18255.0  silver   \n558833    automatic  3c6td5et6cg112407    wa        5.0   54393.0   white   \n558834    automatic  5uxzw0c58cl668465    ca       48.0   50561.0   black   \n558835    automatic  1n4al3ap0fc216050    ga       38.0   16658.0   white   \n558836    automatic  1ftfw1et2eke87277    ca       34.0   15008.0    gray   \n\n       interior                                             seller      mmr  \\\n0         black                            kia motors america  inc  20500.0   \n1         beige                            kia motors america  inc  20800.0   \n2         black             financial services remarketing (lease)  31900.0   \n3         black                            volvo na rep/world omni  27500.0   \n4         black             financial services remarketing (lease)  66000.0   \n...         ...                                                ...      ...   \n558832    black                                   avis corporation  35300.0   \n558833    black                                    i -5 uhlmann rv  30200.0   \n558834    black             financial services remarketing (lease)  29800.0   \n558835    black  enterprise vehicle exchange / tra / rental / t...  15100.0   \n558836     gray                   ford motor credit company llc pd  29600.0   \n\n        sellingprice                                 saledate  \n0            21500.0  Tue Dec 16 2014 12:30:00 GMT-0800 (PST)  \n1            21500.0  Tue Dec 16 2014 12:30:00 GMT-0800 (PST)  \n2            30000.0  Thu Jan 15 2015 04:30:00 GMT-0800 (PST)  \n3            27750.0  Thu Jan 29 2015 04:30:00 GMT-0800 (PST)  \n4            67000.0  Thu Dec 18 2014 12:30:00 GMT-0800 (PST)  \n...              ...                                      ...  \n558832       33000.0  Thu Jul 09 2015 07:00:00 GMT-0700 (PDT)  \n558833       30800.0  Wed Jul 08 2015 09:30:00 GMT-0700 (PDT)  \n558834       34000.0  Wed Jul 08 2015 09:30:00 GMT-0700 (PDT)  \n558835       11100.0  Thu Jul 09 2015 06:45:00 GMT-0700 (PDT)  \n558836       26700.0  Thu May 28 2015 05:30:00 GMT-0700 (PDT)  \n\n[558837 rows x 16 columns]",
      "text/html": "<div>\n<style scoped>\n    .dataframe tbody tr th:only-of-type {\n        vertical-align: middle;\n    }\n\n    .dataframe tbody tr th {\n        vertical-align: top;\n    }\n\n    .dataframe thead th {\n        text-align: right;\n    }\n</style>\n<table border=\"1\" class=\"dataframe\">\n  <thead>\n    <tr style=\"text-align: right;\">\n      <th></th>\n      <th>year</th>\n      <th>make</th>\n      <th>model</th>\n      <th>trim</th>\n      <th>body</th>\n      <th>transmission</th>\n      <th>vin</th>\n      <th>state</th>\n      <th>condition</th>\n      <th>odometer</th>\n      <th>color</th>\n      <th>interior</th>\n      <th>seller</th>\n      <th>mmr</th>\n      <th>sellingprice</th>\n      <th>saledate</th>\n    </tr>\n  </thead>\n  <tbody>\n    <tr>\n      <th>0</th>\n      <td>2015-01-01</td>\n      <td>kia</td>\n      <td>sorento</td>\n      <td>lx</td>\n      <td>SUV</td>\n      <td>automatic</td>\n      <td>5xyktca69fg566472</td>\n      <td>ca</td>\n      <td>5.0</td>\n      <td>16639.0</td>\n      <td>white</td>\n      <td>black</td>\n      <td>kia motors america  inc</td>\n      <td>20500.0</td>\n      <td>21500.0</td>\n      <td>Tue Dec 16 2014 12:30:00 GMT-0800 (PST)</td>\n    </tr>\n    <tr>\n      <th>1</th>\n      <td>2015-01-01</td>\n      <td>kia</td>\n      <td>sorento</td>\n      <td>lx</td>\n      <td>SUV</td>\n      <td>automatic</td>\n      <td>5xyktca69fg561319</td>\n      <td>ca</td>\n      <td>5.0</td>\n      <td>9393.0</td>\n      <td>white</td>\n      <td>beige</td>\n      <td>kia motors america  inc</td>\n      <td>20800.0</td>\n      <td>21500.0</td>\n      <td>Tue Dec 16 2014 12:30:00 GMT-0800 (PST)</td>\n    </tr>\n    <tr>\n      <th>2</th>\n      <td>2014-01-01</td>\n      <td>bmw</td>\n      <td>3 series</td>\n      <td>328i sulev</td>\n      <td>Sedan</td>\n      <td>automatic</td>\n      <td>wba3c1c51ek116351</td>\n      <td>ca</td>\n      <td>45.0</td>\n      <td>1331.0</td>\n      <td>gray</td>\n      <td>black</td>\n      <td>financial services remarketing (lease)</td>\n      <td>31900.0</td>\n      <td>30000.0</td>\n      <td>Thu Jan 15 2015 04:30:00 GMT-0800 (PST)</td>\n    </tr>\n    <tr>\n      <th>3</th>\n      <td>2015-01-01</td>\n      <td>volvo</td>\n      <td>s60</td>\n      <td>t5</td>\n      <td>Sedan</td>\n      <td>automatic</td>\n      <td>yv1612tb4f1310987</td>\n      <td>ca</td>\n      <td>41.0</td>\n      <td>14282.0</td>\n      <td>white</td>\n      <td>black</td>\n      <td>volvo na rep/world omni</td>\n      <td>27500.0</td>\n      <td>27750.0</td>\n      <td>Thu Jan 29 2015 04:30:00 GMT-0800 (PST)</td>\n    </tr>\n    <tr>\n      <th>4</th>\n      <td>2014-01-01</td>\n      <td>bmw</td>\n      <td>6 series gran coupe</td>\n      <td>650i</td>\n      <td>Sedan</td>\n      <td>automatic</td>\n      <td>wba6b2c57ed129731</td>\n      <td>ca</td>\n      <td>43.0</td>\n      <td>2641.0</td>\n      <td>gray</td>\n      <td>black</td>\n      <td>financial services remarketing (lease)</td>\n      <td>66000.0</td>\n      <td>67000.0</td>\n      <td>Thu Dec 18 2014 12:30:00 GMT-0800 (PST)</td>\n    </tr>\n    <tr>\n      <th>...</th>\n      <td>...</td>\n      <td>...</td>\n      <td>...</td>\n      <td>...</td>\n      <td>...</td>\n      <td>...</td>\n      <td>...</td>\n      <td>...</td>\n      <td>...</td>\n      <td>...</td>\n      <td>...</td>\n      <td>...</td>\n      <td>...</td>\n      <td>...</td>\n      <td>...</td>\n      <td>...</td>\n    </tr>\n    <tr>\n      <th>558832</th>\n      <td>2015-01-01</td>\n      <td>kia</td>\n      <td>k900</td>\n      <td>luxury</td>\n      <td>Sedan</td>\n      <td>unknown</td>\n      <td>knalw4d4xf6019304</td>\n      <td>in</td>\n      <td>45.0</td>\n      <td>18255.0</td>\n      <td>silver</td>\n      <td>black</td>\n      <td>avis corporation</td>\n      <td>35300.0</td>\n      <td>33000.0</td>\n      <td>Thu Jul 09 2015 07:00:00 GMT-0700 (PDT)</td>\n    </tr>\n    <tr>\n      <th>558833</th>\n      <td>2012-01-01</td>\n      <td>ram</td>\n      <td>2500</td>\n      <td>power wagon</td>\n      <td>Crew Cab</td>\n      <td>automatic</td>\n      <td>3c6td5et6cg112407</td>\n      <td>wa</td>\n      <td>5.0</td>\n      <td>54393.0</td>\n      <td>white</td>\n      <td>black</td>\n      <td>i -5 uhlmann rv</td>\n      <td>30200.0</td>\n      <td>30800.0</td>\n      <td>Wed Jul 08 2015 09:30:00 GMT-0700 (PDT)</td>\n    </tr>\n    <tr>\n      <th>558834</th>\n      <td>2012-01-01</td>\n      <td>bmw</td>\n      <td>x5</td>\n      <td>xdrive35d</td>\n      <td>SUV</td>\n      <td>automatic</td>\n      <td>5uxzw0c58cl668465</td>\n      <td>ca</td>\n      <td>48.0</td>\n      <td>50561.0</td>\n      <td>black</td>\n      <td>black</td>\n      <td>financial services remarketing (lease)</td>\n      <td>29800.0</td>\n      <td>34000.0</td>\n      <td>Wed Jul 08 2015 09:30:00 GMT-0700 (PDT)</td>\n    </tr>\n    <tr>\n      <th>558835</th>\n      <td>2015-01-01</td>\n      <td>nissan</td>\n      <td>altima</td>\n      <td>2.5 s</td>\n      <td>sedan</td>\n      <td>automatic</td>\n      <td>1n4al3ap0fc216050</td>\n      <td>ga</td>\n      <td>38.0</td>\n      <td>16658.0</td>\n      <td>white</td>\n      <td>black</td>\n      <td>enterprise vehicle exchange / tra / rental / t...</td>\n      <td>15100.0</td>\n      <td>11100.0</td>\n      <td>Thu Jul 09 2015 06:45:00 GMT-0700 (PDT)</td>\n    </tr>\n    <tr>\n      <th>558836</th>\n      <td>2014-01-01</td>\n      <td>ford</td>\n      <td>f-150</td>\n      <td>xlt</td>\n      <td>SuperCrew</td>\n      <td>automatic</td>\n      <td>1ftfw1et2eke87277</td>\n      <td>ca</td>\n      <td>34.0</td>\n      <td>15008.0</td>\n      <td>gray</td>\n      <td>gray</td>\n      <td>ford motor credit company llc pd</td>\n      <td>29600.0</td>\n      <td>26700.0</td>\n      <td>Thu May 28 2015 05:30:00 GMT-0700 (PDT)</td>\n    </tr>\n  </tbody>\n</table>\n<p>558837 rows × 16 columns</p>\n</div>"
     },
     "execution_count": 20,
     "metadata": {},
     "output_type": "execute_result"
    }
   ],
   "source": [
    "vehicle_sales"
   ],
   "metadata": {
    "collapsed": false,
    "ExecuteTime": {
     "end_time": "2024-03-24T17:33:33.843415Z",
     "start_time": "2024-03-24T17:33:33.827760Z"
    }
   },
   "id": "90850dd7901b9c35",
   "execution_count": 20
  },
  {
   "cell_type": "code",
   "outputs": [
    {
     "data": {
      "text/plain": "year                34\nmake                67\nmodel              852\ntrim              1889\nbody                88\ntransmission         5\nvin             550298\nstate               64\ncondition           42\nodometer        172279\ncolor               47\ninterior            18\nseller           14263\nmmr               1102\nsellingprice      1888\nsaledate          3766\ndtype: int64"
     },
     "execution_count": 21,
     "metadata": {},
     "output_type": "execute_result"
    }
   ],
   "source": [
    "vehicle_sales.nunique()"
   ],
   "metadata": {
    "collapsed": false,
    "ExecuteTime": {
     "end_time": "2024-03-24T17:33:34.148022Z",
     "start_time": "2024-03-24T17:33:33.843415Z"
    }
   },
   "id": "30fecb3951ccb213",
   "execution_count": 21
  },
  {
   "cell_type": "code",
   "outputs": [
    {
     "name": "stdout",
     "output_type": "stream",
     "text": [
      "The script took 1.1836650371551514 seconds to load.\n"
     ]
    }
   ],
   "source": [
    "# Get the current time\n",
    "start_time = tm.time()\n",
    "\n",
    "# Load your script here\n",
    "vehicle_sales = pd.read_csv(vehicle_sales_path)\n",
    "\n",
    "# Get the current time again\n",
    "end_time = tm.time()\n",
    "\n",
    "# Calculate the time it took to load your script\n",
    "load_time = end_time - start_time\n",
    "\n",
    "print(f\"The script took {load_time} seconds to load.\") # 1.0112128257751465 seconds"
   ],
   "metadata": {
    "collapsed": false,
    "ExecuteTime": {
     "end_time": "2024-03-24T17:33:35.336835Z",
     "start_time": "2024-03-24T17:33:34.148022Z"
    }
   },
   "id": "7ad34f9e9d173815",
   "execution_count": 22
  },
  {
   "cell_type": "code",
   "outputs": [
    {
     "name": "stdout",
     "output_type": "stream",
     "text": [
      "<class 'pandas.core.frame.DataFrame'>\n",
      "RangeIndex: 558837 entries, 0 to 558836\n",
      "Data columns (total 16 columns):\n",
      " #   Column        Non-Null Count   Dtype         \n",
      "---  ------        --------------   -----         \n",
      " 0   year          558837 non-null  datetime64[ns]\n",
      " 1   make          558837 non-null  object        \n",
      " 2   model         558837 non-null  object        \n",
      " 3   trim          558837 non-null  object        \n",
      " 4   body          558837 non-null  category      \n",
      " 5   transmission  558837 non-null  category      \n",
      " 6   vin           558837 non-null  object        \n",
      " 7   state         558837 non-null  category      \n",
      " 8   condition     558837 non-null  float32       \n",
      " 9   odometer      558837 non-null  float32       \n",
      " 10  color         558837 non-null  object        \n",
      " 11  interior      558837 non-null  object        \n",
      " 12  seller        558837 non-null  object        \n",
      " 13  mmr           558837 non-null  float32       \n",
      " 14  sellingprice  558837 non-null  float32       \n",
      " 15  saledate      558825 non-null  object        \n",
      "dtypes: category(3), datetime64[ns](1), float32(4), object(8)\n",
      "memory usage: 48.5+ MB\n"
     ]
    }
   ],
   "source": [
    "vehicle_sales.info() # 68.2+ MB"
   ],
   "metadata": {
    "collapsed": false,
    "ExecuteTime": {
     "end_time": "2024-03-24T17:34:09.183184Z",
     "start_time": "2024-03-24T17:34:09.063588Z"
    }
   },
   "id": "196c71bae1e5d872",
   "execution_count": 27
  },
  {
   "cell_type": "code",
   "outputs": [
    {
     "data": {
      "text/plain": "year            datetime64[ns]\nmake                    object\nmodel                   object\ntrim                    object\nbody                  category\ntransmission          category\nvin                     object\nstate                 category\ncondition              float32\nodometer               float32\ncolor                   object\ninterior                object\nseller                  object\nmmr                    float32\nsellingprice           float32\nsaledate                object\ndtype: object"
     },
     "execution_count": 28,
     "metadata": {},
     "output_type": "execute_result"
    }
   ],
   "source": [
    "vehicle_sales.dtypes"
   ],
   "metadata": {
    "collapsed": false,
    "ExecuteTime": {
     "end_time": "2024-03-24T17:34:14.546191Z",
     "start_time": "2024-03-24T17:34:14.541128Z"
    }
   },
   "id": "f205b25e725c3335",
   "execution_count": 28
  },
  {
   "cell_type": "markdown",
   "source": [
    "# Upper is data cleaning handling to reduce memory usage and data types"
   ],
   "metadata": {
    "collapsed": false
   },
   "id": "af031379a5a22001"
  },
  {
   "cell_type": "code",
   "outputs": [
    {
     "data": {
      "text/plain": "        year    make                model         trim       body  \\\n0       2015     kia              sorento           lx        SUV   \n1       2015     kia              sorento           lx        SUV   \n2       2014     bmw             3 series   328i sulev      Sedan   \n3       2015   volvo                  s60           t5      Sedan   \n4       2014     bmw  6 series gran coupe         650i      Sedan   \n...      ...     ...                  ...          ...        ...   \n558832  2015     kia                 k900       luxury      Sedan   \n558833  2012     ram                 2500  power wagon   Crew Cab   \n558834  2012     bmw                   x5    xdrive35d        SUV   \n558835  2015  nissan               altima        2.5 s      sedan   \n558836  2014    ford                f-150          xlt  SuperCrew   \n\n       transmission                vin state  condition  odometer   color  \\\n0         automatic  5xyktca69fg566472    ca        5.0   16639.0   white   \n1         automatic  5xyktca69fg561319    ca        5.0    9393.0   white   \n2         automatic  wba3c1c51ek116351    ca       45.0    1331.0    gray   \n3         automatic  yv1612tb4f1310987    ca       41.0   14282.0   white   \n4         automatic  wba6b2c57ed129731    ca       43.0    2641.0    gray   \n...             ...                ...   ...        ...       ...     ...   \n558832      unknown  knalw4d4xf6019304    in       45.0   18255.0  silver   \n558833    automatic  3c6td5et6cg112407    wa        5.0   54393.0   white   \n558834    automatic  5uxzw0c58cl668465    ca       48.0   50561.0   black   \n558835    automatic  1n4al3ap0fc216050    ga       38.0   16658.0   white   \n558836    automatic  1ftfw1et2eke87277    ca       34.0   15008.0    gray   \n\n       interior                                             seller      mmr  \\\n0         black                            kia motors america  inc  20500.0   \n1         beige                            kia motors america  inc  20800.0   \n2         black             financial services remarketing (lease)  31900.0   \n3         black                            volvo na rep/world omni  27500.0   \n4         black             financial services remarketing (lease)  66000.0   \n...         ...                                                ...      ...   \n558832    black                                   avis corporation  35300.0   \n558833    black                                    i -5 uhlmann rv  30200.0   \n558834    black             financial services remarketing (lease)  29800.0   \n558835    black  enterprise vehicle exchange / tra / rental / t...  15100.0   \n558836     gray                   ford motor credit company llc pd  29600.0   \n\n        sellingprice                                 saledate  \n0            21500.0  Tue Dec 16 2014 12:30:00 GMT-0800 (PST)  \n1            21500.0  Tue Dec 16 2014 12:30:00 GMT-0800 (PST)  \n2            30000.0  Thu Jan 15 2015 04:30:00 GMT-0800 (PST)  \n3            27750.0  Thu Jan 29 2015 04:30:00 GMT-0800 (PST)  \n4            67000.0  Thu Dec 18 2014 12:30:00 GMT-0800 (PST)  \n...              ...                                      ...  \n558832       33000.0  Thu Jul 09 2015 07:00:00 GMT-0700 (PDT)  \n558833       30800.0  Wed Jul 08 2015 09:30:00 GMT-0700 (PDT)  \n558834       34000.0  Wed Jul 08 2015 09:30:00 GMT-0700 (PDT)  \n558835       11100.0  Thu Jul 09 2015 06:45:00 GMT-0700 (PDT)  \n558836       26700.0  Thu May 28 2015 05:30:00 GMT-0700 (PDT)  \n\n[558837 rows x 16 columns]",
      "text/html": "<div>\n<style scoped>\n    .dataframe tbody tr th:only-of-type {\n        vertical-align: middle;\n    }\n\n    .dataframe tbody tr th {\n        vertical-align: top;\n    }\n\n    .dataframe thead th {\n        text-align: right;\n    }\n</style>\n<table border=\"1\" class=\"dataframe\">\n  <thead>\n    <tr style=\"text-align: right;\">\n      <th></th>\n      <th>year</th>\n      <th>make</th>\n      <th>model</th>\n      <th>trim</th>\n      <th>body</th>\n      <th>transmission</th>\n      <th>vin</th>\n      <th>state</th>\n      <th>condition</th>\n      <th>odometer</th>\n      <th>color</th>\n      <th>interior</th>\n      <th>seller</th>\n      <th>mmr</th>\n      <th>sellingprice</th>\n      <th>saledate</th>\n    </tr>\n  </thead>\n  <tbody>\n    <tr>\n      <th>0</th>\n      <td>2015</td>\n      <td>kia</td>\n      <td>sorento</td>\n      <td>lx</td>\n      <td>SUV</td>\n      <td>automatic</td>\n      <td>5xyktca69fg566472</td>\n      <td>ca</td>\n      <td>5.0</td>\n      <td>16639.0</td>\n      <td>white</td>\n      <td>black</td>\n      <td>kia motors america  inc</td>\n      <td>20500.0</td>\n      <td>21500.0</td>\n      <td>Tue Dec 16 2014 12:30:00 GMT-0800 (PST)</td>\n    </tr>\n    <tr>\n      <th>1</th>\n      <td>2015</td>\n      <td>kia</td>\n      <td>sorento</td>\n      <td>lx</td>\n      <td>SUV</td>\n      <td>automatic</td>\n      <td>5xyktca69fg561319</td>\n      <td>ca</td>\n      <td>5.0</td>\n      <td>9393.0</td>\n      <td>white</td>\n      <td>beige</td>\n      <td>kia motors america  inc</td>\n      <td>20800.0</td>\n      <td>21500.0</td>\n      <td>Tue Dec 16 2014 12:30:00 GMT-0800 (PST)</td>\n    </tr>\n    <tr>\n      <th>2</th>\n      <td>2014</td>\n      <td>bmw</td>\n      <td>3 series</td>\n      <td>328i sulev</td>\n      <td>Sedan</td>\n      <td>automatic</td>\n      <td>wba3c1c51ek116351</td>\n      <td>ca</td>\n      <td>45.0</td>\n      <td>1331.0</td>\n      <td>gray</td>\n      <td>black</td>\n      <td>financial services remarketing (lease)</td>\n      <td>31900.0</td>\n      <td>30000.0</td>\n      <td>Thu Jan 15 2015 04:30:00 GMT-0800 (PST)</td>\n    </tr>\n    <tr>\n      <th>3</th>\n      <td>2015</td>\n      <td>volvo</td>\n      <td>s60</td>\n      <td>t5</td>\n      <td>Sedan</td>\n      <td>automatic</td>\n      <td>yv1612tb4f1310987</td>\n      <td>ca</td>\n      <td>41.0</td>\n      <td>14282.0</td>\n      <td>white</td>\n      <td>black</td>\n      <td>volvo na rep/world omni</td>\n      <td>27500.0</td>\n      <td>27750.0</td>\n      <td>Thu Jan 29 2015 04:30:00 GMT-0800 (PST)</td>\n    </tr>\n    <tr>\n      <th>4</th>\n      <td>2014</td>\n      <td>bmw</td>\n      <td>6 series gran coupe</td>\n      <td>650i</td>\n      <td>Sedan</td>\n      <td>automatic</td>\n      <td>wba6b2c57ed129731</td>\n      <td>ca</td>\n      <td>43.0</td>\n      <td>2641.0</td>\n      <td>gray</td>\n      <td>black</td>\n      <td>financial services remarketing (lease)</td>\n      <td>66000.0</td>\n      <td>67000.0</td>\n      <td>Thu Dec 18 2014 12:30:00 GMT-0800 (PST)</td>\n    </tr>\n    <tr>\n      <th>...</th>\n      <td>...</td>\n      <td>...</td>\n      <td>...</td>\n      <td>...</td>\n      <td>...</td>\n      <td>...</td>\n      <td>...</td>\n      <td>...</td>\n      <td>...</td>\n      <td>...</td>\n      <td>...</td>\n      <td>...</td>\n      <td>...</td>\n      <td>...</td>\n      <td>...</td>\n      <td>...</td>\n    </tr>\n    <tr>\n      <th>558832</th>\n      <td>2015</td>\n      <td>kia</td>\n      <td>k900</td>\n      <td>luxury</td>\n      <td>Sedan</td>\n      <td>unknown</td>\n      <td>knalw4d4xf6019304</td>\n      <td>in</td>\n      <td>45.0</td>\n      <td>18255.0</td>\n      <td>silver</td>\n      <td>black</td>\n      <td>avis corporation</td>\n      <td>35300.0</td>\n      <td>33000.0</td>\n      <td>Thu Jul 09 2015 07:00:00 GMT-0700 (PDT)</td>\n    </tr>\n    <tr>\n      <th>558833</th>\n      <td>2012</td>\n      <td>ram</td>\n      <td>2500</td>\n      <td>power wagon</td>\n      <td>Crew Cab</td>\n      <td>automatic</td>\n      <td>3c6td5et6cg112407</td>\n      <td>wa</td>\n      <td>5.0</td>\n      <td>54393.0</td>\n      <td>white</td>\n      <td>black</td>\n      <td>i -5 uhlmann rv</td>\n      <td>30200.0</td>\n      <td>30800.0</td>\n      <td>Wed Jul 08 2015 09:30:00 GMT-0700 (PDT)</td>\n    </tr>\n    <tr>\n      <th>558834</th>\n      <td>2012</td>\n      <td>bmw</td>\n      <td>x5</td>\n      <td>xdrive35d</td>\n      <td>SUV</td>\n      <td>automatic</td>\n      <td>5uxzw0c58cl668465</td>\n      <td>ca</td>\n      <td>48.0</td>\n      <td>50561.0</td>\n      <td>black</td>\n      <td>black</td>\n      <td>financial services remarketing (lease)</td>\n      <td>29800.0</td>\n      <td>34000.0</td>\n      <td>Wed Jul 08 2015 09:30:00 GMT-0700 (PDT)</td>\n    </tr>\n    <tr>\n      <th>558835</th>\n      <td>2015</td>\n      <td>nissan</td>\n      <td>altima</td>\n      <td>2.5 s</td>\n      <td>sedan</td>\n      <td>automatic</td>\n      <td>1n4al3ap0fc216050</td>\n      <td>ga</td>\n      <td>38.0</td>\n      <td>16658.0</td>\n      <td>white</td>\n      <td>black</td>\n      <td>enterprise vehicle exchange / tra / rental / t...</td>\n      <td>15100.0</td>\n      <td>11100.0</td>\n      <td>Thu Jul 09 2015 06:45:00 GMT-0700 (PDT)</td>\n    </tr>\n    <tr>\n      <th>558836</th>\n      <td>2014</td>\n      <td>ford</td>\n      <td>f-150</td>\n      <td>xlt</td>\n      <td>SuperCrew</td>\n      <td>automatic</td>\n      <td>1ftfw1et2eke87277</td>\n      <td>ca</td>\n      <td>34.0</td>\n      <td>15008.0</td>\n      <td>gray</td>\n      <td>gray</td>\n      <td>ford motor credit company llc pd</td>\n      <td>29600.0</td>\n      <td>26700.0</td>\n      <td>Thu May 28 2015 05:30:00 GMT-0700 (PDT)</td>\n    </tr>\n  </tbody>\n</table>\n<p>558837 rows × 16 columns</p>\n</div>"
     },
     "execution_count": 35,
     "metadata": {},
     "output_type": "execute_result"
    }
   ],
   "source": [
    "vehicle_sales"
   ],
   "metadata": {
    "collapsed": false,
    "ExecuteTime": {
     "end_time": "2024-03-24T17:38:14.897144Z",
     "start_time": "2024-03-24T17:38:14.884547Z"
    }
   },
   "id": "a01641be1fb5b32c",
   "execution_count": 35
  },
  {
   "cell_type": "code",
   "outputs": [
    {
     "data": {
      "text/plain": "                             sum  count\nmake  trim        year                 \nacura 2.2         1997    1725.0      2\n      2.2 premium 1997    3350.0      7\n      2.3         1999    3800.0      4\n      2.3 premium 1998    1900.0      1\n      2.5         1998    4550.0      4\n...                          ...    ...\nvw    se          2013   19400.0      1\n                  2014  103600.0      5\n      se w/nav    2013   20600.0      1\n      se w/rse    2013   40200.0      2\n      sel prm     2014   49600.0      2\n\n[7985 rows x 2 columns]",
      "text/html": "<div>\n<style scoped>\n    .dataframe tbody tr th:only-of-type {\n        vertical-align: middle;\n    }\n\n    .dataframe tbody tr th {\n        vertical-align: top;\n    }\n\n    .dataframe thead th {\n        text-align: right;\n    }\n</style>\n<table border=\"1\" class=\"dataframe\">\n  <thead>\n    <tr style=\"text-align: right;\">\n      <th></th>\n      <th></th>\n      <th></th>\n      <th>sum</th>\n      <th>count</th>\n    </tr>\n    <tr>\n      <th>make</th>\n      <th>trim</th>\n      <th>year</th>\n      <th></th>\n      <th></th>\n    </tr>\n  </thead>\n  <tbody>\n    <tr>\n      <th rowspan=\"5\" valign=\"top\">acura</th>\n      <th>2.2</th>\n      <th>1997</th>\n      <td>1725.0</td>\n      <td>2</td>\n    </tr>\n    <tr>\n      <th>2.2 premium</th>\n      <th>1997</th>\n      <td>3350.0</td>\n      <td>7</td>\n    </tr>\n    <tr>\n      <th>2.3</th>\n      <th>1999</th>\n      <td>3800.0</td>\n      <td>4</td>\n    </tr>\n    <tr>\n      <th>2.3 premium</th>\n      <th>1998</th>\n      <td>1900.0</td>\n      <td>1</td>\n    </tr>\n    <tr>\n      <th>2.5</th>\n      <th>1998</th>\n      <td>4550.0</td>\n      <td>4</td>\n    </tr>\n    <tr>\n      <th>...</th>\n      <th>...</th>\n      <th>...</th>\n      <td>...</td>\n      <td>...</td>\n    </tr>\n    <tr>\n      <th rowspan=\"5\" valign=\"top\">vw</th>\n      <th rowspan=\"2\" valign=\"top\">se</th>\n      <th>2013</th>\n      <td>19400.0</td>\n      <td>1</td>\n    </tr>\n    <tr>\n      <th>2014</th>\n      <td>103600.0</td>\n      <td>5</td>\n    </tr>\n    <tr>\n      <th>se w/nav</th>\n      <th>2013</th>\n      <td>20600.0</td>\n      <td>1</td>\n    </tr>\n    <tr>\n      <th>se w/rse</th>\n      <th>2013</th>\n      <td>40200.0</td>\n      <td>2</td>\n    </tr>\n    <tr>\n      <th>sel prm</th>\n      <th>2014</th>\n      <td>49600.0</td>\n      <td>2</td>\n    </tr>\n  </tbody>\n</table>\n<p>7985 rows × 2 columns</p>\n</div>"
     },
     "execution_count": 46,
     "metadata": {},
     "output_type": "execute_result"
    }
   ],
   "source": [
    "vehicle_sales.groupby(['make', 'trim', 'year'], observed=True)['sellingprice'].agg(\n",
    "  ['sum', 'count']\n",
    ")"
   ],
   "metadata": {
    "collapsed": false,
    "ExecuteTime": {
     "end_time": "2024-03-24T17:43:31.481109Z",
     "start_time": "2024-03-24T17:43:31.410248Z"
    }
   },
   "id": "b4d0fb8d7e0886dc",
   "execution_count": 46
  },
  {
   "cell_type": "code",
   "outputs": [
    {
     "data": {
      "text/plain": "make        acura  airstream  aston martin         audi    bentley  \\\nyear                                                                 \n1984          NaN        NaN           NaN          NaN        NaN   \n1985          NaN        NaN           NaN          NaN        NaN   \n1986          NaN        NaN           NaN          NaN        NaN   \n1987          NaN        NaN           NaN          NaN        NaN   \n1989          NaN        NaN           NaN          NaN        NaN   \n1990          NaN        NaN           NaN          NaN        NaN   \n1991          NaN        NaN           NaN          NaN        NaN   \n1992          NaN        NaN           NaN          NaN        NaN   \n1993       1150.0        NaN           NaN          NaN        NaN   \n1994       7050.0        NaN           NaN          NaN        NaN   \n1995       3925.0        NaN           NaN          NaN        NaN   \n1996      10600.0        NaN           NaN        300.0        NaN   \n1997      30075.0        NaN           NaN       3150.0        NaN   \n1998      33950.0        NaN           NaN      16500.0        NaN   \n1999      89975.0        NaN           NaN      24200.0        NaN   \n2000     124350.0        NaN           NaN      53225.0        NaN   \n2001     295450.0        NaN           NaN     238075.0        NaN   \n2002     495475.0        NaN           NaN     284650.0        NaN   \n2003     984050.0        NaN           NaN     607050.0        NaN   \n2004    1755200.0        NaN           NaN    1059675.0   101700.0   \n2005    2312000.0        NaN           NaN    1479475.0   849900.0   \n2006    3007700.0        NaN      132000.0    2062950.0  1174000.0   \n2007    4342200.0        NaN      653800.0    4453900.0  1624450.0   \n2008    4145000.0        NaN      273000.0    5845300.0   876350.0   \n2009    3386250.0        NaN      114000.0    6790825.0   329500.0   \n2010    4208650.0        NaN           NaN    6211350.0   197000.0   \n2011    5824850.0        NaN      197500.0    9917450.0   340500.0   \n2012   38498352.0    71000.0           NaN   33598752.0  1331000.0   \n2013    6789150.0        NaN           NaN   21947650.0  1494250.0   \n2014    5835900.0        NaN           NaN   18699250.0   308000.0   \n2015     685500.0        NaN           NaN    3722250.0        NaN   \nTotal  82866800.0    71000.0     1370300.0  117015976.0  8626650.0   \n\nmake           bmw       buick     cadillac  chev truck    chevrolet  ...  \\\nyear                                                                  ...   \n1984           NaN         NaN          NaN         NaN       3100.0  ...   \n1985           NaN         NaN          NaN         NaN       7750.0  ...   \n1986           NaN         NaN          NaN         NaN       8600.0  ...   \n1987           NaN         NaN          NaN         NaN          NaN  ...   \n1989           NaN         NaN          NaN         NaN      10100.0  ...   \n1990           NaN         NaN        325.0         NaN      41200.0  ...   \n1991        6750.0      1325.0       2250.0         NaN      11200.0  ...   \n1992         450.0      4750.0       2250.0         NaN      25275.0  ...   \n1993           NaN      1625.0       6650.0         NaN      19600.0  ...   \n1994       14875.0      5200.0       7850.0         NaN      31700.0  ...   \n1995       16050.0     24450.0      16225.0         NaN      77775.0  ...   \n1996       23725.0      8100.0      13600.0         NaN      64100.0  ...   \n1997      110950.0     42150.0      41075.0         NaN      91150.0  ...   \n1998      122725.0     44575.0      40800.0         NaN     180150.0  ...   \n1999      202450.0     71000.0      81400.0         NaN     488800.0  ...   \n2000      523725.0    141675.0     170300.0      2000.0     910175.0  ...   \n2001      981550.0    116875.0     133950.0         NaN    1719775.0  ...   \n2002     1450300.0    356175.0     470995.0         NaN    3338700.0  ...   \n2003     2127250.0    367325.0    1025760.0         NaN    4828625.0  ...   \n2004     4055125.0    553025.0    1612925.0         NaN    8161900.0  ...   \n2005     4570250.0   1111150.0    2952745.0         NaN   12899750.0  ...   \n2006    12206750.0   1396775.0    3793000.0         NaN   14608759.0  ...   \n2007    16149045.0   1528310.0   11613600.0         NaN   33078050.0  ...   \n2008    22786608.0   4179950.0    9214620.0         NaN   34949600.0  ...   \n2009    14414300.0   2241050.0    6453775.0         NaN   28673180.0  ...   \n2010    11797050.0   3848800.0    7788390.0         NaN   40382672.0  ...   \n2011    60278952.0   6808128.0   17314400.0         NaN   68812088.0  ...   \n2012   132668776.0  10268401.0   22471704.0         NaN   96381056.0  ...   \n2013    60745352.0   8434811.0   15598209.0         NaN  156170064.0  ...   \n2014    73003808.0  10389400.0   10556223.0         NaN  171767392.0  ...   \n2015    28252700.0   2898650.0    3604850.0         NaN   45627676.0  ...   \nTotal  446509504.0  54843676.0  114987872.0      2000.0  723369920.0  ...   \n\nmake        scion      smart      subaru     suzuki      tesla       toyota  \\\nyear                                                                          \n1984          NaN        NaN         NaN        NaN        NaN          NaN   \n1985          NaN        NaN         NaN        NaN        NaN          NaN   \n1986          NaN        NaN         NaN        NaN        NaN          NaN   \n1987          NaN        NaN         NaN        NaN        NaN          NaN   \n1989          NaN        NaN         NaN        NaN        NaN       1075.0   \n1990          NaN        NaN         NaN        NaN        NaN       3225.0   \n1991          NaN        NaN         NaN        NaN        NaN       7775.0   \n1992          NaN        NaN         NaN        NaN        NaN      19850.0   \n1993          NaN        NaN         NaN        NaN        NaN      30925.0   \n1994          NaN        NaN         NaN        NaN        NaN      46375.0   \n1995          NaN        NaN      4000.0        NaN        NaN      88400.0   \n1996          NaN        NaN      8800.0     1000.0        NaN     128325.0   \n1997          NaN        NaN     15200.0        NaN        NaN     272300.0   \n1998          NaN        NaN     20710.0        NaN        NaN     392450.0   \n1999          NaN        NaN     25750.0     5950.0        NaN     591925.0   \n2000       4500.0        NaN     63075.0     8800.0        NaN     976100.0   \n2001          NaN        NaN    115875.0    13975.0        NaN    1372575.0   \n2002          NaN        NaN    242950.0    35650.0        NaN    2618350.0   \n2003          NaN        NaN    262350.0    30350.0        NaN    4177875.0   \n2004      67400.0        NaN    427625.0   100925.0        NaN    6125150.0   \n2005     238900.0     2000.0   1023930.0   115650.0        NaN    7215600.0   \n2006     301200.0        NaN   1487690.0   298100.0        NaN    9897125.0   \n2007     814850.0        NaN    963750.0   558575.0        NaN   16547965.0   \n2008    1603450.0   182250.0   1961650.0   785920.0        NaN   17477224.0   \n2009       5400.0   179400.0   1798000.0   227575.0        NaN   16114180.0   \n2010     823250.0    44400.0   2329450.0   368600.0        NaN   23949630.0   \n2011    1042850.0    78600.0   8551599.0   406450.0        NaN   59113008.0   \n2012    4625450.0   961000.0   9335551.0   807900.0        NaN  110507744.0   \n2013    4149250.0   822250.0  10613401.0   446700.0  1195850.0  106394856.0   \n2014    2308950.0   172400.0  32756530.0        NaN   346400.0  100445104.0   \n2015     174000.0    27500.0   5791750.0        NaN        NaN    4574810.0   \nTotal  16159450.0  2469800.0  77799632.0  4212120.0  1542250.0  489089920.0   \n\nmake    volkswagen       volvo        vw         Total  \nyear                                                    \n1984           NaN         NaN       NaN  3.100000e+03  \n1985           NaN         NaN       NaN  7.750000e+03  \n1986           NaN         NaN       NaN  1.000000e+04  \n1987           NaN         NaN       NaN  3.000000e+02  \n1989           NaN         NaN       NaN  1.177500e+04  \n1990           NaN         NaN       NaN  6.530000e+04  \n1991           NaN         NaN       NaN  6.012500e+04  \n1992           NaN         NaN       NaN  1.158500e+05  \n1993           NaN       650.0       NaN  1.313000e+05  \n1994           NaN      2425.0       NaN  2.991250e+05  \n1995           NaN      3250.0       NaN  5.694510e+05  \n1996        3525.0      6525.0       NaN  6.856250e+05  \n1997        4250.0      1000.0       NaN  1.461200e+06  \n1998       29925.0     45050.0       NaN  2.373135e+06  \n1999       96050.0     27675.0    1500.0  4.507570e+06  \n2000      168580.0     87700.0    3000.0  7.932464e+06  \n2001      322000.0    211050.0       NaN  1.370720e+07  \n2002      532725.0    242950.0    2150.0  2.516363e+07  \n2003      826300.0    231450.0    1900.0  4.298442e+07  \n2004     1246650.0   1084025.0       NaN  7.044808e+07  \n2005     1342300.0   1175600.0       NaN  9.886272e+07  \n2006     2799068.0   1044050.0       NaN  1.540788e+08  \n2007     3027020.0   1615650.0       NaN  2.350724e+08  \n2008     2956350.0   1790100.0       NaN  2.960864e+08  \n2009     5278050.0   1007850.0       NaN  2.135190e+08  \n2010     5652640.0   2499850.0       NaN  3.235963e+08  \n2011     6536700.0   2737800.0   56800.0  7.655271e+08  \n2012    35816808.0   7647002.0       NaN  1.683337e+09  \n2013    31321244.0   6029450.0   80200.0  1.714441e+09  \n2014    18892250.0   5569600.0  182600.0  1.618341e+09  \n2015     1351450.0  10364750.0       NaN  2.406120e+08  \nTotal  118203888.0  43425452.0  328150.0  7.514013e+09  \n\n[32 rows x 67 columns]",
      "text/html": "<div>\n<style scoped>\n    .dataframe tbody tr th:only-of-type {\n        vertical-align: middle;\n    }\n\n    .dataframe tbody tr th {\n        vertical-align: top;\n    }\n\n    .dataframe thead th {\n        text-align: right;\n    }\n</style>\n<table border=\"1\" class=\"dataframe\">\n  <thead>\n    <tr style=\"text-align: right;\">\n      <th>make</th>\n      <th>acura</th>\n      <th>airstream</th>\n      <th>aston martin</th>\n      <th>audi</th>\n      <th>bentley</th>\n      <th>bmw</th>\n      <th>buick</th>\n      <th>cadillac</th>\n      <th>chev truck</th>\n      <th>chevrolet</th>\n      <th>...</th>\n      <th>scion</th>\n      <th>smart</th>\n      <th>subaru</th>\n      <th>suzuki</th>\n      <th>tesla</th>\n      <th>toyota</th>\n      <th>volkswagen</th>\n      <th>volvo</th>\n      <th>vw</th>\n      <th>Total</th>\n    </tr>\n    <tr>\n      <th>year</th>\n      <th></th>\n      <th></th>\n      <th></th>\n      <th></th>\n      <th></th>\n      <th></th>\n      <th></th>\n      <th></th>\n      <th></th>\n      <th></th>\n      <th></th>\n      <th></th>\n      <th></th>\n      <th></th>\n      <th></th>\n      <th></th>\n      <th></th>\n      <th></th>\n      <th></th>\n      <th></th>\n      <th></th>\n    </tr>\n  </thead>\n  <tbody>\n    <tr>\n      <th>1984</th>\n      <td>NaN</td>\n      <td>NaN</td>\n      <td>NaN</td>\n      <td>NaN</td>\n      <td>NaN</td>\n      <td>NaN</td>\n      <td>NaN</td>\n      <td>NaN</td>\n      <td>NaN</td>\n      <td>3100.0</td>\n      <td>...</td>\n      <td>NaN</td>\n      <td>NaN</td>\n      <td>NaN</td>\n      <td>NaN</td>\n      <td>NaN</td>\n      <td>NaN</td>\n      <td>NaN</td>\n      <td>NaN</td>\n      <td>NaN</td>\n      <td>3.100000e+03</td>\n    </tr>\n    <tr>\n      <th>1985</th>\n      <td>NaN</td>\n      <td>NaN</td>\n      <td>NaN</td>\n      <td>NaN</td>\n      <td>NaN</td>\n      <td>NaN</td>\n      <td>NaN</td>\n      <td>NaN</td>\n      <td>NaN</td>\n      <td>7750.0</td>\n      <td>...</td>\n      <td>NaN</td>\n      <td>NaN</td>\n      <td>NaN</td>\n      <td>NaN</td>\n      <td>NaN</td>\n      <td>NaN</td>\n      <td>NaN</td>\n      <td>NaN</td>\n      <td>NaN</td>\n      <td>7.750000e+03</td>\n    </tr>\n    <tr>\n      <th>1986</th>\n      <td>NaN</td>\n      <td>NaN</td>\n      <td>NaN</td>\n      <td>NaN</td>\n      <td>NaN</td>\n      <td>NaN</td>\n      <td>NaN</td>\n      <td>NaN</td>\n      <td>NaN</td>\n      <td>8600.0</td>\n      <td>...</td>\n      <td>NaN</td>\n      <td>NaN</td>\n      <td>NaN</td>\n      <td>NaN</td>\n      <td>NaN</td>\n      <td>NaN</td>\n      <td>NaN</td>\n      <td>NaN</td>\n      <td>NaN</td>\n      <td>1.000000e+04</td>\n    </tr>\n    <tr>\n      <th>1987</th>\n      <td>NaN</td>\n      <td>NaN</td>\n      <td>NaN</td>\n      <td>NaN</td>\n      <td>NaN</td>\n      <td>NaN</td>\n      <td>NaN</td>\n      <td>NaN</td>\n      <td>NaN</td>\n      <td>NaN</td>\n      <td>...</td>\n      <td>NaN</td>\n      <td>NaN</td>\n      <td>NaN</td>\n      <td>NaN</td>\n      <td>NaN</td>\n      <td>NaN</td>\n      <td>NaN</td>\n      <td>NaN</td>\n      <td>NaN</td>\n      <td>3.000000e+02</td>\n    </tr>\n    <tr>\n      <th>1989</th>\n      <td>NaN</td>\n      <td>NaN</td>\n      <td>NaN</td>\n      <td>NaN</td>\n      <td>NaN</td>\n      <td>NaN</td>\n      <td>NaN</td>\n      <td>NaN</td>\n      <td>NaN</td>\n      <td>10100.0</td>\n      <td>...</td>\n      <td>NaN</td>\n      <td>NaN</td>\n      <td>NaN</td>\n      <td>NaN</td>\n      <td>NaN</td>\n      <td>1075.0</td>\n      <td>NaN</td>\n      <td>NaN</td>\n      <td>NaN</td>\n      <td>1.177500e+04</td>\n    </tr>\n    <tr>\n      <th>1990</th>\n      <td>NaN</td>\n      <td>NaN</td>\n      <td>NaN</td>\n      <td>NaN</td>\n      <td>NaN</td>\n      <td>NaN</td>\n      <td>NaN</td>\n      <td>325.0</td>\n      <td>NaN</td>\n      <td>41200.0</td>\n      <td>...</td>\n      <td>NaN</td>\n      <td>NaN</td>\n      <td>NaN</td>\n      <td>NaN</td>\n      <td>NaN</td>\n      <td>3225.0</td>\n      <td>NaN</td>\n      <td>NaN</td>\n      <td>NaN</td>\n      <td>6.530000e+04</td>\n    </tr>\n    <tr>\n      <th>1991</th>\n      <td>NaN</td>\n      <td>NaN</td>\n      <td>NaN</td>\n      <td>NaN</td>\n      <td>NaN</td>\n      <td>6750.0</td>\n      <td>1325.0</td>\n      <td>2250.0</td>\n      <td>NaN</td>\n      <td>11200.0</td>\n      <td>...</td>\n      <td>NaN</td>\n      <td>NaN</td>\n      <td>NaN</td>\n      <td>NaN</td>\n      <td>NaN</td>\n      <td>7775.0</td>\n      <td>NaN</td>\n      <td>NaN</td>\n      <td>NaN</td>\n      <td>6.012500e+04</td>\n    </tr>\n    <tr>\n      <th>1992</th>\n      <td>NaN</td>\n      <td>NaN</td>\n      <td>NaN</td>\n      <td>NaN</td>\n      <td>NaN</td>\n      <td>450.0</td>\n      <td>4750.0</td>\n      <td>2250.0</td>\n      <td>NaN</td>\n      <td>25275.0</td>\n      <td>...</td>\n      <td>NaN</td>\n      <td>NaN</td>\n      <td>NaN</td>\n      <td>NaN</td>\n      <td>NaN</td>\n      <td>19850.0</td>\n      <td>NaN</td>\n      <td>NaN</td>\n      <td>NaN</td>\n      <td>1.158500e+05</td>\n    </tr>\n    <tr>\n      <th>1993</th>\n      <td>1150.0</td>\n      <td>NaN</td>\n      <td>NaN</td>\n      <td>NaN</td>\n      <td>NaN</td>\n      <td>NaN</td>\n      <td>1625.0</td>\n      <td>6650.0</td>\n      <td>NaN</td>\n      <td>19600.0</td>\n      <td>...</td>\n      <td>NaN</td>\n      <td>NaN</td>\n      <td>NaN</td>\n      <td>NaN</td>\n      <td>NaN</td>\n      <td>30925.0</td>\n      <td>NaN</td>\n      <td>650.0</td>\n      <td>NaN</td>\n      <td>1.313000e+05</td>\n    </tr>\n    <tr>\n      <th>1994</th>\n      <td>7050.0</td>\n      <td>NaN</td>\n      <td>NaN</td>\n      <td>NaN</td>\n      <td>NaN</td>\n      <td>14875.0</td>\n      <td>5200.0</td>\n      <td>7850.0</td>\n      <td>NaN</td>\n      <td>31700.0</td>\n      <td>...</td>\n      <td>NaN</td>\n      <td>NaN</td>\n      <td>NaN</td>\n      <td>NaN</td>\n      <td>NaN</td>\n      <td>46375.0</td>\n      <td>NaN</td>\n      <td>2425.0</td>\n      <td>NaN</td>\n      <td>2.991250e+05</td>\n    </tr>\n    <tr>\n      <th>1995</th>\n      <td>3925.0</td>\n      <td>NaN</td>\n      <td>NaN</td>\n      <td>NaN</td>\n      <td>NaN</td>\n      <td>16050.0</td>\n      <td>24450.0</td>\n      <td>16225.0</td>\n      <td>NaN</td>\n      <td>77775.0</td>\n      <td>...</td>\n      <td>NaN</td>\n      <td>NaN</td>\n      <td>4000.0</td>\n      <td>NaN</td>\n      <td>NaN</td>\n      <td>88400.0</td>\n      <td>NaN</td>\n      <td>3250.0</td>\n      <td>NaN</td>\n      <td>5.694510e+05</td>\n    </tr>\n    <tr>\n      <th>1996</th>\n      <td>10600.0</td>\n      <td>NaN</td>\n      <td>NaN</td>\n      <td>300.0</td>\n      <td>NaN</td>\n      <td>23725.0</td>\n      <td>8100.0</td>\n      <td>13600.0</td>\n      <td>NaN</td>\n      <td>64100.0</td>\n      <td>...</td>\n      <td>NaN</td>\n      <td>NaN</td>\n      <td>8800.0</td>\n      <td>1000.0</td>\n      <td>NaN</td>\n      <td>128325.0</td>\n      <td>3525.0</td>\n      <td>6525.0</td>\n      <td>NaN</td>\n      <td>6.856250e+05</td>\n    </tr>\n    <tr>\n      <th>1997</th>\n      <td>30075.0</td>\n      <td>NaN</td>\n      <td>NaN</td>\n      <td>3150.0</td>\n      <td>NaN</td>\n      <td>110950.0</td>\n      <td>42150.0</td>\n      <td>41075.0</td>\n      <td>NaN</td>\n      <td>91150.0</td>\n      <td>...</td>\n      <td>NaN</td>\n      <td>NaN</td>\n      <td>15200.0</td>\n      <td>NaN</td>\n      <td>NaN</td>\n      <td>272300.0</td>\n      <td>4250.0</td>\n      <td>1000.0</td>\n      <td>NaN</td>\n      <td>1.461200e+06</td>\n    </tr>\n    <tr>\n      <th>1998</th>\n      <td>33950.0</td>\n      <td>NaN</td>\n      <td>NaN</td>\n      <td>16500.0</td>\n      <td>NaN</td>\n      <td>122725.0</td>\n      <td>44575.0</td>\n      <td>40800.0</td>\n      <td>NaN</td>\n      <td>180150.0</td>\n      <td>...</td>\n      <td>NaN</td>\n      <td>NaN</td>\n      <td>20710.0</td>\n      <td>NaN</td>\n      <td>NaN</td>\n      <td>392450.0</td>\n      <td>29925.0</td>\n      <td>45050.0</td>\n      <td>NaN</td>\n      <td>2.373135e+06</td>\n    </tr>\n    <tr>\n      <th>1999</th>\n      <td>89975.0</td>\n      <td>NaN</td>\n      <td>NaN</td>\n      <td>24200.0</td>\n      <td>NaN</td>\n      <td>202450.0</td>\n      <td>71000.0</td>\n      <td>81400.0</td>\n      <td>NaN</td>\n      <td>488800.0</td>\n      <td>...</td>\n      <td>NaN</td>\n      <td>NaN</td>\n      <td>25750.0</td>\n      <td>5950.0</td>\n      <td>NaN</td>\n      <td>591925.0</td>\n      <td>96050.0</td>\n      <td>27675.0</td>\n      <td>1500.0</td>\n      <td>4.507570e+06</td>\n    </tr>\n    <tr>\n      <th>2000</th>\n      <td>124350.0</td>\n      <td>NaN</td>\n      <td>NaN</td>\n      <td>53225.0</td>\n      <td>NaN</td>\n      <td>523725.0</td>\n      <td>141675.0</td>\n      <td>170300.0</td>\n      <td>2000.0</td>\n      <td>910175.0</td>\n      <td>...</td>\n      <td>4500.0</td>\n      <td>NaN</td>\n      <td>63075.0</td>\n      <td>8800.0</td>\n      <td>NaN</td>\n      <td>976100.0</td>\n      <td>168580.0</td>\n      <td>87700.0</td>\n      <td>3000.0</td>\n      <td>7.932464e+06</td>\n    </tr>\n    <tr>\n      <th>2001</th>\n      <td>295450.0</td>\n      <td>NaN</td>\n      <td>NaN</td>\n      <td>238075.0</td>\n      <td>NaN</td>\n      <td>981550.0</td>\n      <td>116875.0</td>\n      <td>133950.0</td>\n      <td>NaN</td>\n      <td>1719775.0</td>\n      <td>...</td>\n      <td>NaN</td>\n      <td>NaN</td>\n      <td>115875.0</td>\n      <td>13975.0</td>\n      <td>NaN</td>\n      <td>1372575.0</td>\n      <td>322000.0</td>\n      <td>211050.0</td>\n      <td>NaN</td>\n      <td>1.370720e+07</td>\n    </tr>\n    <tr>\n      <th>2002</th>\n      <td>495475.0</td>\n      <td>NaN</td>\n      <td>NaN</td>\n      <td>284650.0</td>\n      <td>NaN</td>\n      <td>1450300.0</td>\n      <td>356175.0</td>\n      <td>470995.0</td>\n      <td>NaN</td>\n      <td>3338700.0</td>\n      <td>...</td>\n      <td>NaN</td>\n      <td>NaN</td>\n      <td>242950.0</td>\n      <td>35650.0</td>\n      <td>NaN</td>\n      <td>2618350.0</td>\n      <td>532725.0</td>\n      <td>242950.0</td>\n      <td>2150.0</td>\n      <td>2.516363e+07</td>\n    </tr>\n    <tr>\n      <th>2003</th>\n      <td>984050.0</td>\n      <td>NaN</td>\n      <td>NaN</td>\n      <td>607050.0</td>\n      <td>NaN</td>\n      <td>2127250.0</td>\n      <td>367325.0</td>\n      <td>1025760.0</td>\n      <td>NaN</td>\n      <td>4828625.0</td>\n      <td>...</td>\n      <td>NaN</td>\n      <td>NaN</td>\n      <td>262350.0</td>\n      <td>30350.0</td>\n      <td>NaN</td>\n      <td>4177875.0</td>\n      <td>826300.0</td>\n      <td>231450.0</td>\n      <td>1900.0</td>\n      <td>4.298442e+07</td>\n    </tr>\n    <tr>\n      <th>2004</th>\n      <td>1755200.0</td>\n      <td>NaN</td>\n      <td>NaN</td>\n      <td>1059675.0</td>\n      <td>101700.0</td>\n      <td>4055125.0</td>\n      <td>553025.0</td>\n      <td>1612925.0</td>\n      <td>NaN</td>\n      <td>8161900.0</td>\n      <td>...</td>\n      <td>67400.0</td>\n      <td>NaN</td>\n      <td>427625.0</td>\n      <td>100925.0</td>\n      <td>NaN</td>\n      <td>6125150.0</td>\n      <td>1246650.0</td>\n      <td>1084025.0</td>\n      <td>NaN</td>\n      <td>7.044808e+07</td>\n    </tr>\n    <tr>\n      <th>2005</th>\n      <td>2312000.0</td>\n      <td>NaN</td>\n      <td>NaN</td>\n      <td>1479475.0</td>\n      <td>849900.0</td>\n      <td>4570250.0</td>\n      <td>1111150.0</td>\n      <td>2952745.0</td>\n      <td>NaN</td>\n      <td>12899750.0</td>\n      <td>...</td>\n      <td>238900.0</td>\n      <td>2000.0</td>\n      <td>1023930.0</td>\n      <td>115650.0</td>\n      <td>NaN</td>\n      <td>7215600.0</td>\n      <td>1342300.0</td>\n      <td>1175600.0</td>\n      <td>NaN</td>\n      <td>9.886272e+07</td>\n    </tr>\n    <tr>\n      <th>2006</th>\n      <td>3007700.0</td>\n      <td>NaN</td>\n      <td>132000.0</td>\n      <td>2062950.0</td>\n      <td>1174000.0</td>\n      <td>12206750.0</td>\n      <td>1396775.0</td>\n      <td>3793000.0</td>\n      <td>NaN</td>\n      <td>14608759.0</td>\n      <td>...</td>\n      <td>301200.0</td>\n      <td>NaN</td>\n      <td>1487690.0</td>\n      <td>298100.0</td>\n      <td>NaN</td>\n      <td>9897125.0</td>\n      <td>2799068.0</td>\n      <td>1044050.0</td>\n      <td>NaN</td>\n      <td>1.540788e+08</td>\n    </tr>\n    <tr>\n      <th>2007</th>\n      <td>4342200.0</td>\n      <td>NaN</td>\n      <td>653800.0</td>\n      <td>4453900.0</td>\n      <td>1624450.0</td>\n      <td>16149045.0</td>\n      <td>1528310.0</td>\n      <td>11613600.0</td>\n      <td>NaN</td>\n      <td>33078050.0</td>\n      <td>...</td>\n      <td>814850.0</td>\n      <td>NaN</td>\n      <td>963750.0</td>\n      <td>558575.0</td>\n      <td>NaN</td>\n      <td>16547965.0</td>\n      <td>3027020.0</td>\n      <td>1615650.0</td>\n      <td>NaN</td>\n      <td>2.350724e+08</td>\n    </tr>\n    <tr>\n      <th>2008</th>\n      <td>4145000.0</td>\n      <td>NaN</td>\n      <td>273000.0</td>\n      <td>5845300.0</td>\n      <td>876350.0</td>\n      <td>22786608.0</td>\n      <td>4179950.0</td>\n      <td>9214620.0</td>\n      <td>NaN</td>\n      <td>34949600.0</td>\n      <td>...</td>\n      <td>1603450.0</td>\n      <td>182250.0</td>\n      <td>1961650.0</td>\n      <td>785920.0</td>\n      <td>NaN</td>\n      <td>17477224.0</td>\n      <td>2956350.0</td>\n      <td>1790100.0</td>\n      <td>NaN</td>\n      <td>2.960864e+08</td>\n    </tr>\n    <tr>\n      <th>2009</th>\n      <td>3386250.0</td>\n      <td>NaN</td>\n      <td>114000.0</td>\n      <td>6790825.0</td>\n      <td>329500.0</td>\n      <td>14414300.0</td>\n      <td>2241050.0</td>\n      <td>6453775.0</td>\n      <td>NaN</td>\n      <td>28673180.0</td>\n      <td>...</td>\n      <td>5400.0</td>\n      <td>179400.0</td>\n      <td>1798000.0</td>\n      <td>227575.0</td>\n      <td>NaN</td>\n      <td>16114180.0</td>\n      <td>5278050.0</td>\n      <td>1007850.0</td>\n      <td>NaN</td>\n      <td>2.135190e+08</td>\n    </tr>\n    <tr>\n      <th>2010</th>\n      <td>4208650.0</td>\n      <td>NaN</td>\n      <td>NaN</td>\n      <td>6211350.0</td>\n      <td>197000.0</td>\n      <td>11797050.0</td>\n      <td>3848800.0</td>\n      <td>7788390.0</td>\n      <td>NaN</td>\n      <td>40382672.0</td>\n      <td>...</td>\n      <td>823250.0</td>\n      <td>44400.0</td>\n      <td>2329450.0</td>\n      <td>368600.0</td>\n      <td>NaN</td>\n      <td>23949630.0</td>\n      <td>5652640.0</td>\n      <td>2499850.0</td>\n      <td>NaN</td>\n      <td>3.235963e+08</td>\n    </tr>\n    <tr>\n      <th>2011</th>\n      <td>5824850.0</td>\n      <td>NaN</td>\n      <td>197500.0</td>\n      <td>9917450.0</td>\n      <td>340500.0</td>\n      <td>60278952.0</td>\n      <td>6808128.0</td>\n      <td>17314400.0</td>\n      <td>NaN</td>\n      <td>68812088.0</td>\n      <td>...</td>\n      <td>1042850.0</td>\n      <td>78600.0</td>\n      <td>8551599.0</td>\n      <td>406450.0</td>\n      <td>NaN</td>\n      <td>59113008.0</td>\n      <td>6536700.0</td>\n      <td>2737800.0</td>\n      <td>56800.0</td>\n      <td>7.655271e+08</td>\n    </tr>\n    <tr>\n      <th>2012</th>\n      <td>38498352.0</td>\n      <td>71000.0</td>\n      <td>NaN</td>\n      <td>33598752.0</td>\n      <td>1331000.0</td>\n      <td>132668776.0</td>\n      <td>10268401.0</td>\n      <td>22471704.0</td>\n      <td>NaN</td>\n      <td>96381056.0</td>\n      <td>...</td>\n      <td>4625450.0</td>\n      <td>961000.0</td>\n      <td>9335551.0</td>\n      <td>807900.0</td>\n      <td>NaN</td>\n      <td>110507744.0</td>\n      <td>35816808.0</td>\n      <td>7647002.0</td>\n      <td>NaN</td>\n      <td>1.683337e+09</td>\n    </tr>\n    <tr>\n      <th>2013</th>\n      <td>6789150.0</td>\n      <td>NaN</td>\n      <td>NaN</td>\n      <td>21947650.0</td>\n      <td>1494250.0</td>\n      <td>60745352.0</td>\n      <td>8434811.0</td>\n      <td>15598209.0</td>\n      <td>NaN</td>\n      <td>156170064.0</td>\n      <td>...</td>\n      <td>4149250.0</td>\n      <td>822250.0</td>\n      <td>10613401.0</td>\n      <td>446700.0</td>\n      <td>1195850.0</td>\n      <td>106394856.0</td>\n      <td>31321244.0</td>\n      <td>6029450.0</td>\n      <td>80200.0</td>\n      <td>1.714441e+09</td>\n    </tr>\n    <tr>\n      <th>2014</th>\n      <td>5835900.0</td>\n      <td>NaN</td>\n      <td>NaN</td>\n      <td>18699250.0</td>\n      <td>308000.0</td>\n      <td>73003808.0</td>\n      <td>10389400.0</td>\n      <td>10556223.0</td>\n      <td>NaN</td>\n      <td>171767392.0</td>\n      <td>...</td>\n      <td>2308950.0</td>\n      <td>172400.0</td>\n      <td>32756530.0</td>\n      <td>NaN</td>\n      <td>346400.0</td>\n      <td>100445104.0</td>\n      <td>18892250.0</td>\n      <td>5569600.0</td>\n      <td>182600.0</td>\n      <td>1.618341e+09</td>\n    </tr>\n    <tr>\n      <th>2015</th>\n      <td>685500.0</td>\n      <td>NaN</td>\n      <td>NaN</td>\n      <td>3722250.0</td>\n      <td>NaN</td>\n      <td>28252700.0</td>\n      <td>2898650.0</td>\n      <td>3604850.0</td>\n      <td>NaN</td>\n      <td>45627676.0</td>\n      <td>...</td>\n      <td>174000.0</td>\n      <td>27500.0</td>\n      <td>5791750.0</td>\n      <td>NaN</td>\n      <td>NaN</td>\n      <td>4574810.0</td>\n      <td>1351450.0</td>\n      <td>10364750.0</td>\n      <td>NaN</td>\n      <td>2.406120e+08</td>\n    </tr>\n    <tr>\n      <th>Total</th>\n      <td>82866800.0</td>\n      <td>71000.0</td>\n      <td>1370300.0</td>\n      <td>117015976.0</td>\n      <td>8626650.0</td>\n      <td>446509504.0</td>\n      <td>54843676.0</td>\n      <td>114987872.0</td>\n      <td>2000.0</td>\n      <td>723369920.0</td>\n      <td>...</td>\n      <td>16159450.0</td>\n      <td>2469800.0</td>\n      <td>77799632.0</td>\n      <td>4212120.0</td>\n      <td>1542250.0</td>\n      <td>489089920.0</td>\n      <td>118203888.0</td>\n      <td>43425452.0</td>\n      <td>328150.0</td>\n      <td>7.514013e+09</td>\n    </tr>\n  </tbody>\n</table>\n<p>32 rows × 67 columns</p>\n</div>"
     },
     "execution_count": 54,
     "metadata": {},
     "output_type": "execute_result"
    }
   ],
   "source": [
    "# Filter out rows where 'make' is 'unknown'\n",
    "filtered_vehicle_sales = vehicle_sales[vehicle_sales['make'] != 'unknown']\n",
    "\n",
    "# Create the pivot table on the filtered data\n",
    "pivot_table = filtered_vehicle_sales.pivot_table(columns='make', index='year', values='sellingprice',\n",
    "                                                 aggfunc='sum', observed=True, margins=True, margins_name='Total').dropna(how='all')\n",
    "pivot_table"
   ],
   "metadata": {
    "collapsed": false,
    "ExecuteTime": {
     "end_time": "2024-03-24T17:46:47.503248Z",
     "start_time": "2024-03-24T17:46:47.336945Z"
    }
   },
   "id": "98e1228fcfde2f",
   "execution_count": 54
  }
 ],
 "metadata": {
  "kernelspec": {
   "display_name": "Python 3",
   "language": "python",
   "name": "python3"
  },
  "language_info": {
   "codemirror_mode": {
    "name": "ipython",
    "version": 2
   },
   "file_extension": ".py",
   "mimetype": "text/x-python",
   "name": "python",
   "nbconvert_exporter": "python",
   "pygments_lexer": "ipython2",
   "version": "2.7.6"
  }
 },
 "nbformat": 4,
 "nbformat_minor": 5
}
