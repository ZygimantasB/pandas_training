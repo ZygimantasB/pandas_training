{
 "cells": [
  {
   "cell_type": "code",
   "execution_count": 3,
   "id": "initial_id",
   "metadata": {
    "collapsed": true,
    "ExecuteTime": {
     "end_time": "2024-03-24T19:45:18.402661Z",
     "start_time": "2024-03-24T19:45:18.398650Z"
    }
   },
   "outputs": [],
   "source": [
    "import pandas as pd\n",
    "import numpy as np\n",
    "import matplotlib.pyplot as plt\n",
    "import seaborn as sns\n",
    "import datetime as dt\n",
    "import time as tm\n",
    "import multiprocessing as mp"
   ]
  },
  {
   "cell_type": "code",
   "outputs": [],
   "source": [
    "vehicle_sales_path = r'F:\\DataSpell\\Pandas training\\data_sets\\car_prices.csv'\n",
    "vehicle_sales = pd.read_csv(vehicle_sales_path, parse_dates=['year']).dropna(how='all')"
   ],
   "metadata": {
    "collapsed": false,
    "ExecuteTime": {
     "end_time": "2024-03-24T19:47:14.865611Z",
     "start_time": "2024-03-24T19:47:13.471034Z"
    }
   },
   "id": "31494a7c5bdb14d4",
   "execution_count": 19
  },
  {
   "cell_type": "code",
   "outputs": [],
   "source": [
    "# for col in vehicle_sales.select_dtypes(include=['int', 'float']).columns:\n",
    "#   if vehicle_sales[col].dtype.kind == 'i':\n",
    "#     vehicle_sales[col] = pd.to_numeric(vehicle_sales[col], downcast='integer')\n",
    "#   else:\n",
    "#     vehicle_sales[col] = pd.to_numeric(vehicle_sales[col], downcast='float')\n",
    "\n",
    "vehicle_sales['state'] = vehicle_sales['state'].astype('category')\n",
    "vehicle_sales['year'] = pd.to_datetime(vehicle_sales['year'], format='%Y').dt.year\n",
    "vehicle_sales['make'] = vehicle_sales['make'].fillna('unknown').astype('category')\n",
    "vehicle_sales['model'] = vehicle_sales['model'].fillna('unknown').astype(str)\n",
    "vehicle_sales['trim'] = vehicle_sales['trim'].fillna('unknown').astype(str).str.lower()\n",
    "vehicle_sales['body'] = vehicle_sales['body'].fillna('unknown').astype('category')\n",
    "vehicle_sales['transmission'] = vehicle_sales['transmission'].fillna('unknown').astype('category')\n",
    "vehicle_sales['vin'] = vehicle_sales['vin'].fillna('unknown')\n",
    "vehicle_sales['condition'] = vehicle_sales['condition'].fillna(0)\n",
    "vehicle_sales['odometer'] = vehicle_sales['odometer'].fillna(0)\n",
    "vehicle_sales['color'] = vehicle_sales['color'].fillna('unknown').astype('category')\n",
    "vehicle_sales['interior'] = vehicle_sales['interior'].fillna('unknown').astype('category')\n",
    "vehicle_sales['mmr'] = vehicle_sales['mmr'].fillna(0)\n",
    "vehicle_sales['sellingprice'] = vehicle_sales['sellingprice'].fillna(0)\n",
    "\n",
    "# vehicle_sales['sellingprice'].apply(lambda number: number.is_integer())"
   ],
   "metadata": {
    "collapsed": false,
    "ExecuteTime": {
     "end_time": "2024-03-24T20:32:50.128890Z",
     "start_time": "2024-03-24T20:32:49.952077Z"
    }
   },
   "id": "44d034b5ba475278",
   "execution_count": 81
  },
  {
   "cell_type": "code",
   "outputs": [],
   "source": [
    "# # Define a function to parse datetime strings and convert to Lithuania time\n",
    "# def convert_to_lithuania_time(dt_str):\n",
    "#     try:\n",
    "#         # Parse the datetime string and convert to Lithuania time\n",
    "#         dt = pd.to_datetime(dt_str).tz_convert('Europe/Vilnius')\n",
    "#     except Exception:\n",
    "#         # If parsing fails, return NaT\n",
    "#         dt = pd.NaT\n",
    "#     return dt\n",
    "# \n",
    "# # Apply the function to the 'saledate' column\n",
    "# vehicle_sales['saledate'] = vehicle_sales['saledate'].apply(convert_to_lithuania_time)\n",
    "# \n",
    "# # Replace NaT values with a specific date (e.g., '1900-01-01')\n",
    "# vehicle_sales['saledate'] = vehicle_sales['saledate'].fillna(pd.Timestamp('1900-01-01', tz='Europe/Vilnius'))\n",
    "# \n",
    "# # Check the data type of the 'saledate' column\n",
    "# vehicle_sales['saledate'].dtypes"
   ],
   "metadata": {
    "collapsed": false,
    "ExecuteTime": {
     "end_time": "2024-03-24T19:45:20.167152Z",
     "start_time": "2024-03-24T19:45:20.162759Z"
    }
   },
   "id": "c0a7fa859bd45e37",
   "execution_count": 6
  },
  {
   "cell_type": "code",
   "outputs": [
    {
     "data": {
      "text/plain": "        year    make                model         trim       body  \\\n0       2015     Kia              Sorento           lx        SUV   \n1       2015     Kia              Sorento           lx        SUV   \n2       2014     BMW             3 Series   328i sulev      Sedan   \n3       2015   Volvo                  S60           t5      Sedan   \n4       2014     BMW  6 Series Gran Coupe         650i      Sedan   \n...      ...     ...                  ...          ...        ...   \n558832  2015     Kia                 K900       luxury      Sedan   \n558833  2012     Ram                 2500  power wagon   Crew Cab   \n558834  2012     BMW                   X5    xdrive35d        SUV   \n558835  2015  Nissan               Altima        2.5 s      sedan   \n558836  2014    Ford                F-150          xlt  SuperCrew   \n\n       transmission                vin state  condition  odometer   color  \\\n0         automatic  5xyktca69fg566472    ca        5.0   16639.0   white   \n1         automatic  5xyktca69fg561319    ca        5.0    9393.0   white   \n2         automatic  wba3c1c51ek116351    ca       45.0    1331.0    gray   \n3         automatic  yv1612tb4f1310987    ca       41.0   14282.0   white   \n4         automatic  wba6b2c57ed129731    ca       43.0    2641.0    gray   \n...             ...                ...   ...        ...       ...     ...   \n558832      unknown  knalw4d4xf6019304    in       45.0   18255.0  silver   \n558833    automatic  3c6td5et6cg112407    wa        5.0   54393.0   white   \n558834    automatic  5uxzw0c58cl668465    ca       48.0   50561.0   black   \n558835    automatic  1n4al3ap0fc216050    ga       38.0   16658.0   white   \n558836    automatic  1ftfw1et2eke87277    ca       34.0   15008.0    gray   \n\n       interior                                             seller      mmr  \\\n0         black                            kia motors america  inc  20500.0   \n1         beige                            kia motors america  inc  20800.0   \n2         black             financial services remarketing (lease)  31900.0   \n3         black                            volvo na rep/world omni  27500.0   \n4         black             financial services remarketing (lease)  66000.0   \n...         ...                                                ...      ...   \n558832    black                                   avis corporation  35300.0   \n558833    black                                    i -5 uhlmann rv  30200.0   \n558834    black             financial services remarketing (lease)  29800.0   \n558835    black  enterprise vehicle exchange / tra / rental / t...  15100.0   \n558836     gray                   ford motor credit company llc pd  29600.0   \n\n        sellingprice                                 saledate  \n0            21500.0  Tue Dec 16 2014 12:30:00 GMT-0800 (PST)  \n1            21500.0  Tue Dec 16 2014 12:30:00 GMT-0800 (PST)  \n2            30000.0  Thu Jan 15 2015 04:30:00 GMT-0800 (PST)  \n3            27750.0  Thu Jan 29 2015 04:30:00 GMT-0800 (PST)  \n4            67000.0  Thu Dec 18 2014 12:30:00 GMT-0800 (PST)  \n...              ...                                      ...  \n558832       33000.0  Thu Jul 09 2015 07:00:00 GMT-0700 (PDT)  \n558833       30800.0  Wed Jul 08 2015 09:30:00 GMT-0700 (PDT)  \n558834       34000.0  Wed Jul 08 2015 09:30:00 GMT-0700 (PDT)  \n558835       11100.0  Thu Jul 09 2015 06:45:00 GMT-0700 (PDT)  \n558836       26700.0  Thu May 28 2015 05:30:00 GMT-0700 (PDT)  \n\n[558837 rows x 16 columns]",
      "text/html": "<div>\n<style scoped>\n    .dataframe tbody tr th:only-of-type {\n        vertical-align: middle;\n    }\n\n    .dataframe tbody tr th {\n        vertical-align: top;\n    }\n\n    .dataframe thead th {\n        text-align: right;\n    }\n</style>\n<table border=\"1\" class=\"dataframe\">\n  <thead>\n    <tr style=\"text-align: right;\">\n      <th></th>\n      <th>year</th>\n      <th>make</th>\n      <th>model</th>\n      <th>trim</th>\n      <th>body</th>\n      <th>transmission</th>\n      <th>vin</th>\n      <th>state</th>\n      <th>condition</th>\n      <th>odometer</th>\n      <th>color</th>\n      <th>interior</th>\n      <th>seller</th>\n      <th>mmr</th>\n      <th>sellingprice</th>\n      <th>saledate</th>\n    </tr>\n  </thead>\n  <tbody>\n    <tr>\n      <th>0</th>\n      <td>2015</td>\n      <td>Kia</td>\n      <td>Sorento</td>\n      <td>lx</td>\n      <td>SUV</td>\n      <td>automatic</td>\n      <td>5xyktca69fg566472</td>\n      <td>ca</td>\n      <td>5.0</td>\n      <td>16639.0</td>\n      <td>white</td>\n      <td>black</td>\n      <td>kia motors america  inc</td>\n      <td>20500.0</td>\n      <td>21500.0</td>\n      <td>Tue Dec 16 2014 12:30:00 GMT-0800 (PST)</td>\n    </tr>\n    <tr>\n      <th>1</th>\n      <td>2015</td>\n      <td>Kia</td>\n      <td>Sorento</td>\n      <td>lx</td>\n      <td>SUV</td>\n      <td>automatic</td>\n      <td>5xyktca69fg561319</td>\n      <td>ca</td>\n      <td>5.0</td>\n      <td>9393.0</td>\n      <td>white</td>\n      <td>beige</td>\n      <td>kia motors america  inc</td>\n      <td>20800.0</td>\n      <td>21500.0</td>\n      <td>Tue Dec 16 2014 12:30:00 GMT-0800 (PST)</td>\n    </tr>\n    <tr>\n      <th>2</th>\n      <td>2014</td>\n      <td>BMW</td>\n      <td>3 Series</td>\n      <td>328i sulev</td>\n      <td>Sedan</td>\n      <td>automatic</td>\n      <td>wba3c1c51ek116351</td>\n      <td>ca</td>\n      <td>45.0</td>\n      <td>1331.0</td>\n      <td>gray</td>\n      <td>black</td>\n      <td>financial services remarketing (lease)</td>\n      <td>31900.0</td>\n      <td>30000.0</td>\n      <td>Thu Jan 15 2015 04:30:00 GMT-0800 (PST)</td>\n    </tr>\n    <tr>\n      <th>3</th>\n      <td>2015</td>\n      <td>Volvo</td>\n      <td>S60</td>\n      <td>t5</td>\n      <td>Sedan</td>\n      <td>automatic</td>\n      <td>yv1612tb4f1310987</td>\n      <td>ca</td>\n      <td>41.0</td>\n      <td>14282.0</td>\n      <td>white</td>\n      <td>black</td>\n      <td>volvo na rep/world omni</td>\n      <td>27500.0</td>\n      <td>27750.0</td>\n      <td>Thu Jan 29 2015 04:30:00 GMT-0800 (PST)</td>\n    </tr>\n    <tr>\n      <th>4</th>\n      <td>2014</td>\n      <td>BMW</td>\n      <td>6 Series Gran Coupe</td>\n      <td>650i</td>\n      <td>Sedan</td>\n      <td>automatic</td>\n      <td>wba6b2c57ed129731</td>\n      <td>ca</td>\n      <td>43.0</td>\n      <td>2641.0</td>\n      <td>gray</td>\n      <td>black</td>\n      <td>financial services remarketing (lease)</td>\n      <td>66000.0</td>\n      <td>67000.0</td>\n      <td>Thu Dec 18 2014 12:30:00 GMT-0800 (PST)</td>\n    </tr>\n    <tr>\n      <th>...</th>\n      <td>...</td>\n      <td>...</td>\n      <td>...</td>\n      <td>...</td>\n      <td>...</td>\n      <td>...</td>\n      <td>...</td>\n      <td>...</td>\n      <td>...</td>\n      <td>...</td>\n      <td>...</td>\n      <td>...</td>\n      <td>...</td>\n      <td>...</td>\n      <td>...</td>\n      <td>...</td>\n    </tr>\n    <tr>\n      <th>558832</th>\n      <td>2015</td>\n      <td>Kia</td>\n      <td>K900</td>\n      <td>luxury</td>\n      <td>Sedan</td>\n      <td>unknown</td>\n      <td>knalw4d4xf6019304</td>\n      <td>in</td>\n      <td>45.0</td>\n      <td>18255.0</td>\n      <td>silver</td>\n      <td>black</td>\n      <td>avis corporation</td>\n      <td>35300.0</td>\n      <td>33000.0</td>\n      <td>Thu Jul 09 2015 07:00:00 GMT-0700 (PDT)</td>\n    </tr>\n    <tr>\n      <th>558833</th>\n      <td>2012</td>\n      <td>Ram</td>\n      <td>2500</td>\n      <td>power wagon</td>\n      <td>Crew Cab</td>\n      <td>automatic</td>\n      <td>3c6td5et6cg112407</td>\n      <td>wa</td>\n      <td>5.0</td>\n      <td>54393.0</td>\n      <td>white</td>\n      <td>black</td>\n      <td>i -5 uhlmann rv</td>\n      <td>30200.0</td>\n      <td>30800.0</td>\n      <td>Wed Jul 08 2015 09:30:00 GMT-0700 (PDT)</td>\n    </tr>\n    <tr>\n      <th>558834</th>\n      <td>2012</td>\n      <td>BMW</td>\n      <td>X5</td>\n      <td>xdrive35d</td>\n      <td>SUV</td>\n      <td>automatic</td>\n      <td>5uxzw0c58cl668465</td>\n      <td>ca</td>\n      <td>48.0</td>\n      <td>50561.0</td>\n      <td>black</td>\n      <td>black</td>\n      <td>financial services remarketing (lease)</td>\n      <td>29800.0</td>\n      <td>34000.0</td>\n      <td>Wed Jul 08 2015 09:30:00 GMT-0700 (PDT)</td>\n    </tr>\n    <tr>\n      <th>558835</th>\n      <td>2015</td>\n      <td>Nissan</td>\n      <td>Altima</td>\n      <td>2.5 s</td>\n      <td>sedan</td>\n      <td>automatic</td>\n      <td>1n4al3ap0fc216050</td>\n      <td>ga</td>\n      <td>38.0</td>\n      <td>16658.0</td>\n      <td>white</td>\n      <td>black</td>\n      <td>enterprise vehicle exchange / tra / rental / t...</td>\n      <td>15100.0</td>\n      <td>11100.0</td>\n      <td>Thu Jul 09 2015 06:45:00 GMT-0700 (PDT)</td>\n    </tr>\n    <tr>\n      <th>558836</th>\n      <td>2014</td>\n      <td>Ford</td>\n      <td>F-150</td>\n      <td>xlt</td>\n      <td>SuperCrew</td>\n      <td>automatic</td>\n      <td>1ftfw1et2eke87277</td>\n      <td>ca</td>\n      <td>34.0</td>\n      <td>15008.0</td>\n      <td>gray</td>\n      <td>gray</td>\n      <td>ford motor credit company llc pd</td>\n      <td>29600.0</td>\n      <td>26700.0</td>\n      <td>Thu May 28 2015 05:30:00 GMT-0700 (PDT)</td>\n    </tr>\n  </tbody>\n</table>\n<p>558837 rows × 16 columns</p>\n</div>"
     },
     "execution_count": 7,
     "metadata": {},
     "output_type": "execute_result"
    }
   ],
   "source": [
    "vehicle_sales"
   ],
   "metadata": {
    "collapsed": false,
    "ExecuteTime": {
     "end_time": "2024-03-24T19:45:20.204372Z",
     "start_time": "2024-03-24T19:45:20.167152Z"
    }
   },
   "id": "90850dd7901b9c35",
   "execution_count": 7
  },
  {
   "cell_type": "code",
   "outputs": [
    {
     "data": {
      "text/plain": "year                34\nmake                97\nmodel              974\ntrim              1889\nbody                88\ntransmission         5\nvin             550298\nstate               64\ncondition           42\nodometer        172279\ncolor               47\ninterior            18\nseller           14263\nmmr               1102\nsellingprice      1888\nsaledate          3766\ndtype: int64"
     },
     "execution_count": 8,
     "metadata": {},
     "output_type": "execute_result"
    }
   ],
   "source": [
    "vehicle_sales.nunique()"
   ],
   "metadata": {
    "collapsed": false,
    "ExecuteTime": {
     "end_time": "2024-03-24T19:45:20.450849Z",
     "start_time": "2024-03-24T19:45:20.204372Z"
    }
   },
   "id": "30fecb3951ccb213",
   "execution_count": 8
  },
  {
   "cell_type": "code",
   "outputs": [
    {
     "name": "stdout",
     "output_type": "stream",
     "text": [
      "The script took 1.0782597064971924 seconds to load.\n"
     ]
    }
   ],
   "source": [
    "# Get the current time\n",
    "start_time = tm.time()\n",
    "\n",
    "# Load your script here\n",
    "vehicle_sales = pd.read_csv(vehicle_sales_path)\n",
    "\n",
    "# Get the current time again\n",
    "end_time = tm.time()\n",
    "\n",
    "# Calculate the time it took to load your script\n",
    "load_time = end_time - start_time\n",
    "\n",
    "print(f\"The script took {load_time} seconds to load.\") # 1.0112128257751465 seconds"
   ],
   "metadata": {
    "collapsed": false,
    "ExecuteTime": {
     "end_time": "2024-03-24T19:45:21.533504Z",
     "start_time": "2024-03-24T19:45:20.451866Z"
    }
   },
   "id": "7ad34f9e9d173815",
   "execution_count": 9
  },
  {
   "cell_type": "code",
   "outputs": [
    {
     "name": "stdout",
     "output_type": "stream",
     "text": [
      "<class 'pandas.core.frame.DataFrame'>\n",
      "RangeIndex: 558837 entries, 0 to 558836\n",
      "Data columns (total 16 columns):\n",
      " #   Column        Non-Null Count   Dtype  \n",
      "---  ------        --------------   -----  \n",
      " 0   year          558837 non-null  int64  \n",
      " 1   make          548536 non-null  object \n",
      " 2   model         548438 non-null  object \n",
      " 3   trim          548186 non-null  object \n",
      " 4   body          545642 non-null  object \n",
      " 5   transmission  493485 non-null  object \n",
      " 6   vin           558833 non-null  object \n",
      " 7   state         558837 non-null  object \n",
      " 8   condition     547017 non-null  float64\n",
      " 9   odometer      558743 non-null  float64\n",
      " 10  color         558088 non-null  object \n",
      " 11  interior      558088 non-null  object \n",
      " 12  seller        558837 non-null  object \n",
      " 13  mmr           558799 non-null  float64\n",
      " 14  sellingprice  558825 non-null  float64\n",
      " 15  saledate      558825 non-null  object \n",
      "dtypes: float64(4), int64(1), object(11)\n",
      "memory usage: 68.2+ MB\n"
     ]
    }
   ],
   "source": [
    "vehicle_sales.info() # 68.2+ MB"
   ],
   "metadata": {
    "collapsed": false,
    "ExecuteTime": {
     "end_time": "2024-03-24T19:45:21.678213Z",
     "start_time": "2024-03-24T19:45:21.533504Z"
    }
   },
   "id": "196c71bae1e5d872",
   "execution_count": 10
  },
  {
   "cell_type": "code",
   "outputs": [
    {
     "data": {
      "text/plain": "year              int64\nmake             object\nmodel            object\ntrim             object\nbody             object\ntransmission     object\nvin              object\nstate            object\ncondition       float64\nodometer        float64\ncolor            object\ninterior         object\nseller           object\nmmr             float64\nsellingprice    float64\nsaledate         object\ndtype: object"
     },
     "execution_count": 11,
     "metadata": {},
     "output_type": "execute_result"
    }
   ],
   "source": [
    "vehicle_sales.dtypes"
   ],
   "metadata": {
    "collapsed": false,
    "ExecuteTime": {
     "end_time": "2024-03-24T19:45:21.684899Z",
     "start_time": "2024-03-24T19:45:21.680222Z"
    }
   },
   "id": "f205b25e725c3335",
   "execution_count": 11
  },
  {
   "cell_type": "markdown",
   "source": [
    "# Upper is data cleaning handling to reduce memory usage and data types"
   ],
   "metadata": {
    "collapsed": false
   },
   "id": "af031379a5a22001"
  },
  {
   "cell_type": "code",
   "outputs": [
    {
     "data": {
      "text/plain": "        year    make                model         trim       body  \\\n0       2015     Kia              Sorento           LX        SUV   \n1       2015     Kia              Sorento           LX        SUV   \n2       2014     BMW             3 Series   328i SULEV      Sedan   \n3       2015   Volvo                  S60           T5      Sedan   \n4       2014     BMW  6 Series Gran Coupe         650i      Sedan   \n...      ...     ...                  ...          ...        ...   \n558832  2015     Kia                 K900       Luxury      Sedan   \n558833  2012     Ram                 2500  Power Wagon   Crew Cab   \n558834  2012     BMW                   X5    xDrive35d        SUV   \n558835  2015  Nissan               Altima        2.5 S      sedan   \n558836  2014    Ford                F-150          XLT  SuperCrew   \n\n       transmission                vin state  condition  odometer   color  \\\n0         automatic  5xyktca69fg566472    ca        5.0   16639.0   white   \n1         automatic  5xyktca69fg561319    ca        5.0    9393.0   white   \n2         automatic  wba3c1c51ek116351    ca       45.0    1331.0    gray   \n3         automatic  yv1612tb4f1310987    ca       41.0   14282.0   white   \n4         automatic  wba6b2c57ed129731    ca       43.0    2641.0    gray   \n...             ...                ...   ...        ...       ...     ...   \n558832          NaN  knalw4d4xf6019304    in       45.0   18255.0  silver   \n558833    automatic  3c6td5et6cg112407    wa        5.0   54393.0   white   \n558834    automatic  5uxzw0c58cl668465    ca       48.0   50561.0   black   \n558835    automatic  1n4al3ap0fc216050    ga       38.0   16658.0   white   \n558836    automatic  1ftfw1et2eke87277    ca       34.0   15008.0    gray   \n\n       interior                                             seller      mmr  \\\n0         black                            kia motors america  inc  20500.0   \n1         beige                            kia motors america  inc  20800.0   \n2         black             financial services remarketing (lease)  31900.0   \n3         black                            volvo na rep/world omni  27500.0   \n4         black             financial services remarketing (lease)  66000.0   \n...         ...                                                ...      ...   \n558832    black                                   avis corporation  35300.0   \n558833    black                                    i -5 uhlmann rv  30200.0   \n558834    black             financial services remarketing (lease)  29800.0   \n558835    black  enterprise vehicle exchange / tra / rental / t...  15100.0   \n558836     gray                   ford motor credit company llc pd  29600.0   \n\n        sellingprice                                 saledate  \n0            21500.0  Tue Dec 16 2014 12:30:00 GMT-0800 (PST)  \n1            21500.0  Tue Dec 16 2014 12:30:00 GMT-0800 (PST)  \n2            30000.0  Thu Jan 15 2015 04:30:00 GMT-0800 (PST)  \n3            27750.0  Thu Jan 29 2015 04:30:00 GMT-0800 (PST)  \n4            67000.0  Thu Dec 18 2014 12:30:00 GMT-0800 (PST)  \n...              ...                                      ...  \n558832       33000.0  Thu Jul 09 2015 07:00:00 GMT-0700 (PDT)  \n558833       30800.0  Wed Jul 08 2015 09:30:00 GMT-0700 (PDT)  \n558834       34000.0  Wed Jul 08 2015 09:30:00 GMT-0700 (PDT)  \n558835       11100.0  Thu Jul 09 2015 06:45:00 GMT-0700 (PDT)  \n558836       26700.0  Thu May 28 2015 05:30:00 GMT-0700 (PDT)  \n\n[558837 rows x 16 columns]",
      "text/html": "<div>\n<style scoped>\n    .dataframe tbody tr th:only-of-type {\n        vertical-align: middle;\n    }\n\n    .dataframe tbody tr th {\n        vertical-align: top;\n    }\n\n    .dataframe thead th {\n        text-align: right;\n    }\n</style>\n<table border=\"1\" class=\"dataframe\">\n  <thead>\n    <tr style=\"text-align: right;\">\n      <th></th>\n      <th>year</th>\n      <th>make</th>\n      <th>model</th>\n      <th>trim</th>\n      <th>body</th>\n      <th>transmission</th>\n      <th>vin</th>\n      <th>state</th>\n      <th>condition</th>\n      <th>odometer</th>\n      <th>color</th>\n      <th>interior</th>\n      <th>seller</th>\n      <th>mmr</th>\n      <th>sellingprice</th>\n      <th>saledate</th>\n    </tr>\n  </thead>\n  <tbody>\n    <tr>\n      <th>0</th>\n      <td>2015</td>\n      <td>Kia</td>\n      <td>Sorento</td>\n      <td>LX</td>\n      <td>SUV</td>\n      <td>automatic</td>\n      <td>5xyktca69fg566472</td>\n      <td>ca</td>\n      <td>5.0</td>\n      <td>16639.0</td>\n      <td>white</td>\n      <td>black</td>\n      <td>kia motors america  inc</td>\n      <td>20500.0</td>\n      <td>21500.0</td>\n      <td>Tue Dec 16 2014 12:30:00 GMT-0800 (PST)</td>\n    </tr>\n    <tr>\n      <th>1</th>\n      <td>2015</td>\n      <td>Kia</td>\n      <td>Sorento</td>\n      <td>LX</td>\n      <td>SUV</td>\n      <td>automatic</td>\n      <td>5xyktca69fg561319</td>\n      <td>ca</td>\n      <td>5.0</td>\n      <td>9393.0</td>\n      <td>white</td>\n      <td>beige</td>\n      <td>kia motors america  inc</td>\n      <td>20800.0</td>\n      <td>21500.0</td>\n      <td>Tue Dec 16 2014 12:30:00 GMT-0800 (PST)</td>\n    </tr>\n    <tr>\n      <th>2</th>\n      <td>2014</td>\n      <td>BMW</td>\n      <td>3 Series</td>\n      <td>328i SULEV</td>\n      <td>Sedan</td>\n      <td>automatic</td>\n      <td>wba3c1c51ek116351</td>\n      <td>ca</td>\n      <td>45.0</td>\n      <td>1331.0</td>\n      <td>gray</td>\n      <td>black</td>\n      <td>financial services remarketing (lease)</td>\n      <td>31900.0</td>\n      <td>30000.0</td>\n      <td>Thu Jan 15 2015 04:30:00 GMT-0800 (PST)</td>\n    </tr>\n    <tr>\n      <th>3</th>\n      <td>2015</td>\n      <td>Volvo</td>\n      <td>S60</td>\n      <td>T5</td>\n      <td>Sedan</td>\n      <td>automatic</td>\n      <td>yv1612tb4f1310987</td>\n      <td>ca</td>\n      <td>41.0</td>\n      <td>14282.0</td>\n      <td>white</td>\n      <td>black</td>\n      <td>volvo na rep/world omni</td>\n      <td>27500.0</td>\n      <td>27750.0</td>\n      <td>Thu Jan 29 2015 04:30:00 GMT-0800 (PST)</td>\n    </tr>\n    <tr>\n      <th>4</th>\n      <td>2014</td>\n      <td>BMW</td>\n      <td>6 Series Gran Coupe</td>\n      <td>650i</td>\n      <td>Sedan</td>\n      <td>automatic</td>\n      <td>wba6b2c57ed129731</td>\n      <td>ca</td>\n      <td>43.0</td>\n      <td>2641.0</td>\n      <td>gray</td>\n      <td>black</td>\n      <td>financial services remarketing (lease)</td>\n      <td>66000.0</td>\n      <td>67000.0</td>\n      <td>Thu Dec 18 2014 12:30:00 GMT-0800 (PST)</td>\n    </tr>\n    <tr>\n      <th>...</th>\n      <td>...</td>\n      <td>...</td>\n      <td>...</td>\n      <td>...</td>\n      <td>...</td>\n      <td>...</td>\n      <td>...</td>\n      <td>...</td>\n      <td>...</td>\n      <td>...</td>\n      <td>...</td>\n      <td>...</td>\n      <td>...</td>\n      <td>...</td>\n      <td>...</td>\n      <td>...</td>\n    </tr>\n    <tr>\n      <th>558832</th>\n      <td>2015</td>\n      <td>Kia</td>\n      <td>K900</td>\n      <td>Luxury</td>\n      <td>Sedan</td>\n      <td>NaN</td>\n      <td>knalw4d4xf6019304</td>\n      <td>in</td>\n      <td>45.0</td>\n      <td>18255.0</td>\n      <td>silver</td>\n      <td>black</td>\n      <td>avis corporation</td>\n      <td>35300.0</td>\n      <td>33000.0</td>\n      <td>Thu Jul 09 2015 07:00:00 GMT-0700 (PDT)</td>\n    </tr>\n    <tr>\n      <th>558833</th>\n      <td>2012</td>\n      <td>Ram</td>\n      <td>2500</td>\n      <td>Power Wagon</td>\n      <td>Crew Cab</td>\n      <td>automatic</td>\n      <td>3c6td5et6cg112407</td>\n      <td>wa</td>\n      <td>5.0</td>\n      <td>54393.0</td>\n      <td>white</td>\n      <td>black</td>\n      <td>i -5 uhlmann rv</td>\n      <td>30200.0</td>\n      <td>30800.0</td>\n      <td>Wed Jul 08 2015 09:30:00 GMT-0700 (PDT)</td>\n    </tr>\n    <tr>\n      <th>558834</th>\n      <td>2012</td>\n      <td>BMW</td>\n      <td>X5</td>\n      <td>xDrive35d</td>\n      <td>SUV</td>\n      <td>automatic</td>\n      <td>5uxzw0c58cl668465</td>\n      <td>ca</td>\n      <td>48.0</td>\n      <td>50561.0</td>\n      <td>black</td>\n      <td>black</td>\n      <td>financial services remarketing (lease)</td>\n      <td>29800.0</td>\n      <td>34000.0</td>\n      <td>Wed Jul 08 2015 09:30:00 GMT-0700 (PDT)</td>\n    </tr>\n    <tr>\n      <th>558835</th>\n      <td>2015</td>\n      <td>Nissan</td>\n      <td>Altima</td>\n      <td>2.5 S</td>\n      <td>sedan</td>\n      <td>automatic</td>\n      <td>1n4al3ap0fc216050</td>\n      <td>ga</td>\n      <td>38.0</td>\n      <td>16658.0</td>\n      <td>white</td>\n      <td>black</td>\n      <td>enterprise vehicle exchange / tra / rental / t...</td>\n      <td>15100.0</td>\n      <td>11100.0</td>\n      <td>Thu Jul 09 2015 06:45:00 GMT-0700 (PDT)</td>\n    </tr>\n    <tr>\n      <th>558836</th>\n      <td>2014</td>\n      <td>Ford</td>\n      <td>F-150</td>\n      <td>XLT</td>\n      <td>SuperCrew</td>\n      <td>automatic</td>\n      <td>1ftfw1et2eke87277</td>\n      <td>ca</td>\n      <td>34.0</td>\n      <td>15008.0</td>\n      <td>gray</td>\n      <td>gray</td>\n      <td>ford motor credit company llc pd</td>\n      <td>29600.0</td>\n      <td>26700.0</td>\n      <td>Thu May 28 2015 05:30:00 GMT-0700 (PDT)</td>\n    </tr>\n  </tbody>\n</table>\n<p>558837 rows × 16 columns</p>\n</div>"
     },
     "execution_count": 12,
     "metadata": {},
     "output_type": "execute_result"
    }
   ],
   "source": [
    "vehicle_sales"
   ],
   "metadata": {
    "collapsed": false,
    "ExecuteTime": {
     "end_time": "2024-03-24T19:45:21.698795Z",
     "start_time": "2024-03-24T19:45:21.684899Z"
    }
   },
   "id": "a01641be1fb5b32c",
   "execution_count": 12
  },
  {
   "cell_type": "code",
   "outputs": [
    {
     "data": {
      "text/plain": "                             sum  count\nmake  trim        year                 \nAcura 2.2         1997    1725.0      2\n      2.2 Premium 1997    3350.0      7\n      2.3         1999    3800.0      4\n      2.3 Premium 1998    1900.0      1\n      2.5         1998    4550.0      4\n...                          ...    ...\nvw    se          2013   19400.0      1\n                  2014  103600.0      5\n      se w/nav    2013   20600.0      1\n      se w/rse    2013   40200.0      2\n      sel prm     2014   49600.0      2\n\n[7986 rows x 2 columns]",
      "text/html": "<div>\n<style scoped>\n    .dataframe tbody tr th:only-of-type {\n        vertical-align: middle;\n    }\n\n    .dataframe tbody tr th {\n        vertical-align: top;\n    }\n\n    .dataframe thead th {\n        text-align: right;\n    }\n</style>\n<table border=\"1\" class=\"dataframe\">\n  <thead>\n    <tr style=\"text-align: right;\">\n      <th></th>\n      <th></th>\n      <th></th>\n      <th>sum</th>\n      <th>count</th>\n    </tr>\n    <tr>\n      <th>make</th>\n      <th>trim</th>\n      <th>year</th>\n      <th></th>\n      <th></th>\n    </tr>\n  </thead>\n  <tbody>\n    <tr>\n      <th rowspan=\"5\" valign=\"top\">Acura</th>\n      <th>2.2</th>\n      <th>1997</th>\n      <td>1725.0</td>\n      <td>2</td>\n    </tr>\n    <tr>\n      <th>2.2 Premium</th>\n      <th>1997</th>\n      <td>3350.0</td>\n      <td>7</td>\n    </tr>\n    <tr>\n      <th>2.3</th>\n      <th>1999</th>\n      <td>3800.0</td>\n      <td>4</td>\n    </tr>\n    <tr>\n      <th>2.3 Premium</th>\n      <th>1998</th>\n      <td>1900.0</td>\n      <td>1</td>\n    </tr>\n    <tr>\n      <th>2.5</th>\n      <th>1998</th>\n      <td>4550.0</td>\n      <td>4</td>\n    </tr>\n    <tr>\n      <th>...</th>\n      <th>...</th>\n      <th>...</th>\n      <td>...</td>\n      <td>...</td>\n    </tr>\n    <tr>\n      <th rowspan=\"5\" valign=\"top\">vw</th>\n      <th rowspan=\"2\" valign=\"top\">se</th>\n      <th>2013</th>\n      <td>19400.0</td>\n      <td>1</td>\n    </tr>\n    <tr>\n      <th>2014</th>\n      <td>103600.0</td>\n      <td>5</td>\n    </tr>\n    <tr>\n      <th>se w/nav</th>\n      <th>2013</th>\n      <td>20600.0</td>\n      <td>1</td>\n    </tr>\n    <tr>\n      <th>se w/rse</th>\n      <th>2013</th>\n      <td>40200.0</td>\n      <td>2</td>\n    </tr>\n    <tr>\n      <th>sel prm</th>\n      <th>2014</th>\n      <td>49600.0</td>\n      <td>2</td>\n    </tr>\n  </tbody>\n</table>\n<p>7986 rows × 2 columns</p>\n</div>"
     },
     "execution_count": 13,
     "metadata": {},
     "output_type": "execute_result"
    }
   ],
   "source": [
    "vehicle_sales.groupby(['make', 'trim', 'year'], observed=True)['sellingprice'].agg(\n",
    "  ['sum', 'count']\n",
    ")"
   ],
   "metadata": {
    "collapsed": false,
    "ExecuteTime": {
     "end_time": "2024-03-24T19:45:21.803232Z",
     "start_time": "2024-03-24T19:45:21.698795Z"
    }
   },
   "id": "b4d0fb8d7e0886dc",
   "execution_count": 13
  },
  {
   "cell_type": "code",
   "outputs": [
    {
     "data": {
      "text/plain": "make        Acura  Aston Martin         Audi          BMW    Bentley  \\\nyear                                                                   \n1984          NaN           NaN          NaN          NaN        NaN   \n1985          NaN           NaN          NaN          NaN        NaN   \n1986          NaN           NaN          NaN          NaN        NaN   \n1987          NaN           NaN          NaN          NaN        NaN   \n1989          NaN           NaN          NaN          NaN        NaN   \n1990          NaN           NaN          NaN          NaN        NaN   \n1991          NaN           NaN          NaN       6750.0        NaN   \n1992          NaN           NaN          NaN        450.0        NaN   \n1993       1150.0           NaN          NaN          NaN        NaN   \n1994       7050.0           NaN          NaN      14875.0        NaN   \n1995       3925.0           NaN          NaN      16050.0        NaN   \n1996      10600.0           NaN        300.0      23725.0        NaN   \n1997      30075.0           NaN       3150.0     110950.0        NaN   \n1998      33950.0           NaN      16500.0     122725.0        NaN   \n1999      89975.0           NaN      24200.0     202450.0        NaN   \n2000     124350.0           NaN      53225.0     523725.0        NaN   \n2001     295450.0           NaN     238075.0     981550.0        NaN   \n2002     495475.0           NaN     284650.0    1450300.0        NaN   \n2003     984050.0           NaN     607050.0    2125150.0        NaN   \n2004    1748100.0           NaN    1059675.0    4055125.0   101700.0   \n2005    2189600.0           NaN    1466675.0    4570250.0   849900.0   \n2006    2986300.0      132000.0    2062950.0   12201450.0  1174000.0   \n2007    4342200.0      653800.0    4453900.0   16067645.0  1624450.0   \n2008    4145000.0      273000.0    5845300.0   22568809.0   876350.0   \n2009    3386250.0      114000.0    6790825.0   14403900.0   329500.0   \n2010    4208650.0           NaN    6164950.0   11797050.0   197000.0   \n2011    5824850.0      197500.0    9893650.0   59856550.0   340500.0   \n2012   38498350.0           NaN   33549450.0  131153300.0  1331000.0   \n2013    6789150.0           NaN   21947650.0   60745350.0  1494250.0   \n2014    5835900.0           NaN   18699250.0   73003809.0   308000.0   \n2015     685500.0           NaN    3722250.0   28252700.0        NaN   \nTotal  82715900.0     1370300.0  116883675.0  444254638.0  8626650.0   \n\nmake        Buick     Cadillac    Chevrolet     Chrysler  Daewoo  ...  \\\nyear                                                              ...   \n1984          NaN          NaN          NaN          NaN     NaN  ...   \n1985          NaN          NaN          NaN          NaN     NaN  ...   \n1986          NaN          NaN          NaN          NaN     NaN  ...   \n1987          NaN          NaN          NaN          NaN     NaN  ...   \n1989          NaN          NaN          NaN          NaN     NaN  ...   \n1990          NaN        325.0      40400.0          NaN     NaN  ...   \n1991        500.0       2250.0      11200.0          NaN     NaN  ...   \n1992       4750.0       2250.0      17075.0          NaN     NaN  ...   \n1993        825.0       6650.0      13100.0          NaN     NaN  ...   \n1994       5200.0       7850.0      26600.0       1150.0     NaN  ...   \n1995      24450.0      16225.0      63775.0       2000.0     NaN  ...   \n1996       7700.0      13600.0      62250.0       4800.0     NaN  ...   \n1997      42150.0      41075.0      70350.0       4325.0     NaN  ...   \n1998      44575.0      40800.0     148000.0       7925.0     NaN  ...   \n1999      71000.0      81400.0     448075.0      45350.0     NaN  ...   \n2000     141675.0     170300.0     819275.0      63800.0     NaN  ...   \n2001     116875.0     133950.0    1719775.0     225300.0  1200.0  ...   \n2002     356175.0     470995.0    3338700.0     168250.0     NaN  ...   \n2003     367325.0    1025760.0    4770075.0     268425.0     NaN  ...   \n2004     542925.0    1540775.0    8006300.0     655425.0     NaN  ...   \n2005    1104350.0    2710345.0   12715450.0    3122725.0     NaN  ...   \n2006    1386175.0    3747600.0   14030434.0    5161525.0     NaN  ...   \n2007    1528310.0   11573950.0   32513100.0    6152630.0     NaN  ...   \n2008    4179950.0    9093120.0   34792200.0    7629820.0     NaN  ...   \n2009    2241050.0    6453775.0   28560430.0    3378410.0     NaN  ...   \n2010    3842800.0    7769490.0   40166071.0    6150065.0     NaN  ...   \n2011    6808128.0   17314399.0   68791486.0    6475900.0     NaN  ...   \n2012   10268401.0   22471705.0   96361360.0   18128432.0     NaN  ...   \n2013    8434811.0   15598209.0  156170058.0   40298015.0     NaN  ...   \n2014   10337300.0   10556223.0  171767385.0   86635744.0     NaN  ...   \n2015    2898650.0    3604850.0   45580475.0    8323050.0     NaN  ...   \nTotal  54756050.0  114447871.0  721003399.0  192903066.0  1200.0  ...   \n\nmake   plymouth  pontiac   porsche      smart    subaru   suzuki    toyota  \\\nyear                                                                         \n1984        NaN      NaN       NaN        NaN       NaN      NaN       NaN   \n1985        NaN      NaN       NaN        NaN       NaN      NaN       NaN   \n1986        NaN      NaN       NaN        NaN       NaN      NaN       NaN   \n1987        NaN      NaN       NaN        NaN       NaN      NaN       NaN   \n1989        NaN      NaN       NaN        NaN       NaN      NaN    1075.0   \n1990        NaN      NaN       NaN        NaN       NaN      NaN       NaN   \n1991        NaN      NaN       NaN        NaN       NaN      NaN    1725.0   \n1992        NaN      NaN       NaN        NaN       NaN      NaN       NaN   \n1993        NaN      NaN       NaN        NaN       NaN      NaN       NaN   \n1994        NaN      NaN       NaN        NaN       NaN      NaN     300.0   \n1995        NaN      NaN       NaN        NaN       NaN      NaN     500.0   \n1996        NaN      NaN       NaN        NaN    1900.0      NaN       NaN   \n1997      800.0   2000.0       NaN        NaN       NaN      NaN       NaN   \n1998     1525.0   2100.0       NaN        NaN    2750.0      NaN    4650.0   \n1999      700.0    700.0   29050.0        NaN    1750.0      NaN    8850.0   \n2000     1900.0    850.0       NaN        NaN    3225.0      NaN   38625.0   \n2001        NaN      NaN       NaN        NaN       NaN      NaN       NaN   \n2002        NaN      NaN       NaN        NaN       NaN      NaN    2500.0   \n2003        NaN      NaN   47250.0        NaN   45800.0      NaN    1400.0   \n2004        NaN      NaN   63750.0        NaN   38800.0      NaN       NaN   \n2005        NaN   2400.0       NaN     2000.0   33500.0      NaN       NaN   \n2006        NaN    400.0  246650.0        NaN   42100.0      NaN       NaN   \n2007        NaN  17700.0       NaN        NaN   52800.0   1800.0  557190.0   \n2008        NaN   7900.0   96500.0   182250.0       NaN   4550.0       NaN   \n2009        NaN  26850.0  104550.0   179400.0       NaN      NaN       NaN   \n2010        NaN  26400.0       NaN    44400.0       NaN      NaN       NaN   \n2011        NaN      NaN       NaN    78600.0       NaN      NaN   80400.0   \n2012        NaN      NaN       NaN   961000.0       NaN  17700.0       NaN   \n2013        NaN      NaN       NaN   822250.0       NaN      NaN       NaN   \n2014        NaN      NaN       NaN   172400.0       NaN      NaN       NaN   \n2015        NaN      NaN       NaN    27500.0       NaN      NaN       NaN   \nTotal    4925.0  87300.0  587750.0  2469800.0  222625.0  24050.0  697215.0   \n\nmake   volkswagen        vw         Total  \nyear                                       \n1984          NaN       NaN  3.100000e+03  \n1985          NaN       NaN  7.750000e+03  \n1986          NaN       NaN  1.000000e+04  \n1987          NaN       NaN  3.000000e+02  \n1989          NaN       NaN  1.177500e+04  \n1990          NaN       NaN  6.530000e+04  \n1991          NaN       NaN  6.012500e+04  \n1992          NaN       NaN  1.158500e+05  \n1993          NaN       NaN  1.313000e+05  \n1994          NaN       NaN  2.991250e+05  \n1995          NaN       NaN  5.694510e+05  \n1996          NaN       NaN  6.856250e+05  \n1997          NaN       NaN  1.461200e+06  \n1998          NaN       NaN  2.373135e+06  \n1999          NaN    1500.0  4.507570e+06  \n2000          NaN    3000.0  7.932464e+06  \n2001          NaN       NaN  1.370720e+07  \n2002          NaN    2150.0  2.516363e+07  \n2003      18900.0    1900.0  4.298442e+07  \n2004          NaN       NaN  7.044808e+07  \n2005      34100.0       NaN  9.886272e+07  \n2006       2600.0       NaN  1.540788e+08  \n2007       3800.0       NaN  2.350724e+08  \n2008          NaN       NaN  2.960864e+08  \n2009       8600.0       NaN  2.135190e+08  \n2010       6000.0       NaN  3.235963e+08  \n2011       6900.0   56800.0  7.655271e+08  \n2012          NaN       NaN  1.683337e+09  \n2013      21400.0   80200.0  1.714441e+09  \n2014      45200.0  182600.0  1.618341e+09  \n2015          NaN       NaN  2.406120e+08  \nTotal    147500.0  328150.0  7.514011e+09  \n\n[32 rows x 97 columns]",
      "text/html": "<div>\n<style scoped>\n    .dataframe tbody tr th:only-of-type {\n        vertical-align: middle;\n    }\n\n    .dataframe tbody tr th {\n        vertical-align: top;\n    }\n\n    .dataframe thead th {\n        text-align: right;\n    }\n</style>\n<table border=\"1\" class=\"dataframe\">\n  <thead>\n    <tr style=\"text-align: right;\">\n      <th>make</th>\n      <th>Acura</th>\n      <th>Aston Martin</th>\n      <th>Audi</th>\n      <th>BMW</th>\n      <th>Bentley</th>\n      <th>Buick</th>\n      <th>Cadillac</th>\n      <th>Chevrolet</th>\n      <th>Chrysler</th>\n      <th>Daewoo</th>\n      <th>...</th>\n      <th>plymouth</th>\n      <th>pontiac</th>\n      <th>porsche</th>\n      <th>smart</th>\n      <th>subaru</th>\n      <th>suzuki</th>\n      <th>toyota</th>\n      <th>volkswagen</th>\n      <th>vw</th>\n      <th>Total</th>\n    </tr>\n    <tr>\n      <th>year</th>\n      <th></th>\n      <th></th>\n      <th></th>\n      <th></th>\n      <th></th>\n      <th></th>\n      <th></th>\n      <th></th>\n      <th></th>\n      <th></th>\n      <th></th>\n      <th></th>\n      <th></th>\n      <th></th>\n      <th></th>\n      <th></th>\n      <th></th>\n      <th></th>\n      <th></th>\n      <th></th>\n      <th></th>\n    </tr>\n  </thead>\n  <tbody>\n    <tr>\n      <th>1984</th>\n      <td>NaN</td>\n      <td>NaN</td>\n      <td>NaN</td>\n      <td>NaN</td>\n      <td>NaN</td>\n      <td>NaN</td>\n      <td>NaN</td>\n      <td>NaN</td>\n      <td>NaN</td>\n      <td>NaN</td>\n      <td>...</td>\n      <td>NaN</td>\n      <td>NaN</td>\n      <td>NaN</td>\n      <td>NaN</td>\n      <td>NaN</td>\n      <td>NaN</td>\n      <td>NaN</td>\n      <td>NaN</td>\n      <td>NaN</td>\n      <td>3.100000e+03</td>\n    </tr>\n    <tr>\n      <th>1985</th>\n      <td>NaN</td>\n      <td>NaN</td>\n      <td>NaN</td>\n      <td>NaN</td>\n      <td>NaN</td>\n      <td>NaN</td>\n      <td>NaN</td>\n      <td>NaN</td>\n      <td>NaN</td>\n      <td>NaN</td>\n      <td>...</td>\n      <td>NaN</td>\n      <td>NaN</td>\n      <td>NaN</td>\n      <td>NaN</td>\n      <td>NaN</td>\n      <td>NaN</td>\n      <td>NaN</td>\n      <td>NaN</td>\n      <td>NaN</td>\n      <td>7.750000e+03</td>\n    </tr>\n    <tr>\n      <th>1986</th>\n      <td>NaN</td>\n      <td>NaN</td>\n      <td>NaN</td>\n      <td>NaN</td>\n      <td>NaN</td>\n      <td>NaN</td>\n      <td>NaN</td>\n      <td>NaN</td>\n      <td>NaN</td>\n      <td>NaN</td>\n      <td>...</td>\n      <td>NaN</td>\n      <td>NaN</td>\n      <td>NaN</td>\n      <td>NaN</td>\n      <td>NaN</td>\n      <td>NaN</td>\n      <td>NaN</td>\n      <td>NaN</td>\n      <td>NaN</td>\n      <td>1.000000e+04</td>\n    </tr>\n    <tr>\n      <th>1987</th>\n      <td>NaN</td>\n      <td>NaN</td>\n      <td>NaN</td>\n      <td>NaN</td>\n      <td>NaN</td>\n      <td>NaN</td>\n      <td>NaN</td>\n      <td>NaN</td>\n      <td>NaN</td>\n      <td>NaN</td>\n      <td>...</td>\n      <td>NaN</td>\n      <td>NaN</td>\n      <td>NaN</td>\n      <td>NaN</td>\n      <td>NaN</td>\n      <td>NaN</td>\n      <td>NaN</td>\n      <td>NaN</td>\n      <td>NaN</td>\n      <td>3.000000e+02</td>\n    </tr>\n    <tr>\n      <th>1989</th>\n      <td>NaN</td>\n      <td>NaN</td>\n      <td>NaN</td>\n      <td>NaN</td>\n      <td>NaN</td>\n      <td>NaN</td>\n      <td>NaN</td>\n      <td>NaN</td>\n      <td>NaN</td>\n      <td>NaN</td>\n      <td>...</td>\n      <td>NaN</td>\n      <td>NaN</td>\n      <td>NaN</td>\n      <td>NaN</td>\n      <td>NaN</td>\n      <td>NaN</td>\n      <td>1075.0</td>\n      <td>NaN</td>\n      <td>NaN</td>\n      <td>1.177500e+04</td>\n    </tr>\n    <tr>\n      <th>1990</th>\n      <td>NaN</td>\n      <td>NaN</td>\n      <td>NaN</td>\n      <td>NaN</td>\n      <td>NaN</td>\n      <td>NaN</td>\n      <td>325.0</td>\n      <td>40400.0</td>\n      <td>NaN</td>\n      <td>NaN</td>\n      <td>...</td>\n      <td>NaN</td>\n      <td>NaN</td>\n      <td>NaN</td>\n      <td>NaN</td>\n      <td>NaN</td>\n      <td>NaN</td>\n      <td>NaN</td>\n      <td>NaN</td>\n      <td>NaN</td>\n      <td>6.530000e+04</td>\n    </tr>\n    <tr>\n      <th>1991</th>\n      <td>NaN</td>\n      <td>NaN</td>\n      <td>NaN</td>\n      <td>6750.0</td>\n      <td>NaN</td>\n      <td>500.0</td>\n      <td>2250.0</td>\n      <td>11200.0</td>\n      <td>NaN</td>\n      <td>NaN</td>\n      <td>...</td>\n      <td>NaN</td>\n      <td>NaN</td>\n      <td>NaN</td>\n      <td>NaN</td>\n      <td>NaN</td>\n      <td>NaN</td>\n      <td>1725.0</td>\n      <td>NaN</td>\n      <td>NaN</td>\n      <td>6.012500e+04</td>\n    </tr>\n    <tr>\n      <th>1992</th>\n      <td>NaN</td>\n      <td>NaN</td>\n      <td>NaN</td>\n      <td>450.0</td>\n      <td>NaN</td>\n      <td>4750.0</td>\n      <td>2250.0</td>\n      <td>17075.0</td>\n      <td>NaN</td>\n      <td>NaN</td>\n      <td>...</td>\n      <td>NaN</td>\n      <td>NaN</td>\n      <td>NaN</td>\n      <td>NaN</td>\n      <td>NaN</td>\n      <td>NaN</td>\n      <td>NaN</td>\n      <td>NaN</td>\n      <td>NaN</td>\n      <td>1.158500e+05</td>\n    </tr>\n    <tr>\n      <th>1993</th>\n      <td>1150.0</td>\n      <td>NaN</td>\n      <td>NaN</td>\n      <td>NaN</td>\n      <td>NaN</td>\n      <td>825.0</td>\n      <td>6650.0</td>\n      <td>13100.0</td>\n      <td>NaN</td>\n      <td>NaN</td>\n      <td>...</td>\n      <td>NaN</td>\n      <td>NaN</td>\n      <td>NaN</td>\n      <td>NaN</td>\n      <td>NaN</td>\n      <td>NaN</td>\n      <td>NaN</td>\n      <td>NaN</td>\n      <td>NaN</td>\n      <td>1.313000e+05</td>\n    </tr>\n    <tr>\n      <th>1994</th>\n      <td>7050.0</td>\n      <td>NaN</td>\n      <td>NaN</td>\n      <td>14875.0</td>\n      <td>NaN</td>\n      <td>5200.0</td>\n      <td>7850.0</td>\n      <td>26600.0</td>\n      <td>1150.0</td>\n      <td>NaN</td>\n      <td>...</td>\n      <td>NaN</td>\n      <td>NaN</td>\n      <td>NaN</td>\n      <td>NaN</td>\n      <td>NaN</td>\n      <td>NaN</td>\n      <td>300.0</td>\n      <td>NaN</td>\n      <td>NaN</td>\n      <td>2.991250e+05</td>\n    </tr>\n    <tr>\n      <th>1995</th>\n      <td>3925.0</td>\n      <td>NaN</td>\n      <td>NaN</td>\n      <td>16050.0</td>\n      <td>NaN</td>\n      <td>24450.0</td>\n      <td>16225.0</td>\n      <td>63775.0</td>\n      <td>2000.0</td>\n      <td>NaN</td>\n      <td>...</td>\n      <td>NaN</td>\n      <td>NaN</td>\n      <td>NaN</td>\n      <td>NaN</td>\n      <td>NaN</td>\n      <td>NaN</td>\n      <td>500.0</td>\n      <td>NaN</td>\n      <td>NaN</td>\n      <td>5.694510e+05</td>\n    </tr>\n    <tr>\n      <th>1996</th>\n      <td>10600.0</td>\n      <td>NaN</td>\n      <td>300.0</td>\n      <td>23725.0</td>\n      <td>NaN</td>\n      <td>7700.0</td>\n      <td>13600.0</td>\n      <td>62250.0</td>\n      <td>4800.0</td>\n      <td>NaN</td>\n      <td>...</td>\n      <td>NaN</td>\n      <td>NaN</td>\n      <td>NaN</td>\n      <td>NaN</td>\n      <td>1900.0</td>\n      <td>NaN</td>\n      <td>NaN</td>\n      <td>NaN</td>\n      <td>NaN</td>\n      <td>6.856250e+05</td>\n    </tr>\n    <tr>\n      <th>1997</th>\n      <td>30075.0</td>\n      <td>NaN</td>\n      <td>3150.0</td>\n      <td>110950.0</td>\n      <td>NaN</td>\n      <td>42150.0</td>\n      <td>41075.0</td>\n      <td>70350.0</td>\n      <td>4325.0</td>\n      <td>NaN</td>\n      <td>...</td>\n      <td>800.0</td>\n      <td>2000.0</td>\n      <td>NaN</td>\n      <td>NaN</td>\n      <td>NaN</td>\n      <td>NaN</td>\n      <td>NaN</td>\n      <td>NaN</td>\n      <td>NaN</td>\n      <td>1.461200e+06</td>\n    </tr>\n    <tr>\n      <th>1998</th>\n      <td>33950.0</td>\n      <td>NaN</td>\n      <td>16500.0</td>\n      <td>122725.0</td>\n      <td>NaN</td>\n      <td>44575.0</td>\n      <td>40800.0</td>\n      <td>148000.0</td>\n      <td>7925.0</td>\n      <td>NaN</td>\n      <td>...</td>\n      <td>1525.0</td>\n      <td>2100.0</td>\n      <td>NaN</td>\n      <td>NaN</td>\n      <td>2750.0</td>\n      <td>NaN</td>\n      <td>4650.0</td>\n      <td>NaN</td>\n      <td>NaN</td>\n      <td>2.373135e+06</td>\n    </tr>\n    <tr>\n      <th>1999</th>\n      <td>89975.0</td>\n      <td>NaN</td>\n      <td>24200.0</td>\n      <td>202450.0</td>\n      <td>NaN</td>\n      <td>71000.0</td>\n      <td>81400.0</td>\n      <td>448075.0</td>\n      <td>45350.0</td>\n      <td>NaN</td>\n      <td>...</td>\n      <td>700.0</td>\n      <td>700.0</td>\n      <td>29050.0</td>\n      <td>NaN</td>\n      <td>1750.0</td>\n      <td>NaN</td>\n      <td>8850.0</td>\n      <td>NaN</td>\n      <td>1500.0</td>\n      <td>4.507570e+06</td>\n    </tr>\n    <tr>\n      <th>2000</th>\n      <td>124350.0</td>\n      <td>NaN</td>\n      <td>53225.0</td>\n      <td>523725.0</td>\n      <td>NaN</td>\n      <td>141675.0</td>\n      <td>170300.0</td>\n      <td>819275.0</td>\n      <td>63800.0</td>\n      <td>NaN</td>\n      <td>...</td>\n      <td>1900.0</td>\n      <td>850.0</td>\n      <td>NaN</td>\n      <td>NaN</td>\n      <td>3225.0</td>\n      <td>NaN</td>\n      <td>38625.0</td>\n      <td>NaN</td>\n      <td>3000.0</td>\n      <td>7.932464e+06</td>\n    </tr>\n    <tr>\n      <th>2001</th>\n      <td>295450.0</td>\n      <td>NaN</td>\n      <td>238075.0</td>\n      <td>981550.0</td>\n      <td>NaN</td>\n      <td>116875.0</td>\n      <td>133950.0</td>\n      <td>1719775.0</td>\n      <td>225300.0</td>\n      <td>1200.0</td>\n      <td>...</td>\n      <td>NaN</td>\n      <td>NaN</td>\n      <td>NaN</td>\n      <td>NaN</td>\n      <td>NaN</td>\n      <td>NaN</td>\n      <td>NaN</td>\n      <td>NaN</td>\n      <td>NaN</td>\n      <td>1.370720e+07</td>\n    </tr>\n    <tr>\n      <th>2002</th>\n      <td>495475.0</td>\n      <td>NaN</td>\n      <td>284650.0</td>\n      <td>1450300.0</td>\n      <td>NaN</td>\n      <td>356175.0</td>\n      <td>470995.0</td>\n      <td>3338700.0</td>\n      <td>168250.0</td>\n      <td>NaN</td>\n      <td>...</td>\n      <td>NaN</td>\n      <td>NaN</td>\n      <td>NaN</td>\n      <td>NaN</td>\n      <td>NaN</td>\n      <td>NaN</td>\n      <td>2500.0</td>\n      <td>NaN</td>\n      <td>2150.0</td>\n      <td>2.516363e+07</td>\n    </tr>\n    <tr>\n      <th>2003</th>\n      <td>984050.0</td>\n      <td>NaN</td>\n      <td>607050.0</td>\n      <td>2125150.0</td>\n      <td>NaN</td>\n      <td>367325.0</td>\n      <td>1025760.0</td>\n      <td>4770075.0</td>\n      <td>268425.0</td>\n      <td>NaN</td>\n      <td>...</td>\n      <td>NaN</td>\n      <td>NaN</td>\n      <td>47250.0</td>\n      <td>NaN</td>\n      <td>45800.0</td>\n      <td>NaN</td>\n      <td>1400.0</td>\n      <td>18900.0</td>\n      <td>1900.0</td>\n      <td>4.298442e+07</td>\n    </tr>\n    <tr>\n      <th>2004</th>\n      <td>1748100.0</td>\n      <td>NaN</td>\n      <td>1059675.0</td>\n      <td>4055125.0</td>\n      <td>101700.0</td>\n      <td>542925.0</td>\n      <td>1540775.0</td>\n      <td>8006300.0</td>\n      <td>655425.0</td>\n      <td>NaN</td>\n      <td>...</td>\n      <td>NaN</td>\n      <td>NaN</td>\n      <td>63750.0</td>\n      <td>NaN</td>\n      <td>38800.0</td>\n      <td>NaN</td>\n      <td>NaN</td>\n      <td>NaN</td>\n      <td>NaN</td>\n      <td>7.044808e+07</td>\n    </tr>\n    <tr>\n      <th>2005</th>\n      <td>2189600.0</td>\n      <td>NaN</td>\n      <td>1466675.0</td>\n      <td>4570250.0</td>\n      <td>849900.0</td>\n      <td>1104350.0</td>\n      <td>2710345.0</td>\n      <td>12715450.0</td>\n      <td>3122725.0</td>\n      <td>NaN</td>\n      <td>...</td>\n      <td>NaN</td>\n      <td>2400.0</td>\n      <td>NaN</td>\n      <td>2000.0</td>\n      <td>33500.0</td>\n      <td>NaN</td>\n      <td>NaN</td>\n      <td>34100.0</td>\n      <td>NaN</td>\n      <td>9.886272e+07</td>\n    </tr>\n    <tr>\n      <th>2006</th>\n      <td>2986300.0</td>\n      <td>132000.0</td>\n      <td>2062950.0</td>\n      <td>12201450.0</td>\n      <td>1174000.0</td>\n      <td>1386175.0</td>\n      <td>3747600.0</td>\n      <td>14030434.0</td>\n      <td>5161525.0</td>\n      <td>NaN</td>\n      <td>...</td>\n      <td>NaN</td>\n      <td>400.0</td>\n      <td>246650.0</td>\n      <td>NaN</td>\n      <td>42100.0</td>\n      <td>NaN</td>\n      <td>NaN</td>\n      <td>2600.0</td>\n      <td>NaN</td>\n      <td>1.540788e+08</td>\n    </tr>\n    <tr>\n      <th>2007</th>\n      <td>4342200.0</td>\n      <td>653800.0</td>\n      <td>4453900.0</td>\n      <td>16067645.0</td>\n      <td>1624450.0</td>\n      <td>1528310.0</td>\n      <td>11573950.0</td>\n      <td>32513100.0</td>\n      <td>6152630.0</td>\n      <td>NaN</td>\n      <td>...</td>\n      <td>NaN</td>\n      <td>17700.0</td>\n      <td>NaN</td>\n      <td>NaN</td>\n      <td>52800.0</td>\n      <td>1800.0</td>\n      <td>557190.0</td>\n      <td>3800.0</td>\n      <td>NaN</td>\n      <td>2.350724e+08</td>\n    </tr>\n    <tr>\n      <th>2008</th>\n      <td>4145000.0</td>\n      <td>273000.0</td>\n      <td>5845300.0</td>\n      <td>22568809.0</td>\n      <td>876350.0</td>\n      <td>4179950.0</td>\n      <td>9093120.0</td>\n      <td>34792200.0</td>\n      <td>7629820.0</td>\n      <td>NaN</td>\n      <td>...</td>\n      <td>NaN</td>\n      <td>7900.0</td>\n      <td>96500.0</td>\n      <td>182250.0</td>\n      <td>NaN</td>\n      <td>4550.0</td>\n      <td>NaN</td>\n      <td>NaN</td>\n      <td>NaN</td>\n      <td>2.960864e+08</td>\n    </tr>\n    <tr>\n      <th>2009</th>\n      <td>3386250.0</td>\n      <td>114000.0</td>\n      <td>6790825.0</td>\n      <td>14403900.0</td>\n      <td>329500.0</td>\n      <td>2241050.0</td>\n      <td>6453775.0</td>\n      <td>28560430.0</td>\n      <td>3378410.0</td>\n      <td>NaN</td>\n      <td>...</td>\n      <td>NaN</td>\n      <td>26850.0</td>\n      <td>104550.0</td>\n      <td>179400.0</td>\n      <td>NaN</td>\n      <td>NaN</td>\n      <td>NaN</td>\n      <td>8600.0</td>\n      <td>NaN</td>\n      <td>2.135190e+08</td>\n    </tr>\n    <tr>\n      <th>2010</th>\n      <td>4208650.0</td>\n      <td>NaN</td>\n      <td>6164950.0</td>\n      <td>11797050.0</td>\n      <td>197000.0</td>\n      <td>3842800.0</td>\n      <td>7769490.0</td>\n      <td>40166071.0</td>\n      <td>6150065.0</td>\n      <td>NaN</td>\n      <td>...</td>\n      <td>NaN</td>\n      <td>26400.0</td>\n      <td>NaN</td>\n      <td>44400.0</td>\n      <td>NaN</td>\n      <td>NaN</td>\n      <td>NaN</td>\n      <td>6000.0</td>\n      <td>NaN</td>\n      <td>3.235963e+08</td>\n    </tr>\n    <tr>\n      <th>2011</th>\n      <td>5824850.0</td>\n      <td>197500.0</td>\n      <td>9893650.0</td>\n      <td>59856550.0</td>\n      <td>340500.0</td>\n      <td>6808128.0</td>\n      <td>17314399.0</td>\n      <td>68791486.0</td>\n      <td>6475900.0</td>\n      <td>NaN</td>\n      <td>...</td>\n      <td>NaN</td>\n      <td>NaN</td>\n      <td>NaN</td>\n      <td>78600.0</td>\n      <td>NaN</td>\n      <td>NaN</td>\n      <td>80400.0</td>\n      <td>6900.0</td>\n      <td>56800.0</td>\n      <td>7.655271e+08</td>\n    </tr>\n    <tr>\n      <th>2012</th>\n      <td>38498350.0</td>\n      <td>NaN</td>\n      <td>33549450.0</td>\n      <td>131153300.0</td>\n      <td>1331000.0</td>\n      <td>10268401.0</td>\n      <td>22471705.0</td>\n      <td>96361360.0</td>\n      <td>18128432.0</td>\n      <td>NaN</td>\n      <td>...</td>\n      <td>NaN</td>\n      <td>NaN</td>\n      <td>NaN</td>\n      <td>961000.0</td>\n      <td>NaN</td>\n      <td>17700.0</td>\n      <td>NaN</td>\n      <td>NaN</td>\n      <td>NaN</td>\n      <td>1.683337e+09</td>\n    </tr>\n    <tr>\n      <th>2013</th>\n      <td>6789150.0</td>\n      <td>NaN</td>\n      <td>21947650.0</td>\n      <td>60745350.0</td>\n      <td>1494250.0</td>\n      <td>8434811.0</td>\n      <td>15598209.0</td>\n      <td>156170058.0</td>\n      <td>40298015.0</td>\n      <td>NaN</td>\n      <td>...</td>\n      <td>NaN</td>\n      <td>NaN</td>\n      <td>NaN</td>\n      <td>822250.0</td>\n      <td>NaN</td>\n      <td>NaN</td>\n      <td>NaN</td>\n      <td>21400.0</td>\n      <td>80200.0</td>\n      <td>1.714441e+09</td>\n    </tr>\n    <tr>\n      <th>2014</th>\n      <td>5835900.0</td>\n      <td>NaN</td>\n      <td>18699250.0</td>\n      <td>73003809.0</td>\n      <td>308000.0</td>\n      <td>10337300.0</td>\n      <td>10556223.0</td>\n      <td>171767385.0</td>\n      <td>86635744.0</td>\n      <td>NaN</td>\n      <td>...</td>\n      <td>NaN</td>\n      <td>NaN</td>\n      <td>NaN</td>\n      <td>172400.0</td>\n      <td>NaN</td>\n      <td>NaN</td>\n      <td>NaN</td>\n      <td>45200.0</td>\n      <td>182600.0</td>\n      <td>1.618341e+09</td>\n    </tr>\n    <tr>\n      <th>2015</th>\n      <td>685500.0</td>\n      <td>NaN</td>\n      <td>3722250.0</td>\n      <td>28252700.0</td>\n      <td>NaN</td>\n      <td>2898650.0</td>\n      <td>3604850.0</td>\n      <td>45580475.0</td>\n      <td>8323050.0</td>\n      <td>NaN</td>\n      <td>...</td>\n      <td>NaN</td>\n      <td>NaN</td>\n      <td>NaN</td>\n      <td>27500.0</td>\n      <td>NaN</td>\n      <td>NaN</td>\n      <td>NaN</td>\n      <td>NaN</td>\n      <td>NaN</td>\n      <td>2.406120e+08</td>\n    </tr>\n    <tr>\n      <th>Total</th>\n      <td>82715900.0</td>\n      <td>1370300.0</td>\n      <td>116883675.0</td>\n      <td>444254638.0</td>\n      <td>8626650.0</td>\n      <td>54756050.0</td>\n      <td>114447871.0</td>\n      <td>721003399.0</td>\n      <td>192903066.0</td>\n      <td>1200.0</td>\n      <td>...</td>\n      <td>4925.0</td>\n      <td>87300.0</td>\n      <td>587750.0</td>\n      <td>2469800.0</td>\n      <td>222625.0</td>\n      <td>24050.0</td>\n      <td>697215.0</td>\n      <td>147500.0</td>\n      <td>328150.0</td>\n      <td>7.514011e+09</td>\n    </tr>\n  </tbody>\n</table>\n<p>32 rows × 97 columns</p>\n</div>"
     },
     "execution_count": 14,
     "metadata": {},
     "output_type": "execute_result"
    }
   ],
   "source": [
    "# Filter out rows where 'make' is 'unknown'\n",
    "filtered_vehicle_sales = vehicle_sales[vehicle_sales['make'] != 'unknown']\n",
    "\n",
    "# Create the pivot table on the filtered data\n",
    "pivot_table = filtered_vehicle_sales.pivot_table(columns='make', index='year', values='sellingprice',\n",
    "                                                 aggfunc='sum', observed=True, margins=True, margins_name='Total').dropna(how='all')\n",
    "pivot_table"
   ],
   "metadata": {
    "collapsed": false,
    "ExecuteTime": {
     "end_time": "2024-03-24T19:45:22.043475Z",
     "start_time": "2024-03-24T19:45:21.803232Z"
    }
   },
   "id": "98e1228fcfde2f",
   "execution_count": 14
  },
  {
   "cell_type": "code",
   "outputs": [],
   "source": [
    "vehicle_sales_sell_price_quartiles = pd.qcut(vehicle_sales['sellingprice'], q=4, labels=['Q1', 'Q2', 'Q3', 'Q4'])\n",
    "vehicle_sales.insert(15, 'Sell price quartiles', vehicle_sales_sell_price_quartiles)"
   ],
   "metadata": {
    "collapsed": false,
    "ExecuteTime": {
     "end_time": "2024-03-24T19:49:17.742149Z",
     "start_time": "2024-03-24T19:49:17.717258Z"
    }
   },
   "id": "1a5438dc5cb0b514",
   "execution_count": 22
  },
  {
   "cell_type": "code",
   "outputs": [
    {
     "data": {
      "text/plain": "        year    make                model         trim       body  \\\n0       2015     Kia              Sorento           lx        SUV   \n1       2015     Kia              Sorento           lx        SUV   \n2       2014     BMW             3 Series   328i sulev      Sedan   \n3       2015   Volvo                  S60           t5      Sedan   \n4       2014     BMW  6 Series Gran Coupe         650i      Sedan   \n...      ...     ...                  ...          ...        ...   \n558832  2015     Kia                 K900       luxury      Sedan   \n558833  2012     Ram                 2500  power wagon   Crew Cab   \n558834  2012     BMW                   X5    xdrive35d        SUV   \n558835  2015  Nissan               Altima        2.5 s      sedan   \n558836  2014    Ford                F-150          xlt  SuperCrew   \n\n       transmission                vin state  condition  odometer   color  \\\n0         automatic  5xyktca69fg566472    ca        5.0   16639.0   white   \n1         automatic  5xyktca69fg561319    ca        5.0    9393.0   white   \n2         automatic  wba3c1c51ek116351    ca       45.0    1331.0    gray   \n3         automatic  yv1612tb4f1310987    ca       41.0   14282.0   white   \n4         automatic  wba6b2c57ed129731    ca       43.0    2641.0    gray   \n...             ...                ...   ...        ...       ...     ...   \n558832      unknown  knalw4d4xf6019304    in       45.0   18255.0  silver   \n558833    automatic  3c6td5et6cg112407    wa        5.0   54393.0   white   \n558834    automatic  5uxzw0c58cl668465    ca       48.0   50561.0   black   \n558835    automatic  1n4al3ap0fc216050    ga       38.0   16658.0   white   \n558836    automatic  1ftfw1et2eke87277    ca       34.0   15008.0    gray   \n\n       interior                                             seller      mmr  \\\n0         black                            kia motors america  inc  20500.0   \n1         beige                            kia motors america  inc  20800.0   \n2         black             financial services remarketing (lease)  31900.0   \n3         black                            volvo na rep/world omni  27500.0   \n4         black             financial services remarketing (lease)  66000.0   \n...         ...                                                ...      ...   \n558832    black                                   avis corporation  35300.0   \n558833    black                                    i -5 uhlmann rv  30200.0   \n558834    black             financial services remarketing (lease)  29800.0   \n558835    black  enterprise vehicle exchange / tra / rental / t...  15100.0   \n558836     gray                   ford motor credit company llc pd  29600.0   \n\n        sellingprice Sell price quartiles  \\\n0            21500.0                   Q4   \n1            21500.0                   Q4   \n2            30000.0                   Q4   \n3            27750.0                   Q4   \n4            67000.0                   Q4   \n...              ...                  ...   \n558832       33000.0                   Q4   \n558833       30800.0                   Q4   \n558834       34000.0                   Q4   \n558835       11100.0                   Q2   \n558836       26700.0                   Q4   \n\n                                       saledate  \n0       Tue Dec 16 2014 12:30:00 GMT-0800 (PST)  \n1       Tue Dec 16 2014 12:30:00 GMT-0800 (PST)  \n2       Thu Jan 15 2015 04:30:00 GMT-0800 (PST)  \n3       Thu Jan 29 2015 04:30:00 GMT-0800 (PST)  \n4       Thu Dec 18 2014 12:30:00 GMT-0800 (PST)  \n...                                         ...  \n558832  Thu Jul 09 2015 07:00:00 GMT-0700 (PDT)  \n558833  Wed Jul 08 2015 09:30:00 GMT-0700 (PDT)  \n558834  Wed Jul 08 2015 09:30:00 GMT-0700 (PDT)  \n558835  Thu Jul 09 2015 06:45:00 GMT-0700 (PDT)  \n558836  Thu May 28 2015 05:30:00 GMT-0700 (PDT)  \n\n[558837 rows x 17 columns]",
      "text/html": "<div>\n<style scoped>\n    .dataframe tbody tr th:only-of-type {\n        vertical-align: middle;\n    }\n\n    .dataframe tbody tr th {\n        vertical-align: top;\n    }\n\n    .dataframe thead th {\n        text-align: right;\n    }\n</style>\n<table border=\"1\" class=\"dataframe\">\n  <thead>\n    <tr style=\"text-align: right;\">\n      <th></th>\n      <th>year</th>\n      <th>make</th>\n      <th>model</th>\n      <th>trim</th>\n      <th>body</th>\n      <th>transmission</th>\n      <th>vin</th>\n      <th>state</th>\n      <th>condition</th>\n      <th>odometer</th>\n      <th>color</th>\n      <th>interior</th>\n      <th>seller</th>\n      <th>mmr</th>\n      <th>sellingprice</th>\n      <th>Sell price quartiles</th>\n      <th>saledate</th>\n    </tr>\n  </thead>\n  <tbody>\n    <tr>\n      <th>0</th>\n      <td>2015</td>\n      <td>Kia</td>\n      <td>Sorento</td>\n      <td>lx</td>\n      <td>SUV</td>\n      <td>automatic</td>\n      <td>5xyktca69fg566472</td>\n      <td>ca</td>\n      <td>5.0</td>\n      <td>16639.0</td>\n      <td>white</td>\n      <td>black</td>\n      <td>kia motors america  inc</td>\n      <td>20500.0</td>\n      <td>21500.0</td>\n      <td>Q4</td>\n      <td>Tue Dec 16 2014 12:30:00 GMT-0800 (PST)</td>\n    </tr>\n    <tr>\n      <th>1</th>\n      <td>2015</td>\n      <td>Kia</td>\n      <td>Sorento</td>\n      <td>lx</td>\n      <td>SUV</td>\n      <td>automatic</td>\n      <td>5xyktca69fg561319</td>\n      <td>ca</td>\n      <td>5.0</td>\n      <td>9393.0</td>\n      <td>white</td>\n      <td>beige</td>\n      <td>kia motors america  inc</td>\n      <td>20800.0</td>\n      <td>21500.0</td>\n      <td>Q4</td>\n      <td>Tue Dec 16 2014 12:30:00 GMT-0800 (PST)</td>\n    </tr>\n    <tr>\n      <th>2</th>\n      <td>2014</td>\n      <td>BMW</td>\n      <td>3 Series</td>\n      <td>328i sulev</td>\n      <td>Sedan</td>\n      <td>automatic</td>\n      <td>wba3c1c51ek116351</td>\n      <td>ca</td>\n      <td>45.0</td>\n      <td>1331.0</td>\n      <td>gray</td>\n      <td>black</td>\n      <td>financial services remarketing (lease)</td>\n      <td>31900.0</td>\n      <td>30000.0</td>\n      <td>Q4</td>\n      <td>Thu Jan 15 2015 04:30:00 GMT-0800 (PST)</td>\n    </tr>\n    <tr>\n      <th>3</th>\n      <td>2015</td>\n      <td>Volvo</td>\n      <td>S60</td>\n      <td>t5</td>\n      <td>Sedan</td>\n      <td>automatic</td>\n      <td>yv1612tb4f1310987</td>\n      <td>ca</td>\n      <td>41.0</td>\n      <td>14282.0</td>\n      <td>white</td>\n      <td>black</td>\n      <td>volvo na rep/world omni</td>\n      <td>27500.0</td>\n      <td>27750.0</td>\n      <td>Q4</td>\n      <td>Thu Jan 29 2015 04:30:00 GMT-0800 (PST)</td>\n    </tr>\n    <tr>\n      <th>4</th>\n      <td>2014</td>\n      <td>BMW</td>\n      <td>6 Series Gran Coupe</td>\n      <td>650i</td>\n      <td>Sedan</td>\n      <td>automatic</td>\n      <td>wba6b2c57ed129731</td>\n      <td>ca</td>\n      <td>43.0</td>\n      <td>2641.0</td>\n      <td>gray</td>\n      <td>black</td>\n      <td>financial services remarketing (lease)</td>\n      <td>66000.0</td>\n      <td>67000.0</td>\n      <td>Q4</td>\n      <td>Thu Dec 18 2014 12:30:00 GMT-0800 (PST)</td>\n    </tr>\n    <tr>\n      <th>...</th>\n      <td>...</td>\n      <td>...</td>\n      <td>...</td>\n      <td>...</td>\n      <td>...</td>\n      <td>...</td>\n      <td>...</td>\n      <td>...</td>\n      <td>...</td>\n      <td>...</td>\n      <td>...</td>\n      <td>...</td>\n      <td>...</td>\n      <td>...</td>\n      <td>...</td>\n      <td>...</td>\n      <td>...</td>\n    </tr>\n    <tr>\n      <th>558832</th>\n      <td>2015</td>\n      <td>Kia</td>\n      <td>K900</td>\n      <td>luxury</td>\n      <td>Sedan</td>\n      <td>unknown</td>\n      <td>knalw4d4xf6019304</td>\n      <td>in</td>\n      <td>45.0</td>\n      <td>18255.0</td>\n      <td>silver</td>\n      <td>black</td>\n      <td>avis corporation</td>\n      <td>35300.0</td>\n      <td>33000.0</td>\n      <td>Q4</td>\n      <td>Thu Jul 09 2015 07:00:00 GMT-0700 (PDT)</td>\n    </tr>\n    <tr>\n      <th>558833</th>\n      <td>2012</td>\n      <td>Ram</td>\n      <td>2500</td>\n      <td>power wagon</td>\n      <td>Crew Cab</td>\n      <td>automatic</td>\n      <td>3c6td5et6cg112407</td>\n      <td>wa</td>\n      <td>5.0</td>\n      <td>54393.0</td>\n      <td>white</td>\n      <td>black</td>\n      <td>i -5 uhlmann rv</td>\n      <td>30200.0</td>\n      <td>30800.0</td>\n      <td>Q4</td>\n      <td>Wed Jul 08 2015 09:30:00 GMT-0700 (PDT)</td>\n    </tr>\n    <tr>\n      <th>558834</th>\n      <td>2012</td>\n      <td>BMW</td>\n      <td>X5</td>\n      <td>xdrive35d</td>\n      <td>SUV</td>\n      <td>automatic</td>\n      <td>5uxzw0c58cl668465</td>\n      <td>ca</td>\n      <td>48.0</td>\n      <td>50561.0</td>\n      <td>black</td>\n      <td>black</td>\n      <td>financial services remarketing (lease)</td>\n      <td>29800.0</td>\n      <td>34000.0</td>\n      <td>Q4</td>\n      <td>Wed Jul 08 2015 09:30:00 GMT-0700 (PDT)</td>\n    </tr>\n    <tr>\n      <th>558835</th>\n      <td>2015</td>\n      <td>Nissan</td>\n      <td>Altima</td>\n      <td>2.5 s</td>\n      <td>sedan</td>\n      <td>automatic</td>\n      <td>1n4al3ap0fc216050</td>\n      <td>ga</td>\n      <td>38.0</td>\n      <td>16658.0</td>\n      <td>white</td>\n      <td>black</td>\n      <td>enterprise vehicle exchange / tra / rental / t...</td>\n      <td>15100.0</td>\n      <td>11100.0</td>\n      <td>Q2</td>\n      <td>Thu Jul 09 2015 06:45:00 GMT-0700 (PDT)</td>\n    </tr>\n    <tr>\n      <th>558836</th>\n      <td>2014</td>\n      <td>Ford</td>\n      <td>F-150</td>\n      <td>xlt</td>\n      <td>SuperCrew</td>\n      <td>automatic</td>\n      <td>1ftfw1et2eke87277</td>\n      <td>ca</td>\n      <td>34.0</td>\n      <td>15008.0</td>\n      <td>gray</td>\n      <td>gray</td>\n      <td>ford motor credit company llc pd</td>\n      <td>29600.0</td>\n      <td>26700.0</td>\n      <td>Q4</td>\n      <td>Thu May 28 2015 05:30:00 GMT-0700 (PDT)</td>\n    </tr>\n  </tbody>\n</table>\n<p>558837 rows × 17 columns</p>\n</div>"
     },
     "execution_count": 31,
     "metadata": {},
     "output_type": "execute_result"
    }
   ],
   "source": [
    "highest_quartile_vehicles = vehicle_sales[vehicle_sales['Sell price quartiles'] == 'Q4']\n",
    "vehicle_sales"
   ],
   "metadata": {
    "collapsed": false,
    "ExecuteTime": {
     "end_time": "2024-03-24T19:54:36.120327Z",
     "start_time": "2024-03-24T19:54:36.086683Z"
    }
   },
   "id": "997aed7c1c73d59d",
   "execution_count": 31
  },
  {
   "cell_type": "code",
   "outputs": [
    {
     "data": {
      "text/plain": "344905"
     },
     "execution_count": 36,
     "metadata": {},
     "output_type": "execute_result"
    }
   ],
   "source": [
    "vehicle_sales['sellingprice'].idxmax()"
   ],
   "metadata": {
    "collapsed": false,
    "ExecuteTime": {
     "end_time": "2024-03-24T19:57:55.824753Z",
     "start_time": "2024-03-24T19:57:55.820034Z"
    }
   },
   "id": "66639629b3d472d3",
   "execution_count": 36
  },
  {
   "cell_type": "code",
   "outputs": [
    {
     "data": {
      "text/plain": "body          Access Cab  Beetle Convertible  CTS Coupe  CTS Wagon  \\\nmake                                                                 \nAcura                  0                   0          0          0   \nAston Martin           0                   0          0          0   \nAudi                   0                   0          0          0   \nBMW                    0                   0          0          0   \nBentley                0                   0          0          0   \n...                  ...                 ...        ...        ...   \ntoyota                 0                   0          0          0   \nunknown                0                   0          0          0   \nvolkswagen             0                   0          0          0   \nvw                     0                   0          0          0   \nTotal                232                  52        129         13   \n\nbody          CTS-V Coupe  CTS-V Wagon  Cab Plus  Cab Plus 4  Club Cab  \\\nmake                                                                     \nAcura                   0            0         0           0         0   \nAston Martin            0            0         0           0         0   \nAudi                    0            0         0           0         0   \nBMW                     0            0         0           0         0   \nBentley                 0            0         0           0         0   \n...                   ...          ...       ...         ...       ...   \ntoyota                  0            0         0           0         0   \nunknown                 0            0         0           0         0   \nvolkswagen              0            0         0           0         0   \nvw                      0            0         0           0         0   \nTotal                  28            1         4           5       156   \n\nbody          Convertible  ...  supercab  supercrew    suv  transit van  \\\nmake                       ...                                            \nAcura                   0  ...         0          0    384            0   \nAston Martin            9  ...         0          0      0            0   \nAudi                  338  ...         0          0    279            0   \nBMW                  1767  ...         0          0    885            0   \nBentley                25  ...         0          0      0            0   \n...                   ...  ...       ...        ...    ...          ...   \ntoyota                  0  ...         0          0      0            0   \nunknown                 0  ...         0          0      0            0   \nvolkswagen              0  ...         0          0      0            0   \nvw                      0  ...         0          0      0            0   \nTotal                8652  ...       862       1610  24552            7   \n\nbody          tsx sport wagon  unknown  van  wagon  xtracab   Total  \nmake                                                                 \nAcura                       8        0    0      0        0    5901  \nAston Martin                0        0    0      0        0      25  \nAudi                        0        0    0     74        0    5869  \nBMW                         0        0    0     27        0   20719  \nBentley                     0        0    0      0        0     116  \n...                       ...      ...  ...    ...      ...     ...  \ntoyota                      0       95    0      0        0      95  \nunknown                     0    10301    0      0        0   10301  \nvolkswagen                  0       24    0      0        0      24  \nvw                          0       24    0      0        0      24  \nTotal                       8    13195  570   2499        4  558837  \n\n[98 rows x 89 columns]",
      "text/html": "<div>\n<style scoped>\n    .dataframe tbody tr th:only-of-type {\n        vertical-align: middle;\n    }\n\n    .dataframe tbody tr th {\n        vertical-align: top;\n    }\n\n    .dataframe thead th {\n        text-align: right;\n    }\n</style>\n<table border=\"1\" class=\"dataframe\">\n  <thead>\n    <tr style=\"text-align: right;\">\n      <th>body</th>\n      <th>Access Cab</th>\n      <th>Beetle Convertible</th>\n      <th>CTS Coupe</th>\n      <th>CTS Wagon</th>\n      <th>CTS-V Coupe</th>\n      <th>CTS-V Wagon</th>\n      <th>Cab Plus</th>\n      <th>Cab Plus 4</th>\n      <th>Club Cab</th>\n      <th>Convertible</th>\n      <th>...</th>\n      <th>supercab</th>\n      <th>supercrew</th>\n      <th>suv</th>\n      <th>transit van</th>\n      <th>tsx sport wagon</th>\n      <th>unknown</th>\n      <th>van</th>\n      <th>wagon</th>\n      <th>xtracab</th>\n      <th>Total</th>\n    </tr>\n    <tr>\n      <th>make</th>\n      <th></th>\n      <th></th>\n      <th></th>\n      <th></th>\n      <th></th>\n      <th></th>\n      <th></th>\n      <th></th>\n      <th></th>\n      <th></th>\n      <th></th>\n      <th></th>\n      <th></th>\n      <th></th>\n      <th></th>\n      <th></th>\n      <th></th>\n      <th></th>\n      <th></th>\n      <th></th>\n      <th></th>\n    </tr>\n  </thead>\n  <tbody>\n    <tr>\n      <th>Acura</th>\n      <td>0</td>\n      <td>0</td>\n      <td>0</td>\n      <td>0</td>\n      <td>0</td>\n      <td>0</td>\n      <td>0</td>\n      <td>0</td>\n      <td>0</td>\n      <td>0</td>\n      <td>...</td>\n      <td>0</td>\n      <td>0</td>\n      <td>384</td>\n      <td>0</td>\n      <td>8</td>\n      <td>0</td>\n      <td>0</td>\n      <td>0</td>\n      <td>0</td>\n      <td>5901</td>\n    </tr>\n    <tr>\n      <th>Aston Martin</th>\n      <td>0</td>\n      <td>0</td>\n      <td>0</td>\n      <td>0</td>\n      <td>0</td>\n      <td>0</td>\n      <td>0</td>\n      <td>0</td>\n      <td>0</td>\n      <td>9</td>\n      <td>...</td>\n      <td>0</td>\n      <td>0</td>\n      <td>0</td>\n      <td>0</td>\n      <td>0</td>\n      <td>0</td>\n      <td>0</td>\n      <td>0</td>\n      <td>0</td>\n      <td>25</td>\n    </tr>\n    <tr>\n      <th>Audi</th>\n      <td>0</td>\n      <td>0</td>\n      <td>0</td>\n      <td>0</td>\n      <td>0</td>\n      <td>0</td>\n      <td>0</td>\n      <td>0</td>\n      <td>0</td>\n      <td>338</td>\n      <td>...</td>\n      <td>0</td>\n      <td>0</td>\n      <td>279</td>\n      <td>0</td>\n      <td>0</td>\n      <td>0</td>\n      <td>0</td>\n      <td>74</td>\n      <td>0</td>\n      <td>5869</td>\n    </tr>\n    <tr>\n      <th>BMW</th>\n      <td>0</td>\n      <td>0</td>\n      <td>0</td>\n      <td>0</td>\n      <td>0</td>\n      <td>0</td>\n      <td>0</td>\n      <td>0</td>\n      <td>0</td>\n      <td>1767</td>\n      <td>...</td>\n      <td>0</td>\n      <td>0</td>\n      <td>885</td>\n      <td>0</td>\n      <td>0</td>\n      <td>0</td>\n      <td>0</td>\n      <td>27</td>\n      <td>0</td>\n      <td>20719</td>\n    </tr>\n    <tr>\n      <th>Bentley</th>\n      <td>0</td>\n      <td>0</td>\n      <td>0</td>\n      <td>0</td>\n      <td>0</td>\n      <td>0</td>\n      <td>0</td>\n      <td>0</td>\n      <td>0</td>\n      <td>25</td>\n      <td>...</td>\n      <td>0</td>\n      <td>0</td>\n      <td>0</td>\n      <td>0</td>\n      <td>0</td>\n      <td>0</td>\n      <td>0</td>\n      <td>0</td>\n      <td>0</td>\n      <td>116</td>\n    </tr>\n    <tr>\n      <th>...</th>\n      <td>...</td>\n      <td>...</td>\n      <td>...</td>\n      <td>...</td>\n      <td>...</td>\n      <td>...</td>\n      <td>...</td>\n      <td>...</td>\n      <td>...</td>\n      <td>...</td>\n      <td>...</td>\n      <td>...</td>\n      <td>...</td>\n      <td>...</td>\n      <td>...</td>\n      <td>...</td>\n      <td>...</td>\n      <td>...</td>\n      <td>...</td>\n      <td>...</td>\n      <td>...</td>\n    </tr>\n    <tr>\n      <th>toyota</th>\n      <td>0</td>\n      <td>0</td>\n      <td>0</td>\n      <td>0</td>\n      <td>0</td>\n      <td>0</td>\n      <td>0</td>\n      <td>0</td>\n      <td>0</td>\n      <td>0</td>\n      <td>...</td>\n      <td>0</td>\n      <td>0</td>\n      <td>0</td>\n      <td>0</td>\n      <td>0</td>\n      <td>95</td>\n      <td>0</td>\n      <td>0</td>\n      <td>0</td>\n      <td>95</td>\n    </tr>\n    <tr>\n      <th>unknown</th>\n      <td>0</td>\n      <td>0</td>\n      <td>0</td>\n      <td>0</td>\n      <td>0</td>\n      <td>0</td>\n      <td>0</td>\n      <td>0</td>\n      <td>0</td>\n      <td>0</td>\n      <td>...</td>\n      <td>0</td>\n      <td>0</td>\n      <td>0</td>\n      <td>0</td>\n      <td>0</td>\n      <td>10301</td>\n      <td>0</td>\n      <td>0</td>\n      <td>0</td>\n      <td>10301</td>\n    </tr>\n    <tr>\n      <th>volkswagen</th>\n      <td>0</td>\n      <td>0</td>\n      <td>0</td>\n      <td>0</td>\n      <td>0</td>\n      <td>0</td>\n      <td>0</td>\n      <td>0</td>\n      <td>0</td>\n      <td>0</td>\n      <td>...</td>\n      <td>0</td>\n      <td>0</td>\n      <td>0</td>\n      <td>0</td>\n      <td>0</td>\n      <td>24</td>\n      <td>0</td>\n      <td>0</td>\n      <td>0</td>\n      <td>24</td>\n    </tr>\n    <tr>\n      <th>vw</th>\n      <td>0</td>\n      <td>0</td>\n      <td>0</td>\n      <td>0</td>\n      <td>0</td>\n      <td>0</td>\n      <td>0</td>\n      <td>0</td>\n      <td>0</td>\n      <td>0</td>\n      <td>...</td>\n      <td>0</td>\n      <td>0</td>\n      <td>0</td>\n      <td>0</td>\n      <td>0</td>\n      <td>24</td>\n      <td>0</td>\n      <td>0</td>\n      <td>0</td>\n      <td>24</td>\n    </tr>\n    <tr>\n      <th>Total</th>\n      <td>232</td>\n      <td>52</td>\n      <td>129</td>\n      <td>13</td>\n      <td>28</td>\n      <td>1</td>\n      <td>4</td>\n      <td>5</td>\n      <td>156</td>\n      <td>8652</td>\n      <td>...</td>\n      <td>862</td>\n      <td>1610</td>\n      <td>24552</td>\n      <td>7</td>\n      <td>8</td>\n      <td>13195</td>\n      <td>570</td>\n      <td>2499</td>\n      <td>4</td>\n      <td>558837</td>\n    </tr>\n  </tbody>\n</table>\n<p>98 rows × 89 columns</p>\n</div>"
     },
     "execution_count": 40,
     "metadata": {},
     "output_type": "execute_result"
    }
   ],
   "source": [
    "cross_tab = pd.crosstab(vehicle_sales['make'], vehicle_sales['body'], margins=True, margins_name='Total')\n",
    "cross_tab"
   ],
   "metadata": {
    "collapsed": false,
    "ExecuteTime": {
     "end_time": "2024-03-24T20:04:36.261355Z",
     "start_time": "2024-03-24T20:04:36.134908Z"
    }
   },
   "id": "ae3e603c9e51667f",
   "execution_count": 40
  },
  {
   "cell_type": "code",
   "outputs": [
    {
     "data": {
      "text/plain": "0         20-30k\n1         20-30k\n2         20-30k\n3         20-30k\n4         60-70k\n           ...  \n558832    30-40k\n558833    30-40k\n558834    30-40k\n558835    10-20k\n558836    20-30k\nName: sellingprice, Length: 558837, dtype: category\nCategories (10, object): ['0-10k' < '10-20k' < '20-30k' < '30-40k' ... '60-70k' < '70-80k' < '80-90k' < '90-100k']"
     },
     "execution_count": 42,
     "metadata": {},
     "output_type": "execute_result"
    }
   ],
   "source": [
    "bins = [0, 10000, 20000, 30000, 40000, 50000, 60000, 70000, 80000, 90000, 100000]\n",
    "labels = ['0-10k', '10-20k', '20-30k', '30-40k', '40-50k', '50-60k', '60-70k', '70-80k', '80-90k', '90-100k']\n",
    "\n",
    "pd_cut_test = pd.cut(vehicle_sales['sellingprice'], bins=bins, labels=labels)\n",
    "pd_cut_test"
   ],
   "metadata": {
    "collapsed": false,
    "ExecuteTime": {
     "end_time": "2024-03-24T20:08:24.094312Z",
     "start_time": "2024-03-24T20:08:24.078149Z"
    }
   },
   "id": "7838eb79ca30f139",
   "execution_count": 42
  },
  {
   "cell_type": "code",
   "outputs": [
    {
     "data": {
      "text/plain": "0          21500.0\n1          43000.0\n2          73000.0\n3         100750.0\n4         146250.0\n            ...   \n558832     76600.0\n558833     97000.0\n558834    120600.0\n558835    108900.0\n558836    102600.0\nName: sellingprice, Length: 558837, dtype: float64"
     },
     "execution_count": 55,
     "metadata": {},
     "output_type": "execute_result"
    }
   ],
   "source": [
    "rolling_test = vehicle_sales['sellingprice'].rolling(window=4, min_periods=1).sum()\n",
    "rolling_test"
   ],
   "metadata": {
    "collapsed": false,
    "ExecuteTime": {
     "end_time": "2024-03-24T20:11:57.551283Z",
     "start_time": "2024-03-24T20:11:57.535936Z"
    }
   },
   "id": "d8816606e3449634",
   "execution_count": 55
  },
  {
   "cell_type": "code",
   "outputs": [
    {
     "data": {
      "text/plain": "              sellingprice  odometer       mmr\nsellingprice      1.000000 -0.582005  0.983589\nodometer         -0.582005  1.000000 -0.587603\nmmr               0.983589 -0.587603  1.000000",
      "text/html": "<div>\n<style scoped>\n    .dataframe tbody tr th:only-of-type {\n        vertical-align: middle;\n    }\n\n    .dataframe tbody tr th {\n        vertical-align: top;\n    }\n\n    .dataframe thead th {\n        text-align: right;\n    }\n</style>\n<table border=\"1\" class=\"dataframe\">\n  <thead>\n    <tr style=\"text-align: right;\">\n      <th></th>\n      <th>sellingprice</th>\n      <th>odometer</th>\n      <th>mmr</th>\n    </tr>\n  </thead>\n  <tbody>\n    <tr>\n      <th>sellingprice</th>\n      <td>1.000000</td>\n      <td>-0.582005</td>\n      <td>0.983589</td>\n    </tr>\n    <tr>\n      <th>odometer</th>\n      <td>-0.582005</td>\n      <td>1.000000</td>\n      <td>-0.587603</td>\n    </tr>\n    <tr>\n      <th>mmr</th>\n      <td>0.983589</td>\n      <td>-0.587603</td>\n      <td>1.000000</td>\n    </tr>\n  </tbody>\n</table>\n</div>"
     },
     "execution_count": 59,
     "metadata": {},
     "output_type": "execute_result"
    }
   ],
   "source": [
    "corr_testing = vehicle_sales[['sellingprice', 'odometer', 'mmr']].corr()\n",
    "corr_testing"
   ],
   "metadata": {
    "collapsed": false,
    "ExecuteTime": {
     "end_time": "2024-03-24T20:12:40.157496Z",
     "start_time": "2024-03-24T20:12:40.136683Z"
    }
   },
   "id": "934a3523bfcf8076",
   "execution_count": 59
  },
  {
   "cell_type": "code",
   "outputs": [
    {
     "data": {
      "text/plain": "        year    make                model         trim       body  \\\n0       2015     Kia              Sorento           lx        SUV   \n1       2015     Kia              Sorento           lx        SUV   \n2       2014     BMW             3 Series   328i sulev      Sedan   \n3       2015   Volvo                  S60           t5      Sedan   \n4       2014     BMW  6 Series Gran Coupe         650i      Sedan   \n...      ...     ...                  ...          ...        ...   \n558832  2015     Kia                 K900       luxury      Sedan   \n558833  2012     Ram                 2500  power wagon   Crew Cab   \n558834  2012     BMW                   X5    xdrive35d        SUV   \n558835  2015  Nissan               Altima        2.5 s      sedan   \n558836  2014    Ford                F-150          xlt  SuperCrew   \n\n       transmission                vin state  condition  odometer   color  \\\n0         automatic  5xyktca69fg566472    ca        5.0   16639.0   white   \n1         automatic  5xyktca69fg561319    ca        5.0    9393.0   white   \n2         automatic  wba3c1c51ek116351    ca       45.0    1331.0    gray   \n3         automatic  yv1612tb4f1310987    ca       41.0   14282.0   white   \n4         automatic  wba6b2c57ed129731    ca       43.0    2641.0    gray   \n...             ...                ...   ...        ...       ...     ...   \n558832      unknown  knalw4d4xf6019304    in       45.0   18255.0  silver   \n558833    automatic  3c6td5et6cg112407    wa        5.0   54393.0   white   \n558834    automatic  5uxzw0c58cl668465    ca       48.0   50561.0   black   \n558835    automatic  1n4al3ap0fc216050    ga       38.0   16658.0   white   \n558836    automatic  1ftfw1et2eke87277    ca       34.0   15008.0    gray   \n\n       interior                                             seller      mmr  \\\n0         black                            kia motors america  inc  20500.0   \n1         beige                            kia motors america  inc  20800.0   \n2         black             financial services remarketing (lease)  31900.0   \n3         black                            volvo na rep/world omni  27500.0   \n4         black             financial services remarketing (lease)  66000.0   \n...         ...                                                ...      ...   \n558832    black                                   avis corporation  35300.0   \n558833    black                                    i -5 uhlmann rv  30200.0   \n558834    black             financial services remarketing (lease)  29800.0   \n558835    black  enterprise vehicle exchange / tra / rental / t...  15100.0   \n558836     gray                   ford motor credit company llc pd  29600.0   \n\n        sellingprice Sell price quartiles  \\\n0            21500.0                   Q4   \n1            21500.0                   Q4   \n2            30000.0                   Q4   \n3            27750.0                   Q4   \n4            67000.0                   Q4   \n...              ...                  ...   \n558832       33000.0                   Q4   \n558833       30800.0                   Q4   \n558834       34000.0                   Q4   \n558835       11100.0                   Q2   \n558836       26700.0                   Q4   \n\n                                       saledate  \n0       Tue Dec 16 2014 12:30:00 GMT-0800 (PST)  \n1       Tue Dec 16 2014 12:30:00 GMT-0800 (PST)  \n2       Thu Jan 15 2015 04:30:00 GMT-0800 (PST)  \n3       Thu Jan 29 2015 04:30:00 GMT-0800 (PST)  \n4       Thu Dec 18 2014 12:30:00 GMT-0800 (PST)  \n...                                         ...  \n558832  Thu Jul 09 2015 07:00:00 GMT-0700 (PDT)  \n558833  Wed Jul 08 2015 09:30:00 GMT-0700 (PDT)  \n558834  Wed Jul 08 2015 09:30:00 GMT-0700 (PDT)  \n558835  Thu Jul 09 2015 06:45:00 GMT-0700 (PDT)  \n558836  Thu May 28 2015 05:30:00 GMT-0700 (PDT)  \n\n[558837 rows x 17 columns]",
      "text/html": "<div>\n<style scoped>\n    .dataframe tbody tr th:only-of-type {\n        vertical-align: middle;\n    }\n\n    .dataframe tbody tr th {\n        vertical-align: top;\n    }\n\n    .dataframe thead th {\n        text-align: right;\n    }\n</style>\n<table border=\"1\" class=\"dataframe\">\n  <thead>\n    <tr style=\"text-align: right;\">\n      <th></th>\n      <th>year</th>\n      <th>make</th>\n      <th>model</th>\n      <th>trim</th>\n      <th>body</th>\n      <th>transmission</th>\n      <th>vin</th>\n      <th>state</th>\n      <th>condition</th>\n      <th>odometer</th>\n      <th>color</th>\n      <th>interior</th>\n      <th>seller</th>\n      <th>mmr</th>\n      <th>sellingprice</th>\n      <th>Sell price quartiles</th>\n      <th>saledate</th>\n    </tr>\n  </thead>\n  <tbody>\n    <tr>\n      <th>0</th>\n      <td>2015</td>\n      <td>Kia</td>\n      <td>Sorento</td>\n      <td>lx</td>\n      <td>SUV</td>\n      <td>automatic</td>\n      <td>5xyktca69fg566472</td>\n      <td>ca</td>\n      <td>5.0</td>\n      <td>16639.0</td>\n      <td>white</td>\n      <td>black</td>\n      <td>kia motors america  inc</td>\n      <td>20500.0</td>\n      <td>21500.0</td>\n      <td>Q4</td>\n      <td>Tue Dec 16 2014 12:30:00 GMT-0800 (PST)</td>\n    </tr>\n    <tr>\n      <th>1</th>\n      <td>2015</td>\n      <td>Kia</td>\n      <td>Sorento</td>\n      <td>lx</td>\n      <td>SUV</td>\n      <td>automatic</td>\n      <td>5xyktca69fg561319</td>\n      <td>ca</td>\n      <td>5.0</td>\n      <td>9393.0</td>\n      <td>white</td>\n      <td>beige</td>\n      <td>kia motors america  inc</td>\n      <td>20800.0</td>\n      <td>21500.0</td>\n      <td>Q4</td>\n      <td>Tue Dec 16 2014 12:30:00 GMT-0800 (PST)</td>\n    </tr>\n    <tr>\n      <th>2</th>\n      <td>2014</td>\n      <td>BMW</td>\n      <td>3 Series</td>\n      <td>328i sulev</td>\n      <td>Sedan</td>\n      <td>automatic</td>\n      <td>wba3c1c51ek116351</td>\n      <td>ca</td>\n      <td>45.0</td>\n      <td>1331.0</td>\n      <td>gray</td>\n      <td>black</td>\n      <td>financial services remarketing (lease)</td>\n      <td>31900.0</td>\n      <td>30000.0</td>\n      <td>Q4</td>\n      <td>Thu Jan 15 2015 04:30:00 GMT-0800 (PST)</td>\n    </tr>\n    <tr>\n      <th>3</th>\n      <td>2015</td>\n      <td>Volvo</td>\n      <td>S60</td>\n      <td>t5</td>\n      <td>Sedan</td>\n      <td>automatic</td>\n      <td>yv1612tb4f1310987</td>\n      <td>ca</td>\n      <td>41.0</td>\n      <td>14282.0</td>\n      <td>white</td>\n      <td>black</td>\n      <td>volvo na rep/world omni</td>\n      <td>27500.0</td>\n      <td>27750.0</td>\n      <td>Q4</td>\n      <td>Thu Jan 29 2015 04:30:00 GMT-0800 (PST)</td>\n    </tr>\n    <tr>\n      <th>4</th>\n      <td>2014</td>\n      <td>BMW</td>\n      <td>6 Series Gran Coupe</td>\n      <td>650i</td>\n      <td>Sedan</td>\n      <td>automatic</td>\n      <td>wba6b2c57ed129731</td>\n      <td>ca</td>\n      <td>43.0</td>\n      <td>2641.0</td>\n      <td>gray</td>\n      <td>black</td>\n      <td>financial services remarketing (lease)</td>\n      <td>66000.0</td>\n      <td>67000.0</td>\n      <td>Q4</td>\n      <td>Thu Dec 18 2014 12:30:00 GMT-0800 (PST)</td>\n    </tr>\n    <tr>\n      <th>...</th>\n      <td>...</td>\n      <td>...</td>\n      <td>...</td>\n      <td>...</td>\n      <td>...</td>\n      <td>...</td>\n      <td>...</td>\n      <td>...</td>\n      <td>...</td>\n      <td>...</td>\n      <td>...</td>\n      <td>...</td>\n      <td>...</td>\n      <td>...</td>\n      <td>...</td>\n      <td>...</td>\n      <td>...</td>\n    </tr>\n    <tr>\n      <th>558832</th>\n      <td>2015</td>\n      <td>Kia</td>\n      <td>K900</td>\n      <td>luxury</td>\n      <td>Sedan</td>\n      <td>unknown</td>\n      <td>knalw4d4xf6019304</td>\n      <td>in</td>\n      <td>45.0</td>\n      <td>18255.0</td>\n      <td>silver</td>\n      <td>black</td>\n      <td>avis corporation</td>\n      <td>35300.0</td>\n      <td>33000.0</td>\n      <td>Q4</td>\n      <td>Thu Jul 09 2015 07:00:00 GMT-0700 (PDT)</td>\n    </tr>\n    <tr>\n      <th>558833</th>\n      <td>2012</td>\n      <td>Ram</td>\n      <td>2500</td>\n      <td>power wagon</td>\n      <td>Crew Cab</td>\n      <td>automatic</td>\n      <td>3c6td5et6cg112407</td>\n      <td>wa</td>\n      <td>5.0</td>\n      <td>54393.0</td>\n      <td>white</td>\n      <td>black</td>\n      <td>i -5 uhlmann rv</td>\n      <td>30200.0</td>\n      <td>30800.0</td>\n      <td>Q4</td>\n      <td>Wed Jul 08 2015 09:30:00 GMT-0700 (PDT)</td>\n    </tr>\n    <tr>\n      <th>558834</th>\n      <td>2012</td>\n      <td>BMW</td>\n      <td>X5</td>\n      <td>xdrive35d</td>\n      <td>SUV</td>\n      <td>automatic</td>\n      <td>5uxzw0c58cl668465</td>\n      <td>ca</td>\n      <td>48.0</td>\n      <td>50561.0</td>\n      <td>black</td>\n      <td>black</td>\n      <td>financial services remarketing (lease)</td>\n      <td>29800.0</td>\n      <td>34000.0</td>\n      <td>Q4</td>\n      <td>Wed Jul 08 2015 09:30:00 GMT-0700 (PDT)</td>\n    </tr>\n    <tr>\n      <th>558835</th>\n      <td>2015</td>\n      <td>Nissan</td>\n      <td>Altima</td>\n      <td>2.5 s</td>\n      <td>sedan</td>\n      <td>automatic</td>\n      <td>1n4al3ap0fc216050</td>\n      <td>ga</td>\n      <td>38.0</td>\n      <td>16658.0</td>\n      <td>white</td>\n      <td>black</td>\n      <td>enterprise vehicle exchange / tra / rental / t...</td>\n      <td>15100.0</td>\n      <td>11100.0</td>\n      <td>Q2</td>\n      <td>Thu Jul 09 2015 06:45:00 GMT-0700 (PDT)</td>\n    </tr>\n    <tr>\n      <th>558836</th>\n      <td>2014</td>\n      <td>Ford</td>\n      <td>F-150</td>\n      <td>xlt</td>\n      <td>SuperCrew</td>\n      <td>automatic</td>\n      <td>1ftfw1et2eke87277</td>\n      <td>ca</td>\n      <td>34.0</td>\n      <td>15008.0</td>\n      <td>gray</td>\n      <td>gray</td>\n      <td>ford motor credit company llc pd</td>\n      <td>29600.0</td>\n      <td>26700.0</td>\n      <td>Q4</td>\n      <td>Thu May 28 2015 05:30:00 GMT-0700 (PDT)</td>\n    </tr>\n  </tbody>\n</table>\n<p>558837 rows × 17 columns</p>\n</div>"
     },
     "execution_count": 64,
     "metadata": {},
     "output_type": "execute_result"
    }
   ],
   "source": [
    "vehicle_sales[['mmr', 'sellingprice']]\n",
    "vehicle_sales"
   ],
   "metadata": {
    "collapsed": false,
    "ExecuteTime": {
     "end_time": "2024-03-24T20:15:21.467140Z",
     "start_time": "2024-03-24T20:15:21.452168Z"
    }
   },
   "id": "e173e51544492159",
   "execution_count": 64
  },
  {
   "cell_type": "code",
   "outputs": [
    {
     "data": {
      "text/plain": "18300.0"
     },
     "execution_count": 69,
     "metadata": {},
     "output_type": "execute_result"
    }
   ],
   "source": [
    "vehicle_sales['mmr'].quantile(0.25)\n",
    "vehicle_sales['mmr'].quantile(0.50)\n",
    "vehicle_sales['mmr'].quantile(0.75)"
   ],
   "metadata": {
    "collapsed": false,
    "ExecuteTime": {
     "end_time": "2024-03-24T20:23:43.842422Z",
     "start_time": "2024-03-24T20:23:43.823770Z"
    }
   },
   "id": "5c6024314884314b",
   "execution_count": 69
  },
  {
   "cell_type": "code",
   "outputs": [
    {
     "data": {
      "text/plain": "0          21500.000000\n1          39090.909091\n2          61983.471074\n3          78463.749061\n4         131197.612868\n              ...      \n558832    111307.649001\n558833    121869.894637\n558834    133711.731976\n558835    120500.507980\n558836    125291.324711\nName: sellingprice, Length: 558837, dtype: float64"
     },
     "execution_count": 72,
     "metadata": {},
     "output_type": "execute_result"
    }
   ],
   "source": [
    "vehicle_sales['sellingprice'].ewm(span=10, min_periods=1).sum()"
   ],
   "metadata": {
    "collapsed": false,
    "ExecuteTime": {
     "end_time": "2024-03-24T20:31:07.688906Z",
     "start_time": "2024-03-24T20:31:07.678362Z"
    }
   },
   "id": "223994342df0de8f",
   "execution_count": 72
  },
  {
   "cell_type": "code",
   "outputs": [
    {
     "name": "stderr",
     "output_type": "stream",
     "text": [
      "C:\\Users\\Administrator\\AppData\\Local\\Temp\\ipykernel_35804\\8068339.py:6: FutureWarning: 'M' is deprecated and will be removed in a future version, please use 'ME' instead.\n",
      "  resampled_sales = vehicle_sales.resample('M', on='year').apply(lambda x: x.select_dtypes(include=['number']).sum())\n"
     ]
    }
   ],
   "source": [],
   "metadata": {
    "collapsed": false,
    "ExecuteTime": {
     "end_time": "2024-03-24T20:36:58.042535Z",
     "start_time": "2024-03-24T20:36:57.576459Z"
    }
   },
   "id": "495da05cc1a62ec",
   "execution_count": 91
  },
  {
   "cell_type": "code",
   "outputs": [
    {
     "data": {
      "text/plain": "year                    datetime64[ns]\nmake                          category\nmodel                           object\ntrim                            object\nbody                          category\ntransmission                  category\nvin                             object\nstate                         category\ncondition                      float32\nodometer                       float32\ncolor                         category\ninterior                      category\nseller                          object\nmmr                            float32\nsellingprice                   float32\nSell price quartiles          category\nsaledate                        object\ndtype: object"
     },
     "execution_count": 86,
     "metadata": {},
     "output_type": "execute_result"
    }
   ],
   "source": [
    "vehicle_sales.dtypes"
   ],
   "metadata": {
    "collapsed": false,
    "ExecuteTime": {
     "end_time": "2024-03-24T20:35:26.521056Z",
     "start_time": "2024-03-24T20:35:26.516570Z"
    }
   },
   "id": "2b2bb303f558f644",
   "execution_count": 86
  }
 ],
 "metadata": {
  "kernelspec": {
   "display_name": "Python 3",
   "language": "python",
   "name": "python3"
  },
  "language_info": {
   "codemirror_mode": {
    "name": "ipython",
    "version": 2
   },
   "file_extension": ".py",
   "mimetype": "text/x-python",
   "name": "python",
   "nbconvert_exporter": "python",
   "pygments_lexer": "ipython2",
   "version": "2.7.6"
  }
 },
 "nbformat": 4,
 "nbformat_minor": 5
}
