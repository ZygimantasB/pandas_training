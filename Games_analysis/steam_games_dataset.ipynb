{
 "cells": [
  {
   "cell_type": "code",
   "execution_count": 30,
   "id": "initial_id",
   "metadata": {
    "collapsed": true,
    "ExecuteTime": {
     "end_time": "2024-04-05T19:46:44.468472Z",
     "start_time": "2024-04-05T19:46:44.464766Z"
    }
   },
   "outputs": [],
   "source": [
    "import pandas as pd\n",
    "import datetime as dt"
   ]
  },
  {
   "cell_type": "code",
   "outputs": [],
   "source": [
    "steam_data_path = r'F:\\DataSpell\\Pandas_training\\Games_analysis\\data_sets\\merged_data.csv'"
   ],
   "metadata": {
    "collapsed": false,
    "ExecuteTime": {
     "end_time": "2024-04-05T19:46:44.745197Z",
     "start_time": "2024-04-05T19:46:44.741904Z"
    }
   },
   "id": "190ea8300fc9c7e5",
   "execution_count": 31
  },
  {
   "cell_type": "code",
   "outputs": [
    {
     "data": {
      "text/plain": "                                    Title Original Price Discounted Price  \\\n0                         Baldur's Gate 3         $29.99           $29.99   \n1        Counter-Strike: Global Offensive         $14.99           $14.99   \n2                           Apex Legends™           Free             Free   \n3                         Forza Horizon 5         $34.78           $17.39   \n4                           Call of Duty®           Free             Free   \n...                                   ...            ...              ...   \n71695                           The Front           Free             Free   \n71696                        The Bornless           Free             Free   \n71697                     Winter Memories           Free             Free   \n71698  Call of Duty®: Modern Warfare® III         $69.99           $69.99   \n71699            Pixel Gun 3D: PC Edition           Free             Free   \n\n          Release Date                                               Link  \\\n0          3 Aug, 2023  https://store.steampowered.com/app/1086940/Bal...   \n1         21 Aug, 2012  https://store.steampowered.com/app/730/Counter...   \n2          4 Nov, 2020  https://store.steampowered.com/app/1172470/Ape...   \n3          8 Nov, 2021  https://store.steampowered.com/app/1551360/For...   \n4         27 Oct, 2022  https://store.steampowered.com/app/1938090/Cal...   \n...                ...                                                ...   \n71695  To be announced  https://store.steampowered.com/app/2285150/The...   \n71696  To be announced  https://store.steampowered.com/app/2411280/The...   \n71697      Coming soon  https://store.steampowered.com/app/2495450/Win...   \n71698      Coming soon  https://store.steampowered.com/app/2519060/Cal...   \n71699  To be announced  https://store.steampowered.com/app/2524890/Pix...   \n\n                                        Game Description  \\\n0      Baldur’s Gate 3 is a story-rich, party-based R...   \n1      Counter-Strike: Global Offensive (CS: GO) expa...   \n2      Apex Legends is the award-winning, free-to-pla...   \n3      Your Ultimate Horizon Adventure awaits! Explor...   \n4      Welcome to Call of Duty® HQ, the home of Call ...   \n...                                                  ...   \n71695  The Front is a survival-open-world-crafting (S...   \n71696  Welcome to The Bornless, an action horror FPS....   \n71697  After the unforgettable summer memories you’ve...   \n71698  In the direct sequel to the record-breaking Ca...   \n71699  Pixel Gun 3D is a near complete PC port of a l...   \n\n        Recent Reviews Summary All Reviews Summary  \\\n0      Overwhelmingly Positive       Very Positive   \n1                Very Positive       Very Positive   \n2                        Mixed       Very Positive   \n3                Very Positive       Very Positive   \n4                        Mixed               Mixed   \n...                        ...                 ...   \n71695                      NaN                 NaN   \n71696                      NaN                 NaN   \n71697                      NaN                 NaN   \n71698                      NaN                 NaN   \n71699                      NaN                 NaN   \n\n                                   Recent Reviews Number  \\\n0      - 96% of the 128,900 user reviews in the last ...   \n1      - 89% of the 75,284 user reviews in the last 3...   \n2      - 65% of the 18,581 user reviews in the last 3...   \n3      - 87% of the 4,120 user reviews in the last 30...   \n4      - 49% of the 8,257 user reviews in the last 30...   \n...                                                  ...   \n71695                                                NaN   \n71696                                                NaN   \n71697                                                NaN   \n71698                                                NaN   \n71699                                                NaN   \n\n                                      All Reviews Number  \\\n0      - 94% of the 188,617 user reviews for this gam...   \n1      - 88% of the 7,428,921 user reviews for this g...   \n2      - 80% of the 701,597 user reviews for this gam...   \n3      - 88% of the 123,162 user reviews for this gam...   \n4      - 57% of the 236,876 user reviews for this gam...   \n...                                                  ...   \n71695                                                NaN   \n71696                                                NaN   \n71697                                                NaN   \n71698                                                NaN   \n71699                                                NaN   \n\n                                               Developer           Publisher  \\\n0                                         Larian Studios      Larian Studios   \n1                       Valve, Hidden Path Entertainment               Valve   \n2                                  Respawn Entertainment     Electronic Arts   \n3                                       Playground Games   Xbox Game Studios   \n4      Infinity Ward, Raven Software, Beenox, Treyarc...          Activision   \n...                                                  ...                 ...   \n71695                                       Samar Studio        Samar Studio   \n71696                                  Cathedral Studios   Cathedral Studios   \n71697                                        Dojin Otome        Kagura Games   \n71698  Sledgehammer Games, Treyarch, Infinity Ward, B...          Activision   \n71699                                 Cubic Games Studio  Cubic Games Studio   \n\n                                     Supported Languages  \\\n0      ['English', 'French', 'German', 'Spanish - Spa...   \n1      ['English', 'Czech', 'Danish', 'Dutch', 'Finni...   \n2      ['English', 'French', 'Italian', 'German', 'Sp...   \n3      ['English', 'French', 'Italian', 'German', 'Sp...   \n4      ['English', 'French', 'Italian', 'German', 'Sp...   \n...                                                  ...   \n71695  ['English', 'French', 'German', 'Russian', 'Ja...   \n71696  ['English', 'French', 'Italian', 'German', 'Sp...   \n71697      ['English', 'Japanese', 'Simplified Chinese']   \n71698  ['English', 'French', 'Italian', 'German', 'Sp...   \n71699  ['English', 'French', 'German', 'Japanese', 'K...   \n\n                                            Popular Tags  \\\n0      ['RPG', 'Choices Matter', 'Character Customiza...   \n1      ['FPS', 'Shooter', 'Multiplayer', 'Competitive...   \n2      ['Free to Play', 'Multiplayer', 'Battle Royale...   \n3      ['Racing', 'Open World', 'Driving', 'Multiplay...   \n4      ['FPS', 'Multiplayer', 'Shooter', 'Action', 'S...   \n...                                                  ...   \n71695  ['Early Access', 'Survival', 'Building', 'Sand...   \n71696  ['Early Access', 'Horror', 'FPS', 'Shooter', '...   \n71697  ['Casual', 'RPG', 'Simulation', 'Sexual Conten...   \n71698  ['Action', 'FPS', 'Shooter', 'First-Person', '...   \n71699  ['Action', 'Shooter', 'Pixel Graphics', 'Battl...   \n\n                                           Game Features  \\\n0      ['Single-player', 'Online Co-op', 'LAN Co-op',...   \n1      ['Steam Achievements', 'Full controller suppor...   \n2      ['Online PvP', 'Online Co-op', 'Steam Achievem...   \n3      ['Single-player', 'Online PvP', 'Online Co-op'...   \n4      ['Single-player', 'Online PvP', 'Online Co-op'...   \n...                                                  ...   \n71695  ['Single-player', 'MMO', 'Online PvP', 'LAN Pv...   \n71696  ['Single-player', 'Online PvP', 'Online Co-op'...   \n71697                                  ['Single-player']   \n71698  ['Single-player', 'Online PvP', 'Online Co-op'...   \n71699  ['Single-player', 'Online PvP', 'Cross-Platfor...   \n\n                                    Minimum Requirements  \n0      Requires a 64-bit processor and operating syst...  \n1      OS: |  Windows® 7/Vista/XP | Processor: |  Int...  \n2      Requires a 64-bit processor and operating syst...  \n3      Requires a 64-bit processor and operating syst...  \n4      Requires a 64-bit processor and operating syst...  \n...                                                  ...  \n71695  OS: |  Requires a 64-bit processor and operati...  \n71696  OS: |  Windows 10 or higher | Processor: |  In...  \n71697  OS: |  Windows® 7/8/8.1/10/11 | Processor: |  ...  \n71698  Requires a 64-bit processor and operating syst...  \n71699  OS: |  Windows 10 (x64) - Windows 11 (x64) | P...  \n\n[71700 rows x 16 columns]",
      "text/html": "<div>\n<style scoped>\n    .dataframe tbody tr th:only-of-type {\n        vertical-align: middle;\n    }\n\n    .dataframe tbody tr th {\n        vertical-align: top;\n    }\n\n    .dataframe thead th {\n        text-align: right;\n    }\n</style>\n<table border=\"1\" class=\"dataframe\">\n  <thead>\n    <tr style=\"text-align: right;\">\n      <th></th>\n      <th>Title</th>\n      <th>Original Price</th>\n      <th>Discounted Price</th>\n      <th>Release Date</th>\n      <th>Link</th>\n      <th>Game Description</th>\n      <th>Recent Reviews Summary</th>\n      <th>All Reviews Summary</th>\n      <th>Recent Reviews Number</th>\n      <th>All Reviews Number</th>\n      <th>Developer</th>\n      <th>Publisher</th>\n      <th>Supported Languages</th>\n      <th>Popular Tags</th>\n      <th>Game Features</th>\n      <th>Minimum Requirements</th>\n    </tr>\n  </thead>\n  <tbody>\n    <tr>\n      <th>0</th>\n      <td>Baldur's Gate 3</td>\n      <td>$29.99</td>\n      <td>$29.99</td>\n      <td>3 Aug, 2023</td>\n      <td>https://store.steampowered.com/app/1086940/Bal...</td>\n      <td>Baldur’s Gate 3 is a story-rich, party-based R...</td>\n      <td>Overwhelmingly Positive</td>\n      <td>Very Positive</td>\n      <td>- 96% of the 128,900 user reviews in the last ...</td>\n      <td>- 94% of the 188,617 user reviews for this gam...</td>\n      <td>Larian Studios</td>\n      <td>Larian Studios</td>\n      <td>['English', 'French', 'German', 'Spanish - Spa...</td>\n      <td>['RPG', 'Choices Matter', 'Character Customiza...</td>\n      <td>['Single-player', 'Online Co-op', 'LAN Co-op',...</td>\n      <td>Requires a 64-bit processor and operating syst...</td>\n    </tr>\n    <tr>\n      <th>1</th>\n      <td>Counter-Strike: Global Offensive</td>\n      <td>$14.99</td>\n      <td>$14.99</td>\n      <td>21 Aug, 2012</td>\n      <td>https://store.steampowered.com/app/730/Counter...</td>\n      <td>Counter-Strike: Global Offensive (CS: GO) expa...</td>\n      <td>Very Positive</td>\n      <td>Very Positive</td>\n      <td>- 89% of the 75,284 user reviews in the last 3...</td>\n      <td>- 88% of the 7,428,921 user reviews for this g...</td>\n      <td>Valve, Hidden Path Entertainment</td>\n      <td>Valve</td>\n      <td>['English', 'Czech', 'Danish', 'Dutch', 'Finni...</td>\n      <td>['FPS', 'Shooter', 'Multiplayer', 'Competitive...</td>\n      <td>['Steam Achievements', 'Full controller suppor...</td>\n      <td>OS: |  Windows® 7/Vista/XP | Processor: |  Int...</td>\n    </tr>\n    <tr>\n      <th>2</th>\n      <td>Apex Legends™</td>\n      <td>Free</td>\n      <td>Free</td>\n      <td>4 Nov, 2020</td>\n      <td>https://store.steampowered.com/app/1172470/Ape...</td>\n      <td>Apex Legends is the award-winning, free-to-pla...</td>\n      <td>Mixed</td>\n      <td>Very Positive</td>\n      <td>- 65% of the 18,581 user reviews in the last 3...</td>\n      <td>- 80% of the 701,597 user reviews for this gam...</td>\n      <td>Respawn Entertainment</td>\n      <td>Electronic Arts</td>\n      <td>['English', 'French', 'Italian', 'German', 'Sp...</td>\n      <td>['Free to Play', 'Multiplayer', 'Battle Royale...</td>\n      <td>['Online PvP', 'Online Co-op', 'Steam Achievem...</td>\n      <td>Requires a 64-bit processor and operating syst...</td>\n    </tr>\n    <tr>\n      <th>3</th>\n      <td>Forza Horizon 5</td>\n      <td>$34.78</td>\n      <td>$17.39</td>\n      <td>8 Nov, 2021</td>\n      <td>https://store.steampowered.com/app/1551360/For...</td>\n      <td>Your Ultimate Horizon Adventure awaits! Explor...</td>\n      <td>Very Positive</td>\n      <td>Very Positive</td>\n      <td>- 87% of the 4,120 user reviews in the last 30...</td>\n      <td>- 88% of the 123,162 user reviews for this gam...</td>\n      <td>Playground Games</td>\n      <td>Xbox Game Studios</td>\n      <td>['English', 'French', 'Italian', 'German', 'Sp...</td>\n      <td>['Racing', 'Open World', 'Driving', 'Multiplay...</td>\n      <td>['Single-player', 'Online PvP', 'Online Co-op'...</td>\n      <td>Requires a 64-bit processor and operating syst...</td>\n    </tr>\n    <tr>\n      <th>4</th>\n      <td>Call of Duty®</td>\n      <td>Free</td>\n      <td>Free</td>\n      <td>27 Oct, 2022</td>\n      <td>https://store.steampowered.com/app/1938090/Cal...</td>\n      <td>Welcome to Call of Duty® HQ, the home of Call ...</td>\n      <td>Mixed</td>\n      <td>Mixed</td>\n      <td>- 49% of the 8,257 user reviews in the last 30...</td>\n      <td>- 57% of the 236,876 user reviews for this gam...</td>\n      <td>Infinity Ward, Raven Software, Beenox, Treyarc...</td>\n      <td>Activision</td>\n      <td>['English', 'French', 'Italian', 'German', 'Sp...</td>\n      <td>['FPS', 'Multiplayer', 'Shooter', 'Action', 'S...</td>\n      <td>['Single-player', 'Online PvP', 'Online Co-op'...</td>\n      <td>Requires a 64-bit processor and operating syst...</td>\n    </tr>\n    <tr>\n      <th>...</th>\n      <td>...</td>\n      <td>...</td>\n      <td>...</td>\n      <td>...</td>\n      <td>...</td>\n      <td>...</td>\n      <td>...</td>\n      <td>...</td>\n      <td>...</td>\n      <td>...</td>\n      <td>...</td>\n      <td>...</td>\n      <td>...</td>\n      <td>...</td>\n      <td>...</td>\n      <td>...</td>\n    </tr>\n    <tr>\n      <th>71695</th>\n      <td>The Front</td>\n      <td>Free</td>\n      <td>Free</td>\n      <td>To be announced</td>\n      <td>https://store.steampowered.com/app/2285150/The...</td>\n      <td>The Front is a survival-open-world-crafting (S...</td>\n      <td>NaN</td>\n      <td>NaN</td>\n      <td>NaN</td>\n      <td>NaN</td>\n      <td>Samar Studio</td>\n      <td>Samar Studio</td>\n      <td>['English', 'French', 'German', 'Russian', 'Ja...</td>\n      <td>['Early Access', 'Survival', 'Building', 'Sand...</td>\n      <td>['Single-player', 'MMO', 'Online PvP', 'LAN Pv...</td>\n      <td>OS: |  Requires a 64-bit processor and operati...</td>\n    </tr>\n    <tr>\n      <th>71696</th>\n      <td>The Bornless</td>\n      <td>Free</td>\n      <td>Free</td>\n      <td>To be announced</td>\n      <td>https://store.steampowered.com/app/2411280/The...</td>\n      <td>Welcome to The Bornless, an action horror FPS....</td>\n      <td>NaN</td>\n      <td>NaN</td>\n      <td>NaN</td>\n      <td>NaN</td>\n      <td>Cathedral Studios</td>\n      <td>Cathedral Studios</td>\n      <td>['English', 'French', 'Italian', 'German', 'Sp...</td>\n      <td>['Early Access', 'Horror', 'FPS', 'Shooter', '...</td>\n      <td>['Single-player', 'Online PvP', 'Online Co-op'...</td>\n      <td>OS: |  Windows 10 or higher | Processor: |  In...</td>\n    </tr>\n    <tr>\n      <th>71697</th>\n      <td>Winter Memories</td>\n      <td>Free</td>\n      <td>Free</td>\n      <td>Coming soon</td>\n      <td>https://store.steampowered.com/app/2495450/Win...</td>\n      <td>After the unforgettable summer memories you’ve...</td>\n      <td>NaN</td>\n      <td>NaN</td>\n      <td>NaN</td>\n      <td>NaN</td>\n      <td>Dojin Otome</td>\n      <td>Kagura Games</td>\n      <td>['English', 'Japanese', 'Simplified Chinese']</td>\n      <td>['Casual', 'RPG', 'Simulation', 'Sexual Conten...</td>\n      <td>['Single-player']</td>\n      <td>OS: |  Windows® 7/8/8.1/10/11 | Processor: |  ...</td>\n    </tr>\n    <tr>\n      <th>71698</th>\n      <td>Call of Duty®: Modern Warfare® III</td>\n      <td>$69.99</td>\n      <td>$69.99</td>\n      <td>Coming soon</td>\n      <td>https://store.steampowered.com/app/2519060/Cal...</td>\n      <td>In the direct sequel to the record-breaking Ca...</td>\n      <td>NaN</td>\n      <td>NaN</td>\n      <td>NaN</td>\n      <td>NaN</td>\n      <td>Sledgehammer Games, Treyarch, Infinity Ward, B...</td>\n      <td>Activision</td>\n      <td>['English', 'French', 'Italian', 'German', 'Sp...</td>\n      <td>['Action', 'FPS', 'Shooter', 'First-Person', '...</td>\n      <td>['Single-player', 'Online PvP', 'Online Co-op'...</td>\n      <td>Requires a 64-bit processor and operating syst...</td>\n    </tr>\n    <tr>\n      <th>71699</th>\n      <td>Pixel Gun 3D: PC Edition</td>\n      <td>Free</td>\n      <td>Free</td>\n      <td>To be announced</td>\n      <td>https://store.steampowered.com/app/2524890/Pix...</td>\n      <td>Pixel Gun 3D is a near complete PC port of a l...</td>\n      <td>NaN</td>\n      <td>NaN</td>\n      <td>NaN</td>\n      <td>NaN</td>\n      <td>Cubic Games Studio</td>\n      <td>Cubic Games Studio</td>\n      <td>['English', 'French', 'German', 'Japanese', 'K...</td>\n      <td>['Action', 'Shooter', 'Pixel Graphics', 'Battl...</td>\n      <td>['Single-player', 'Online PvP', 'Cross-Platfor...</td>\n      <td>OS: |  Windows 10 (x64) - Windows 11 (x64) | P...</td>\n    </tr>\n  </tbody>\n</table>\n<p>71700 rows × 16 columns</p>\n</div>"
     },
     "execution_count": 32,
     "metadata": {},
     "output_type": "execute_result"
    }
   ],
   "source": [
    "steam_data = pd.read_csv(steam_data_path).dropna(how='all')\n",
    "steam_data"
   ],
   "metadata": {
    "collapsed": false,
    "ExecuteTime": {
     "end_time": "2024-04-05T19:46:45.753189Z",
     "start_time": "2024-04-05T19:46:44.768209Z"
    }
   },
   "id": "a3dd986ecfb33fb9",
   "execution_count": 32
  },
  {
   "cell_type": "markdown",
   "source": [
    "# Convert data types"
   ],
   "metadata": {
    "collapsed": false
   },
   "id": "9a4fb95cec47c57b"
  },
  {
   "cell_type": "code",
   "outputs": [],
   "source": [
    "steam_data['Original Price'] = (steam_data['Original Price'].str.replace('Free', '0').str.replace('$', '').str.replace\n",
    "                              (',','').astype(float))\n",
    "steam_data['Discounted Price'] = (steam_data['Discounted Price'].str.replace('Free', '0').str.replace('$', '').str\n",
    "                                .replace(',','').astype(float))\n"
   ],
   "metadata": {
    "collapsed": false,
    "ExecuteTime": {
     "end_time": "2024-04-05T19:46:45.830400Z",
     "start_time": "2024-04-05T19:46:45.755443Z"
    }
   },
   "id": "8d3798ca504f0ba0",
   "execution_count": 33
  },
  {
   "cell_type": "markdown",
   "source": [
    "# Convert to datetime"
   ],
   "metadata": {
    "collapsed": false
   },
   "id": "44cc6cd89c24f1f8"
  },
  {
   "cell_type": "code",
   "outputs": [
    {
     "data": {
      "text/plain": "(0   2023-08-03\n 1   2012-08-21\n 2   2020-11-04\n 3   2021-11-08\n 4   2022-10-27\n Name: Release Date, dtype: datetime64[ns],\n 10308)"
     },
     "execution_count": 34,
     "metadata": {},
     "output_type": "execute_result"
    }
   ],
   "source": [
    "# Convert 'Release Date' column to datetime, letting pandas infer the date format\n",
    "steam_data['Release Date'] = pd.to_datetime(steam_data['Release Date'], errors='coerce', dayfirst=True)\n",
    "\n",
    "# Display the first few rows to verify the conversion and see how NaT values are handled\n",
    "steam_data['Release Date'].head(), steam_data['Release Date'].isnull().sum()"
   ],
   "metadata": {
    "collapsed": false,
    "ExecuteTime": {
     "end_time": "2024-04-05T19:46:45.958656Z",
     "start_time": "2024-04-05T19:46:45.830919Z"
    }
   },
   "id": "500f2c79368671fe",
   "execution_count": 34
  },
  {
   "cell_type": "markdown",
   "source": [
    "# FIx missing values"
   ],
   "metadata": {
    "collapsed": false
   },
   "id": "7fec0d015c3cc636"
  },
  {
   "cell_type": "code",
   "outputs": [],
   "source": [
    "steam_data['Game Description'] = steam_data['Game Description'].fillna('No description available')\n",
    "steam_data['Recent Reviews Summary'] = steam_data['Recent Reviews Summary'].fillna('No reviews').astype('category')\n",
    "steam_data['All Reviews Summary'] = steam_data['All Reviews Summary'].fillna('No reviews').astype('category')\n",
    "steam_data['Recent Reviews Number'] = steam_data['Recent Reviews Number'].fillna('No recent reviews')\n",
    "steam_data['All Reviews Number'] = steam_data['All Reviews Number'].fillna('No reviews')\n",
    "steam_data['Publisher'] = steam_data['Publisher'].fillna('Unknown')\n",
    "steam_data['Minimum Requirements'] = steam_data['Minimum Requirements'].fillna('Unknown requirements')\n",
    "steam_data['Title'] = steam_data['Title'].fillna('Unknown')\n",
    "steam_data['Developer'] = steam_data['Developer'].fillna('Unknown')"
   ],
   "metadata": {
    "collapsed": false,
    "ExecuteTime": {
     "end_time": "2024-04-05T19:46:46.023951Z",
     "start_time": "2024-04-05T19:46:45.959661Z"
    }
   },
   "id": "9838822a88a91275",
   "execution_count": 35
  },
  {
   "cell_type": "code",
   "outputs": [
    {
     "name": "stdout",
     "output_type": "stream",
     "text": [
      "<class 'pandas.core.frame.DataFrame'>\n",
      "RangeIndex: 71700 entries, 0 to 71699\n",
      "Data columns (total 16 columns):\n",
      " #   Column                  Non-Null Count  Dtype         \n",
      "---  ------                  --------------  -----         \n",
      " 0   Title                   71700 non-null  object        \n",
      " 1   Original Price          71700 non-null  float64       \n",
      " 2   Discounted Price        71700 non-null  float64       \n",
      " 3   Release Date            61392 non-null  datetime64[ns]\n",
      " 4   Link                    71700 non-null  object        \n",
      " 5   Game Description        71700 non-null  object        \n",
      " 6   Recent Reviews Summary  71700 non-null  category      \n",
      " 7   All Reviews Summary     71700 non-null  category      \n",
      " 8   Recent Reviews Number   71700 non-null  object        \n",
      " 9   All Reviews Number      71700 non-null  object        \n",
      " 10  Developer               71700 non-null  object        \n",
      " 11  Publisher               71700 non-null  object        \n",
      " 12  Supported Languages     71700 non-null  object        \n",
      " 13  Popular Tags            71700 non-null  object        \n",
      " 14  Game Features           71700 non-null  object        \n",
      " 15  Minimum Requirements    71700 non-null  object        \n",
      "dtypes: category(2), datetime64[ns](1), float64(2), object(11)\n",
      "memory usage: 7.8+ MB\n"
     ]
    }
   ],
   "source": [
    "steam_data.info()"
   ],
   "metadata": {
    "collapsed": false,
    "ExecuteTime": {
     "end_time": "2024-04-05T19:46:46.077894Z",
     "start_time": "2024-04-05T19:46:46.024959Z"
    }
   },
   "id": "3c9fcbfd074f44bf",
   "execution_count": 36
  },
  {
   "cell_type": "code",
   "outputs": [
    {
     "name": "stdout",
     "output_type": "stream",
     "text": [
      "<class 'pandas.core.frame.DataFrame'>\n",
      "RangeIndex: 71700 entries, 0 to 71699\n",
      "Data columns (total 16 columns):\n",
      " #   Column                  Non-Null Count  Dtype         \n",
      "---  ------                  --------------  -----         \n",
      " 0   Title                   71700 non-null  object        \n",
      " 1   Original Price          71700 non-null  float64       \n",
      " 2   Discounted Price        71700 non-null  float64       \n",
      " 3   Release Date            61392 non-null  datetime64[ns]\n",
      " 4   Link                    71700 non-null  object        \n",
      " 5   Game Description        71700 non-null  object        \n",
      " 6   Recent Reviews Summary  71700 non-null  category      \n",
      " 7   All Reviews Summary     71700 non-null  category      \n",
      " 8   Recent Reviews Number   71700 non-null  object        \n",
      " 9   All Reviews Number      71700 non-null  object        \n",
      " 10  Developer               71700 non-null  object        \n",
      " 11  Publisher               71700 non-null  object        \n",
      " 12  Supported Languages     71700 non-null  object        \n",
      " 13  Popular Tags            71700 non-null  object        \n",
      " 14  Game Features           71700 non-null  object        \n",
      " 15  Minimum Requirements    71700 non-null  object        \n",
      "dtypes: category(2), datetime64[ns](1), float64(2), object(11)\n",
      "memory usage: 7.8+ MB\n"
     ]
    }
   ],
   "source": [
    "steam_data.info()"
   ],
   "metadata": {
    "collapsed": false,
    "ExecuteTime": {
     "end_time": "2024-04-05T19:46:46.128606Z",
     "start_time": "2024-04-05T19:46:46.078903Z"
    }
   },
   "id": "83474bdbf5b9ff18",
   "execution_count": 37
  },
  {
   "cell_type": "markdown",
   "source": [
    "# 1. How many games are listed in the dataset?"
   ],
   "metadata": {
    "collapsed": false
   },
   "id": "f115f36702e14941"
  },
  {
   "cell_type": "code",
   "outputs": [
    {
     "data": {
      "text/plain": "71699"
     },
     "execution_count": 38,
     "metadata": {},
     "output_type": "execute_result"
    }
   ],
   "source": [
    "steam_data['Title'].nunique()"
   ],
   "metadata": {
    "collapsed": false,
    "ExecuteTime": {
     "end_time": "2024-04-05T19:46:46.150968Z",
     "start_time": "2024-04-05T19:46:46.129612Z"
    }
   },
   "id": "199f941fefbf865a",
   "execution_count": 38
  },
  {
   "cell_type": "markdown",
   "source": [
    "# 2. Convert the 'Release Date' column to a datetime format and identify the earliest and latest release dates in the dataset"
   ],
   "metadata": {
    "collapsed": false
   },
   "id": "5f946e5d5952f793"
  },
  {
   "cell_type": "code",
   "outputs": [],
   "source": [
    "steam_data['Release Date'] = pd.to_datetime(steam_data['Release Date'], errors='coerce', dayfirst=True)"
   ],
   "metadata": {
    "collapsed": false,
    "ExecuteTime": {
     "end_time": "2024-04-05T19:46:46.160201Z",
     "start_time": "2024-04-05T19:46:46.151974Z"
    }
   },
   "id": "4ea762b624dbba6e",
   "execution_count": 39
  },
  {
   "cell_type": "code",
   "outputs": [
    {
     "data": {
      "text/plain": "Timestamp('2077-11-09 00:00:00')"
     },
     "execution_count": 40,
     "metadata": {},
     "output_type": "execute_result"
    }
   ],
   "source": [
    "steam_data['Release Date'].sort_values().min()\n",
    "steam_data['Release Date'].sort_values().max()"
   ],
   "metadata": {
    "collapsed": false,
    "ExecuteTime": {
     "end_time": "2024-04-05T19:46:46.174642Z",
     "start_time": "2024-04-05T19:46:46.161209Z"
    }
   },
   "id": "9943073bef7c6adb",
   "execution_count": 40
  },
  {
   "cell_type": "markdown",
   "source": [
    "# 3. Calculate the number of games released each year."
   ],
   "metadata": {
    "collapsed": false
   },
   "id": "b4ff6d59e44dbd32"
  },
  {
   "cell_type": "code",
   "outputs": [
    {
     "data": {
      "text/plain": "              Title\nRelease Date       \n2022.0         9944\n2021.0         8895\n2023.0         7840\n2020.0         7470\n2018.0         6431\n2019.0         5995\n2017.0         5291\n2016.0         3818\n2015.0         2364\n2014.0         1441\n2013.0          438\n2012.0          313\n2009.0          303\n2011.0          248\n2010.0          226\n2008.0          128\n2024.0           91\n2007.0           74\n2006.0           45\n2025.0           14\n2026.0            7\n2030.0            3\n2029.0            2\n2028.0            1\n2032.0            1\n2038.0            1\n2069.0            1\n1969.0            1\n1997.0            1\n2004.0            1\n2003.0            1\n2002.0            1\n2000.0            1\n2077.0            1",
      "text/html": "<div>\n<style scoped>\n    .dataframe tbody tr th:only-of-type {\n        vertical-align: middle;\n    }\n\n    .dataframe tbody tr th {\n        vertical-align: top;\n    }\n\n    .dataframe thead th {\n        text-align: right;\n    }\n</style>\n<table border=\"1\" class=\"dataframe\">\n  <thead>\n    <tr style=\"text-align: right;\">\n      <th></th>\n      <th>Title</th>\n    </tr>\n    <tr>\n      <th>Release Date</th>\n      <th></th>\n    </tr>\n  </thead>\n  <tbody>\n    <tr>\n      <th>2022.0</th>\n      <td>9944</td>\n    </tr>\n    <tr>\n      <th>2021.0</th>\n      <td>8895</td>\n    </tr>\n    <tr>\n      <th>2023.0</th>\n      <td>7840</td>\n    </tr>\n    <tr>\n      <th>2020.0</th>\n      <td>7470</td>\n    </tr>\n    <tr>\n      <th>2018.0</th>\n      <td>6431</td>\n    </tr>\n    <tr>\n      <th>2019.0</th>\n      <td>5995</td>\n    </tr>\n    <tr>\n      <th>2017.0</th>\n      <td>5291</td>\n    </tr>\n    <tr>\n      <th>2016.0</th>\n      <td>3818</td>\n    </tr>\n    <tr>\n      <th>2015.0</th>\n      <td>2364</td>\n    </tr>\n    <tr>\n      <th>2014.0</th>\n      <td>1441</td>\n    </tr>\n    <tr>\n      <th>2013.0</th>\n      <td>438</td>\n    </tr>\n    <tr>\n      <th>2012.0</th>\n      <td>313</td>\n    </tr>\n    <tr>\n      <th>2009.0</th>\n      <td>303</td>\n    </tr>\n    <tr>\n      <th>2011.0</th>\n      <td>248</td>\n    </tr>\n    <tr>\n      <th>2010.0</th>\n      <td>226</td>\n    </tr>\n    <tr>\n      <th>2008.0</th>\n      <td>128</td>\n    </tr>\n    <tr>\n      <th>2024.0</th>\n      <td>91</td>\n    </tr>\n    <tr>\n      <th>2007.0</th>\n      <td>74</td>\n    </tr>\n    <tr>\n      <th>2006.0</th>\n      <td>45</td>\n    </tr>\n    <tr>\n      <th>2025.0</th>\n      <td>14</td>\n    </tr>\n    <tr>\n      <th>2026.0</th>\n      <td>7</td>\n    </tr>\n    <tr>\n      <th>2030.0</th>\n      <td>3</td>\n    </tr>\n    <tr>\n      <th>2029.0</th>\n      <td>2</td>\n    </tr>\n    <tr>\n      <th>2028.0</th>\n      <td>1</td>\n    </tr>\n    <tr>\n      <th>2032.0</th>\n      <td>1</td>\n    </tr>\n    <tr>\n      <th>2038.0</th>\n      <td>1</td>\n    </tr>\n    <tr>\n      <th>2069.0</th>\n      <td>1</td>\n    </tr>\n    <tr>\n      <th>1969.0</th>\n      <td>1</td>\n    </tr>\n    <tr>\n      <th>1997.0</th>\n      <td>1</td>\n    </tr>\n    <tr>\n      <th>2004.0</th>\n      <td>1</td>\n    </tr>\n    <tr>\n      <th>2003.0</th>\n      <td>1</td>\n    </tr>\n    <tr>\n      <th>2002.0</th>\n      <td>1</td>\n    </tr>\n    <tr>\n      <th>2000.0</th>\n      <td>1</td>\n    </tr>\n    <tr>\n      <th>2077.0</th>\n      <td>1</td>\n    </tr>\n  </tbody>\n</table>\n</div>"
     },
     "execution_count": 41,
     "metadata": {},
     "output_type": "execute_result"
    }
   ],
   "source": [
    "year = steam_data['Release Date'].dt.year\n",
    "\n",
    "steam_data.groupby(year).agg(\n",
    "  {'Title': 'count'}\n",
    ").sort_values(by='Title', ascending=False)"
   ],
   "metadata": {
    "collapsed": false,
    "ExecuteTime": {
     "end_time": "2024-04-05T19:46:46.192803Z",
     "start_time": "2024-04-05T19:46:46.176650Z"
    }
   },
   "id": "b2b2172ee520e929",
   "execution_count": 41
  },
  {
   "cell_type": "markdown",
   "source": [
    "# 4. Identify how many games are free versus paid."
   ],
   "metadata": {
    "collapsed": false
   },
   "id": "9bd29fabd327dfd9"
  },
  {
   "cell_type": "code",
   "outputs": [
    {
     "data": {
      "text/plain": "54115"
     },
     "execution_count": 42,
     "metadata": {},
     "output_type": "execute_result"
    }
   ],
   "source": [
    "free_games = len(steam_data[steam_data['Original Price'] == 0]) # 17585\n",
    "paid_games = len(steam_data[~(steam_data['Original Price'] == 0)]) # 54115\n",
    "paid_games"
   ],
   "metadata": {
    "collapsed": false,
    "ExecuteTime": {
     "end_time": "2024-04-05T19:46:46.225673Z",
     "start_time": "2024-04-05T19:46:46.193810Z"
    }
   },
   "id": "941cccc8007de594",
   "execution_count": 42
  },
  {
   "cell_type": "markdown",
   "source": [
    "# 5. Clean the 'Original Price' and 'Discounted Price' columns to convert them from string to float format. Remember to handle the 'Free' entries properly."
   ],
   "metadata": {
    "collapsed": false
   },
   "id": "5acd3e16f5418aa"
  },
  {
   "cell_type": "code",
   "outputs": [],
   "source": [
    "# steam_data['Original Price'].str.replace('$', '').str.replace('Free', '0').str.repalce(',', '').str.fillna('0').astype(float)\n",
    "# steam_data['Discounted Price'].str.replace('$', '').str.replace('Free', '0').str.repalce(',', '').str.fillna('0').astype(float)"
   ],
   "metadata": {
    "collapsed": false,
    "ExecuteTime": {
     "end_time": "2024-04-05T19:46:46.229799Z",
     "start_time": "2024-04-05T19:46:46.226680Z"
    }
   },
   "id": "486b835fe181a93d",
   "execution_count": 43
  },
  {
   "cell_type": "markdown",
   "source": [
    "# 6. Determine the average original and discounted prices of the games."
   ],
   "metadata": {
    "collapsed": false
   },
   "id": "367c7c4ba2e1d465"
  },
  {
   "cell_type": "code",
   "outputs": [
    {
     "data": {
      "text/plain": "'Original price: 594.3817263598326 Discounted price: 182.165219386332'"
     },
     "execution_count": 44,
     "metadata": {},
     "output_type": "execute_result"
    }
   ],
   "source": [
    "steam_data\n",
    "\n",
    "original_price_avg = steam_data['Original Price'].mean()\n",
    "discounted_price_avg = steam_data['Discounted Price'].mean()\n",
    "f'Original price: {original_price_avg} Discounted price: {discounted_price_avg}'\n"
   ],
   "metadata": {
    "collapsed": false,
    "ExecuteTime": {
     "end_time": "2024-04-05T19:46:46.237845Z",
     "start_time": "2024-04-05T19:46:46.229799Z"
    }
   },
   "id": "29bc3b19f9e4da30",
   "execution_count": 44
  },
  {
   "cell_type": "markdown",
   "source": [
    "# 7. Identify the game with the highest discount in terms of the difference between the original and discounted prices."
   ],
   "metadata": {
    "collapsed": false
   },
   "id": "76978271049539ca"
  },
  {
   "cell_type": "code",
   "outputs": [
    {
     "data": {
      "text/plain": "'Jack-O-Lantern Covers of Darkness'"
     },
     "execution_count": 45,
     "metadata": {},
     "output_type": "execute_result"
    }
   ],
   "source": [
    "discount = steam_data['Original Price'] - steam_data['Discounted Price']\n",
    "steam_data.insert(3, 'Discounted Amount', discount)\n",
    "# steam_data.drop('Discounted Amount', axis=1, inplace=True)\n",
    "max_discount_index = steam_data['Discounted Amount'].idxmax()\n",
    "game_with_highest_discount = steam_data.loc[max_discount_index, 'Title']\n",
    "game_with_highest_discount"
   ],
   "metadata": {
    "collapsed": false,
    "ExecuteTime": {
     "end_time": "2024-04-05T19:46:46.244185Z",
     "start_time": "2024-04-05T19:46:46.238851Z"
    }
   },
   "id": "6f143468cd5497db",
   "execution_count": 45
  },
  {
   "cell_type": "code",
   "outputs": [
    {
     "data": {
      "text/plain": "{0: 'Title',\n 1: 'Original Price',\n 2: 'Discounted Price',\n 3: 'Discounted Amount',\n 4: 'Release Date',\n 5: 'Link',\n 6: 'Game Description',\n 7: 'Recent Reviews Summary',\n 8: 'All Reviews Summary',\n 9: 'Recent Reviews Number',\n 10: 'All Reviews Number',\n 11: 'Developer',\n 12: 'Publisher',\n 13: 'Supported Languages',\n 14: 'Popular Tags',\n 15: 'Game Features',\n 16: 'Minimum Requirements'}"
     },
     "execution_count": 46,
     "metadata": {},
     "output_type": "execute_result"
    }
   ],
   "source": [
    "# column_names = list(steam_data.columns)\n",
    "{index: name for index, name in enumerate(steam_data.columns)}"
   ],
   "metadata": {
    "collapsed": false,
    "ExecuteTime": {
     "end_time": "2024-04-05T19:46:46.249859Z",
     "start_time": "2024-04-05T19:46:46.245193Z"
    }
   },
   "id": "256e581ceec84373",
   "execution_count": 46
  },
  {
   "cell_type": "code",
   "outputs": [
    {
     "data": {
      "text/plain": "                                    Title  Original Price  Discounted Price  \\\n0                         Baldur's Gate 3           29.99             29.99   \n1        Counter-Strike: Global Offensive           14.99             14.99   \n2                           Apex Legends™            0.00              0.00   \n3                         Forza Horizon 5           34.78             17.39   \n4                           Call of Duty®            0.00              0.00   \n...                                   ...             ...               ...   \n71695                           The Front            0.00              0.00   \n71696                        The Bornless            0.00              0.00   \n71697                     Winter Memories            0.00              0.00   \n71698  Call of Duty®: Modern Warfare® III           69.99             69.99   \n71699            Pixel Gun 3D: PC Edition            0.00              0.00   \n\n       Discounted Amount Release Date  \\\n0                   0.00   2023-08-03   \n1                   0.00   2012-08-21   \n2                   0.00   2020-11-04   \n3                  17.39   2021-11-08   \n4                   0.00   2022-10-27   \n...                  ...          ...   \n71695               0.00          NaT   \n71696               0.00          NaT   \n71697               0.00          NaT   \n71698               0.00          NaT   \n71699               0.00          NaT   \n\n                                                    Link  \\\n0      https://store.steampowered.com/app/1086940/Bal...   \n1      https://store.steampowered.com/app/730/Counter...   \n2      https://store.steampowered.com/app/1172470/Ape...   \n3      https://store.steampowered.com/app/1551360/For...   \n4      https://store.steampowered.com/app/1938090/Cal...   \n...                                                  ...   \n71695  https://store.steampowered.com/app/2285150/The...   \n71696  https://store.steampowered.com/app/2411280/The...   \n71697  https://store.steampowered.com/app/2495450/Win...   \n71698  https://store.steampowered.com/app/2519060/Cal...   \n71699  https://store.steampowered.com/app/2524890/Pix...   \n\n                                        Game Description  \\\n0      Baldur’s Gate 3 is a story-rich, party-based R...   \n1      Counter-Strike: Global Offensive (CS: GO) expa...   \n2      Apex Legends is the award-winning, free-to-pla...   \n3      Your Ultimate Horizon Adventure awaits! Explor...   \n4      Welcome to Call of Duty® HQ, the home of Call ...   \n...                                                  ...   \n71695  The Front is a survival-open-world-crafting (S...   \n71696  Welcome to The Bornless, an action horror FPS....   \n71697  After the unforgettable summer memories you’ve...   \n71698  In the direct sequel to the record-breaking Ca...   \n71699  Pixel Gun 3D is a near complete PC port of a l...   \n\n        Recent Reviews Summary All Reviews Summary  \\\n0      Overwhelmingly Positive       Very Positive   \n1                Very Positive       Very Positive   \n2                        Mixed       Very Positive   \n3                Very Positive       Very Positive   \n4                        Mixed               Mixed   \n...                        ...                 ...   \n71695               No reviews          No reviews   \n71696               No reviews          No reviews   \n71697               No reviews          No reviews   \n71698               No reviews          No reviews   \n71699               No reviews          No reviews   \n\n                                   Recent Reviews Number  \\\n0      - 96% of the 128,900 user reviews in the last ...   \n1      - 89% of the 75,284 user reviews in the last 3...   \n2      - 65% of the 18,581 user reviews in the last 3...   \n3      - 87% of the 4,120 user reviews in the last 30...   \n4      - 49% of the 8,257 user reviews in the last 30...   \n...                                                  ...   \n71695                                  No recent reviews   \n71696                                  No recent reviews   \n71697                                  No recent reviews   \n71698                                  No recent reviews   \n71699                                  No recent reviews   \n\n                                      All Reviews Number  \\\n0      - 94% of the 188,617 user reviews for this gam...   \n1      - 88% of the 7,428,921 user reviews for this g...   \n2      - 80% of the 701,597 user reviews for this gam...   \n3      - 88% of the 123,162 user reviews for this gam...   \n4      - 57% of the 236,876 user reviews for this gam...   \n...                                                  ...   \n71695                                         No reviews   \n71696                                         No reviews   \n71697                                         No reviews   \n71698                                         No reviews   \n71699                                         No reviews   \n\n                                               Developer           Publisher  \\\n0                                         Larian Studios      Larian Studios   \n1                       Valve, Hidden Path Entertainment               Valve   \n2                                  Respawn Entertainment     Electronic Arts   \n3                                       Playground Games   Xbox Game Studios   \n4      Infinity Ward, Raven Software, Beenox, Treyarc...          Activision   \n...                                                  ...                 ...   \n71695                                       Samar Studio        Samar Studio   \n71696                                  Cathedral Studios   Cathedral Studios   \n71697                                        Dojin Otome        Kagura Games   \n71698  Sledgehammer Games, Treyarch, Infinity Ward, B...          Activision   \n71699                                 Cubic Games Studio  Cubic Games Studio   \n\n                                     Supported Languages  \\\n0      ['English', 'French', 'German', 'Spanish - Spa...   \n1      ['English', 'Czech', 'Danish', 'Dutch', 'Finni...   \n2      ['English', 'French', 'Italian', 'German', 'Sp...   \n3      ['English', 'French', 'Italian', 'German', 'Sp...   \n4      ['English', 'French', 'Italian', 'German', 'Sp...   \n...                                                  ...   \n71695  ['English', 'French', 'German', 'Russian', 'Ja...   \n71696  ['English', 'French', 'Italian', 'German', 'Sp...   \n71697      ['English', 'Japanese', 'Simplified Chinese']   \n71698  ['English', 'French', 'Italian', 'German', 'Sp...   \n71699  ['English', 'French', 'German', 'Japanese', 'K...   \n\n                                            Popular Tags  \\\n0      ['RPG', 'Choices Matter', 'Character Customiza...   \n1      ['FPS', 'Shooter', 'Multiplayer', 'Competitive...   \n2      ['Free to Play', 'Multiplayer', 'Battle Royale...   \n3      ['Racing', 'Open World', 'Driving', 'Multiplay...   \n4      ['FPS', 'Multiplayer', 'Shooter', 'Action', 'S...   \n...                                                  ...   \n71695  ['Early Access', 'Survival', 'Building', 'Sand...   \n71696  ['Early Access', 'Horror', 'FPS', 'Shooter', '...   \n71697  ['Casual', 'RPG', 'Simulation', 'Sexual Conten...   \n71698  ['Action', 'FPS', 'Shooter', 'First-Person', '...   \n71699  ['Action', 'Shooter', 'Pixel Graphics', 'Battl...   \n\n                                           Game Features  \\\n0      ['Single-player', 'Online Co-op', 'LAN Co-op',...   \n1      ['Steam Achievements', 'Full controller suppor...   \n2      ['Online PvP', 'Online Co-op', 'Steam Achievem...   \n3      ['Single-player', 'Online PvP', 'Online Co-op'...   \n4      ['Single-player', 'Online PvP', 'Online Co-op'...   \n...                                                  ...   \n71695  ['Single-player', 'MMO', 'Online PvP', 'LAN Pv...   \n71696  ['Single-player', 'Online PvP', 'Online Co-op'...   \n71697                                  ['Single-player']   \n71698  ['Single-player', 'Online PvP', 'Online Co-op'...   \n71699  ['Single-player', 'Online PvP', 'Cross-Platfor...   \n\n                                    Minimum Requirements  \n0      Requires a 64-bit processor and operating syst...  \n1      OS: |  Windows® 7/Vista/XP | Processor: |  Int...  \n2      Requires a 64-bit processor and operating syst...  \n3      Requires a 64-bit processor and operating syst...  \n4      Requires a 64-bit processor and operating syst...  \n...                                                  ...  \n71695  OS: |  Requires a 64-bit processor and operati...  \n71696  OS: |  Windows 10 or higher | Processor: |  In...  \n71697  OS: |  Windows® 7/8/8.1/10/11 | Processor: |  ...  \n71698  Requires a 64-bit processor and operating syst...  \n71699  OS: |  Windows 10 (x64) - Windows 11 (x64) | P...  \n\n[71700 rows x 17 columns]",
      "text/html": "<div>\n<style scoped>\n    .dataframe tbody tr th:only-of-type {\n        vertical-align: middle;\n    }\n\n    .dataframe tbody tr th {\n        vertical-align: top;\n    }\n\n    .dataframe thead th {\n        text-align: right;\n    }\n</style>\n<table border=\"1\" class=\"dataframe\">\n  <thead>\n    <tr style=\"text-align: right;\">\n      <th></th>\n      <th>Title</th>\n      <th>Original Price</th>\n      <th>Discounted Price</th>\n      <th>Discounted Amount</th>\n      <th>Release Date</th>\n      <th>Link</th>\n      <th>Game Description</th>\n      <th>Recent Reviews Summary</th>\n      <th>All Reviews Summary</th>\n      <th>Recent Reviews Number</th>\n      <th>All Reviews Number</th>\n      <th>Developer</th>\n      <th>Publisher</th>\n      <th>Supported Languages</th>\n      <th>Popular Tags</th>\n      <th>Game Features</th>\n      <th>Minimum Requirements</th>\n    </tr>\n  </thead>\n  <tbody>\n    <tr>\n      <th>0</th>\n      <td>Baldur's Gate 3</td>\n      <td>29.99</td>\n      <td>29.99</td>\n      <td>0.00</td>\n      <td>2023-08-03</td>\n      <td>https://store.steampowered.com/app/1086940/Bal...</td>\n      <td>Baldur’s Gate 3 is a story-rich, party-based R...</td>\n      <td>Overwhelmingly Positive</td>\n      <td>Very Positive</td>\n      <td>- 96% of the 128,900 user reviews in the last ...</td>\n      <td>- 94% of the 188,617 user reviews for this gam...</td>\n      <td>Larian Studios</td>\n      <td>Larian Studios</td>\n      <td>['English', 'French', 'German', 'Spanish - Spa...</td>\n      <td>['RPG', 'Choices Matter', 'Character Customiza...</td>\n      <td>['Single-player', 'Online Co-op', 'LAN Co-op',...</td>\n      <td>Requires a 64-bit processor and operating syst...</td>\n    </tr>\n    <tr>\n      <th>1</th>\n      <td>Counter-Strike: Global Offensive</td>\n      <td>14.99</td>\n      <td>14.99</td>\n      <td>0.00</td>\n      <td>2012-08-21</td>\n      <td>https://store.steampowered.com/app/730/Counter...</td>\n      <td>Counter-Strike: Global Offensive (CS: GO) expa...</td>\n      <td>Very Positive</td>\n      <td>Very Positive</td>\n      <td>- 89% of the 75,284 user reviews in the last 3...</td>\n      <td>- 88% of the 7,428,921 user reviews for this g...</td>\n      <td>Valve, Hidden Path Entertainment</td>\n      <td>Valve</td>\n      <td>['English', 'Czech', 'Danish', 'Dutch', 'Finni...</td>\n      <td>['FPS', 'Shooter', 'Multiplayer', 'Competitive...</td>\n      <td>['Steam Achievements', 'Full controller suppor...</td>\n      <td>OS: |  Windows® 7/Vista/XP | Processor: |  Int...</td>\n    </tr>\n    <tr>\n      <th>2</th>\n      <td>Apex Legends™</td>\n      <td>0.00</td>\n      <td>0.00</td>\n      <td>0.00</td>\n      <td>2020-11-04</td>\n      <td>https://store.steampowered.com/app/1172470/Ape...</td>\n      <td>Apex Legends is the award-winning, free-to-pla...</td>\n      <td>Mixed</td>\n      <td>Very Positive</td>\n      <td>- 65% of the 18,581 user reviews in the last 3...</td>\n      <td>- 80% of the 701,597 user reviews for this gam...</td>\n      <td>Respawn Entertainment</td>\n      <td>Electronic Arts</td>\n      <td>['English', 'French', 'Italian', 'German', 'Sp...</td>\n      <td>['Free to Play', 'Multiplayer', 'Battle Royale...</td>\n      <td>['Online PvP', 'Online Co-op', 'Steam Achievem...</td>\n      <td>Requires a 64-bit processor and operating syst...</td>\n    </tr>\n    <tr>\n      <th>3</th>\n      <td>Forza Horizon 5</td>\n      <td>34.78</td>\n      <td>17.39</td>\n      <td>17.39</td>\n      <td>2021-11-08</td>\n      <td>https://store.steampowered.com/app/1551360/For...</td>\n      <td>Your Ultimate Horizon Adventure awaits! Explor...</td>\n      <td>Very Positive</td>\n      <td>Very Positive</td>\n      <td>- 87% of the 4,120 user reviews in the last 30...</td>\n      <td>- 88% of the 123,162 user reviews for this gam...</td>\n      <td>Playground Games</td>\n      <td>Xbox Game Studios</td>\n      <td>['English', 'French', 'Italian', 'German', 'Sp...</td>\n      <td>['Racing', 'Open World', 'Driving', 'Multiplay...</td>\n      <td>['Single-player', 'Online PvP', 'Online Co-op'...</td>\n      <td>Requires a 64-bit processor and operating syst...</td>\n    </tr>\n    <tr>\n      <th>4</th>\n      <td>Call of Duty®</td>\n      <td>0.00</td>\n      <td>0.00</td>\n      <td>0.00</td>\n      <td>2022-10-27</td>\n      <td>https://store.steampowered.com/app/1938090/Cal...</td>\n      <td>Welcome to Call of Duty® HQ, the home of Call ...</td>\n      <td>Mixed</td>\n      <td>Mixed</td>\n      <td>- 49% of the 8,257 user reviews in the last 30...</td>\n      <td>- 57% of the 236,876 user reviews for this gam...</td>\n      <td>Infinity Ward, Raven Software, Beenox, Treyarc...</td>\n      <td>Activision</td>\n      <td>['English', 'French', 'Italian', 'German', 'Sp...</td>\n      <td>['FPS', 'Multiplayer', 'Shooter', 'Action', 'S...</td>\n      <td>['Single-player', 'Online PvP', 'Online Co-op'...</td>\n      <td>Requires a 64-bit processor and operating syst...</td>\n    </tr>\n    <tr>\n      <th>...</th>\n      <td>...</td>\n      <td>...</td>\n      <td>...</td>\n      <td>...</td>\n      <td>...</td>\n      <td>...</td>\n      <td>...</td>\n      <td>...</td>\n      <td>...</td>\n      <td>...</td>\n      <td>...</td>\n      <td>...</td>\n      <td>...</td>\n      <td>...</td>\n      <td>...</td>\n      <td>...</td>\n      <td>...</td>\n    </tr>\n    <tr>\n      <th>71695</th>\n      <td>The Front</td>\n      <td>0.00</td>\n      <td>0.00</td>\n      <td>0.00</td>\n      <td>NaT</td>\n      <td>https://store.steampowered.com/app/2285150/The...</td>\n      <td>The Front is a survival-open-world-crafting (S...</td>\n      <td>No reviews</td>\n      <td>No reviews</td>\n      <td>No recent reviews</td>\n      <td>No reviews</td>\n      <td>Samar Studio</td>\n      <td>Samar Studio</td>\n      <td>['English', 'French', 'German', 'Russian', 'Ja...</td>\n      <td>['Early Access', 'Survival', 'Building', 'Sand...</td>\n      <td>['Single-player', 'MMO', 'Online PvP', 'LAN Pv...</td>\n      <td>OS: |  Requires a 64-bit processor and operati...</td>\n    </tr>\n    <tr>\n      <th>71696</th>\n      <td>The Bornless</td>\n      <td>0.00</td>\n      <td>0.00</td>\n      <td>0.00</td>\n      <td>NaT</td>\n      <td>https://store.steampowered.com/app/2411280/The...</td>\n      <td>Welcome to The Bornless, an action horror FPS....</td>\n      <td>No reviews</td>\n      <td>No reviews</td>\n      <td>No recent reviews</td>\n      <td>No reviews</td>\n      <td>Cathedral Studios</td>\n      <td>Cathedral Studios</td>\n      <td>['English', 'French', 'Italian', 'German', 'Sp...</td>\n      <td>['Early Access', 'Horror', 'FPS', 'Shooter', '...</td>\n      <td>['Single-player', 'Online PvP', 'Online Co-op'...</td>\n      <td>OS: |  Windows 10 or higher | Processor: |  In...</td>\n    </tr>\n    <tr>\n      <th>71697</th>\n      <td>Winter Memories</td>\n      <td>0.00</td>\n      <td>0.00</td>\n      <td>0.00</td>\n      <td>NaT</td>\n      <td>https://store.steampowered.com/app/2495450/Win...</td>\n      <td>After the unforgettable summer memories you’ve...</td>\n      <td>No reviews</td>\n      <td>No reviews</td>\n      <td>No recent reviews</td>\n      <td>No reviews</td>\n      <td>Dojin Otome</td>\n      <td>Kagura Games</td>\n      <td>['English', 'Japanese', 'Simplified Chinese']</td>\n      <td>['Casual', 'RPG', 'Simulation', 'Sexual Conten...</td>\n      <td>['Single-player']</td>\n      <td>OS: |  Windows® 7/8/8.1/10/11 | Processor: |  ...</td>\n    </tr>\n    <tr>\n      <th>71698</th>\n      <td>Call of Duty®: Modern Warfare® III</td>\n      <td>69.99</td>\n      <td>69.99</td>\n      <td>0.00</td>\n      <td>NaT</td>\n      <td>https://store.steampowered.com/app/2519060/Cal...</td>\n      <td>In the direct sequel to the record-breaking Ca...</td>\n      <td>No reviews</td>\n      <td>No reviews</td>\n      <td>No recent reviews</td>\n      <td>No reviews</td>\n      <td>Sledgehammer Games, Treyarch, Infinity Ward, B...</td>\n      <td>Activision</td>\n      <td>['English', 'French', 'Italian', 'German', 'Sp...</td>\n      <td>['Action', 'FPS', 'Shooter', 'First-Person', '...</td>\n      <td>['Single-player', 'Online PvP', 'Online Co-op'...</td>\n      <td>Requires a 64-bit processor and operating syst...</td>\n    </tr>\n    <tr>\n      <th>71699</th>\n      <td>Pixel Gun 3D: PC Edition</td>\n      <td>0.00</td>\n      <td>0.00</td>\n      <td>0.00</td>\n      <td>NaT</td>\n      <td>https://store.steampowered.com/app/2524890/Pix...</td>\n      <td>Pixel Gun 3D is a near complete PC port of a l...</td>\n      <td>No reviews</td>\n      <td>No reviews</td>\n      <td>No recent reviews</td>\n      <td>No reviews</td>\n      <td>Cubic Games Studio</td>\n      <td>Cubic Games Studio</td>\n      <td>['English', 'French', 'German', 'Japanese', 'K...</td>\n      <td>['Action', 'Shooter', 'Pixel Graphics', 'Battl...</td>\n      <td>['Single-player', 'Online PvP', 'Cross-Platfor...</td>\n      <td>OS: |  Windows 10 (x64) - Windows 11 (x64) | P...</td>\n    </tr>\n  </tbody>\n</table>\n<p>71700 rows × 17 columns</p>\n</div>"
     },
     "execution_count": 47,
     "metadata": {},
     "output_type": "execute_result"
    }
   ],
   "source": [
    "steam_data"
   ],
   "metadata": {
    "collapsed": false,
    "ExecuteTime": {
     "end_time": "2024-04-05T19:46:46.262763Z",
     "start_time": "2024-04-05T19:46:46.250388Z"
    }
   },
   "id": "eee0aa48f1af1fb9",
   "execution_count": 47
  },
  {
   "cell_type": "markdown",
   "source": [
    "# 9. Find out how many unique developers are in the dataset."
   ],
   "metadata": {
    "collapsed": false
   },
   "id": "a9cd81b26de17554"
  },
  {
   "cell_type": "code",
   "outputs": [
    {
     "data": {
      "text/plain": "45354"
     },
     "execution_count": 48,
     "metadata": {},
     "output_type": "execute_result"
    }
   ],
   "source": [
    "steam_data['Developer'].nunique()"
   ],
   "metadata": {
    "collapsed": false,
    "ExecuteTime": {
     "end_time": "2024-04-05T19:46:46.276205Z",
     "start_time": "2024-04-05T19:46:46.263772Z"
    }
   },
   "id": "304d4ca0ea32eab7",
   "execution_count": 48
  },
  {
   "cell_type": "markdown",
   "source": [
    "# 10. List the top 5 developers with the most games listed."
   ],
   "metadata": {
    "collapsed": false
   },
   "id": "82da40846c8486c7"
  },
  {
   "cell_type": "code",
   "outputs": [
    {
     "data": {
      "text/plain": "                                    Title  Original Price  Discounted Price  \\\n0                         Baldur's Gate 3           29.99             29.99   \n1        Counter-Strike: Global Offensive           14.99             14.99   \n2                           Apex Legends™            0.00              0.00   \n3                         Forza Horizon 5           34.78             17.39   \n4                           Call of Duty®            0.00              0.00   \n...                                   ...             ...               ...   \n71695                           The Front            0.00              0.00   \n71696                        The Bornless            0.00              0.00   \n71697                     Winter Memories            0.00              0.00   \n71698  Call of Duty®: Modern Warfare® III           69.99             69.99   \n71699            Pixel Gun 3D: PC Edition            0.00              0.00   \n\n       Discounted Amount Release Date  \\\n0                   0.00   2023-08-03   \n1                   0.00   2012-08-21   \n2                   0.00   2020-11-04   \n3                  17.39   2021-11-08   \n4                   0.00   2022-10-27   \n...                  ...          ...   \n71695               0.00          NaT   \n71696               0.00          NaT   \n71697               0.00          NaT   \n71698               0.00          NaT   \n71699               0.00          NaT   \n\n                                                    Link  \\\n0      https://store.steampowered.com/app/1086940/Bal...   \n1      https://store.steampowered.com/app/730/Counter...   \n2      https://store.steampowered.com/app/1172470/Ape...   \n3      https://store.steampowered.com/app/1551360/For...   \n4      https://store.steampowered.com/app/1938090/Cal...   \n...                                                  ...   \n71695  https://store.steampowered.com/app/2285150/The...   \n71696  https://store.steampowered.com/app/2411280/The...   \n71697  https://store.steampowered.com/app/2495450/Win...   \n71698  https://store.steampowered.com/app/2519060/Cal...   \n71699  https://store.steampowered.com/app/2524890/Pix...   \n\n                                        Game Description  \\\n0      Baldur’s Gate 3 is a story-rich, party-based R...   \n1      Counter-Strike: Global Offensive (CS: GO) expa...   \n2      Apex Legends is the award-winning, free-to-pla...   \n3      Your Ultimate Horizon Adventure awaits! Explor...   \n4      Welcome to Call of Duty® HQ, the home of Call ...   \n...                                                  ...   \n71695  The Front is a survival-open-world-crafting (S...   \n71696  Welcome to The Bornless, an action horror FPS....   \n71697  After the unforgettable summer memories you’ve...   \n71698  In the direct sequel to the record-breaking Ca...   \n71699  Pixel Gun 3D is a near complete PC port of a l...   \n\n        Recent Reviews Summary All Reviews Summary  \\\n0      Overwhelmingly Positive       Very Positive   \n1                Very Positive       Very Positive   \n2                        Mixed       Very Positive   \n3                Very Positive       Very Positive   \n4                        Mixed               Mixed   \n...                        ...                 ...   \n71695               No reviews          No reviews   \n71696               No reviews          No reviews   \n71697               No reviews          No reviews   \n71698               No reviews          No reviews   \n71699               No reviews          No reviews   \n\n                                   Recent Reviews Number  \\\n0      - 96% of the 128,900 user reviews in the last ...   \n1      - 89% of the 75,284 user reviews in the last 3...   \n2      - 65% of the 18,581 user reviews in the last 3...   \n3      - 87% of the 4,120 user reviews in the last 30...   \n4      - 49% of the 8,257 user reviews in the last 30...   \n...                                                  ...   \n71695                                  No recent reviews   \n71696                                  No recent reviews   \n71697                                  No recent reviews   \n71698                                  No recent reviews   \n71699                                  No recent reviews   \n\n                                      All Reviews Number  \\\n0      - 94% of the 188,617 user reviews for this gam...   \n1      - 88% of the 7,428,921 user reviews for this g...   \n2      - 80% of the 701,597 user reviews for this gam...   \n3      - 88% of the 123,162 user reviews for this gam...   \n4      - 57% of the 236,876 user reviews for this gam...   \n...                                                  ...   \n71695                                         No reviews   \n71696                                         No reviews   \n71697                                         No reviews   \n71698                                         No reviews   \n71699                                         No reviews   \n\n                                               Developer           Publisher  \\\n0                                         Larian Studios      Larian Studios   \n1                       Valve, Hidden Path Entertainment               Valve   \n2                                  Respawn Entertainment     Electronic Arts   \n3                                       Playground Games   Xbox Game Studios   \n4      Infinity Ward, Raven Software, Beenox, Treyarc...          Activision   \n...                                                  ...                 ...   \n71695                                       Samar Studio        Samar Studio   \n71696                                  Cathedral Studios   Cathedral Studios   \n71697                                        Dojin Otome        Kagura Games   \n71698  Sledgehammer Games, Treyarch, Infinity Ward, B...          Activision   \n71699                                 Cubic Games Studio  Cubic Games Studio   \n\n                                     Supported Languages  \\\n0      ['English', 'French', 'German', 'Spanish - Spa...   \n1      ['English', 'Czech', 'Danish', 'Dutch', 'Finni...   \n2      ['English', 'French', 'Italian', 'German', 'Sp...   \n3      ['English', 'French', 'Italian', 'German', 'Sp...   \n4      ['English', 'French', 'Italian', 'German', 'Sp...   \n...                                                  ...   \n71695  ['English', 'French', 'German', 'Russian', 'Ja...   \n71696  ['English', 'French', 'Italian', 'German', 'Sp...   \n71697      ['English', 'Japanese', 'Simplified Chinese']   \n71698  ['English', 'French', 'Italian', 'German', 'Sp...   \n71699  ['English', 'French', 'German', 'Japanese', 'K...   \n\n                                            Popular Tags  \\\n0      ['RPG', 'Choices Matter', 'Character Customiza...   \n1      ['FPS', 'Shooter', 'Multiplayer', 'Competitive...   \n2      ['Free to Play', 'Multiplayer', 'Battle Royale...   \n3      ['Racing', 'Open World', 'Driving', 'Multiplay...   \n4      ['FPS', 'Multiplayer', 'Shooter', 'Action', 'S...   \n...                                                  ...   \n71695  ['Early Access', 'Survival', 'Building', 'Sand...   \n71696  ['Early Access', 'Horror', 'FPS', 'Shooter', '...   \n71697  ['Casual', 'RPG', 'Simulation', 'Sexual Conten...   \n71698  ['Action', 'FPS', 'Shooter', 'First-Person', '...   \n71699  ['Action', 'Shooter', 'Pixel Graphics', 'Battl...   \n\n                                           Game Features  \\\n0      ['Single-player', 'Online Co-op', 'LAN Co-op',...   \n1      ['Steam Achievements', 'Full controller suppor...   \n2      ['Online PvP', 'Online Co-op', 'Steam Achievem...   \n3      ['Single-player', 'Online PvP', 'Online Co-op'...   \n4      ['Single-player', 'Online PvP', 'Online Co-op'...   \n...                                                  ...   \n71695  ['Single-player', 'MMO', 'Online PvP', 'LAN Pv...   \n71696  ['Single-player', 'Online PvP', 'Online Co-op'...   \n71697                                  ['Single-player']   \n71698  ['Single-player', 'Online PvP', 'Online Co-op'...   \n71699  ['Single-player', 'Online PvP', 'Cross-Platfor...   \n\n                                    Minimum Requirements  \n0      Requires a 64-bit processor and operating syst...  \n1      OS: |  Windows® 7/Vista/XP | Processor: |  Int...  \n2      Requires a 64-bit processor and operating syst...  \n3      Requires a 64-bit processor and operating syst...  \n4      Requires a 64-bit processor and operating syst...  \n...                                                  ...  \n71695  OS: |  Requires a 64-bit processor and operati...  \n71696  OS: |  Windows 10 or higher | Processor: |  In...  \n71697  OS: |  Windows® 7/8/8.1/10/11 | Processor: |  ...  \n71698  Requires a 64-bit processor and operating syst...  \n71699  OS: |  Windows 10 (x64) - Windows 11 (x64) | P...  \n\n[71700 rows x 17 columns]",
      "text/html": "<div>\n<style scoped>\n    .dataframe tbody tr th:only-of-type {\n        vertical-align: middle;\n    }\n\n    .dataframe tbody tr th {\n        vertical-align: top;\n    }\n\n    .dataframe thead th {\n        text-align: right;\n    }\n</style>\n<table border=\"1\" class=\"dataframe\">\n  <thead>\n    <tr style=\"text-align: right;\">\n      <th></th>\n      <th>Title</th>\n      <th>Original Price</th>\n      <th>Discounted Price</th>\n      <th>Discounted Amount</th>\n      <th>Release Date</th>\n      <th>Link</th>\n      <th>Game Description</th>\n      <th>Recent Reviews Summary</th>\n      <th>All Reviews Summary</th>\n      <th>Recent Reviews Number</th>\n      <th>All Reviews Number</th>\n      <th>Developer</th>\n      <th>Publisher</th>\n      <th>Supported Languages</th>\n      <th>Popular Tags</th>\n      <th>Game Features</th>\n      <th>Minimum Requirements</th>\n    </tr>\n  </thead>\n  <tbody>\n    <tr>\n      <th>0</th>\n      <td>Baldur's Gate 3</td>\n      <td>29.99</td>\n      <td>29.99</td>\n      <td>0.00</td>\n      <td>2023-08-03</td>\n      <td>https://store.steampowered.com/app/1086940/Bal...</td>\n      <td>Baldur’s Gate 3 is a story-rich, party-based R...</td>\n      <td>Overwhelmingly Positive</td>\n      <td>Very Positive</td>\n      <td>- 96% of the 128,900 user reviews in the last ...</td>\n      <td>- 94% of the 188,617 user reviews for this gam...</td>\n      <td>Larian Studios</td>\n      <td>Larian Studios</td>\n      <td>['English', 'French', 'German', 'Spanish - Spa...</td>\n      <td>['RPG', 'Choices Matter', 'Character Customiza...</td>\n      <td>['Single-player', 'Online Co-op', 'LAN Co-op',...</td>\n      <td>Requires a 64-bit processor and operating syst...</td>\n    </tr>\n    <tr>\n      <th>1</th>\n      <td>Counter-Strike: Global Offensive</td>\n      <td>14.99</td>\n      <td>14.99</td>\n      <td>0.00</td>\n      <td>2012-08-21</td>\n      <td>https://store.steampowered.com/app/730/Counter...</td>\n      <td>Counter-Strike: Global Offensive (CS: GO) expa...</td>\n      <td>Very Positive</td>\n      <td>Very Positive</td>\n      <td>- 89% of the 75,284 user reviews in the last 3...</td>\n      <td>- 88% of the 7,428,921 user reviews for this g...</td>\n      <td>Valve, Hidden Path Entertainment</td>\n      <td>Valve</td>\n      <td>['English', 'Czech', 'Danish', 'Dutch', 'Finni...</td>\n      <td>['FPS', 'Shooter', 'Multiplayer', 'Competitive...</td>\n      <td>['Steam Achievements', 'Full controller suppor...</td>\n      <td>OS: |  Windows® 7/Vista/XP | Processor: |  Int...</td>\n    </tr>\n    <tr>\n      <th>2</th>\n      <td>Apex Legends™</td>\n      <td>0.00</td>\n      <td>0.00</td>\n      <td>0.00</td>\n      <td>2020-11-04</td>\n      <td>https://store.steampowered.com/app/1172470/Ape...</td>\n      <td>Apex Legends is the award-winning, free-to-pla...</td>\n      <td>Mixed</td>\n      <td>Very Positive</td>\n      <td>- 65% of the 18,581 user reviews in the last 3...</td>\n      <td>- 80% of the 701,597 user reviews for this gam...</td>\n      <td>Respawn Entertainment</td>\n      <td>Electronic Arts</td>\n      <td>['English', 'French', 'Italian', 'German', 'Sp...</td>\n      <td>['Free to Play', 'Multiplayer', 'Battle Royale...</td>\n      <td>['Online PvP', 'Online Co-op', 'Steam Achievem...</td>\n      <td>Requires a 64-bit processor and operating syst...</td>\n    </tr>\n    <tr>\n      <th>3</th>\n      <td>Forza Horizon 5</td>\n      <td>34.78</td>\n      <td>17.39</td>\n      <td>17.39</td>\n      <td>2021-11-08</td>\n      <td>https://store.steampowered.com/app/1551360/For...</td>\n      <td>Your Ultimate Horizon Adventure awaits! Explor...</td>\n      <td>Very Positive</td>\n      <td>Very Positive</td>\n      <td>- 87% of the 4,120 user reviews in the last 30...</td>\n      <td>- 88% of the 123,162 user reviews for this gam...</td>\n      <td>Playground Games</td>\n      <td>Xbox Game Studios</td>\n      <td>['English', 'French', 'Italian', 'German', 'Sp...</td>\n      <td>['Racing', 'Open World', 'Driving', 'Multiplay...</td>\n      <td>['Single-player', 'Online PvP', 'Online Co-op'...</td>\n      <td>Requires a 64-bit processor and operating syst...</td>\n    </tr>\n    <tr>\n      <th>4</th>\n      <td>Call of Duty®</td>\n      <td>0.00</td>\n      <td>0.00</td>\n      <td>0.00</td>\n      <td>2022-10-27</td>\n      <td>https://store.steampowered.com/app/1938090/Cal...</td>\n      <td>Welcome to Call of Duty® HQ, the home of Call ...</td>\n      <td>Mixed</td>\n      <td>Mixed</td>\n      <td>- 49% of the 8,257 user reviews in the last 30...</td>\n      <td>- 57% of the 236,876 user reviews for this gam...</td>\n      <td>Infinity Ward, Raven Software, Beenox, Treyarc...</td>\n      <td>Activision</td>\n      <td>['English', 'French', 'Italian', 'German', 'Sp...</td>\n      <td>['FPS', 'Multiplayer', 'Shooter', 'Action', 'S...</td>\n      <td>['Single-player', 'Online PvP', 'Online Co-op'...</td>\n      <td>Requires a 64-bit processor and operating syst...</td>\n    </tr>\n    <tr>\n      <th>...</th>\n      <td>...</td>\n      <td>...</td>\n      <td>...</td>\n      <td>...</td>\n      <td>...</td>\n      <td>...</td>\n      <td>...</td>\n      <td>...</td>\n      <td>...</td>\n      <td>...</td>\n      <td>...</td>\n      <td>...</td>\n      <td>...</td>\n      <td>...</td>\n      <td>...</td>\n      <td>...</td>\n      <td>...</td>\n    </tr>\n    <tr>\n      <th>71695</th>\n      <td>The Front</td>\n      <td>0.00</td>\n      <td>0.00</td>\n      <td>0.00</td>\n      <td>NaT</td>\n      <td>https://store.steampowered.com/app/2285150/The...</td>\n      <td>The Front is a survival-open-world-crafting (S...</td>\n      <td>No reviews</td>\n      <td>No reviews</td>\n      <td>No recent reviews</td>\n      <td>No reviews</td>\n      <td>Samar Studio</td>\n      <td>Samar Studio</td>\n      <td>['English', 'French', 'German', 'Russian', 'Ja...</td>\n      <td>['Early Access', 'Survival', 'Building', 'Sand...</td>\n      <td>['Single-player', 'MMO', 'Online PvP', 'LAN Pv...</td>\n      <td>OS: |  Requires a 64-bit processor and operati...</td>\n    </tr>\n    <tr>\n      <th>71696</th>\n      <td>The Bornless</td>\n      <td>0.00</td>\n      <td>0.00</td>\n      <td>0.00</td>\n      <td>NaT</td>\n      <td>https://store.steampowered.com/app/2411280/The...</td>\n      <td>Welcome to The Bornless, an action horror FPS....</td>\n      <td>No reviews</td>\n      <td>No reviews</td>\n      <td>No recent reviews</td>\n      <td>No reviews</td>\n      <td>Cathedral Studios</td>\n      <td>Cathedral Studios</td>\n      <td>['English', 'French', 'Italian', 'German', 'Sp...</td>\n      <td>['Early Access', 'Horror', 'FPS', 'Shooter', '...</td>\n      <td>['Single-player', 'Online PvP', 'Online Co-op'...</td>\n      <td>OS: |  Windows 10 or higher | Processor: |  In...</td>\n    </tr>\n    <tr>\n      <th>71697</th>\n      <td>Winter Memories</td>\n      <td>0.00</td>\n      <td>0.00</td>\n      <td>0.00</td>\n      <td>NaT</td>\n      <td>https://store.steampowered.com/app/2495450/Win...</td>\n      <td>After the unforgettable summer memories you’ve...</td>\n      <td>No reviews</td>\n      <td>No reviews</td>\n      <td>No recent reviews</td>\n      <td>No reviews</td>\n      <td>Dojin Otome</td>\n      <td>Kagura Games</td>\n      <td>['English', 'Japanese', 'Simplified Chinese']</td>\n      <td>['Casual', 'RPG', 'Simulation', 'Sexual Conten...</td>\n      <td>['Single-player']</td>\n      <td>OS: |  Windows® 7/8/8.1/10/11 | Processor: |  ...</td>\n    </tr>\n    <tr>\n      <th>71698</th>\n      <td>Call of Duty®: Modern Warfare® III</td>\n      <td>69.99</td>\n      <td>69.99</td>\n      <td>0.00</td>\n      <td>NaT</td>\n      <td>https://store.steampowered.com/app/2519060/Cal...</td>\n      <td>In the direct sequel to the record-breaking Ca...</td>\n      <td>No reviews</td>\n      <td>No reviews</td>\n      <td>No recent reviews</td>\n      <td>No reviews</td>\n      <td>Sledgehammer Games, Treyarch, Infinity Ward, B...</td>\n      <td>Activision</td>\n      <td>['English', 'French', 'Italian', 'German', 'Sp...</td>\n      <td>['Action', 'FPS', 'Shooter', 'First-Person', '...</td>\n      <td>['Single-player', 'Online PvP', 'Online Co-op'...</td>\n      <td>Requires a 64-bit processor and operating syst...</td>\n    </tr>\n    <tr>\n      <th>71699</th>\n      <td>Pixel Gun 3D: PC Edition</td>\n      <td>0.00</td>\n      <td>0.00</td>\n      <td>0.00</td>\n      <td>NaT</td>\n      <td>https://store.steampowered.com/app/2524890/Pix...</td>\n      <td>Pixel Gun 3D is a near complete PC port of a l...</td>\n      <td>No reviews</td>\n      <td>No reviews</td>\n      <td>No recent reviews</td>\n      <td>No reviews</td>\n      <td>Cubic Games Studio</td>\n      <td>Cubic Games Studio</td>\n      <td>['English', 'French', 'German', 'Japanese', 'K...</td>\n      <td>['Action', 'Shooter', 'Pixel Graphics', 'Battl...</td>\n      <td>['Single-player', 'Online PvP', 'Cross-Platfor...</td>\n      <td>OS: |  Windows 10 (x64) - Windows 11 (x64) | P...</td>\n    </tr>\n  </tbody>\n</table>\n<p>71700 rows × 17 columns</p>\n</div>"
     },
     "execution_count": 49,
     "metadata": {},
     "output_type": "execute_result"
    }
   ],
   "source": [
    "steam_data"
   ],
   "metadata": {
    "collapsed": false,
    "ExecuteTime": {
     "end_time": "2024-04-05T19:46:46.289278Z",
     "start_time": "2024-04-05T19:46:46.277216Z"
    }
   },
   "id": "878b64b0302e86ce",
   "execution_count": 49
  },
  {
   "cell_type": "code",
   "outputs": [
    {
     "data": {
      "text/plain": "Developer\nUnknown                     221\nChoice of Games             162\nCreobit                     136\nLaush Dmitriy Sergeevich    119\nBoogygames Studios          106\nName: Title, dtype: int64"
     },
     "execution_count": 50,
     "metadata": {},
     "output_type": "execute_result"
    }
   ],
   "source": [
    "steam_data.groupby('Developer')['Title'].count().sort_values(ascending=False).head()"
   ],
   "metadata": {
    "collapsed": false,
    "ExecuteTime": {
     "end_time": "2024-04-05T19:46:46.334153Z",
     "start_time": "2024-04-05T19:46:46.290285Z"
    }
   },
   "id": "3ce11167f2f1315f",
   "execution_count": 50
  },
  {
   "cell_type": "markdown",
   "source": [
    "# 11. Identify how many games have 'Multiplayer' as one of the popular tags."
   ],
   "metadata": {
    "collapsed": false
   },
   "id": "294dfdf1aeabe732"
  },
  {
   "cell_type": "code",
   "outputs": [
    {
     "data": {
      "text/plain": "                                    Title  Original Price  Discounted Price  \\\n0                         Baldur's Gate 3           29.99             29.99   \n1        Counter-Strike: Global Offensive           14.99             14.99   \n2                           Apex Legends™            0.00              0.00   \n3                         Forza Horizon 5           34.78             17.39   \n4                           Call of Duty®            0.00              0.00   \n...                                   ...             ...               ...   \n71695                           The Front            0.00              0.00   \n71696                        The Bornless            0.00              0.00   \n71697                     Winter Memories            0.00              0.00   \n71698  Call of Duty®: Modern Warfare® III           69.99             69.99   \n71699            Pixel Gun 3D: PC Edition            0.00              0.00   \n\n       Discounted Amount Release Date  \\\n0                   0.00   2023-08-03   \n1                   0.00   2012-08-21   \n2                   0.00   2020-11-04   \n3                  17.39   2021-11-08   \n4                   0.00   2022-10-27   \n...                  ...          ...   \n71695               0.00          NaT   \n71696               0.00          NaT   \n71697               0.00          NaT   \n71698               0.00          NaT   \n71699               0.00          NaT   \n\n                                                    Link  \\\n0      https://store.steampowered.com/app/1086940/Bal...   \n1      https://store.steampowered.com/app/730/Counter...   \n2      https://store.steampowered.com/app/1172470/Ape...   \n3      https://store.steampowered.com/app/1551360/For...   \n4      https://store.steampowered.com/app/1938090/Cal...   \n...                                                  ...   \n71695  https://store.steampowered.com/app/2285150/The...   \n71696  https://store.steampowered.com/app/2411280/The...   \n71697  https://store.steampowered.com/app/2495450/Win...   \n71698  https://store.steampowered.com/app/2519060/Cal...   \n71699  https://store.steampowered.com/app/2524890/Pix...   \n\n                                        Game Description  \\\n0      Baldur’s Gate 3 is a story-rich, party-based R...   \n1      Counter-Strike: Global Offensive (CS: GO) expa...   \n2      Apex Legends is the award-winning, free-to-pla...   \n3      Your Ultimate Horizon Adventure awaits! Explor...   \n4      Welcome to Call of Duty® HQ, the home of Call ...   \n...                                                  ...   \n71695  The Front is a survival-open-world-crafting (S...   \n71696  Welcome to The Bornless, an action horror FPS....   \n71697  After the unforgettable summer memories you’ve...   \n71698  In the direct sequel to the record-breaking Ca...   \n71699  Pixel Gun 3D is a near complete PC port of a l...   \n\n        Recent Reviews Summary All Reviews Summary  \\\n0      Overwhelmingly Positive       Very Positive   \n1                Very Positive       Very Positive   \n2                        Mixed       Very Positive   \n3                Very Positive       Very Positive   \n4                        Mixed               Mixed   \n...                        ...                 ...   \n71695               No reviews          No reviews   \n71696               No reviews          No reviews   \n71697               No reviews          No reviews   \n71698               No reviews          No reviews   \n71699               No reviews          No reviews   \n\n                                   Recent Reviews Number  \\\n0      - 96% of the 128,900 user reviews in the last ...   \n1      - 89% of the 75,284 user reviews in the last 3...   \n2      - 65% of the 18,581 user reviews in the last 3...   \n3      - 87% of the 4,120 user reviews in the last 30...   \n4      - 49% of the 8,257 user reviews in the last 30...   \n...                                                  ...   \n71695                                  No recent reviews   \n71696                                  No recent reviews   \n71697                                  No recent reviews   \n71698                                  No recent reviews   \n71699                                  No recent reviews   \n\n                                      All Reviews Number  \\\n0      - 94% of the 188,617 user reviews for this gam...   \n1      - 88% of the 7,428,921 user reviews for this g...   \n2      - 80% of the 701,597 user reviews for this gam...   \n3      - 88% of the 123,162 user reviews for this gam...   \n4      - 57% of the 236,876 user reviews for this gam...   \n...                                                  ...   \n71695                                         No reviews   \n71696                                         No reviews   \n71697                                         No reviews   \n71698                                         No reviews   \n71699                                         No reviews   \n\n                                               Developer           Publisher  \\\n0                                         Larian Studios      Larian Studios   \n1                       Valve, Hidden Path Entertainment               Valve   \n2                                  Respawn Entertainment     Electronic Arts   \n3                                       Playground Games   Xbox Game Studios   \n4      Infinity Ward, Raven Software, Beenox, Treyarc...          Activision   \n...                                                  ...                 ...   \n71695                                       Samar Studio        Samar Studio   \n71696                                  Cathedral Studios   Cathedral Studios   \n71697                                        Dojin Otome        Kagura Games   \n71698  Sledgehammer Games, Treyarch, Infinity Ward, B...          Activision   \n71699                                 Cubic Games Studio  Cubic Games Studio   \n\n                                     Supported Languages  \\\n0      ['English', 'French', 'German', 'Spanish - Spa...   \n1      ['English', 'Czech', 'Danish', 'Dutch', 'Finni...   \n2      ['English', 'French', 'Italian', 'German', 'Sp...   \n3      ['English', 'French', 'Italian', 'German', 'Sp...   \n4      ['English', 'French', 'Italian', 'German', 'Sp...   \n...                                                  ...   \n71695  ['English', 'French', 'German', 'Russian', 'Ja...   \n71696  ['English', 'French', 'Italian', 'German', 'Sp...   \n71697      ['English', 'Japanese', 'Simplified Chinese']   \n71698  ['English', 'French', 'Italian', 'German', 'Sp...   \n71699  ['English', 'French', 'German', 'Japanese', 'K...   \n\n                                            Popular Tags  \\\n0      ['RPG', 'Choices Matter', 'Character Customiza...   \n1      ['FPS', 'Shooter', 'Multiplayer', 'Competitive...   \n2      ['Free to Play', 'Multiplayer', 'Battle Royale...   \n3      ['Racing', 'Open World', 'Driving', 'Multiplay...   \n4      ['FPS', 'Multiplayer', 'Shooter', 'Action', 'S...   \n...                                                  ...   \n71695  ['Early Access', 'Survival', 'Building', 'Sand...   \n71696  ['Early Access', 'Horror', 'FPS', 'Shooter', '...   \n71697  ['Casual', 'RPG', 'Simulation', 'Sexual Conten...   \n71698  ['Action', 'FPS', 'Shooter', 'First-Person', '...   \n71699  ['Action', 'Shooter', 'Pixel Graphics', 'Battl...   \n\n                                           Game Features  \\\n0      ['Single-player', 'Online Co-op', 'LAN Co-op',...   \n1      ['Steam Achievements', 'Full controller suppor...   \n2      ['Online PvP', 'Online Co-op', 'Steam Achievem...   \n3      ['Single-player', 'Online PvP', 'Online Co-op'...   \n4      ['Single-player', 'Online PvP', 'Online Co-op'...   \n...                                                  ...   \n71695  ['Single-player', 'MMO', 'Online PvP', 'LAN Pv...   \n71696  ['Single-player', 'Online PvP', 'Online Co-op'...   \n71697                                  ['Single-player']   \n71698  ['Single-player', 'Online PvP', 'Online Co-op'...   \n71699  ['Single-player', 'Online PvP', 'Cross-Platfor...   \n\n                                    Minimum Requirements  \n0      Requires a 64-bit processor and operating syst...  \n1      OS: |  Windows® 7/Vista/XP | Processor: |  Int...  \n2      Requires a 64-bit processor and operating syst...  \n3      Requires a 64-bit processor and operating syst...  \n4      Requires a 64-bit processor and operating syst...  \n...                                                  ...  \n71695  OS: |  Requires a 64-bit processor and operati...  \n71696  OS: |  Windows 10 or higher | Processor: |  In...  \n71697  OS: |  Windows® 7/8/8.1/10/11 | Processor: |  ...  \n71698  Requires a 64-bit processor and operating syst...  \n71699  OS: |  Windows 10 (x64) - Windows 11 (x64) | P...  \n\n[71700 rows x 17 columns]",
      "text/html": "<div>\n<style scoped>\n    .dataframe tbody tr th:only-of-type {\n        vertical-align: middle;\n    }\n\n    .dataframe tbody tr th {\n        vertical-align: top;\n    }\n\n    .dataframe thead th {\n        text-align: right;\n    }\n</style>\n<table border=\"1\" class=\"dataframe\">\n  <thead>\n    <tr style=\"text-align: right;\">\n      <th></th>\n      <th>Title</th>\n      <th>Original Price</th>\n      <th>Discounted Price</th>\n      <th>Discounted Amount</th>\n      <th>Release Date</th>\n      <th>Link</th>\n      <th>Game Description</th>\n      <th>Recent Reviews Summary</th>\n      <th>All Reviews Summary</th>\n      <th>Recent Reviews Number</th>\n      <th>All Reviews Number</th>\n      <th>Developer</th>\n      <th>Publisher</th>\n      <th>Supported Languages</th>\n      <th>Popular Tags</th>\n      <th>Game Features</th>\n      <th>Minimum Requirements</th>\n    </tr>\n  </thead>\n  <tbody>\n    <tr>\n      <th>0</th>\n      <td>Baldur's Gate 3</td>\n      <td>29.99</td>\n      <td>29.99</td>\n      <td>0.00</td>\n      <td>2023-08-03</td>\n      <td>https://store.steampowered.com/app/1086940/Bal...</td>\n      <td>Baldur’s Gate 3 is a story-rich, party-based R...</td>\n      <td>Overwhelmingly Positive</td>\n      <td>Very Positive</td>\n      <td>- 96% of the 128,900 user reviews in the last ...</td>\n      <td>- 94% of the 188,617 user reviews for this gam...</td>\n      <td>Larian Studios</td>\n      <td>Larian Studios</td>\n      <td>['English', 'French', 'German', 'Spanish - Spa...</td>\n      <td>['RPG', 'Choices Matter', 'Character Customiza...</td>\n      <td>['Single-player', 'Online Co-op', 'LAN Co-op',...</td>\n      <td>Requires a 64-bit processor and operating syst...</td>\n    </tr>\n    <tr>\n      <th>1</th>\n      <td>Counter-Strike: Global Offensive</td>\n      <td>14.99</td>\n      <td>14.99</td>\n      <td>0.00</td>\n      <td>2012-08-21</td>\n      <td>https://store.steampowered.com/app/730/Counter...</td>\n      <td>Counter-Strike: Global Offensive (CS: GO) expa...</td>\n      <td>Very Positive</td>\n      <td>Very Positive</td>\n      <td>- 89% of the 75,284 user reviews in the last 3...</td>\n      <td>- 88% of the 7,428,921 user reviews for this g...</td>\n      <td>Valve, Hidden Path Entertainment</td>\n      <td>Valve</td>\n      <td>['English', 'Czech', 'Danish', 'Dutch', 'Finni...</td>\n      <td>['FPS', 'Shooter', 'Multiplayer', 'Competitive...</td>\n      <td>['Steam Achievements', 'Full controller suppor...</td>\n      <td>OS: |  Windows® 7/Vista/XP | Processor: |  Int...</td>\n    </tr>\n    <tr>\n      <th>2</th>\n      <td>Apex Legends™</td>\n      <td>0.00</td>\n      <td>0.00</td>\n      <td>0.00</td>\n      <td>2020-11-04</td>\n      <td>https://store.steampowered.com/app/1172470/Ape...</td>\n      <td>Apex Legends is the award-winning, free-to-pla...</td>\n      <td>Mixed</td>\n      <td>Very Positive</td>\n      <td>- 65% of the 18,581 user reviews in the last 3...</td>\n      <td>- 80% of the 701,597 user reviews for this gam...</td>\n      <td>Respawn Entertainment</td>\n      <td>Electronic Arts</td>\n      <td>['English', 'French', 'Italian', 'German', 'Sp...</td>\n      <td>['Free to Play', 'Multiplayer', 'Battle Royale...</td>\n      <td>['Online PvP', 'Online Co-op', 'Steam Achievem...</td>\n      <td>Requires a 64-bit processor and operating syst...</td>\n    </tr>\n    <tr>\n      <th>3</th>\n      <td>Forza Horizon 5</td>\n      <td>34.78</td>\n      <td>17.39</td>\n      <td>17.39</td>\n      <td>2021-11-08</td>\n      <td>https://store.steampowered.com/app/1551360/For...</td>\n      <td>Your Ultimate Horizon Adventure awaits! Explor...</td>\n      <td>Very Positive</td>\n      <td>Very Positive</td>\n      <td>- 87% of the 4,120 user reviews in the last 30...</td>\n      <td>- 88% of the 123,162 user reviews for this gam...</td>\n      <td>Playground Games</td>\n      <td>Xbox Game Studios</td>\n      <td>['English', 'French', 'Italian', 'German', 'Sp...</td>\n      <td>['Racing', 'Open World', 'Driving', 'Multiplay...</td>\n      <td>['Single-player', 'Online PvP', 'Online Co-op'...</td>\n      <td>Requires a 64-bit processor and operating syst...</td>\n    </tr>\n    <tr>\n      <th>4</th>\n      <td>Call of Duty®</td>\n      <td>0.00</td>\n      <td>0.00</td>\n      <td>0.00</td>\n      <td>2022-10-27</td>\n      <td>https://store.steampowered.com/app/1938090/Cal...</td>\n      <td>Welcome to Call of Duty® HQ, the home of Call ...</td>\n      <td>Mixed</td>\n      <td>Mixed</td>\n      <td>- 49% of the 8,257 user reviews in the last 30...</td>\n      <td>- 57% of the 236,876 user reviews for this gam...</td>\n      <td>Infinity Ward, Raven Software, Beenox, Treyarc...</td>\n      <td>Activision</td>\n      <td>['English', 'French', 'Italian', 'German', 'Sp...</td>\n      <td>['FPS', 'Multiplayer', 'Shooter', 'Action', 'S...</td>\n      <td>['Single-player', 'Online PvP', 'Online Co-op'...</td>\n      <td>Requires a 64-bit processor and operating syst...</td>\n    </tr>\n    <tr>\n      <th>...</th>\n      <td>...</td>\n      <td>...</td>\n      <td>...</td>\n      <td>...</td>\n      <td>...</td>\n      <td>...</td>\n      <td>...</td>\n      <td>...</td>\n      <td>...</td>\n      <td>...</td>\n      <td>...</td>\n      <td>...</td>\n      <td>...</td>\n      <td>...</td>\n      <td>...</td>\n      <td>...</td>\n      <td>...</td>\n    </tr>\n    <tr>\n      <th>71695</th>\n      <td>The Front</td>\n      <td>0.00</td>\n      <td>0.00</td>\n      <td>0.00</td>\n      <td>NaT</td>\n      <td>https://store.steampowered.com/app/2285150/The...</td>\n      <td>The Front is a survival-open-world-crafting (S...</td>\n      <td>No reviews</td>\n      <td>No reviews</td>\n      <td>No recent reviews</td>\n      <td>No reviews</td>\n      <td>Samar Studio</td>\n      <td>Samar Studio</td>\n      <td>['English', 'French', 'German', 'Russian', 'Ja...</td>\n      <td>['Early Access', 'Survival', 'Building', 'Sand...</td>\n      <td>['Single-player', 'MMO', 'Online PvP', 'LAN Pv...</td>\n      <td>OS: |  Requires a 64-bit processor and operati...</td>\n    </tr>\n    <tr>\n      <th>71696</th>\n      <td>The Bornless</td>\n      <td>0.00</td>\n      <td>0.00</td>\n      <td>0.00</td>\n      <td>NaT</td>\n      <td>https://store.steampowered.com/app/2411280/The...</td>\n      <td>Welcome to The Bornless, an action horror FPS....</td>\n      <td>No reviews</td>\n      <td>No reviews</td>\n      <td>No recent reviews</td>\n      <td>No reviews</td>\n      <td>Cathedral Studios</td>\n      <td>Cathedral Studios</td>\n      <td>['English', 'French', 'Italian', 'German', 'Sp...</td>\n      <td>['Early Access', 'Horror', 'FPS', 'Shooter', '...</td>\n      <td>['Single-player', 'Online PvP', 'Online Co-op'...</td>\n      <td>OS: |  Windows 10 or higher | Processor: |  In...</td>\n    </tr>\n    <tr>\n      <th>71697</th>\n      <td>Winter Memories</td>\n      <td>0.00</td>\n      <td>0.00</td>\n      <td>0.00</td>\n      <td>NaT</td>\n      <td>https://store.steampowered.com/app/2495450/Win...</td>\n      <td>After the unforgettable summer memories you’ve...</td>\n      <td>No reviews</td>\n      <td>No reviews</td>\n      <td>No recent reviews</td>\n      <td>No reviews</td>\n      <td>Dojin Otome</td>\n      <td>Kagura Games</td>\n      <td>['English', 'Japanese', 'Simplified Chinese']</td>\n      <td>['Casual', 'RPG', 'Simulation', 'Sexual Conten...</td>\n      <td>['Single-player']</td>\n      <td>OS: |  Windows® 7/8/8.1/10/11 | Processor: |  ...</td>\n    </tr>\n    <tr>\n      <th>71698</th>\n      <td>Call of Duty®: Modern Warfare® III</td>\n      <td>69.99</td>\n      <td>69.99</td>\n      <td>0.00</td>\n      <td>NaT</td>\n      <td>https://store.steampowered.com/app/2519060/Cal...</td>\n      <td>In the direct sequel to the record-breaking Ca...</td>\n      <td>No reviews</td>\n      <td>No reviews</td>\n      <td>No recent reviews</td>\n      <td>No reviews</td>\n      <td>Sledgehammer Games, Treyarch, Infinity Ward, B...</td>\n      <td>Activision</td>\n      <td>['English', 'French', 'Italian', 'German', 'Sp...</td>\n      <td>['Action', 'FPS', 'Shooter', 'First-Person', '...</td>\n      <td>['Single-player', 'Online PvP', 'Online Co-op'...</td>\n      <td>Requires a 64-bit processor and operating syst...</td>\n    </tr>\n    <tr>\n      <th>71699</th>\n      <td>Pixel Gun 3D: PC Edition</td>\n      <td>0.00</td>\n      <td>0.00</td>\n      <td>0.00</td>\n      <td>NaT</td>\n      <td>https://store.steampowered.com/app/2524890/Pix...</td>\n      <td>Pixel Gun 3D is a near complete PC port of a l...</td>\n      <td>No reviews</td>\n      <td>No reviews</td>\n      <td>No recent reviews</td>\n      <td>No reviews</td>\n      <td>Cubic Games Studio</td>\n      <td>Cubic Games Studio</td>\n      <td>['English', 'French', 'German', 'Japanese', 'K...</td>\n      <td>['Action', 'Shooter', 'Pixel Graphics', 'Battl...</td>\n      <td>['Single-player', 'Online PvP', 'Cross-Platfor...</td>\n      <td>OS: |  Windows 10 (x64) - Windows 11 (x64) | P...</td>\n    </tr>\n  </tbody>\n</table>\n<p>71700 rows × 17 columns</p>\n</div>"
     },
     "execution_count": 51,
     "metadata": {},
     "output_type": "execute_result"
    }
   ],
   "source": [
    "steam_data"
   ],
   "metadata": {
    "collapsed": false,
    "ExecuteTime": {
     "end_time": "2024-04-05T19:46:46.348068Z",
     "start_time": "2024-04-05T19:46:46.335161Z"
    }
   },
   "id": "339dd8084f33f4e9",
   "execution_count": 51
  },
  {
   "cell_type": "code",
   "outputs": [
    {
     "data": {
      "text/plain": "11281"
     },
     "execution_count": 52,
     "metadata": {},
     "output_type": "execute_result"
    }
   ],
   "source": [
    "len(steam_data[steam_data['Popular Tags'].str.lower().str.contains('multiplayer')])"
   ],
   "metadata": {
    "collapsed": false,
    "ExecuteTime": {
     "end_time": "2024-04-05T19:46:46.402721Z",
     "start_time": "2024-04-05T19:46:46.349076Z"
    }
   },
   "id": "2a4c55e52f6d419c",
   "execution_count": 52
  },
  {
   "cell_type": "code",
   "outputs": [
    {
     "data": {
      "text/plain": "Popular Tags\n 'Singleplayer'        31327\n 'Indie'               31220\n 'Adventure'           22137\n '2D'                  21110\n 'Casual'              20944\n                       ...  \n['Based On A Novel'        1\n['Tile-Matching'           1\n['BMX'                     1\n['Cycling'                 1\n 'Hobby Sim']              1\nName: count, Length: 1304, dtype: int64"
     },
     "execution_count": 53,
     "metadata": {},
     "output_type": "execute_result"
    }
   ],
   "source": [
    "popular_tags = steam_data['Popular Tags'].str.split(',').explode()\n",
    "popular_tags.value_counts(ascending=False)"
   ],
   "metadata": {
    "collapsed": false,
    "ExecuteTime": {
     "end_time": "2024-04-05T19:46:46.669473Z",
     "start_time": "2024-04-05T19:46:46.403727Z"
    }
   },
   "id": "56376c449887a226",
   "execution_count": 53
  },
  {
   "cell_type": "markdown",
   "source": [
    "# 12. Calculate the average number of supported languages per game."
   ],
   "metadata": {
    "collapsed": false
   },
   "id": "72661d2cffcec3c"
  },
  {
   "cell_type": "code",
   "outputs": [
    {
     "data": {
      "text/plain": "4.5347280334728035"
     },
     "execution_count": 54,
     "metadata": {},
     "output_type": "execute_result"
    }
   ],
   "source": [
    "languages_number = (steam_data['Supported Languages'].\n",
    "                    str.replace('[', '').\n",
    "                    str.replace(']', '').\n",
    "                    str.split(',')).apply(len)\n",
    "steam_data.insert(14, 'Num Languages', languages_number)\n",
    "steam_data['Num Languages'].mean()"
   ],
   "metadata": {
    "collapsed": false,
    "ExecuteTime": {
     "end_time": "2024-04-05T19:46:46.819947Z",
     "start_time": "2024-04-05T19:46:46.670478Z"
    }
   },
   "id": "38928cee01100b89",
   "execution_count": 54
  },
  {
   "cell_type": "code",
   "outputs": [
    {
     "data": {
      "text/plain": "0        [ 'French',  'German',  'Italian',  'Polish', ...\n1        [ 'Bulgarian',  'Czech',  'Danish',  'Dutch', ...\n2        [ 'Arabic',  'French',  'German',  'Italian', ...\n3        [ 'Czech',  'French',  'German',  'Hungarian',...\n4        [ 'Arabic',  'French',  'German',  'Italian', ...\n                               ...                        \n71695    [ 'French',  'German',  'Japanese',  'Portugue...\n71696    [ 'Bulgarian',  'Danish',  'French',  'German'...\n71697      [ 'Japanese',  'Simplified Chinese', 'English']\n71698    [ 'Arabic',  'French',  'German',  'Italian', ...\n71699    [ 'French',  'German',  'Japanese',  'Korean',...\nName: Supported Languages, Length: 71700, dtype: object"
     },
     "execution_count": 55,
     "metadata": {},
     "output_type": "execute_result"
    }
   ],
   "source": [
    "steam_data['Supported Languages'].str.replace('[', '').str.replace(']', '').str.split(',').apply(sorted)"
   ],
   "metadata": {
    "collapsed": false,
    "ExecuteTime": {
     "end_time": "2024-04-05T19:46:46.982066Z",
     "start_time": "2024-04-05T19:46:46.820955Z"
    }
   },
   "id": "dbcdfda4eddf4686",
   "execution_count": 55
  },
  {
   "cell_type": "code",
   "outputs": [
    {
     "data": {
      "text/plain": "{'Title': 0,\n 'Original Price': 1,\n 'Discounted Price': 2,\n 'Discounted Amount': 3,\n 'Release Date': 4,\n 'Link': 5,\n 'Game Description': 6,\n 'Recent Reviews Summary': 7,\n 'All Reviews Summary': 8,\n 'Recent Reviews Number': 9,\n 'All Reviews Number': 10,\n 'Developer': 11,\n 'Publisher': 12,\n 'Supported Languages': 13,\n 'Num Languages': 14,\n 'Popular Tags': 15,\n 'Game Features': 16,\n 'Minimum Requirements': 17}"
     },
     "execution_count": 56,
     "metadata": {},
     "output_type": "execute_result"
    }
   ],
   "source": [
    "{index: name for name, index in enumerate(steam_data.columns)}"
   ],
   "metadata": {
    "collapsed": false,
    "ExecuteTime": {
     "end_time": "2024-04-05T19:46:46.987323Z",
     "start_time": "2024-04-05T19:46:46.982151Z"
    }
   },
   "id": "35a6ac309ad1d93d",
   "execution_count": 56
  },
  {
   "cell_type": "markdown",
   "source": [
    "# 13. Identify the game(s) with the highest number of recent reviews but ignore entries with missing or 'N/A' values."
   ],
   "metadata": {
    "collapsed": false
   },
   "id": "461127c72f1d2fc4"
  },
  {
   "cell_type": "code",
   "outputs": [
    {
     "data": {
      "text/plain": "0        94\n1        88\n2        80\n3        88\n4        57\n         ..\n37971    33\n37973    31\n49113    12\n69227    89\n70970    96\nName: All Reviews Number, Length: 5371, dtype: object"
     },
     "execution_count": 57,
     "metadata": {},
     "output_type": "execute_result"
    }
   ],
   "source": [
    "remove_no_review = steam_data[steam_data['All Reviews Number'] != 'No reviews']\n",
    "remove_no_review['All Reviews Number'].apply(lambda x: x.split(',')[0][2:4])"
   ],
   "metadata": {
    "collapsed": false,
    "ExecuteTime": {
     "end_time": "2024-04-05T19:46:47.002390Z",
     "start_time": "2024-04-05T19:46:46.988330Z"
    }
   },
   "id": "7325077e09e1a683",
   "execution_count": 57
  },
  {
   "cell_type": "code",
   "outputs": [],
   "source": [],
   "metadata": {
    "collapsed": false,
    "ExecuteTime": {
     "end_time": "2024-04-05T19:46:47.005266Z",
     "start_time": "2024-04-05T19:46:47.003395Z"
    }
   },
   "id": "a1519af680da0a78",
   "execution_count": 57
  },
  {
   "cell_type": "code",
   "outputs": [],
   "source": [],
   "metadata": {
    "collapsed": false,
    "ExecuteTime": {
     "end_time": "2024-04-05T19:46:47.008683Z",
     "start_time": "2024-04-05T19:46:47.007271Z"
    }
   },
   "id": "934f4e6da3ee33d3",
   "execution_count": 57
  },
  {
   "cell_type": "code",
   "outputs": [],
   "source": [],
   "metadata": {
    "collapsed": false,
    "ExecuteTime": {
     "end_time": "2024-04-05T19:46:47.011397Z",
     "start_time": "2024-04-05T19:46:47.009690Z"
    }
   },
   "id": "89baac3be259cee2",
   "execution_count": 57
  }
 ],
 "metadata": {
  "kernelspec": {
   "display_name": "Python 3",
   "language": "python",
   "name": "python3"
  },
  "language_info": {
   "codemirror_mode": {
    "name": "ipython",
    "version": 2
   },
   "file_extension": ".py",
   "mimetype": "text/x-python",
   "name": "python",
   "nbconvert_exporter": "python",
   "pygments_lexer": "ipython2",
   "version": "2.7.6"
  }
 },
 "nbformat": 4,
 "nbformat_minor": 5
}
