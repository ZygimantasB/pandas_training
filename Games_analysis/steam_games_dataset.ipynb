{
 "cells": [
  {
   "cell_type": "code",
   "execution_count": 1,
   "id": "initial_id",
   "metadata": {
    "collapsed": true,
    "ExecuteTime": {
     "end_time": "2024-04-02T20:01:55.641152Z",
     "start_time": "2024-04-02T20:01:52.749778Z"
    }
   },
   "outputs": [],
   "source": [
    "import pandas as pd"
   ]
  },
  {
   "cell_type": "code",
   "outputs": [],
   "source": [
    "steam_data_path = r'F:\\DataSpell\\Pandas_training\\Games_analysis\\data_sets\\merged_data.csv'"
   ],
   "metadata": {
    "collapsed": false,
    "ExecuteTime": {
     "end_time": "2024-04-02T20:01:55.645268Z",
     "start_time": "2024-04-02T20:01:55.641664Z"
    }
   },
   "id": "190ea8300fc9c7e5",
   "execution_count": 2
  },
  {
   "cell_type": "code",
   "outputs": [
    {
     "data": {
      "text/plain": "                                    Title Original Price Discounted Price  \\\n0                         Baldur's Gate 3         $29.99           $29.99   \n1        Counter-Strike: Global Offensive         $14.99           $14.99   \n2                           Apex Legends™           Free             Free   \n3                         Forza Horizon 5         $34.78           $17.39   \n4                           Call of Duty®           Free             Free   \n...                                   ...            ...              ...   \n71695                           The Front           Free             Free   \n71696                        The Bornless           Free             Free   \n71697                     Winter Memories           Free             Free   \n71698  Call of Duty®: Modern Warfare® III         $69.99           $69.99   \n71699            Pixel Gun 3D: PC Edition           Free             Free   \n\n          Release Date                                               Link  \\\n0          3 Aug, 2023  https://store.steampowered.com/app/1086940/Bal...   \n1         21 Aug, 2012  https://store.steampowered.com/app/730/Counter...   \n2          4 Nov, 2020  https://store.steampowered.com/app/1172470/Ape...   \n3          8 Nov, 2021  https://store.steampowered.com/app/1551360/For...   \n4         27 Oct, 2022  https://store.steampowered.com/app/1938090/Cal...   \n...                ...                                                ...   \n71695  To be announced  https://store.steampowered.com/app/2285150/The...   \n71696  To be announced  https://store.steampowered.com/app/2411280/The...   \n71697      Coming soon  https://store.steampowered.com/app/2495450/Win...   \n71698      Coming soon  https://store.steampowered.com/app/2519060/Cal...   \n71699  To be announced  https://store.steampowered.com/app/2524890/Pix...   \n\n                                        Game Description  \\\n0      Baldur’s Gate 3 is a story-rich, party-based R...   \n1      Counter-Strike: Global Offensive (CS: GO) expa...   \n2      Apex Legends is the award-winning, free-to-pla...   \n3      Your Ultimate Horizon Adventure awaits! Explor...   \n4      Welcome to Call of Duty® HQ, the home of Call ...   \n...                                                  ...   \n71695  The Front is a survival-open-world-crafting (S...   \n71696  Welcome to The Bornless, an action horror FPS....   \n71697  After the unforgettable summer memories you’ve...   \n71698  In the direct sequel to the record-breaking Ca...   \n71699  Pixel Gun 3D is a near complete PC port of a l...   \n\n        Recent Reviews Summary All Reviews Summary  \\\n0      Overwhelmingly Positive       Very Positive   \n1                Very Positive       Very Positive   \n2                        Mixed       Very Positive   \n3                Very Positive       Very Positive   \n4                        Mixed               Mixed   \n...                        ...                 ...   \n71695                      NaN                 NaN   \n71696                      NaN                 NaN   \n71697                      NaN                 NaN   \n71698                      NaN                 NaN   \n71699                      NaN                 NaN   \n\n                                   Recent Reviews Number  \\\n0      - 96% of the 128,900 user reviews in the last ...   \n1      - 89% of the 75,284 user reviews in the last 3...   \n2      - 65% of the 18,581 user reviews in the last 3...   \n3      - 87% of the 4,120 user reviews in the last 30...   \n4      - 49% of the 8,257 user reviews in the last 30...   \n...                                                  ...   \n71695                                                NaN   \n71696                                                NaN   \n71697                                                NaN   \n71698                                                NaN   \n71699                                                NaN   \n\n                                      All Reviews Number  \\\n0      - 94% of the 188,617 user reviews for this gam...   \n1      - 88% of the 7,428,921 user reviews for this g...   \n2      - 80% of the 701,597 user reviews for this gam...   \n3      - 88% of the 123,162 user reviews for this gam...   \n4      - 57% of the 236,876 user reviews for this gam...   \n...                                                  ...   \n71695                                                NaN   \n71696                                                NaN   \n71697                                                NaN   \n71698                                                NaN   \n71699                                                NaN   \n\n                                               Developer           Publisher  \\\n0                                         Larian Studios      Larian Studios   \n1                       Valve, Hidden Path Entertainment               Valve   \n2                                  Respawn Entertainment     Electronic Arts   \n3                                       Playground Games   Xbox Game Studios   \n4      Infinity Ward, Raven Software, Beenox, Treyarc...          Activision   \n...                                                  ...                 ...   \n71695                                       Samar Studio        Samar Studio   \n71696                                  Cathedral Studios   Cathedral Studios   \n71697                                        Dojin Otome        Kagura Games   \n71698  Sledgehammer Games, Treyarch, Infinity Ward, B...          Activision   \n71699                                 Cubic Games Studio  Cubic Games Studio   \n\n                                     Supported Languages  \\\n0      ['English', 'French', 'German', 'Spanish - Spa...   \n1      ['English', 'Czech', 'Danish', 'Dutch', 'Finni...   \n2      ['English', 'French', 'Italian', 'German', 'Sp...   \n3      ['English', 'French', 'Italian', 'German', 'Sp...   \n4      ['English', 'French', 'Italian', 'German', 'Sp...   \n...                                                  ...   \n71695  ['English', 'French', 'German', 'Russian', 'Ja...   \n71696  ['English', 'French', 'Italian', 'German', 'Sp...   \n71697      ['English', 'Japanese', 'Simplified Chinese']   \n71698  ['English', 'French', 'Italian', 'German', 'Sp...   \n71699  ['English', 'French', 'German', 'Japanese', 'K...   \n\n                                            Popular Tags  \\\n0      ['RPG', 'Choices Matter', 'Character Customiza...   \n1      ['FPS', 'Shooter', 'Multiplayer', 'Competitive...   \n2      ['Free to Play', 'Multiplayer', 'Battle Royale...   \n3      ['Racing', 'Open World', 'Driving', 'Multiplay...   \n4      ['FPS', 'Multiplayer', 'Shooter', 'Action', 'S...   \n...                                                  ...   \n71695  ['Early Access', 'Survival', 'Building', 'Sand...   \n71696  ['Early Access', 'Horror', 'FPS', 'Shooter', '...   \n71697  ['Casual', 'RPG', 'Simulation', 'Sexual Conten...   \n71698  ['Action', 'FPS', 'Shooter', 'First-Person', '...   \n71699  ['Action', 'Shooter', 'Pixel Graphics', 'Battl...   \n\n                                           Game Features  \\\n0      ['Single-player', 'Online Co-op', 'LAN Co-op',...   \n1      ['Steam Achievements', 'Full controller suppor...   \n2      ['Online PvP', 'Online Co-op', 'Steam Achievem...   \n3      ['Single-player', 'Online PvP', 'Online Co-op'...   \n4      ['Single-player', 'Online PvP', 'Online Co-op'...   \n...                                                  ...   \n71695  ['Single-player', 'MMO', 'Online PvP', 'LAN Pv...   \n71696  ['Single-player', 'Online PvP', 'Online Co-op'...   \n71697                                  ['Single-player']   \n71698  ['Single-player', 'Online PvP', 'Online Co-op'...   \n71699  ['Single-player', 'Online PvP', 'Cross-Platfor...   \n\n                                    Minimum Requirements  \n0      Requires a 64-bit processor and operating syst...  \n1      OS: |  Windows® 7/Vista/XP | Processor: |  Int...  \n2      Requires a 64-bit processor and operating syst...  \n3      Requires a 64-bit processor and operating syst...  \n4      Requires a 64-bit processor and operating syst...  \n...                                                  ...  \n71695  OS: |  Requires a 64-bit processor and operati...  \n71696  OS: |  Windows 10 or higher | Processor: |  In...  \n71697  OS: |  Windows® 7/8/8.1/10/11 | Processor: |  ...  \n71698  Requires a 64-bit processor and operating syst...  \n71699  OS: |  Windows 10 (x64) - Windows 11 (x64) | P...  \n\n[71700 rows x 16 columns]",
      "text/html": "<div>\n<style scoped>\n    .dataframe tbody tr th:only-of-type {\n        vertical-align: middle;\n    }\n\n    .dataframe tbody tr th {\n        vertical-align: top;\n    }\n\n    .dataframe thead th {\n        text-align: right;\n    }\n</style>\n<table border=\"1\" class=\"dataframe\">\n  <thead>\n    <tr style=\"text-align: right;\">\n      <th></th>\n      <th>Title</th>\n      <th>Original Price</th>\n      <th>Discounted Price</th>\n      <th>Release Date</th>\n      <th>Link</th>\n      <th>Game Description</th>\n      <th>Recent Reviews Summary</th>\n      <th>All Reviews Summary</th>\n      <th>Recent Reviews Number</th>\n      <th>All Reviews Number</th>\n      <th>Developer</th>\n      <th>Publisher</th>\n      <th>Supported Languages</th>\n      <th>Popular Tags</th>\n      <th>Game Features</th>\n      <th>Minimum Requirements</th>\n    </tr>\n  </thead>\n  <tbody>\n    <tr>\n      <th>0</th>\n      <td>Baldur's Gate 3</td>\n      <td>$29.99</td>\n      <td>$29.99</td>\n      <td>3 Aug, 2023</td>\n      <td>https://store.steampowered.com/app/1086940/Bal...</td>\n      <td>Baldur’s Gate 3 is a story-rich, party-based R...</td>\n      <td>Overwhelmingly Positive</td>\n      <td>Very Positive</td>\n      <td>- 96% of the 128,900 user reviews in the last ...</td>\n      <td>- 94% of the 188,617 user reviews for this gam...</td>\n      <td>Larian Studios</td>\n      <td>Larian Studios</td>\n      <td>['English', 'French', 'German', 'Spanish - Spa...</td>\n      <td>['RPG', 'Choices Matter', 'Character Customiza...</td>\n      <td>['Single-player', 'Online Co-op', 'LAN Co-op',...</td>\n      <td>Requires a 64-bit processor and operating syst...</td>\n    </tr>\n    <tr>\n      <th>1</th>\n      <td>Counter-Strike: Global Offensive</td>\n      <td>$14.99</td>\n      <td>$14.99</td>\n      <td>21 Aug, 2012</td>\n      <td>https://store.steampowered.com/app/730/Counter...</td>\n      <td>Counter-Strike: Global Offensive (CS: GO) expa...</td>\n      <td>Very Positive</td>\n      <td>Very Positive</td>\n      <td>- 89% of the 75,284 user reviews in the last 3...</td>\n      <td>- 88% of the 7,428,921 user reviews for this g...</td>\n      <td>Valve, Hidden Path Entertainment</td>\n      <td>Valve</td>\n      <td>['English', 'Czech', 'Danish', 'Dutch', 'Finni...</td>\n      <td>['FPS', 'Shooter', 'Multiplayer', 'Competitive...</td>\n      <td>['Steam Achievements', 'Full controller suppor...</td>\n      <td>OS: |  Windows® 7/Vista/XP | Processor: |  Int...</td>\n    </tr>\n    <tr>\n      <th>2</th>\n      <td>Apex Legends™</td>\n      <td>Free</td>\n      <td>Free</td>\n      <td>4 Nov, 2020</td>\n      <td>https://store.steampowered.com/app/1172470/Ape...</td>\n      <td>Apex Legends is the award-winning, free-to-pla...</td>\n      <td>Mixed</td>\n      <td>Very Positive</td>\n      <td>- 65% of the 18,581 user reviews in the last 3...</td>\n      <td>- 80% of the 701,597 user reviews for this gam...</td>\n      <td>Respawn Entertainment</td>\n      <td>Electronic Arts</td>\n      <td>['English', 'French', 'Italian', 'German', 'Sp...</td>\n      <td>['Free to Play', 'Multiplayer', 'Battle Royale...</td>\n      <td>['Online PvP', 'Online Co-op', 'Steam Achievem...</td>\n      <td>Requires a 64-bit processor and operating syst...</td>\n    </tr>\n    <tr>\n      <th>3</th>\n      <td>Forza Horizon 5</td>\n      <td>$34.78</td>\n      <td>$17.39</td>\n      <td>8 Nov, 2021</td>\n      <td>https://store.steampowered.com/app/1551360/For...</td>\n      <td>Your Ultimate Horizon Adventure awaits! Explor...</td>\n      <td>Very Positive</td>\n      <td>Very Positive</td>\n      <td>- 87% of the 4,120 user reviews in the last 30...</td>\n      <td>- 88% of the 123,162 user reviews for this gam...</td>\n      <td>Playground Games</td>\n      <td>Xbox Game Studios</td>\n      <td>['English', 'French', 'Italian', 'German', 'Sp...</td>\n      <td>['Racing', 'Open World', 'Driving', 'Multiplay...</td>\n      <td>['Single-player', 'Online PvP', 'Online Co-op'...</td>\n      <td>Requires a 64-bit processor and operating syst...</td>\n    </tr>\n    <tr>\n      <th>4</th>\n      <td>Call of Duty®</td>\n      <td>Free</td>\n      <td>Free</td>\n      <td>27 Oct, 2022</td>\n      <td>https://store.steampowered.com/app/1938090/Cal...</td>\n      <td>Welcome to Call of Duty® HQ, the home of Call ...</td>\n      <td>Mixed</td>\n      <td>Mixed</td>\n      <td>- 49% of the 8,257 user reviews in the last 30...</td>\n      <td>- 57% of the 236,876 user reviews for this gam...</td>\n      <td>Infinity Ward, Raven Software, Beenox, Treyarc...</td>\n      <td>Activision</td>\n      <td>['English', 'French', 'Italian', 'German', 'Sp...</td>\n      <td>['FPS', 'Multiplayer', 'Shooter', 'Action', 'S...</td>\n      <td>['Single-player', 'Online PvP', 'Online Co-op'...</td>\n      <td>Requires a 64-bit processor and operating syst...</td>\n    </tr>\n    <tr>\n      <th>...</th>\n      <td>...</td>\n      <td>...</td>\n      <td>...</td>\n      <td>...</td>\n      <td>...</td>\n      <td>...</td>\n      <td>...</td>\n      <td>...</td>\n      <td>...</td>\n      <td>...</td>\n      <td>...</td>\n      <td>...</td>\n      <td>...</td>\n      <td>...</td>\n      <td>...</td>\n      <td>...</td>\n    </tr>\n    <tr>\n      <th>71695</th>\n      <td>The Front</td>\n      <td>Free</td>\n      <td>Free</td>\n      <td>To be announced</td>\n      <td>https://store.steampowered.com/app/2285150/The...</td>\n      <td>The Front is a survival-open-world-crafting (S...</td>\n      <td>NaN</td>\n      <td>NaN</td>\n      <td>NaN</td>\n      <td>NaN</td>\n      <td>Samar Studio</td>\n      <td>Samar Studio</td>\n      <td>['English', 'French', 'German', 'Russian', 'Ja...</td>\n      <td>['Early Access', 'Survival', 'Building', 'Sand...</td>\n      <td>['Single-player', 'MMO', 'Online PvP', 'LAN Pv...</td>\n      <td>OS: |  Requires a 64-bit processor and operati...</td>\n    </tr>\n    <tr>\n      <th>71696</th>\n      <td>The Bornless</td>\n      <td>Free</td>\n      <td>Free</td>\n      <td>To be announced</td>\n      <td>https://store.steampowered.com/app/2411280/The...</td>\n      <td>Welcome to The Bornless, an action horror FPS....</td>\n      <td>NaN</td>\n      <td>NaN</td>\n      <td>NaN</td>\n      <td>NaN</td>\n      <td>Cathedral Studios</td>\n      <td>Cathedral Studios</td>\n      <td>['English', 'French', 'Italian', 'German', 'Sp...</td>\n      <td>['Early Access', 'Horror', 'FPS', 'Shooter', '...</td>\n      <td>['Single-player', 'Online PvP', 'Online Co-op'...</td>\n      <td>OS: |  Windows 10 or higher | Processor: |  In...</td>\n    </tr>\n    <tr>\n      <th>71697</th>\n      <td>Winter Memories</td>\n      <td>Free</td>\n      <td>Free</td>\n      <td>Coming soon</td>\n      <td>https://store.steampowered.com/app/2495450/Win...</td>\n      <td>After the unforgettable summer memories you’ve...</td>\n      <td>NaN</td>\n      <td>NaN</td>\n      <td>NaN</td>\n      <td>NaN</td>\n      <td>Dojin Otome</td>\n      <td>Kagura Games</td>\n      <td>['English', 'Japanese', 'Simplified Chinese']</td>\n      <td>['Casual', 'RPG', 'Simulation', 'Sexual Conten...</td>\n      <td>['Single-player']</td>\n      <td>OS: |  Windows® 7/8/8.1/10/11 | Processor: |  ...</td>\n    </tr>\n    <tr>\n      <th>71698</th>\n      <td>Call of Duty®: Modern Warfare® III</td>\n      <td>$69.99</td>\n      <td>$69.99</td>\n      <td>Coming soon</td>\n      <td>https://store.steampowered.com/app/2519060/Cal...</td>\n      <td>In the direct sequel to the record-breaking Ca...</td>\n      <td>NaN</td>\n      <td>NaN</td>\n      <td>NaN</td>\n      <td>NaN</td>\n      <td>Sledgehammer Games, Treyarch, Infinity Ward, B...</td>\n      <td>Activision</td>\n      <td>['English', 'French', 'Italian', 'German', 'Sp...</td>\n      <td>['Action', 'FPS', 'Shooter', 'First-Person', '...</td>\n      <td>['Single-player', 'Online PvP', 'Online Co-op'...</td>\n      <td>Requires a 64-bit processor and operating syst...</td>\n    </tr>\n    <tr>\n      <th>71699</th>\n      <td>Pixel Gun 3D: PC Edition</td>\n      <td>Free</td>\n      <td>Free</td>\n      <td>To be announced</td>\n      <td>https://store.steampowered.com/app/2524890/Pix...</td>\n      <td>Pixel Gun 3D is a near complete PC port of a l...</td>\n      <td>NaN</td>\n      <td>NaN</td>\n      <td>NaN</td>\n      <td>NaN</td>\n      <td>Cubic Games Studio</td>\n      <td>Cubic Games Studio</td>\n      <td>['English', 'French', 'German', 'Japanese', 'K...</td>\n      <td>['Action', 'Shooter', 'Pixel Graphics', 'Battl...</td>\n      <td>['Single-player', 'Online PvP', 'Cross-Platfor...</td>\n      <td>OS: |  Windows 10 (x64) - Windows 11 (x64) | P...</td>\n    </tr>\n  </tbody>\n</table>\n<p>71700 rows × 16 columns</p>\n</div>"
     },
     "execution_count": 3,
     "metadata": {},
     "output_type": "execute_result"
    }
   ],
   "source": [
    "steam_data = pd.read_csv(steam_data_path).dropna(how='all')\n",
    "steam_data"
   ],
   "metadata": {
    "collapsed": false,
    "ExecuteTime": {
     "end_time": "2024-04-02T20:01:56.713128Z",
     "start_time": "2024-04-02T20:01:55.646276Z"
    }
   },
   "id": "a3dd986ecfb33fb9",
   "execution_count": 3
  },
  {
   "cell_type": "markdown",
   "source": [
    "# Convert data types"
   ],
   "metadata": {
    "collapsed": false
   },
   "id": "9a4fb95cec47c57b"
  },
  {
   "cell_type": "code",
   "outputs": [],
   "source": [
    "steam_data['Original Price'] = (steam_data['Original Price'].str.replace('Free', '0').str.replace('$', '').str.replace\n",
    "                              (',','').astype(float))\n",
    "steam_data['Discounted Price'] = (steam_data['Discounted Price'].str.replace('Free', '0').str.replace('$', '').str\n",
    "                                .replace(',','').astype(float))\n"
   ],
   "metadata": {
    "collapsed": false,
    "ExecuteTime": {
     "end_time": "2024-04-02T20:01:56.784913Z",
     "start_time": "2024-04-02T20:01:56.714136Z"
    }
   },
   "id": "8d3798ca504f0ba0",
   "execution_count": 4
  },
  {
   "cell_type": "markdown",
   "source": [
    "# Convert to datetime"
   ],
   "metadata": {
    "collapsed": false
   },
   "id": "44cc6cd89c24f1f8"
  },
  {
   "cell_type": "code",
   "outputs": [
    {
     "data": {
      "text/plain": "(0   2023-08-03\n 1   2012-08-21\n 2   2020-11-04\n 3   2021-11-08\n 4   2022-10-27\n Name: Release Date, dtype: datetime64[ns],\n 10308)"
     },
     "execution_count": 5,
     "metadata": {},
     "output_type": "execute_result"
    }
   ],
   "source": [
    "# Convert 'Release Date' column to datetime, letting pandas infer the date format\n",
    "steam_data['Release Date'] = pd.to_datetime(steam_data['Release Date'], errors='coerce', dayfirst=True)\n",
    "\n",
    "# Display the first few rows to verify the conversion and see how NaT values are handled\n",
    "steam_data['Release Date'].head(), steam_data['Release Date'].isnull().sum()"
   ],
   "metadata": {
    "collapsed": false,
    "ExecuteTime": {
     "end_time": "2024-04-02T20:01:56.906601Z",
     "start_time": "2024-04-02T20:01:56.785918Z"
    }
   },
   "id": "500f2c79368671fe",
   "execution_count": 5
  },
  {
   "cell_type": "markdown",
   "source": [
    "# FIx missing values"
   ],
   "metadata": {
    "collapsed": false
   },
   "id": "7fec0d015c3cc636"
  },
  {
   "cell_type": "code",
   "outputs": [],
   "source": [
    "steam_data['Game Description'] = steam_data['Game Description'].fillna('No description available')\n",
    "steam_data['Recent Reviews Summary'] = steam_data['Recent Reviews Summary'].fillna('No reviews').astype('category')\n",
    "steam_data['All Reviews Summary'] = steam_data['All Reviews Summary'].fillna('No reviews').astype('category')\n",
    "steam_data['Recent Reviews Number'] = steam_data['Recent Reviews Number'].fillna('No recent reviews')\n",
    "steam_data['All Reviews Number'] = steam_data['All Reviews Number'].fillna('No reviews')\n",
    "steam_data['Publisher'] = steam_data['Publisher'].fillna('Unknown')\n",
    "steam_data['Minimum Requirements'] = steam_data['Minimum Requirements'].fillna('Unknown requirements')\n",
    "steam_data['Title'] = steam_data['Title'].fillna('Unknown')\n",
    "steam_data['Developer'] = steam_data['Developer'].fillna('Unknown')"
   ],
   "metadata": {
    "collapsed": false,
    "ExecuteTime": {
     "end_time": "2024-04-02T20:09:08.712373Z",
     "start_time": "2024-04-02T20:09:08.672315Z"
    }
   },
   "id": "9838822a88a91275",
   "execution_count": 15
  },
  {
   "cell_type": "code",
   "outputs": [
    {
     "name": "stdout",
     "output_type": "stream",
     "text": [
      "<class 'pandas.core.frame.DataFrame'>\n",
      "RangeIndex: 71700 entries, 0 to 71699\n",
      "Data columns (total 16 columns):\n",
      " #   Column                  Non-Null Count  Dtype         \n",
      "---  ------                  --------------  -----         \n",
      " 0   Title                   71699 non-null  object        \n",
      " 1   Original Price          71700 non-null  float64       \n",
      " 2   Discounted Price        71700 non-null  float64       \n",
      " 3   Release Date            61392 non-null  datetime64[ns]\n",
      " 4   Link                    71700 non-null  object        \n",
      " 5   Game Description        71700 non-null  object        \n",
      " 6   Recent Reviews Summary  71700 non-null  category      \n",
      " 7   All Reviews Summary     71700 non-null  category      \n",
      " 8   Recent Reviews Number   71700 non-null  object        \n",
      " 9   All Reviews Number      71700 non-null  object        \n",
      " 10  Developer               71479 non-null  object        \n",
      " 11  Publisher               71700 non-null  object        \n",
      " 12  Supported Languages     71700 non-null  object        \n",
      " 13  Popular Tags            71700 non-null  object        \n",
      " 14  Game Features           71700 non-null  object        \n",
      " 15  Minimum Requirements    71700 non-null  object        \n",
      "dtypes: category(2), datetime64[ns](1), float64(2), object(11)\n",
      "memory usage: 7.8+ MB\n"
     ]
    }
   ],
   "source": [
    "steam_data.info()"
   ],
   "metadata": {
    "collapsed": false,
    "ExecuteTime": {
     "end_time": "2024-04-02T20:07:31.648238Z",
     "start_time": "2024-04-02T20:07:31.598425Z"
    }
   },
   "id": "3c9fcbfd074f44bf",
   "execution_count": 11
  },
  {
   "cell_type": "code",
   "outputs": [
    {
     "name": "stdout",
     "output_type": "stream",
     "text": [
      "<class 'pandas.core.frame.DataFrame'>\n",
      "RangeIndex: 71700 entries, 0 to 71699\n",
      "Data columns (total 16 columns):\n",
      " #   Column                  Non-Null Count  Dtype         \n",
      "---  ------                  --------------  -----         \n",
      " 0   Title                   71700 non-null  object        \n",
      " 1   Original Price          71700 non-null  float64       \n",
      " 2   Discounted Price        71700 non-null  float64       \n",
      " 3   Release Date            61392 non-null  datetime64[ns]\n",
      " 4   Link                    71700 non-null  object        \n",
      " 5   Game Description        71700 non-null  object        \n",
      " 6   Recent Reviews Summary  71700 non-null  category      \n",
      " 7   All Reviews Summary     71700 non-null  category      \n",
      " 8   Recent Reviews Number   71700 non-null  object        \n",
      " 9   All Reviews Number      71700 non-null  object        \n",
      " 10  Developer               71700 non-null  object        \n",
      " 11  Publisher               71700 non-null  object        \n",
      " 12  Supported Languages     71700 non-null  object        \n",
      " 13  Popular Tags            71700 non-null  object        \n",
      " 14  Game Features           71700 non-null  object        \n",
      " 15  Minimum Requirements    71700 non-null  object        \n",
      "dtypes: category(2), datetime64[ns](1), float64(2), object(11)\n",
      "memory usage: 7.8+ MB\n"
     ]
    }
   ],
   "source": [
    "steam_data.info()"
   ],
   "metadata": {
    "collapsed": false,
    "ExecuteTime": {
     "end_time": "2024-04-02T20:09:20.966414Z",
     "start_time": "2024-04-02T20:09:20.918227Z"
    }
   },
   "id": "83474bdbf5b9ff18",
   "execution_count": 18
  }
 ],
 "metadata": {
  "kernelspec": {
   "display_name": "Python 3",
   "language": "python",
   "name": "python3"
  },
  "language_info": {
   "codemirror_mode": {
    "name": "ipython",
    "version": 2
   },
   "file_extension": ".py",
   "mimetype": "text/x-python",
   "name": "python",
   "nbconvert_exporter": "python",
   "pygments_lexer": "ipython2",
   "version": "2.7.6"
  }
 },
 "nbformat": 4,
 "nbformat_minor": 5
}
