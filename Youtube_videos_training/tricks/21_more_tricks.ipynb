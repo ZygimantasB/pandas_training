{
 "cells": [
  {
   "metadata": {},
   "cell_type": "markdown",
   "source": "https://www.youtube.com/watch?v=tWFQqaRtSQA&list=PLxhYs0VkONL9h5zHZXNntPqLC1JVg9pxX&index=60",
   "id": "411efad9bf9bf33e"
  },
  {
   "cell_type": "code",
   "id": "initial_id",
   "metadata": {
    "collapsed": true,
    "ExecuteTime": {
     "end_time": "2024-04-16T18:08:34.916429Z",
     "start_time": "2024-04-16T18:08:32.881262Z"
    }
   },
   "source": [
    "import pandas as pd\n",
    "import numpy as np\n",
    "\n",
    "drinks = pd.read_csv('http://bit.ly/drinksbycountry')\n",
    "stocks = pd.read_csv('http://bit.ly/smallstocks', parse_dates=['Date'])\n",
    "titanic = pd.read_csv('http://bit.ly/kaggletrain')\n",
    "ufo = pd.read_csv('http://bit.ly/uforeports', parse_dates=['Time'])"
   ],
   "outputs": [],
   "execution_count": 1
  },
  {
   "metadata": {},
   "cell_type": "markdown",
   "source": "# 1. Check for equality",
   "id": "75dac7120c9d0a23"
  },
  {
   "metadata": {
    "ExecuteTime": {
     "end_time": "2024-04-16T18:11:00.091169Z",
     "start_time": "2024-04-16T18:11:00.084722Z"
    }
   },
   "cell_type": "code",
   "source": [
    "df = pd.DataFrame({'a': [1, 2, np.nan],\n",
    "                   'b': [1, 2, np.nan]})\n",
    "df"
   ],
   "id": "83287bb6758baca6",
   "outputs": [
    {
     "data": {
      "text/plain": [
       "     a    b\n",
       "0  1.0  1.0\n",
       "1  2.0  2.0\n",
       "2  NaN  NaN"
      ],
      "text/html": [
       "<div>\n",
       "<style scoped>\n",
       "    .dataframe tbody tr th:only-of-type {\n",
       "        vertical-align: middle;\n",
       "    }\n",
       "\n",
       "    .dataframe tbody tr th {\n",
       "        vertical-align: top;\n",
       "    }\n",
       "\n",
       "    .dataframe thead th {\n",
       "        text-align: right;\n",
       "    }\n",
       "</style>\n",
       "<table border=\"1\" class=\"dataframe\">\n",
       "  <thead>\n",
       "    <tr style=\"text-align: right;\">\n",
       "      <th></th>\n",
       "      <th>a</th>\n",
       "      <th>b</th>\n",
       "    </tr>\n",
       "  </thead>\n",
       "  <tbody>\n",
       "    <tr>\n",
       "      <th>0</th>\n",
       "      <td>1.0</td>\n",
       "      <td>1.0</td>\n",
       "    </tr>\n",
       "    <tr>\n",
       "      <th>1</th>\n",
       "      <td>2.0</td>\n",
       "      <td>2.0</td>\n",
       "    </tr>\n",
       "    <tr>\n",
       "      <th>2</th>\n",
       "      <td>NaN</td>\n",
       "      <td>NaN</td>\n",
       "    </tr>\n",
       "  </tbody>\n",
       "</table>\n",
       "</div>"
      ]
     },
     "execution_count": 7,
     "metadata": {},
     "output_type": "execute_result"
    }
   ],
   "execution_count": 7
  },
  {
   "metadata": {
    "ExecuteTime": {
     "end_time": "2024-04-16T18:11:00.928728Z",
     "start_time": "2024-04-16T18:11:00.923620Z"
    }
   },
   "cell_type": "code",
   "source": "df.a == df.b",
   "id": "ffed4da86afffc8",
   "outputs": [
    {
     "data": {
      "text/plain": [
       "0     True\n",
       "1     True\n",
       "2    False\n",
       "dtype: bool"
      ]
     },
     "execution_count": 8,
     "metadata": {},
     "output_type": "execute_result"
    }
   ],
   "execution_count": 8
  },
  {
   "metadata": {
    "ExecuteTime": {
     "end_time": "2024-04-16T18:11:20.497486Z",
     "start_time": "2024-04-16T18:11:20.493130Z"
    }
   },
   "cell_type": "code",
   "source": "np.nan == np.nan",
   "id": "432b1c6521301f1e",
   "outputs": [
    {
     "data": {
      "text/plain": [
       "False"
      ]
     },
     "execution_count": 9,
     "metadata": {},
     "output_type": "execute_result"
    }
   ],
   "execution_count": 9
  },
  {
   "metadata": {
    "ExecuteTime": {
     "end_time": "2024-04-16T18:13:53.124943Z",
     "start_time": "2024-04-16T18:13:53.120607Z"
    }
   },
   "cell_type": "code",
   "source": "df.a.equals(df.b)",
   "id": "ab488456312774c8",
   "outputs": [
    {
     "data": {
      "text/plain": [
       "True"
      ]
     },
     "execution_count": 11,
     "metadata": {},
     "output_type": "execute_result"
    }
   ],
   "execution_count": 11
  },
  {
   "metadata": {},
   "cell_type": "markdown",
   "source": "# 2. Check for equality (alternative)",
   "id": "bf24a50b54b7d004"
  },
  {
   "metadata": {
    "ExecuteTime": {
     "end_time": "2024-04-16T18:15:01.571088Z",
     "start_time": "2024-04-16T18:15:01.564323Z"
    }
   },
   "cell_type": "code",
   "source": [
    "df = pd.DataFrame({'c':[1, 2, 3], 'd':[1.0, 2.0, 3.0], 'e':[1.0, 2.0, 3.000005]})\n",
    "df"
   ],
   "id": "222bd528df5fcf9c",
   "outputs": [
    {
     "data": {
      "text/plain": [
       "   c    d         e\n",
       "0  1  1.0  1.000000\n",
       "1  2  2.0  2.000000\n",
       "2  3  3.0  3.000005"
      ],
      "text/html": [
       "<div>\n",
       "<style scoped>\n",
       "    .dataframe tbody tr th:only-of-type {\n",
       "        vertical-align: middle;\n",
       "    }\n",
       "\n",
       "    .dataframe tbody tr th {\n",
       "        vertical-align: top;\n",
       "    }\n",
       "\n",
       "    .dataframe thead th {\n",
       "        text-align: right;\n",
       "    }\n",
       "</style>\n",
       "<table border=\"1\" class=\"dataframe\">\n",
       "  <thead>\n",
       "    <tr style=\"text-align: right;\">\n",
       "      <th></th>\n",
       "      <th>c</th>\n",
       "      <th>d</th>\n",
       "      <th>e</th>\n",
       "    </tr>\n",
       "  </thead>\n",
       "  <tbody>\n",
       "    <tr>\n",
       "      <th>0</th>\n",
       "      <td>1</td>\n",
       "      <td>1.0</td>\n",
       "      <td>1.000000</td>\n",
       "    </tr>\n",
       "    <tr>\n",
       "      <th>1</th>\n",
       "      <td>2</td>\n",
       "      <td>2.0</td>\n",
       "      <td>2.000000</td>\n",
       "    </tr>\n",
       "    <tr>\n",
       "      <th>2</th>\n",
       "      <td>3</td>\n",
       "      <td>3.0</td>\n",
       "      <td>3.000005</td>\n",
       "    </tr>\n",
       "  </tbody>\n",
       "</table>\n",
       "</div>"
      ]
     },
     "execution_count": 12,
     "metadata": {},
     "output_type": "execute_result"
    }
   ],
   "execution_count": 12
  },
  {
   "metadata": {
    "ExecuteTime": {
     "end_time": "2024-04-16T18:16:04.329895Z",
     "start_time": "2024-04-16T18:16:04.324897Z"
    }
   },
   "cell_type": "code",
   "source": "df.c.equals(df.d)",
   "id": "b41db02d9e1d7a78",
   "outputs": [
    {
     "data": {
      "text/plain": [
       "False"
      ]
     },
     "execution_count": 14,
     "metadata": {},
     "output_type": "execute_result"
    }
   ],
   "execution_count": 14
  },
  {
   "metadata": {
    "ExecuteTime": {
     "end_time": "2024-04-16T18:16:35.000567Z",
     "start_time": "2024-04-16T18:16:34.996518Z"
    }
   },
   "cell_type": "code",
   "source": "pd.testing.assert_series_equal(df.c, df.d, check_names=False, check_dtype=False)",
   "id": "7efa58b6010a6e32",
   "outputs": [],
   "execution_count": 16
  },
  {
   "metadata": {
    "ExecuteTime": {
     "end_time": "2024-04-16T18:17:40.916324Z",
     "start_time": "2024-04-16T18:17:40.912003Z"
    }
   },
   "cell_type": "code",
   "source": [
    "df_new = df.copy()\n",
    "pd.testing.assert_frame_equal(df, df_new)"
   ],
   "id": "408e83a413c87db8",
   "outputs": [],
   "execution_count": 18
  },
  {
   "metadata": {},
   "cell_type": "markdown",
   "source": "# 3. Use NumPy without importing NumPy ",
   "id": "a71c009f0f448ae4"
  },
  {
   "metadata": {
    "ExecuteTime": {
     "end_time": "2024-04-16T18:18:50.011092Z",
     "start_time": "2024-04-16T18:18:50.005094Z"
    }
   },
   "cell_type": "code",
   "source": [
    "np.random.seed(5)\n",
    "pd.DataFrame(np.random.rand(2, 2))"
   ],
   "id": "167f21cda4e441ff",
   "outputs": [
    {
     "data": {
      "text/plain": [
       "          0         1\n",
       "0  0.221993  0.870732\n",
       "1  0.206719  0.918611"
      ],
      "text/html": [
       "<div>\n",
       "<style scoped>\n",
       "    .dataframe tbody tr th:only-of-type {\n",
       "        vertical-align: middle;\n",
       "    }\n",
       "\n",
       "    .dataframe tbody tr th {\n",
       "        vertical-align: top;\n",
       "    }\n",
       "\n",
       "    .dataframe thead th {\n",
       "        text-align: right;\n",
       "    }\n",
       "</style>\n",
       "<table border=\"1\" class=\"dataframe\">\n",
       "  <thead>\n",
       "    <tr style=\"text-align: right;\">\n",
       "      <th></th>\n",
       "      <th>0</th>\n",
       "      <th>1</th>\n",
       "    </tr>\n",
       "  </thead>\n",
       "  <tbody>\n",
       "    <tr>\n",
       "      <th>0</th>\n",
       "      <td>0.221993</td>\n",
       "      <td>0.870732</td>\n",
       "    </tr>\n",
       "    <tr>\n",
       "      <th>1</th>\n",
       "      <td>0.206719</td>\n",
       "      <td>0.918611</td>\n",
       "    </tr>\n",
       "  </tbody>\n",
       "</table>\n",
       "</div>"
      ]
     },
     "execution_count": 20,
     "metadata": {},
     "output_type": "execute_result"
    }
   ],
   "execution_count": 20
  },
  {
   "metadata": {
    "ExecuteTime": {
     "end_time": "2024-04-16T18:19:32.308952Z",
     "start_time": "2024-04-16T18:19:32.297174Z"
    }
   },
   "cell_type": "code",
   "source": [
    "pd.np.random.seed(0)\n",
    "pd.DataFrame(pd.np.random.rand(2, 4))"
   ],
   "id": "4f12724a2360e08c",
   "outputs": [
    {
     "ename": "AttributeError",
     "evalue": "module 'pandas' has no attribute 'np'",
     "output_type": "error",
     "traceback": [
      "\u001B[1;31m---------------------------------------------------------------------------\u001B[0m",
      "\u001B[1;31mAttributeError\u001B[0m                            Traceback (most recent call last)",
      "Cell \u001B[1;32mIn[21], line 1\u001B[0m\n\u001B[1;32m----> 1\u001B[0m \u001B[43mpd\u001B[49m\u001B[38;5;241;43m.\u001B[39;49m\u001B[43mnp\u001B[49m\u001B[38;5;241m.\u001B[39mrandom\u001B[38;5;241m.\u001B[39mseed(\u001B[38;5;241m0\u001B[39m)\n\u001B[0;32m      2\u001B[0m pd\u001B[38;5;241m.\u001B[39mDataFrame(pd\u001B[38;5;241m.\u001B[39mnp\u001B[38;5;241m.\u001B[39mrandom\u001B[38;5;241m.\u001B[39mrand(\u001B[38;5;241m2\u001B[39m, \u001B[38;5;241m4\u001B[39m))\n",
      "\u001B[1;31mAttributeError\u001B[0m: module 'pandas' has no attribute 'np'"
     ]
    }
   ],
   "execution_count": 21
  },
  {
   "metadata": {},
   "cell_type": "markdown",
   "source": "# 4. Calculate memory usage",
   "id": "a0e0458c249dd6c6"
  },
  {
   "metadata": {
    "ExecuteTime": {
     "end_time": "2024-04-16T18:20:12.986714Z",
     "start_time": "2024-04-16T18:20:12.980479Z"
    }
   },
   "cell_type": "code",
   "source": "ufo.head()",
   "id": "d55287beff702484",
   "outputs": [
    {
     "data": {
      "text/plain": [
       "                   City Colors Reported Shape Reported State  \\\n",
       "0                Ithaca             NaN       TRIANGLE    NY   \n",
       "1           Willingboro             NaN          OTHER    NJ   \n",
       "2               Holyoke             NaN           OVAL    CO   \n",
       "3               Abilene             NaN           DISK    KS   \n",
       "4  New York Worlds Fair             NaN          LIGHT    NY   \n",
       "\n",
       "                 Time  \n",
       "0 1930-06-01 22:00:00  \n",
       "1 1930-06-30 20:00:00  \n",
       "2 1931-02-15 14:00:00  \n",
       "3 1931-06-01 13:00:00  \n",
       "4 1933-04-18 19:00:00  "
      ],
      "text/html": [
       "<div>\n",
       "<style scoped>\n",
       "    .dataframe tbody tr th:only-of-type {\n",
       "        vertical-align: middle;\n",
       "    }\n",
       "\n",
       "    .dataframe tbody tr th {\n",
       "        vertical-align: top;\n",
       "    }\n",
       "\n",
       "    .dataframe thead th {\n",
       "        text-align: right;\n",
       "    }\n",
       "</style>\n",
       "<table border=\"1\" class=\"dataframe\">\n",
       "  <thead>\n",
       "    <tr style=\"text-align: right;\">\n",
       "      <th></th>\n",
       "      <th>City</th>\n",
       "      <th>Colors Reported</th>\n",
       "      <th>Shape Reported</th>\n",
       "      <th>State</th>\n",
       "      <th>Time</th>\n",
       "    </tr>\n",
       "  </thead>\n",
       "  <tbody>\n",
       "    <tr>\n",
       "      <th>0</th>\n",
       "      <td>Ithaca</td>\n",
       "      <td>NaN</td>\n",
       "      <td>TRIANGLE</td>\n",
       "      <td>NY</td>\n",
       "      <td>1930-06-01 22:00:00</td>\n",
       "    </tr>\n",
       "    <tr>\n",
       "      <th>1</th>\n",
       "      <td>Willingboro</td>\n",
       "      <td>NaN</td>\n",
       "      <td>OTHER</td>\n",
       "      <td>NJ</td>\n",
       "      <td>1930-06-30 20:00:00</td>\n",
       "    </tr>\n",
       "    <tr>\n",
       "      <th>2</th>\n",
       "      <td>Holyoke</td>\n",
       "      <td>NaN</td>\n",
       "      <td>OVAL</td>\n",
       "      <td>CO</td>\n",
       "      <td>1931-02-15 14:00:00</td>\n",
       "    </tr>\n",
       "    <tr>\n",
       "      <th>3</th>\n",
       "      <td>Abilene</td>\n",
       "      <td>NaN</td>\n",
       "      <td>DISK</td>\n",
       "      <td>KS</td>\n",
       "      <td>1931-06-01 13:00:00</td>\n",
       "    </tr>\n",
       "    <tr>\n",
       "      <th>4</th>\n",
       "      <td>New York Worlds Fair</td>\n",
       "      <td>NaN</td>\n",
       "      <td>LIGHT</td>\n",
       "      <td>NY</td>\n",
       "      <td>1933-04-18 19:00:00</td>\n",
       "    </tr>\n",
       "  </tbody>\n",
       "</table>\n",
       "</div>"
      ]
     },
     "execution_count": 22,
     "metadata": {},
     "output_type": "execute_result"
    }
   ],
   "execution_count": 22
  },
  {
   "metadata": {
    "ExecuteTime": {
     "end_time": "2024-04-16T18:20:35.217320Z",
     "start_time": "2024-04-16T18:20:35.201875Z"
    }
   },
   "cell_type": "code",
   "source": "ufo.info(memory_usage='deep')",
   "id": "3979c62e153208be",
   "outputs": [
    {
     "name": "stdout",
     "output_type": "stream",
     "text": [
      "<class 'pandas.core.frame.DataFrame'>\n",
      "RangeIndex: 18241 entries, 0 to 18240\n",
      "Data columns (total 5 columns):\n",
      " #   Column           Non-Null Count  Dtype         \n",
      "---  ------           --------------  -----         \n",
      " 0   City             18215 non-null  object        \n",
      " 1   Colors Reported  2882 non-null   object        \n",
      " 2   Shape Reported   15597 non-null  object        \n",
      " 3   State            18241 non-null  object        \n",
      " 4   Time             18241 non-null  datetime64[ns]\n",
      "dtypes: datetime64[ns](1), object(4)\n",
      "memory usage: 3.6 MB\n"
     ]
    }
   ],
   "execution_count": 24
  },
  {
   "metadata": {
    "ExecuteTime": {
     "end_time": "2024-04-16T18:21:42.944620Z",
     "start_time": "2024-04-16T18:21:42.931067Z"
    }
   },
   "cell_type": "code",
   "source": "ufo.memory_usage(deep=True)",
   "id": "e271150f7cca46a5",
   "outputs": [
    {
     "data": {
      "text/plain": [
       "Index                  132\n",
       "City               1059869\n",
       "Colors Reported     648257\n",
       "Shape Reported      940454\n",
       "State               930291\n",
       "Time                145928\n",
       "dtype: int64"
      ]
     },
     "execution_count": 26,
     "metadata": {},
     "output_type": "execute_result"
    }
   ],
   "execution_count": 26
  },
  {
   "metadata": {},
   "cell_type": "markdown",
   "source": "# 5. Count the number of words in column",
   "id": "de187fcf60879f39"
  },
  {
   "metadata": {
    "ExecuteTime": {
     "end_time": "2024-04-16T18:22:49.988273Z",
     "start_time": "2024-04-16T18:22:49.980873Z"
    }
   },
   "cell_type": "code",
   "source": "ufo['Colors Reported'].value_counts()",
   "id": "36b655d247012f74",
   "outputs": [
    {
     "data": {
      "text/plain": [
       "Colors Reported\n",
       "RED                       780\n",
       "GREEN                     531\n",
       "ORANGE                    528\n",
       "BLUE                      450\n",
       "YELLOW                    169\n",
       "RED GREEN                  89\n",
       "RED BLUE                   78\n",
       "RED ORANGE                 44\n",
       "GREEN BLUE                 34\n",
       "RED GREEN BLUE             33\n",
       "ORANGE YELLOW              26\n",
       "RED YELLOW                 25\n",
       "ORANGE GREEN               23\n",
       "YELLOW GREEN               17\n",
       "ORANGE BLUE                10\n",
       "RED YELLOW GREEN            9\n",
       "YELLOW BLUE                 6\n",
       "YELLOW GREEN BLUE           5\n",
       "ORANGE GREEN BLUE           5\n",
       "RED YELLOW GREEN BLUE       4\n",
       "RED ORANGE YELLOW           4\n",
       "RED YELLOW BLUE             3\n",
       "RED ORANGE GREEN            3\n",
       "RED ORANGE BLUE             3\n",
       "RED ORANGE YELLOW BLUE      1\n",
       "ORANGE YELLOW GREEN         1\n",
       "ORANGE YELLOW BLUE          1\n",
       "Name: count, dtype: int64"
      ]
     },
     "execution_count": 27,
     "metadata": {},
     "output_type": "execute_result"
    }
   ],
   "execution_count": 27
  },
  {
   "metadata": {
    "ExecuteTime": {
     "end_time": "2024-04-16T18:24:27.855119Z",
     "start_time": "2024-04-16T18:24:27.847733Z"
    }
   },
   "cell_type": "code",
   "source": "(ufo['Colors Reported'].str.count(' ') + 1).value_counts()",
   "id": "63ce0d071ce866a6",
   "outputs": [
    {
     "data": {
      "text/plain": [
       "Colors Reported\n",
       "1.0    2458\n",
       "2.0     352\n",
       "3.0      67\n",
       "4.0       5\n",
       "Name: count, dtype: int64"
      ]
     },
     "execution_count": 30,
     "metadata": {},
     "output_type": "execute_result"
    }
   ],
   "execution_count": 30
  },
  {
   "metadata": {},
   "cell_type": "markdown",
   "source": "# 6. Convert one set of values to another",
   "id": "53bb31cc9c85615b"
  },
  {
   "metadata": {
    "ExecuteTime": {
     "end_time": "2024-04-16T18:25:37.239866Z",
     "start_time": "2024-04-16T18:25:37.234752Z"
    }
   },
   "cell_type": "code",
   "source": "titanic.Sex.head()",
   "id": "1c6cf07c6f4c7203",
   "outputs": [
    {
     "data": {
      "text/plain": [
       "0      male\n",
       "1    female\n",
       "2    female\n",
       "3    female\n",
       "4      male\n",
       "Name: Sex, dtype: object"
      ]
     },
     "execution_count": 31,
     "metadata": {},
     "output_type": "execute_result"
    }
   ],
   "execution_count": 31
  },
  {
   "metadata": {},
   "cell_type": "code",
   "outputs": [],
   "execution_count": null,
   "source": "titanic['Sex']",
   "id": "c9ef61da5f091071"
  }
 ],
 "metadata": {
  "kernelspec": {
   "display_name": "Python 3",
   "language": "python",
   "name": "python3"
  },
  "language_info": {
   "codemirror_mode": {
    "name": "ipython",
    "version": 2
   },
   "file_extension": ".py",
   "mimetype": "text/x-python",
   "name": "python",
   "nbconvert_exporter": "python",
   "pygments_lexer": "ipython2",
   "version": "2.7.6"
  }
 },
 "nbformat": 4,
 "nbformat_minor": 5
}
