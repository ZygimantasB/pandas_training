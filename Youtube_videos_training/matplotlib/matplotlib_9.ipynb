{
 "cells": [
  {
   "cell_type": "code",
   "id": "initial_id",
   "metadata": {
    "collapsed": true,
    "ExecuteTime": {
     "end_time": "2024-05-03T19:08:22.060708Z",
     "start_time": "2024-05-03T19:08:20.945041Z"
    }
   },
   "source": [
    "\n",
    "import random\n",
    "from itertools import count\n",
    "import pandas as pd\n",
    "import matplotlib.pyplot as plt"
   ],
   "outputs": [],
   "execution_count": 1
  },
  {
   "metadata": {},
   "cell_type": "markdown",
   "source": "# https://www.youtube.com/watch?v=Ercd-Ip5PfQ",
   "id": "22bb76e956b2a1c2"
  },
  {
   "metadata": {},
   "cell_type": "code",
   "outputs": [],
   "execution_count": null,
   "source": [
    "plt.style.use('fivethirtyeight')\n",
    "\n",
    "x_vals = [0, 1, 2, 3, 4, 5]\n",
    "y_vals = [0, 1, 3, 2, 3, 5]\n",
    "\n",
    "plt.plot(x_vals, y_vals)\n",
    "\n",
    "\n",
    "# index = count()\n",
    "\n",
    "# def animate(i):\n",
    "#     x_vals.append(next(index))\n",
    "#     y_vals.append(random.randint(0, 5))\n",
    "\n",
    "\n",
    "plt.tight_layout()\n",
    "plt.show()\n",
    "\n",
    "\n",
    "# data = pd.read_csv('data.csv')\n",
    "# x = data['x_value']\n",
    "# y1 = data['total_1']\n",
    "# y2 = data['total_2']\n"
   ],
   "id": "ab2f1a154c55f13d"
  }
 ],
 "metadata": {
  "kernelspec": {
   "display_name": "Python 3",
   "language": "python",
   "name": "python3"
  },
  "language_info": {
   "codemirror_mode": {
    "name": "ipython",
    "version": 2
   },
   "file_extension": ".py",
   "mimetype": "text/x-python",
   "name": "python",
   "nbconvert_exporter": "python",
   "pygments_lexer": "ipython2",
   "version": "2.7.6"
  }
 },
 "nbformat": 4,
 "nbformat_minor": 5
}
