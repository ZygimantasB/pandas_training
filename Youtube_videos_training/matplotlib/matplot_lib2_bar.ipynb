{
 "cells": [
  {
   "cell_type": "code",
   "id": "initial_id",
   "metadata": {
    "collapsed": true,
    "ExecuteTime": {
     "end_time": "2024-04-29T15:23:13.955973Z",
     "start_time": "2024-04-29T15:23:13.951851Z"
    }
   },
   "source": [
    "import pandas as pd\n",
    "import numpy as np\n",
    "import csv\n",
    "import matplotlib.pyplot as plt\n",
    "from collections import Counter"
   ],
   "execution_count": 11,
   "outputs": []
  },
  {
   "metadata": {
    "ExecuteTime": {
     "end_time": "2024-04-29T16:53:05.417475Z",
     "start_time": "2024-04-29T16:53:05.067979Z"
    }
   },
   "cell_type": "code",
   "source": [
    "# Using CSV module\n",
    "plt.style.use('fivethirtyeight')\n",
    "\n",
    "with open(r'F:\\DataSpell\\Pandas_training\\Youtube_videos_training\\matplotlib\\data\\data.csv') as csv_file:\n",
    "  csv_reader = csv.DictReader(csv_file)\n",
    "\n",
    "  language_counter = Counter()\n",
    "\n",
    "  for row in csv_reader:\n",
    "    language_counter.update(row['LanguagesWorkedWith'].split(';'))\n",
    "      \n",
    "languages = []\n",
    "popularity = []\n",
    "\n",
    "for item in language_counter.most_common(15):\n",
    "  languages.append(item[0])\n",
    "  popularity.append(item[1])\n",
    "  \n",
    "languages.reverse()\n",
    "popularity.reverse()\n",
    "\n",
    "# plt.bar(languages, popularity)\n",
    "plt.barh(languages, popularity)\n",
    "\n",
    "plt.title('Most Popular Languages')\n",
    "# plt.ylabel('Number of People Who Use')\n",
    "plt.xlabel('Number of People Who Use')\n",
    "\n",
    "# print(language_counter)\n",
    "# language_counter.most_common(15)\n"
   ],
   "id": "e3e1e679294ba68d",
   "execution_count": 28,
   "outputs": []
  },
  {
   "metadata": {
    "ExecuteTime": {
     "end_time": "2024-04-29T16:58:28.763454Z",
     "start_time": "2024-04-29T16:58:28.404820Z"
    }
   },
   "cell_type": "code",
   "source": [
    "plt.style.use('fivethirtyeight')\n",
    "\n",
    "data = pd.read_csv(r'F:\\DataSpell\\Pandas_training\\Youtube_videos_training\\matplotlib\\data\\data.csv')\n",
    "ids = data['Responder_id']\n",
    "\n",
    "lang_responses = data['LanguagesWorkedWith']\n",
    "\n",
    "for response in lang_responses:\n",
    "  language_counter.update(response.split(';'))\n",
    "\n",
    "for item in language_counter.most_common(15):\n",
    "  languages.append(item[0])\n",
    "  popularity.append(item[1])\n",
    "\n",
    "languages.reverse()\n",
    "popularity.reverse()\n",
    "\n",
    "plt.barh(languages, popularity)\n",
    "\n",
    "plt.title('Most Popular Languages')\n",
    "plt.xlabel('Number of People Who Use')"
   ],
   "id": "fd3f8466978b8775",
   "execution_count": 36,
   "outputs": []
  }
 ],
 "metadata": {
  "kernelspec": {
   "display_name": "Python 3",
   "language": "python",
   "name": "python3"
  },
  "language_info": {
   "codemirror_mode": {
    "name": "ipython",
    "version": 2
   },
   "file_extension": ".py",
   "mimetype": "text/x-python",
   "name": "python",
   "nbconvert_exporter": "python",
   "pygments_lexer": "ipython2",
   "version": "2.7.6"
  }
 },
 "nbformat": 4,
 "nbformat_minor": 5
}
