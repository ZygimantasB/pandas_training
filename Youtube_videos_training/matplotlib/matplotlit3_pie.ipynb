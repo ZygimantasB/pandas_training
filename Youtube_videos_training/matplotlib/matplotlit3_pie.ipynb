{
 "cells": [
  {
   "cell_type": "code",
   "id": "initial_id",
   "metadata": {
    "collapsed": true,
    "ExecuteTime": {
     "end_time": "2024-04-29T17:01:55.157281Z",
     "start_time": "2024-04-29T17:01:54.438403Z"
    }
   },
   "source": [
    "import numpy as np\n",
    "import matplotlib.pyplot as plt\n",
    "import pandas as pd"
   ],
   "execution_count": 1,
   "outputs": []
  },
  {
   "metadata": {
    "ExecuteTime": {
     "end_time": "2024-04-29T17:41:13.646630Z",
     "start_time": "2024-04-29T17:41:13.505769Z"
    }
   },
   "cell_type": "code",
   "source": [
    "plt.style.use('seaborn-v0_8-muted')\n",
    "\n",
    "data = pd.read_csv(r'F:\\DataSpell\\Pandas_training\\Youtube_videos_training\\matplotlib\\data\\data.csv')\n",
    "\n",
    "# slices = [120, 80, 30, 20]\n",
    "# labels = ['Sixty', 'Forty', 'Extra1', 'Extra2']\n",
    "# colors = ['#008fd5', '#fc4f30', '#e5ae37', '#6d904f']\n",
    "\n",
    "slices = [59219, 55466, 47544, 36443, 35917, 31991, 27097, 23030, 20524, 18523, 18017, 7920, 7331, 7201, 5833][:5]\n",
    "labels = ['JavaScript', 'HTML/CSS', 'SQL', 'Python', 'Java', 'Bash/Shell/PowerShell', 'C#', 'PHP', 'C++', \n",
    "          'TypeScript', 'C', 'Ruby', 'Go', 'Assembly', 'Swift'][:5]\n",
    "\n",
    "explode = [0, 0, 0, 0.1, 0]\n",
    "\n",
    "# Don`t use pie chart if you have more than 5 slices\n",
    "plt.pie(slices, \n",
    "        labels=labels, explode=explode, shadow=True,  \n",
    "        startangle=90, autopct='%1.1f%%', wedgeprops={'edgecolor': 'black'})\n",
    "\n",
    "plt.title('My Awesome Plot')\n",
    "plt.tight_layout()\n",
    "plt.show()\n"
   ],
   "id": "500d75f73d23e272",
   "execution_count": 35,
   "outputs": []
  }
 ],
 "metadata": {
  "kernelspec": {
   "display_name": "Python 3",
   "language": "python",
   "name": "python3"
  },
  "language_info": {
   "codemirror_mode": {
    "name": "ipython",
    "version": 2
   },
   "file_extension": ".py",
   "mimetype": "text/x-python",
   "name": "python",
   "nbconvert_exporter": "python",
   "pygments_lexer": "ipython2",
   "version": "2.7.6"
  }
 },
 "nbformat": 4,
 "nbformat_minor": 5
}
