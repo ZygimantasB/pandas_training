{
 "cells": [
  {
   "cell_type": "code",
   "id": "initial_id",
   "metadata": {
    "collapsed": true,
    "ExecuteTime": {
     "end_time": "2024-05-03T19:10:53.137057Z",
     "start_time": "2024-05-03T19:10:53.131971Z"
    }
   },
   "source": [
    "import pandas as pd\n",
    "from matplotlib import pyplot as plt"
   ],
   "outputs": [
    {
     "ename": "SyntaxError",
     "evalue": "invalid syntax (1410134968.py, line 1)",
     "output_type": "error",
     "traceback": [
      "\u001B[1;36m  Cell \u001B[1;32mIn[1], line 1\u001B[1;36m\u001B[0m\n\u001B[1;33m    import\u001B[0m\n\u001B[1;37m           ^\u001B[0m\n\u001B[1;31mSyntaxError\u001B[0m\u001B[1;31m:\u001B[0m invalid syntax\n"
     ]
    }
   ],
   "execution_count": 1
  },
  {
   "metadata": {},
   "cell_type": "markdown",
   "source": "",
   "id": "fe3a90585c8728c9"
  },
  {
   "metadata": {},
   "cell_type": "code",
   "outputs": [],
   "execution_count": null,
   "source": [
    "plt.style.use('fivethirtyeight')\n",
    "\n",
    "data = pd.read_csv('data.csv')\n",
    "ages = data['Age']\n",
    "dev_salaries = data['All_Devs']\n",
    "py_salaries = data['Python']\n",
    "js_salaries = data['JavaScript']\n",
    "\n",
    "plt.plot(ages, py_salaries, label='Python')\n",
    "plt.plot(ages, js_salaries, label='JavaScript')\n",
    "\n",
    "plt.plot(ages, dev_salaries, color='#444444',\n",
    "         linestyle='--', label='All Devs')\n",
    "\n",
    "plt.legend()\n",
    "\n",
    "plt.title('Median Salary (USD) by Age')\n",
    "plt.xlabel('Ages')\n",
    "plt.ylabel('Median Salary (USD)')\n",
    "\n",
    "plt.tight_layout()\n",
    "\n",
    "plt.show()\n"
   ],
   "id": "b1820298d99de0ba"
  }
 ],
 "metadata": {
  "kernelspec": {
   "display_name": "Python 3",
   "language": "python",
   "name": "python3"
  },
  "language_info": {
   "codemirror_mode": {
    "name": "ipython",
    "version": 2
   },
   "file_extension": ".py",
   "mimetype": "text/x-python",
   "name": "python",
   "nbconvert_exporter": "python",
   "pygments_lexer": "ipython2",
   "version": "2.7.6"
  }
 },
 "nbformat": 4,
 "nbformat_minor": 5
}
