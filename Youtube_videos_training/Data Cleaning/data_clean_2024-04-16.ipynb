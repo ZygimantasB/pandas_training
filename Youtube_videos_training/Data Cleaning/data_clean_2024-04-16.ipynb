{
 "cells": [
  {
   "metadata": {},
   "cell_type": "markdown",
   "source": "https://www.youtube.com/watch?v=iaZQF8SLHJs&list=PLxhYs0VkONL9h5zHZXNntPqLC1JVg9pxX&index=61",
   "id": "e64d4f33d14b568a"
  },
  {
   "cell_type": "code",
   "id": "initial_id",
   "metadata": {
    "collapsed": true,
    "ExecuteTime": {
     "end_time": "2024-04-16T18:43:11.606157Z",
     "start_time": "2024-04-16T18:43:11.602219Z"
    }
   },
   "source": "import pandas as pd",
   "outputs": [],
   "execution_count": 29
  },
  {
   "metadata": {
    "ExecuteTime": {
     "end_time": "2024-04-16T18:43:13.505484Z",
     "start_time": "2024-04-16T18:43:11.655408Z"
    }
   },
   "cell_type": "code",
   "source": [
    "url = r'https://www.espncricinfo.com/records/highest-career-batting-average-282910'\n",
    "df = pd.read_html(url)\n",
    "df = df[0]"
   ],
   "id": "1eabbad44a8bca5c",
   "outputs": [],
   "execution_count": 30
  },
  {
   "metadata": {
    "ExecuteTime": {
     "end_time": "2024-04-16T18:46:33.858392Z",
     "start_time": "2024-04-16T18:46:33.854865Z"
    }
   },
   "cell_type": "code",
   "source": [
    "df = df.rename(columns = {\n",
    "  'Mat': 'Matches',\n",
    "  'NO': 'Not_Outs',\n",
    "  'HS': 'Highest_Inns_Score', \n",
    "  'BF': 'Balls_Faced', \n",
    "  'SR': 'Batting_Strike_Rate'\n",
    "})"
   ],
   "id": "ba513705c2154be7",
   "outputs": [],
   "execution_count": 43
  },
  {
   "metadata": {
    "ExecuteTime": {
     "end_time": "2024-04-16T18:46:34.709292Z",
     "start_time": "2024-04-16T18:46:34.703482Z"
    }
   },
   "cell_type": "code",
   "source": "df.isnull().any()",
   "id": "478a512091e521c7",
   "outputs": [
    {
     "data": {
      "text/plain": [
       "Player                 False\n",
       "Span                   False\n",
       "Matches                False\n",
       "Inns                   False\n",
       "Not_Outs               False\n",
       "Runs                   False\n",
       "Highest_Inns_Score     False\n",
       "Ave                    False\n",
       "Balls_Faced            False\n",
       "Batting_Strike_Rate    False\n",
       "100                    False\n",
       "50                     False\n",
       "0                      False\n",
       "4s                     False\n",
       "6s                     False\n",
       "dtype: bool"
      ]
     },
     "execution_count": 44,
     "metadata": {},
     "output_type": "execute_result"
    }
   ],
   "execution_count": 44
  },
  {
   "metadata": {
    "ExecuteTime": {
     "end_time": "2024-04-16T18:47:11.952697Z",
     "start_time": "2024-04-16T18:47:11.946100Z"
    }
   },
   "cell_type": "code",
   "source": [
    "df[df['Balls_Faced'].isna() == 1]\n",
    "# 10.25 finished"
   ],
   "id": "c6425c094f68fd74",
   "outputs": [
    {
     "data": {
      "text/plain": [
       "Empty DataFrame\n",
       "Columns: [Player, Span, Matches, Inns, Not_Outs, Runs, Highest_Inns_Score, Ave, Balls_Faced, Batting_Strike_Rate, 100, 50, 0, 4s, 6s]\n",
       "Index: []"
      ],
      "text/html": [
       "<div>\n",
       "<style scoped>\n",
       "    .dataframe tbody tr th:only-of-type {\n",
       "        vertical-align: middle;\n",
       "    }\n",
       "\n",
       "    .dataframe tbody tr th {\n",
       "        vertical-align: top;\n",
       "    }\n",
       "\n",
       "    .dataframe thead th {\n",
       "        text-align: right;\n",
       "    }\n",
       "</style>\n",
       "<table border=\"1\" class=\"dataframe\">\n",
       "  <thead>\n",
       "    <tr style=\"text-align: right;\">\n",
       "      <th></th>\n",
       "      <th>Player</th>\n",
       "      <th>Span</th>\n",
       "      <th>Matches</th>\n",
       "      <th>Inns</th>\n",
       "      <th>Not_Outs</th>\n",
       "      <th>Runs</th>\n",
       "      <th>Highest_Inns_Score</th>\n",
       "      <th>Ave</th>\n",
       "      <th>Balls_Faced</th>\n",
       "      <th>Batting_Strike_Rate</th>\n",
       "      <th>100</th>\n",
       "      <th>50</th>\n",
       "      <th>0</th>\n",
       "      <th>4s</th>\n",
       "      <th>6s</th>\n",
       "    </tr>\n",
       "  </thead>\n",
       "  <tbody>\n",
       "  </tbody>\n",
       "</table>\n",
       "</div>"
      ]
     },
     "execution_count": 48,
     "metadata": {},
     "output_type": "execute_result"
    }
   ],
   "execution_count": 48
  }
 ],
 "metadata": {
  "kernelspec": {
   "display_name": "Python 3",
   "language": "python",
   "name": "python3"
  },
  "language_info": {
   "codemirror_mode": {
    "name": "ipython",
    "version": 2
   },
   "file_extension": ".py",
   "mimetype": "text/x-python",
   "name": "python",
   "nbconvert_exporter": "python",
   "pygments_lexer": "ipython2",
   "version": "2.7.6"
  }
 },
 "nbformat": 4,
 "nbformat_minor": 5
}
