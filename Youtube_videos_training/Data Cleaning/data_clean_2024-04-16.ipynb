{
 "cells": [
  {
   "metadata": {},
   "cell_type": "markdown",
   "source": "https://www.youtube.com/watch?v=iaZQF8SLHJs&list=PLxhYs0VkONL9h5zHZXNntPqLC1JVg9pxX&index=61",
   "id": "e64d4f33d14b568a"
  },
  {
   "cell_type": "code",
   "id": "initial_id",
   "metadata": {
    "collapsed": true,
    "ExecuteTime": {
     "end_time": "2024-04-18T19:53:40.823756Z",
     "start_time": "2024-04-18T19:53:40.820251Z"
    }
   },
   "source": [
    "import pandas as pd\n",
    "import datetime as dt\n",
    "from string import punctuation"
   ],
   "outputs": [],
   "execution_count": 185
  },
  {
   "metadata": {
    "ExecuteTime": {
     "end_time": "2024-04-18T19:49:42.055007Z",
     "start_time": "2024-04-18T19:49:41.796980Z"
    }
   },
   "cell_type": "code",
   "source": [
    "url = r'https://www.espncricinfo.com/records/highest-career-batting-average-282910'\n",
    "df = pd.read_html(url)\n",
    "df = df[0]"
   ],
   "id": "1eabbad44a8bca5c",
   "outputs": [],
   "execution_count": 165
  },
  {
   "metadata": {
    "ExecuteTime": {
     "end_time": "2024-04-18T19:49:42.060053Z",
     "start_time": "2024-04-18T19:49:42.056015Z"
    }
   },
   "cell_type": "code",
   "source": [
    "df = df.rename(columns = {\n",
    "  'Mat': 'Matches',\n",
    "  'NO': 'Not_Outs',\n",
    "  'HS': 'Highest_Inns_Score', \n",
    "  'BF': 'Balls_Faced', \n",
    "  'SR': 'Batting_Strike_Rate'\n",
    "})"
   ],
   "id": "ba513705c2154be7",
   "outputs": [],
   "execution_count": 166
  },
  {
   "metadata": {
    "ExecuteTime": {
     "end_time": "2024-04-18T19:49:42.069242Z",
     "start_time": "2024-04-18T19:49:42.061058Z"
    }
   },
   "cell_type": "code",
   "source": "df.isnull().any()",
   "id": "478a512091e521c7",
   "outputs": [
    {
     "data": {
      "text/plain": [
       "Player                 False\n",
       "Span                   False\n",
       "Matches                False\n",
       "Inns                   False\n",
       "Not_Outs               False\n",
       "Runs                   False\n",
       "Highest_Inns_Score     False\n",
       "Ave                    False\n",
       "Balls_Faced            False\n",
       "Batting_Strike_Rate    False\n",
       "100                    False\n",
       "50                     False\n",
       "0                      False\n",
       "4s                     False\n",
       "6s                     False\n",
       "dtype: bool"
      ]
     },
     "execution_count": 167,
     "metadata": {},
     "output_type": "execute_result"
    }
   ],
   "execution_count": 167
  },
  {
   "metadata": {
    "ExecuteTime": {
     "end_time": "2024-04-18T19:49:42.078580Z",
     "start_time": "2024-04-18T19:49:42.069945Z"
    }
   },
   "cell_type": "code",
   "source": [
    "df[df['Balls_Faced'].isna() == 1]\n",
    "# 10.25 finished"
   ],
   "id": "c6425c094f68fd74",
   "outputs": [
    {
     "data": {
      "text/plain": [
       "Empty DataFrame\n",
       "Columns: [Player, Span, Matches, Inns, Not_Outs, Runs, Highest_Inns_Score, Ave, Balls_Faced, Batting_Strike_Rate, 100, 50, 0, 4s, 6s]\n",
       "Index: []"
      ],
      "text/html": [
       "<div>\n",
       "<style scoped>\n",
       "    .dataframe tbody tr th:only-of-type {\n",
       "        vertical-align: middle;\n",
       "    }\n",
       "\n",
       "    .dataframe tbody tr th {\n",
       "        vertical-align: top;\n",
       "    }\n",
       "\n",
       "    .dataframe thead th {\n",
       "        text-align: right;\n",
       "    }\n",
       "</style>\n",
       "<table border=\"1\" class=\"dataframe\">\n",
       "  <thead>\n",
       "    <tr style=\"text-align: right;\">\n",
       "      <th></th>\n",
       "      <th>Player</th>\n",
       "      <th>Span</th>\n",
       "      <th>Matches</th>\n",
       "      <th>Inns</th>\n",
       "      <th>Not_Outs</th>\n",
       "      <th>Runs</th>\n",
       "      <th>Highest_Inns_Score</th>\n",
       "      <th>Ave</th>\n",
       "      <th>Balls_Faced</th>\n",
       "      <th>Batting_Strike_Rate</th>\n",
       "      <th>100</th>\n",
       "      <th>50</th>\n",
       "      <th>0</th>\n",
       "      <th>4s</th>\n",
       "      <th>6s</th>\n",
       "    </tr>\n",
       "  </thead>\n",
       "  <tbody>\n",
       "  </tbody>\n",
       "</table>\n",
       "</div>"
      ]
     },
     "execution_count": 168,
     "metadata": {},
     "output_type": "execute_result"
    }
   ],
   "execution_count": 168
  },
  {
   "metadata": {
    "ExecuteTime": {
     "end_time": "2024-04-18T19:49:42.087418Z",
     "start_time": "2024-04-18T19:49:42.079162Z"
    }
   },
   "cell_type": "code",
   "source": "df[df['Player'] == 'ED Weekes (WI)']",
   "id": "c4ede3e96475dbd5",
   "outputs": [
    {
     "data": {
      "text/plain": [
       "           Player       Span  Matches  Inns  Not_Outs  Runs  \\\n",
       "8  ED Weekes (WI)  1948-1958       48    81         5  4455   \n",
       "\n",
       "  Highest_Inns_Score    Ave Balls_Faced  Batting_Strike_Rate  100  50  0  \\\n",
       "8                207  58.61           -                  0.0   15  19  6   \n",
       "\n",
       "     4s 6s  \n",
       "8  258+  2  "
      ],
      "text/html": [
       "<div>\n",
       "<style scoped>\n",
       "    .dataframe tbody tr th:only-of-type {\n",
       "        vertical-align: middle;\n",
       "    }\n",
       "\n",
       "    .dataframe tbody tr th {\n",
       "        vertical-align: top;\n",
       "    }\n",
       "\n",
       "    .dataframe thead th {\n",
       "        text-align: right;\n",
       "    }\n",
       "</style>\n",
       "<table border=\"1\" class=\"dataframe\">\n",
       "  <thead>\n",
       "    <tr style=\"text-align: right;\">\n",
       "      <th></th>\n",
       "      <th>Player</th>\n",
       "      <th>Span</th>\n",
       "      <th>Matches</th>\n",
       "      <th>Inns</th>\n",
       "      <th>Not_Outs</th>\n",
       "      <th>Runs</th>\n",
       "      <th>Highest_Inns_Score</th>\n",
       "      <th>Ave</th>\n",
       "      <th>Balls_Faced</th>\n",
       "      <th>Batting_Strike_Rate</th>\n",
       "      <th>100</th>\n",
       "      <th>50</th>\n",
       "      <th>0</th>\n",
       "      <th>4s</th>\n",
       "      <th>6s</th>\n",
       "    </tr>\n",
       "  </thead>\n",
       "  <tbody>\n",
       "    <tr>\n",
       "      <th>8</th>\n",
       "      <td>ED Weekes (WI)</td>\n",
       "      <td>1948-1958</td>\n",
       "      <td>48</td>\n",
       "      <td>81</td>\n",
       "      <td>5</td>\n",
       "      <td>4455</td>\n",
       "      <td>207</td>\n",
       "      <td>58.61</td>\n",
       "      <td>-</td>\n",
       "      <td>0.0</td>\n",
       "      <td>15</td>\n",
       "      <td>19</td>\n",
       "      <td>6</td>\n",
       "      <td>258+</td>\n",
       "      <td>2</td>\n",
       "    </tr>\n",
       "  </tbody>\n",
       "</table>\n",
       "</div>"
      ]
     },
     "execution_count": 169,
     "metadata": {},
     "output_type": "execute_result"
    }
   ],
   "execution_count": 169
  },
  {
   "metadata": {
    "ExecuteTime": {
     "end_time": "2024-04-18T19:49:42.098141Z",
     "start_time": "2024-04-18T19:49:42.087418Z"
    }
   },
   "cell_type": "code",
   "source": [
    "# drop duplicates\n",
    "# df[df.duplicated()]\n",
    "df[df['Player'].duplicated() == 0]"
   ],
   "id": "394bd432e8634a98",
   "outputs": [
    {
     "data": {
      "text/plain": [
       "               Player       Span  Matches  Inns  Not_Outs  Runs  \\\n",
       "0    DG Bradman (AUS)  1928-1948       52    80        10  6996   \n",
       "1      HC Brook (ENG)  2022-2023       12    20         1  1181   \n",
       "2      AC Voges (AUS)  2015-2016       20    31         7  1485   \n",
       "3     RG Pollock (SA)  1963-1970       23    41         4  2256   \n",
       "4     GA Headley (WI)  1930-1954       22    40         4  2190   \n",
       "..                ...        ...      ...   ...       ...   ...   \n",
       "57   KD Walters (AUS)  1965-1981       74   125        14  5357   \n",
       "58  GC Smith (ICC/SA)  2002-2014      117   205        13  9265   \n",
       "59  WH Ponsford (AUS)  1924-1934       29    48         4  2122   \n",
       "60    SJ McCabe (AUS)  1930-1938       39    62         5  2748   \n",
       "61   DR Jardine (ENG)  1928-1934       22    33         6  1296   \n",
       "\n",
       "   Highest_Inns_Score    Ave Balls_Faced  Batting_Strike_Rate  100  50   0  \\\n",
       "0                 334  99.94       9800+                58.60   29  13   7   \n",
       "1                 186  62.15        1287                91.76    4   7   1   \n",
       "2                269*  61.87        2667                55.68    5   4   2   \n",
       "3                 274  60.97       1707+                54.48    7  11   1   \n",
       "4                270*  60.83        416+                56.00   10   5   2   \n",
       "..                ...    ...         ...                  ...  ...  ..  ..   \n",
       "57                250  48.26       8662+                49.16   15  33   4   \n",
       "58                277  48.25       15525                59.67   27  38  11   \n",
       "59                266  48.22       3118+                44.77    7   6   1   \n",
       "60                232  48.21       3217+                60.02    6  13   4   \n",
       "61                127  48.00       2110+                25.59    1  10   2   \n",
       "\n",
       "      4s  6s  \n",
       "0   626+   6  \n",
       "1    141  23  \n",
       "2    186   5  \n",
       "3   246+  11  \n",
       "4   104+   1  \n",
       "..   ...  ..  \n",
       "57  525+  23  \n",
       "58  1165  24  \n",
       "59  119+   0  \n",
       "60  241+  5+  \n",
       "61   53+   0  \n",
       "\n",
       "[62 rows x 15 columns]"
      ],
      "text/html": [
       "<div>\n",
       "<style scoped>\n",
       "    .dataframe tbody tr th:only-of-type {\n",
       "        vertical-align: middle;\n",
       "    }\n",
       "\n",
       "    .dataframe tbody tr th {\n",
       "        vertical-align: top;\n",
       "    }\n",
       "\n",
       "    .dataframe thead th {\n",
       "        text-align: right;\n",
       "    }\n",
       "</style>\n",
       "<table border=\"1\" class=\"dataframe\">\n",
       "  <thead>\n",
       "    <tr style=\"text-align: right;\">\n",
       "      <th></th>\n",
       "      <th>Player</th>\n",
       "      <th>Span</th>\n",
       "      <th>Matches</th>\n",
       "      <th>Inns</th>\n",
       "      <th>Not_Outs</th>\n",
       "      <th>Runs</th>\n",
       "      <th>Highest_Inns_Score</th>\n",
       "      <th>Ave</th>\n",
       "      <th>Balls_Faced</th>\n",
       "      <th>Batting_Strike_Rate</th>\n",
       "      <th>100</th>\n",
       "      <th>50</th>\n",
       "      <th>0</th>\n",
       "      <th>4s</th>\n",
       "      <th>6s</th>\n",
       "    </tr>\n",
       "  </thead>\n",
       "  <tbody>\n",
       "    <tr>\n",
       "      <th>0</th>\n",
       "      <td>DG Bradman (AUS)</td>\n",
       "      <td>1928-1948</td>\n",
       "      <td>52</td>\n",
       "      <td>80</td>\n",
       "      <td>10</td>\n",
       "      <td>6996</td>\n",
       "      <td>334</td>\n",
       "      <td>99.94</td>\n",
       "      <td>9800+</td>\n",
       "      <td>58.60</td>\n",
       "      <td>29</td>\n",
       "      <td>13</td>\n",
       "      <td>7</td>\n",
       "      <td>626+</td>\n",
       "      <td>6</td>\n",
       "    </tr>\n",
       "    <tr>\n",
       "      <th>1</th>\n",
       "      <td>HC Brook (ENG)</td>\n",
       "      <td>2022-2023</td>\n",
       "      <td>12</td>\n",
       "      <td>20</td>\n",
       "      <td>1</td>\n",
       "      <td>1181</td>\n",
       "      <td>186</td>\n",
       "      <td>62.15</td>\n",
       "      <td>1287</td>\n",
       "      <td>91.76</td>\n",
       "      <td>4</td>\n",
       "      <td>7</td>\n",
       "      <td>1</td>\n",
       "      <td>141</td>\n",
       "      <td>23</td>\n",
       "    </tr>\n",
       "    <tr>\n",
       "      <th>2</th>\n",
       "      <td>AC Voges (AUS)</td>\n",
       "      <td>2015-2016</td>\n",
       "      <td>20</td>\n",
       "      <td>31</td>\n",
       "      <td>7</td>\n",
       "      <td>1485</td>\n",
       "      <td>269*</td>\n",
       "      <td>61.87</td>\n",
       "      <td>2667</td>\n",
       "      <td>55.68</td>\n",
       "      <td>5</td>\n",
       "      <td>4</td>\n",
       "      <td>2</td>\n",
       "      <td>186</td>\n",
       "      <td>5</td>\n",
       "    </tr>\n",
       "    <tr>\n",
       "      <th>3</th>\n",
       "      <td>RG Pollock (SA)</td>\n",
       "      <td>1963-1970</td>\n",
       "      <td>23</td>\n",
       "      <td>41</td>\n",
       "      <td>4</td>\n",
       "      <td>2256</td>\n",
       "      <td>274</td>\n",
       "      <td>60.97</td>\n",
       "      <td>1707+</td>\n",
       "      <td>54.48</td>\n",
       "      <td>7</td>\n",
       "      <td>11</td>\n",
       "      <td>1</td>\n",
       "      <td>246+</td>\n",
       "      <td>11</td>\n",
       "    </tr>\n",
       "    <tr>\n",
       "      <th>4</th>\n",
       "      <td>GA Headley (WI)</td>\n",
       "      <td>1930-1954</td>\n",
       "      <td>22</td>\n",
       "      <td>40</td>\n",
       "      <td>4</td>\n",
       "      <td>2190</td>\n",
       "      <td>270*</td>\n",
       "      <td>60.83</td>\n",
       "      <td>416+</td>\n",
       "      <td>56.00</td>\n",
       "      <td>10</td>\n",
       "      <td>5</td>\n",
       "      <td>2</td>\n",
       "      <td>104+</td>\n",
       "      <td>1</td>\n",
       "    </tr>\n",
       "    <tr>\n",
       "      <th>...</th>\n",
       "      <td>...</td>\n",
       "      <td>...</td>\n",
       "      <td>...</td>\n",
       "      <td>...</td>\n",
       "      <td>...</td>\n",
       "      <td>...</td>\n",
       "      <td>...</td>\n",
       "      <td>...</td>\n",
       "      <td>...</td>\n",
       "      <td>...</td>\n",
       "      <td>...</td>\n",
       "      <td>...</td>\n",
       "      <td>...</td>\n",
       "      <td>...</td>\n",
       "      <td>...</td>\n",
       "    </tr>\n",
       "    <tr>\n",
       "      <th>57</th>\n",
       "      <td>KD Walters (AUS)</td>\n",
       "      <td>1965-1981</td>\n",
       "      <td>74</td>\n",
       "      <td>125</td>\n",
       "      <td>14</td>\n",
       "      <td>5357</td>\n",
       "      <td>250</td>\n",
       "      <td>48.26</td>\n",
       "      <td>8662+</td>\n",
       "      <td>49.16</td>\n",
       "      <td>15</td>\n",
       "      <td>33</td>\n",
       "      <td>4</td>\n",
       "      <td>525+</td>\n",
       "      <td>23</td>\n",
       "    </tr>\n",
       "    <tr>\n",
       "      <th>58</th>\n",
       "      <td>GC Smith (ICC/SA)</td>\n",
       "      <td>2002-2014</td>\n",
       "      <td>117</td>\n",
       "      <td>205</td>\n",
       "      <td>13</td>\n",
       "      <td>9265</td>\n",
       "      <td>277</td>\n",
       "      <td>48.25</td>\n",
       "      <td>15525</td>\n",
       "      <td>59.67</td>\n",
       "      <td>27</td>\n",
       "      <td>38</td>\n",
       "      <td>11</td>\n",
       "      <td>1165</td>\n",
       "      <td>24</td>\n",
       "    </tr>\n",
       "    <tr>\n",
       "      <th>59</th>\n",
       "      <td>WH Ponsford (AUS)</td>\n",
       "      <td>1924-1934</td>\n",
       "      <td>29</td>\n",
       "      <td>48</td>\n",
       "      <td>4</td>\n",
       "      <td>2122</td>\n",
       "      <td>266</td>\n",
       "      <td>48.22</td>\n",
       "      <td>3118+</td>\n",
       "      <td>44.77</td>\n",
       "      <td>7</td>\n",
       "      <td>6</td>\n",
       "      <td>1</td>\n",
       "      <td>119+</td>\n",
       "      <td>0</td>\n",
       "    </tr>\n",
       "    <tr>\n",
       "      <th>60</th>\n",
       "      <td>SJ McCabe (AUS)</td>\n",
       "      <td>1930-1938</td>\n",
       "      <td>39</td>\n",
       "      <td>62</td>\n",
       "      <td>5</td>\n",
       "      <td>2748</td>\n",
       "      <td>232</td>\n",
       "      <td>48.21</td>\n",
       "      <td>3217+</td>\n",
       "      <td>60.02</td>\n",
       "      <td>6</td>\n",
       "      <td>13</td>\n",
       "      <td>4</td>\n",
       "      <td>241+</td>\n",
       "      <td>5+</td>\n",
       "    </tr>\n",
       "    <tr>\n",
       "      <th>61</th>\n",
       "      <td>DR Jardine (ENG)</td>\n",
       "      <td>1928-1934</td>\n",
       "      <td>22</td>\n",
       "      <td>33</td>\n",
       "      <td>6</td>\n",
       "      <td>1296</td>\n",
       "      <td>127</td>\n",
       "      <td>48.00</td>\n",
       "      <td>2110+</td>\n",
       "      <td>25.59</td>\n",
       "      <td>1</td>\n",
       "      <td>10</td>\n",
       "      <td>2</td>\n",
       "      <td>53+</td>\n",
       "      <td>0</td>\n",
       "    </tr>\n",
       "  </tbody>\n",
       "</table>\n",
       "<p>62 rows × 15 columns</p>\n",
       "</div>"
      ]
     },
     "execution_count": 170,
     "metadata": {},
     "output_type": "execute_result"
    }
   ],
   "execution_count": 170
  },
  {
   "metadata": {
    "ExecuteTime": {
     "end_time": "2024-04-18T19:49:42.108922Z",
     "start_time": "2024-04-18T19:49:42.099150Z"
    }
   },
   "cell_type": "code",
   "source": "df[df['Player'].isin(['GA Headley (WI)', 'GS Sobers (WI)', 'ED Weekes (WI)'])]",
   "id": "373d96986f3bdff1",
   "outputs": [
    {
     "data": {
      "text/plain": [
       "             Player       Span  Matches  Inns  Not_Outs  Runs  \\\n",
       "4   GA Headley (WI)  1930-1954       22    40         4  2190   \n",
       "8    ED Weekes (WI)  1948-1958       48    81         5  4455   \n",
       "10   GS Sobers (WI)  1954-1974       93   160        21  8032   \n",
       "\n",
       "   Highest_Inns_Score    Ave Balls_Faced  Batting_Strike_Rate  100  50   0  \\\n",
       "4                270*  60.83        416+                56.00   10   5   2   \n",
       "8                 207  58.61           -                 0.00   15  19   6   \n",
       "10               365*  57.78       4063+                53.58   26  30  12   \n",
       "\n",
       "      4s   6s  \n",
       "4   104+    1  \n",
       "8   258+    2  \n",
       "10  593+  32+  "
      ],
      "text/html": [
       "<div>\n",
       "<style scoped>\n",
       "    .dataframe tbody tr th:only-of-type {\n",
       "        vertical-align: middle;\n",
       "    }\n",
       "\n",
       "    .dataframe tbody tr th {\n",
       "        vertical-align: top;\n",
       "    }\n",
       "\n",
       "    .dataframe thead th {\n",
       "        text-align: right;\n",
       "    }\n",
       "</style>\n",
       "<table border=\"1\" class=\"dataframe\">\n",
       "  <thead>\n",
       "    <tr style=\"text-align: right;\">\n",
       "      <th></th>\n",
       "      <th>Player</th>\n",
       "      <th>Span</th>\n",
       "      <th>Matches</th>\n",
       "      <th>Inns</th>\n",
       "      <th>Not_Outs</th>\n",
       "      <th>Runs</th>\n",
       "      <th>Highest_Inns_Score</th>\n",
       "      <th>Ave</th>\n",
       "      <th>Balls_Faced</th>\n",
       "      <th>Batting_Strike_Rate</th>\n",
       "      <th>100</th>\n",
       "      <th>50</th>\n",
       "      <th>0</th>\n",
       "      <th>4s</th>\n",
       "      <th>6s</th>\n",
       "    </tr>\n",
       "  </thead>\n",
       "  <tbody>\n",
       "    <tr>\n",
       "      <th>4</th>\n",
       "      <td>GA Headley (WI)</td>\n",
       "      <td>1930-1954</td>\n",
       "      <td>22</td>\n",
       "      <td>40</td>\n",
       "      <td>4</td>\n",
       "      <td>2190</td>\n",
       "      <td>270*</td>\n",
       "      <td>60.83</td>\n",
       "      <td>416+</td>\n",
       "      <td>56.00</td>\n",
       "      <td>10</td>\n",
       "      <td>5</td>\n",
       "      <td>2</td>\n",
       "      <td>104+</td>\n",
       "      <td>1</td>\n",
       "    </tr>\n",
       "    <tr>\n",
       "      <th>8</th>\n",
       "      <td>ED Weekes (WI)</td>\n",
       "      <td>1948-1958</td>\n",
       "      <td>48</td>\n",
       "      <td>81</td>\n",
       "      <td>5</td>\n",
       "      <td>4455</td>\n",
       "      <td>207</td>\n",
       "      <td>58.61</td>\n",
       "      <td>-</td>\n",
       "      <td>0.00</td>\n",
       "      <td>15</td>\n",
       "      <td>19</td>\n",
       "      <td>6</td>\n",
       "      <td>258+</td>\n",
       "      <td>2</td>\n",
       "    </tr>\n",
       "    <tr>\n",
       "      <th>10</th>\n",
       "      <td>GS Sobers (WI)</td>\n",
       "      <td>1954-1974</td>\n",
       "      <td>93</td>\n",
       "      <td>160</td>\n",
       "      <td>21</td>\n",
       "      <td>8032</td>\n",
       "      <td>365*</td>\n",
       "      <td>57.78</td>\n",
       "      <td>4063+</td>\n",
       "      <td>53.58</td>\n",
       "      <td>26</td>\n",
       "      <td>30</td>\n",
       "      <td>12</td>\n",
       "      <td>593+</td>\n",
       "      <td>32+</td>\n",
       "    </tr>\n",
       "  </tbody>\n",
       "</table>\n",
       "</div>"
      ]
     },
     "execution_count": 171,
     "metadata": {},
     "output_type": "execute_result"
    }
   ],
   "execution_count": 171
  },
  {
   "metadata": {
    "ExecuteTime": {
     "end_time": "2024-04-18T19:49:42.115630Z",
     "start_time": "2024-04-18T19:49:42.110574Z"
    }
   },
   "cell_type": "code",
   "source": "df = df.drop_duplicates()",
   "id": "52ee46c31fc69be2",
   "outputs": [],
   "execution_count": 172
  },
  {
   "metadata": {
    "ExecuteTime": {
     "end_time": "2024-04-18T19:49:42.122653Z",
     "start_time": "2024-04-18T19:49:42.116637Z"
    }
   },
   "cell_type": "code",
   "source": [
    "# Split up Span into Start and End Date\n",
    "start_date= df['Span'].str.split('-').str.get(0)\n",
    "end_date= df['Span'].str.split('-').str.get(1)\n",
    "df.drop('Span', axis=1, inplace=True)\n",
    "\n",
    "df.insert(1, 'Rookie_Year', start_date)\n",
    "df.insert(2, 'Final_Year', end_date)"
   ],
   "id": "f3fb9de2bdf05a08",
   "outputs": [],
   "execution_count": 173
  },
  {
   "metadata": {
    "ExecuteTime": {
     "end_time": "2024-04-18T19:49:42.128188Z",
     "start_time": "2024-04-18T19:49:42.123661Z"
    }
   },
   "cell_type": "code",
   "source": [
    "df['Rookie_Year'] = pd.to_datetime(df['Rookie_Year']).dt.year # for testing useless code\n",
    "df['Final_Year'] = pd.to_datetime(df['Final_Year']).dt.year # for testing useless code "
   ],
   "id": "910c40699f7608ba",
   "outputs": [],
   "execution_count": 174
  },
  {
   "metadata": {
    "ExecuteTime": {
     "end_time": "2024-04-18T19:49:42.133665Z",
     "start_time": "2024-04-18T19:49:42.129338Z"
    }
   },
   "cell_type": "code",
   "source": "df['Country'] = df['Player'].str.split('(').str.get(1).str.replace(')', '')",
   "id": "f87369f1ba6ed31a",
   "outputs": [],
   "execution_count": 175
  },
  {
   "metadata": {
    "ExecuteTime": {
     "end_time": "2024-04-18T19:49:55.439909Z",
     "start_time": "2024-04-18T19:49:55.435578Z"
    }
   },
   "cell_type": "code",
   "source": "df['Player'] = df['Player'].str.split().str[:2].str.join(' ')",
   "id": "fcd489b9ceb7f623",
   "outputs": [],
   "execution_count": 179
  },
  {
   "metadata": {
    "ExecuteTime": {
     "end_time": "2024-04-18T19:58:47.439314Z",
     "start_time": "2024-04-18T19:58:47.432914Z"
    }
   },
   "cell_type": "code",
   "source": [
    "df['Highest_Inns_Score'] = df['Highest_Inns_Score'].str.replace('\\\\W', '', regex=True)\n",
    "# 24:35"
   ],
   "id": "25319c207d968562",
   "outputs": [
    {
     "data": {
      "text/plain": [
       "0     334\n",
       "1     186\n",
       "2     269\n",
       "3     274\n",
       "4     270\n",
       "     ... \n",
       "57    250\n",
       "58    277\n",
       "59    266\n",
       "60    232\n",
       "61    127\n",
       "Name: Highest_Inns_Score, Length: 62, dtype: object"
      ]
     },
     "execution_count": 193,
     "metadata": {},
     "output_type": "execute_result"
    }
   ],
   "execution_count": 193
  }
 ],
 "metadata": {
  "kernelspec": {
   "display_name": "Python 3",
   "language": "python",
   "name": "python3"
  },
  "language_info": {
   "codemirror_mode": {
    "name": "ipython",
    "version": 2
   },
   "file_extension": ".py",
   "mimetype": "text/x-python",
   "name": "python",
   "nbconvert_exporter": "python",
   "pygments_lexer": "ipython2",
   "version": "2.7.6"
  }
 },
 "nbformat": 4,
 "nbformat_minor": 5
}
