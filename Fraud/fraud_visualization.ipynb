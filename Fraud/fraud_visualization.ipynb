{
 "cells": [
  {
   "cell_type": "code",
   "id": "initial_id",
   "metadata": {
    "collapsed": true,
    "ExecuteTime": {
     "end_time": "2024-04-15T18:53:04.055415Z",
     "start_time": "2024-04-15T18:53:04.052185Z"
    }
   },
   "source": [
    "import pandas as pd\n",
    "import seaborn as sns\n",
    "import matplotlib.pyplot as plt\n",
    "import plotly.express as px"
   ],
   "outputs": [],
   "execution_count": 54
  },
  {
   "metadata": {
    "ExecuteTime": {
     "end_time": "2024-04-15T18:53:04.074008Z",
     "start_time": "2024-04-15T18:53:04.056423Z"
    }
   },
   "cell_type": "code",
   "source": "fraud_path = r'F:\\DataSpell\\Pandas_training\\Fraud\\data_set\\Fraudulent_E-Commerce_Transaction_Data.csv'",
   "id": "afeddd954fb8c0dd",
   "outputs": [],
   "execution_count": 55
  },
  {
   "metadata": {
    "ExecuteTime": {
     "end_time": "2024-04-15T18:53:09.259006Z",
     "start_time": "2024-04-15T18:53:04.075015Z"
    }
   },
   "cell_type": "code",
   "source": "fraud = pd.read_csv(fraud_path)",
   "id": "8409323acbc2db0a",
   "outputs": [],
   "execution_count": 56
  },
  {
   "metadata": {
    "ExecuteTime": {
     "end_time": "2024-04-15T18:53:09.963598Z",
     "start_time": "2024-04-15T18:53:09.260009Z"
    }
   },
   "cell_type": "code",
   "source": [
    "fraud['Payment Method'] = fraud['Payment Method'].str.lower().astype('category')\n",
    "fraud['Product Category'] = fraud['Product Category'].str.lower().astype('category')\n",
    "fraud['Quantity'] = pd.to_numeric(fraud['Quantity'], downcast='integer')\n",
    "fraud['Customer Age'] = pd.to_numeric(fraud['Customer Age'], downcast='integer')\n",
    "fraud['Device Used'] = fraud['Device Used'].str.lower().astype('category')\n",
    "fraud['Is Fraudulent'] = fraud['Is Fraudulent'].astype(bool)\n",
    "fraud['Account Age Days'] = pd.to_numeric(fraud['Account Age Days'], downcast='integer')\n",
    "fraud['Transaction Hour'] = pd.to_numeric(fraud['Transaction Hour'], downcast='integer')"
   ],
   "id": "36911c2ea87acd30",
   "outputs": [],
   "execution_count": 57
  },
  {
   "metadata": {
    "ExecuteTime": {
     "end_time": "2024-04-15T18:53:12.758469Z",
     "start_time": "2024-04-15T18:53:09.964602Z"
    }
   },
   "cell_type": "code",
   "source": "fraud.to_parquet(r'F:\\DataSpell\\Pandas_training\\Fraud\\data_set\\Fraudulent_E-Commerce_Transaction_Data.parquet')",
   "id": "d2a942da1ddc8718",
   "outputs": [],
   "execution_count": 58
  },
  {
   "metadata": {
    "ExecuteTime": {
     "end_time": "2024-04-15T18:53:12.766479Z",
     "start_time": "2024-04-15T18:53:12.759476Z"
    }
   },
   "cell_type": "code",
   "source": "fraud.set_index('Transaction ID', inplace=True)",
   "id": "a1f64faea0f79ccb",
   "outputs": [],
   "execution_count": 59
  },
  {
   "metadata": {
    "ExecuteTime": {
     "end_time": "2024-04-15T18:53:12.777909Z",
     "start_time": "2024-04-15T18:53:12.768Z"
    }
   },
   "cell_type": "code",
   "source": "fraud.head()",
   "id": "47452fd5b26e7054",
   "outputs": [
    {
     "data": {
      "text/plain": [
       "                                                               Customer ID  \\\n",
       "Transaction ID                                                               \n",
       "15d2e414-8735-46fc-9e02-80b472b2580f  d1b87f62-51b2-493b-ad6a-77e0fe13e785   \n",
       "0bfee1a0-6d5e-40da-a446-d04e73b1b177  37de64d5-e901-4a56-9ea0-af0c24c069cf   \n",
       "e588eef4-b754-468e-9d90-d0e0abfc1af0  1bac88d6-4b22-409a-a06b-425119c57225   \n",
       "4de46e52-60c3-49d9-be39-636681009789  2357c76e-9253-4ceb-b44e-ef4b71cb7d4d   \n",
       "074a76de-fe2d-443e-a00c-f044cdb68e21  45071bc5-9588-43ea-8093-023caec8ea1c   \n",
       "\n",
       "                                      Transaction Amount     Transaction Date  \\\n",
       "Transaction ID                                                                  \n",
       "15d2e414-8735-46fc-9e02-80b472b2580f               58.09  2024-02-20 05:58:41   \n",
       "0bfee1a0-6d5e-40da-a446-d04e73b1b177              389.96  2024-02-25 08:09:45   \n",
       "e588eef4-b754-468e-9d90-d0e0abfc1af0              134.19  2024-03-18 03:42:55   \n",
       "4de46e52-60c3-49d9-be39-636681009789              226.17  2024-03-16 20:41:31   \n",
       "074a76de-fe2d-443e-a00c-f044cdb68e21              121.53  2024-01-15 05:08:17   \n",
       "\n",
       "                                     Payment Method Product Category  \\\n",
       "Transaction ID                                                         \n",
       "15d2e414-8735-46fc-9e02-80b472b2580f  bank transfer      electronics   \n",
       "0bfee1a0-6d5e-40da-a446-d04e73b1b177     debit card      electronics   \n",
       "e588eef4-b754-468e-9d90-d0e0abfc1af0         paypal    home & garden   \n",
       "4de46e52-60c3-49d9-be39-636681009789  bank transfer         clothing   \n",
       "074a76de-fe2d-443e-a00c-f044cdb68e21  bank transfer         clothing   \n",
       "\n",
       "                                      Quantity  Customer Age  \\\n",
       "Transaction ID                                                 \n",
       "15d2e414-8735-46fc-9e02-80b472b2580f         1            17   \n",
       "0bfee1a0-6d5e-40da-a446-d04e73b1b177         2            40   \n",
       "e588eef4-b754-468e-9d90-d0e0abfc1af0         2            22   \n",
       "4de46e52-60c3-49d9-be39-636681009789         5            31   \n",
       "074a76de-fe2d-443e-a00c-f044cdb68e21         2            51   \n",
       "\n",
       "                                     Customer Location Device Used  \\\n",
       "Transaction ID                                                       \n",
       "15d2e414-8735-46fc-9e02-80b472b2580f     Amandaborough      tablet   \n",
       "0bfee1a0-6d5e-40da-a446-d04e73b1b177      East Timothy     desktop   \n",
       "e588eef4-b754-468e-9d90-d0e0abfc1af0        Davismouth      tablet   \n",
       "4de46e52-60c3-49d9-be39-636681009789          Lynnberg     desktop   \n",
       "074a76de-fe2d-443e-a00c-f044cdb68e21      South Nicole      tablet   \n",
       "\n",
       "                                           IP Address  \\\n",
       "Transaction ID                                          \n",
       "15d2e414-8735-46fc-9e02-80b472b2580f   212.195.49.198   \n",
       "0bfee1a0-6d5e-40da-a446-d04e73b1b177  208.106.249.121   \n",
       "e588eef4-b754-468e-9d90-d0e0abfc1af0     76.63.88.212   \n",
       "4de46e52-60c3-49d9-be39-636681009789   207.208.171.73   \n",
       "074a76de-fe2d-443e-a00c-f044cdb68e21   190.172.14.169   \n",
       "\n",
       "                                                                       Shipping Address  \\\n",
       "Transaction ID                                                                            \n",
       "15d2e414-8735-46fc-9e02-80b472b2580f                   Unit 8934 Box 0058\\nDPO AA 05437   \n",
       "0bfee1a0-6d5e-40da-a446-d04e73b1b177            634 May Keys\\nPort Cherylview, NV 75063   \n",
       "e588eef4-b754-468e-9d90-d0e0abfc1af0    16282 Dana Falls Suite 790\\nRothhaven, IL 15564   \n",
       "4de46e52-60c3-49d9-be39-636681009789     828 Strong Loaf Apt. 646\\nNew Joshua, UT 84798   \n",
       "074a76de-fe2d-443e-a00c-f044cdb68e21  29799 Jason Hills Apt. 439\\nWest Richardtown, ...   \n",
       "\n",
       "                                                                        Billing Address  \\\n",
       "Transaction ID                                                                            \n",
       "15d2e414-8735-46fc-9e02-80b472b2580f                   Unit 8934 Box 0058\\nDPO AA 05437   \n",
       "0bfee1a0-6d5e-40da-a446-d04e73b1b177            634 May Keys\\nPort Cherylview, NV 75063   \n",
       "e588eef4-b754-468e-9d90-d0e0abfc1af0    16282 Dana Falls Suite 790\\nRothhaven, IL 15564   \n",
       "4de46e52-60c3-49d9-be39-636681009789     828 Strong Loaf Apt. 646\\nNew Joshua, UT 84798   \n",
       "074a76de-fe2d-443e-a00c-f044cdb68e21  29799 Jason Hills Apt. 439\\nWest Richardtown, ...   \n",
       "\n",
       "                                      Is Fraudulent  Account Age Days  \\\n",
       "Transaction ID                                                          \n",
       "15d2e414-8735-46fc-9e02-80b472b2580f          False                30   \n",
       "0bfee1a0-6d5e-40da-a446-d04e73b1b177          False                72   \n",
       "e588eef4-b754-468e-9d90-d0e0abfc1af0          False                63   \n",
       "4de46e52-60c3-49d9-be39-636681009789          False               124   \n",
       "074a76de-fe2d-443e-a00c-f044cdb68e21          False               158   \n",
       "\n",
       "                                      Transaction Hour  \n",
       "Transaction ID                                          \n",
       "15d2e414-8735-46fc-9e02-80b472b2580f                 5  \n",
       "0bfee1a0-6d5e-40da-a446-d04e73b1b177                 8  \n",
       "e588eef4-b754-468e-9d90-d0e0abfc1af0                 3  \n",
       "4de46e52-60c3-49d9-be39-636681009789                20  \n",
       "074a76de-fe2d-443e-a00c-f044cdb68e21                 5  "
      ],
      "text/html": [
       "<div>\n",
       "<style scoped>\n",
       "    .dataframe tbody tr th:only-of-type {\n",
       "        vertical-align: middle;\n",
       "    }\n",
       "\n",
       "    .dataframe tbody tr th {\n",
       "        vertical-align: top;\n",
       "    }\n",
       "\n",
       "    .dataframe thead th {\n",
       "        text-align: right;\n",
       "    }\n",
       "</style>\n",
       "<table border=\"1\" class=\"dataframe\">\n",
       "  <thead>\n",
       "    <tr style=\"text-align: right;\">\n",
       "      <th></th>\n",
       "      <th>Customer ID</th>\n",
       "      <th>Transaction Amount</th>\n",
       "      <th>Transaction Date</th>\n",
       "      <th>Payment Method</th>\n",
       "      <th>Product Category</th>\n",
       "      <th>Quantity</th>\n",
       "      <th>Customer Age</th>\n",
       "      <th>Customer Location</th>\n",
       "      <th>Device Used</th>\n",
       "      <th>IP Address</th>\n",
       "      <th>Shipping Address</th>\n",
       "      <th>Billing Address</th>\n",
       "      <th>Is Fraudulent</th>\n",
       "      <th>Account Age Days</th>\n",
       "      <th>Transaction Hour</th>\n",
       "    </tr>\n",
       "    <tr>\n",
       "      <th>Transaction ID</th>\n",
       "      <th></th>\n",
       "      <th></th>\n",
       "      <th></th>\n",
       "      <th></th>\n",
       "      <th></th>\n",
       "      <th></th>\n",
       "      <th></th>\n",
       "      <th></th>\n",
       "      <th></th>\n",
       "      <th></th>\n",
       "      <th></th>\n",
       "      <th></th>\n",
       "      <th></th>\n",
       "      <th></th>\n",
       "      <th></th>\n",
       "    </tr>\n",
       "  </thead>\n",
       "  <tbody>\n",
       "    <tr>\n",
       "      <th>15d2e414-8735-46fc-9e02-80b472b2580f</th>\n",
       "      <td>d1b87f62-51b2-493b-ad6a-77e0fe13e785</td>\n",
       "      <td>58.09</td>\n",
       "      <td>2024-02-20 05:58:41</td>\n",
       "      <td>bank transfer</td>\n",
       "      <td>electronics</td>\n",
       "      <td>1</td>\n",
       "      <td>17</td>\n",
       "      <td>Amandaborough</td>\n",
       "      <td>tablet</td>\n",
       "      <td>212.195.49.198</td>\n",
       "      <td>Unit 8934 Box 0058\\nDPO AA 05437</td>\n",
       "      <td>Unit 8934 Box 0058\\nDPO AA 05437</td>\n",
       "      <td>False</td>\n",
       "      <td>30</td>\n",
       "      <td>5</td>\n",
       "    </tr>\n",
       "    <tr>\n",
       "      <th>0bfee1a0-6d5e-40da-a446-d04e73b1b177</th>\n",
       "      <td>37de64d5-e901-4a56-9ea0-af0c24c069cf</td>\n",
       "      <td>389.96</td>\n",
       "      <td>2024-02-25 08:09:45</td>\n",
       "      <td>debit card</td>\n",
       "      <td>electronics</td>\n",
       "      <td>2</td>\n",
       "      <td>40</td>\n",
       "      <td>East Timothy</td>\n",
       "      <td>desktop</td>\n",
       "      <td>208.106.249.121</td>\n",
       "      <td>634 May Keys\\nPort Cherylview, NV 75063</td>\n",
       "      <td>634 May Keys\\nPort Cherylview, NV 75063</td>\n",
       "      <td>False</td>\n",
       "      <td>72</td>\n",
       "      <td>8</td>\n",
       "    </tr>\n",
       "    <tr>\n",
       "      <th>e588eef4-b754-468e-9d90-d0e0abfc1af0</th>\n",
       "      <td>1bac88d6-4b22-409a-a06b-425119c57225</td>\n",
       "      <td>134.19</td>\n",
       "      <td>2024-03-18 03:42:55</td>\n",
       "      <td>paypal</td>\n",
       "      <td>home &amp; garden</td>\n",
       "      <td>2</td>\n",
       "      <td>22</td>\n",
       "      <td>Davismouth</td>\n",
       "      <td>tablet</td>\n",
       "      <td>76.63.88.212</td>\n",
       "      <td>16282 Dana Falls Suite 790\\nRothhaven, IL 15564</td>\n",
       "      <td>16282 Dana Falls Suite 790\\nRothhaven, IL 15564</td>\n",
       "      <td>False</td>\n",
       "      <td>63</td>\n",
       "      <td>3</td>\n",
       "    </tr>\n",
       "    <tr>\n",
       "      <th>4de46e52-60c3-49d9-be39-636681009789</th>\n",
       "      <td>2357c76e-9253-4ceb-b44e-ef4b71cb7d4d</td>\n",
       "      <td>226.17</td>\n",
       "      <td>2024-03-16 20:41:31</td>\n",
       "      <td>bank transfer</td>\n",
       "      <td>clothing</td>\n",
       "      <td>5</td>\n",
       "      <td>31</td>\n",
       "      <td>Lynnberg</td>\n",
       "      <td>desktop</td>\n",
       "      <td>207.208.171.73</td>\n",
       "      <td>828 Strong Loaf Apt. 646\\nNew Joshua, UT 84798</td>\n",
       "      <td>828 Strong Loaf Apt. 646\\nNew Joshua, UT 84798</td>\n",
       "      <td>False</td>\n",
       "      <td>124</td>\n",
       "      <td>20</td>\n",
       "    </tr>\n",
       "    <tr>\n",
       "      <th>074a76de-fe2d-443e-a00c-f044cdb68e21</th>\n",
       "      <td>45071bc5-9588-43ea-8093-023caec8ea1c</td>\n",
       "      <td>121.53</td>\n",
       "      <td>2024-01-15 05:08:17</td>\n",
       "      <td>bank transfer</td>\n",
       "      <td>clothing</td>\n",
       "      <td>2</td>\n",
       "      <td>51</td>\n",
       "      <td>South Nicole</td>\n",
       "      <td>tablet</td>\n",
       "      <td>190.172.14.169</td>\n",
       "      <td>29799 Jason Hills Apt. 439\\nWest Richardtown, ...</td>\n",
       "      <td>29799 Jason Hills Apt. 439\\nWest Richardtown, ...</td>\n",
       "      <td>False</td>\n",
       "      <td>158</td>\n",
       "      <td>5</td>\n",
       "    </tr>\n",
       "  </tbody>\n",
       "</table>\n",
       "</div>"
      ]
     },
     "execution_count": 60,
     "metadata": {},
     "output_type": "execute_result"
    }
   ],
   "execution_count": 60
  },
  {
   "metadata": {
    "ExecuteTime": {
     "end_time": "2024-04-15T18:53:13.860900Z",
     "start_time": "2024-04-15T18:53:12.778917Z"
    }
   },
   "cell_type": "code",
   "source": [
    "plt.figure(figsize=(100, 120))\n",
    "sns.displot(fraud['Customer Age'], kde=False, bins=50)\n",
    "plt.title('Customer Age Distribution')\n",
    "plt.xlabel('Customer Age')\n",
    "plt.ylabel('Count')\n",
    "plt.show()"
   ],
   "id": "2184bb42e53a5aed",
   "outputs": [
    {
     "data": {
      "text/plain": [
       "<Figure size 10000x12000 with 0 Axes>"
      ]
     },
     "metadata": {},
     "output_type": "display_data"
    },
    {
     "data": {
      "text/plain": [
       "<Figure size 500x500 with 1 Axes>"
      ],
      "image/png": "[encoded data removed]"
     },
     "metadata": {},
     "output_type": "display_data"
    }
   ],
   "execution_count": 61
  },
  {
   "metadata": {
    "ExecuteTime": {
     "end_time": "2024-04-15T18:53:13.864764Z",
     "start_time": "2024-04-15T18:53:13.861909Z"
    }
   },
   "cell_type": "code",
   "source": [
    "# sns.jointplot(x='Customer Age', y='Transaction Amount', data=fraud, kind='scatter')\n",
    "# sns.jointplot(x='Customer Age', y='Transaction Amount', data=fraud, kind='reg')"
   ],
   "id": "f9240819be15ffab",
   "outputs": [],
   "execution_count": 62
  }
 ],
 "metadata": {
  "kernelspec": {
   "display_name": "Python 3",
   "language": "python",
   "name": "python3"
  },
  "language_info": {
   "codemirror_mode": {
    "name": "ipython",
    "version": 2
   },
   "file_extension": ".py",
   "mimetype": "text/x-python",
   "name": "python",
   "nbconvert_exporter": "python",
   "pygments_lexer": "ipython2",
   "version": "2.7.6"
  }
 },
 "nbformat": 4,
 "nbformat_minor": 5
}
