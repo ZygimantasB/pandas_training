{
 "cells": [
  {
   "cell_type": "code",
   "execution_count": 1,
   "id": "initial_id",
   "metadata": {
    "collapsed": true,
    "ExecuteTime": {
     "end_time": "2024-03-16T01:21:03.397796Z",
     "start_time": "2024-03-16T01:20:54.938807Z"
    }
   },
   "outputs": [],
   "source": [
    "import pandas as pd"
   ]
  },
  {
   "cell_type": "code",
   "outputs": [
    {
     "data": {
      "text/plain": "video_id                               object\ntrending_date                          object\ntitle                                  object\nchannel_title                          object\ncategory_id                             int64\npublish_time              datetime64[ns, UTC]\ntags                                   object\nviews                                   int64\nlikes                                   int64\ndislikes                                int64\ncomment_count                           int64\nthumbnail_link                         object\ncomments_disabled                        bool\nratings_disabled                         bool\nvideo_error_or_removed                   bool\ndescription                            object\ndtype: object"
     },
     "execution_count": 15,
     "metadata": {},
     "output_type": "execute_result"
    }
   ],
   "source": [
    "movies_path = '/Users/zygimantas/DataspellProjects/pandas_training/data_sets/USvideos.csv - Sheet1.csv'\n",
    "movies = pd.read_csv(movies_path)\n",
    "movies['publish_time'] = pd.to_datetime(movies['publish_time'])\n",
    "movies.dtypes"
   ],
   "metadata": {
    "collapsed": false,
    "ExecuteTime": {
     "end_time": "2024-03-16T01:28:24.788811Z",
     "start_time": "2024-03-16T01:28:24.144002Z"
    }
   },
   "id": "baa1983b55587034",
   "execution_count": 15
  },
  {
   "cell_type": "code",
   "outputs": [
    {
     "data": {
      "text/plain": "          video_id trending_date  \\\n0      2kyS6SvSYSE      17.14.11   \n1      1ZAPwfrtAFY      17.14.11   \n2      5qpjK5DgCt4      17.14.11   \n3      puqaWrEC7tY      17.14.11   \n4      d380meD0W0M      17.14.11   \n...            ...           ...   \n40944  BZt0qjTWNhw      18.14.06   \n40945  1h7KV2sjUWY      18.14.06   \n40946  D6Oy4LfoqsU      18.14.06   \n40947  oV0zkMe1K8s      18.14.06   \n40948  ooyjaVdt-jA      18.14.06   \n\n                                                   title  \\\n0                     WE WANT TO TALK ABOUT OUR MARRIAGE   \n1      The Trump Presidency: Last Week Tonight with J...   \n2      Racist Superman | Rudy Mancuso, King Bach & Le...   \n3                       Nickelback Lyrics: Real or Fake?   \n4                               I Dare You: GOING BALD!?   \n...                                                  ...   \n40944                       The Cat Who Caught the Laser   \n40945                         True Facts : Ant Mutualism   \n40946  I GAVE SAFIYA NYGAARD A PERFECT HAIR MAKEOVER ...   \n40947                How Black Panther Should Have Ended   \n40948  Official Call of Duty®: Black Ops 4 — Multipla...   \n\n                  channel_title  category_id              publish_time  \\\n0                  CaseyNeistat           22 2017-11-13 17:13:01+00:00   \n1               LastWeekTonight           24 2017-11-13 07:30:00+00:00   \n2                  Rudy Mancuso           23 2017-11-12 19:05:24+00:00   \n3         Good Mythical Morning           24 2017-11-13 11:00:04+00:00   \n4                      nigahiga           24 2017-11-12 18:01:41+00:00   \n...                         ...          ...                       ...   \n40944             AaronsAnimals           15 2018-05-18 13:00:04+00:00   \n40945                  zefrank1           22 2018-05-18 01:00:06+00:00   \n40946                Brad Mondo           24 2018-05-18 17:34:22+00:00   \n40947  How It Should Have Ended            1 2018-05-17 17:00:04+00:00   \n40948              Call of Duty           20 2018-05-17 17:09:38+00:00   \n\n                                                    tags     views   likes  \\\n0                                        SHANtell martin    748374   57527   \n1      last week tonight trump presidency|\"last week ...   2418783   97185   \n2      racist superman|\"rudy\"|\"mancuso\"|\"king\"|\"bach\"...   3191434  146033   \n3      rhett and link|\"gmm\"|\"good mythical morning\"|\"...    343168   10172   \n4      ryan|\"higa\"|\"higatv\"|\"nigahiga\"|\"i dare you\"|\"...   2095731  132235   \n...                                                  ...       ...     ...   \n40944  aarons animals|\"aarons\"|\"animals\"|\"cat\"|\"cats\"...   1685609   38160   \n40945                                             [none]   1064798   60008   \n40946  I gave safiya nygaard a perfect hair makeover ...   1066451   48068   \n40947  Black Panther|\"HISHE\"|\"Marvel\"|\"Infinity War\"|...   5660813  192957   \n40948      call of duty|\"cod\"|\"activision\"|\"Black Ops 4\"  10306119  357079   \n\n       dislikes  comment_count  \\\n0          2966          15954   \n1          6146          12703   \n2          5339           8181   \n3           666           2146   \n4          1989          17518   \n...         ...            ...   \n40944      1385           2657   \n40945       382           3936   \n40946      1032           3992   \n40947      2846          13088   \n40948    212976         144795   \n\n                                       thumbnail_link  comments_disabled  \\\n0      https://i.ytimg.com/vi/2kyS6SvSYSE/default.jpg              False   \n1      https://i.ytimg.com/vi/1ZAPwfrtAFY/default.jpg              False   \n2      https://i.ytimg.com/vi/5qpjK5DgCt4/default.jpg              False   \n3      https://i.ytimg.com/vi/puqaWrEC7tY/default.jpg              False   \n4      https://i.ytimg.com/vi/d380meD0W0M/default.jpg              False   \n...                                               ...                ...   \n40944  https://i.ytimg.com/vi/BZt0qjTWNhw/default.jpg              False   \n40945  https://i.ytimg.com/vi/1h7KV2sjUWY/default.jpg              False   \n40946  https://i.ytimg.com/vi/D6Oy4LfoqsU/default.jpg              False   \n40947  https://i.ytimg.com/vi/oV0zkMe1K8s/default.jpg              False   \n40948  https://i.ytimg.com/vi/ooyjaVdt-jA/default.jpg              False   \n\n       ratings_disabled  video_error_or_removed  \\\n0                 False                   False   \n1                 False                   False   \n2                 False                   False   \n3                 False                   False   \n4                 False                   False   \n...                 ...                     ...   \n40944             False                   False   \n40945             False                   False   \n40946             False                   False   \n40947             False                   False   \n40948             False                   False   \n\n                                             description  \n0      SHANTELL'S CHANNEL - https://www.youtube.com/s...  \n1      One year after the presidential election, John...  \n2      WATCH MY PREVIOUS VIDEO ▶ \\n\\nSUBSCRIBE ► http...  \n3      Today we find out if Link is a Nickelback amat...  \n4      I know it's been a while since we did this sho...  \n...                                                  ...  \n40944     The Cat Who Caught the Laser - Aaron's Animals  \n40945                                                NaN  \n40946  I had so much fun transforming Safiyas hair in...  \n40947  How Black Panther Should Have EndedWatch More ...  \n40948  Call of Duty: Black Ops 4 Multiplayer raises t...  \n\n[40949 rows x 16 columns]",
      "text/html": "<div>\n<style scoped>\n    .dataframe tbody tr th:only-of-type {\n        vertical-align: middle;\n    }\n\n    .dataframe tbody tr th {\n        vertical-align: top;\n    }\n\n    .dataframe thead th {\n        text-align: right;\n    }\n</style>\n<table border=\"1\" class=\"dataframe\">\n  <thead>\n    <tr style=\"text-align: right;\">\n      <th></th>\n      <th>video_id</th>\n      <th>trending_date</th>\n      <th>title</th>\n      <th>channel_title</th>\n      <th>category_id</th>\n      <th>publish_time</th>\n      <th>tags</th>\n      <th>views</th>\n      <th>likes</th>\n      <th>dislikes</th>\n      <th>comment_count</th>\n      <th>thumbnail_link</th>\n      <th>comments_disabled</th>\n      <th>ratings_disabled</th>\n      <th>video_error_or_removed</th>\n      <th>description</th>\n    </tr>\n  </thead>\n  <tbody>\n    <tr>\n      <th>0</th>\n      <td>2kyS6SvSYSE</td>\n      <td>17.14.11</td>\n      <td>WE WANT TO TALK ABOUT OUR MARRIAGE</td>\n      <td>CaseyNeistat</td>\n      <td>22</td>\n      <td>2017-11-13 17:13:01+00:00</td>\n      <td>SHANtell martin</td>\n      <td>748374</td>\n      <td>57527</td>\n      <td>2966</td>\n      <td>15954</td>\n      <td>https://i.ytimg.com/vi/2kyS6SvSYSE/default.jpg</td>\n      <td>False</td>\n      <td>False</td>\n      <td>False</td>\n      <td>SHANTELL'S CHANNEL - https://www.youtube.com/s...</td>\n    </tr>\n    <tr>\n      <th>1</th>\n      <td>1ZAPwfrtAFY</td>\n      <td>17.14.11</td>\n      <td>The Trump Presidency: Last Week Tonight with J...</td>\n      <td>LastWeekTonight</td>\n      <td>24</td>\n      <td>2017-11-13 07:30:00+00:00</td>\n      <td>last week tonight trump presidency|\"last week ...</td>\n      <td>2418783</td>\n      <td>97185</td>\n      <td>6146</td>\n      <td>12703</td>\n      <td>https://i.ytimg.com/vi/1ZAPwfrtAFY/default.jpg</td>\n      <td>False</td>\n      <td>False</td>\n      <td>False</td>\n      <td>One year after the presidential election, John...</td>\n    </tr>\n    <tr>\n      <th>2</th>\n      <td>5qpjK5DgCt4</td>\n      <td>17.14.11</td>\n      <td>Racist Superman | Rudy Mancuso, King Bach &amp; Le...</td>\n      <td>Rudy Mancuso</td>\n      <td>23</td>\n      <td>2017-11-12 19:05:24+00:00</td>\n      <td>racist superman|\"rudy\"|\"mancuso\"|\"king\"|\"bach\"...</td>\n      <td>3191434</td>\n      <td>146033</td>\n      <td>5339</td>\n      <td>8181</td>\n      <td>https://i.ytimg.com/vi/5qpjK5DgCt4/default.jpg</td>\n      <td>False</td>\n      <td>False</td>\n      <td>False</td>\n      <td>WATCH MY PREVIOUS VIDEO ▶ \\n\\nSUBSCRIBE ► http...</td>\n    </tr>\n    <tr>\n      <th>3</th>\n      <td>puqaWrEC7tY</td>\n      <td>17.14.11</td>\n      <td>Nickelback Lyrics: Real or Fake?</td>\n      <td>Good Mythical Morning</td>\n      <td>24</td>\n      <td>2017-11-13 11:00:04+00:00</td>\n      <td>rhett and link|\"gmm\"|\"good mythical morning\"|\"...</td>\n      <td>343168</td>\n      <td>10172</td>\n      <td>666</td>\n      <td>2146</td>\n      <td>https://i.ytimg.com/vi/puqaWrEC7tY/default.jpg</td>\n      <td>False</td>\n      <td>False</td>\n      <td>False</td>\n      <td>Today we find out if Link is a Nickelback amat...</td>\n    </tr>\n    <tr>\n      <th>4</th>\n      <td>d380meD0W0M</td>\n      <td>17.14.11</td>\n      <td>I Dare You: GOING BALD!?</td>\n      <td>nigahiga</td>\n      <td>24</td>\n      <td>2017-11-12 18:01:41+00:00</td>\n      <td>ryan|\"higa\"|\"higatv\"|\"nigahiga\"|\"i dare you\"|\"...</td>\n      <td>2095731</td>\n      <td>132235</td>\n      <td>1989</td>\n      <td>17518</td>\n      <td>https://i.ytimg.com/vi/d380meD0W0M/default.jpg</td>\n      <td>False</td>\n      <td>False</td>\n      <td>False</td>\n      <td>I know it's been a while since we did this sho...</td>\n    </tr>\n    <tr>\n      <th>...</th>\n      <td>...</td>\n      <td>...</td>\n      <td>...</td>\n      <td>...</td>\n      <td>...</td>\n      <td>...</td>\n      <td>...</td>\n      <td>...</td>\n      <td>...</td>\n      <td>...</td>\n      <td>...</td>\n      <td>...</td>\n      <td>...</td>\n      <td>...</td>\n      <td>...</td>\n      <td>...</td>\n    </tr>\n    <tr>\n      <th>40944</th>\n      <td>BZt0qjTWNhw</td>\n      <td>18.14.06</td>\n      <td>The Cat Who Caught the Laser</td>\n      <td>AaronsAnimals</td>\n      <td>15</td>\n      <td>2018-05-18 13:00:04+00:00</td>\n      <td>aarons animals|\"aarons\"|\"animals\"|\"cat\"|\"cats\"...</td>\n      <td>1685609</td>\n      <td>38160</td>\n      <td>1385</td>\n      <td>2657</td>\n      <td>https://i.ytimg.com/vi/BZt0qjTWNhw/default.jpg</td>\n      <td>False</td>\n      <td>False</td>\n      <td>False</td>\n      <td>The Cat Who Caught the Laser - Aaron's Animals</td>\n    </tr>\n    <tr>\n      <th>40945</th>\n      <td>1h7KV2sjUWY</td>\n      <td>18.14.06</td>\n      <td>True Facts : Ant Mutualism</td>\n      <td>zefrank1</td>\n      <td>22</td>\n      <td>2018-05-18 01:00:06+00:00</td>\n      <td>[none]</td>\n      <td>1064798</td>\n      <td>60008</td>\n      <td>382</td>\n      <td>3936</td>\n      <td>https://i.ytimg.com/vi/1h7KV2sjUWY/default.jpg</td>\n      <td>False</td>\n      <td>False</td>\n      <td>False</td>\n      <td>NaN</td>\n    </tr>\n    <tr>\n      <th>40946</th>\n      <td>D6Oy4LfoqsU</td>\n      <td>18.14.06</td>\n      <td>I GAVE SAFIYA NYGAARD A PERFECT HAIR MAKEOVER ...</td>\n      <td>Brad Mondo</td>\n      <td>24</td>\n      <td>2018-05-18 17:34:22+00:00</td>\n      <td>I gave safiya nygaard a perfect hair makeover ...</td>\n      <td>1066451</td>\n      <td>48068</td>\n      <td>1032</td>\n      <td>3992</td>\n      <td>https://i.ytimg.com/vi/D6Oy4LfoqsU/default.jpg</td>\n      <td>False</td>\n      <td>False</td>\n      <td>False</td>\n      <td>I had so much fun transforming Safiyas hair in...</td>\n    </tr>\n    <tr>\n      <th>40947</th>\n      <td>oV0zkMe1K8s</td>\n      <td>18.14.06</td>\n      <td>How Black Panther Should Have Ended</td>\n      <td>How It Should Have Ended</td>\n      <td>1</td>\n      <td>2018-05-17 17:00:04+00:00</td>\n      <td>Black Panther|\"HISHE\"|\"Marvel\"|\"Infinity War\"|...</td>\n      <td>5660813</td>\n      <td>192957</td>\n      <td>2846</td>\n      <td>13088</td>\n      <td>https://i.ytimg.com/vi/oV0zkMe1K8s/default.jpg</td>\n      <td>False</td>\n      <td>False</td>\n      <td>False</td>\n      <td>How Black Panther Should Have EndedWatch More ...</td>\n    </tr>\n    <tr>\n      <th>40948</th>\n      <td>ooyjaVdt-jA</td>\n      <td>18.14.06</td>\n      <td>Official Call of Duty®: Black Ops 4 — Multipla...</td>\n      <td>Call of Duty</td>\n      <td>20</td>\n      <td>2018-05-17 17:09:38+00:00</td>\n      <td>call of duty|\"cod\"|\"activision\"|\"Black Ops 4\"</td>\n      <td>10306119</td>\n      <td>357079</td>\n      <td>212976</td>\n      <td>144795</td>\n      <td>https://i.ytimg.com/vi/ooyjaVdt-jA/default.jpg</td>\n      <td>False</td>\n      <td>False</td>\n      <td>False</td>\n      <td>Call of Duty: Black Ops 4 Multiplayer raises t...</td>\n    </tr>\n  </tbody>\n</table>\n<p>40949 rows × 16 columns</p>\n</div>"
     },
     "execution_count": 17,
     "metadata": {},
     "output_type": "execute_result"
    }
   ],
   "source": [
    "movies"
   ],
   "metadata": {
    "collapsed": false,
    "ExecuteTime": {
     "end_time": "2024-03-16T01:32:53.711826Z",
     "start_time": "2024-03-16T01:32:53.699370Z"
    }
   },
   "id": "59b1863f9bdcf2f3",
   "execution_count": 17
  },
  {
   "cell_type": "code",
   "outputs": [
    {
     "data": {
      "text/plain": "video_id                   6351\ntrending_date               205\ntitle                      6455\nchannel_title              2207\ncategory_id                  16\npublish_time               6269\ntags                       6055\nviews                     40478\nlikes                     29850\ndislikes                   8516\ncomment_count             13773\nthumbnail_link             6352\ncomments_disabled             2\nratings_disabled              2\nvideo_error_or_removed        2\ndescription                6901\ndtype: int64"
     },
     "execution_count": 18,
     "metadata": {},
     "output_type": "execute_result"
    }
   ],
   "source": [
    "movies.nunique()"
   ],
   "metadata": {
    "collapsed": false,
    "ExecuteTime": {
     "end_time": "2024-03-16T01:33:01.218409Z",
     "start_time": "2024-03-16T01:33:01.156239Z"
    }
   },
   "id": "fe6c9e21b6276a2d",
   "execution_count": 18
  },
  {
   "cell_type": "code",
   "outputs": [],
   "source": [],
   "metadata": {
    "collapsed": false
   },
   "id": "71f70d6ec5cb7b0"
  }
 ],
 "metadata": {
  "kernelspec": {
   "display_name": "Python 3",
   "language": "python",
   "name": "python3"
  },
  "language_info": {
   "codemirror_mode": {
    "name": "ipython",
    "version": 2
   },
   "file_extension": ".py",
   "mimetype": "text/x-python",
   "name": "python",
   "nbconvert_exporter": "python",
   "pygments_lexer": "ipython2",
   "version": "2.7.6"
  }
 },
 "nbformat": 4,
 "nbformat_minor": 5
}
