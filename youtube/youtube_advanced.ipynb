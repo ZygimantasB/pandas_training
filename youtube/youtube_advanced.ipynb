{
 "cells": [
  {
   "cell_type": "code",
   "execution_count": 1,
   "id": "initial_id",
   "metadata": {
    "collapsed": true,
    "ExecuteTime": {
     "end_time": "2024-03-22T19:54:17.035385Z",
     "start_time": "2024-03-22T19:54:17.031774Z"
    }
   },
   "outputs": [],
   "source": [
    "import pandas as pd\n",
    "import datetime as dt\n",
    "import numpy as np\n",
    "import matplotlib.pyplot as plt\n",
    "import seaborn as sns"
   ]
  },
  {
   "cell_type": "code",
   "outputs": [],
   "source": [
    "youtube_path = r'F:\\DataSpell\\Pandas training\\data_sets\\youtube.csv'\n",
    "youtube = pd.read_csv(youtube_path, parse_dates=['publish_date'], date_format='%d/%m/%Y').dropna(how='all')\n",
    "youtube.drop('index', axis=1, inplace=True)\n",
    "\n",
    "for col in youtube.select_dtypes(include=['int', 'float']).columns:\n",
    "  if youtube[col].dtype.kind == 'i':\n",
    "    youtube[col] = pd.to_numeric(youtube[col], downcast='integer')\n",
    "  else:\n",
    "    youtube[col] = pd.to_numeric(youtube[col], downcast='float')"
   ],
   "metadata": {
    "collapsed": false,
    "ExecuteTime": {
     "end_time": "2024-03-22T19:54:18.045944Z",
     "start_time": "2024-03-22T19:54:17.036394Z"
    }
   },
   "id": "423a1be903438533",
   "execution_count": 2
  },
  {
   "cell_type": "code",
   "outputs": [
    {
     "data": {
      "text/plain": "video_id                          object\ntrending_date                     object\ntitle                             object\nchannel_title                     object\ncategory_id                         int8\npublish_date              datetime64[ns]\ntime_frame                        object\npublished_day_of_week             object\npublish_country                   object\ntags                              object\nviews                              int32\nlikes                              int32\ndislikes                           int32\ncomment_count                      int32\ncomments_disabled                   bool\nratings_disabled                    bool\nvideo_error_or_removed              bool\ndtype: object"
     },
     "execution_count": 3,
     "metadata": {},
     "output_type": "execute_result"
    }
   ],
   "source": [
    "youtube.dtypes"
   ],
   "metadata": {
    "collapsed": false,
    "ExecuteTime": {
     "end_time": "2024-03-22T19:54:18.053350Z",
     "start_time": "2024-03-22T19:54:18.045944Z"
    }
   },
   "id": "3398f3287aeb9132",
   "execution_count": 3
  },
  {
   "cell_type": "markdown",
   "source": [
    "# Calculate the mean, median, and standard deviation of views, likes, dislikes, and comment_count for each category_id."
   ],
   "metadata": {
    "collapsed": false
   },
   "id": "7bf06cadd0c02ccb"
  },
  {
   "cell_type": "code",
   "outputs": [
    {
     "data": {
      "text/plain": "                     mean  median            std\ncategory_id                                     \n1             5077.721742  1272.0    9402.829082\n2             1617.563063   451.5    2614.072126\n10           17782.714296  3968.0   56791.690890\n15            2949.772330  1121.0    5148.801581\n17            2987.077698   540.0    9385.933782\n19            1725.999009  1179.0    2098.161999\n20            6216.750555  1297.0   14067.469370\n22            4035.977444   562.0   16945.791456\n23            5077.232147  1524.0   11911.465746\n24            6173.731007   992.0   40740.255837\n25            2287.010755   507.0    6982.935152\n26            3888.921758   976.0   13452.574743\n27            2792.572941  1282.0    4737.660708\n28            5363.940320  1921.0   13033.981392\n29           52396.182090   218.0  165019.369859\n30             908.588235    45.0    1343.523914\n43             993.996667   561.5    1021.595292\n44               0.000000     0.0       0.000000",
      "text/html": "<div>\n<style scoped>\n    .dataframe tbody tr th:only-of-type {\n        vertical-align: middle;\n    }\n\n    .dataframe tbody tr th {\n        vertical-align: top;\n    }\n\n    .dataframe thead th {\n        text-align: right;\n    }\n</style>\n<table border=\"1\" class=\"dataframe\">\n  <thead>\n    <tr style=\"text-align: right;\">\n      <th></th>\n      <th>mean</th>\n      <th>median</th>\n      <th>std</th>\n    </tr>\n    <tr>\n      <th>category_id</th>\n      <th></th>\n      <th></th>\n      <th></th>\n    </tr>\n  </thead>\n  <tbody>\n    <tr>\n      <th>1</th>\n      <td>5077.721742</td>\n      <td>1272.0</td>\n      <td>9402.829082</td>\n    </tr>\n    <tr>\n      <th>2</th>\n      <td>1617.563063</td>\n      <td>451.5</td>\n      <td>2614.072126</td>\n    </tr>\n    <tr>\n      <th>10</th>\n      <td>17782.714296</td>\n      <td>3968.0</td>\n      <td>56791.690890</td>\n    </tr>\n    <tr>\n      <th>15</th>\n      <td>2949.772330</td>\n      <td>1121.0</td>\n      <td>5148.801581</td>\n    </tr>\n    <tr>\n      <th>17</th>\n      <td>2987.077698</td>\n      <td>540.0</td>\n      <td>9385.933782</td>\n    </tr>\n    <tr>\n      <th>19</th>\n      <td>1725.999009</td>\n      <td>1179.0</td>\n      <td>2098.161999</td>\n    </tr>\n    <tr>\n      <th>20</th>\n      <td>6216.750555</td>\n      <td>1297.0</td>\n      <td>14067.469370</td>\n    </tr>\n    <tr>\n      <th>22</th>\n      <td>4035.977444</td>\n      <td>562.0</td>\n      <td>16945.791456</td>\n    </tr>\n    <tr>\n      <th>23</th>\n      <td>5077.232147</td>\n      <td>1524.0</td>\n      <td>11911.465746</td>\n    </tr>\n    <tr>\n      <th>24</th>\n      <td>6173.731007</td>\n      <td>992.0</td>\n      <td>40740.255837</td>\n    </tr>\n    <tr>\n      <th>25</th>\n      <td>2287.010755</td>\n      <td>507.0</td>\n      <td>6982.935152</td>\n    </tr>\n    <tr>\n      <th>26</th>\n      <td>3888.921758</td>\n      <td>976.0</td>\n      <td>13452.574743</td>\n    </tr>\n    <tr>\n      <th>27</th>\n      <td>2792.572941</td>\n      <td>1282.0</td>\n      <td>4737.660708</td>\n    </tr>\n    <tr>\n      <th>28</th>\n      <td>5363.940320</td>\n      <td>1921.0</td>\n      <td>13033.981392</td>\n    </tr>\n    <tr>\n      <th>29</th>\n      <td>52396.182090</td>\n      <td>218.0</td>\n      <td>165019.369859</td>\n    </tr>\n    <tr>\n      <th>30</th>\n      <td>908.588235</td>\n      <td>45.0</td>\n      <td>1343.523914</td>\n    </tr>\n    <tr>\n      <th>43</th>\n      <td>993.996667</td>\n      <td>561.5</td>\n      <td>1021.595292</td>\n    </tr>\n    <tr>\n      <th>44</th>\n      <td>0.000000</td>\n      <td>0.0</td>\n      <td>0.000000</td>\n    </tr>\n  </tbody>\n</table>\n</div>"
     },
     "execution_count": 4,
     "metadata": {},
     "output_type": "execute_result"
    }
   ],
   "source": [
    "category_id = youtube.groupby('category_id')\n",
    "category_id['views'].agg(['mean', 'median', 'std'])\n",
    "category_id['likes'].agg(['mean', 'median', 'std'])\n",
    "category_id['dislikes'].agg(['mean', 'median', 'std'])\n",
    "category_id['comment_count'].agg(['mean', 'median', 'std'])"
   ],
   "metadata": {
    "collapsed": false,
    "ExecuteTime": {
     "end_time": "2024-03-22T19:54:18.109425Z",
     "start_time": "2024-03-22T19:54:18.053858Z"
    }
   },
   "id": "6113d59b806079f0",
   "execution_count": 4
  },
  {
   "cell_type": "markdown",
   "source": [
    "# 2. Find the video with the highest number of views per category."
   ],
   "metadata": {
    "collapsed": false
   },
   "id": "9b1db32d34015290"
  },
  {
   "cell_type": "code",
   "outputs": [
    {
     "data": {
      "text/plain": "           video_id trending_date  \\\n39948   ulNswX3If6U      18.09.06   \n17962   cqg5oc20nxk      18.13.02   \n69361   _I_D_8Z4sJE      18.07.04   \n108621  VJB3N4O_6MA      18.15.04   \n15192   VRJmcxCrAOA      18.30.01   \n17573   yvicqMrAHvQ      18.11.02   \n71110   HwkLbeEYz6E      18.23.04   \n64717   BhIEIO0vaBE      18.14.03   \n50278   wzKL-bQKcgA      17.30.12   \n49138   FlsCjmMhFmw      17.24.12   \n77843   NZ74oFctP_g      18.02.06   \n5575    _9YMpuLDnwo      17.11.12   \n155444  RH4ciqlUm_A      18.15.05   \n38284   yDiXQl7grPQ      18.01.06   \n57259   oWjxSkJpxFU      18.05.02   \n159662  l7E0kTvARsA      18.05.06   \n79815   JtIY1Naxg0M      18.14.06   \n114349  duiC3YvTVds      18.14.05   \n\n                                                    title  \\\n39948            Selena Gomez - Back To You (Lyric Video)   \n17962   Official Ram Trucks Super Bowl Commercial | Ic...   \n69361   Nicky Jam x J. Balvin - X (EQUIS) | Video Ofic...   \n108621  é‡Žç”Ÿå‹•ç‰©ã®é©šãã¹ãçž¬é–“2018ï¼ãƒ©ã‚¤...   \n15192              Real Life Trick Shots 2 | Dude Perfect   \n17573             Turkish Airlines - 5 Senses with Dr. Oz   \n71110   Yodeling Walmart Kid EDM Remix (OFFICIAL AUDIO...   \n64717                                     To Our Daughter   \n50278   Anitta & J Balvin - Downtown (Official Lyric V...   \n49138   YouTube Rewind: The Shape of 2017 | #YouTubeRe...   \n77843   Dogs Tested to See Whether Theyâ€™d Defend Own...   \n5575     42 HOLY GRAIL HACKS THAT WILL SAVE YOU A FORTUNE   \n155444  à¤ªà¥à¤°à¤¾à¤¨à¥‡ à¥žà¤¿à¤²à¥à¤®à¥€ à¤—à¤‚à¤...   \n38284   Do You Hear Yanny or Laurel? (SOLVED with SCIE...   \n57259                          Suicide: Be Here Tomorrow.   \n159662  Golak Bugni Bank Te Batua Full Movie (HD) | Ha...   \n79815                        Game of Zones - S5E7: NBA 1K   \n114349    La MalÃ©diction Winchester (VF) - Bande Annonce   \n\n                                          channel_title  category_id  \\\n39948                                      Selena Gomez            1   \n17962                                        Ram Trucks            2   \n69361                                        NickyJamTV           10   \n108621                                       kien hoang           15   \n15192                                      Dude Perfect           17   \n17573                                  Turkish Airlines           19   \n71110                                    GalacticFusion           20   \n64717                                      Kylie Jenner           22   \n50278                                         Lele Pons           23   \n49138                                 YouTube Spotlight           24   \n77843                                    Inside Edition           25   \n5575                                    5-Minute Crafts           26   \n155444                                     RE -research           27   \n38284                                       AsapSCIENCE           28   \n57259                                  Logan Paul Vlogs           29   \n159662                                      Rhythm Boyz           30   \n79815                                   Bleacher Report           43   \n114349  La MalÃ©diction Winchester (VF) - Bande Annonce           44   \n\n       publish_date      time_frame published_day_of_week publish_country  \\\n39948    2018-05-10  16:00 to 16:59              Thursday              US   \n17962    2018-02-05    0:00 to 0:59                Monday              US   \n69361    2018-03-02    5:00 to 5:59                Friday              GB   \n108621   2018-04-13    5:00 to 5:59                Friday          FRANCE   \n15192    2018-01-22  22:00 to 22:59                Monday              US   \n17573    2018-02-04  23:00 to 23:59                Sunday              US   \n71110    2018-04-03    1:00 to 1:59               Tuesday              GB   \n64717    2018-02-04  20:00 to 20:59                Sunday              GB   \n50278    2017-12-14  18:00 to 18:59              Thursday              GB   \n49138    2017-12-06  17:00 to 17:59             Wednesday              GB   \n77843    2018-04-26  21:00 to 21:59              Thursday              GB   \n5575     2017-12-03    8:00 to 8:59                Sunday              US   \n155444   2018-05-07    7:00 to 7:59                Monday          CANADA   \n38284    2018-05-16  18:00 to 18:59             Wednesday              US   \n57259    2018-01-24  18:00 to 18:59             Wednesday              GB   \n159662   2018-05-31  13:00 to 13:59              Thursday          CANADA   \n79815    2018-05-24  21:00 to 21:59              Thursday              GB   \n114349   2018-05-09  22:00 to 22:59             Wednesday          FRANCE   \n\n                                                     tags      views    likes  \\\n39948   selena gomez|\"13 reasons why\"\"|\"\"back to you\"\"...   54863912   922355   \n17962   Ram Trucks Commercial|\"Ram Super Bowl Commerci...   25244097     6971   \n69361   Bad Bunny|\"Amorfoda\"|\"Dura\"|\"Daddy Yankee\"|\"Oz...  424538912  2818771   \n108621                                             [none]    7220717    14954   \n15192   dude perfect|\"dude perfect stereotypes\"\"|\"\"dud...   29090799  1017919   \n17573                                              [none]   23932421     4666   \n71110   walmart|\"EDM\"|\"TRAP\"|\"REMIX\"|\"YODELING WALMART...   18158133   394974   \n64717   Kylie Jenner|\"Kylie\"|\"Travis Scott\"|\"Baby\"|\"An...   62338362        0   \n50278   anitta j balvin downtown official lyric video ...   43460605  1253154   \n49138   Rewind|\"Rewind 2017\"|\"youtube rewind 2017\"|\"#Y...  169884583  3312868   \n77843   burglar|\"dog test\"|\"confront\"|\"beware of dog\"|...   18994966   259800   \n5575    5-Minute Crafts|\"DIY\"\"|\"\"Do it yourself\"\"|\"\"cr...   54155921   378111   \n155444  re research|\"bollywood movies\"|\"bollywood song...   12100921    41632   \n38284   AsapSCIENCE|\"audio illusion\"\"|\"\"yanny\"\"|\"\"laur...   42799458   564804   \n57259   logan paul vlog|\"logan paul\"|\"logan\"|\"paul\"|\"l...   26703269  2061275   \n159662  full movie|\"full punjabi movie\"|\"golak\"|\"bugni...    5661965    67232   \n79815   bleacher report|\"br\"|\"nba\"|\"philadelphia 76ers...    1709880    44588   \n114349                                             [none]       9804      138   \n\n        dislikes  comment_count  comments_disabled  ratings_disabled  \\\n39948      18037          41774              False             False   \n17962       1301            875              False             False   \n69361     149275          99380              False             False   \n108621      9334           2083              False             False   \n15192      15066          51282              False             False   \n17573        374            465              False             False   \n71110       7123          17171              False             False   \n64717          0              0               True              True   \n50278      38693          58235              False             False   \n49138    1753274         845233              False             False   \n77843      11070          43269              False             False   \n5575       66632          24679              False             False   \n155444      7809           1286              False             False   \n38284      33554         180913              False             False   \n57259     545595         704824              False             False   \n159662      3784           3851              False             False   \n79815        360           4335              False             False   \n114349         9              0               True             False   \n\n        video_error_or_removed  \n39948                    False  \n17962                    False  \n69361                    False  \n108621                   False  \n15192                    False  \n17573                    False  \n71110                    False  \n64717                    False  \n50278                    False  \n49138                    False  \n77843                    False  \n5575                     False  \n155444                   False  \n38284                    False  \n57259                    False  \n159662                   False  \n79815                    False  \n114349                   False  ",
      "text/html": "<div>\n<style scoped>\n    .dataframe tbody tr th:only-of-type {\n        vertical-align: middle;\n    }\n\n    .dataframe tbody tr th {\n        vertical-align: top;\n    }\n\n    .dataframe thead th {\n        text-align: right;\n    }\n</style>\n<table border=\"1\" class=\"dataframe\">\n  <thead>\n    <tr style=\"text-align: right;\">\n      <th></th>\n      <th>video_id</th>\n      <th>trending_date</th>\n      <th>title</th>\n      <th>channel_title</th>\n      <th>category_id</th>\n      <th>publish_date</th>\n      <th>time_frame</th>\n      <th>published_day_of_week</th>\n      <th>publish_country</th>\n      <th>tags</th>\n      <th>views</th>\n      <th>likes</th>\n      <th>dislikes</th>\n      <th>comment_count</th>\n      <th>comments_disabled</th>\n      <th>ratings_disabled</th>\n      <th>video_error_or_removed</th>\n    </tr>\n  </thead>\n  <tbody>\n    <tr>\n      <th>39948</th>\n      <td>ulNswX3If6U</td>\n      <td>18.09.06</td>\n      <td>Selena Gomez - Back To You (Lyric Video)</td>\n      <td>Selena Gomez</td>\n      <td>1</td>\n      <td>2018-05-10</td>\n      <td>16:00 to 16:59</td>\n      <td>Thursday</td>\n      <td>US</td>\n      <td>selena gomez|\"13 reasons why\"\"|\"\"back to you\"\"...</td>\n      <td>54863912</td>\n      <td>922355</td>\n      <td>18037</td>\n      <td>41774</td>\n      <td>False</td>\n      <td>False</td>\n      <td>False</td>\n    </tr>\n    <tr>\n      <th>17962</th>\n      <td>cqg5oc20nxk</td>\n      <td>18.13.02</td>\n      <td>Official Ram Trucks Super Bowl Commercial | Ic...</td>\n      <td>Ram Trucks</td>\n      <td>2</td>\n      <td>2018-02-05</td>\n      <td>0:00 to 0:59</td>\n      <td>Monday</td>\n      <td>US</td>\n      <td>Ram Trucks Commercial|\"Ram Super Bowl Commerci...</td>\n      <td>25244097</td>\n      <td>6971</td>\n      <td>1301</td>\n      <td>875</td>\n      <td>False</td>\n      <td>False</td>\n      <td>False</td>\n    </tr>\n    <tr>\n      <th>69361</th>\n      <td>_I_D_8Z4sJE</td>\n      <td>18.07.04</td>\n      <td>Nicky Jam x J. Balvin - X (EQUIS) | Video Ofic...</td>\n      <td>NickyJamTV</td>\n      <td>10</td>\n      <td>2018-03-02</td>\n      <td>5:00 to 5:59</td>\n      <td>Friday</td>\n      <td>GB</td>\n      <td>Bad Bunny|\"Amorfoda\"|\"Dura\"|\"Daddy Yankee\"|\"Oz...</td>\n      <td>424538912</td>\n      <td>2818771</td>\n      <td>149275</td>\n      <td>99380</td>\n      <td>False</td>\n      <td>False</td>\n      <td>False</td>\n    </tr>\n    <tr>\n      <th>108621</th>\n      <td>VJB3N4O_6MA</td>\n      <td>18.15.04</td>\n      <td>é‡Žç”Ÿå‹•ç‰©ã®é©šãã¹ãçž¬é–“2018ï¼ãƒ©ã‚¤...</td>\n      <td>kien hoang</td>\n      <td>15</td>\n      <td>2018-04-13</td>\n      <td>5:00 to 5:59</td>\n      <td>Friday</td>\n      <td>FRANCE</td>\n      <td>[none]</td>\n      <td>7220717</td>\n      <td>14954</td>\n      <td>9334</td>\n      <td>2083</td>\n      <td>False</td>\n      <td>False</td>\n      <td>False</td>\n    </tr>\n    <tr>\n      <th>15192</th>\n      <td>VRJmcxCrAOA</td>\n      <td>18.30.01</td>\n      <td>Real Life Trick Shots 2 | Dude Perfect</td>\n      <td>Dude Perfect</td>\n      <td>17</td>\n      <td>2018-01-22</td>\n      <td>22:00 to 22:59</td>\n      <td>Monday</td>\n      <td>US</td>\n      <td>dude perfect|\"dude perfect stereotypes\"\"|\"\"dud...</td>\n      <td>29090799</td>\n      <td>1017919</td>\n      <td>15066</td>\n      <td>51282</td>\n      <td>False</td>\n      <td>False</td>\n      <td>False</td>\n    </tr>\n    <tr>\n      <th>17573</th>\n      <td>yvicqMrAHvQ</td>\n      <td>18.11.02</td>\n      <td>Turkish Airlines - 5 Senses with Dr. Oz</td>\n      <td>Turkish Airlines</td>\n      <td>19</td>\n      <td>2018-02-04</td>\n      <td>23:00 to 23:59</td>\n      <td>Sunday</td>\n      <td>US</td>\n      <td>[none]</td>\n      <td>23932421</td>\n      <td>4666</td>\n      <td>374</td>\n      <td>465</td>\n      <td>False</td>\n      <td>False</td>\n      <td>False</td>\n    </tr>\n    <tr>\n      <th>71110</th>\n      <td>HwkLbeEYz6E</td>\n      <td>18.23.04</td>\n      <td>Yodeling Walmart Kid EDM Remix (OFFICIAL AUDIO...</td>\n      <td>GalacticFusion</td>\n      <td>20</td>\n      <td>2018-04-03</td>\n      <td>1:00 to 1:59</td>\n      <td>Tuesday</td>\n      <td>GB</td>\n      <td>walmart|\"EDM\"|\"TRAP\"|\"REMIX\"|\"YODELING WALMART...</td>\n      <td>18158133</td>\n      <td>394974</td>\n      <td>7123</td>\n      <td>17171</td>\n      <td>False</td>\n      <td>False</td>\n      <td>False</td>\n    </tr>\n    <tr>\n      <th>64717</th>\n      <td>BhIEIO0vaBE</td>\n      <td>18.14.03</td>\n      <td>To Our Daughter</td>\n      <td>Kylie Jenner</td>\n      <td>22</td>\n      <td>2018-02-04</td>\n      <td>20:00 to 20:59</td>\n      <td>Sunday</td>\n      <td>GB</td>\n      <td>Kylie Jenner|\"Kylie\"|\"Travis Scott\"|\"Baby\"|\"An...</td>\n      <td>62338362</td>\n      <td>0</td>\n      <td>0</td>\n      <td>0</td>\n      <td>True</td>\n      <td>True</td>\n      <td>False</td>\n    </tr>\n    <tr>\n      <th>50278</th>\n      <td>wzKL-bQKcgA</td>\n      <td>17.30.12</td>\n      <td>Anitta &amp; J Balvin - Downtown (Official Lyric V...</td>\n      <td>Lele Pons</td>\n      <td>23</td>\n      <td>2017-12-14</td>\n      <td>18:00 to 18:59</td>\n      <td>Thursday</td>\n      <td>GB</td>\n      <td>anitta j balvin downtown official lyric video ...</td>\n      <td>43460605</td>\n      <td>1253154</td>\n      <td>38693</td>\n      <td>58235</td>\n      <td>False</td>\n      <td>False</td>\n      <td>False</td>\n    </tr>\n    <tr>\n      <th>49138</th>\n      <td>FlsCjmMhFmw</td>\n      <td>17.24.12</td>\n      <td>YouTube Rewind: The Shape of 2017 | #YouTubeRe...</td>\n      <td>YouTube Spotlight</td>\n      <td>24</td>\n      <td>2017-12-06</td>\n      <td>17:00 to 17:59</td>\n      <td>Wednesday</td>\n      <td>GB</td>\n      <td>Rewind|\"Rewind 2017\"|\"youtube rewind 2017\"|\"#Y...</td>\n      <td>169884583</td>\n      <td>3312868</td>\n      <td>1753274</td>\n      <td>845233</td>\n      <td>False</td>\n      <td>False</td>\n      <td>False</td>\n    </tr>\n    <tr>\n      <th>77843</th>\n      <td>NZ74oFctP_g</td>\n      <td>18.02.06</td>\n      <td>Dogs Tested to See Whether Theyâ€™d Defend Own...</td>\n      <td>Inside Edition</td>\n      <td>25</td>\n      <td>2018-04-26</td>\n      <td>21:00 to 21:59</td>\n      <td>Thursday</td>\n      <td>GB</td>\n      <td>burglar|\"dog test\"|\"confront\"|\"beware of dog\"|...</td>\n      <td>18994966</td>\n      <td>259800</td>\n      <td>11070</td>\n      <td>43269</td>\n      <td>False</td>\n      <td>False</td>\n      <td>False</td>\n    </tr>\n    <tr>\n      <th>5575</th>\n      <td>_9YMpuLDnwo</td>\n      <td>17.11.12</td>\n      <td>42 HOLY GRAIL HACKS THAT WILL SAVE YOU A FORTUNE</td>\n      <td>5-Minute Crafts</td>\n      <td>26</td>\n      <td>2017-12-03</td>\n      <td>8:00 to 8:59</td>\n      <td>Sunday</td>\n      <td>US</td>\n      <td>5-Minute Crafts|\"DIY\"\"|\"\"Do it yourself\"\"|\"\"cr...</td>\n      <td>54155921</td>\n      <td>378111</td>\n      <td>66632</td>\n      <td>24679</td>\n      <td>False</td>\n      <td>False</td>\n      <td>False</td>\n    </tr>\n    <tr>\n      <th>155444</th>\n      <td>RH4ciqlUm_A</td>\n      <td>18.15.05</td>\n      <td>à¤ªà¥à¤°à¤¾à¤¨à¥‡ à¥žà¤¿à¤²à¥à¤®à¥€ à¤—à¤‚à¤...</td>\n      <td>RE -research</td>\n      <td>27</td>\n      <td>2018-05-07</td>\n      <td>7:00 to 7:59</td>\n      <td>Monday</td>\n      <td>CANADA</td>\n      <td>re research|\"bollywood movies\"|\"bollywood song...</td>\n      <td>12100921</td>\n      <td>41632</td>\n      <td>7809</td>\n      <td>1286</td>\n      <td>False</td>\n      <td>False</td>\n      <td>False</td>\n    </tr>\n    <tr>\n      <th>38284</th>\n      <td>yDiXQl7grPQ</td>\n      <td>18.01.06</td>\n      <td>Do You Hear Yanny or Laurel? (SOLVED with SCIE...</td>\n      <td>AsapSCIENCE</td>\n      <td>28</td>\n      <td>2018-05-16</td>\n      <td>18:00 to 18:59</td>\n      <td>Wednesday</td>\n      <td>US</td>\n      <td>AsapSCIENCE|\"audio illusion\"\"|\"\"yanny\"\"|\"\"laur...</td>\n      <td>42799458</td>\n      <td>564804</td>\n      <td>33554</td>\n      <td>180913</td>\n      <td>False</td>\n      <td>False</td>\n      <td>False</td>\n    </tr>\n    <tr>\n      <th>57259</th>\n      <td>oWjxSkJpxFU</td>\n      <td>18.05.02</td>\n      <td>Suicide: Be Here Tomorrow.</td>\n      <td>Logan Paul Vlogs</td>\n      <td>29</td>\n      <td>2018-01-24</td>\n      <td>18:00 to 18:59</td>\n      <td>Wednesday</td>\n      <td>GB</td>\n      <td>logan paul vlog|\"logan paul\"|\"logan\"|\"paul\"|\"l...</td>\n      <td>26703269</td>\n      <td>2061275</td>\n      <td>545595</td>\n      <td>704824</td>\n      <td>False</td>\n      <td>False</td>\n      <td>False</td>\n    </tr>\n    <tr>\n      <th>159662</th>\n      <td>l7E0kTvARsA</td>\n      <td>18.05.06</td>\n      <td>Golak Bugni Bank Te Batua Full Movie (HD) | Ha...</td>\n      <td>Rhythm Boyz</td>\n      <td>30</td>\n      <td>2018-05-31</td>\n      <td>13:00 to 13:59</td>\n      <td>Thursday</td>\n      <td>CANADA</td>\n      <td>full movie|\"full punjabi movie\"|\"golak\"|\"bugni...</td>\n      <td>5661965</td>\n      <td>67232</td>\n      <td>3784</td>\n      <td>3851</td>\n      <td>False</td>\n      <td>False</td>\n      <td>False</td>\n    </tr>\n    <tr>\n      <th>79815</th>\n      <td>JtIY1Naxg0M</td>\n      <td>18.14.06</td>\n      <td>Game of Zones - S5E7: NBA 1K</td>\n      <td>Bleacher Report</td>\n      <td>43</td>\n      <td>2018-05-24</td>\n      <td>21:00 to 21:59</td>\n      <td>Thursday</td>\n      <td>GB</td>\n      <td>bleacher report|\"br\"|\"nba\"|\"philadelphia 76ers...</td>\n      <td>1709880</td>\n      <td>44588</td>\n      <td>360</td>\n      <td>4335</td>\n      <td>False</td>\n      <td>False</td>\n      <td>False</td>\n    </tr>\n    <tr>\n      <th>114349</th>\n      <td>duiC3YvTVds</td>\n      <td>18.14.05</td>\n      <td>La MalÃ©diction Winchester (VF) - Bande Annonce</td>\n      <td>La MalÃ©diction Winchester (VF) - Bande Annonce</td>\n      <td>44</td>\n      <td>2018-05-09</td>\n      <td>22:00 to 22:59</td>\n      <td>Wednesday</td>\n      <td>FRANCE</td>\n      <td>[none]</td>\n      <td>9804</td>\n      <td>138</td>\n      <td>9</td>\n      <td>0</td>\n      <td>True</td>\n      <td>False</td>\n      <td>False</td>\n    </tr>\n  </tbody>\n</table>\n</div>"
     },
     "execution_count": 5,
     "metadata": {},
     "output_type": "execute_result"
    }
   ],
   "source": [
    "# youtube.loc[youtube.groupby('category_id')['views'].idxmax()]\n",
    "youtube.groupby('category_id')['views'].idxmax()\n",
    "youtube.loc[youtube.groupby('category_id')['views'].idxmax()]"
   ],
   "metadata": {
    "collapsed": false,
    "ExecuteTime": {
     "end_time": "2024-03-22T19:54:18.128136Z",
     "start_time": "2024-03-22T19:54:18.110432Z"
    }
   },
   "id": "3759e1c93739333d",
   "execution_count": 5
  },
  {
   "cell_type": "code",
   "outputs": [
    {
     "data": {
      "text/plain": "18"
     },
     "execution_count": 6,
     "metadata": {},
     "output_type": "execute_result"
    }
   ],
   "source": [
    "youtube['category_id'].unique().size"
   ],
   "metadata": {
    "collapsed": false,
    "ExecuteTime": {
     "end_time": "2024-03-22T19:54:18.133494Z",
     "start_time": "2024-03-22T19:54:18.128639Z"
    }
   },
   "id": "16af2abd5b9bba74",
   "execution_count": 6
  },
  {
   "cell_type": "markdown",
   "source": [
    "# 3. Determine the average number of views for videos published on each day of the week."
   ],
   "metadata": {
    "collapsed": false
   },
   "id": "a14804a256437590"
  },
  {
   "cell_type": "code",
   "outputs": [
    {
     "data": {
      "text/plain": "publish_date\nFriday       3.755648e+06\nMonday       1.887318e+06\nSaturday     1.444060e+06\nSunday       2.110650e+06\nThursday     2.778910e+06\nTuesday      2.079608e+06\nWednesday    2.202413e+06\nName: views, dtype: float64"
     },
     "execution_count": 7,
     "metadata": {},
     "output_type": "execute_result"
    }
   ],
   "source": [
    "# youtube.groupby('published_day_of_week')['views'].mean()\n",
    "week_day = youtube['publish_date'].dt.day_name()\n",
    "youtube.groupby(week_day)['views'].mean()"
   ],
   "metadata": {
    "collapsed": false,
    "ExecuteTime": {
     "end_time": "2024-03-22T19:54:18.173157Z",
     "start_time": "2024-03-22T19:54:18.134503Z"
    }
   },
   "id": "54b243d61f09b1f",
   "execution_count": 7
  },
  {
   "cell_type": "markdown",
   "source": [
    "# 4. Extract the year and month from the trending_date and publish_date columns, then analyze the trend of videos getting into trending by month."
   ],
   "metadata": {
    "collapsed": false
   },
   "id": "18a3ab643cb7458b"
  },
  {
   "cell_type": "code",
   "outputs": [
    {
     "data": {
      "text/plain": "publish_date\n2006-07        1\n2007-03        9\n2007-06       12\n2007-12       16\n2008-01       12\n           ...  \n2018-02    23432\n2018-03    24044\n2018-04    18935\n2018-05    23533\n2018-06     6231\nFreq: M, Length: 98, dtype: int64"
     },
     "execution_count": 8,
     "metadata": {},
     "output_type": "execute_result"
    }
   ],
   "source": [
    "# year = youtube['publish_date'].dt.year\n",
    "# month = youtube['publish_date'].dt.month\n",
    "month = youtube['publish_date'].dt.to_period('M')\n",
    "month\n",
    "trending_videos = youtube.groupby(month).size()\n",
    "trending_videos"
   ],
   "metadata": {
    "collapsed": false,
    "ExecuteTime": {
     "end_time": "2024-03-22T19:54:18.187922Z",
     "start_time": "2024-03-22T19:54:18.174164Z"
    }
   },
   "id": "15e45bc457181dfc",
   "execution_count": 8
  },
  {
   "cell_type": "code",
   "outputs": [],
   "source": [
    "# # Convert 'trending_date' to datetime if it's not\n",
    "# youtube['trending_date'] = pd.to_datetime(youtube['trending_date'])\n",
    "# \n",
    "# # Extract year and month from 'trending_date' and 'publish_date'\n",
    "# youtube['trending_year_month'] = youtube['trending_date'].dt.to_period('M')\n",
    "# youtube['publish_year_month'] = youtube['publish_date'].dt.to_period('M')\n",
    "# \n",
    "# # Count the number of videos trending each month\n",
    "# trending_videos = youtube.groupby('trending_year_month').size()\n",
    "# \n",
    "# # Count the number of videos published each month\n",
    "# published_videos = youtube.groupby('publish_year_month').size()\n",
    "# \n",
    "# print(\"Number of videos trending each month:\")\n",
    "# print(trending_videos)\n",
    "# \n",
    "# print(\"\\nNumber of videos published each month:\")\n",
    "# print(published_videos)"
   ],
   "metadata": {
    "collapsed": false,
    "ExecuteTime": {
     "end_time": "2024-03-22T19:54:18.191163Z",
     "start_time": "2024-03-22T19:54:18.188430Z"
    }
   },
   "id": "be873b9f87d1e2cb",
   "execution_count": 9
  },
  {
   "cell_type": "markdown",
   "source": [
    "# 5. Identify the top 10 channels with the highest average number of views."
   ],
   "metadata": {
    "collapsed": false
   },
   "id": "f5c5e94263696fda"
  },
  {
   "cell_type": "code",
   "outputs": [
    {
     "data": {
      "text/plain": "           video_id trending_date  \\\n0       2kyS6SvSYSE      17.14.11   \n1       1ZAPwfrtAFY      17.14.11   \n2       5qpjK5DgCt4      17.14.11   \n3       puqaWrEC7tY      17.14.11   \n4       d380meD0W0M      17.14.11   \n...             ...           ...   \n161465  sGolxsMSGfQ      18.14.06   \n161466  8HNuRNi8t70      18.14.06   \n161467  GWlKEM3m2EE      18.14.06   \n161468  lbMKLzQ4cNQ      18.14.06   \n161469  POTgw38-m58      18.14.06   \n\n                                                    title  \\\n0                      WE WANT TO TALK ABOUT OUR MARRIAGE   \n1       The Trump Presidency: Last Week Tonight with J...   \n2       Racist Superman | Rudy Mancuso, King Bach & Le...   \n3                        Nickelback Lyrics: Real or Fake?   \n4                                I Dare You: GOING BALD!?   \n...                                                   ...   \n161465                       HOW2: How to Solve a Mystery   \n161466                   Eli Lik Lik Episode 13 Partie 01   \n161467  KINGDOM HEARTS III â€“ SQUARE ENIX E3 SHOWCASE...   \n161468                   Trump Advisor Grovels To Trudeau   \n161469  ã€å®Œæ•´ç‰ˆã€‘é‡åˆ°ææ€–æƒ…äººè©²æ€Žéº¼è¾¦ï...   \n\n                   channel_title  category_id publish_date      time_frame  \\\n0                   CaseyNeistat           22   2017-11-13  17:00 to 17:59   \n1                LastWeekTonight           24   2017-11-13    7:00 to 7:59   \n2                   Rudy Mancuso           23   2017-11-12  19:00 to 19:59   \n3          Good Mythical Morning           24   2017-11-13  11:00 to 11:59   \n4                       nigahiga           24   2017-11-12  18:00 to 18:59   \n...                          ...          ...          ...             ...   \n161465           Annoying Orange           24   2018-06-13  18:00 to 18:59   \n161466          Elhiwar Ettounsi           24   2018-06-13  19:00 to 19:59   \n161467            Kingdom Hearts           20   2018-06-11  17:00 to 17:59   \n161468           The Young Turks           25   2018-06-13    4:00 to 4:59   \n161469  æˆ‘æ„›å°æ˜Žæ˜Ÿå¤§è·Ÿç­           24   2018-06-13  16:00 to 16:59   \n\n       published_day_of_week publish_country  \\\n0                     Monday              US   \n1                     Monday              US   \n2                     Sunday              US   \n3                     Monday              US   \n4                     Sunday              US   \n...                      ...             ...   \n161465             Wednesday          CANADA   \n161466             Wednesday          CANADA   \n161467                Monday          CANADA   \n161468             Wednesday          CANADA   \n161469             Wednesday          CANADA   \n\n                                                     tags    views   likes  \\\n0                                         SHANtell martin   748374   57527   \n1       last week tonight trump presidency|\"last week ...  2418783   97185   \n2       racist superman|\"rudy\"\"|\"\"mancuso\"\"|\"\"king\"\"|\"...  3191434  146033   \n3       rhett and link|\"gmm\"\"|\"\"good mythical morning\"...   343168   10172   \n4       ryan|\"higa\"\"|\"\"higatv\"\"|\"\"nigahiga\"\"|\"\"i dare ...  2095731  132235   \n...                                                   ...      ...     ...   \n161465  annoying orange|\"funny\"|\"fruit\"|\"talking\"|\"ani...    80685    1701   \n161466  hkayet tounsia|\"elhiwar ettounsi\"|\"denya okhra...   103339     460   \n161467  Kingdom Hearts|\"KH3\"|\"Kingdom Hearts 3\"|\"Froze...   773347   25900   \n161468  180612__TB02SorryExcuse|\"News\"|\"Politics\"|\"The...   115225    2115   \n161469  å³å®—æ†²|\"å³å§å„’\"|\"å°æ˜Žæ˜Ÿå¤§è·Ÿç­\"|\"Sa...   107392     300   \n\n        dislikes  comment_count  comments_disabled  ratings_disabled  \\\n0           2966          15954              False             False   \n1           6146          12703              False             False   \n2           5339           8181              False             False   \n3            666           2146              False             False   \n4           1989          17518              False             False   \n...          ...            ...                ...               ...   \n161465        99           1312              False             False   \n161466        66             51              False             False   \n161467       224           3881              False             False   \n161468       182           1672              False             False   \n161469        62            251              False             False   \n\n        video_error_or_removed  \n0                        False  \n1                        False  \n2                        False  \n3                        False  \n4                        False  \n...                        ...  \n161465                   False  \n161466                   False  \n161467                   False  \n161468                   False  \n161469                   False  \n\n[161470 rows x 17 columns]",
      "text/html": "<div>\n<style scoped>\n    .dataframe tbody tr th:only-of-type {\n        vertical-align: middle;\n    }\n\n    .dataframe tbody tr th {\n        vertical-align: top;\n    }\n\n    .dataframe thead th {\n        text-align: right;\n    }\n</style>\n<table border=\"1\" class=\"dataframe\">\n  <thead>\n    <tr style=\"text-align: right;\">\n      <th></th>\n      <th>video_id</th>\n      <th>trending_date</th>\n      <th>title</th>\n      <th>channel_title</th>\n      <th>category_id</th>\n      <th>publish_date</th>\n      <th>time_frame</th>\n      <th>published_day_of_week</th>\n      <th>publish_country</th>\n      <th>tags</th>\n      <th>views</th>\n      <th>likes</th>\n      <th>dislikes</th>\n      <th>comment_count</th>\n      <th>comments_disabled</th>\n      <th>ratings_disabled</th>\n      <th>video_error_or_removed</th>\n    </tr>\n  </thead>\n  <tbody>\n    <tr>\n      <th>0</th>\n      <td>2kyS6SvSYSE</td>\n      <td>17.14.11</td>\n      <td>WE WANT TO TALK ABOUT OUR MARRIAGE</td>\n      <td>CaseyNeistat</td>\n      <td>22</td>\n      <td>2017-11-13</td>\n      <td>17:00 to 17:59</td>\n      <td>Monday</td>\n      <td>US</td>\n      <td>SHANtell martin</td>\n      <td>748374</td>\n      <td>57527</td>\n      <td>2966</td>\n      <td>15954</td>\n      <td>False</td>\n      <td>False</td>\n      <td>False</td>\n    </tr>\n    <tr>\n      <th>1</th>\n      <td>1ZAPwfrtAFY</td>\n      <td>17.14.11</td>\n      <td>The Trump Presidency: Last Week Tonight with J...</td>\n      <td>LastWeekTonight</td>\n      <td>24</td>\n      <td>2017-11-13</td>\n      <td>7:00 to 7:59</td>\n      <td>Monday</td>\n      <td>US</td>\n      <td>last week tonight trump presidency|\"last week ...</td>\n      <td>2418783</td>\n      <td>97185</td>\n      <td>6146</td>\n      <td>12703</td>\n      <td>False</td>\n      <td>False</td>\n      <td>False</td>\n    </tr>\n    <tr>\n      <th>2</th>\n      <td>5qpjK5DgCt4</td>\n      <td>17.14.11</td>\n      <td>Racist Superman | Rudy Mancuso, King Bach &amp; Le...</td>\n      <td>Rudy Mancuso</td>\n      <td>23</td>\n      <td>2017-11-12</td>\n      <td>19:00 to 19:59</td>\n      <td>Sunday</td>\n      <td>US</td>\n      <td>racist superman|\"rudy\"\"|\"\"mancuso\"\"|\"\"king\"\"|\"...</td>\n      <td>3191434</td>\n      <td>146033</td>\n      <td>5339</td>\n      <td>8181</td>\n      <td>False</td>\n      <td>False</td>\n      <td>False</td>\n    </tr>\n    <tr>\n      <th>3</th>\n      <td>puqaWrEC7tY</td>\n      <td>17.14.11</td>\n      <td>Nickelback Lyrics: Real or Fake?</td>\n      <td>Good Mythical Morning</td>\n      <td>24</td>\n      <td>2017-11-13</td>\n      <td>11:00 to 11:59</td>\n      <td>Monday</td>\n      <td>US</td>\n      <td>rhett and link|\"gmm\"\"|\"\"good mythical morning\"...</td>\n      <td>343168</td>\n      <td>10172</td>\n      <td>666</td>\n      <td>2146</td>\n      <td>False</td>\n      <td>False</td>\n      <td>False</td>\n    </tr>\n    <tr>\n      <th>4</th>\n      <td>d380meD0W0M</td>\n      <td>17.14.11</td>\n      <td>I Dare You: GOING BALD!?</td>\n      <td>nigahiga</td>\n      <td>24</td>\n      <td>2017-11-12</td>\n      <td>18:00 to 18:59</td>\n      <td>Sunday</td>\n      <td>US</td>\n      <td>ryan|\"higa\"\"|\"\"higatv\"\"|\"\"nigahiga\"\"|\"\"i dare ...</td>\n      <td>2095731</td>\n      <td>132235</td>\n      <td>1989</td>\n      <td>17518</td>\n      <td>False</td>\n      <td>False</td>\n      <td>False</td>\n    </tr>\n    <tr>\n      <th>...</th>\n      <td>...</td>\n      <td>...</td>\n      <td>...</td>\n      <td>...</td>\n      <td>...</td>\n      <td>...</td>\n      <td>...</td>\n      <td>...</td>\n      <td>...</td>\n      <td>...</td>\n      <td>...</td>\n      <td>...</td>\n      <td>...</td>\n      <td>...</td>\n      <td>...</td>\n      <td>...</td>\n      <td>...</td>\n    </tr>\n    <tr>\n      <th>161465</th>\n      <td>sGolxsMSGfQ</td>\n      <td>18.14.06</td>\n      <td>HOW2: How to Solve a Mystery</td>\n      <td>Annoying Orange</td>\n      <td>24</td>\n      <td>2018-06-13</td>\n      <td>18:00 to 18:59</td>\n      <td>Wednesday</td>\n      <td>CANADA</td>\n      <td>annoying orange|\"funny\"|\"fruit\"|\"talking\"|\"ani...</td>\n      <td>80685</td>\n      <td>1701</td>\n      <td>99</td>\n      <td>1312</td>\n      <td>False</td>\n      <td>False</td>\n      <td>False</td>\n    </tr>\n    <tr>\n      <th>161466</th>\n      <td>8HNuRNi8t70</td>\n      <td>18.14.06</td>\n      <td>Eli Lik Lik Episode 13 Partie 01</td>\n      <td>Elhiwar Ettounsi</td>\n      <td>24</td>\n      <td>2018-06-13</td>\n      <td>19:00 to 19:59</td>\n      <td>Wednesday</td>\n      <td>CANADA</td>\n      <td>hkayet tounsia|\"elhiwar ettounsi\"|\"denya okhra...</td>\n      <td>103339</td>\n      <td>460</td>\n      <td>66</td>\n      <td>51</td>\n      <td>False</td>\n      <td>False</td>\n      <td>False</td>\n    </tr>\n    <tr>\n      <th>161467</th>\n      <td>GWlKEM3m2EE</td>\n      <td>18.14.06</td>\n      <td>KINGDOM HEARTS III â€“ SQUARE ENIX E3 SHOWCASE...</td>\n      <td>Kingdom Hearts</td>\n      <td>20</td>\n      <td>2018-06-11</td>\n      <td>17:00 to 17:59</td>\n      <td>Monday</td>\n      <td>CANADA</td>\n      <td>Kingdom Hearts|\"KH3\"|\"Kingdom Hearts 3\"|\"Froze...</td>\n      <td>773347</td>\n      <td>25900</td>\n      <td>224</td>\n      <td>3881</td>\n      <td>False</td>\n      <td>False</td>\n      <td>False</td>\n    </tr>\n    <tr>\n      <th>161468</th>\n      <td>lbMKLzQ4cNQ</td>\n      <td>18.14.06</td>\n      <td>Trump Advisor Grovels To Trudeau</td>\n      <td>The Young Turks</td>\n      <td>25</td>\n      <td>2018-06-13</td>\n      <td>4:00 to 4:59</td>\n      <td>Wednesday</td>\n      <td>CANADA</td>\n      <td>180612__TB02SorryExcuse|\"News\"|\"Politics\"|\"The...</td>\n      <td>115225</td>\n      <td>2115</td>\n      <td>182</td>\n      <td>1672</td>\n      <td>False</td>\n      <td>False</td>\n      <td>False</td>\n    </tr>\n    <tr>\n      <th>161469</th>\n      <td>POTgw38-m58</td>\n      <td>18.14.06</td>\n      <td>ã€å®Œæ•´ç‰ˆã€‘é‡åˆ°ææ€–æƒ…äººè©²æ€Žéº¼è¾¦ï...</td>\n      <td>æˆ‘æ„›å°æ˜Žæ˜Ÿå¤§è·Ÿç­</td>\n      <td>24</td>\n      <td>2018-06-13</td>\n      <td>16:00 to 16:59</td>\n      <td>Wednesday</td>\n      <td>CANADA</td>\n      <td>å³å®—æ†²|\"å³å§å„’\"|\"å°æ˜Žæ˜Ÿå¤§è·Ÿç­\"|\"Sa...</td>\n      <td>107392</td>\n      <td>300</td>\n      <td>62</td>\n      <td>251</td>\n      <td>False</td>\n      <td>False</td>\n      <td>False</td>\n    </tr>\n  </tbody>\n</table>\n<p>161470 rows × 17 columns</p>\n</div>"
     },
     "execution_count": 10,
     "metadata": {},
     "output_type": "execute_result"
    }
   ],
   "source": [
    "youtube"
   ],
   "metadata": {
    "collapsed": false,
    "ExecuteTime": {
     "end_time": "2024-03-22T19:54:18.205199Z",
     "start_time": "2024-03-22T19:54:18.193171Z"
    }
   },
   "id": "ee7f4be4eb9193da",
   "execution_count": 10
  },
  {
   "cell_type": "code",
   "outputs": [
    {
     "data": {
      "text/plain": "channel_title\nBad Bunny              1.624488e+08\nFlow La Movie          1.520128e+08\nChildishGambinoVEVO    1.428129e+08\nNickyJamTV             9.400607e+07\nBeckyGVEVO             9.024716e+07\nDrakeVEVO              8.645280e+07\nOzuna                  8.550741e+07\nArianaGrandeVevo       6.727837e+07\nSebastianYatraVEVO     6.629097e+07\nYouTube Spotlight      6.497292e+07\nName: views, dtype: float64"
     },
     "execution_count": 11,
     "metadata": {},
     "output_type": "execute_result"
    }
   ],
   "source": [
    "youtube.groupby('channel_title')['views'].mean().sort_values(ascending=False).head(10)"
   ],
   "metadata": {
    "collapsed": false,
    "ExecuteTime": {
     "end_time": "2024-03-22T19:54:18.232816Z",
     "start_time": "2024-03-22T19:54:18.206209Z"
    }
   },
   "id": "f85a79f2025aba4d",
   "execution_count": 11
  },
  {
   "cell_type": "markdown",
   "source": [
    "# 6. For each category_id, find out the ratio of likes to dislikes and sort them in descending order."
   ],
   "metadata": {
    "collapsed": false
   },
   "id": "a44a2fb2700a59d0"
  },
  {
   "cell_type": "code",
   "outputs": [
    {
     "ename": "KeyError",
     "evalue": "\"['like dislike ratio'] not in index\"",
     "output_type": "error",
     "traceback": [
      "\u001B[1;31m---------------------------------------------------------------------------\u001B[0m",
      "\u001B[1;31mKeyError\u001B[0m                                  Traceback (most recent call last)",
      "Cell \u001B[1;32mIn[12], line 3\u001B[0m\n\u001B[0;32m      1\u001B[0m like_dislike_ratio \u001B[38;5;241m=\u001B[39m youtube[\u001B[38;5;124m'\u001B[39m\u001B[38;5;124mlikes\u001B[39m\u001B[38;5;124m'\u001B[39m] \u001B[38;5;241m/\u001B[39m youtube[\u001B[38;5;124m'\u001B[39m\u001B[38;5;124mdislikes\u001B[39m\u001B[38;5;124m'\u001B[39m]\n\u001B[0;32m      2\u001B[0m \u001B[38;5;66;03m# youtube.insert(13, 'like dislike ratio', like_dislike_ratio)\u001B[39;00m\n\u001B[1;32m----> 3\u001B[0m \u001B[43myoutube\u001B[49m\u001B[43m[\u001B[49m\u001B[43m[\u001B[49m\u001B[38;5;124;43m'\u001B[39;49m\u001B[38;5;124;43mcategory_id\u001B[39;49m\u001B[38;5;124;43m'\u001B[39;49m\u001B[43m,\u001B[49m\u001B[43m \u001B[49m\u001B[38;5;124;43m'\u001B[39;49m\u001B[38;5;124;43mlike dislike ratio\u001B[39;49m\u001B[38;5;124;43m'\u001B[39;49m\u001B[43m]\u001B[49m\u001B[43m]\u001B[49m\u001B[38;5;241m.\u001B[39msort_values(by\u001B[38;5;241m=\u001B[39m\u001B[38;5;124m'\u001B[39m\u001B[38;5;124mlike dislike ratio\u001B[39m\u001B[38;5;124m'\u001B[39m, ascending\u001B[38;5;241m=\u001B[39m\u001B[38;5;28;01mFalse\u001B[39;00m)\n",
      "File \u001B[1;32mF:\\DataSpell\\Pandas training\\venv\\Lib\\site-packages\\pandas\\core\\frame.py:4096\u001B[0m, in \u001B[0;36mDataFrame.__getitem__\u001B[1;34m(self, key)\u001B[0m\n\u001B[0;32m   4094\u001B[0m     \u001B[38;5;28;01mif\u001B[39;00m is_iterator(key):\n\u001B[0;32m   4095\u001B[0m         key \u001B[38;5;241m=\u001B[39m \u001B[38;5;28mlist\u001B[39m(key)\n\u001B[1;32m-> 4096\u001B[0m     indexer \u001B[38;5;241m=\u001B[39m \u001B[38;5;28;43mself\u001B[39;49m\u001B[38;5;241;43m.\u001B[39;49m\u001B[43mcolumns\u001B[49m\u001B[38;5;241;43m.\u001B[39;49m\u001B[43m_get_indexer_strict\u001B[49m\u001B[43m(\u001B[49m\u001B[43mkey\u001B[49m\u001B[43m,\u001B[49m\u001B[43m \u001B[49m\u001B[38;5;124;43m\"\u001B[39;49m\u001B[38;5;124;43mcolumns\u001B[39;49m\u001B[38;5;124;43m\"\u001B[39;49m\u001B[43m)\u001B[49m[\u001B[38;5;241m1\u001B[39m]\n\u001B[0;32m   4098\u001B[0m \u001B[38;5;66;03m# take() does not accept boolean indexers\u001B[39;00m\n\u001B[0;32m   4099\u001B[0m \u001B[38;5;28;01mif\u001B[39;00m \u001B[38;5;28mgetattr\u001B[39m(indexer, \u001B[38;5;124m\"\u001B[39m\u001B[38;5;124mdtype\u001B[39m\u001B[38;5;124m\"\u001B[39m, \u001B[38;5;28;01mNone\u001B[39;00m) \u001B[38;5;241m==\u001B[39m \u001B[38;5;28mbool\u001B[39m:\n",
      "File \u001B[1;32mF:\\DataSpell\\Pandas training\\venv\\Lib\\site-packages\\pandas\\core\\indexes\\base.py:6200\u001B[0m, in \u001B[0;36mIndex._get_indexer_strict\u001B[1;34m(self, key, axis_name)\u001B[0m\n\u001B[0;32m   6197\u001B[0m \u001B[38;5;28;01melse\u001B[39;00m:\n\u001B[0;32m   6198\u001B[0m     keyarr, indexer, new_indexer \u001B[38;5;241m=\u001B[39m \u001B[38;5;28mself\u001B[39m\u001B[38;5;241m.\u001B[39m_reindex_non_unique(keyarr)\n\u001B[1;32m-> 6200\u001B[0m \u001B[38;5;28;43mself\u001B[39;49m\u001B[38;5;241;43m.\u001B[39;49m\u001B[43m_raise_if_missing\u001B[49m\u001B[43m(\u001B[49m\u001B[43mkeyarr\u001B[49m\u001B[43m,\u001B[49m\u001B[43m \u001B[49m\u001B[43mindexer\u001B[49m\u001B[43m,\u001B[49m\u001B[43m \u001B[49m\u001B[43maxis_name\u001B[49m\u001B[43m)\u001B[49m\n\u001B[0;32m   6202\u001B[0m keyarr \u001B[38;5;241m=\u001B[39m \u001B[38;5;28mself\u001B[39m\u001B[38;5;241m.\u001B[39mtake(indexer)\n\u001B[0;32m   6203\u001B[0m \u001B[38;5;28;01mif\u001B[39;00m \u001B[38;5;28misinstance\u001B[39m(key, Index):\n\u001B[0;32m   6204\u001B[0m     \u001B[38;5;66;03m# GH 42790 - Preserve name from an Index\u001B[39;00m\n",
      "File \u001B[1;32mF:\\DataSpell\\Pandas training\\venv\\Lib\\site-packages\\pandas\\core\\indexes\\base.py:6252\u001B[0m, in \u001B[0;36mIndex._raise_if_missing\u001B[1;34m(self, key, indexer, axis_name)\u001B[0m\n\u001B[0;32m   6249\u001B[0m     \u001B[38;5;28;01mraise\u001B[39;00m \u001B[38;5;167;01mKeyError\u001B[39;00m(\u001B[38;5;124mf\u001B[39m\u001B[38;5;124m\"\u001B[39m\u001B[38;5;124mNone of [\u001B[39m\u001B[38;5;132;01m{\u001B[39;00mkey\u001B[38;5;132;01m}\u001B[39;00m\u001B[38;5;124m] are in the [\u001B[39m\u001B[38;5;132;01m{\u001B[39;00maxis_name\u001B[38;5;132;01m}\u001B[39;00m\u001B[38;5;124m]\u001B[39m\u001B[38;5;124m\"\u001B[39m)\n\u001B[0;32m   6251\u001B[0m not_found \u001B[38;5;241m=\u001B[39m \u001B[38;5;28mlist\u001B[39m(ensure_index(key)[missing_mask\u001B[38;5;241m.\u001B[39mnonzero()[\u001B[38;5;241m0\u001B[39m]]\u001B[38;5;241m.\u001B[39munique())\n\u001B[1;32m-> 6252\u001B[0m \u001B[38;5;28;01mraise\u001B[39;00m \u001B[38;5;167;01mKeyError\u001B[39;00m(\u001B[38;5;124mf\u001B[39m\u001B[38;5;124m\"\u001B[39m\u001B[38;5;132;01m{\u001B[39;00mnot_found\u001B[38;5;132;01m}\u001B[39;00m\u001B[38;5;124m not in index\u001B[39m\u001B[38;5;124m\"\u001B[39m)\n",
      "\u001B[1;31mKeyError\u001B[0m: \"['like dislike ratio'] not in index\""
     ]
    }
   ],
   "source": [
    "like_dislike_ratio = youtube['likes'] / youtube['dislikes']\n",
    "# youtube.insert(13, 'like dislike ratio', like_dislike_ratio)\n",
    "youtube[['category_id', 'like dislike ratio']].sort_values(by='like dislike ratio', ascending=False)"
   ],
   "metadata": {
    "collapsed": false,
    "ExecuteTime": {
     "end_time": "2024-03-22T19:54:19.134776Z",
     "start_time": "2024-03-22T19:54:18.233822Z"
    }
   },
   "id": "7b48f4b01b83a2fc",
   "execution_count": 12
  },
  {
   "cell_type": "markdown",
   "source": [
    "# 7. Create a new column that categorizes videos into 'High Engagement' and 'Low Engagement' based on the median value of the comment_count column.\n",
    "of the comment_count column."
   ],
   "metadata": {
    "collapsed": false
   },
   "id": "9ad6114cda14beae"
  },
  {
   "cell_type": "code",
   "outputs": [],
   "source": [
    "median = youtube['comment_count'].median() # 1144.0\n",
    "\n",
    "def engagement_categorizing(row):\n",
    "  comment = row.loc['comment_count']\n",
    "  if median >= comment:\n",
    "    return  'High Engagement'\n",
    "  else:\n",
    "    return  'Low Engagement'\n",
    "  \n",
    "youtube_engagement = youtube.apply(engagement_categorizing, axis=1) # -4 loc\n",
    "\n",
    "youtube.insert(15, 'engagement', youtube_engagement)"
   ],
   "metadata": {
    "collapsed": false,
    "ExecuteTime": {
     "end_time": "2024-03-22T19:54:43.448888Z",
     "start_time": "2024-03-22T19:54:42.421678Z"
    }
   },
   "id": "7f4d65213dadccb6",
   "execution_count": 13
  },
  {
   "cell_type": "code",
   "outputs": [
    {
     "data": {
      "text/plain": "           video_id trending_date  \\\n0       2kyS6SvSYSE      17.14.11   \n1       1ZAPwfrtAFY      17.14.11   \n2       5qpjK5DgCt4      17.14.11   \n3       puqaWrEC7tY      17.14.11   \n4       d380meD0W0M      17.14.11   \n...             ...           ...   \n161465  sGolxsMSGfQ      18.14.06   \n161466  8HNuRNi8t70      18.14.06   \n161467  GWlKEM3m2EE      18.14.06   \n161468  lbMKLzQ4cNQ      18.14.06   \n161469  POTgw38-m58      18.14.06   \n\n                                                    title  \\\n0                      WE WANT TO TALK ABOUT OUR MARRIAGE   \n1       The Trump Presidency: Last Week Tonight with J...   \n2       Racist Superman | Rudy Mancuso, King Bach & Le...   \n3                        Nickelback Lyrics: Real or Fake?   \n4                                I Dare You: GOING BALD!?   \n...                                                   ...   \n161465                       HOW2: How to Solve a Mystery   \n161466                   Eli Lik Lik Episode 13 Partie 01   \n161467  KINGDOM HEARTS III â€“ SQUARE ENIX E3 SHOWCASE...   \n161468                   Trump Advisor Grovels To Trudeau   \n161469  ã€å®Œæ•´ç‰ˆã€‘é‡åˆ°ææ€–æƒ…äººè©²æ€Žéº¼è¾¦ï...   \n\n                   channel_title  category_id publish_date      time_frame  \\\n0                   CaseyNeistat           22   2017-11-13  17:00 to 17:59   \n1                LastWeekTonight           24   2017-11-13    7:00 to 7:59   \n2                   Rudy Mancuso           23   2017-11-12  19:00 to 19:59   \n3          Good Mythical Morning           24   2017-11-13  11:00 to 11:59   \n4                       nigahiga           24   2017-11-12  18:00 to 18:59   \n...                          ...          ...          ...             ...   \n161465           Annoying Orange           24   2018-06-13  18:00 to 18:59   \n161466          Elhiwar Ettounsi           24   2018-06-13  19:00 to 19:59   \n161467            Kingdom Hearts           20   2018-06-11  17:00 to 17:59   \n161468           The Young Turks           25   2018-06-13    4:00 to 4:59   \n161469  æˆ‘æ„›å°æ˜Žæ˜Ÿå¤§è·Ÿç­           24   2018-06-13  16:00 to 16:59   \n\n       published_day_of_week publish_country  \\\n0                     Monday              US   \n1                     Monday              US   \n2                     Sunday              US   \n3                     Monday              US   \n4                     Sunday              US   \n...                      ...             ...   \n161465             Wednesday          CANADA   \n161466             Wednesday          CANADA   \n161467                Monday          CANADA   \n161468             Wednesday          CANADA   \n161469             Wednesday          CANADA   \n\n                                                     tags    views   likes  \\\n0                                         SHANtell martin   748374   57527   \n1       last week tonight trump presidency|\"last week ...  2418783   97185   \n2       racist superman|\"rudy\"\"|\"\"mancuso\"\"|\"\"king\"\"|\"...  3191434  146033   \n3       rhett and link|\"gmm\"\"|\"\"good mythical morning\"...   343168   10172   \n4       ryan|\"higa\"\"|\"\"higatv\"\"|\"\"nigahiga\"\"|\"\"i dare ...  2095731  132235   \n...                                                   ...      ...     ...   \n161465  annoying orange|\"funny\"|\"fruit\"|\"talking\"|\"ani...    80685    1701   \n161466  hkayet tounsia|\"elhiwar ettounsi\"|\"denya okhra...   103339     460   \n161467  Kingdom Hearts|\"KH3\"|\"Kingdom Hearts 3\"|\"Froze...   773347   25900   \n161468  180612__TB02SorryExcuse|\"News\"|\"Politics\"|\"The...   115225    2115   \n161469  å³å®—æ†²|\"å³å§å„’\"|\"å°æ˜Žæ˜Ÿå¤§è·Ÿç­\"|\"Sa...   107392     300   \n\n        dislikes  comment_count  comments_disabled       engagement  \\\n0           2966          15954              False   Low Engagement   \n1           6146          12703              False   Low Engagement   \n2           5339           8181              False   Low Engagement   \n3            666           2146              False   Low Engagement   \n4           1989          17518              False   Low Engagement   \n...          ...            ...                ...              ...   \n161465        99           1312              False   Low Engagement   \n161466        66             51              False  High Engagement   \n161467       224           3881              False   Low Engagement   \n161468       182           1672              False   Low Engagement   \n161469        62            251              False  High Engagement   \n\n        ratings_disabled  video_error_or_removed  \n0                  False                   False  \n1                  False                   False  \n2                  False                   False  \n3                  False                   False  \n4                  False                   False  \n...                  ...                     ...  \n161465             False                   False  \n161466             False                   False  \n161467             False                   False  \n161468             False                   False  \n161469             False                   False  \n\n[161470 rows x 18 columns]",
      "text/html": "<div>\n<style scoped>\n    .dataframe tbody tr th:only-of-type {\n        vertical-align: middle;\n    }\n\n    .dataframe tbody tr th {\n        vertical-align: top;\n    }\n\n    .dataframe thead th {\n        text-align: right;\n    }\n</style>\n<table border=\"1\" class=\"dataframe\">\n  <thead>\n    <tr style=\"text-align: right;\">\n      <th></th>\n      <th>video_id</th>\n      <th>trending_date</th>\n      <th>title</th>\n      <th>channel_title</th>\n      <th>category_id</th>\n      <th>publish_date</th>\n      <th>time_frame</th>\n      <th>published_day_of_week</th>\n      <th>publish_country</th>\n      <th>tags</th>\n      <th>views</th>\n      <th>likes</th>\n      <th>dislikes</th>\n      <th>comment_count</th>\n      <th>comments_disabled</th>\n      <th>engagement</th>\n      <th>ratings_disabled</th>\n      <th>video_error_or_removed</th>\n    </tr>\n  </thead>\n  <tbody>\n    <tr>\n      <th>0</th>\n      <td>2kyS6SvSYSE</td>\n      <td>17.14.11</td>\n      <td>WE WANT TO TALK ABOUT OUR MARRIAGE</td>\n      <td>CaseyNeistat</td>\n      <td>22</td>\n      <td>2017-11-13</td>\n      <td>17:00 to 17:59</td>\n      <td>Monday</td>\n      <td>US</td>\n      <td>SHANtell martin</td>\n      <td>748374</td>\n      <td>57527</td>\n      <td>2966</td>\n      <td>15954</td>\n      <td>False</td>\n      <td>Low Engagement</td>\n      <td>False</td>\n      <td>False</td>\n    </tr>\n    <tr>\n      <th>1</th>\n      <td>1ZAPwfrtAFY</td>\n      <td>17.14.11</td>\n      <td>The Trump Presidency: Last Week Tonight with J...</td>\n      <td>LastWeekTonight</td>\n      <td>24</td>\n      <td>2017-11-13</td>\n      <td>7:00 to 7:59</td>\n      <td>Monday</td>\n      <td>US</td>\n      <td>last week tonight trump presidency|\"last week ...</td>\n      <td>2418783</td>\n      <td>97185</td>\n      <td>6146</td>\n      <td>12703</td>\n      <td>False</td>\n      <td>Low Engagement</td>\n      <td>False</td>\n      <td>False</td>\n    </tr>\n    <tr>\n      <th>2</th>\n      <td>5qpjK5DgCt4</td>\n      <td>17.14.11</td>\n      <td>Racist Superman | Rudy Mancuso, King Bach &amp; Le...</td>\n      <td>Rudy Mancuso</td>\n      <td>23</td>\n      <td>2017-11-12</td>\n      <td>19:00 to 19:59</td>\n      <td>Sunday</td>\n      <td>US</td>\n      <td>racist superman|\"rudy\"\"|\"\"mancuso\"\"|\"\"king\"\"|\"...</td>\n      <td>3191434</td>\n      <td>146033</td>\n      <td>5339</td>\n      <td>8181</td>\n      <td>False</td>\n      <td>Low Engagement</td>\n      <td>False</td>\n      <td>False</td>\n    </tr>\n    <tr>\n      <th>3</th>\n      <td>puqaWrEC7tY</td>\n      <td>17.14.11</td>\n      <td>Nickelback Lyrics: Real or Fake?</td>\n      <td>Good Mythical Morning</td>\n      <td>24</td>\n      <td>2017-11-13</td>\n      <td>11:00 to 11:59</td>\n      <td>Monday</td>\n      <td>US</td>\n      <td>rhett and link|\"gmm\"\"|\"\"good mythical morning\"...</td>\n      <td>343168</td>\n      <td>10172</td>\n      <td>666</td>\n      <td>2146</td>\n      <td>False</td>\n      <td>Low Engagement</td>\n      <td>False</td>\n      <td>False</td>\n    </tr>\n    <tr>\n      <th>4</th>\n      <td>d380meD0W0M</td>\n      <td>17.14.11</td>\n      <td>I Dare You: GOING BALD!?</td>\n      <td>nigahiga</td>\n      <td>24</td>\n      <td>2017-11-12</td>\n      <td>18:00 to 18:59</td>\n      <td>Sunday</td>\n      <td>US</td>\n      <td>ryan|\"higa\"\"|\"\"higatv\"\"|\"\"nigahiga\"\"|\"\"i dare ...</td>\n      <td>2095731</td>\n      <td>132235</td>\n      <td>1989</td>\n      <td>17518</td>\n      <td>False</td>\n      <td>Low Engagement</td>\n      <td>False</td>\n      <td>False</td>\n    </tr>\n    <tr>\n      <th>...</th>\n      <td>...</td>\n      <td>...</td>\n      <td>...</td>\n      <td>...</td>\n      <td>...</td>\n      <td>...</td>\n      <td>...</td>\n      <td>...</td>\n      <td>...</td>\n      <td>...</td>\n      <td>...</td>\n      <td>...</td>\n      <td>...</td>\n      <td>...</td>\n      <td>...</td>\n      <td>...</td>\n      <td>...</td>\n      <td>...</td>\n    </tr>\n    <tr>\n      <th>161465</th>\n      <td>sGolxsMSGfQ</td>\n      <td>18.14.06</td>\n      <td>HOW2: How to Solve a Mystery</td>\n      <td>Annoying Orange</td>\n      <td>24</td>\n      <td>2018-06-13</td>\n      <td>18:00 to 18:59</td>\n      <td>Wednesday</td>\n      <td>CANADA</td>\n      <td>annoying orange|\"funny\"|\"fruit\"|\"talking\"|\"ani...</td>\n      <td>80685</td>\n      <td>1701</td>\n      <td>99</td>\n      <td>1312</td>\n      <td>False</td>\n      <td>Low Engagement</td>\n      <td>False</td>\n      <td>False</td>\n    </tr>\n    <tr>\n      <th>161466</th>\n      <td>8HNuRNi8t70</td>\n      <td>18.14.06</td>\n      <td>Eli Lik Lik Episode 13 Partie 01</td>\n      <td>Elhiwar Ettounsi</td>\n      <td>24</td>\n      <td>2018-06-13</td>\n      <td>19:00 to 19:59</td>\n      <td>Wednesday</td>\n      <td>CANADA</td>\n      <td>hkayet tounsia|\"elhiwar ettounsi\"|\"denya okhra...</td>\n      <td>103339</td>\n      <td>460</td>\n      <td>66</td>\n      <td>51</td>\n      <td>False</td>\n      <td>High Engagement</td>\n      <td>False</td>\n      <td>False</td>\n    </tr>\n    <tr>\n      <th>161467</th>\n      <td>GWlKEM3m2EE</td>\n      <td>18.14.06</td>\n      <td>KINGDOM HEARTS III â€“ SQUARE ENIX E3 SHOWCASE...</td>\n      <td>Kingdom Hearts</td>\n      <td>20</td>\n      <td>2018-06-11</td>\n      <td>17:00 to 17:59</td>\n      <td>Monday</td>\n      <td>CANADA</td>\n      <td>Kingdom Hearts|\"KH3\"|\"Kingdom Hearts 3\"|\"Froze...</td>\n      <td>773347</td>\n      <td>25900</td>\n      <td>224</td>\n      <td>3881</td>\n      <td>False</td>\n      <td>Low Engagement</td>\n      <td>False</td>\n      <td>False</td>\n    </tr>\n    <tr>\n      <th>161468</th>\n      <td>lbMKLzQ4cNQ</td>\n      <td>18.14.06</td>\n      <td>Trump Advisor Grovels To Trudeau</td>\n      <td>The Young Turks</td>\n      <td>25</td>\n      <td>2018-06-13</td>\n      <td>4:00 to 4:59</td>\n      <td>Wednesday</td>\n      <td>CANADA</td>\n      <td>180612__TB02SorryExcuse|\"News\"|\"Politics\"|\"The...</td>\n      <td>115225</td>\n      <td>2115</td>\n      <td>182</td>\n      <td>1672</td>\n      <td>False</td>\n      <td>Low Engagement</td>\n      <td>False</td>\n      <td>False</td>\n    </tr>\n    <tr>\n      <th>161469</th>\n      <td>POTgw38-m58</td>\n      <td>18.14.06</td>\n      <td>ã€å®Œæ•´ç‰ˆã€‘é‡åˆ°ææ€–æƒ…äººè©²æ€Žéº¼è¾¦ï...</td>\n      <td>æˆ‘æ„›å°æ˜Žæ˜Ÿå¤§è·Ÿç­</td>\n      <td>24</td>\n      <td>2018-06-13</td>\n      <td>16:00 to 16:59</td>\n      <td>Wednesday</td>\n      <td>CANADA</td>\n      <td>å³å®—æ†²|\"å³å§å„’\"|\"å°æ˜Žæ˜Ÿå¤§è·Ÿç­\"|\"Sa...</td>\n      <td>107392</td>\n      <td>300</td>\n      <td>62</td>\n      <td>251</td>\n      <td>False</td>\n      <td>High Engagement</td>\n      <td>False</td>\n      <td>False</td>\n    </tr>\n  </tbody>\n</table>\n<p>161470 rows × 18 columns</p>\n</div>"
     },
     "execution_count": 14,
     "metadata": {},
     "output_type": "execute_result"
    }
   ],
   "source": [
    "# youtube.drop('engagement', axis=1, inplace=True)\n",
    "youtube"
   ],
   "metadata": {
    "collapsed": false,
    "ExecuteTime": {
     "end_time": "2024-03-22T19:54:43.460198Z",
     "start_time": "2024-03-22T19:54:43.448888Z"
    }
   },
   "id": "5324c46b736c25d9",
   "execution_count": 14
  },
  {
   "cell_type": "markdown",
   "source": [
    "# 8. Calculate the total views, likes, dislikes, and comments for each channel_title."
   ],
   "metadata": {
    "collapsed": false
   },
   "id": "d8e99633eef3244d"
  },
  {
   "cell_type": "code",
   "outputs": [
    {
     "data": {
      "text/plain": "                        likes  dislikes  comment_count\nchannel_title                                         \n#AndresSTyle            21039       598           2364\n#DÃ©bloquÃ©s             1933       111             18\n#Mind Warehouse        536411     94787         336485\n#NAME?                   9049       647           1480\n#SeekingTheTruth         3277       176           1066\n...                       ...       ...            ...\ní¬í¬í¬í¬             6058       207           1208\níŠ¹ì´í•œë™ë¬¼ì±„ë„  261140      3382          22741\níƒ€ìš°TV                 4160       222           1000\ní™œë ¥ì†ŒTV              1157       511            735\nðŸ’œSandrea             25960       565            875\n\n[12361 rows x 3 columns]",
      "text/html": "<div>\n<style scoped>\n    .dataframe tbody tr th:only-of-type {\n        vertical-align: middle;\n    }\n\n    .dataframe tbody tr th {\n        vertical-align: top;\n    }\n\n    .dataframe thead th {\n        text-align: right;\n    }\n</style>\n<table border=\"1\" class=\"dataframe\">\n  <thead>\n    <tr style=\"text-align: right;\">\n      <th></th>\n      <th>likes</th>\n      <th>dislikes</th>\n      <th>comment_count</th>\n    </tr>\n    <tr>\n      <th>channel_title</th>\n      <th></th>\n      <th></th>\n      <th></th>\n    </tr>\n  </thead>\n  <tbody>\n    <tr>\n      <th>#AndresSTyle</th>\n      <td>21039</td>\n      <td>598</td>\n      <td>2364</td>\n    </tr>\n    <tr>\n      <th>#DÃ©bloquÃ©s</th>\n      <td>1933</td>\n      <td>111</td>\n      <td>18</td>\n    </tr>\n    <tr>\n      <th>#Mind Warehouse</th>\n      <td>536411</td>\n      <td>94787</td>\n      <td>336485</td>\n    </tr>\n    <tr>\n      <th>#NAME?</th>\n      <td>9049</td>\n      <td>647</td>\n      <td>1480</td>\n    </tr>\n    <tr>\n      <th>#SeekingTheTruth</th>\n      <td>3277</td>\n      <td>176</td>\n      <td>1066</td>\n    </tr>\n    <tr>\n      <th>...</th>\n      <td>...</td>\n      <td>...</td>\n      <td>...</td>\n    </tr>\n    <tr>\n      <th>í¬í¬í¬í¬</th>\n      <td>6058</td>\n      <td>207</td>\n      <td>1208</td>\n    </tr>\n    <tr>\n      <th>íŠ¹ì´í•œë™ë¬¼ì±„ë„</th>\n      <td>261140</td>\n      <td>3382</td>\n      <td>22741</td>\n    </tr>\n    <tr>\n      <th>íƒ€ìš°TV</th>\n      <td>4160</td>\n      <td>222</td>\n      <td>1000</td>\n    </tr>\n    <tr>\n      <th>í™œë ¥ì†ŒTV</th>\n      <td>1157</td>\n      <td>511</td>\n      <td>735</td>\n    </tr>\n    <tr>\n      <th>ðŸ’œSandrea</th>\n      <td>25960</td>\n      <td>565</td>\n      <td>875</td>\n    </tr>\n  </tbody>\n</table>\n<p>12361 rows × 3 columns</p>\n</div>"
     },
     "execution_count": 15,
     "metadata": {},
     "output_type": "execute_result"
    }
   ],
   "source": [
    "youtube.groupby('channel_title')[['likes', 'dislikes', 'comment_count']].sum()"
   ],
   "metadata": {
    "collapsed": false,
    "ExecuteTime": {
     "end_time": "2024-03-22T19:54:44.422276Z",
     "start_time": "2024-03-22T19:54:44.388462Z"
    }
   },
   "id": "b8640abccbc89f97",
   "execution_count": 15
  },
  {
   "cell_type": "markdown",
   "source": [
    "# 9. Determine which hour of the day (from publish_date) has the highest average number of views."
   ],
   "metadata": {
    "collapsed": false
   },
   "id": "1a77192b964e5b0c"
  },
  {
   "cell_type": "code",
   "outputs": [
    {
     "data": {
      "text/plain": "0"
     },
     "execution_count": 16,
     "metadata": {},
     "output_type": "execute_result"
    }
   ],
   "source": [
    "hour = youtube['publish_date'].dt.hour\n",
    "max_avg_views_hour = youtube.groupby(hour)['views'].mean().idxmax()\n",
    "max_avg_views_hour"
   ],
   "metadata": {
    "collapsed": false,
    "ExecuteTime": {
     "end_time": "2024-03-22T19:54:45.557456Z",
     "start_time": "2024-03-22T19:54:45.543319Z"
    }
   },
   "id": "8d9589a2d76c6f77",
   "execution_count": 16
  },
  {
   "cell_type": "code",
   "outputs": [
    {
     "data": {
      "text/plain": "           video_id trending_date  \\\n0       2kyS6SvSYSE      17.14.11   \n1       1ZAPwfrtAFY      17.14.11   \n2       5qpjK5DgCt4      17.14.11   \n3       puqaWrEC7tY      17.14.11   \n4       d380meD0W0M      17.14.11   \n...             ...           ...   \n161465  sGolxsMSGfQ      18.14.06   \n161466  8HNuRNi8t70      18.14.06   \n161467  GWlKEM3m2EE      18.14.06   \n161468  lbMKLzQ4cNQ      18.14.06   \n161469  POTgw38-m58      18.14.06   \n\n                                                    title  \\\n0                      WE WANT TO TALK ABOUT OUR MARRIAGE   \n1       The Trump Presidency: Last Week Tonight with J...   \n2       Racist Superman | Rudy Mancuso, King Bach & Le...   \n3                        Nickelback Lyrics: Real or Fake?   \n4                                I Dare You: GOING BALD!?   \n...                                                   ...   \n161465                       HOW2: How to Solve a Mystery   \n161466                   Eli Lik Lik Episode 13 Partie 01   \n161467  KINGDOM HEARTS III â€“ SQUARE ENIX E3 SHOWCASE...   \n161468                   Trump Advisor Grovels To Trudeau   \n161469  ã€å®Œæ•´ç‰ˆã€‘é‡åˆ°ææ€–æƒ…äººè©²æ€Žéº¼è¾¦ï...   \n\n                   channel_title  category_id publish_date      time_frame  \\\n0                   CaseyNeistat           22   2017-11-13  17:00 to 17:59   \n1                LastWeekTonight           24   2017-11-13    7:00 to 7:59   \n2                   Rudy Mancuso           23   2017-11-12  19:00 to 19:59   \n3          Good Mythical Morning           24   2017-11-13  11:00 to 11:59   \n4                       nigahiga           24   2017-11-12  18:00 to 18:59   \n...                          ...          ...          ...             ...   \n161465           Annoying Orange           24   2018-06-13  18:00 to 18:59   \n161466          Elhiwar Ettounsi           24   2018-06-13  19:00 to 19:59   \n161467            Kingdom Hearts           20   2018-06-11  17:00 to 17:59   \n161468           The Young Turks           25   2018-06-13    4:00 to 4:59   \n161469  æˆ‘æ„›å°æ˜Žæ˜Ÿå¤§è·Ÿç­           24   2018-06-13  16:00 to 16:59   \n\n       published_day_of_week publish_country  \\\n0                     Monday              US   \n1                     Monday              US   \n2                     Sunday              US   \n3                     Monday              US   \n4                     Sunday              US   \n...                      ...             ...   \n161465             Wednesday          CANADA   \n161466             Wednesday          CANADA   \n161467                Monday          CANADA   \n161468             Wednesday          CANADA   \n161469             Wednesday          CANADA   \n\n                                                     tags    views   likes  \\\n0                                         SHANtell martin   748374   57527   \n1       last week tonight trump presidency|\"last week ...  2418783   97185   \n2       racist superman|\"rudy\"\"|\"\"mancuso\"\"|\"\"king\"\"|\"...  3191434  146033   \n3       rhett and link|\"gmm\"\"|\"\"good mythical morning\"...   343168   10172   \n4       ryan|\"higa\"\"|\"\"higatv\"\"|\"\"nigahiga\"\"|\"\"i dare ...  2095731  132235   \n...                                                   ...      ...     ...   \n161465  annoying orange|\"funny\"|\"fruit\"|\"talking\"|\"ani...    80685    1701   \n161466  hkayet tounsia|\"elhiwar ettounsi\"|\"denya okhra...   103339     460   \n161467  Kingdom Hearts|\"KH3\"|\"Kingdom Hearts 3\"|\"Froze...   773347   25900   \n161468  180612__TB02SorryExcuse|\"News\"|\"Politics\"|\"The...   115225    2115   \n161469  å³å®—æ†²|\"å³å§å„’\"|\"å°æ˜Žæ˜Ÿå¤§è·Ÿç­\"|\"Sa...   107392     300   \n\n        dislikes  comment_count  comments_disabled       engagement  \\\n0           2966          15954              False   Low Engagement   \n1           6146          12703              False   Low Engagement   \n2           5339           8181              False   Low Engagement   \n3            666           2146              False   Low Engagement   \n4           1989          17518              False   Low Engagement   \n...          ...            ...                ...              ...   \n161465        99           1312              False   Low Engagement   \n161466        66             51              False  High Engagement   \n161467       224           3881              False   Low Engagement   \n161468       182           1672              False   Low Engagement   \n161469        62            251              False  High Engagement   \n\n        ratings_disabled  video_error_or_removed  \n0                  False                   False  \n1                  False                   False  \n2                  False                   False  \n3                  False                   False  \n4                  False                   False  \n...                  ...                     ...  \n161465             False                   False  \n161466             False                   False  \n161467             False                   False  \n161468             False                   False  \n161469             False                   False  \n\n[161470 rows x 18 columns]",
      "text/html": "<div>\n<style scoped>\n    .dataframe tbody tr th:only-of-type {\n        vertical-align: middle;\n    }\n\n    .dataframe tbody tr th {\n        vertical-align: top;\n    }\n\n    .dataframe thead th {\n        text-align: right;\n    }\n</style>\n<table border=\"1\" class=\"dataframe\">\n  <thead>\n    <tr style=\"text-align: right;\">\n      <th></th>\n      <th>video_id</th>\n      <th>trending_date</th>\n      <th>title</th>\n      <th>channel_title</th>\n      <th>category_id</th>\n      <th>publish_date</th>\n      <th>time_frame</th>\n      <th>published_day_of_week</th>\n      <th>publish_country</th>\n      <th>tags</th>\n      <th>views</th>\n      <th>likes</th>\n      <th>dislikes</th>\n      <th>comment_count</th>\n      <th>comments_disabled</th>\n      <th>engagement</th>\n      <th>ratings_disabled</th>\n      <th>video_error_or_removed</th>\n    </tr>\n  </thead>\n  <tbody>\n    <tr>\n      <th>0</th>\n      <td>2kyS6SvSYSE</td>\n      <td>17.14.11</td>\n      <td>WE WANT TO TALK ABOUT OUR MARRIAGE</td>\n      <td>CaseyNeistat</td>\n      <td>22</td>\n      <td>2017-11-13</td>\n      <td>17:00 to 17:59</td>\n      <td>Monday</td>\n      <td>US</td>\n      <td>SHANtell martin</td>\n      <td>748374</td>\n      <td>57527</td>\n      <td>2966</td>\n      <td>15954</td>\n      <td>False</td>\n      <td>Low Engagement</td>\n      <td>False</td>\n      <td>False</td>\n    </tr>\n    <tr>\n      <th>1</th>\n      <td>1ZAPwfrtAFY</td>\n      <td>17.14.11</td>\n      <td>The Trump Presidency: Last Week Tonight with J...</td>\n      <td>LastWeekTonight</td>\n      <td>24</td>\n      <td>2017-11-13</td>\n      <td>7:00 to 7:59</td>\n      <td>Monday</td>\n      <td>US</td>\n      <td>last week tonight trump presidency|\"last week ...</td>\n      <td>2418783</td>\n      <td>97185</td>\n      <td>6146</td>\n      <td>12703</td>\n      <td>False</td>\n      <td>Low Engagement</td>\n      <td>False</td>\n      <td>False</td>\n    </tr>\n    <tr>\n      <th>2</th>\n      <td>5qpjK5DgCt4</td>\n      <td>17.14.11</td>\n      <td>Racist Superman | Rudy Mancuso, King Bach &amp; Le...</td>\n      <td>Rudy Mancuso</td>\n      <td>23</td>\n      <td>2017-11-12</td>\n      <td>19:00 to 19:59</td>\n      <td>Sunday</td>\n      <td>US</td>\n      <td>racist superman|\"rudy\"\"|\"\"mancuso\"\"|\"\"king\"\"|\"...</td>\n      <td>3191434</td>\n      <td>146033</td>\n      <td>5339</td>\n      <td>8181</td>\n      <td>False</td>\n      <td>Low Engagement</td>\n      <td>False</td>\n      <td>False</td>\n    </tr>\n    <tr>\n      <th>3</th>\n      <td>puqaWrEC7tY</td>\n      <td>17.14.11</td>\n      <td>Nickelback Lyrics: Real or Fake?</td>\n      <td>Good Mythical Morning</td>\n      <td>24</td>\n      <td>2017-11-13</td>\n      <td>11:00 to 11:59</td>\n      <td>Monday</td>\n      <td>US</td>\n      <td>rhett and link|\"gmm\"\"|\"\"good mythical morning\"...</td>\n      <td>343168</td>\n      <td>10172</td>\n      <td>666</td>\n      <td>2146</td>\n      <td>False</td>\n      <td>Low Engagement</td>\n      <td>False</td>\n      <td>False</td>\n    </tr>\n    <tr>\n      <th>4</th>\n      <td>d380meD0W0M</td>\n      <td>17.14.11</td>\n      <td>I Dare You: GOING BALD!?</td>\n      <td>nigahiga</td>\n      <td>24</td>\n      <td>2017-11-12</td>\n      <td>18:00 to 18:59</td>\n      <td>Sunday</td>\n      <td>US</td>\n      <td>ryan|\"higa\"\"|\"\"higatv\"\"|\"\"nigahiga\"\"|\"\"i dare ...</td>\n      <td>2095731</td>\n      <td>132235</td>\n      <td>1989</td>\n      <td>17518</td>\n      <td>False</td>\n      <td>Low Engagement</td>\n      <td>False</td>\n      <td>False</td>\n    </tr>\n    <tr>\n      <th>...</th>\n      <td>...</td>\n      <td>...</td>\n      <td>...</td>\n      <td>...</td>\n      <td>...</td>\n      <td>...</td>\n      <td>...</td>\n      <td>...</td>\n      <td>...</td>\n      <td>...</td>\n      <td>...</td>\n      <td>...</td>\n      <td>...</td>\n      <td>...</td>\n      <td>...</td>\n      <td>...</td>\n      <td>...</td>\n      <td>...</td>\n    </tr>\n    <tr>\n      <th>161465</th>\n      <td>sGolxsMSGfQ</td>\n      <td>18.14.06</td>\n      <td>HOW2: How to Solve a Mystery</td>\n      <td>Annoying Orange</td>\n      <td>24</td>\n      <td>2018-06-13</td>\n      <td>18:00 to 18:59</td>\n      <td>Wednesday</td>\n      <td>CANADA</td>\n      <td>annoying orange|\"funny\"|\"fruit\"|\"talking\"|\"ani...</td>\n      <td>80685</td>\n      <td>1701</td>\n      <td>99</td>\n      <td>1312</td>\n      <td>False</td>\n      <td>Low Engagement</td>\n      <td>False</td>\n      <td>False</td>\n    </tr>\n    <tr>\n      <th>161466</th>\n      <td>8HNuRNi8t70</td>\n      <td>18.14.06</td>\n      <td>Eli Lik Lik Episode 13 Partie 01</td>\n      <td>Elhiwar Ettounsi</td>\n      <td>24</td>\n      <td>2018-06-13</td>\n      <td>19:00 to 19:59</td>\n      <td>Wednesday</td>\n      <td>CANADA</td>\n      <td>hkayet tounsia|\"elhiwar ettounsi\"|\"denya okhra...</td>\n      <td>103339</td>\n      <td>460</td>\n      <td>66</td>\n      <td>51</td>\n      <td>False</td>\n      <td>High Engagement</td>\n      <td>False</td>\n      <td>False</td>\n    </tr>\n    <tr>\n      <th>161467</th>\n      <td>GWlKEM3m2EE</td>\n      <td>18.14.06</td>\n      <td>KINGDOM HEARTS III â€“ SQUARE ENIX E3 SHOWCASE...</td>\n      <td>Kingdom Hearts</td>\n      <td>20</td>\n      <td>2018-06-11</td>\n      <td>17:00 to 17:59</td>\n      <td>Monday</td>\n      <td>CANADA</td>\n      <td>Kingdom Hearts|\"KH3\"|\"Kingdom Hearts 3\"|\"Froze...</td>\n      <td>773347</td>\n      <td>25900</td>\n      <td>224</td>\n      <td>3881</td>\n      <td>False</td>\n      <td>Low Engagement</td>\n      <td>False</td>\n      <td>False</td>\n    </tr>\n    <tr>\n      <th>161468</th>\n      <td>lbMKLzQ4cNQ</td>\n      <td>18.14.06</td>\n      <td>Trump Advisor Grovels To Trudeau</td>\n      <td>The Young Turks</td>\n      <td>25</td>\n      <td>2018-06-13</td>\n      <td>4:00 to 4:59</td>\n      <td>Wednesday</td>\n      <td>CANADA</td>\n      <td>180612__TB02SorryExcuse|\"News\"|\"Politics\"|\"The...</td>\n      <td>115225</td>\n      <td>2115</td>\n      <td>182</td>\n      <td>1672</td>\n      <td>False</td>\n      <td>Low Engagement</td>\n      <td>False</td>\n      <td>False</td>\n    </tr>\n    <tr>\n      <th>161469</th>\n      <td>POTgw38-m58</td>\n      <td>18.14.06</td>\n      <td>ã€å®Œæ•´ç‰ˆã€‘é‡åˆ°ææ€–æƒ…äººè©²æ€Žéº¼è¾¦ï...</td>\n      <td>æˆ‘æ„›å°æ˜Žæ˜Ÿå¤§è·Ÿç­</td>\n      <td>24</td>\n      <td>2018-06-13</td>\n      <td>16:00 to 16:59</td>\n      <td>Wednesday</td>\n      <td>CANADA</td>\n      <td>å³å®—æ†²|\"å³å§å„’\"|\"å°æ˜Žæ˜Ÿå¤§è·Ÿç­\"|\"Sa...</td>\n      <td>107392</td>\n      <td>300</td>\n      <td>62</td>\n      <td>251</td>\n      <td>False</td>\n      <td>High Engagement</td>\n      <td>False</td>\n      <td>False</td>\n    </tr>\n  </tbody>\n</table>\n<p>161470 rows × 18 columns</p>\n</div>"
     },
     "execution_count": 17,
     "metadata": {},
     "output_type": "execute_result"
    }
   ],
   "source": [
    "youtube"
   ],
   "metadata": {
    "collapsed": false,
    "ExecuteTime": {
     "end_time": "2024-03-22T19:54:46.076829Z",
     "start_time": "2024-03-22T19:54:46.065935Z"
    }
   },
   "id": "9bdc5a4a7eee478",
   "execution_count": 17
  },
  {
   "cell_type": "markdown",
   "source": [
    "# 10. Identify the top 5 tags associated with the highest average number of views."
   ],
   "metadata": {
    "collapsed": false
   },
   "id": "64893699502341f0"
  },
  {
   "cell_type": "code",
   "outputs": [
    {
     "data": {
      "text/plain": "0                             SHANtell martin\n1          last week tonight trump presidency\n2           \"last week tonight donald trump\"\"\n3                       \"\"john oliver trump\"\"\n4                           \"\"donald trump\"\"\"\n                          ...                \n2907697                              \"ç”·å‹\"\n2907698                              \"å¥³å‹\"\n2907699                              \"ç›¸è™•\"\n2907700                        \"ææ€–æƒ…äºº\"\n2907701                              \"æƒ…æ®º\"\nName: tags, Length: 2907702, dtype: object"
     },
     "execution_count": 26,
     "metadata": {},
     "output_type": "execute_result"
    }
   ],
   "source": [
    "tags = youtube['tags'].str.split('|').explode()\n",
    "tags.reset_index(drop=True, inplace=True)\n",
    "tags"
   ],
   "metadata": {
    "collapsed": false,
    "ExecuteTime": {
     "end_time": "2024-03-22T20:02:51.309425Z",
     "start_time": "2024-03-22T20:02:50.079971Z"
    }
   },
   "id": "35ae1225a107df84",
   "execution_count": 26
  },
  {
   "cell_type": "code",
   "outputs": [
    {
     "data": {
      "text/plain": "tags\n\"Pop\"         28936747962\n\"Rap\"         18729605556\n\"Records\"     17073688470\n\"Ozuna\"       16474937149\n\"Amorfoda\"    16324177353\nName: views, dtype: int64"
     },
     "execution_count": 29,
     "metadata": {},
     "output_type": "execute_result"
    }
   ],
   "source": [
    "# Explode the tags\n",
    "exploded_tags = youtube['tags'].str.split('|').explode()\n",
    "\n",
    "# Join with original dataframe to get corresponding views\n",
    "tag_views = youtube[['views']].join(exploded_tags)\n",
    "\n",
    "# Group by tags and calculate mean views\n",
    "# tag_mean_views = tag_views.groupby('tags')['views'].mean()\n",
    "tag_mean_views = tag_views.groupby('tags')['views'].sum()\n",
    "\n",
    "# Sort and take top 5\n",
    "top_5_tags = tag_mean_views.sort_values(ascending=False).head(5)\n",
    "\n",
    "top_5_tags"
   ],
   "metadata": {
    "collapsed": false,
    "ExecuteTime": {
     "end_time": "2024-03-22T20:05:55.696841Z",
     "start_time": "2024-03-22T20:05:54.182091Z"
    }
   },
   "id": "d2923975f7b05eee",
   "execution_count": 29
  },
  {
   "cell_type": "code",
   "outputs": [
    {
     "data": {
      "text/plain": "           video_id trending_date  \\\n0       2kyS6SvSYSE      17.14.11   \n1       1ZAPwfrtAFY      17.14.11   \n2       5qpjK5DgCt4      17.14.11   \n3       puqaWrEC7tY      17.14.11   \n4       d380meD0W0M      17.14.11   \n...             ...           ...   \n161465  sGolxsMSGfQ      18.14.06   \n161466  8HNuRNi8t70      18.14.06   \n161467  GWlKEM3m2EE      18.14.06   \n161468  lbMKLzQ4cNQ      18.14.06   \n161469  POTgw38-m58      18.14.06   \n\n                                                    title  \\\n0                      WE WANT TO TALK ABOUT OUR MARRIAGE   \n1       The Trump Presidency: Last Week Tonight with J...   \n2       Racist Superman | Rudy Mancuso, King Bach & Le...   \n3                        Nickelback Lyrics: Real or Fake?   \n4                                I Dare You: GOING BALD!?   \n...                                                   ...   \n161465                       HOW2: How to Solve a Mystery   \n161466                   Eli Lik Lik Episode 13 Partie 01   \n161467  KINGDOM HEARTS III â€“ SQUARE ENIX E3 SHOWCASE...   \n161468                   Trump Advisor Grovels To Trudeau   \n161469  ã€å®Œæ•´ç‰ˆã€‘é‡åˆ°ææ€–æƒ…äººè©²æ€Žéº¼è¾¦ï...   \n\n                   channel_title  category_id publish_date      time_frame  \\\n0                   CaseyNeistat           22   2017-11-13  17:00 to 17:59   \n1                LastWeekTonight           24   2017-11-13    7:00 to 7:59   \n2                   Rudy Mancuso           23   2017-11-12  19:00 to 19:59   \n3          Good Mythical Morning           24   2017-11-13  11:00 to 11:59   \n4                       nigahiga           24   2017-11-12  18:00 to 18:59   \n...                          ...          ...          ...             ...   \n161465           Annoying Orange           24   2018-06-13  18:00 to 18:59   \n161466          Elhiwar Ettounsi           24   2018-06-13  19:00 to 19:59   \n161467            Kingdom Hearts           20   2018-06-11  17:00 to 17:59   \n161468           The Young Turks           25   2018-06-13    4:00 to 4:59   \n161469  æˆ‘æ„›å°æ˜Žæ˜Ÿå¤§è·Ÿç­           24   2018-06-13  16:00 to 16:59   \n\n       published_day_of_week publish_country  \\\n0                     Monday              US   \n1                     Monday              US   \n2                     Sunday              US   \n3                     Monday              US   \n4                     Sunday              US   \n...                      ...             ...   \n161465             Wednesday          CANADA   \n161466             Wednesday          CANADA   \n161467                Monday          CANADA   \n161468             Wednesday          CANADA   \n161469             Wednesday          CANADA   \n\n                                                     tags    views   likes  \\\n0                                         SHANtell martin   748374   57527   \n1       last week tonight trump presidency|\"last week ...  2418783   97185   \n2       racist superman|\"rudy\"\"|\"\"mancuso\"\"|\"\"king\"\"|\"...  3191434  146033   \n3       rhett and link|\"gmm\"\"|\"\"good mythical morning\"...   343168   10172   \n4       ryan|\"higa\"\"|\"\"higatv\"\"|\"\"nigahiga\"\"|\"\"i dare ...  2095731  132235   \n...                                                   ...      ...     ...   \n161465  annoying orange|\"funny\"|\"fruit\"|\"talking\"|\"ani...    80685    1701   \n161466  hkayet tounsia|\"elhiwar ettounsi\"|\"denya okhra...   103339     460   \n161467  Kingdom Hearts|\"KH3\"|\"Kingdom Hearts 3\"|\"Froze...   773347   25900   \n161468  180612__TB02SorryExcuse|\"News\"|\"Politics\"|\"The...   115225    2115   \n161469  å³å®—æ†²|\"å³å§å„’\"|\"å°æ˜Žæ˜Ÿå¤§è·Ÿç­\"|\"Sa...   107392     300   \n\n        dislikes  comment_count  comments_disabled       engagement  \\\n0           2966          15954              False   Low Engagement   \n1           6146          12703              False   Low Engagement   \n2           5339           8181              False   Low Engagement   \n3            666           2146              False   Low Engagement   \n4           1989          17518              False   Low Engagement   \n...          ...            ...                ...              ...   \n161465        99           1312              False   Low Engagement   \n161466        66             51              False  High Engagement   \n161467       224           3881              False   Low Engagement   \n161468       182           1672              False   Low Engagement   \n161469        62            251              False  High Engagement   \n\n        ratings_disabled  video_error_or_removed  \n0                  False                   False  \n1                  False                   False  \n2                  False                   False  \n3                  False                   False  \n4                  False                   False  \n...                  ...                     ...  \n161465             False                   False  \n161466             False                   False  \n161467             False                   False  \n161468             False                   False  \n161469             False                   False  \n\n[161470 rows x 18 columns]",
      "text/html": "<div>\n<style scoped>\n    .dataframe tbody tr th:only-of-type {\n        vertical-align: middle;\n    }\n\n    .dataframe tbody tr th {\n        vertical-align: top;\n    }\n\n    .dataframe thead th {\n        text-align: right;\n    }\n</style>\n<table border=\"1\" class=\"dataframe\">\n  <thead>\n    <tr style=\"text-align: right;\">\n      <th></th>\n      <th>video_id</th>\n      <th>trending_date</th>\n      <th>title</th>\n      <th>channel_title</th>\n      <th>category_id</th>\n      <th>publish_date</th>\n      <th>time_frame</th>\n      <th>published_day_of_week</th>\n      <th>publish_country</th>\n      <th>tags</th>\n      <th>views</th>\n      <th>likes</th>\n      <th>dislikes</th>\n      <th>comment_count</th>\n      <th>comments_disabled</th>\n      <th>engagement</th>\n      <th>ratings_disabled</th>\n      <th>video_error_or_removed</th>\n    </tr>\n  </thead>\n  <tbody>\n    <tr>\n      <th>0</th>\n      <td>2kyS6SvSYSE</td>\n      <td>17.14.11</td>\n      <td>WE WANT TO TALK ABOUT OUR MARRIAGE</td>\n      <td>CaseyNeistat</td>\n      <td>22</td>\n      <td>2017-11-13</td>\n      <td>17:00 to 17:59</td>\n      <td>Monday</td>\n      <td>US</td>\n      <td>SHANtell martin</td>\n      <td>748374</td>\n      <td>57527</td>\n      <td>2966</td>\n      <td>15954</td>\n      <td>False</td>\n      <td>Low Engagement</td>\n      <td>False</td>\n      <td>False</td>\n    </tr>\n    <tr>\n      <th>1</th>\n      <td>1ZAPwfrtAFY</td>\n      <td>17.14.11</td>\n      <td>The Trump Presidency: Last Week Tonight with J...</td>\n      <td>LastWeekTonight</td>\n      <td>24</td>\n      <td>2017-11-13</td>\n      <td>7:00 to 7:59</td>\n      <td>Monday</td>\n      <td>US</td>\n      <td>last week tonight trump presidency|\"last week ...</td>\n      <td>2418783</td>\n      <td>97185</td>\n      <td>6146</td>\n      <td>12703</td>\n      <td>False</td>\n      <td>Low Engagement</td>\n      <td>False</td>\n      <td>False</td>\n    </tr>\n    <tr>\n      <th>2</th>\n      <td>5qpjK5DgCt4</td>\n      <td>17.14.11</td>\n      <td>Racist Superman | Rudy Mancuso, King Bach &amp; Le...</td>\n      <td>Rudy Mancuso</td>\n      <td>23</td>\n      <td>2017-11-12</td>\n      <td>19:00 to 19:59</td>\n      <td>Sunday</td>\n      <td>US</td>\n      <td>racist superman|\"rudy\"\"|\"\"mancuso\"\"|\"\"king\"\"|\"...</td>\n      <td>3191434</td>\n      <td>146033</td>\n      <td>5339</td>\n      <td>8181</td>\n      <td>False</td>\n      <td>Low Engagement</td>\n      <td>False</td>\n      <td>False</td>\n    </tr>\n    <tr>\n      <th>3</th>\n      <td>puqaWrEC7tY</td>\n      <td>17.14.11</td>\n      <td>Nickelback Lyrics: Real or Fake?</td>\n      <td>Good Mythical Morning</td>\n      <td>24</td>\n      <td>2017-11-13</td>\n      <td>11:00 to 11:59</td>\n      <td>Monday</td>\n      <td>US</td>\n      <td>rhett and link|\"gmm\"\"|\"\"good mythical morning\"...</td>\n      <td>343168</td>\n      <td>10172</td>\n      <td>666</td>\n      <td>2146</td>\n      <td>False</td>\n      <td>Low Engagement</td>\n      <td>False</td>\n      <td>False</td>\n    </tr>\n    <tr>\n      <th>4</th>\n      <td>d380meD0W0M</td>\n      <td>17.14.11</td>\n      <td>I Dare You: GOING BALD!?</td>\n      <td>nigahiga</td>\n      <td>24</td>\n      <td>2017-11-12</td>\n      <td>18:00 to 18:59</td>\n      <td>Sunday</td>\n      <td>US</td>\n      <td>ryan|\"higa\"\"|\"\"higatv\"\"|\"\"nigahiga\"\"|\"\"i dare ...</td>\n      <td>2095731</td>\n      <td>132235</td>\n      <td>1989</td>\n      <td>17518</td>\n      <td>False</td>\n      <td>Low Engagement</td>\n      <td>False</td>\n      <td>False</td>\n    </tr>\n    <tr>\n      <th>...</th>\n      <td>...</td>\n      <td>...</td>\n      <td>...</td>\n      <td>...</td>\n      <td>...</td>\n      <td>...</td>\n      <td>...</td>\n      <td>...</td>\n      <td>...</td>\n      <td>...</td>\n      <td>...</td>\n      <td>...</td>\n      <td>...</td>\n      <td>...</td>\n      <td>...</td>\n      <td>...</td>\n      <td>...</td>\n      <td>...</td>\n    </tr>\n    <tr>\n      <th>161465</th>\n      <td>sGolxsMSGfQ</td>\n      <td>18.14.06</td>\n      <td>HOW2: How to Solve a Mystery</td>\n      <td>Annoying Orange</td>\n      <td>24</td>\n      <td>2018-06-13</td>\n      <td>18:00 to 18:59</td>\n      <td>Wednesday</td>\n      <td>CANADA</td>\n      <td>annoying orange|\"funny\"|\"fruit\"|\"talking\"|\"ani...</td>\n      <td>80685</td>\n      <td>1701</td>\n      <td>99</td>\n      <td>1312</td>\n      <td>False</td>\n      <td>Low Engagement</td>\n      <td>False</td>\n      <td>False</td>\n    </tr>\n    <tr>\n      <th>161466</th>\n      <td>8HNuRNi8t70</td>\n      <td>18.14.06</td>\n      <td>Eli Lik Lik Episode 13 Partie 01</td>\n      <td>Elhiwar Ettounsi</td>\n      <td>24</td>\n      <td>2018-06-13</td>\n      <td>19:00 to 19:59</td>\n      <td>Wednesday</td>\n      <td>CANADA</td>\n      <td>hkayet tounsia|\"elhiwar ettounsi\"|\"denya okhra...</td>\n      <td>103339</td>\n      <td>460</td>\n      <td>66</td>\n      <td>51</td>\n      <td>False</td>\n      <td>High Engagement</td>\n      <td>False</td>\n      <td>False</td>\n    </tr>\n    <tr>\n      <th>161467</th>\n      <td>GWlKEM3m2EE</td>\n      <td>18.14.06</td>\n      <td>KINGDOM HEARTS III â€“ SQUARE ENIX E3 SHOWCASE...</td>\n      <td>Kingdom Hearts</td>\n      <td>20</td>\n      <td>2018-06-11</td>\n      <td>17:00 to 17:59</td>\n      <td>Monday</td>\n      <td>CANADA</td>\n      <td>Kingdom Hearts|\"KH3\"|\"Kingdom Hearts 3\"|\"Froze...</td>\n      <td>773347</td>\n      <td>25900</td>\n      <td>224</td>\n      <td>3881</td>\n      <td>False</td>\n      <td>Low Engagement</td>\n      <td>False</td>\n      <td>False</td>\n    </tr>\n    <tr>\n      <th>161468</th>\n      <td>lbMKLzQ4cNQ</td>\n      <td>18.14.06</td>\n      <td>Trump Advisor Grovels To Trudeau</td>\n      <td>The Young Turks</td>\n      <td>25</td>\n      <td>2018-06-13</td>\n      <td>4:00 to 4:59</td>\n      <td>Wednesday</td>\n      <td>CANADA</td>\n      <td>180612__TB02SorryExcuse|\"News\"|\"Politics\"|\"The...</td>\n      <td>115225</td>\n      <td>2115</td>\n      <td>182</td>\n      <td>1672</td>\n      <td>False</td>\n      <td>Low Engagement</td>\n      <td>False</td>\n      <td>False</td>\n    </tr>\n    <tr>\n      <th>161469</th>\n      <td>POTgw38-m58</td>\n      <td>18.14.06</td>\n      <td>ã€å®Œæ•´ç‰ˆã€‘é‡åˆ°ææ€–æƒ…äººè©²æ€Žéº¼è¾¦ï...</td>\n      <td>æˆ‘æ„›å°æ˜Žæ˜Ÿå¤§è·Ÿç­</td>\n      <td>24</td>\n      <td>2018-06-13</td>\n      <td>16:00 to 16:59</td>\n      <td>Wednesday</td>\n      <td>CANADA</td>\n      <td>å³å®—æ†²|\"å³å§å„’\"|\"å°æ˜Žæ˜Ÿå¤§è·Ÿç­\"|\"Sa...</td>\n      <td>107392</td>\n      <td>300</td>\n      <td>62</td>\n      <td>251</td>\n      <td>False</td>\n      <td>High Engagement</td>\n      <td>False</td>\n      <td>False</td>\n    </tr>\n  </tbody>\n</table>\n<p>161470 rows × 18 columns</p>\n</div>"
     },
     "execution_count": 30,
     "metadata": {},
     "output_type": "execute_result"
    }
   ],
   "source": [
    "youtube"
   ],
   "metadata": {
    "collapsed": false,
    "ExecuteTime": {
     "end_time": "2024-03-22T20:05:55.708858Z",
     "start_time": "2024-03-22T20:05:55.697850Z"
    }
   },
   "id": "bcb041110213bc6c",
   "execution_count": 30
  }
 ],
 "metadata": {
  "kernelspec": {
   "display_name": "Python 3",
   "language": "python",
   "name": "python3"
  },
  "language_info": {
   "codemirror_mode": {
    "name": "ipython",
    "version": 2
   },
   "file_extension": ".py",
   "mimetype": "text/x-python",
   "name": "python",
   "nbconvert_exporter": "python",
   "pygments_lexer": "ipython2",
   "version": "2.7.6"
  }
 },
 "nbformat": 4,
 "nbformat_minor": 5
}
