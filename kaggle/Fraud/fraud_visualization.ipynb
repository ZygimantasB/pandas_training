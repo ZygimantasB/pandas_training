{
 "cells": [
  {
   "cell_type": "code",
   "id": "initial_id",
   "metadata": {
    "collapsed": true,
    "ExecuteTime": {
     "end_time": "2024-04-15T18:53:04.055415Z",
     "start_time": "2024-04-15T18:53:04.052185Z"
    }
   },
   "source": [
    "import pandas as pd\n",
    "import seaborn as sns\n",
    "import matplotlib.pyplot as plt\n",
    "import plotly.express as px"
   ],
   "execution_count": 54,
   "outputs": []
  },
  {
   "metadata": {
    "ExecuteTime": {
     "end_time": "2024-04-15T18:53:04.074008Z",
     "start_time": "2024-04-15T18:53:04.056423Z"
    }
   },
   "cell_type": "code",
   "source": "fraud_path = r'F:\\DataSpell\\Pandas_training\\Fraud\\data_set\\Fraudulent_E-Commerce_Transaction_Data.csv'",
   "id": "afeddd954fb8c0dd",
   "execution_count": 55,
   "outputs": []
  },
  {
   "metadata": {
    "ExecuteTime": {
     "end_time": "2024-04-15T18:53:09.259006Z",
     "start_time": "2024-04-15T18:53:04.075015Z"
    }
   },
   "cell_type": "code",
   "source": "fraud = pd.read_csv(fraud_path)",
   "id": "8409323acbc2db0a",
   "execution_count": 56,
   "outputs": []
  },
  {
   "metadata": {
    "ExecuteTime": {
     "end_time": "2024-04-15T18:53:09.963598Z",
     "start_time": "2024-04-15T18:53:09.260009Z"
    }
   },
   "cell_type": "code",
   "source": [
    "fraud['Payment Method'] = fraud['Payment Method'].str.lower().astype('category')\n",
    "fraud['Product Category'] = fraud['Product Category'].str.lower().astype('category')\n",
    "fraud['Quantity'] = pd.to_numeric(fraud['Quantity'], downcast='integer')\n",
    "fraud['Customer Age'] = pd.to_numeric(fraud['Customer Age'], downcast='integer')\n",
    "fraud['Device Used'] = fraud['Device Used'].str.lower().astype('category')\n",
    "fraud['Is Fraudulent'] = fraud['Is Fraudulent'].astype(bool)\n",
    "fraud['Account Age Days'] = pd.to_numeric(fraud['Account Age Days'], downcast='integer')\n",
    "fraud['Transaction Hour'] = pd.to_numeric(fraud['Transaction Hour'], downcast='integer')"
   ],
   "id": "36911c2ea87acd30",
   "execution_count": 57,
   "outputs": []
  },
  {
   "metadata": {
    "ExecuteTime": {
     "end_time": "2024-04-15T18:53:12.758469Z",
     "start_time": "2024-04-15T18:53:09.964602Z"
    }
   },
   "cell_type": "code",
   "source": "fraud.to_parquet(r'F:\\DataSpell\\Pandas_training\\Fraud\\data_set\\Fraudulent_E-Commerce_Transaction_Data.parquet')",
   "id": "d2a942da1ddc8718",
   "execution_count": 58,
   "outputs": []
  },
  {
   "metadata": {
    "ExecuteTime": {
     "end_time": "2024-04-15T18:53:12.766479Z",
     "start_time": "2024-04-15T18:53:12.759476Z"
    }
   },
   "cell_type": "code",
   "source": "fraud.set_index('Transaction ID', inplace=True)",
   "id": "a1f64faea0f79ccb",
   "execution_count": 59,
   "outputs": []
  },
  {
   "metadata": {
    "ExecuteTime": {
     "end_time": "2024-04-15T18:53:12.777909Z",
     "start_time": "2024-04-15T18:53:12.768Z"
    }
   },
   "cell_type": "code",
   "source": "fraud.head()",
   "id": "47452fd5b26e7054",
   "execution_count": 60,
   "outputs": []
  },
  {
   "metadata": {
    "ExecuteTime": {
     "end_time": "2024-04-15T18:53:13.860900Z",
     "start_time": "2024-04-15T18:53:12.778917Z"
    }
   },
   "cell_type": "code",
   "source": [
    "plt.figure(figsize=(100, 120))\n",
    "sns.displot(fraud['Customer Age'], kde=False, bins=50)\n",
    "plt.title('Customer Age Distribution')\n",
    "plt.xlabel('Customer Age')\n",
    "plt.ylabel('Count')\n",
    "plt.show()"
   ],
   "id": "2184bb42e53a5aed",
   "execution_count": 61,
   "outputs": []
  },
  {
   "metadata": {
    "ExecuteTime": {
     "end_time": "2024-04-15T18:53:13.864764Z",
     "start_time": "2024-04-15T18:53:13.861909Z"
    }
   },
   "cell_type": "code",
   "source": [
    "# sns.jointplot(x='Customer Age', y='Transaction Amount', data=fraud, kind='scatter')\n",
    "# sns.jointplot(x='Customer Age', y='Transaction Amount', data=fraud, kind='reg')"
   ],
   "id": "f9240819be15ffab",
   "execution_count": 62,
   "outputs": []
  }
 ],
 "metadata": {
  "kernelspec": {
   "display_name": "Python 3",
   "language": "python",
   "name": "python3"
  },
  "language_info": {
   "codemirror_mode": {
    "name": "ipython",
    "version": 2
   },
   "file_extension": ".py",
   "mimetype": "text/x-python",
   "name": "python",
   "nbconvert_exporter": "python",
   "pygments_lexer": "ipython2",
   "version": "2.7.6"
  }
 },
 "nbformat": 4,
 "nbformat_minor": 5
}
