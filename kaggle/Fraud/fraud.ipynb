{
 "cells": [
  {
   "metadata": {},
   "cell_type": "markdown",
   "source": "# https://www.kaggle.com/datasets/shriyashjagtap/fraudulent-e-commerce-transactions/code",
   "id": "97f4e1308c26df44"
  },
  {
   "cell_type": "code",
   "id": "initial_id",
   "metadata": {
    "collapsed": true,
    "ExecuteTime": {
     "end_time": "2024-04-14T11:15:11.702904Z",
     "start_time": "2024-04-14T11:15:11.699850Z"
    }
   },
   "source": [
    "import pandas as pd\n",
    "import matplotlib.pyplot as plt\n",
    "import numpy as np\n",
    "import seaborn as sns\n",
    "import plotly.express as px"
   ],
   "execution_count": 59,
   "outputs": []
  },
  {
   "metadata": {
    "ExecuteTime": {
     "end_time": "2024-04-14T11:15:12.016115Z",
     "start_time": "2024-04-14T11:15:12.012609Z"
    }
   },
   "cell_type": "code",
   "source": "fraud_path = r'F:\\DataSpell\\Pandas_training\\Fraud\\data_set\\Fraudulent_E-Commerce_Transaction_Data.csv'",
   "id": "ee30d4d42ce5334a",
   "execution_count": 60,
   "outputs": []
  },
  {
   "metadata": {
    "ExecuteTime": {
     "end_time": "2024-04-14T11:15:18.275514Z",
     "start_time": "2024-04-14T11:15:12.032352Z"
    }
   },
   "cell_type": "code",
   "source": "fraud = pd.read_csv(fraud_path, parse_dates=['Transaction Date']).dropna(how='all')",
   "id": "d4bf7c93d68d791",
   "execution_count": 61,
   "outputs": []
  },
  {
   "metadata": {
    "ExecuteTime": {
     "end_time": "2024-04-14T11:15:18.430730Z",
     "start_time": "2024-04-14T11:15:18.276519Z"
    }
   },
   "cell_type": "code",
   "source": [
    "def is_fraudulent(row):\n",
    "    if row == 1: return True\n",
    "    else: return False\n",
    "\n",
    "fraud['Is Fraudulent'] = fraud['Is Fraudulent'].apply(is_fraudulent)"
   ],
   "id": "14009649a957fb4c",
   "execution_count": 62,
   "outputs": []
  },
  {
   "metadata": {
    "ExecuteTime": {
     "end_time": "2024-04-14T11:15:19.136100Z",
     "start_time": "2024-04-14T11:15:18.431736Z"
    }
   },
   "cell_type": "code",
   "source": [
    "fraud['Payment Method'] = fraud['Payment Method'].str.lower().astype('category')\n",
    "fraud['Product Category'] = fraud['Product Category'].str.lower().astype('category')\n",
    "fraud['Quantity'] = pd.to_numeric(fraud['Quantity'], downcast='integer')\n",
    "fraud['Customer Age'] = pd.to_numeric(fraud['Customer Age'], downcast='integer')\n",
    "fraud['Device Used'] = fraud['Device Used'].str.lower().astype('category')\n",
    "fraud['Is Fraudulent'] = fraud['Is Fraudulent'].astype(bool)\n",
    "fraud['Account Age Days'] = pd.to_numeric(fraud['Account Age Days'], downcast='integer')\n",
    "fraud['Transaction Hour'] = pd.to_numeric(fraud['Transaction Hour'], downcast='integer')"
   ],
   "id": "a6cda297647b3c9e",
   "execution_count": 63,
   "outputs": []
  },
  {
   "metadata": {
    "ExecuteTime": {
     "end_time": "2024-04-14T11:15:19.146805Z",
     "start_time": "2024-04-14T11:15:19.137106Z"
    }
   },
   "cell_type": "code",
   "source": "fraud.head()",
   "id": "82ee6c97fbe41a0f",
   "execution_count": 64,
   "outputs": []
  },
  {
   "metadata": {
    "ExecuteTime": {
     "end_time": "2024-04-14T11:15:21.182079Z",
     "start_time": "2024-04-14T11:15:19.147814Z"
    }
   },
   "cell_type": "code",
   "source": [
    "%%time \n",
    "# fraud.info() # 179.8+ MB # 102.5+ MB\n",
    "fraud.nunique() # 2.29 s"
   ],
   "id": "b3d5be6ba520f1ef",
   "execution_count": 65,
   "outputs": []
  },
  {
   "metadata": {
    "ExecuteTime": {
     "end_time": "2024-04-14T11:15:21.406755Z",
     "start_time": "2024-04-14T11:15:21.182079Z"
    }
   },
   "cell_type": "code",
   "source": "fraud.info()",
   "id": "41630f134612d83c",
   "execution_count": 66,
   "outputs": []
  },
  {
   "metadata": {},
   "cell_type": "markdown",
   "source": "# 1. How many unique customers are there in the dataset?",
   "id": "a933514399119e21"
  },
  {
   "metadata": {
    "ExecuteTime": {
     "end_time": "2024-04-14T11:15:21.416012Z",
     "start_time": "2024-04-14T11:15:21.407761Z"
    }
   },
   "cell_type": "code",
   "source": "fraud.head()",
   "id": "b7da2941fc5a42d",
   "execution_count": 67,
   "outputs": []
  },
  {
   "metadata": {
    "ExecuteTime": {
     "end_time": "2024-04-14T11:15:21.772259Z",
     "start_time": "2024-04-14T11:15:21.416012Z"
    }
   },
   "cell_type": "code",
   "source": "fraud['Customer ID'].nunique()",
   "id": "2b0f248e87b0f203",
   "execution_count": 68,
   "outputs": []
  },
  {
   "metadata": {},
   "cell_type": "markdown",
   "source": "# 2. What is the total number of fraudulent transactions?",
   "id": "10cc24b4baaceb6"
  },
  {
   "metadata": {
    "ExecuteTime": {
     "end_time": "2024-04-14T11:15:21.803961Z",
     "start_time": "2024-04-14T11:15:21.772259Z"
    }
   },
   "cell_type": "code",
   "source": [
    "# fraud['Transaction Amount'].sum()\n",
    "fraud[fraud['Is Fraudulent'] == 1].shape[0]"
   ],
   "id": "4b2ba611b8f0983e",
   "execution_count": 69,
   "outputs": []
  },
  {
   "metadata": {},
   "cell_type": "markdown",
   "source": "# 3. Calculate the total transaction amount for each payment method.",
   "id": "ecfb02a1815b989b"
  },
  {
   "metadata": {
    "ExecuteTime": {
     "end_time": "2024-04-14T11:15:21.816441Z",
     "start_time": "2024-04-14T11:15:21.805476Z"
    }
   },
   "cell_type": "code",
   "source": "fraud",
   "id": "877c6939fb44ffd1",
   "execution_count": 70,
   "outputs": []
  },
  {
   "metadata": {
    "ExecuteTime": {
     "end_time": "2024-04-14T11:15:21.849345Z",
     "start_time": "2024-04-14T11:15:21.817447Z"
    }
   },
   "cell_type": "code",
   "source": "fraud.groupby('Payment Method', observed=True)['Transaction Amount'].sum().sort_values(ascending=False)",
   "id": "20a0118ef6152eb6",
   "execution_count": 71,
   "outputs": []
  },
  {
   "metadata": {},
   "cell_type": "markdown",
   "source": "# 4. Identify the top 5 product categories by transaction amount.",
   "id": "8485b86dec4882c6"
  },
  {
   "metadata": {
    "ExecuteTime": {
     "end_time": "2024-04-14T11:15:21.867977Z",
     "start_time": "2024-04-14T11:15:21.849345Z"
    }
   },
   "cell_type": "code",
   "source": "fraud.groupby('Product Category')['Transaction Amount'].sum().sort_values(ascending=False)",
   "id": "b9245a9d743b918",
   "execution_count": 72,
   "outputs": []
  },
  {
   "metadata": {},
   "cell_type": "markdown",
   "source": "# 5. What is the average customer age?",
   "id": "64c118975f60a7a2"
  },
  {
   "metadata": {
    "ExecuteTime": {
     "end_time": "2024-04-14T11:15:21.873267Z",
     "start_time": "2024-04-14T11:15:21.867977Z"
    }
   },
   "cell_type": "code",
   "source": "fraud['Customer Age'].mean()",
   "id": "2e4caccb99f727bc",
   "execution_count": 73,
   "outputs": []
  },
  {
   "metadata": {},
   "cell_type": "markdown",
   "source": "# 6. How many unique customer locations are present?",
   "id": "3686d4e2e431fd92"
  },
  {
   "metadata": {
    "ExecuteTime": {
     "end_time": "2024-04-14T11:15:21.885973Z",
     "start_time": "2024-04-14T11:15:21.873789Z"
    }
   },
   "cell_type": "code",
   "source": "fraud",
   "id": "dc26ae207a89f7d1",
   "execution_count": 74,
   "outputs": []
  },
  {
   "metadata": {
    "ExecuteTime": {
     "end_time": "2024-04-14T11:15:22.064630Z",
     "start_time": "2024-04-14T11:15:21.886979Z"
    }
   },
   "cell_type": "code",
   "source": "fraud['Customer Location'].nunique()",
   "id": "46ab4aaa0a53efa4",
   "execution_count": 75,
   "outputs": []
  },
  {
   "metadata": {},
   "cell_type": "markdown",
   "source": "# 7. Find the quantity of products sold per product category.",
   "id": "5c56a18a12958a5a"
  },
  {
   "metadata": {
    "ExecuteTime": {
     "end_time": "2024-04-14T11:15:22.088950Z",
     "start_time": "2024-04-14T11:15:22.065636Z"
    }
   },
   "cell_type": "code",
   "source": "fraud.groupby('Product Category')['Quantity'].sum()",
   "id": "b2d742ef0613c5cd",
   "execution_count": 76,
   "outputs": []
  },
  {
   "metadata": {},
   "cell_type": "markdown",
   "source": "# 8. Determine the most common device used for transactions.",
   "id": "8b4f5d7b312e236d"
  },
  {
   "metadata": {
    "ExecuteTime": {
     "end_time": "2024-04-14T11:15:22.106706Z",
     "start_time": "2024-04-14T11:15:22.088950Z"
    }
   },
   "cell_type": "code",
   "source": "fraud.groupby('Device Used')['Transaction Amount'].count()",
   "id": "7467bbe00102f861",
   "execution_count": 77,
   "outputs": []
  },
  {
   "metadata": {
    "ExecuteTime": {
     "end_time": "2024-04-14T11:15:22.120935Z",
     "start_time": "2024-04-14T11:15:22.107714Z"
    }
   },
   "cell_type": "code",
   "source": "fraud['Device Used'].value_counts().idxmax()",
   "id": "51d837a65e5c50ce",
   "execution_count": 78,
   "outputs": []
  },
  {
   "metadata": {},
   "cell_type": "markdown",
   "source": "# 9. What are the top 10 most common IP addresses?",
   "id": "6608c942c8e794ff"
  },
  {
   "metadata": {
    "ExecuteTime": {
     "end_time": "2024-04-14T11:15:23.110399Z",
     "start_time": "2024-04-14T11:15:22.121941Z"
    }
   },
   "cell_type": "code",
   "source": "fraud['IP Address'].value_counts(ascending=False).head(10)",
   "id": "5664ac06bcabb6fc",
   "execution_count": 79,
   "outputs": []
  },
  {
   "metadata": {},
   "cell_type": "markdown",
   "source": "# 10. Calculate the average transaction amount per day of the week.",
   "id": "9b1f3d76adcdf838"
  },
  {
   "metadata": {
    "ExecuteTime": {
     "end_time": "2024-04-14T11:15:23.398417Z",
     "start_time": "2024-04-14T11:15:23.111404Z"
    }
   },
   "cell_type": "code",
   "source": [
    "# fraud['Transaction Date'].dt.dayofweek\n",
    "day_name = fraud['Transaction Date'].dt.day_name()\n",
    "fraud.groupby(day_name)['Transaction Amount'].mean()"
   ],
   "id": "30f54cc29922f01f",
   "execution_count": 80,
   "outputs": []
  },
  {
   "metadata": {},
   "cell_type": "markdown",
   "source": "# Data Cleaning",
   "id": "85ec5f2d31d48e7d"
  },
  {
   "metadata": {},
   "cell_type": "markdown",
   "source": "# 1. Check for missing values in the dataset.",
   "id": "ef49e6c3c8e86c1c"
  },
  {
   "metadata": {
    "ExecuteTime": {
     "end_time": "2024-04-14T11:15:23.605057Z",
     "start_time": "2024-04-14T11:15:23.399423Z"
    }
   },
   "cell_type": "code",
   "source": "fraud.isna().sum()",
   "id": "bbe7e3fecd9a65cd",
   "execution_count": 81,
   "outputs": []
  },
  {
   "metadata": {},
   "cell_type": "markdown",
   "source": "# 2. Identify any duplicate transactions, based on Transaction ID.",
   "id": "a7a61403d3d8ec76"
  },
  {
   "metadata": {
    "ExecuteTime": {
     "end_time": "2024-04-14T11:15:23.618869Z",
     "start_time": "2024-04-14T11:15:23.606064Z"
    }
   },
   "cell_type": "code",
   "source": "fraud['Transaction Hour'].duplicated(keep=False).sum()",
   "id": "e57984a766d01be8",
   "execution_count": 82,
   "outputs": []
  },
  {
   "metadata": {},
   "cell_type": "markdown",
   "source": "# 3. Standardize the format of Transaction Date to a datetime format (YYYY-MM-DD HH:MM:SS).",
   "id": "ecab0c501b432dda"
  },
  {
   "metadata": {
    "ExecuteTime": {
     "end_time": "2024-04-14T11:15:24.858888Z",
     "start_time": "2024-04-14T11:15:23.618869Z"
    }
   },
   "cell_type": "code",
   "source": [
    "fraud_date = fraud['Transaction Date'].dt.strftime('%Y-%m-%d %H:%M:%S')\n",
    "fraud_date"
   ],
   "id": "f1369ca98144ba3d",
   "execution_count": 83,
   "outputs": []
  },
  {
   "metadata": {},
   "cell_type": "markdown",
   "source": "# 4. Are there any anomalies in the Customer Age column (e.g., ages that are too high or too low)?",
   "id": "13b60bdc2d098c38"
  },
  {
   "metadata": {
    "ExecuteTime": {
     "end_time": "2024-04-14T11:15:24.902143Z",
     "start_time": "2024-04-14T11:15:24.859894Z"
    }
   },
   "cell_type": "code",
   "source": "fraud['Customer Age'].describe()",
   "id": "8b4709dca4e26796",
   "execution_count": 84,
   "outputs": []
  },
  {
   "metadata": {
    "ExecuteTime": {
     "end_time": "2024-04-14T11:15:24.906065Z",
     "start_time": "2024-04-14T11:15:24.902143Z"
    }
   },
   "cell_type": "code",
   "source": [
    "# plt.figure(figsize=(20, 8))\n",
    "# sns.boxplot(x=fraud['Customer Age'])\n",
    "# plt.show()"
   ],
   "id": "582aaf4ad95d0de",
   "execution_count": 85,
   "outputs": []
  },
  {
   "metadata": {
    "ExecuteTime": {
     "end_time": "2024-04-14T11:15:24.914099Z",
     "start_time": "2024-04-14T11:15:24.907072Z"
    }
   },
   "cell_type": "code",
   "source": [
    "# fig = px.box(fraud, y='Customer Age')\n",
    "# fig.update_layout(autosize=False, width=1000, height=1000)\n",
    "# fig.show()"
   ],
   "id": "74ce786f72c1c10b",
   "execution_count": 86,
   "outputs": []
  },
  {
   "metadata": {},
   "cell_type": "markdown",
   "source": "# 5. Validate the format of IP addresses; identify any records with invalid IP address formats.",
   "id": "272fd339c423ec64"
  },
  {
   "metadata": {
    "ExecuteTime": {
     "end_time": "2024-04-14T11:15:24.920568Z",
     "start_time": "2024-04-14T11:15:24.915104Z"
    }
   },
   "cell_type": "code",
   "source": [
    "import ipaddress\n",
    "\n",
    "def is_valid_ip(ip):\n",
    "    try:\n",
    "        ipaddress.ip_address(ip)\n",
    "        return True\n",
    "    except ValueError:\n",
    "        return False"
   ],
   "id": "46599e0b072d764d",
   "execution_count": 87,
   "outputs": []
  },
  {
   "metadata": {
    "ExecuteTime": {
     "end_time": "2024-04-14T11:15:27.683918Z",
     "start_time": "2024-04-14T11:15:24.923574Z"
    }
   },
   "cell_type": "code",
   "source": [
    "fraud_valid_ip = fraud['IP Address'].apply(is_valid_ip).astype(bool)\n",
    "invalid_ips = fraud[~fraud_valid_ip]\n",
    "invalid_ips"
   ],
   "id": "cfe6f7136d05fe9b",
   "execution_count": 88,
   "outputs": []
  },
  {
   "metadata": {},
   "cell_type": "markdown",
   "source": "# 1. Data analysis",
   "id": "3c268f2d2d70df77"
  },
  {
   "metadata": {},
   "cell_type": "markdown",
   "source": "# What is the average transaction amount for fraudulent vs non-fraudulent transactions?",
   "id": "c67c374f9cca51d"
  },
  {
   "metadata": {
    "ExecuteTime": {
     "end_time": "2024-04-14T11:15:27.694518Z",
     "start_time": "2024-04-14T11:15:27.684424Z"
    }
   },
   "cell_type": "code",
   "source": "fraud",
   "id": "2903eb6fd86ca9fc",
   "execution_count": 89,
   "outputs": []
  },
  {
   "metadata": {
    "ExecuteTime": {
     "end_time": "2024-04-14T11:15:27.752148Z",
     "start_time": "2024-04-14T11:15:27.695034Z"
    }
   },
   "cell_type": "code",
   "source": [
    "fraud_is = fraud[fraud['Is Fraudulent'] == True]\n",
    "fraud_is.size"
   ],
   "id": "96aa8c4c0799f167",
   "execution_count": 90,
   "outputs": []
  },
  {
   "metadata": {
    "ExecuteTime": {
     "end_time": "2024-04-14T11:15:27.980368Z",
     "start_time": "2024-04-14T11:15:27.752148Z"
    }
   },
   "cell_type": "code",
   "source": [
    "fraud_not = fraud[fraud['Is Fraudulent'] == False]\n",
    "fraud_not.size"
   ],
   "id": "a0ab13b28c90ca49",
   "execution_count": 91,
   "outputs": []
  },
  {
   "metadata": {
    "ExecuteTime": {
     "end_time": "2024-04-14T11:15:28.009956Z",
     "start_time": "2024-04-14T11:15:27.981375Z"
    }
   },
   "cell_type": "code",
   "source": "fraud.groupby('Is Fraudulent')['Transaction Amount'].mean()",
   "id": "c0cbf8b2dfde2319",
   "execution_count": 92,
   "outputs": []
  },
  {
   "metadata": {},
   "cell_type": "markdown",
   "source": "# 2. Compare the average account age days for fraudulent and non-fraudulent transactions.",
   "id": "69baf746d91164e3"
  },
  {
   "metadata": {
    "ExecuteTime": {
     "end_time": "2024-04-14T11:15:28.045868Z",
     "start_time": "2024-04-14T11:15:28.010961Z"
    }
   },
   "cell_type": "code",
   "source": "fraud.groupby('Is Fraudulent')['Account Age Days'].mean()",
   "id": "3ded33ae209ad74a",
   "execution_count": 93,
   "outputs": []
  },
  {
   "metadata": {},
   "cell_type": "markdown",
   "source": "# 3. What time of day (broken down into morning, afternoon, evening, night) sees the highest average transaction amount?",
   "id": "ee5c45a97acdadd8"
  },
  {
   "metadata": {
    "ExecuteTime": {
     "end_time": "2024-04-14T11:15:28.334318Z",
     "start_time": "2024-04-14T11:15:28.045868Z"
    }
   },
   "cell_type": "code",
   "source": [
    "hour = fraud['Transaction Date'].dt.hour\n",
    "\n",
    "def time_of_day(row):\n",
    "    if 6 <= row < 12:\n",
    "        return 'Morning'\n",
    "    elif 12 <= row < 17:\n",
    "        return 'Afternoon'\n",
    "    elif 17 <= row < 20:\n",
    "        return 'Evening'\n",
    "    else:\n",
    "        return 'Night'\n",
    "    \n",
    "show_time_of_day = fraud['Transaction Date'].dt.hour.apply(time_of_day)\n",
    "\n",
    "fraud.insert(4, 'Time of the Day', show_time_of_day)"
   ],
   "id": "60ea35128a930544",
   "execution_count": 94,
   "outputs": []
  },
  {
   "metadata": {
    "ExecuteTime": {
     "end_time": "2024-04-14T11:15:28.405991Z",
     "start_time": "2024-04-14T11:15:28.335325Z"
    }
   },
   "cell_type": "code",
   "source": [
    "# fraud.groupby('Time of the Day')['Transaction Amount'].agg(\n",
    "#     mean_transaction='mean'\n",
    "# )\n",
    "\n",
    "fraud.groupby('Time of the Day').agg(\n",
    "    {'Transaction Amount': 'mean'}\n",
    ")"
   ],
   "id": "72be20e9ed438858",
   "execution_count": 95,
   "outputs": []
  },
  {
   "metadata": {},
   "cell_type": "markdown",
   "source": "# 4. Is there a difference in the average transaction amount between weekdays and weekends?",
   "id": "8414821c5c9e5572"
  },
  {
   "metadata": {
    "ExecuteTime": {
     "end_time": "2024-04-14T11:15:28.619637Z",
     "start_time": "2024-04-14T11:15:28.405991Z"
    }
   },
   "cell_type": "code",
   "source": [
    "def is_weekends(day):\n",
    "    if day < 5: return 'Weekday'\n",
    "    else: return 'Weekend'\n",
    "\n",
    "days = fraud['Transaction Date'].dt.dayofweek + 1\n",
    "weekday_weekend = fraud['Transaction Date'].dt.day.apply(is_weekends)"
   ],
   "id": "100e2fe3d65fc0a8",
   "execution_count": 96,
   "outputs": []
  },
  {
   "metadata": {
    "ExecuteTime": {
     "end_time": "2024-04-14T11:15:28.641059Z",
     "start_time": "2024-04-14T11:15:28.620642Z"
    }
   },
   "cell_type": "code",
   "source": [
    "fraud.insert(4, 'Day of the Week', days)\n",
    "# fraud.drop('Day of the Week', axis=1, inplace=True)\n",
    "fraud.insert(5, 'Weekday or Weekend', weekday_weekend)\n",
    "fraud"
   ],
   "id": "64da7ac29da06ceb",
   "execution_count": 97,
   "outputs": []
  },
  {
   "metadata": {
    "ExecuteTime": {
     "end_time": "2024-04-14T11:15:28.716328Z",
     "start_time": "2024-04-14T11:15:28.641059Z"
    }
   },
   "cell_type": "code",
   "source": [
    "fraud.groupby('Weekday or Weekend')['Transaction Amount'].agg(\n",
    "    ['mean', 'sum']\n",
    ")"
   ],
   "id": "9ab44be5d0d32678",
   "execution_count": 98,
   "outputs": []
  },
  {
   "metadata": {},
   "cell_type": "markdown",
   "source": "# 5. Analyze the relationship between customer age and the likelihood of a transaction being fraudulent.",
   "id": "98b30a3efc54d093"
  },
  {
   "metadata": {
    "ExecuteTime": {
     "end_time": "2024-04-14T11:15:28.827284Z",
     "start_time": "2024-04-14T11:15:28.717335Z"
    }
   },
   "cell_type": "code",
   "source": [
    "fraud['Is Fraudulent'] = fraud['Is Fraudulent'].map({False: 0, True: 1})\n",
    "average_age = fraud.groupby('Is Fraudulent')['Customer Age'].mean()\n",
    "\n",
    "fraud[['Customer Age', 'Is Fraudulent']].corr()"
   ],
   "id": "85cd5dde016e1a4d",
   "execution_count": 99,
   "outputs": []
  },
  {
   "metadata": {
    "ExecuteTime": {
     "end_time": "2024-04-14T11:15:28.839648Z",
     "start_time": "2024-04-14T11:15:28.828290Z"
    }
   },
   "cell_type": "code",
   "source": "fraud",
   "id": "79b922dac99b842",
   "execution_count": 100,
   "outputs": []
  },
  {
   "metadata": {},
   "cell_type": "markdown",
   "source": "# 6. Determine the payment method with the highest rate of fraudulent transactions.",
   "id": "4980a29c109a04de"
  },
  {
   "metadata": {
    "ExecuteTime": {
     "end_time": "2024-04-14T11:15:28.873386Z",
     "start_time": "2024-04-14T11:15:28.840655Z"
    }
   },
   "cell_type": "code",
   "source": "fraud.groupby('Payment Method', observed=True)['Is Fraudulent'].mean().idxmax()",
   "id": "ebc36ff5bde51535",
   "execution_count": 101,
   "outputs": []
  },
  {
   "metadata": {},
   "cell_type": "markdown",
   "source": "# 7. Identify the product category with the highest total revenue and calculate its share of total revenue.",
   "id": "72aabb72a19c013c"
  },
  {
   "metadata": {
    "ExecuteTime": {
     "end_time": "2024-04-14T11:15:28.893802Z",
     "start_time": "2024-04-14T11:15:28.873902Z"
    }
   },
   "cell_type": "code",
   "source": [
    "total_revenue_per_category = fraud.groupby('Product Category')['Transaction Amount'].sum()\n",
    "highest_revenue_category = total_revenue_per_category.idxmax()\n",
    "\n",
    "total_revenue = fraud['Transaction Amount'].sum()\n",
    "share_of_total_revenue = total_revenue_per_category[highest_revenue_category] / total_revenue\n",
    "share_of_total_revenue"
   ],
   "id": "8b933bd454fae3e0",
   "execution_count": 102,
   "outputs": []
  },
  {
   "metadata": {},
   "cell_type": "markdown",
   "source": "# 8. What are the top 3 locations by number of fraudulent transactions?",
   "id": "cfe8b94b8239d982"
  },
  {
   "metadata": {
    "ExecuteTime": {
     "end_time": "2024-04-14T11:15:28.978662Z",
     "start_time": "2024-04-14T11:15:28.894848Z"
    }
   },
   "cell_type": "code",
   "source": [
    "top_3_locations = fraud[fraud['Is Fraudulent'] == True].groupby('Customer Location').size().nlargest(3)\n",
    "top_3_locations"
   ],
   "id": "2547fdd9ed261336",
   "execution_count": 103,
   "outputs": []
  },
  {
   "metadata": {},
   "cell_type": "markdown",
   "source": "# 9. Calculate the monthly total transaction amount and visualize the trend over time.",
   "id": "c1ce51fa391e6dfd"
  },
  {
   "metadata": {
    "ExecuteTime": {
     "end_time": "2024-04-14T11:15:31.099957Z",
     "start_time": "2024-04-14T11:15:28.979667Z"
    }
   },
   "cell_type": "code",
   "source": [
    "fraud.set_index('Transaction Date', inplace=True)\n",
    "monthly_total = fraud.resample('ME')['Transaction Amount'].sum()\n",
    "monthly_total"
   ],
   "id": "3f24161dae771206",
   "execution_count": 104,
   "outputs": []
  },
  {
   "metadata": {
    "ExecuteTime": {
     "end_time": "2024-04-14T11:15:31.103966Z",
     "start_time": "2024-04-14T11:15:31.100965Z"
    }
   },
   "cell_type": "code",
   "source": [
    "# monthly_total.plot(kind='line', title='Monthly Total Transaction Amount Over Time')\n",
    "# plt.xlabel('Month')\n",
    "# plt.ylabel('Total Transaction Amount')\n",
    "# plt.show()"
   ],
   "id": "6d347340ee5ec077",
   "execution_count": 105,
   "outputs": []
  },
  {
   "metadata": {},
   "cell_type": "markdown",
   "source": "# 10. Determine the effect of quantity purchased on the likelihood of a transaction being fraudulent.",
   "id": "439819f1fb3310ec"
  },
  {
   "metadata": {
    "ExecuteTime": {
     "end_time": "2024-04-14T11:15:31.191373Z",
     "start_time": "2024-04-14T11:15:31.103966Z"
    }
   },
   "cell_type": "code",
   "source": [
    "average_quantity = fraud.groupby('Is Fraudulent')['Quantity'].mean()\n",
    "correlation = fraud[['Quantity', 'Is Fraudulent']].corr()\n",
    "correlation"
   ],
   "id": "6c5f5721572947ae",
   "execution_count": 106,
   "outputs": []
  },
  {
   "metadata": {},
   "cell_type": "markdown",
   "source": "# Advanced Analysis",
   "id": "89300b2b075fa456"
  },
  {
   "metadata": {},
   "cell_type": "markdown",
   "source": "# 1. Perform a cohort analysis by customer sign-up month to see how transaction behavior changes over time.",
   "id": "34dbc3470b54b5bc"
  },
  {
   "metadata": {
    "ExecuteTime": {
     "end_time": "2024-04-14T11:15:31.259903Z",
     "start_time": "2024-04-14T11:15:31.192379Z"
    }
   },
   "cell_type": "code",
   "source": [
    "transaction_month = fraud.index.to_period('M')\n",
    "fraud.insert(5, 'Transaction Month', transaction_month)\n",
    "fraud"
   ],
   "id": "587aa3dc3947980a",
   "execution_count": 107,
   "outputs": []
  },
  {
   "metadata": {
    "ExecuteTime": {
     "end_time": "2024-04-14T11:17:59.574865Z",
     "start_time": "2024-04-14T11:17:57.485867Z"
    }
   },
   "cell_type": "code",
   "source": [
    "fraud_cohort_month = fraud.groupby('Customer ID')['Transaction Month'].transform('min')\n",
    "fraud.insert(6, 'Cohort Month', fraud_cohort_month)\n"
   ],
   "id": "6ac9f45abc613741",
   "execution_count": 112,
   "outputs": []
  },
  {
   "metadata": {
    "ExecuteTime": {
     "end_time": "2024-04-14T11:21:07.715122Z",
     "start_time": "2024-04-14T11:21:03.313051Z"
    }
   },
   "cell_type": "code",
   "source": [
    "fraud['Cohort Index']= (fraud['Transaction Month'] - fraud['Cohort Month']).apply(lambda x: x.n + 1)\n",
    "cohort_data = fraud.groupby(['Cohort Month', 'Cohort Index'])['Customer ID'].nunique()\n",
    "cohort_data = cohort_data.reset_index()"
   ],
   "id": "462e1b89aa5c79ee",
   "execution_count": 116,
   "outputs": []
  },
  {
   "metadata": {
    "ExecuteTime": {
     "end_time": "2024-04-14T11:21:38.700781Z",
     "start_time": "2024-04-14T11:21:38.696395Z"
    }
   },
   "cell_type": "code",
   "source": "cohort_counts = cohort_data.pivot(index='Cohort Month', columns='Cohort Index', values='Customer ID')",
   "id": "c79322a2dd3745b2",
   "execution_count": 119,
   "outputs": []
  },
  {
   "metadata": {
    "ExecuteTime": {
     "end_time": "2024-04-14T11:21:40.506791Z",
     "start_time": "2024-04-14T11:21:40.502974Z"
    }
   },
   "cell_type": "code",
   "source": [
    "cohort_sizes = cohort_counts.iloc[:,0]\n",
    "retention = cohort_counts.divide(cohort_sizes, axis=0)"
   ],
   "id": "156f873e3206c001",
   "execution_count": 120,
   "outputs": []
  },
  {
   "metadata": {
    "ExecuteTime": {
     "end_time": "2024-04-14T11:21:58.032179Z",
     "start_time": "2024-04-14T11:21:57.915583Z"
    }
   },
   "cell_type": "code",
   "source": [
    "# plt.figure(figsize=(10, 8))\n",
    "# sns.heatmap(data=retention, annot=True, fmt='.0%', vmin=0.0, vmax=0.5, cmap='BuGn')\n",
    "# plt.title('Retention rates')\n",
    "# plt.show()"
   ],
   "id": "b2e0bc3a2e4289f5",
   "execution_count": 122,
   "outputs": []
  },
  {
   "metadata": {},
   "cell_type": "markdown",
   "source": "# 2. Predict the likely fraudulent transactions based on transaction patterns (e.g., using a simple rule-based method).",
   "id": "d8801c1fec6ba03"
  },
  {
   "metadata": {
    "ExecuteTime": {
     "end_time": "2024-04-14T11:23:20.689053Z",
     "start_time": "2024-04-14T11:23:10.522109Z"
    }
   },
   "cell_type": "code",
   "source": [
    "# Calculate the 95th percentile of transaction amounts\n",
    "threshold = fraud['Transaction Amount'].quantile(0.95)\n",
    "\n",
    "# Identify the payment method with the highest rate of fraudulent transactions\n",
    "fraudulent_payment_method = fraud.groupby('Payment Method', observed=True)['Is Fraudulent'].mean().idxmax()\n",
    "\n",
    "# Define a function to flag likely fraudulent transactions\n",
    "def flag_fraud(row):\n",
    "    if (row['Transaction Amount'] > threshold) and (row['Payment Method'] == fraudulent_payment_method) and (row['Transaction Hour'] < 6 or row['Transaction Hour'] > 22):\n",
    "        return True\n",
    "    else:\n",
    "        return False\n",
    "\n",
    "# Apply the function to the DataFrame\n",
    "fraud['Likely Fraudulent'] = fraud.apply(flag_fraud, axis=1)\n",
    "fraud"
   ],
   "id": "eabe37f1afa57b4f",
   "execution_count": 123,
   "outputs": []
  },
  {
   "metadata": {},
   "cell_type": "markdown",
   "source": "# 3. Segment customers into groups based on their transaction behavior (e.g., using k-means clustering on features such as transaction amount, frequency).",
   "id": "cffd10ebc150d5f8"
  },
  {
   "metadata": {
    "ExecuteTime": {
     "end_time": "2024-04-14T11:33:45.909798Z",
     "start_time": "2024-04-14T11:33:45.155524Z"
    }
   },
   "cell_type": "code",
   "source": [
    "from sklearn.cluster import KMeans\n",
    "from sklearn.preprocessing import StandardScaler\n",
    "\n",
    "# Prepare the data\n",
    "data = fraud.groupby(fraud.index)['Transaction Amount'].mean().resample('M').count().to_frame()\n",
    "data.columns = ['Transaction Frequency']\n",
    "\n",
    "# Normalize the data\n",
    "scaler = StandardScaler()\n",
    "data_scaled = scaler.fit_transform(data)\n",
    "\n",
    "# Determine the optimal number of clusters\n",
    "wcss = []\n",
    "for i in range(1, min(11, data.shape[0] + 1)):\n",
    "    kmeans = KMeans(n_clusters=i, init='k-means++', max_iter=300, n_init=10, random_state=0)\n",
    "    kmeans.fit(data_scaled)\n",
    "    wcss.append(kmeans.inertia_)\n",
    "plt.plot(range(1, min(11, data.shape[0] + 1)), wcss)\n",
    "plt.title('Elbow Method')\n",
    "plt.xlabel('Number of clusters')\n",
    "plt.ylabel('WCSS')\n",
    "plt.show()\n",
    "\n",
    "# Run the k-means algorithm with the optimal number of clusters\n",
    "kmeans = KMeans(n_clusters=min(3, data.shape[0]), init='k-means++', max_iter=300, n_init=10, random_state=0)\n",
    "clusters = kmeans.fit_predict(data_scaled)\n",
    "\n",
    "# Add the cluster labels to the original data\n",
    "data['Cluster'] = clusters\n",
    "\n",
    "# Analyze the clusters\n",
    "data.groupby('Cluster').mean()"
   ],
   "id": "b8d668ff34eee4cb",
   "execution_count": 127,
   "outputs": []
  },
  {
   "metadata": {},
   "cell_type": "markdown",
   "source": "# 4. For each product category, calculate the average transaction amount and use it to identify outliers (transactions which are significantly higher or lower than the average).",
   "id": "4a0e9a61a69950b4"
  },
  {
   "metadata": {
    "ExecuteTime": {
     "end_time": "2024-04-14T11:35:30.590243Z",
     "start_time": "2024-04-14T11:35:23.234438Z"
    }
   },
   "cell_type": "code",
   "source": "fraud",
   "id": "8a8ce2719dfad219",
   "execution_count": 130,
   "outputs": []
  },
  {
   "metadata": {},
   "cell_type": "markdown",
   "source": "# 5. Create a heatmap to visualize the correlation between numerical features in the dataset.",
   "id": "f14b8ca1c9336753"
  },
  {
   "metadata": {
    "ExecuteTime": {
     "end_time": "2024-04-14T11:38:26.140797Z",
     "start_time": "2024-04-14T11:38:25.341582Z"
    }
   },
   "cell_type": "code",
   "source": [
    "# Select only numerical columns\n",
    "numerical_columns = fraud.select_dtypes(include=[np.number])\n",
    "\n",
    "# Calculate the correlation matrix\n",
    "corr = numerical_columns.corr()\n",
    "\n",
    "# Create a heatmap\n",
    "plt.figure(figsize=(10, 8))\n",
    "sns.heatmap(corr, annot=True, fmt=\".2f\", cmap='coolwarm', cbar=True)\n",
    "plt.title('Correlation Matrix Heatmap')\n",
    "plt.show()"
   ],
   "id": "c710737b4fe4acaf",
   "execution_count": 133,
   "outputs": []
  },
  {
   "metadata": {},
   "cell_type": "markdown",
   "source": "# 6. Determine if there’s a significant difference in the average transaction amount between different devices used.",
   "id": "f721c8c0878a350"
  },
  {
   "metadata": {
    "ExecuteTime": {
     "end_time": "2024-04-14T11:39:26.569568Z",
     "start_time": "2024-04-14T11:39:26.552106Z"
    }
   },
   "cell_type": "code",
   "source": [
    "# Group by 'Device Used' and calculate the average 'Transaction Amount'\n",
    "avg_transaction_by_device = fraud.groupby('Device Used')['Transaction Amount'].mean()\n",
    "\n",
    "# Display the result\n",
    "avg_transaction_by_device"
   ],
   "id": "ef49327687343295",
   "execution_count": 135,
   "outputs": []
  },
  {
   "metadata": {},
   "cell_type": "markdown",
   "source": "# 7. Analyze the seasonality of transactions - does transaction volume or amount peak in certain months?",
   "id": "12270de4902e36d8"
  },
  {
   "metadata": {
    "ExecuteTime": {
     "end_time": "2024-04-14T11:40:15.813926Z",
     "start_time": "2024-04-14T11:40:11.909254Z"
    }
   },
   "cell_type": "code",
   "source": [
    "# Group by month and calculate the sum and count of 'Transaction Amount'\n",
    "transaction_sum_by_month = fraud.resample('M')['Transaction Amount'].sum()\n",
    "transaction_count_by_month = fraud.resample('M')['Transaction Amount'].count()\n",
    "\n",
    "# Plot the transaction sum by month\n",
    "transaction_sum_by_month.plot(kind='line', title='Monthly Total Transaction Amount')\n",
    "plt.xlabel('Month')\n",
    "plt.ylabel('Total Transaction Amount')\n",
    "plt.show()\n",
    "\n",
    "# Plot the transaction count by month\n",
    "transaction_count_by_month.plot(kind='line', title='Monthly Transaction Volume')\n",
    "plt.xlabel('Month')\n",
    "plt.ylabel('Transaction Volume')\n",
    "plt.show()"
   ],
   "id": "d9dac0483adb0b6a",
   "execution_count": 136,
   "outputs": []
  },
  {
   "metadata": {},
   "cell_type": "markdown",
   "source": "# 8. Explore the impact of the account age on the transaction amount and frequency.",
   "id": "77ac0aac49888d79"
  },
  {
   "metadata": {
    "ExecuteTime": {
     "end_time": "2024-04-14T11:43:16.936233Z",
     "start_time": "2024-04-14T11:43:16.611691Z"
    }
   },
   "cell_type": "code",
   "source": [
    "\n",
    "# Group by 'Account Age Days' and calculate the average 'Transaction Amount'\n",
    "avg_transaction_by_age = fraud.groupby('Account Age Days')['Transaction Amount'].mean()\n",
    "\n",
    "# Group by 'Account Age Days' and count the number of transactions\n",
    "transaction_count_by_age = fraud.groupby('Account Age Days').size()\n",
    "\n",
    "# Create a figure with two subplots\n",
    "fig, ax = plt.subplots(2, 1, figsize=(10, 8))\n",
    "\n",
    "# Plot the average transaction amount by account age\n",
    "avg_transaction_by_age.plot(kind='line', ax=ax[0])\n",
    "ax[0].set_title('Average Transaction Amount by Account Age')\n",
    "ax[0].set_xlabel('Account Age Days')\n",
    "ax[0].set_ylabel('Average Transaction Amount')\n",
    "\n",
    "# Plot the transaction count by account age\n",
    "transaction_count_by_age.plot(kind='line', ax=ax[1])\n",
    "ax[1].set_title('Transaction Count by Account Age')\n",
    "ax[1].set_xlabel('Account Age Days')\n",
    "ax[1].set_ylabel('Transaction Count')\n",
    "\n",
    "# Display the plots\n",
    "plt.tight_layout()\n",
    "plt.show()"
   ],
   "id": "19420857e6b4d93a",
   "execution_count": 137,
   "outputs": []
  },
  {
   "metadata": {},
   "cell_type": "markdown",
   "source": "# 9. Use pivot tables to analyze the relationship between product category, payment method, and fraudulence.",
   "id": "24db3d0f5fcbb89e"
  },
  {
   "metadata": {
    "ExecuteTime": {
     "end_time": "2024-04-14T11:44:34.428578Z",
     "start_time": "2024-04-14T11:44:34.359174Z"
    }
   },
   "cell_type": "code",
   "source": [
    "pivot_table = fraud.pivot_table(values='Is Fraudulent', index='Product Category', columns='Payment Method', aggfunc='mean')\n",
    "\n",
    "# Display the pivot table\n",
    "pivot_table"
   ],
   "id": "e0ab1a430dcf45cf",
   "execution_count": 138,
   "outputs": []
  },
  {
   "metadata": {},
   "cell_type": "markdown",
   "source": "# 10. Create a scatter plot to visualize the relationship between transaction amount and customer age.",
   "id": "a386e64c7e0ad33c"
  },
  {
   "metadata": {
    "ExecuteTime": {
     "end_time": "2024-04-14T11:46:12.686962Z",
     "start_time": "2024-04-14T11:46:10.294342Z"
    }
   },
   "cell_type": "code",
   "source": [
    "plt.figure(figsize=(10, 8))\n",
    "plt.scatter(fraud['Customer Age'], fraud['Transaction Amount'])\n",
    "plt.title('Relationship between Transaction Amount and Customer Age')\n",
    "plt.xlabel('Customer Age')\n",
    "plt.ylabel('Transaction Amount')\n",
    "plt.show()"
   ],
   "id": "cbcca3140ab02291",
   "execution_count": 140,
   "outputs": []
  },
  {
   "metadata": {},
   "cell_type": "markdown",
   "source": "# Data Modeling (Hypothetical)",
   "id": "a93b61173c64f5cc"
  },
  {
   "metadata": {},
   "cell_type": "markdown",
   "source": "# 1. Build a linear regression model to predict the transaction amount based on other numerical features in the dataset. Evaluate its performance.",
   "id": "e2e902af44a100ff"
  },
  {
   "metadata": {
    "ExecuteTime": {
     "end_time": "2024-04-14T11:47:32.579206Z",
     "start_time": "2024-04-14T11:47:31.734001Z"
    }
   },
   "cell_type": "code",
   "source": [
    "from sklearn.model_selection import train_test_split\n",
    "from sklearn.linear_model import LinearRegression\n",
    "from sklearn.metrics import mean_absolute_error, mean_squared_error\n",
    "import numpy as np\n",
    "\n",
    "# Select numerical features\n",
    "numerical_features = fraud.select_dtypes(include=[np.number])\n",
    "\n",
    "# Exclude 'Transaction Amount' from the features\n",
    "X = numerical_features.drop('Transaction Amount', axis=1)\n",
    "\n",
    "# 'Transaction Amount' is our target\n",
    "y = numerical_features['Transaction Amount']\n",
    "\n",
    "# Split the data into training and testing sets\n",
    "X_train, X_test, y_train, y_test = train_test_split(X, y, test_size=0.2, random_state=42)\n",
    "\n",
    "# Create an instance of the LinearRegression model\n",
    "model = LinearRegression()\n",
    "\n",
    "# Fit the model with the training data\n",
    "model.fit(X_train, y_train)\n",
    "\n",
    "# Predict the target for the testing data\n",
    "y_pred = model.predict(X_test)\n",
    "\n",
    "# Evaluate the model's performance\n",
    "mae = mean_absolute_error(y_test, y_pred)\n",
    "mse = mean_squared_error(y_test, y_pred)\n",
    "rmse = np.sqrt(mse)\n",
    "\n",
    "print(f\"Mean Absolute Error (MAE): {mae}\")\n",
    "print(f\"Mean Squared Error (MSE): {mse}\")\n",
    "print(f\"Root Mean Squared Error (RMSE): {rmse}\")"
   ],
   "id": "e73cc3d7233a0c2d",
   "execution_count": 141,
   "outputs": []
  },
  {
   "metadata": {},
   "cell_type": "markdown",
   "source": "# 2. Construct a logistic regression model to predict whether a transaction is fraudulent based on features provided.\n",
   "id": "35e7ce176d22c564"
  },
  {
   "metadata": {
    "ExecuteTime": {
     "end_time": "2024-04-14T11:49:40.892444Z",
     "start_time": "2024-04-14T11:49:20.014862Z"
    }
   },
   "cell_type": "code",
   "source": "fraud",
   "id": "befa7f68ebe5345f",
   "execution_count": 143,
   "outputs": []
  },
  {
   "metadata": {},
   "cell_type": "markdown",
   "source": "# 3. Use decision trees to understand the key factors that influence whether a transaction is fraudulent.",
   "id": "543cfde33bb8d4f7"
  },
  {
   "metadata": {
    "ExecuteTime": {
     "end_time": "2024-04-14T11:51:13.265843Z",
     "start_time": "2024-04-14T11:51:12.660014Z"
    }
   },
   "cell_type": "code",
   "source": "fraud",
   "id": "f4abcc68968bf132",
   "execution_count": 145,
   "outputs": []
  },
  {
   "metadata": {},
   "cell_type": "markdown",
   "source": "# 4. Apply random forest classifier to improve the prediction accuracy of fraudulent transactions.",
   "id": "39ff6992f930f640"
  },
  {
   "metadata": {
    "ExecuteTime": {
     "end_time": "2024-04-14T11:55:08.556813Z",
     "start_time": "2024-04-14T11:54:47.381242Z"
    }
   },
   "cell_type": "code",
   "source": "",
   "id": "9c920676b2cbb1e3",
   "execution_count": 148,
   "outputs": []
  },
  {
   "metadata": {},
   "cell_type": "markdown",
   "source": "# 5. Experiment with clustering techniques to identify patterns in customer transaction behavior that could indicate fraud.",
   "id": "665b1b0db3ca6165"
  },
  {
   "metadata": {
    "ExecuteTime": {
     "end_time": "2024-04-14T11:56:52.799634Z",
     "start_time": "2024-04-14T11:55:50.583003Z"
    }
   },
   "cell_type": "code",
   "source": [
    "from sklearn.cluster import KMeans\n",
    "from sklearn.preprocessing import StandardScaler\n",
    "from sklearn.decomposition import PCA\n",
    "\n",
    "# Select relevant features for clustering\n",
    "features = fraud[['Transaction Amount', 'Customer Age', 'Account Age Days', 'Quantity']]\n",
    "\n",
    "# Handle missing values if any\n",
    "features = features.dropna()\n",
    "\n",
    "# Normalize the data\n",
    "scaler = StandardScaler()\n",
    "features_scaled = scaler.fit_transform(features)\n",
    "\n",
    "# Reduce dimensionality if necessary\n",
    "pca = PCA(n_components=2)\n",
    "features_pca = pca.fit_transform(features_scaled)\n",
    "\n",
    "# Determine the optimal number of clusters\n",
    "wcss = []\n",
    "for i in range(1, 11):\n",
    "    kmeans = KMeans(n_clusters=i, init='k-means++', max_iter=300, n_init=10, random_state=0)\n",
    "    kmeans.fit(features_pca)\n",
    "    wcss.append(kmeans.inertia_)\n",
    "\n",
    "# Plot the WCSS to find the elbow\n",
    "plt.plot(range(1, 11), wcss)\n",
    "plt.title('Elbow Method')\n",
    "plt.xlabel('Number of clusters')\n",
    "plt.ylabel('WCSS')\n",
    "plt.show()\n",
    "\n",
    "# Apply K-Means algorithm\n",
    "optimal_clusters = 3  # replace this with the number of clusters at the elbow point\n",
    "kmeans = KMeans(n_clusters=optimal_clusters, init='k-means++', max_iter=300, n_init=10, random_state=0)\n",
    "clusters = kmeans.fit_predict(features_pca)\n",
    "\n",
    "# Add the cluster labels to the original data\n",
    "fraud['Cluster'] = clusters\n",
    "\n",
    "# Analyze the clusters\n",
    "for i in range(optimal_clusters):\n",
    "    print(f\"Cluster {i}:\")\n",
    "    print(fraud[fraud['Cluster'] == i].describe())"
   ],
   "id": "340a9e8daf3ab6ea",
   "execution_count": 149,
   "outputs": []
  }
 ],
 "metadata": {
  "kernelspec": {
   "display_name": "Python 3",
   "language": "python",
   "name": "python3"
  },
  "language_info": {
   "codemirror_mode": {
    "name": "ipython",
    "version": 2
   },
   "file_extension": ".py",
   "mimetype": "text/x-python",
   "name": "python",
   "nbconvert_exporter": "python",
   "pygments_lexer": "ipython2",
   "version": "2.7.6"
  }
 },
 "nbformat": 4,
 "nbformat_minor": 5
}
