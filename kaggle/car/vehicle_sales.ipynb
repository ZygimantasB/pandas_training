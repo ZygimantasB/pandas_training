{
 "cells": [
  {
   "cell_type": "code",
   "execution_count": 1,
   "id": "initial_id",
   "metadata": {
    "collapsed": true,
    "ExecuteTime": {
     "end_time": "2024-03-28T20:07:41.136283Z",
     "start_time": "2024-03-28T20:07:41.127620Z"
    }
   },
   "source": [
    "import pandas as pd\n",
    "import numpy as np\n",
    "import matplotlib.pyplot as plt\n",
    "import seaborn as sns\n",
    "import datetime as dt\n",
    "import time as tm\n",
    "import multiprocessing as mp"
   ],
   "outputs": []
  },
  {
   "cell_type": "code",
   "source": [
    "vehicle_sales_path = r'F:\\DataSpell\\Pandas_training\\data_sets\\car_prices.csv'\n",
    "vehicle_sales = pd.read_csv(vehicle_sales_path, parse_dates=['year']).dropna(how='all')"
   ],
   "metadata": {
    "collapsed": false,
    "ExecuteTime": {
     "end_time": "2024-03-28T20:07:51.610509Z",
     "start_time": "2024-03-28T20:07:49.716343Z"
    }
   },
   "id": "31494a7c5bdb14d4",
   "execution_count": 2,
   "outputs": []
  },
  {
   "cell_type": "code",
   "source": [
    "# for col in vehicle_sales.select_dtypes(include=['int', 'float']).columns:\n",
    "#   if vehicle_sales[col].dtype.kind == 'i':\n",
    "#     vehicle_sales[col] = pd.to_numeric(vehicle_sales[col], downcast='integer')\n",
    "#   else:\n",
    "#     vehicle_sales[col] = pd.to_numeric(vehicle_sales[col], downcast='float')\n",
    "\n",
    "vehicle_sales['state'] = vehicle_sales['state'].astype('category')\n",
    "vehicle_sales['year'] = pd.to_datetime(vehicle_sales['year'], format='%Y').dt.year\n",
    "vehicle_sales['make'] = vehicle_sales['make'].fillna('unknown').astype('category')\n",
    "vehicle_sales['model'] = vehicle_sales['model'].fillna('unknown').astype(str)\n",
    "vehicle_sales['trim'] = vehicle_sales['trim'].fillna('unknown').astype(str).str.lower()\n",
    "vehicle_sales['body'] = vehicle_sales['body'].fillna('unknown').astype('category')\n",
    "vehicle_sales['transmission'] = vehicle_sales['transmission'].fillna('unknown').astype('category')\n",
    "vehicle_sales['vin'] = vehicle_sales['vin'].fillna('unknown')\n",
    "vehicle_sales['condition'] = vehicle_sales['condition'].fillna(0)\n",
    "vehicle_sales['odometer'] = vehicle_sales['odometer'].fillna(0)\n",
    "vehicle_sales['color'] = vehicle_sales['color'].fillna('unknown').astype('category')\n",
    "vehicle_sales['interior'] = vehicle_sales['interior'].fillna('unknown').astype('category')\n",
    "vehicle_sales['mmr'] = vehicle_sales['mmr'].fillna(0)\n",
    "vehicle_sales['sellingprice'] = vehicle_sales['sellingprice'].fillna(0)\n",
    "\n",
    "# vehicle_sales['sellingprice'].apply(lambda number: number.is_integer())"
   ],
   "metadata": {
    "collapsed": false,
    "ExecuteTime": {
     "end_time": "2024-03-28T20:07:52.257621Z",
     "start_time": "2024-03-28T20:07:51.611518Z"
    }
   },
   "id": "44d034b5ba475278",
   "execution_count": 3,
   "outputs": []
  },
  {
   "cell_type": "code",
   "source": [
    "# # Define a function to parse datetime strings and convert to Lithuania time\n",
    "# def convert_to_lithuania_time(dt_str):\n",
    "#     try:\n",
    "#         # Parse the datetime string and convert to Lithuania time\n",
    "#         dt = pd.to_datetime(dt_str).tz_convert('Europe/Vilnius')\n",
    "#     except Exception:\n",
    "#         # If parsing fails, return NaT\n",
    "#         dt = pd.NaT\n",
    "#     return dt\n",
    "# \n",
    "# # Apply the function to the 'saledate' column\n",
    "# vehicle_sales['saledate'] = vehicle_sales['saledate'].apply(convert_to_lithuania_time)\n",
    "# \n",
    "# # Replace NaT values with a specific date (e.g., '1900-01-01')\n",
    "# vehicle_sales['saledate'] = vehicle_sales['saledate'].fillna(pd.Timestamp('1900-01-01', tz='Europe/Vilnius'))\n",
    "# \n",
    "# # Check the data type of the 'saledate' column\n",
    "# vehicle_sales['saledate'].dtypes"
   ],
   "metadata": {
    "collapsed": false,
    "ExecuteTime": {
     "end_time": "2024-03-28T20:07:52.263699Z",
     "start_time": "2024-03-28T20:07:52.258630Z"
    }
   },
   "id": "c0a7fa859bd45e37",
   "execution_count": 4,
   "outputs": []
  },
  {
   "cell_type": "code",
   "source": [
    "vehicle_sales"
   ],
   "metadata": {
    "collapsed": false,
    "ExecuteTime": {
     "end_time": "2024-03-28T20:07:52.293648Z",
     "start_time": "2024-03-28T20:07:52.264839Z"
    }
   },
   "id": "90850dd7901b9c35",
   "execution_count": 5,
   "outputs": []
  },
  {
   "cell_type": "code",
   "source": [
    "vehicle_sales.nunique()"
   ],
   "metadata": {
    "collapsed": false,
    "ExecuteTime": {
     "end_time": "2024-03-28T20:07:52.569941Z",
     "start_time": "2024-03-28T20:07:52.294655Z"
    }
   },
   "id": "30fecb3951ccb213",
   "execution_count": 6,
   "outputs": []
  },
  {
   "cell_type": "code",
   "source": [
    "# Get the current time\n",
    "start_time = tm.time()\n",
    "\n",
    "# Load your script here\n",
    "vehicle_sales = pd.read_csv(vehicle_sales_path)\n",
    "\n",
    "# Get the current time again\n",
    "end_time = tm.time()\n",
    "\n",
    "# Calculate the time it took to load your script\n",
    "load_time = end_time - start_time\n",
    "\n",
    "print(f\"The script took {load_time} seconds to load.\") # 1.0112128257751465 seconds"
   ],
   "metadata": {
    "collapsed": false,
    "ExecuteTime": {
     "end_time": "2024-03-28T20:07:54.291711Z",
     "start_time": "2024-03-28T20:07:52.569941Z"
    }
   },
   "id": "7ad34f9e9d173815",
   "execution_count": 7,
   "outputs": []
  },
  {
   "cell_type": "code",
   "source": [
    "vehicle_sales.info() # 68.2+ MB"
   ],
   "metadata": {
    "collapsed": false,
    "ExecuteTime": {
     "end_time": "2024-03-28T20:07:54.442008Z",
     "start_time": "2024-03-28T20:07:54.292716Z"
    }
   },
   "id": "196c71bae1e5d872",
   "execution_count": 8,
   "outputs": []
  },
  {
   "cell_type": "code",
   "source": [
    "vehicle_sales.dtypes"
   ],
   "metadata": {
    "collapsed": false,
    "ExecuteTime": {
     "end_time": "2024-03-28T20:07:54.448444Z",
     "start_time": "2024-03-28T20:07:54.443518Z"
    }
   },
   "id": "f205b25e725c3335",
   "execution_count": 9,
   "outputs": []
  },
  {
   "cell_type": "markdown",
   "source": [
    "# Upper is data cleaning handling to reduce memory usage and data types"
   ],
   "metadata": {
    "collapsed": false
   },
   "id": "af031379a5a22001"
  },
  {
   "cell_type": "code",
   "source": [
    "vehicle_sales"
   ],
   "metadata": {
    "collapsed": false,
    "ExecuteTime": {
     "end_time": "2024-03-28T20:07:54.464812Z",
     "start_time": "2024-03-28T20:07:54.449449Z"
    }
   },
   "id": "a01641be1fb5b32c",
   "execution_count": 10,
   "outputs": []
  },
  {
   "cell_type": "code",
   "source": [
    "vehicle_sales.groupby(['make', 'trim', 'year'], observed=True)['sellingprice'].agg(\n",
    "  ['sum', 'count']\n",
    ")"
   ],
   "metadata": {
    "collapsed": false,
    "ExecuteTime": {
     "end_time": "2024-03-28T20:07:54.579554Z",
     "start_time": "2024-03-28T20:07:54.466958Z"
    }
   },
   "id": "b4d0fb8d7e0886dc",
   "execution_count": 11,
   "outputs": []
  },
  {
   "cell_type": "code",
   "source": [
    "# Filter out rows where 'make' is 'unknown'\n",
    "filtered_vehicle_sales = vehicle_sales[vehicle_sales['make'] != 'unknown']\n",
    "\n",
    "# Create the pivot table on the filtered data\n",
    "pivot_table = filtered_vehicle_sales.pivot_table(columns='make', index='year', values='sellingprice',\n",
    "                                                 aggfunc='sum', observed=True, margins=True, margins_name='Total').dropna(how='all')\n",
    "pivot_table"
   ],
   "metadata": {
    "collapsed": false,
    "ExecuteTime": {
     "end_time": "2024-03-28T20:07:55.008370Z",
     "start_time": "2024-03-28T20:07:54.580561Z"
    }
   },
   "id": "98e1228fcfde2f",
   "execution_count": 12,
   "outputs": []
  },
  {
   "cell_type": "code",
   "source": [
    "vehicle_sales_sell_price_quartiles = pd.qcut(vehicle_sales['sellingprice'], q=4, labels=['Q1', 'Q2', 'Q3', 'Q4'])\n",
    "vehicle_sales.insert(15, 'Sell price quartiles', vehicle_sales_sell_price_quartiles)"
   ],
   "metadata": {
    "collapsed": false,
    "ExecuteTime": {
     "end_time": "2024-03-28T20:07:55.039078Z",
     "start_time": "2024-03-28T20:07:55.009381Z"
    }
   },
   "id": "1a5438dc5cb0b514",
   "execution_count": 13,
   "outputs": []
  },
  {
   "cell_type": "code",
   "source": [
    "highest_quartile_vehicles = vehicle_sales[vehicle_sales['Sell price quartiles'] == 'Q4']\n",
    "vehicle_sales"
   ],
   "metadata": {
    "collapsed": false,
    "ExecuteTime": {
     "end_time": "2024-03-28T20:07:55.077414Z",
     "start_time": "2024-03-28T20:07:55.040089Z"
    }
   },
   "id": "997aed7c1c73d59d",
   "execution_count": 14,
   "outputs": []
  },
  {
   "cell_type": "code",
   "source": [
    "vehicle_sales['sellingprice'].idxmax()"
   ],
   "metadata": {
    "collapsed": false,
    "ExecuteTime": {
     "end_time": "2024-03-28T20:07:55.086020Z",
     "start_time": "2024-03-28T20:07:55.078424Z"
    }
   },
   "id": "66639629b3d472d3",
   "execution_count": 15,
   "outputs": []
  },
  {
   "cell_type": "code",
   "source": [
    "cross_tab = pd.crosstab(vehicle_sales['make'], vehicle_sales['body'], margins=True, margins_name='Total')\n",
    "cross_tab"
   ],
   "metadata": {
    "collapsed": false,
    "ExecuteTime": {
     "end_time": "2024-03-28T20:07:55.539843Z",
     "start_time": "2024-03-28T20:07:55.087032Z"
    }
   },
   "id": "ae3e603c9e51667f",
   "execution_count": 16,
   "outputs": []
  },
  {
   "cell_type": "code",
   "source": [
    "bins = [0, 10000, 20000, 30000, 40000, 50000, 60000, 70000, 80000, 90000, 100000]\n",
    "labels = ['0-10k', '10-20k', '20-30k', '30-40k', '40-50k', '50-60k', '60-70k', '70-80k', '80-90k', '90-100k']\n",
    "\n",
    "pd_cut_test = pd.cut(vehicle_sales['sellingprice'], bins=bins, labels=labels)\n",
    "pd_cut_test"
   ],
   "metadata": {
    "collapsed": false,
    "ExecuteTime": {
     "end_time": "2024-03-28T20:07:55.560597Z",
     "start_time": "2024-03-28T20:07:55.540851Z"
    }
   },
   "id": "7838eb79ca30f139",
   "execution_count": 17,
   "outputs": []
  },
  {
   "cell_type": "code",
   "source": [
    "rolling_test = vehicle_sales['sellingprice'].rolling(window=4, min_periods=1).sum()\n",
    "rolling_test"
   ],
   "metadata": {
    "collapsed": false,
    "ExecuteTime": {
     "end_time": "2024-03-28T20:07:55.576781Z",
     "start_time": "2024-03-28T20:07:55.561466Z"
    }
   },
   "id": "d8816606e3449634",
   "execution_count": 18,
   "outputs": []
  },
  {
   "cell_type": "code",
   "source": [
    "corr_testing = vehicle_sales[['sellingprice', 'odometer', 'mmr']].corr()\n",
    "corr_testing"
   ],
   "metadata": {
    "collapsed": false,
    "ExecuteTime": {
     "end_time": "2024-03-28T20:07:55.604094Z",
     "start_time": "2024-03-28T20:07:55.577790Z"
    }
   },
   "id": "934a3523bfcf8076",
   "execution_count": 19,
   "outputs": []
  },
  {
   "cell_type": "code",
   "source": [
    "vehicle_sales[['mmr', 'sellingprice']]\n",
    "vehicle_sales"
   ],
   "metadata": {
    "collapsed": false,
    "ExecuteTime": {
     "end_time": "2024-03-28T20:07:55.620821Z",
     "start_time": "2024-03-28T20:07:55.605105Z"
    }
   },
   "id": "e173e51544492159",
   "execution_count": 20,
   "outputs": []
  },
  {
   "cell_type": "code",
   "source": [
    "vehicle_sales['mmr'].quantile(0.25)\n",
    "vehicle_sales['mmr'].quantile(0.50)\n",
    "vehicle_sales['mmr'].quantile(0.75)"
   ],
   "metadata": {
    "collapsed": false,
    "ExecuteTime": {
     "end_time": "2024-03-28T20:07:55.647737Z",
     "start_time": "2024-03-28T20:07:55.621831Z"
    }
   },
   "id": "5c6024314884314b",
   "execution_count": 21,
   "outputs": []
  },
  {
   "cell_type": "code",
   "source": [
    "vehicle_sales['sellingprice'].ewm(span=10, min_periods=1).sum()"
   ],
   "metadata": {
    "collapsed": false,
    "ExecuteTime": {
     "end_time": "2024-03-28T20:07:55.660988Z",
     "start_time": "2024-03-28T20:07:55.648742Z"
    }
   },
   "id": "223994342df0de8f",
   "execution_count": 22,
   "outputs": []
  },
  {
   "cell_type": "markdown",
   "source": [
    "# Exercises"
   ],
   "metadata": {
    "collapsed": false
   },
   "id": "975472033c7a887f"
  },
  {
   "cell_type": "markdown",
   "source": [
    "# 1. Load the dataset and display the first 10 rows."
   ],
   "metadata": {
    "collapsed": false
   },
   "id": "2b98efc4e30dabc2"
  },
  {
   "cell_type": "code",
   "source": [
    "car_sales = pd.read_csv(r'F:\\DataSpell\\Pandas_training\\data_sets\\car_prices.csv')\n",
    "car_sales.head(10)"
   ],
   "metadata": {
    "collapsed": false,
    "ExecuteTime": {
     "end_time": "2024-03-28T20:07:57.527986Z",
     "start_time": "2024-03-28T20:07:55.661859Z"
    }
   },
   "id": "495da05cc1a62ec",
   "execution_count": 23,
   "outputs": []
  },
  {
   "cell_type": "markdown",
   "source": [
    "# 2. Display the last 10 rows of the dataset."
   ],
   "metadata": {
    "collapsed": false
   },
   "id": "529b33080685b47c"
  },
  {
   "cell_type": "code",
   "source": [
    "car_sales.tail(10)"
   ],
   "metadata": {
    "collapsed": false,
    "ExecuteTime": {
     "end_time": "2024-03-28T20:07:57.540651Z",
     "start_time": "2024-03-28T20:07:57.528992Z"
    }
   },
   "id": "2b2bb303f558f644",
   "execution_count": 24,
   "outputs": []
  },
  {
   "cell_type": "markdown",
   "source": [
    "# 3. Check for any missing values in the dataset."
   ],
   "metadata": {
    "collapsed": false
   },
   "id": "e95c201d0b7744dd"
  },
  {
   "cell_type": "code",
   "source": [
    "car_sales.isna().sum()\n",
    "car_sales.isnull().sum()\n",
    "car_sales.info()\n",
    "car_sales.isnull().any()\n",
    "car_sales.isnull().all()"
   ],
   "metadata": {
    "collapsed": false,
    "ExecuteTime": {
     "end_time": "2024-03-28T20:07:58.350517Z",
     "start_time": "2024-03-28T20:07:57.541530Z"
    }
   },
   "id": "edb4e056a5ce1894",
   "execution_count": 25,
   "outputs": []
  },
  {
   "cell_type": "markdown",
   "source": [
    "# 4. Find the number of unique makes, models, and trims."
   ],
   "metadata": {
    "collapsed": false
   },
   "id": "9797a4639f3c4801"
  },
  {
   "cell_type": "code",
   "source": [
    "car_sales"
   ],
   "metadata": {
    "collapsed": false,
    "ExecuteTime": {
     "end_time": "2024-03-28T20:07:58.363036Z",
     "start_time": "2024-03-28T20:07:58.351524Z"
    }
   },
   "id": "c43d12e9658f60e1",
   "execution_count": 26,
   "outputs": []
  },
  {
   "cell_type": "code",
   "source": [
    "car_sales['make'].unique()\n",
    "car_sales['model'].unique()\n",
    "car_sales['trim'].unique()\n",
    "# other solution\n",
    "car_sales['make'].nunique()\n",
    "car_sales['model'].nunique()\n",
    "car_sales['trim'].nunique()"
   ],
   "metadata": {
    "collapsed": false,
    "ExecuteTime": {
     "end_time": "2024-03-28T20:07:58.471269Z",
     "start_time": "2024-03-28T20:07:58.363544Z"
    }
   },
   "id": "7bcba5b40659e7c1",
   "execution_count": 27,
   "outputs": []
  },
  {
   "cell_type": "markdown",
   "source": [
    "# 5. Convert the saledate column to a datetime object."
   ],
   "metadata": {
    "collapsed": false
   },
   "id": "7c49d6753a6d49cd"
  },
  {
   "cell_type": "code",
   "source": [
    "# %%timeit\n",
    "car_sales"
   ],
   "metadata": {
    "collapsed": false,
    "ExecuteTime": {
     "end_time": "2024-03-28T20:07:58.484542Z",
     "start_time": "2024-03-28T20:07:58.471269Z"
    }
   },
   "id": "1d697bf7c4a5efa6",
   "execution_count": 28,
   "outputs": []
  },
  {
   "cell_type": "code",
   "source": [
    "car_sales['saledate'] = pd.to_datetime(car_sales['saledate'], errors='coerce', utc=True)\n",
    "car_sales['saledate'] = car_sales['saledate'].dt.tz_convert('Europe/Vilnius')\n",
    "car_sales.dtypes"
   ],
   "metadata": {
    "collapsed": false,
    "ExecuteTime": {
     "end_time": "2024-03-28T20:08:00.253304Z",
     "start_time": "2024-03-28T20:07:58.486549Z"
    }
   },
   "id": "8258792b861601aa",
   "execution_count": 29,
   "outputs": []
  },
  {
   "cell_type": "markdown",
   "source": [
    "# 6. Extract the year and month from the saledate column into separate columns."
   ],
   "metadata": {
    "collapsed": false
   },
   "id": "449a995c4a785142"
  },
  {
   "cell_type": "code",
   "source": [
    "# year = car_sales['saledate'].pd.Timestamp\n",
    "year = car_sales['saledate'].apply(lambda y: pd.Timestamp(y).year)\n",
    "month = car_sales['saledate'].apply(lambda m: pd.Timestamp(m).month)\n",
    "month[month.isna()]\n",
    "month"
   ],
   "metadata": {
    "collapsed": false,
    "ExecuteTime": {
     "end_time": "2024-03-28T20:08:01.425504Z",
     "start_time": "2024-03-28T20:08:00.254314Z"
    }
   },
   "id": "cffb8c16250a4654",
   "execution_count": 30,
   "outputs": []
  },
  {
   "cell_type": "markdown",
   "source": [
    "# 7. Filter the dataset to only include cars with an odometer reading less than 100,000 miles."
   ],
   "metadata": {
    "collapsed": false
   },
   "id": "90d430031a3a1d26"
  },
  {
   "cell_type": "code",
   "source": [
    "car_sales.query('odometer > 100_000')"
   ],
   "metadata": {
    "collapsed": false,
    "ExecuteTime": {
     "end_time": "2024-03-28T20:08:01.462454Z",
     "start_time": "2024-03-28T20:08:01.426410Z"
    }
   },
   "id": "9808b02d2e8c3c6",
   "execution_count": 31,
   "outputs": []
  },
  {
   "cell_type": "markdown",
   "source": [
    "# 8. Create a new column indicating whether the car's transmission is automatic or manual."
   ],
   "metadata": {
    "collapsed": false
   },
   "id": "71df4a1a360da147"
  },
  {
   "cell_type": "code",
   "source": [
    "column_names = list(car_sales.columns)\n",
    "column_names_index = {index: value for value, index in enumerate(column_names)}\n",
    "column_names_index"
   ],
   "metadata": {
    "collapsed": false,
    "ExecuteTime": {
     "end_time": "2024-03-28T20:08:01.468169Z",
     "start_time": "2024-03-28T20:08:01.462967Z"
    }
   },
   "id": "13646f1208c4ae31",
   "execution_count": 32,
   "outputs": []
  },
  {
   "cell_type": "code",
   "source": [
    "def car_transmission(row):\n",
    "  transmission = row['transmission']\n",
    "  if transmission == 'automatic':\n",
    "    return 'Automatic'\n",
    "  if transmission == 'manual':\n",
    "    return 'Manual'\n",
    "  else:\n",
    "    return 'Unknown'\n",
    "\n",
    "car_sales_transmission = car_sales.apply(car_transmission, axis=1)\n",
    "# car_sales.insert(6, 'car_transmission', car_sales_transmission)\n",
    "car_sales"
   ],
   "metadata": {
    "collapsed": false,
    "ExecuteTime": {
     "end_time": "2024-03-28T20:08:04.115190Z",
     "start_time": "2024-03-28T20:08:01.469178Z"
    }
   },
   "id": "883785007627dc50",
   "execution_count": 33,
   "outputs": []
  },
  {
   "cell_type": "markdown",
   "source": [
    "# 9. Group the data by year and calculate the average selling price for each year."
   ],
   "metadata": {
    "collapsed": false
   },
   "id": "d346ab27058be979"
  },
  {
   "cell_type": "code",
   "source": [
    "year = car_sales['saledate'].dt.year\n",
    "year_month = car_sales['saledate'].dt.to_period('M')\n",
    "# car_sales.groupby(year)['sellingprice'].mean()\n",
    "car_sales.groupby(year_month)['sellingprice'].mean()"
   ],
   "metadata": {
    "collapsed": false,
    "ExecuteTime": {
     "end_time": "2024-03-28T20:08:04.191176Z",
     "start_time": "2024-03-28T20:08:04.116200Z"
    }
   },
   "id": "4ab4e50435fc054c",
   "execution_count": 34,
   "outputs": []
  },
  {
   "cell_type": "markdown",
   "source": [
    "# 10. Identify the top 5 most common car colors."
   ],
   "metadata": {
    "collapsed": false
   },
   "id": "396ed10aad429d52"
  },
  {
   "cell_type": "code",
   "source": [
    "car_sales['color'].value_counts().head(5)"
   ],
   "metadata": {
    "collapsed": false,
    "ExecuteTime": {
     "end_time": "2024-03-28T20:08:04.221530Z",
     "start_time": "2024-03-28T20:08:04.191176Z"
    }
   },
   "id": "a9dac99f23ae3276",
   "execution_count": 35,
   "outputs": []
  },
  {
   "cell_type": "markdown",
   "source": [
    "# 11. Calculate the average odometer reading by make and model."
   ],
   "metadata": {
    "collapsed": false
   },
   "id": "27f7491eaebab2ca"
  },
  {
   "cell_type": "code",
   "source": [
    "car_sales.groupby(['make', 'model'])['odometer'].mean().sort_values(ascending=False)"
   ],
   "metadata": {
    "collapsed": false,
    "ExecuteTime": {
     "end_time": "2024-03-28T20:08:04.301945Z",
     "start_time": "2024-03-28T20:08:04.222536Z"
    }
   },
   "id": "82431a236e7b079b",
   "execution_count": 36,
   "outputs": []
  },
  {
   "cell_type": "markdown",
   "source": [
    "# 12. Find the make and model of the car with the highest selling price."
   ],
   "metadata": {
    "collapsed": false
   },
   "id": "7a4bbfa17bf4d0b5"
  },
  {
   "cell_type": "code",
   "source": [
    "car_sales.groupby(['make', 'model'])['sellingprice'].max().sort_values(ascending=False)"
   ],
   "metadata": {
    "collapsed": false,
    "ExecuteTime": {
     "end_time": "2024-03-28T20:08:04.381317Z",
     "start_time": "2024-03-28T20:08:04.301945Z"
    }
   },
   "id": "c2e6c68c5126c2af",
   "execution_count": 37,
   "outputs": []
  },
  {
   "cell_type": "code",
   "source": [
    "index_of_max_sales = car_sales['sellingprice'].idxmax()\n",
    "vehicle_sales.loc[index_of_max_sales, ['make', 'model']]"
   ],
   "metadata": {
    "collapsed": false,
    "ExecuteTime": {
     "end_time": "2024-03-28T20:08:04.390129Z",
     "start_time": "2024-03-28T20:08:04.381317Z"
    }
   },
   "id": "bf289799c86105a2",
   "execution_count": 38,
   "outputs": []
  },
  {
   "cell_type": "markdown",
   "source": [
    "# 13. Filter the dataset to include only cars from states with more than 50 listings in the dataset."
   ],
   "metadata": {
    "collapsed": false
   },
   "id": "9fffa8adc1667f60"
  },
  {
   "cell_type": "code",
   "source": [
    "states_count = car_sales['state'].value_counts() \n",
    "states_over_50 = states_count[states_count > 50].index\n",
    "car_sales[car_sales['state'].isin(states_over_50)]"
   ],
   "metadata": {
    "collapsed": false,
    "ExecuteTime": {
     "end_time": "2024-03-28T20:08:04.504036Z",
     "start_time": "2024-03-28T20:08:04.390129Z"
    }
   },
   "id": "536036f54c5d3b76",
   "execution_count": 39,
   "outputs": []
  },
  {
   "cell_type": "markdown",
   "source": [
    "# 14. Create a pivot table showing the average selling price of cars by make and body type."
   ],
   "metadata": {
    "collapsed": false
   },
   "id": "4b45c339766728f6"
  },
  {
   "cell_type": "code",
   "source": [
    "car_sales.pivot_table(index='make', \n",
    "                      columns='body', \n",
    "                      values='sellingprice', \n",
    "                      aggfunc='mean',\n",
    "                      margins=True,\n",
    "                      margins_name='Average Total'\n",
    "                      )"
   ],
   "metadata": {
    "collapsed": false,
    "ExecuteTime": {
     "end_time": "2024-03-28T20:08:04.836180Z",
     "start_time": "2024-03-28T20:08:04.505042Z"
    }
   },
   "id": "c814797ec8757344",
   "execution_count": 40,
   "outputs": []
  },
  {
   "cell_type": "markdown",
   "source": [
    "# 15. Calculate the difference between the MMR (Market Market Range) and the selling price, then create a column for this difference."
   ],
   "metadata": {
    "collapsed": false
   },
   "id": "f27daa55062e321f"
  },
  {
   "cell_type": "code",
   "source": [
    "car_sales_columns= list(car_sales.columns)\n",
    "index_columns = {index: value for index, value in enumerate(car_sales_columns)}\n",
    "index_columns"
   ],
   "metadata": {
    "collapsed": false,
    "ExecuteTime": {
     "end_time": "2024-03-28T20:08:04.841851Z",
     "start_time": "2024-03-28T20:08:04.836690Z"
    }
   },
   "id": "781c8ba8d13283fd",
   "execution_count": 41,
   "outputs": []
  },
  {
   "cell_type": "code",
   "source": [
    "difference = car_sales['mmr'] - car_sales['sellingprice']\n",
    "# car_sales.insert(15, \"mmr sell price diff\", difference)\n",
    "car_sales"
   ],
   "metadata": {
    "collapsed": false,
    "ExecuteTime": {
     "end_time": "2024-03-28T20:08:04.860107Z",
     "start_time": "2024-03-28T20:08:04.842859Z"
    }
   },
   "id": "7f12943a649d47a6",
   "execution_count": 42,
   "outputs": []
  },
  {
   "cell_type": "markdown",
   "source": [
    "# 16. Identify cars with a condition rating above 4.0 and an odometer reading less than 50,000 miles."
   ],
   "metadata": {
    "collapsed": false
   },
   "id": "2e394acee919e44a"
  },
  {
   "cell_type": "code",
   "source": [
    "car_sales.query('condition > 4 & odometer < 50_000')"
   ],
   "metadata": {
    "collapsed": false,
    "ExecuteTime": {
     "end_time": "2024-03-28T20:08:04.913931Z",
     "start_time": "2024-03-28T20:08:04.861116Z"
    }
   },
   "id": "ffba2ce708d0466",
   "execution_count": 43,
   "outputs": []
  },
  {
   "cell_type": "markdown",
   "source": [
    "# 17. Calculate the average selling price of cars for each combination of make and body type."
   ],
   "metadata": {
    "collapsed": false
   },
   "id": "cb0460808c45c63c"
  },
  {
   "cell_type": "code",
   "source": [
    "car_sales.groupby(['make', 'body'])['sellingprice'].mean()"
   ],
   "metadata": {
    "collapsed": false,
    "ExecuteTime": {
     "end_time": "2024-03-28T20:08:05.020262Z",
     "start_time": "2024-03-28T20:08:04.914941Z"
    }
   },
   "id": "752c4688bc353b7d",
   "execution_count": 44,
   "outputs": []
  },
  {
   "cell_type": "markdown",
   "source": [
    "# 18. Determine the make and model with the highest average odometer reading."
   ],
   "metadata": {
    "collapsed": false
   },
   "id": "95729721c09e0d17"
  },
  {
   "cell_type": "code",
   "source": [
    "odometer_max = car_sales['odometer'].idxmax()\n",
    "car_odometer_max = car_sales.loc[odometer_max, ['make', 'model']]\n",
    "car_odometer_max"
   ],
   "metadata": {
    "collapsed": false,
    "ExecuteTime": {
     "end_time": "2024-03-28T20:08:05.029774Z",
     "start_time": "2024-03-28T20:08:05.020262Z"
    }
   },
   "id": "33637921e9b3023b",
   "execution_count": 45,
   "outputs": []
  },
  {
   "cell_type": "code",
   "source": [
    "car_sales.groupby(['make', 'model'])['odometer'].mean().sort_values(ascending=False).idxmax()"
   ],
   "metadata": {
    "collapsed": false,
    "ExecuteTime": {
     "end_time": "2024-03-28T20:08:05.133112Z",
     "start_time": "2024-03-28T20:08:05.030784Z"
    }
   },
   "id": "9eae3d3f71204d46",
   "execution_count": 46,
   "outputs": []
  },
  {
   "cell_type": "markdown",
   "source": [
    "# 19. Drop the vin column from the dataset."
   ],
   "metadata": {
    "collapsed": false
   },
   "id": "b73312f44000a9b"
  },
  {
   "cell_type": "code",
   "source": [
    "drop_vin_column = car_sales.drop('vin', axis=1)\n",
    "drop_vin_column"
   ],
   "metadata": {
    "collapsed": false,
    "ExecuteTime": {
     "end_time": "2024-03-28T20:08:05.263343Z",
     "start_time": "2024-03-28T20:08:05.133112Z"
    }
   },
   "id": "8b6bd0f9884998f9",
   "execution_count": 47,
   "outputs": []
  },
  {
   "cell_type": "markdown",
   "source": [
    "# 20. Rename the mmr column to market_market_range."
   ],
   "metadata": {
    "collapsed": false
   },
   "id": "460737f0a75c7276"
  },
  {
   "cell_type": "code",
   "source": [
    "car_sales = car_sales.rename(columns={'mmr': 'market_market_range'})\n",
    "car_sales"
   ],
   "metadata": {
    "collapsed": false,
    "ExecuteTime": {
     "end_time": "2024-03-28T20:08:39.449997Z",
     "start_time": "2024-03-28T20:08:39.403618Z"
    }
   },
   "id": "f43d508043d13e83",
   "execution_count": 49,
   "outputs": []
  },
  {
   "cell_type": "markdown",
   "source": [
    "# 21. Find the year with the highest number of car listings."
   ],
   "metadata": {
    "collapsed": false
   },
   "id": "7e5ca0b0376afe1b"
  },
  {
   "cell_type": "code",
   "source": [
    "# car_sales.groupby('year')['make'].count().sort_values(ascending=False)\n",
    "\n",
    "car_sales['year'].value_counts().idxmax()"
   ],
   "metadata": {
    "collapsed": false,
    "ExecuteTime": {
     "end_time": "2024-03-28T20:12:07.587804Z",
     "start_time": "2024-03-28T20:12:07.580713Z"
    }
   },
   "id": "b4ab6aac7e83f461",
   "execution_count": 55,
   "outputs": []
  },
  {
   "cell_type": "markdown",
   "source": [
    "# 22. Create a histogram (text-based, counts per bin) of the odometer readings, dividing the range into bins of 10,000 miles."
   ],
   "metadata": {
    "collapsed": false
   },
   "id": "5181ff88818dcd73"
  },
  {
   "cell_type": "code",
   "source": [
    "bins = list(range(0, int(car_sales['odometer'].max() + 10000), 10000))\n",
    "\n",
    "car_sales['odometer_bins'] = pd.cut(car_sales['odometer'], bins=bins)\n",
    "\n",
    "histogram = car_sales['odometer_bins'].value_counts().sort_index()\n",
    "histogram"
   ],
   "metadata": {
    "collapsed": false,
    "ExecuteTime": {
     "end_time": "2024-03-28T20:19:22.764731Z",
     "start_time": "2024-03-28T20:19:22.737597Z"
    }
   },
   "id": "67473aad2a7f4668",
   "execution_count": 59,
   "outputs": []
  },
  {
   "cell_type": "markdown",
   "source": [
    "# 23. For each make, count the number of cars with transmission as automatic."
   ],
   "metadata": {
    "collapsed": false
   },
   "id": "dce0002c4e98ade"
  },
  {
   "cell_type": "code",
   "source": [
    "automatic_transmission = car_sales[car_sales['transmission'] == 'automatic']\n",
    "automatic_transmission.groupby('make')['transmission'].count().sort_values(ascending=False)"
   ],
   "metadata": {
    "collapsed": false,
    "ExecuteTime": {
     "end_time": "2024-03-28T20:23:50.804148Z",
     "start_time": "2024-03-28T20:23:50.676159Z"
    }
   },
   "id": "f6ea7b3fde16bcd9",
   "execution_count": 70,
   "outputs": []
  },
  {
   "cell_type": "code",
   "source": [
    "# car_sales.pivot_table(index='make', columns='transmission', aggfunc='count', margins=True, margins_name='Total')\n",
    "count_transmission = car_sales.pivot_table(index='make', columns='transmission', aggfunc='size')\n",
    "\n",
    "count_transmission['automatic'].sort_values(ascending=False)"
   ],
   "metadata": {
    "collapsed": false,
    "ExecuteTime": {
     "end_time": "2024-03-28T20:26:48.654391Z",
     "start_time": "2024-03-28T20:26:48.583462Z"
    }
   },
   "id": "a8bf1772c98971f7",
   "execution_count": 78,
   "outputs": []
  },
  {
   "cell_type": "markdown",
   "source": [
    "# 24. Replace any instance of \"inc\" in the seller's name with \"Inc.\""
   ],
   "metadata": {
    "collapsed": false
   },
   "id": "b4b5d6ae92aa8b92"
  },
  {
   "cell_type": "code",
   "source": [
    "car_seller = car_sales['seller']\n",
    "car_seller.str.replace('inc', 'Inc.')"
   ],
   "metadata": {
    "collapsed": false,
    "ExecuteTime": {
     "end_time": "2024-03-28T20:30:55.403877Z",
     "start_time": "2024-03-28T20:30:55.327483Z"
    }
   },
   "id": "30e2982c9855e416",
   "execution_count": 87,
   "outputs": []
  },
  {
   "cell_type": "markdown",
   "source": [
    "# 25. Split the saledate column into separate columns for the date and time of sale."
   ],
   "metadata": {
    "collapsed": false
   },
   "id": "488bea0f98883222"
  },
  {
   "cell_type": "code",
   "source": [
    "# sale_date = car_sales['saledate'].dt.to_period('D')\n",
    "sale_date = car_sales['saledate'].dt.date\n",
    "sales_time = car_sales['saledate'].dt.time\n",
    "sale_date"
   ],
   "metadata": {
    "collapsed": false,
    "ExecuteTime": {
     "end_time": "2024-03-28T20:37:58.490381Z",
     "start_time": "2024-03-28T20:37:58.285986Z"
    }
   },
   "id": "453ea9f05af95824",
   "execution_count": 93,
   "outputs": []
  },
  {
   "cell_type": "markdown",
   "source": [
    "# 26. Identify and remove any duplicate rows, based on vin."
   ],
   "metadata": {
    "collapsed": false
   },
   "id": "3a681f2f05fca1ea"
  },
  {
   "cell_type": "code",
   "source": [
    "unique_vin = car_sales['vin'].drop_duplicates()\n",
    "unique_vin_sales = car_sales[car_sales['vin'].isin(unique_vin)]\n",
    "\n",
    "car_sales.drop_duplicates(subset='vin')"
   ],
   "metadata": {
    "collapsed": false,
    "ExecuteTime": {
     "end_time": "2024-03-28T20:41:36.809754Z",
     "start_time": "2024-03-28T20:41:36.496460Z"
    }
   },
   "id": "b900ea17cc7b9f74",
   "execution_count": 99,
   "outputs": []
  },
  {
   "cell_type": "markdown",
   "source": [
    "# 27. Apply a function to normalize the condition ratings to a scale of 1 to 10."
   ],
   "metadata": {
    "collapsed": false
   },
   "id": "670faa1a5a1051fb"
  },
  {
   "cell_type": "code",
   "source": [
    "# Calculate the minimum and maximum of the 'condition' column\n",
    "min_condition = car_sales['condition'].min()\n",
    "max_condition = car_sales['condition'].max()\n",
    "\n",
    "# Apply the min-max normalization formula\n",
    "car_sales['condition_normalized'] = ((car_sales['condition'] - min_condition) / (max_condition - min_condition)) * 9 + 1"
   ],
   "metadata": {
    "collapsed": false,
    "ExecuteTime": {
     "end_time": "2024-03-28T20:39:43.386519Z",
     "start_time": "2024-03-28T20:39:43.374430Z"
    }
   },
   "id": "d3dcdd13233d2487",
   "execution_count": 96,
   "outputs": []
  },
  {
   "cell_type": "markdown",
   "source": [
    "# 28. Find the average condition rating for each make."
   ],
   "metadata": {
    "collapsed": false
   },
   "id": "1ea9b260ba6ac47d"
  },
  {
   "cell_type": "code",
   "source": [
    "car_sales.groupby('make')['condition'].mean().sort_values(ascending=False)"
   ],
   "metadata": {
    "collapsed": false,
    "ExecuteTime": {
     "end_time": "2024-03-28T20:46:03.339867Z",
     "start_time": "2024-03-28T20:46:03.301818Z"
    }
   },
   "id": "df811674d6a803f6",
   "execution_count": 102,
   "outputs": []
  },
  {
   "cell_type": "markdown",
   "source": [
    "# 29. Use boolean indexing to filter cars that are either black or white."
   ],
   "metadata": {
    "collapsed": false
   },
   "id": "5ec64cfda871c427"
  },
  {
   "cell_type": "code",
   "source": [
    "car_sales[car_sales['color'].isin(['black', 'white'])]"
   ],
   "metadata": {
    "collapsed": false,
    "ExecuteTime": {
     "end_time": "2024-03-28T20:48:17.143878Z",
     "start_time": "2024-03-28T20:48:17.093192Z"
    }
   },
   "id": "9705bcd7ddb24cb",
   "execution_count": 105,
   "outputs": []
  },
  {
   "cell_type": "markdown",
   "source": [
    "# 30. Write a function that categorizes cars into \"low\", \"medium\", and \"high\" mileage categories based on the odometer reading and apply it to create a new column."
   ],
   "metadata": {
    "collapsed": false
   },
   "id": "d42f25ee213e717b"
  },
  {
   "cell_type": "code",
   "source": [
    "# car_sales['odometer'].value_counts(bins=10, normalize=True) * 100\n",
    "car_sales['odometer'].value_counts(bins=3)"
   ],
   "metadata": {
    "collapsed": false,
    "ExecuteTime": {
     "end_time": "2024-03-28T20:57:29.539799Z",
     "start_time": "2024-03-28T20:57:29.520846Z"
    }
   },
   "id": "fb620d222aea4cbe",
   "execution_count": 120,
   "outputs": []
  },
  {
   "cell_type": "code",
   "source": [
    "def car_odometer(row):\n",
    "  odometer = row['odometer']\n",
    "  if odometer <= 333333.667:\n",
    "    return 'low'\n",
    "  if 333333.667 < odometer <= 666666.333:\n",
    "    return 'medium'\n",
    "  if odometer > 666666.333:\n",
    "    return 'high'\n",
    "\n",
    "car_sales.apply(car_odometer, axis=1).value_counts()"
   ],
   "metadata": {
    "collapsed": false,
    "ExecuteTime": {
     "end_time": "2024-03-28T20:54:23.794761Z",
     "start_time": "2024-03-28T20:54:21.649643Z"
    }
   },
   "id": "d4073ba617352d5",
   "execution_count": 113,
   "outputs": []
  }
 ],
 "metadata": {
  "kernelspec": {
   "display_name": "Python 3",
   "language": "python",
   "name": "python3"
  },
  "language_info": {
   "codemirror_mode": {
    "name": "ipython",
    "version": 2
   },
   "file_extension": ".py",
   "mimetype": "text/x-python",
   "name": "python",
   "nbconvert_exporter": "python",
   "pygments_lexer": "ipython2",
   "version": "2.7.6"
  }
 },
 "nbformat": 4,
 "nbformat_minor": 5
}
