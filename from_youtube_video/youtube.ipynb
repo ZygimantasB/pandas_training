{
 "cells": [
  {
   "cell_type": "markdown",
   "source": [
    "# https://www.youtube.com/watch?v=RlIiVeig3hc&t=13s"
   ],
   "metadata": {
    "collapsed": false
   },
   "id": "625295d69659371e"
  },
  {
   "cell_type": "code",
   "execution_count": 6,
   "id": "initial_id",
   "metadata": {
    "collapsed": true,
    "ExecuteTime": {
     "end_time": "2024-03-30T18:07:45.365300Z",
     "start_time": "2024-03-30T18:07:45.361776Z"
    }
   },
   "outputs": [],
   "source": [
    "import pandas as pd\n",
    "import numpy as np"
   ]
  },
  {
   "cell_type": "markdown",
   "source": [
    "# 1. Show versions"
   ],
   "metadata": {
    "collapsed": false
   },
   "id": "9032ae8d8857314f"
  },
  {
   "cell_type": "code",
   "outputs": [
    {
     "data": {
      "text/plain": "'2.2.1'"
     },
     "execution_count": 7,
     "metadata": {},
     "output_type": "execute_result"
    }
   ],
   "source": [
    "pd.__version__"
   ],
   "metadata": {
    "collapsed": false,
    "ExecuteTime": {
     "end_time": "2024-03-30T18:07:46.490620Z",
     "start_time": "2024-03-30T18:07:46.486115Z"
    }
   },
   "id": "13619c347ef6141e",
   "execution_count": 7
  },
  {
   "cell_type": "code",
   "outputs": [
    {
     "name": "stdout",
     "output_type": "stream",
     "text": [
      "\n",
      "INSTALLED VERSIONS\n",
      "------------------\n",
      "commit                : bdc79c146c2e32f2cab629be240f01658cfb6cc2\n",
      "python                : 3.12.2.final.0\n",
      "python-bits           : 64\n",
      "OS                    : Windows\n",
      "OS-release            : 11\n",
      "Version               : 10.0.22631\n",
      "machine               : AMD64\n",
      "processor             : AMD64 Family 25 Model 33 Stepping 2, AuthenticAMD\n",
      "byteorder             : little\n",
      "LC_ALL                : en_US.UTF-8\n",
      "LANG                  : en_US.UTF-8\n",
      "LOCALE                : English_United States.1252\n",
      "\n",
      "pandas                : 2.2.1\n",
      "numpy                 : 1.26.4\n",
      "pytz                  : 2024.1\n",
      "dateutil              : 2.9.0.post0\n",
      "setuptools            : None\n",
      "pip                   : 23.2.1\n",
      "Cython                : None\n",
      "pytest                : None\n",
      "hypothesis            : None\n",
      "sphinx                : None\n",
      "blosc                 : None\n",
      "feather               : None\n",
      "xlsxwriter            : None\n",
      "lxml.etree            : None\n",
      "html5lib              : None\n",
      "pymysql               : None\n",
      "psycopg2              : None\n",
      "jinja2                : 3.1.3\n",
      "IPython               : 8.22.2\n",
      "pandas_datareader     : None\n",
      "adbc-driver-postgresql: None\n",
      "adbc-driver-sqlite    : None\n",
      "bs4                   : 4.12.3\n",
      "bottleneck            : None\n",
      "dataframe-api-compat  : None\n",
      "fastparquet           : None\n",
      "fsspec                : None\n",
      "gcsfs                 : None\n",
      "matplotlib            : 3.8.3\n",
      "numba                 : None\n",
      "numexpr               : None\n",
      "odfpy                 : None\n",
      "openpyxl              : None\n",
      "pandas_gbq            : None\n",
      "pyarrow               : None\n",
      "pyreadstat            : None\n",
      "python-calamine       : None\n",
      "pyxlsb                : None\n",
      "s3fs                  : None\n",
      "scipy                 : 1.12.0\n",
      "sqlalchemy            : None\n",
      "tables                : None\n",
      "tabulate              : None\n",
      "xarray                : None\n",
      "xlrd                  : None\n",
      "zstandard             : None\n",
      "tzdata                : 2024.1\n",
      "qtpy                  : None\n",
      "pyqt5                 : None\n"
     ]
    }
   ],
   "source": [
    "pd.show_versions()"
   ],
   "metadata": {
    "collapsed": false,
    "ExecuteTime": {
     "end_time": "2024-03-30T18:07:47.054113Z",
     "start_time": "2024-03-30T18:07:47.006719Z"
    }
   },
   "id": "b4b0f8159c1ca1a4",
   "execution_count": 8
  },
  {
   "cell_type": "markdown",
   "source": [
    "# 2. Create exmaple dataframe"
   ],
   "metadata": {
    "collapsed": false
   },
   "id": "2a1f7591181fc2c9"
  },
  {
   "cell_type": "code",
   "outputs": [
    {
     "data": {
      "text/plain": "          0         1         2         3         4         5         6  \\\n0  0.371640  0.085495  0.934106  0.300254  0.596702  0.663421  0.086205   \n1  0.383012  0.253677  0.348501  0.241286  0.858022  0.222304  0.122364   \n2  0.269885  0.565373  0.525987  0.881672  0.596291  0.549920  0.962601   \n3  0.389990  0.137291  0.856228  0.048010  0.992523  0.581780  0.797580   \n\n          7  \n0  0.263387  \n1  0.779420  \n2  0.094512  \n3  0.919573  ",
      "text/html": "<div>\n<style scoped>\n    .dataframe tbody tr th:only-of-type {\n        vertical-align: middle;\n    }\n\n    .dataframe tbody tr th {\n        vertical-align: top;\n    }\n\n    .dataframe thead th {\n        text-align: right;\n    }\n</style>\n<table border=\"1\" class=\"dataframe\">\n  <thead>\n    <tr style=\"text-align: right;\">\n      <th></th>\n      <th>0</th>\n      <th>1</th>\n      <th>2</th>\n      <th>3</th>\n      <th>4</th>\n      <th>5</th>\n      <th>6</th>\n      <th>7</th>\n    </tr>\n  </thead>\n  <tbody>\n    <tr>\n      <th>0</th>\n      <td>0.371640</td>\n      <td>0.085495</td>\n      <td>0.934106</td>\n      <td>0.300254</td>\n      <td>0.596702</td>\n      <td>0.663421</td>\n      <td>0.086205</td>\n      <td>0.263387</td>\n    </tr>\n    <tr>\n      <th>1</th>\n      <td>0.383012</td>\n      <td>0.253677</td>\n      <td>0.348501</td>\n      <td>0.241286</td>\n      <td>0.858022</td>\n      <td>0.222304</td>\n      <td>0.122364</td>\n      <td>0.779420</td>\n    </tr>\n    <tr>\n      <th>2</th>\n      <td>0.269885</td>\n      <td>0.565373</td>\n      <td>0.525987</td>\n      <td>0.881672</td>\n      <td>0.596291</td>\n      <td>0.549920</td>\n      <td>0.962601</td>\n      <td>0.094512</td>\n    </tr>\n    <tr>\n      <th>3</th>\n      <td>0.389990</td>\n      <td>0.137291</td>\n      <td>0.856228</td>\n      <td>0.048010</td>\n      <td>0.992523</td>\n      <td>0.581780</td>\n      <td>0.797580</td>\n      <td>0.919573</td>\n    </tr>\n  </tbody>\n</table>\n</div>"
     },
     "execution_count": 9,
     "metadata": {},
     "output_type": "execute_result"
    }
   ],
   "source": [
    "pd.DataFrame(np.random.rand(4, 8))"
   ],
   "metadata": {
    "collapsed": false,
    "ExecuteTime": {
     "end_time": "2024-03-30T18:08:54.504583Z",
     "start_time": "2024-03-30T18:08:54.488466Z"
    }
   },
   "id": "d9eb8e7a9178b4aa",
   "execution_count": 9
  },
  {
   "cell_type": "code",
   "outputs": [],
   "source": [
    "df = pd.DataFrame(np.random.rand(4, 8), columns=list('abcdefgh'))"
   ],
   "metadata": {
    "collapsed": false,
    "ExecuteTime": {
     "end_time": "2024-03-30T18:11:48.504402Z",
     "start_time": "2024-03-30T18:11:48.500085Z"
    }
   },
   "id": "d0665e76dd63abe5",
   "execution_count": 13
  },
  {
   "cell_type": "markdown",
   "source": [
    "# 3. Rename columns"
   ],
   "metadata": {
    "collapsed": false
   },
   "id": "520a8d0575c7fa89"
  },
  {
   "cell_type": "code",
   "outputs": [
    {
     "data": {
      "text/plain": "        a_y       b_y       c_y       d_y       e_y       f_y       g_y  \\\n0  0.716371  0.645080  0.181575  0.759627  0.980620  0.708334  0.252444   \n1  0.789084  0.724239  0.824526  0.852032  0.708940  0.863939  0.337598   \n2  0.394035  0.449732  0.988238  0.481348  0.103415  0.281802  0.063930   \n3  0.180940  0.451020  0.211621  0.340232  0.110351  0.158258  0.503268   \n\n        h_y  \n0  0.749779  \n1  0.809657  \n2  0.764314  \n3  0.464119  ",
      "text/html": "<div>\n<style scoped>\n    .dataframe tbody tr th:only-of-type {\n        vertical-align: middle;\n    }\n\n    .dataframe tbody tr th {\n        vertical-align: top;\n    }\n\n    .dataframe thead th {\n        text-align: right;\n    }\n</style>\n<table border=\"1\" class=\"dataframe\">\n  <thead>\n    <tr style=\"text-align: right;\">\n      <th></th>\n      <th>a_y</th>\n      <th>b_y</th>\n      <th>c_y</th>\n      <th>d_y</th>\n      <th>e_y</th>\n      <th>f_y</th>\n      <th>g_y</th>\n      <th>h_y</th>\n    </tr>\n  </thead>\n  <tbody>\n    <tr>\n      <th>0</th>\n      <td>0.716371</td>\n      <td>0.645080</td>\n      <td>0.181575</td>\n      <td>0.759627</td>\n      <td>0.980620</td>\n      <td>0.708334</td>\n      <td>0.252444</td>\n      <td>0.749779</td>\n    </tr>\n    <tr>\n      <th>1</th>\n      <td>0.789084</td>\n      <td>0.724239</td>\n      <td>0.824526</td>\n      <td>0.852032</td>\n      <td>0.708940</td>\n      <td>0.863939</td>\n      <td>0.337598</td>\n      <td>0.809657</td>\n    </tr>\n    <tr>\n      <th>2</th>\n      <td>0.394035</td>\n      <td>0.449732</td>\n      <td>0.988238</td>\n      <td>0.481348</td>\n      <td>0.103415</td>\n      <td>0.281802</td>\n      <td>0.063930</td>\n      <td>0.764314</td>\n    </tr>\n    <tr>\n      <th>3</th>\n      <td>0.180940</td>\n      <td>0.451020</td>\n      <td>0.211621</td>\n      <td>0.340232</td>\n      <td>0.110351</td>\n      <td>0.158258</td>\n      <td>0.503268</td>\n      <td>0.464119</td>\n    </tr>\n  </tbody>\n</table>\n</div>"
     },
     "execution_count": 18,
     "metadata": {},
     "output_type": "execute_result"
    }
   ],
   "source": [
    "df.add_prefix('x_')\n",
    "df.add_suffix('_y')"
   ],
   "metadata": {
    "collapsed": false,
    "ExecuteTime": {
     "end_time": "2024-03-30T18:12:27.808844Z",
     "start_time": "2024-03-30T18:12:27.801215Z"
    }
   },
   "id": "93d15383b0a42a4c",
   "execution_count": 18
  },
  {
   "cell_type": "markdown",
   "source": [
    "# 4. Reverse row order"
   ],
   "metadata": {
    "collapsed": false
   },
   "id": "b1e5b46637919a44"
  },
  {
   "cell_type": "code",
   "outputs": [
    {
     "data": {
      "text/plain": "         country  beer_servings  spirit_servings  wine_servings  \\\n0    Afghanistan              0                0              0   \n1        Albania             89              132             54   \n2        Algeria             25                0             14   \n3        Andorra            245              138            312   \n4         Angola            217               57             45   \n..           ...            ...              ...            ...   \n188    Venezuela            333              100              3   \n189      Vietnam            111                2              1   \n190        Yemen              6                0              0   \n191       Zambia             32               19              4   \n192     Zimbabwe             64               18              4   \n\n     total_litres_of_pure_alcohol      continent  \n0                             0.0           Asia  \n1                             4.9         Europe  \n2                             0.7         Africa  \n3                            12.4         Europe  \n4                             5.9         Africa  \n..                            ...            ...  \n188                           7.7  South America  \n189                           2.0           Asia  \n190                           0.1           Asia  \n191                           2.5         Africa  \n192                           4.7         Africa  \n\n[193 rows x 6 columns]",
      "text/html": "<div>\n<style scoped>\n    .dataframe tbody tr th:only-of-type {\n        vertical-align: middle;\n    }\n\n    .dataframe tbody tr th {\n        vertical-align: top;\n    }\n\n    .dataframe thead th {\n        text-align: right;\n    }\n</style>\n<table border=\"1\" class=\"dataframe\">\n  <thead>\n    <tr style=\"text-align: right;\">\n      <th></th>\n      <th>country</th>\n      <th>beer_servings</th>\n      <th>spirit_servings</th>\n      <th>wine_servings</th>\n      <th>total_litres_of_pure_alcohol</th>\n      <th>continent</th>\n    </tr>\n  </thead>\n  <tbody>\n    <tr>\n      <th>0</th>\n      <td>Afghanistan</td>\n      <td>0</td>\n      <td>0</td>\n      <td>0</td>\n      <td>0.0</td>\n      <td>Asia</td>\n    </tr>\n    <tr>\n      <th>1</th>\n      <td>Albania</td>\n      <td>89</td>\n      <td>132</td>\n      <td>54</td>\n      <td>4.9</td>\n      <td>Europe</td>\n    </tr>\n    <tr>\n      <th>2</th>\n      <td>Algeria</td>\n      <td>25</td>\n      <td>0</td>\n      <td>14</td>\n      <td>0.7</td>\n      <td>Africa</td>\n    </tr>\n    <tr>\n      <th>3</th>\n      <td>Andorra</td>\n      <td>245</td>\n      <td>138</td>\n      <td>312</td>\n      <td>12.4</td>\n      <td>Europe</td>\n    </tr>\n    <tr>\n      <th>4</th>\n      <td>Angola</td>\n      <td>217</td>\n      <td>57</td>\n      <td>45</td>\n      <td>5.9</td>\n      <td>Africa</td>\n    </tr>\n    <tr>\n      <th>...</th>\n      <td>...</td>\n      <td>...</td>\n      <td>...</td>\n      <td>...</td>\n      <td>...</td>\n      <td>...</td>\n    </tr>\n    <tr>\n      <th>188</th>\n      <td>Venezuela</td>\n      <td>333</td>\n      <td>100</td>\n      <td>3</td>\n      <td>7.7</td>\n      <td>South America</td>\n    </tr>\n    <tr>\n      <th>189</th>\n      <td>Vietnam</td>\n      <td>111</td>\n      <td>2</td>\n      <td>1</td>\n      <td>2.0</td>\n      <td>Asia</td>\n    </tr>\n    <tr>\n      <th>190</th>\n      <td>Yemen</td>\n      <td>6</td>\n      <td>0</td>\n      <td>0</td>\n      <td>0.1</td>\n      <td>Asia</td>\n    </tr>\n    <tr>\n      <th>191</th>\n      <td>Zambia</td>\n      <td>32</td>\n      <td>19</td>\n      <td>4</td>\n      <td>2.5</td>\n      <td>Africa</td>\n    </tr>\n    <tr>\n      <th>192</th>\n      <td>Zimbabwe</td>\n      <td>64</td>\n      <td>18</td>\n      <td>4</td>\n      <td>4.7</td>\n      <td>Africa</td>\n    </tr>\n  </tbody>\n</table>\n<p>193 rows × 6 columns</p>\n</div>"
     },
     "execution_count": 19,
     "metadata": {},
     "output_type": "execute_result"
    }
   ],
   "source": [
    "drinks_path = r'F:\\DataSpell\\Pandas_training\\from_youtube_video\\data\\pandas-videos-master\\drinks.csv'\n",
    "drinks = pd.read_csv(drinks_path)\n",
    "drinks"
   ],
   "metadata": {
    "collapsed": false,
    "ExecuteTime": {
     "end_time": "2024-03-30T18:13:19.726428Z",
     "start_time": "2024-03-30T18:13:19.715722Z"
    }
   },
   "id": "d40accd2f188ff2b",
   "execution_count": 19
  },
  {
   "cell_type": "code",
   "outputs": [
    {
     "data": {
      "text/plain": "         country  beer_servings  spirit_servings  wine_servings  \\\n192     Zimbabwe             64               18              4   \n191       Zambia             32               19              4   \n190        Yemen              6                0              0   \n189      Vietnam            111                2              1   \n188    Venezuela            333              100              3   \n..           ...            ...              ...            ...   \n4         Angola            217               57             45   \n3        Andorra            245              138            312   \n2        Algeria             25                0             14   \n1        Albania             89              132             54   \n0    Afghanistan              0                0              0   \n\n     total_litres_of_pure_alcohol      continent  \n192                           4.7         Africa  \n191                           2.5         Africa  \n190                           0.1           Asia  \n189                           2.0           Asia  \n188                           7.7  South America  \n..                            ...            ...  \n4                             5.9         Africa  \n3                            12.4         Europe  \n2                             0.7         Africa  \n1                             4.9         Europe  \n0                             0.0           Asia  \n\n[193 rows x 6 columns]",
      "text/html": "<div>\n<style scoped>\n    .dataframe tbody tr th:only-of-type {\n        vertical-align: middle;\n    }\n\n    .dataframe tbody tr th {\n        vertical-align: top;\n    }\n\n    .dataframe thead th {\n        text-align: right;\n    }\n</style>\n<table border=\"1\" class=\"dataframe\">\n  <thead>\n    <tr style=\"text-align: right;\">\n      <th></th>\n      <th>country</th>\n      <th>beer_servings</th>\n      <th>spirit_servings</th>\n      <th>wine_servings</th>\n      <th>total_litres_of_pure_alcohol</th>\n      <th>continent</th>\n    </tr>\n  </thead>\n  <tbody>\n    <tr>\n      <th>192</th>\n      <td>Zimbabwe</td>\n      <td>64</td>\n      <td>18</td>\n      <td>4</td>\n      <td>4.7</td>\n      <td>Africa</td>\n    </tr>\n    <tr>\n      <th>191</th>\n      <td>Zambia</td>\n      <td>32</td>\n      <td>19</td>\n      <td>4</td>\n      <td>2.5</td>\n      <td>Africa</td>\n    </tr>\n    <tr>\n      <th>190</th>\n      <td>Yemen</td>\n      <td>6</td>\n      <td>0</td>\n      <td>0</td>\n      <td>0.1</td>\n      <td>Asia</td>\n    </tr>\n    <tr>\n      <th>189</th>\n      <td>Vietnam</td>\n      <td>111</td>\n      <td>2</td>\n      <td>1</td>\n      <td>2.0</td>\n      <td>Asia</td>\n    </tr>\n    <tr>\n      <th>188</th>\n      <td>Venezuela</td>\n      <td>333</td>\n      <td>100</td>\n      <td>3</td>\n      <td>7.7</td>\n      <td>South America</td>\n    </tr>\n    <tr>\n      <th>...</th>\n      <td>...</td>\n      <td>...</td>\n      <td>...</td>\n      <td>...</td>\n      <td>...</td>\n      <td>...</td>\n    </tr>\n    <tr>\n      <th>4</th>\n      <td>Angola</td>\n      <td>217</td>\n      <td>57</td>\n      <td>45</td>\n      <td>5.9</td>\n      <td>Africa</td>\n    </tr>\n    <tr>\n      <th>3</th>\n      <td>Andorra</td>\n      <td>245</td>\n      <td>138</td>\n      <td>312</td>\n      <td>12.4</td>\n      <td>Europe</td>\n    </tr>\n    <tr>\n      <th>2</th>\n      <td>Algeria</td>\n      <td>25</td>\n      <td>0</td>\n      <td>14</td>\n      <td>0.7</td>\n      <td>Africa</td>\n    </tr>\n    <tr>\n      <th>1</th>\n      <td>Albania</td>\n      <td>89</td>\n      <td>132</td>\n      <td>54</td>\n      <td>4.9</td>\n      <td>Europe</td>\n    </tr>\n    <tr>\n      <th>0</th>\n      <td>Afghanistan</td>\n      <td>0</td>\n      <td>0</td>\n      <td>0</td>\n      <td>0.0</td>\n      <td>Asia</td>\n    </tr>\n  </tbody>\n</table>\n<p>193 rows × 6 columns</p>\n</div>"
     },
     "execution_count": 21,
     "metadata": {},
     "output_type": "execute_result"
    }
   ],
   "source": [
    "drinks.loc[::-1]"
   ],
   "metadata": {
    "collapsed": false,
    "ExecuteTime": {
     "end_time": "2024-03-30T18:14:02.958310Z",
     "start_time": "2024-03-30T18:14:02.950923Z"
    }
   },
   "id": "f9e179a470ecb087",
   "execution_count": 21
  },
  {
   "cell_type": "code",
   "outputs": [
    {
     "data": {
      "text/plain": "         country  beer_servings  spirit_servings  wine_servings  \\\n0       Zimbabwe             64               18              4   \n1         Zambia             32               19              4   \n2          Yemen              6                0              0   \n3        Vietnam            111                2              1   \n4      Venezuela            333              100              3   \n..           ...            ...              ...            ...   \n188       Angola            217               57             45   \n189      Andorra            245              138            312   \n190      Algeria             25                0             14   \n191      Albania             89              132             54   \n192  Afghanistan              0                0              0   \n\n     total_litres_of_pure_alcohol      continent  \n0                             4.7         Africa  \n1                             2.5         Africa  \n2                             0.1           Asia  \n3                             2.0           Asia  \n4                             7.7  South America  \n..                            ...            ...  \n188                           5.9         Africa  \n189                          12.4         Europe  \n190                           0.7         Africa  \n191                           4.9         Europe  \n192                           0.0           Asia  \n\n[193 rows x 6 columns]",
      "text/html": "<div>\n<style scoped>\n    .dataframe tbody tr th:only-of-type {\n        vertical-align: middle;\n    }\n\n    .dataframe tbody tr th {\n        vertical-align: top;\n    }\n\n    .dataframe thead th {\n        text-align: right;\n    }\n</style>\n<table border=\"1\" class=\"dataframe\">\n  <thead>\n    <tr style=\"text-align: right;\">\n      <th></th>\n      <th>country</th>\n      <th>beer_servings</th>\n      <th>spirit_servings</th>\n      <th>wine_servings</th>\n      <th>total_litres_of_pure_alcohol</th>\n      <th>continent</th>\n    </tr>\n  </thead>\n  <tbody>\n    <tr>\n      <th>0</th>\n      <td>Zimbabwe</td>\n      <td>64</td>\n      <td>18</td>\n      <td>4</td>\n      <td>4.7</td>\n      <td>Africa</td>\n    </tr>\n    <tr>\n      <th>1</th>\n      <td>Zambia</td>\n      <td>32</td>\n      <td>19</td>\n      <td>4</td>\n      <td>2.5</td>\n      <td>Africa</td>\n    </tr>\n    <tr>\n      <th>2</th>\n      <td>Yemen</td>\n      <td>6</td>\n      <td>0</td>\n      <td>0</td>\n      <td>0.1</td>\n      <td>Asia</td>\n    </tr>\n    <tr>\n      <th>3</th>\n      <td>Vietnam</td>\n      <td>111</td>\n      <td>2</td>\n      <td>1</td>\n      <td>2.0</td>\n      <td>Asia</td>\n    </tr>\n    <tr>\n      <th>4</th>\n      <td>Venezuela</td>\n      <td>333</td>\n      <td>100</td>\n      <td>3</td>\n      <td>7.7</td>\n      <td>South America</td>\n    </tr>\n    <tr>\n      <th>...</th>\n      <td>...</td>\n      <td>...</td>\n      <td>...</td>\n      <td>...</td>\n      <td>...</td>\n      <td>...</td>\n    </tr>\n    <tr>\n      <th>188</th>\n      <td>Angola</td>\n      <td>217</td>\n      <td>57</td>\n      <td>45</td>\n      <td>5.9</td>\n      <td>Africa</td>\n    </tr>\n    <tr>\n      <th>189</th>\n      <td>Andorra</td>\n      <td>245</td>\n      <td>138</td>\n      <td>312</td>\n      <td>12.4</td>\n      <td>Europe</td>\n    </tr>\n    <tr>\n      <th>190</th>\n      <td>Algeria</td>\n      <td>25</td>\n      <td>0</td>\n      <td>14</td>\n      <td>0.7</td>\n      <td>Africa</td>\n    </tr>\n    <tr>\n      <th>191</th>\n      <td>Albania</td>\n      <td>89</td>\n      <td>132</td>\n      <td>54</td>\n      <td>4.9</td>\n      <td>Europe</td>\n    </tr>\n    <tr>\n      <th>192</th>\n      <td>Afghanistan</td>\n      <td>0</td>\n      <td>0</td>\n      <td>0</td>\n      <td>0.0</td>\n      <td>Asia</td>\n    </tr>\n  </tbody>\n</table>\n<p>193 rows × 6 columns</p>\n</div>"
     },
     "execution_count": 23,
     "metadata": {},
     "output_type": "execute_result"
    }
   ],
   "source": [
    "drinks.loc[::-1].reset_index(drop=True)"
   ],
   "metadata": {
    "collapsed": false,
    "ExecuteTime": {
     "end_time": "2024-03-30T18:14:37.968093Z",
     "start_time": "2024-03-30T18:14:37.959480Z"
    }
   },
   "id": "bf0ac7b4050484e7",
   "execution_count": 23
  },
  {
   "cell_type": "markdown",
   "source": [
    "# 5. Reverse column order"
   ],
   "metadata": {
    "collapsed": false
   },
   "id": "38be74dffee82ff3"
  },
  {
   "cell_type": "code",
   "outputs": [],
   "source": [],
   "metadata": {
    "collapsed": false
   },
   "id": "759e08854f5d2524"
  }
 ],
 "metadata": {
  "kernelspec": {
   "display_name": "Python 3",
   "language": "python",
   "name": "python3"
  },
  "language_info": {
   "codemirror_mode": {
    "name": "ipython",
    "version": 2
   },
   "file_extension": ".py",
   "mimetype": "text/x-python",
   "name": "python",
   "nbconvert_exporter": "python",
   "pygments_lexer": "ipython2",
   "version": "2.7.6"
  }
 },
 "nbformat": 4,
 "nbformat_minor": 5
}
