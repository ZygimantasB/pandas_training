{
 "cells": [
  {
   "cell_type": "markdown",
   "source": [
    "# https://www.youtube.com/watch?v=RlIiVeig3hc&t=13s"
   ],
   "metadata": {
    "collapsed": false
   },
   "id": "625295d69659371e"
  },
  {
   "cell_type": "code",
   "execution_count": 1,
   "id": "initial_id",
   "metadata": {
    "collapsed": true,
    "ExecuteTime": {
     "end_time": "2024-04-01T16:16:57.416355Z",
     "start_time": "2024-04-01T16:16:54.166145Z"
    }
   },
   "outputs": [],
   "source": [
    "import pandas as pd\n",
    "import numpy as np"
   ]
  },
  {
   "cell_type": "markdown",
   "source": [
    "# 1. Show versions"
   ],
   "metadata": {
    "collapsed": false
   },
   "id": "9032ae8d8857314f"
  },
  {
   "cell_type": "code",
   "outputs": [
    {
     "data": {
      "text/plain": "'2.2.1'"
     },
     "execution_count": 2,
     "metadata": {},
     "output_type": "execute_result"
    }
   ],
   "source": [
    "pd.__version__"
   ],
   "metadata": {
    "collapsed": false,
    "ExecuteTime": {
     "end_time": "2024-04-01T16:16:57.422365Z",
     "start_time": "2024-04-01T16:16:57.417361Z"
    }
   },
   "id": "13619c347ef6141e",
   "execution_count": 2
  },
  {
   "cell_type": "code",
   "outputs": [
    {
     "name": "stdout",
     "output_type": "stream",
     "text": [
      "\n",
      "INSTALLED VERSIONS\n",
      "------------------\n",
      "commit                : bdc79c146c2e32f2cab629be240f01658cfb6cc2\n",
      "python                : 3.12.2.final.0\n",
      "python-bits           : 64\n",
      "OS                    : Windows\n",
      "OS-release            : 11\n",
      "Version               : 10.0.22631\n",
      "machine               : AMD64\n",
      "processor             : AMD64 Family 25 Model 33 Stepping 2, AuthenticAMD\n",
      "byteorder             : little\n",
      "LC_ALL                : en_US.UTF-8\n",
      "LANG                  : en_US.UTF-8\n",
      "LOCALE                : English_United States.1252\n",
      "\n",
      "pandas                : 2.2.1\n",
      "numpy                 : 1.26.4\n",
      "pytz                  : 2024.1\n",
      "dateutil              : 2.9.0.post0\n",
      "setuptools            : None\n",
      "pip                   : 23.2.1\n",
      "Cython                : None\n",
      "pytest                : None\n",
      "hypothesis            : None\n",
      "sphinx                : None\n",
      "blosc                 : None\n",
      "feather               : None\n",
      "xlsxwriter            : None\n",
      "lxml.etree            : None\n",
      "html5lib              : None\n",
      "pymysql               : None\n",
      "psycopg2              : None\n",
      "jinja2                : 3.1.3\n",
      "IPython               : 8.22.2\n",
      "pandas_datareader     : None\n",
      "adbc-driver-postgresql: None\n",
      "adbc-driver-sqlite    : None\n",
      "bs4                   : 4.12.3\n",
      "bottleneck            : None\n",
      "dataframe-api-compat  : None\n",
      "fastparquet           : None\n",
      "fsspec                : None\n",
      "gcsfs                 : None\n",
      "matplotlib            : 3.8.3\n",
      "numba                 : None\n",
      "numexpr               : None\n",
      "odfpy                 : None\n",
      "openpyxl              : None\n",
      "pandas_gbq            : None\n",
      "pyarrow               : None\n",
      "pyreadstat            : None\n",
      "python-calamine       : None\n",
      "pyxlsb                : None\n",
      "s3fs                  : None\n",
      "scipy                 : 1.12.0\n",
      "sqlalchemy            : None\n",
      "tables                : None\n",
      "tabulate              : None\n",
      "xarray                : None\n",
      "xlrd                  : None\n",
      "zstandard             : None\n",
      "tzdata                : 2024.1\n",
      "qtpy                  : None\n",
      "pyqt5                 : None\n"
     ]
    }
   ],
   "source": [
    "pd.show_versions()"
   ],
   "metadata": {
    "collapsed": false,
    "ExecuteTime": {
     "end_time": "2024-04-01T16:16:58.083272Z",
     "start_time": "2024-04-01T16:16:57.422876Z"
    }
   },
   "id": "b4b0f8159c1ca1a4",
   "execution_count": 3
  },
  {
   "cell_type": "markdown",
   "source": [
    "# 2. Create exmaple dataframe"
   ],
   "metadata": {
    "collapsed": false
   },
   "id": "2a1f7591181fc2c9"
  },
  {
   "cell_type": "code",
   "outputs": [
    {
     "data": {
      "text/plain": "          0         1         2         3         4         5         6  \\\n0  0.974563  0.272858  0.601695  0.545931  0.845903  0.638943  0.002026   \n1  0.530906  0.814128  0.453816  0.577407  0.626406  0.035806  0.411346   \n2  0.805886  0.085375  0.682791  0.202633  0.067622  0.166322  0.025417   \n3  0.123334  0.948137  0.511474  0.499199  0.148247  0.023217  0.664045   \n\n          7  \n0  0.052138  \n1  0.688469  \n2  0.418074  \n3  0.865911  ",
      "text/html": "<div>\n<style scoped>\n    .dataframe tbody tr th:only-of-type {\n        vertical-align: middle;\n    }\n\n    .dataframe tbody tr th {\n        vertical-align: top;\n    }\n\n    .dataframe thead th {\n        text-align: right;\n    }\n</style>\n<table border=\"1\" class=\"dataframe\">\n  <thead>\n    <tr style=\"text-align: right;\">\n      <th></th>\n      <th>0</th>\n      <th>1</th>\n      <th>2</th>\n      <th>3</th>\n      <th>4</th>\n      <th>5</th>\n      <th>6</th>\n      <th>7</th>\n    </tr>\n  </thead>\n  <tbody>\n    <tr>\n      <th>0</th>\n      <td>0.974563</td>\n      <td>0.272858</td>\n      <td>0.601695</td>\n      <td>0.545931</td>\n      <td>0.845903</td>\n      <td>0.638943</td>\n      <td>0.002026</td>\n      <td>0.052138</td>\n    </tr>\n    <tr>\n      <th>1</th>\n      <td>0.530906</td>\n      <td>0.814128</td>\n      <td>0.453816</td>\n      <td>0.577407</td>\n      <td>0.626406</td>\n      <td>0.035806</td>\n      <td>0.411346</td>\n      <td>0.688469</td>\n    </tr>\n    <tr>\n      <th>2</th>\n      <td>0.805886</td>\n      <td>0.085375</td>\n      <td>0.682791</td>\n      <td>0.202633</td>\n      <td>0.067622</td>\n      <td>0.166322</td>\n      <td>0.025417</td>\n      <td>0.418074</td>\n    </tr>\n    <tr>\n      <th>3</th>\n      <td>0.123334</td>\n      <td>0.948137</td>\n      <td>0.511474</td>\n      <td>0.499199</td>\n      <td>0.148247</td>\n      <td>0.023217</td>\n      <td>0.664045</td>\n      <td>0.865911</td>\n    </tr>\n  </tbody>\n</table>\n</div>"
     },
     "execution_count": 4,
     "metadata": {},
     "output_type": "execute_result"
    }
   ],
   "source": [
    "pd.DataFrame(np.random.rand(4, 8))"
   ],
   "metadata": {
    "collapsed": false,
    "ExecuteTime": {
     "end_time": "2024-04-01T16:16:58.101Z",
     "start_time": "2024-04-01T16:16:58.084278Z"
    }
   },
   "id": "d9eb8e7a9178b4aa",
   "execution_count": 4
  },
  {
   "cell_type": "code",
   "outputs": [],
   "source": [
    "df = pd.DataFrame(np.random.rand(4, 8), columns=list('abcdefgh'))"
   ],
   "metadata": {
    "collapsed": false,
    "ExecuteTime": {
     "end_time": "2024-04-01T16:16:58.106286Z",
     "start_time": "2024-04-01T16:16:58.102512Z"
    }
   },
   "id": "d0665e76dd63abe5",
   "execution_count": 5
  },
  {
   "cell_type": "markdown",
   "source": [
    "# 3. Rename columns"
   ],
   "metadata": {
    "collapsed": false
   },
   "id": "520a8d0575c7fa89"
  },
  {
   "cell_type": "code",
   "outputs": [
    {
     "data": {
      "text/plain": "        a_y       b_y       c_y       d_y       e_y       f_y       g_y  \\\n0  0.504311  0.363959  0.021182  0.860545  0.305720  0.448224  0.370287   \n1  0.739508  0.280993  0.019019  0.497970  0.282585  0.835740  0.265423   \n2  0.587127  0.747384  0.570992  0.979876  0.122890  0.180176  0.419657   \n3  0.343832  0.904748  0.307777  0.048590  0.433560  0.261266  0.807571   \n\n        h_y  \n0  0.531805  \n1  0.446237  \n2  0.821015  \n3  0.805229  ",
      "text/html": "<div>\n<style scoped>\n    .dataframe tbody tr th:only-of-type {\n        vertical-align: middle;\n    }\n\n    .dataframe tbody tr th {\n        vertical-align: top;\n    }\n\n    .dataframe thead th {\n        text-align: right;\n    }\n</style>\n<table border=\"1\" class=\"dataframe\">\n  <thead>\n    <tr style=\"text-align: right;\">\n      <th></th>\n      <th>a_y</th>\n      <th>b_y</th>\n      <th>c_y</th>\n      <th>d_y</th>\n      <th>e_y</th>\n      <th>f_y</th>\n      <th>g_y</th>\n      <th>h_y</th>\n    </tr>\n  </thead>\n  <tbody>\n    <tr>\n      <th>0</th>\n      <td>0.504311</td>\n      <td>0.363959</td>\n      <td>0.021182</td>\n      <td>0.860545</td>\n      <td>0.305720</td>\n      <td>0.448224</td>\n      <td>0.370287</td>\n      <td>0.531805</td>\n    </tr>\n    <tr>\n      <th>1</th>\n      <td>0.739508</td>\n      <td>0.280993</td>\n      <td>0.019019</td>\n      <td>0.497970</td>\n      <td>0.282585</td>\n      <td>0.835740</td>\n      <td>0.265423</td>\n      <td>0.446237</td>\n    </tr>\n    <tr>\n      <th>2</th>\n      <td>0.587127</td>\n      <td>0.747384</td>\n      <td>0.570992</td>\n      <td>0.979876</td>\n      <td>0.122890</td>\n      <td>0.180176</td>\n      <td>0.419657</td>\n      <td>0.821015</td>\n    </tr>\n    <tr>\n      <th>3</th>\n      <td>0.343832</td>\n      <td>0.904748</td>\n      <td>0.307777</td>\n      <td>0.048590</td>\n      <td>0.433560</td>\n      <td>0.261266</td>\n      <td>0.807571</td>\n      <td>0.805229</td>\n    </tr>\n  </tbody>\n</table>\n</div>"
     },
     "execution_count": 6,
     "metadata": {},
     "output_type": "execute_result"
    }
   ],
   "source": [
    "df.add_prefix('x_')\n",
    "df.add_suffix('_y')"
   ],
   "metadata": {
    "collapsed": false,
    "ExecuteTime": {
     "end_time": "2024-04-01T16:16:58.118929Z",
     "start_time": "2024-04-01T16:16:58.107292Z"
    }
   },
   "id": "93d15383b0a42a4c",
   "execution_count": 6
  },
  {
   "cell_type": "markdown",
   "source": [
    "# 4. Reverse row order"
   ],
   "metadata": {
    "collapsed": false
   },
   "id": "b1e5b46637919a44"
  },
  {
   "cell_type": "code",
   "outputs": [
    {
     "data": {
      "text/plain": "         country  beer_servings  spirit_servings  wine_servings  \\\n0    Afghanistan              0                0              0   \n1        Albania             89              132             54   \n2        Algeria             25                0             14   \n3        Andorra            245              138            312   \n4         Angola            217               57             45   \n..           ...            ...              ...            ...   \n188    Venezuela            333              100              3   \n189      Vietnam            111                2              1   \n190        Yemen              6                0              0   \n191       Zambia             32               19              4   \n192     Zimbabwe             64               18              4   \n\n     total_litres_of_pure_alcohol      continent  \n0                             0.0           Asia  \n1                             4.9         Europe  \n2                             0.7         Africa  \n3                            12.4         Europe  \n4                             5.9         Africa  \n..                            ...            ...  \n188                           7.7  South America  \n189                           2.0           Asia  \n190                           0.1           Asia  \n191                           2.5         Africa  \n192                           4.7         Africa  \n\n[193 rows x 6 columns]",
      "text/html": "<div>\n<style scoped>\n    .dataframe tbody tr th:only-of-type {\n        vertical-align: middle;\n    }\n\n    .dataframe tbody tr th {\n        vertical-align: top;\n    }\n\n    .dataframe thead th {\n        text-align: right;\n    }\n</style>\n<table border=\"1\" class=\"dataframe\">\n  <thead>\n    <tr style=\"text-align: right;\">\n      <th></th>\n      <th>country</th>\n      <th>beer_servings</th>\n      <th>spirit_servings</th>\n      <th>wine_servings</th>\n      <th>total_litres_of_pure_alcohol</th>\n      <th>continent</th>\n    </tr>\n  </thead>\n  <tbody>\n    <tr>\n      <th>0</th>\n      <td>Afghanistan</td>\n      <td>0</td>\n      <td>0</td>\n      <td>0</td>\n      <td>0.0</td>\n      <td>Asia</td>\n    </tr>\n    <tr>\n      <th>1</th>\n      <td>Albania</td>\n      <td>89</td>\n      <td>132</td>\n      <td>54</td>\n      <td>4.9</td>\n      <td>Europe</td>\n    </tr>\n    <tr>\n      <th>2</th>\n      <td>Algeria</td>\n      <td>25</td>\n      <td>0</td>\n      <td>14</td>\n      <td>0.7</td>\n      <td>Africa</td>\n    </tr>\n    <tr>\n      <th>3</th>\n      <td>Andorra</td>\n      <td>245</td>\n      <td>138</td>\n      <td>312</td>\n      <td>12.4</td>\n      <td>Europe</td>\n    </tr>\n    <tr>\n      <th>4</th>\n      <td>Angola</td>\n      <td>217</td>\n      <td>57</td>\n      <td>45</td>\n      <td>5.9</td>\n      <td>Africa</td>\n    </tr>\n    <tr>\n      <th>...</th>\n      <td>...</td>\n      <td>...</td>\n      <td>...</td>\n      <td>...</td>\n      <td>...</td>\n      <td>...</td>\n    </tr>\n    <tr>\n      <th>188</th>\n      <td>Venezuela</td>\n      <td>333</td>\n      <td>100</td>\n      <td>3</td>\n      <td>7.7</td>\n      <td>South America</td>\n    </tr>\n    <tr>\n      <th>189</th>\n      <td>Vietnam</td>\n      <td>111</td>\n      <td>2</td>\n      <td>1</td>\n      <td>2.0</td>\n      <td>Asia</td>\n    </tr>\n    <tr>\n      <th>190</th>\n      <td>Yemen</td>\n      <td>6</td>\n      <td>0</td>\n      <td>0</td>\n      <td>0.1</td>\n      <td>Asia</td>\n    </tr>\n    <tr>\n      <th>191</th>\n      <td>Zambia</td>\n      <td>32</td>\n      <td>19</td>\n      <td>4</td>\n      <td>2.5</td>\n      <td>Africa</td>\n    </tr>\n    <tr>\n      <th>192</th>\n      <td>Zimbabwe</td>\n      <td>64</td>\n      <td>18</td>\n      <td>4</td>\n      <td>4.7</td>\n      <td>Africa</td>\n    </tr>\n  </tbody>\n</table>\n<p>193 rows × 6 columns</p>\n</div>"
     },
     "execution_count": 7,
     "metadata": {},
     "output_type": "execute_result"
    }
   ],
   "source": [
    "drinks_path = r'F:\\DataSpell\\Pandas_training\\from_youtube_video\\data\\pandas-videos-master\\drinks.csv'\n",
    "drinks = pd.read_csv(drinks_path)\n",
    "drinks"
   ],
   "metadata": {
    "collapsed": false,
    "ExecuteTime": {
     "end_time": "2024-04-01T16:16:58.140069Z",
     "start_time": "2024-04-01T16:16:58.119934Z"
    }
   },
   "id": "d40accd2f188ff2b",
   "execution_count": 7
  },
  {
   "cell_type": "code",
   "outputs": [
    {
     "data": {
      "text/plain": "         country  beer_servings  spirit_servings  wine_servings  \\\n192     Zimbabwe             64               18              4   \n191       Zambia             32               19              4   \n190        Yemen              6                0              0   \n189      Vietnam            111                2              1   \n188    Venezuela            333              100              3   \n..           ...            ...              ...            ...   \n4         Angola            217               57             45   \n3        Andorra            245              138            312   \n2        Algeria             25                0             14   \n1        Albania             89              132             54   \n0    Afghanistan              0                0              0   \n\n     total_litres_of_pure_alcohol      continent  \n192                           4.7         Africa  \n191                           2.5         Africa  \n190                           0.1           Asia  \n189                           2.0           Asia  \n188                           7.7  South America  \n..                            ...            ...  \n4                             5.9         Africa  \n3                            12.4         Europe  \n2                             0.7         Africa  \n1                             4.9         Europe  \n0                             0.0           Asia  \n\n[193 rows x 6 columns]",
      "text/html": "<div>\n<style scoped>\n    .dataframe tbody tr th:only-of-type {\n        vertical-align: middle;\n    }\n\n    .dataframe tbody tr th {\n        vertical-align: top;\n    }\n\n    .dataframe thead th {\n        text-align: right;\n    }\n</style>\n<table border=\"1\" class=\"dataframe\">\n  <thead>\n    <tr style=\"text-align: right;\">\n      <th></th>\n      <th>country</th>\n      <th>beer_servings</th>\n      <th>spirit_servings</th>\n      <th>wine_servings</th>\n      <th>total_litres_of_pure_alcohol</th>\n      <th>continent</th>\n    </tr>\n  </thead>\n  <tbody>\n    <tr>\n      <th>192</th>\n      <td>Zimbabwe</td>\n      <td>64</td>\n      <td>18</td>\n      <td>4</td>\n      <td>4.7</td>\n      <td>Africa</td>\n    </tr>\n    <tr>\n      <th>191</th>\n      <td>Zambia</td>\n      <td>32</td>\n      <td>19</td>\n      <td>4</td>\n      <td>2.5</td>\n      <td>Africa</td>\n    </tr>\n    <tr>\n      <th>190</th>\n      <td>Yemen</td>\n      <td>6</td>\n      <td>0</td>\n      <td>0</td>\n      <td>0.1</td>\n      <td>Asia</td>\n    </tr>\n    <tr>\n      <th>189</th>\n      <td>Vietnam</td>\n      <td>111</td>\n      <td>2</td>\n      <td>1</td>\n      <td>2.0</td>\n      <td>Asia</td>\n    </tr>\n    <tr>\n      <th>188</th>\n      <td>Venezuela</td>\n      <td>333</td>\n      <td>100</td>\n      <td>3</td>\n      <td>7.7</td>\n      <td>South America</td>\n    </tr>\n    <tr>\n      <th>...</th>\n      <td>...</td>\n      <td>...</td>\n      <td>...</td>\n      <td>...</td>\n      <td>...</td>\n      <td>...</td>\n    </tr>\n    <tr>\n      <th>4</th>\n      <td>Angola</td>\n      <td>217</td>\n      <td>57</td>\n      <td>45</td>\n      <td>5.9</td>\n      <td>Africa</td>\n    </tr>\n    <tr>\n      <th>3</th>\n      <td>Andorra</td>\n      <td>245</td>\n      <td>138</td>\n      <td>312</td>\n      <td>12.4</td>\n      <td>Europe</td>\n    </tr>\n    <tr>\n      <th>2</th>\n      <td>Algeria</td>\n      <td>25</td>\n      <td>0</td>\n      <td>14</td>\n      <td>0.7</td>\n      <td>Africa</td>\n    </tr>\n    <tr>\n      <th>1</th>\n      <td>Albania</td>\n      <td>89</td>\n      <td>132</td>\n      <td>54</td>\n      <td>4.9</td>\n      <td>Europe</td>\n    </tr>\n    <tr>\n      <th>0</th>\n      <td>Afghanistan</td>\n      <td>0</td>\n      <td>0</td>\n      <td>0</td>\n      <td>0.0</td>\n      <td>Asia</td>\n    </tr>\n  </tbody>\n</table>\n<p>193 rows × 6 columns</p>\n</div>"
     },
     "execution_count": 8,
     "metadata": {},
     "output_type": "execute_result"
    }
   ],
   "source": [
    "drinks.loc[::-1]"
   ],
   "metadata": {
    "collapsed": false,
    "ExecuteTime": {
     "end_time": "2024-04-01T16:16:58.148722Z",
     "start_time": "2024-04-01T16:16:58.141075Z"
    }
   },
   "id": "f9e179a470ecb087",
   "execution_count": 8
  },
  {
   "cell_type": "code",
   "outputs": [
    {
     "data": {
      "text/plain": "         country  beer_servings  spirit_servings  wine_servings  \\\n0       Zimbabwe             64               18              4   \n1         Zambia             32               19              4   \n2          Yemen              6                0              0   \n3        Vietnam            111                2              1   \n4      Venezuela            333              100              3   \n..           ...            ...              ...            ...   \n188       Angola            217               57             45   \n189      Andorra            245              138            312   \n190      Algeria             25                0             14   \n191      Albania             89              132             54   \n192  Afghanistan              0                0              0   \n\n     total_litres_of_pure_alcohol      continent  \n0                             4.7         Africa  \n1                             2.5         Africa  \n2                             0.1           Asia  \n3                             2.0           Asia  \n4                             7.7  South America  \n..                            ...            ...  \n188                           5.9         Africa  \n189                          12.4         Europe  \n190                           0.7         Africa  \n191                           4.9         Europe  \n192                           0.0           Asia  \n\n[193 rows x 6 columns]",
      "text/html": "<div>\n<style scoped>\n    .dataframe tbody tr th:only-of-type {\n        vertical-align: middle;\n    }\n\n    .dataframe tbody tr th {\n        vertical-align: top;\n    }\n\n    .dataframe thead th {\n        text-align: right;\n    }\n</style>\n<table border=\"1\" class=\"dataframe\">\n  <thead>\n    <tr style=\"text-align: right;\">\n      <th></th>\n      <th>country</th>\n      <th>beer_servings</th>\n      <th>spirit_servings</th>\n      <th>wine_servings</th>\n      <th>total_litres_of_pure_alcohol</th>\n      <th>continent</th>\n    </tr>\n  </thead>\n  <tbody>\n    <tr>\n      <th>0</th>\n      <td>Zimbabwe</td>\n      <td>64</td>\n      <td>18</td>\n      <td>4</td>\n      <td>4.7</td>\n      <td>Africa</td>\n    </tr>\n    <tr>\n      <th>1</th>\n      <td>Zambia</td>\n      <td>32</td>\n      <td>19</td>\n      <td>4</td>\n      <td>2.5</td>\n      <td>Africa</td>\n    </tr>\n    <tr>\n      <th>2</th>\n      <td>Yemen</td>\n      <td>6</td>\n      <td>0</td>\n      <td>0</td>\n      <td>0.1</td>\n      <td>Asia</td>\n    </tr>\n    <tr>\n      <th>3</th>\n      <td>Vietnam</td>\n      <td>111</td>\n      <td>2</td>\n      <td>1</td>\n      <td>2.0</td>\n      <td>Asia</td>\n    </tr>\n    <tr>\n      <th>4</th>\n      <td>Venezuela</td>\n      <td>333</td>\n      <td>100</td>\n      <td>3</td>\n      <td>7.7</td>\n      <td>South America</td>\n    </tr>\n    <tr>\n      <th>...</th>\n      <td>...</td>\n      <td>...</td>\n      <td>...</td>\n      <td>...</td>\n      <td>...</td>\n      <td>...</td>\n    </tr>\n    <tr>\n      <th>188</th>\n      <td>Angola</td>\n      <td>217</td>\n      <td>57</td>\n      <td>45</td>\n      <td>5.9</td>\n      <td>Africa</td>\n    </tr>\n    <tr>\n      <th>189</th>\n      <td>Andorra</td>\n      <td>245</td>\n      <td>138</td>\n      <td>312</td>\n      <td>12.4</td>\n      <td>Europe</td>\n    </tr>\n    <tr>\n      <th>190</th>\n      <td>Algeria</td>\n      <td>25</td>\n      <td>0</td>\n      <td>14</td>\n      <td>0.7</td>\n      <td>Africa</td>\n    </tr>\n    <tr>\n      <th>191</th>\n      <td>Albania</td>\n      <td>89</td>\n      <td>132</td>\n      <td>54</td>\n      <td>4.9</td>\n      <td>Europe</td>\n    </tr>\n    <tr>\n      <th>192</th>\n      <td>Afghanistan</td>\n      <td>0</td>\n      <td>0</td>\n      <td>0</td>\n      <td>0.0</td>\n      <td>Asia</td>\n    </tr>\n  </tbody>\n</table>\n<p>193 rows × 6 columns</p>\n</div>"
     },
     "execution_count": 9,
     "metadata": {},
     "output_type": "execute_result"
    }
   ],
   "source": [
    "drinks.loc[::-1].reset_index(drop=True)"
   ],
   "metadata": {
    "collapsed": false,
    "ExecuteTime": {
     "end_time": "2024-04-01T16:16:58.159089Z",
     "start_time": "2024-04-01T16:16:58.149733Z"
    }
   },
   "id": "bf0ac7b4050484e7",
   "execution_count": 9
  },
  {
   "cell_type": "markdown",
   "source": [
    "# 5. Reverse column order"
   ],
   "metadata": {
    "collapsed": false
   },
   "id": "38be74dffee82ff3"
  },
  {
   "cell_type": "code",
   "outputs": [
    {
     "data": {
      "text/plain": "  continent  total_litres_of_pure_alcohol  wine_servings  spirit_servings  \\\n0      Asia                           0.0              0                0   \n1    Europe                           4.9             54              132   \n2    Africa                           0.7             14                0   \n3    Europe                          12.4            312              138   \n4    Africa                           5.9             45               57   \n\n   beer_servings      country  \n0              0  Afghanistan  \n1             89      Albania  \n2             25      Algeria  \n3            245      Andorra  \n4            217       Angola  ",
      "text/html": "<div>\n<style scoped>\n    .dataframe tbody tr th:only-of-type {\n        vertical-align: middle;\n    }\n\n    .dataframe tbody tr th {\n        vertical-align: top;\n    }\n\n    .dataframe thead th {\n        text-align: right;\n    }\n</style>\n<table border=\"1\" class=\"dataframe\">\n  <thead>\n    <tr style=\"text-align: right;\">\n      <th></th>\n      <th>continent</th>\n      <th>total_litres_of_pure_alcohol</th>\n      <th>wine_servings</th>\n      <th>spirit_servings</th>\n      <th>beer_servings</th>\n      <th>country</th>\n    </tr>\n  </thead>\n  <tbody>\n    <tr>\n      <th>0</th>\n      <td>Asia</td>\n      <td>0.0</td>\n      <td>0</td>\n      <td>0</td>\n      <td>0</td>\n      <td>Afghanistan</td>\n    </tr>\n    <tr>\n      <th>1</th>\n      <td>Europe</td>\n      <td>4.9</td>\n      <td>54</td>\n      <td>132</td>\n      <td>89</td>\n      <td>Albania</td>\n    </tr>\n    <tr>\n      <th>2</th>\n      <td>Africa</td>\n      <td>0.7</td>\n      <td>14</td>\n      <td>0</td>\n      <td>25</td>\n      <td>Algeria</td>\n    </tr>\n    <tr>\n      <th>3</th>\n      <td>Europe</td>\n      <td>12.4</td>\n      <td>312</td>\n      <td>138</td>\n      <td>245</td>\n      <td>Andorra</td>\n    </tr>\n    <tr>\n      <th>4</th>\n      <td>Africa</td>\n      <td>5.9</td>\n      <td>45</td>\n      <td>57</td>\n      <td>217</td>\n      <td>Angola</td>\n    </tr>\n  </tbody>\n</table>\n</div>"
     },
     "execution_count": 11,
     "metadata": {},
     "output_type": "execute_result"
    }
   ],
   "source": [
    "drinks.loc[:, ::-1].head()"
   ],
   "metadata": {
    "collapsed": false,
    "ExecuteTime": {
     "end_time": "2024-04-01T16:17:17.648714Z",
     "start_time": "2024-04-01T16:17:17.642085Z"
    }
   },
   "id": "759e08854f5d2524",
   "execution_count": 11
  },
  {
   "cell_type": "markdown",
   "source": [
    "# 6. Select columns by data type"
   ],
   "metadata": {
    "collapsed": false
   },
   "id": "9b45040f9b2689c2"
  },
  {
   "cell_type": "code",
   "outputs": [
    {
     "data": {
      "text/plain": "country                          object\nbeer_servings                     int64\nspirit_servings                   int64\nwine_servings                     int64\ntotal_litres_of_pure_alcohol    float64\ncontinent                        object\ndtype: object"
     },
     "execution_count": 12,
     "metadata": {},
     "output_type": "execute_result"
    }
   ],
   "source": [
    "drinks.dtypes"
   ],
   "metadata": {
    "collapsed": false,
    "ExecuteTime": {
     "end_time": "2024-04-01T16:18:02.263424Z",
     "start_time": "2024-04-01T16:18:02.258526Z"
    }
   },
   "id": "df436d54a61cf481",
   "execution_count": 12
  },
  {
   "cell_type": "code",
   "outputs": [
    {
     "data": {
      "text/plain": "   beer_servings  spirit_servings  wine_servings  total_litres_of_pure_alcohol\n0              0                0              0                           0.0\n1             89              132             54                           4.9\n2             25                0             14                           0.7\n3            245              138            312                          12.4\n4            217               57             45                           5.9",
      "text/html": "<div>\n<style scoped>\n    .dataframe tbody tr th:only-of-type {\n        vertical-align: middle;\n    }\n\n    .dataframe tbody tr th {\n        vertical-align: top;\n    }\n\n    .dataframe thead th {\n        text-align: right;\n    }\n</style>\n<table border=\"1\" class=\"dataframe\">\n  <thead>\n    <tr style=\"text-align: right;\">\n      <th></th>\n      <th>beer_servings</th>\n      <th>spirit_servings</th>\n      <th>wine_servings</th>\n      <th>total_litres_of_pure_alcohol</th>\n    </tr>\n  </thead>\n  <tbody>\n    <tr>\n      <th>0</th>\n      <td>0</td>\n      <td>0</td>\n      <td>0</td>\n      <td>0.0</td>\n    </tr>\n    <tr>\n      <th>1</th>\n      <td>89</td>\n      <td>132</td>\n      <td>54</td>\n      <td>4.9</td>\n    </tr>\n    <tr>\n      <th>2</th>\n      <td>25</td>\n      <td>0</td>\n      <td>14</td>\n      <td>0.7</td>\n    </tr>\n    <tr>\n      <th>3</th>\n      <td>245</td>\n      <td>138</td>\n      <td>312</td>\n      <td>12.4</td>\n    </tr>\n    <tr>\n      <th>4</th>\n      <td>217</td>\n      <td>57</td>\n      <td>45</td>\n      <td>5.9</td>\n    </tr>\n  </tbody>\n</table>\n</div>"
     },
     "execution_count": 14,
     "metadata": {},
     "output_type": "execute_result"
    }
   ],
   "source": [
    "drinks.select_dtypes(include='number').head()"
   ],
   "metadata": {
    "collapsed": false,
    "ExecuteTime": {
     "end_time": "2024-04-01T16:18:24.983348Z",
     "start_time": "2024-04-01T16:18:24.976353Z"
    }
   },
   "id": "c0a08e68f4ebe3cb",
   "execution_count": 14
  },
  {
   "cell_type": "code",
   "outputs": [
    {
     "data": {
      "text/plain": "       country continent\n0  Afghanistan      Asia\n1      Albania    Europe\n2      Algeria    Africa\n3      Andorra    Europe\n4       Angola    Africa",
      "text/html": "<div>\n<style scoped>\n    .dataframe tbody tr th:only-of-type {\n        vertical-align: middle;\n    }\n\n    .dataframe tbody tr th {\n        vertical-align: top;\n    }\n\n    .dataframe thead th {\n        text-align: right;\n    }\n</style>\n<table border=\"1\" class=\"dataframe\">\n  <thead>\n    <tr style=\"text-align: right;\">\n      <th></th>\n      <th>country</th>\n      <th>continent</th>\n    </tr>\n  </thead>\n  <tbody>\n    <tr>\n      <th>0</th>\n      <td>Afghanistan</td>\n      <td>Asia</td>\n    </tr>\n    <tr>\n      <th>1</th>\n      <td>Albania</td>\n      <td>Europe</td>\n    </tr>\n    <tr>\n      <th>2</th>\n      <td>Algeria</td>\n      <td>Africa</td>\n    </tr>\n    <tr>\n      <th>3</th>\n      <td>Andorra</td>\n      <td>Europe</td>\n    </tr>\n    <tr>\n      <th>4</th>\n      <td>Angola</td>\n      <td>Africa</td>\n    </tr>\n  </tbody>\n</table>\n</div>"
     },
     "execution_count": 16,
     "metadata": {},
     "output_type": "execute_result"
    }
   ],
   "source": [
    "drinks.select_dtypes(include='object').head()"
   ],
   "metadata": {
    "collapsed": false,
    "ExecuteTime": {
     "end_time": "2024-04-01T16:18:35.636723Z",
     "start_time": "2024-04-01T16:18:35.630648Z"
    }
   },
   "id": "26831aa984007ff",
   "execution_count": 16
  },
  {
   "cell_type": "code",
   "outputs": [
    {
     "data": {
      "text/plain": "       country  beer_servings  spirit_servings  wine_servings  \\\n0  Afghanistan              0                0              0   \n1      Albania             89              132             54   \n2      Algeria             25                0             14   \n3      Andorra            245              138            312   \n4       Angola            217               57             45   \n\n   total_litres_of_pure_alcohol continent  \n0                           0.0      Asia  \n1                           4.9    Europe  \n2                           0.7    Africa  \n3                          12.4    Europe  \n4                           5.9    Africa  ",
      "text/html": "<div>\n<style scoped>\n    .dataframe tbody tr th:only-of-type {\n        vertical-align: middle;\n    }\n\n    .dataframe tbody tr th {\n        vertical-align: top;\n    }\n\n    .dataframe thead th {\n        text-align: right;\n    }\n</style>\n<table border=\"1\" class=\"dataframe\">\n  <thead>\n    <tr style=\"text-align: right;\">\n      <th></th>\n      <th>country</th>\n      <th>beer_servings</th>\n      <th>spirit_servings</th>\n      <th>wine_servings</th>\n      <th>total_litres_of_pure_alcohol</th>\n      <th>continent</th>\n    </tr>\n  </thead>\n  <tbody>\n    <tr>\n      <th>0</th>\n      <td>Afghanistan</td>\n      <td>0</td>\n      <td>0</td>\n      <td>0</td>\n      <td>0.0</td>\n      <td>Asia</td>\n    </tr>\n    <tr>\n      <th>1</th>\n      <td>Albania</td>\n      <td>89</td>\n      <td>132</td>\n      <td>54</td>\n      <td>4.9</td>\n      <td>Europe</td>\n    </tr>\n    <tr>\n      <th>2</th>\n      <td>Algeria</td>\n      <td>25</td>\n      <td>0</td>\n      <td>14</td>\n      <td>0.7</td>\n      <td>Africa</td>\n    </tr>\n    <tr>\n      <th>3</th>\n      <td>Andorra</td>\n      <td>245</td>\n      <td>138</td>\n      <td>312</td>\n      <td>12.4</td>\n      <td>Europe</td>\n    </tr>\n    <tr>\n      <th>4</th>\n      <td>Angola</td>\n      <td>217</td>\n      <td>57</td>\n      <td>45</td>\n      <td>5.9</td>\n      <td>Africa</td>\n    </tr>\n  </tbody>\n</table>\n</div>"
     },
     "execution_count": 18,
     "metadata": {},
     "output_type": "execute_result"
    }
   ],
   "source": [
    "drinks.select_dtypes(include=['number', 'object','category', 'datetime']).head()"
   ],
   "metadata": {
    "collapsed": false,
    "ExecuteTime": {
     "end_time": "2024-04-01T16:18:59.014739Z",
     "start_time": "2024-04-01T16:18:59.007580Z"
    }
   },
   "id": "d81182f2b7ce3eb7",
   "execution_count": 18
  },
  {
   "cell_type": "code",
   "outputs": [
    {
     "data": {
      "text/plain": "       country continent\n0  Afghanistan      Asia\n1      Albania    Europe\n2      Algeria    Africa\n3      Andorra    Europe\n4       Angola    Africa",
      "text/html": "<div>\n<style scoped>\n    .dataframe tbody tr th:only-of-type {\n        vertical-align: middle;\n    }\n\n    .dataframe tbody tr th {\n        vertical-align: top;\n    }\n\n    .dataframe thead th {\n        text-align: right;\n    }\n</style>\n<table border=\"1\" class=\"dataframe\">\n  <thead>\n    <tr style=\"text-align: right;\">\n      <th></th>\n      <th>country</th>\n      <th>continent</th>\n    </tr>\n  </thead>\n  <tbody>\n    <tr>\n      <th>0</th>\n      <td>Afghanistan</td>\n      <td>Asia</td>\n    </tr>\n    <tr>\n      <th>1</th>\n      <td>Albania</td>\n      <td>Europe</td>\n    </tr>\n    <tr>\n      <th>2</th>\n      <td>Algeria</td>\n      <td>Africa</td>\n    </tr>\n    <tr>\n      <th>3</th>\n      <td>Andorra</td>\n      <td>Europe</td>\n    </tr>\n    <tr>\n      <th>4</th>\n      <td>Angola</td>\n      <td>Africa</td>\n    </tr>\n  </tbody>\n</table>\n</div>"
     },
     "execution_count": 20,
     "metadata": {},
     "output_type": "execute_result"
    }
   ],
   "source": [
    "drinks.select_dtypes(exclude='number').head()"
   ],
   "metadata": {
    "collapsed": false,
    "ExecuteTime": {
     "end_time": "2024-04-01T16:19:08.952357Z",
     "start_time": "2024-04-01T16:19:08.946294Z"
    }
   },
   "id": "5b3db24fe10f6b51",
   "execution_count": 20
  },
  {
   "cell_type": "markdown",
   "source": [
    "# 7. Convert strings to numbers"
   ],
   "metadata": {
    "collapsed": false
   },
   "id": "a56d622e3a297e0"
  },
  {
   "cell_type": "code",
   "outputs": [
    {
     "data": {
      "text/plain": "  col_one col_two col_three\n0     1.1     4.4       7.7\n1     2.2     5.5       8.8\n2     3.3     6.6         -",
      "text/html": "<div>\n<style scoped>\n    .dataframe tbody tr th:only-of-type {\n        vertical-align: middle;\n    }\n\n    .dataframe tbody tr th {\n        vertical-align: top;\n    }\n\n    .dataframe thead th {\n        text-align: right;\n    }\n</style>\n<table border=\"1\" class=\"dataframe\">\n  <thead>\n    <tr style=\"text-align: right;\">\n      <th></th>\n      <th>col_one</th>\n      <th>col_two</th>\n      <th>col_three</th>\n    </tr>\n  </thead>\n  <tbody>\n    <tr>\n      <th>0</th>\n      <td>1.1</td>\n      <td>4.4</td>\n      <td>7.7</td>\n    </tr>\n    <tr>\n      <th>1</th>\n      <td>2.2</td>\n      <td>5.5</td>\n      <td>8.8</td>\n    </tr>\n    <tr>\n      <th>2</th>\n      <td>3.3</td>\n      <td>6.6</td>\n      <td>-</td>\n    </tr>\n  </tbody>\n</table>\n</div>"
     },
     "execution_count": 22,
     "metadata": {},
     "output_type": "execute_result"
    }
   ],
   "source": [
    "df = pd.DataFrame({'col_one': ['1.1', '2.2', '3.3'],\n",
    "                   'col_two': ['4.4', '5.5', '6.6'],\n",
    "                   'col_three': ['7.7', '8.8', '-']})\n",
    "df"
   ],
   "metadata": {
    "collapsed": false,
    "ExecuteTime": {
     "end_time": "2024-04-01T16:19:44.773636Z",
     "start_time": "2024-04-01T16:19:44.766856Z"
    }
   },
   "id": "9ed8fd26e6d09049",
   "execution_count": 22
  },
  {
   "cell_type": "code",
   "outputs": [
    {
     "data": {
      "text/plain": "col_one      object\ncol_two      object\ncol_three    object\ndtype: object"
     },
     "execution_count": 23,
     "metadata": {},
     "output_type": "execute_result"
    }
   ],
   "source": [
    "df.dtypes"
   ],
   "metadata": {
    "collapsed": false,
    "ExecuteTime": {
     "end_time": "2024-04-01T16:21:06.933907Z",
     "start_time": "2024-04-01T16:21:06.929259Z"
    }
   },
   "id": "935d067d94e169e1",
   "execution_count": 23
  },
  {
   "cell_type": "code",
   "outputs": [
    {
     "data": {
      "text/plain": "col_one      float64\ncol_two      float64\ncol_three     object\ndtype: object"
     },
     "execution_count": 26,
     "metadata": {},
     "output_type": "execute_result"
    }
   ],
   "source": [
    "df.astype({'col_one': 'float', 'col_two': 'float'}).dtypes"
   ],
   "metadata": {
    "collapsed": false,
    "ExecuteTime": {
     "end_time": "2024-04-01T16:22:09.657005Z",
     "start_time": "2024-04-01T16:22:09.650855Z"
    }
   },
   "id": "33f51f054441295e",
   "execution_count": 26
  },
  {
   "cell_type": "code",
   "outputs": [
    {
     "data": {
      "text/plain": "0    7.7\n1    8.8\n2    0.0\nName: col_three, dtype: float64"
     },
     "execution_count": 29,
     "metadata": {},
     "output_type": "execute_result"
    }
   ],
   "source": [
    "pd.to_numeric(df.col_three, errors='coerce').fillna(0)"
   ],
   "metadata": {
    "collapsed": false,
    "ExecuteTime": {
     "end_time": "2024-04-01T16:22:35.956848Z",
     "start_time": "2024-04-01T16:22:35.951762Z"
    }
   },
   "id": "6fda64715887842c",
   "execution_count": 29
  },
  {
   "cell_type": "code",
   "outputs": [
    {
     "data": {
      "text/plain": "   col_one  col_two  col_three\n0      1.1      4.4        7.7\n1      2.2      5.5        8.8\n2      3.3      6.6        0.0",
      "text/html": "<div>\n<style scoped>\n    .dataframe tbody tr th:only-of-type {\n        vertical-align: middle;\n    }\n\n    .dataframe tbody tr th {\n        vertical-align: top;\n    }\n\n    .dataframe thead th {\n        text-align: right;\n    }\n</style>\n<table border=\"1\" class=\"dataframe\">\n  <thead>\n    <tr style=\"text-align: right;\">\n      <th></th>\n      <th>col_one</th>\n      <th>col_two</th>\n      <th>col_three</th>\n    </tr>\n  </thead>\n  <tbody>\n    <tr>\n      <th>0</th>\n      <td>1.1</td>\n      <td>4.4</td>\n      <td>7.7</td>\n    </tr>\n    <tr>\n      <th>1</th>\n      <td>2.2</td>\n      <td>5.5</td>\n      <td>8.8</td>\n    </tr>\n    <tr>\n      <th>2</th>\n      <td>3.3</td>\n      <td>6.6</td>\n      <td>0.0</td>\n    </tr>\n  </tbody>\n</table>\n</div>"
     },
     "execution_count": 31,
     "metadata": {},
     "output_type": "execute_result"
    }
   ],
   "source": [
    "df = df.apply(pd.to_numeric, errors='coerce').fillna(0)\n",
    "df"
   ],
   "metadata": {
    "collapsed": false,
    "ExecuteTime": {
     "end_time": "2024-04-01T16:23:14.726518Z",
     "start_time": "2024-04-01T16:23:14.719954Z"
    }
   },
   "id": "391c0d3e6b236141",
   "execution_count": 31
  },
  {
   "cell_type": "markdown",
   "source": [
    "# 8. Reduce DataFrame size"
   ],
   "metadata": {
    "collapsed": false
   },
   "id": "97cfed889c05a2b7"
  },
  {
   "cell_type": "code",
   "outputs": [
    {
     "name": "stdout",
     "output_type": "stream",
     "text": [
      "<class 'pandas.core.frame.DataFrame'>\n",
      "RangeIndex: 193 entries, 0 to 192\n",
      "Data columns (total 6 columns):\n",
      " #   Column                        Non-Null Count  Dtype  \n",
      "---  ------                        --------------  -----  \n",
      " 0   country                       193 non-null    object \n",
      " 1   beer_servings                 193 non-null    int64  \n",
      " 2   spirit_servings               193 non-null    int64  \n",
      " 3   wine_servings                 193 non-null    int64  \n",
      " 4   total_litres_of_pure_alcohol  193 non-null    float64\n",
      " 5   continent                     193 non-null    object \n",
      "dtypes: float64(1), int64(3), object(2)\n",
      "memory usage: 27.5 KB\n"
     ]
    }
   ],
   "source": [
    "drinks.info(memory_usage='deep')"
   ],
   "metadata": {
    "collapsed": false,
    "ExecuteTime": {
     "end_time": "2024-04-01T16:23:50.044700Z",
     "start_time": "2024-04-01T16:23:50.039536Z"
    }
   },
   "id": "9fd5cda7fc40e226",
   "execution_count": 33
  },
  {
   "cell_type": "code",
   "outputs": [
    {
     "name": "stdout",
     "output_type": "stream",
     "text": [
      "<class 'pandas.core.frame.DataFrame'>\n",
      "RangeIndex: 193 entries, 0 to 192\n",
      "Data columns (total 2 columns):\n",
      " #   Column         Non-Null Count  Dtype \n",
      "---  ------         --------------  ----- \n",
      " 0   beer_servings  193 non-null    int64 \n",
      " 1   continent      193 non-null    object\n",
      "dtypes: int64(1), object(1)\n",
      "memory usage: 12.2 KB\n"
     ]
    }
   ],
   "source": [
    "cols = ['beer_servings', 'continent']\n",
    "small_drinks = pd.read_csv(drinks_path, usecols=cols)\n",
    "small_drinks.info(memory_usage='deep')"
   ],
   "metadata": {
    "collapsed": false,
    "ExecuteTime": {
     "end_time": "2024-04-01T16:24:19.391066Z",
     "start_time": "2024-04-01T16:24:19.384460Z"
    }
   },
   "id": "36e0ae0fcea8ba3f",
   "execution_count": 35
  },
  {
   "cell_type": "code",
   "outputs": [
    {
     "name": "stdout",
     "output_type": "stream",
     "text": [
      "<class 'pandas.core.frame.DataFrame'>\n",
      "RangeIndex: 193 entries, 0 to 192\n",
      "Data columns (total 2 columns):\n",
      " #   Column         Non-Null Count  Dtype   \n",
      "---  ------         --------------  -----   \n",
      " 0   beer_servings  193 non-null    int64   \n",
      " 1   continent      193 non-null    category\n",
      "dtypes: category(1), int64(1)\n",
      "memory usage: 2.3 KB\n"
     ]
    }
   ],
   "source": [
    "dtypes = {'continent': 'category'}\n",
    "small_drinks = pd.read_csv(drinks_path, usecols=cols, dtype=dtypes)\n",
    "small_drinks.info(memory_usage='deep')"
   ],
   "metadata": {
    "collapsed": false,
    "ExecuteTime": {
     "end_time": "2024-04-01T16:24:47.106744Z",
     "start_time": "2024-04-01T16:24:47.099458Z"
    }
   },
   "id": "4269c9071c83b3fb",
   "execution_count": 37
  },
  {
   "cell_type": "markdown",
   "source": [
    "# 9. Build a DataFrame from multiple files (row-wise)"
   ],
   "metadata": {
    "collapsed": false
   },
   "id": "219f4d0210c2842b"
  },
  {
   "cell_type": "code",
   "outputs": [],
   "source": [
    "stocks1_path = r'F:\\DataSpell\\Pandas_training\\from_youtube_video\\data\\pandas-videos-master\\stocks1.csv'\n",
    "stocks2_path = r'F:\\DataSpell\\Pandas_training\\from_youtube_video\\data\\pandas-videos-master\\stocks2.csv'\n",
    "stocks3_path = r'F:\\DataSpell\\Pandas_training\\from_youtube_video\\data\\pandas-videos-master\\stocks3.csv'"
   ],
   "metadata": {
    "collapsed": false,
    "ExecuteTime": {
     "end_time": "2024-04-01T16:27:06.027492Z",
     "start_time": "2024-04-01T16:27:06.024231Z"
    }
   },
   "id": "23b47e1050a8a99f",
   "execution_count": 43
  },
  {
   "cell_type": "code",
   "outputs": [
    {
     "data": {
      "text/plain": "         Date   Close    Volume Symbol\n0  2016-10-03   31.50  14070500   CSCO\n1  2016-10-03  112.52  21701800   AAPL\n2  2016-10-03   57.42  19189500   MSFT",
      "text/html": "<div>\n<style scoped>\n    .dataframe tbody tr th:only-of-type {\n        vertical-align: middle;\n    }\n\n    .dataframe tbody tr th {\n        vertical-align: top;\n    }\n\n    .dataframe thead th {\n        text-align: right;\n    }\n</style>\n<table border=\"1\" class=\"dataframe\">\n  <thead>\n    <tr style=\"text-align: right;\">\n      <th></th>\n      <th>Date</th>\n      <th>Close</th>\n      <th>Volume</th>\n      <th>Symbol</th>\n    </tr>\n  </thead>\n  <tbody>\n    <tr>\n      <th>0</th>\n      <td>2016-10-03</td>\n      <td>31.50</td>\n      <td>14070500</td>\n      <td>CSCO</td>\n    </tr>\n    <tr>\n      <th>1</th>\n      <td>2016-10-03</td>\n      <td>112.52</td>\n      <td>21701800</td>\n      <td>AAPL</td>\n    </tr>\n    <tr>\n      <th>2</th>\n      <td>2016-10-03</td>\n      <td>57.42</td>\n      <td>19189500</td>\n      <td>MSFT</td>\n    </tr>\n  </tbody>\n</table>\n</div>"
     },
     "execution_count": 44,
     "metadata": {},
     "output_type": "execute_result"
    }
   ],
   "source": [
    "pd.read_csv(stocks1_path)"
   ],
   "metadata": {
    "collapsed": false,
    "ExecuteTime": {
     "end_time": "2024-04-01T16:27:06.366531Z",
     "start_time": "2024-04-01T16:27:06.357282Z"
    }
   },
   "id": "f36e01b633bb0fb5",
   "execution_count": 44
  },
  {
   "cell_type": "code",
   "outputs": [
    {
     "data": {
      "text/plain": "         Date   Close    Volume Symbol\n0  2016-10-04  113.00  29736800   AAPL\n1  2016-10-04   57.24  20085900   MSFT\n2  2016-10-04   31.35  18460400   CSCO",
      "text/html": "<div>\n<style scoped>\n    .dataframe tbody tr th:only-of-type {\n        vertical-align: middle;\n    }\n\n    .dataframe tbody tr th {\n        vertical-align: top;\n    }\n\n    .dataframe thead th {\n        text-align: right;\n    }\n</style>\n<table border=\"1\" class=\"dataframe\">\n  <thead>\n    <tr style=\"text-align: right;\">\n      <th></th>\n      <th>Date</th>\n      <th>Close</th>\n      <th>Volume</th>\n      <th>Symbol</th>\n    </tr>\n  </thead>\n  <tbody>\n    <tr>\n      <th>0</th>\n      <td>2016-10-04</td>\n      <td>113.00</td>\n      <td>29736800</td>\n      <td>AAPL</td>\n    </tr>\n    <tr>\n      <th>1</th>\n      <td>2016-10-04</td>\n      <td>57.24</td>\n      <td>20085900</td>\n      <td>MSFT</td>\n    </tr>\n    <tr>\n      <th>2</th>\n      <td>2016-10-04</td>\n      <td>31.35</td>\n      <td>18460400</td>\n      <td>CSCO</td>\n    </tr>\n  </tbody>\n</table>\n</div>"
     },
     "execution_count": 45,
     "metadata": {},
     "output_type": "execute_result"
    }
   ],
   "source": [
    "pd.read_csv(stocks2_path)"
   ],
   "metadata": {
    "collapsed": false,
    "ExecuteTime": {
     "end_time": "2024-04-01T16:27:07.356250Z",
     "start_time": "2024-04-01T16:27:07.344216Z"
    }
   },
   "id": "381be5057a8226bf",
   "execution_count": 45
  },
  {
   "cell_type": "code",
   "outputs": [
    {
     "data": {
      "text/plain": "         Date   Close    Volume Symbol\n0  2016-10-05   57.64  16726400   MSFT\n1  2016-10-05   31.59  11808600   CSCO\n2  2016-10-05  113.05  21453100   AAPL",
      "text/html": "<div>\n<style scoped>\n    .dataframe tbody tr th:only-of-type {\n        vertical-align: middle;\n    }\n\n    .dataframe tbody tr th {\n        vertical-align: top;\n    }\n\n    .dataframe thead th {\n        text-align: right;\n    }\n</style>\n<table border=\"1\" class=\"dataframe\">\n  <thead>\n    <tr style=\"text-align: right;\">\n      <th></th>\n      <th>Date</th>\n      <th>Close</th>\n      <th>Volume</th>\n      <th>Symbol</th>\n    </tr>\n  </thead>\n  <tbody>\n    <tr>\n      <th>0</th>\n      <td>2016-10-05</td>\n      <td>57.64</td>\n      <td>16726400</td>\n      <td>MSFT</td>\n    </tr>\n    <tr>\n      <th>1</th>\n      <td>2016-10-05</td>\n      <td>31.59</td>\n      <td>11808600</td>\n      <td>CSCO</td>\n    </tr>\n    <tr>\n      <th>2</th>\n      <td>2016-10-05</td>\n      <td>113.05</td>\n      <td>21453100</td>\n      <td>AAPL</td>\n    </tr>\n  </tbody>\n</table>\n</div>"
     },
     "execution_count": 46,
     "metadata": {},
     "output_type": "execute_result"
    }
   ],
   "source": [
    "pd.read_csv(stocks3_path)"
   ],
   "metadata": {
    "collapsed": false,
    "ExecuteTime": {
     "end_time": "2024-04-01T16:27:08.093587Z",
     "start_time": "2024-04-01T16:27:08.084906Z"
    }
   },
   "id": "5dccbec12a96cf71",
   "execution_count": 46
  },
  {
   "cell_type": "code",
   "outputs": [],
   "source": [
    "from glob import glob"
   ],
   "metadata": {
    "collapsed": false,
    "ExecuteTime": {
     "end_time": "2024-04-01T16:26:20.841115Z",
     "start_time": "2024-04-01T16:26:20.837424Z"
    }
   },
   "id": "1cb541d3d358e1f6",
   "execution_count": 41
  },
  {
   "cell_type": "code",
   "outputs": [
    {
     "data": {
      "text/plain": "['F:\\\\DataSpell\\\\Pandas_training\\\\from_youtube_video\\\\data\\\\pandas-videos-master\\\\stocks.csv',\n 'F:\\\\DataSpell\\\\Pandas_training\\\\from_youtube_video\\\\data\\\\pandas-videos-master\\\\stocks1.csv',\n 'F:\\\\DataSpell\\\\Pandas_training\\\\from_youtube_video\\\\data\\\\pandas-videos-master\\\\stocks2.csv',\n 'F:\\\\DataSpell\\\\Pandas_training\\\\from_youtube_video\\\\data\\\\pandas-videos-master\\\\stocks3.csv']"
     },
     "execution_count": 47,
     "metadata": {},
     "output_type": "execute_result"
    }
   ],
   "source": [
    "stocks_pattern = r'F:\\DataSpell\\Pandas_training\\from_youtube_video\\data\\pandas-videos-master\\stocks*.csv'\n",
    "stock_files = sorted(glob(stocks_pattern))\n",
    "stock_files"
   ],
   "metadata": {
    "collapsed": false,
    "ExecuteTime": {
     "end_time": "2024-04-01T16:27:50.936331Z",
     "start_time": "2024-04-01T16:27:50.931770Z"
    }
   },
   "id": "247d469804b832a9",
   "execution_count": 47
  },
  {
   "cell_type": "code",
   "outputs": [
    {
     "data": {
      "text/plain": "          Date   Close    Volume Symbol\n0   2016-10-03   31.50  14070500   CSCO\n1   2016-10-03  112.52  21701800   AAPL\n2   2016-10-03   57.42  19189500   MSFT\n3   2016-10-04  113.00  29736800   AAPL\n4   2016-10-04   57.24  20085900   MSFT\n5   2016-10-04   31.35  18460400   CSCO\n6   2016-10-05   57.64  16726400   MSFT\n7   2016-10-05   31.59  11808600   CSCO\n8   2016-10-05  113.05  21453100   AAPL\n9   2016-10-03   31.50  14070500   CSCO\n10  2016-10-03  112.52  21701800   AAPL\n11  2016-10-03   57.42  19189500   MSFT\n12  2016-10-04  113.00  29736800   AAPL\n13  2016-10-04   57.24  20085900   MSFT\n14  2016-10-04   31.35  18460400   CSCO\n15  2016-10-05   57.64  16726400   MSFT\n16  2016-10-05   31.59  11808600   CSCO\n17  2016-10-05  113.05  21453100   AAPL",
      "text/html": "<div>\n<style scoped>\n    .dataframe tbody tr th:only-of-type {\n        vertical-align: middle;\n    }\n\n    .dataframe tbody tr th {\n        vertical-align: top;\n    }\n\n    .dataframe thead th {\n        text-align: right;\n    }\n</style>\n<table border=\"1\" class=\"dataframe\">\n  <thead>\n    <tr style=\"text-align: right;\">\n      <th></th>\n      <th>Date</th>\n      <th>Close</th>\n      <th>Volume</th>\n      <th>Symbol</th>\n    </tr>\n  </thead>\n  <tbody>\n    <tr>\n      <th>0</th>\n      <td>2016-10-03</td>\n      <td>31.50</td>\n      <td>14070500</td>\n      <td>CSCO</td>\n    </tr>\n    <tr>\n      <th>1</th>\n      <td>2016-10-03</td>\n      <td>112.52</td>\n      <td>21701800</td>\n      <td>AAPL</td>\n    </tr>\n    <tr>\n      <th>2</th>\n      <td>2016-10-03</td>\n      <td>57.42</td>\n      <td>19189500</td>\n      <td>MSFT</td>\n    </tr>\n    <tr>\n      <th>3</th>\n      <td>2016-10-04</td>\n      <td>113.00</td>\n      <td>29736800</td>\n      <td>AAPL</td>\n    </tr>\n    <tr>\n      <th>4</th>\n      <td>2016-10-04</td>\n      <td>57.24</td>\n      <td>20085900</td>\n      <td>MSFT</td>\n    </tr>\n    <tr>\n      <th>5</th>\n      <td>2016-10-04</td>\n      <td>31.35</td>\n      <td>18460400</td>\n      <td>CSCO</td>\n    </tr>\n    <tr>\n      <th>6</th>\n      <td>2016-10-05</td>\n      <td>57.64</td>\n      <td>16726400</td>\n      <td>MSFT</td>\n    </tr>\n    <tr>\n      <th>7</th>\n      <td>2016-10-05</td>\n      <td>31.59</td>\n      <td>11808600</td>\n      <td>CSCO</td>\n    </tr>\n    <tr>\n      <th>8</th>\n      <td>2016-10-05</td>\n      <td>113.05</td>\n      <td>21453100</td>\n      <td>AAPL</td>\n    </tr>\n    <tr>\n      <th>9</th>\n      <td>2016-10-03</td>\n      <td>31.50</td>\n      <td>14070500</td>\n      <td>CSCO</td>\n    </tr>\n    <tr>\n      <th>10</th>\n      <td>2016-10-03</td>\n      <td>112.52</td>\n      <td>21701800</td>\n      <td>AAPL</td>\n    </tr>\n    <tr>\n      <th>11</th>\n      <td>2016-10-03</td>\n      <td>57.42</td>\n      <td>19189500</td>\n      <td>MSFT</td>\n    </tr>\n    <tr>\n      <th>12</th>\n      <td>2016-10-04</td>\n      <td>113.00</td>\n      <td>29736800</td>\n      <td>AAPL</td>\n    </tr>\n    <tr>\n      <th>13</th>\n      <td>2016-10-04</td>\n      <td>57.24</td>\n      <td>20085900</td>\n      <td>MSFT</td>\n    </tr>\n    <tr>\n      <th>14</th>\n      <td>2016-10-04</td>\n      <td>31.35</td>\n      <td>18460400</td>\n      <td>CSCO</td>\n    </tr>\n    <tr>\n      <th>15</th>\n      <td>2016-10-05</td>\n      <td>57.64</td>\n      <td>16726400</td>\n      <td>MSFT</td>\n    </tr>\n    <tr>\n      <th>16</th>\n      <td>2016-10-05</td>\n      <td>31.59</td>\n      <td>11808600</td>\n      <td>CSCO</td>\n    </tr>\n    <tr>\n      <th>17</th>\n      <td>2016-10-05</td>\n      <td>113.05</td>\n      <td>21453100</td>\n      <td>AAPL</td>\n    </tr>\n  </tbody>\n</table>\n</div>"
     },
     "execution_count": 50,
     "metadata": {},
     "output_type": "execute_result"
    }
   ],
   "source": [
    "pd.concat((pd.read_csv(file) for file in stock_files), ignore_index=True)"
   ],
   "metadata": {
    "collapsed": false,
    "ExecuteTime": {
     "end_time": "2024-04-01T16:30:30.667526Z",
     "start_time": "2024-04-01T16:30:30.656090Z"
    }
   },
   "id": "2f97fafd3da8fd78",
   "execution_count": 50
  },
  {
   "cell_type": "markdown",
   "source": [
    "# 10. Build a DataFrame from multiple files (column-wise)"
   ],
   "metadata": {
    "collapsed": false
   },
   "id": "1d3ed1fc202106c"
  },
  {
   "cell_type": "code",
   "outputs": [
    {
     "data": {
      "text/plain": "         country  beer_servings  spirit_servings\n0    Afghanistan              0                0\n1        Albania             89              132\n2        Algeria             25                0\n3        Andorra            245              138\n4         Angola            217               57\n..           ...            ...              ...\n188    Venezuela            333              100\n189      Vietnam            111                2\n190        Yemen              6                0\n191       Zambia             32               19\n192     Zimbabwe             64               18\n\n[193 rows x 3 columns]",
      "text/html": "<div>\n<style scoped>\n    .dataframe tbody tr th:only-of-type {\n        vertical-align: middle;\n    }\n\n    .dataframe tbody tr th {\n        vertical-align: top;\n    }\n\n    .dataframe thead th {\n        text-align: right;\n    }\n</style>\n<table border=\"1\" class=\"dataframe\">\n  <thead>\n    <tr style=\"text-align: right;\">\n      <th></th>\n      <th>country</th>\n      <th>beer_servings</th>\n      <th>spirit_servings</th>\n    </tr>\n  </thead>\n  <tbody>\n    <tr>\n      <th>0</th>\n      <td>Afghanistan</td>\n      <td>0</td>\n      <td>0</td>\n    </tr>\n    <tr>\n      <th>1</th>\n      <td>Albania</td>\n      <td>89</td>\n      <td>132</td>\n    </tr>\n    <tr>\n      <th>2</th>\n      <td>Algeria</td>\n      <td>25</td>\n      <td>0</td>\n    </tr>\n    <tr>\n      <th>3</th>\n      <td>Andorra</td>\n      <td>245</td>\n      <td>138</td>\n    </tr>\n    <tr>\n      <th>4</th>\n      <td>Angola</td>\n      <td>217</td>\n      <td>57</td>\n    </tr>\n    <tr>\n      <th>...</th>\n      <td>...</td>\n      <td>...</td>\n      <td>...</td>\n    </tr>\n    <tr>\n      <th>188</th>\n      <td>Venezuela</td>\n      <td>333</td>\n      <td>100</td>\n    </tr>\n    <tr>\n      <th>189</th>\n      <td>Vietnam</td>\n      <td>111</td>\n      <td>2</td>\n    </tr>\n    <tr>\n      <th>190</th>\n      <td>Yemen</td>\n      <td>6</td>\n      <td>0</td>\n    </tr>\n    <tr>\n      <th>191</th>\n      <td>Zambia</td>\n      <td>32</td>\n      <td>19</td>\n    </tr>\n    <tr>\n      <th>192</th>\n      <td>Zimbabwe</td>\n      <td>64</td>\n      <td>18</td>\n    </tr>\n  </tbody>\n</table>\n<p>193 rows × 3 columns</p>\n</div>"
     },
     "execution_count": 53,
     "metadata": {},
     "output_type": "execute_result"
    }
   ],
   "source": [
    "pd.read_csv(r'F:\\DataSpell\\Pandas_training\\from_youtube_video\\data\\pandas-videos-master\\drinks1.csv')"
   ],
   "metadata": {
    "collapsed": false,
    "ExecuteTime": {
     "end_time": "2024-04-01T16:31:31.027571Z",
     "start_time": "2024-04-01T16:31:31.013550Z"
    }
   },
   "id": "992eca61aae6928e",
   "execution_count": 53
  },
  {
   "cell_type": "code",
   "outputs": [
    {
     "data": {
      "text/plain": "     wine_servings  total_litres_of_pure_alcohol      continent\n0                0                           0.0           Asia\n1               54                           4.9         Europe\n2               14                           0.7         Africa\n3              312                          12.4         Europe\n4               45                           5.9         Africa\n..             ...                           ...            ...\n188              3                           7.7  South America\n189              1                           2.0           Asia\n190              0                           0.1           Asia\n191              4                           2.5         Africa\n192              4                           4.7         Africa\n\n[193 rows x 3 columns]",
      "text/html": "<div>\n<style scoped>\n    .dataframe tbody tr th:only-of-type {\n        vertical-align: middle;\n    }\n\n    .dataframe tbody tr th {\n        vertical-align: top;\n    }\n\n    .dataframe thead th {\n        text-align: right;\n    }\n</style>\n<table border=\"1\" class=\"dataframe\">\n  <thead>\n    <tr style=\"text-align: right;\">\n      <th></th>\n      <th>wine_servings</th>\n      <th>total_litres_of_pure_alcohol</th>\n      <th>continent</th>\n    </tr>\n  </thead>\n  <tbody>\n    <tr>\n      <th>0</th>\n      <td>0</td>\n      <td>0.0</td>\n      <td>Asia</td>\n    </tr>\n    <tr>\n      <th>1</th>\n      <td>54</td>\n      <td>4.9</td>\n      <td>Europe</td>\n    </tr>\n    <tr>\n      <th>2</th>\n      <td>14</td>\n      <td>0.7</td>\n      <td>Africa</td>\n    </tr>\n    <tr>\n      <th>3</th>\n      <td>312</td>\n      <td>12.4</td>\n      <td>Europe</td>\n    </tr>\n    <tr>\n      <th>4</th>\n      <td>45</td>\n      <td>5.9</td>\n      <td>Africa</td>\n    </tr>\n    <tr>\n      <th>...</th>\n      <td>...</td>\n      <td>...</td>\n      <td>...</td>\n    </tr>\n    <tr>\n      <th>188</th>\n      <td>3</td>\n      <td>7.7</td>\n      <td>South America</td>\n    </tr>\n    <tr>\n      <th>189</th>\n      <td>1</td>\n      <td>2.0</td>\n      <td>Asia</td>\n    </tr>\n    <tr>\n      <th>190</th>\n      <td>0</td>\n      <td>0.1</td>\n      <td>Asia</td>\n    </tr>\n    <tr>\n      <th>191</th>\n      <td>4</td>\n      <td>2.5</td>\n      <td>Africa</td>\n    </tr>\n    <tr>\n      <th>192</th>\n      <td>4</td>\n      <td>4.7</td>\n      <td>Africa</td>\n    </tr>\n  </tbody>\n</table>\n<p>193 rows × 3 columns</p>\n</div>"
     },
     "execution_count": 52,
     "metadata": {},
     "output_type": "execute_result"
    }
   ],
   "source": [
    "pd.read_csv(r'F:\\DataSpell\\Pandas_training\\from_youtube_video\\data\\pandas-videos-master\\drinks2.csv')"
   ],
   "metadata": {
    "collapsed": false,
    "ExecuteTime": {
     "end_time": "2024-04-01T16:31:18.485780Z",
     "start_time": "2024-04-01T16:31:18.475986Z"
    }
   },
   "id": "530476d57fb204bc",
   "execution_count": 52
  },
  {
   "cell_type": "code",
   "outputs": [],
   "source": [
    "drinks_path = r'F:\\DataSpell\\Pandas_training\\from_youtube_video\\data\\pandas-videos-master\\drinks*.csv'"
   ],
   "metadata": {
    "collapsed": false
   },
   "id": "8c146ea431327cb1"
  },
  {
   "cell_type": "code",
   "outputs": [
    {
     "data": {
      "text/plain": "['F:\\\\DataSpell\\\\Pandas_training\\\\from_youtube_video\\\\data\\\\pandas-videos-master\\\\drinks.csv']"
     },
     "execution_count": 54,
     "metadata": {},
     "output_type": "execute_result"
    }
   ],
   "source": [
    "drinks_files = sorted(glob(drinks_path))\n",
    "drinks_files"
   ],
   "metadata": {
    "collapsed": false,
    "ExecuteTime": {
     "end_time": "2024-04-01T16:32:47.466656Z",
     "start_time": "2024-04-01T16:32:47.461646Z"
    }
   },
   "id": "5d0e2d70b8672824",
   "execution_count": 54
  },
  {
   "cell_type": "code",
   "outputs": [
    {
     "data": {
      "text/plain": "         country  beer_servings  spirit_servings  wine_servings  \\\n0    Afghanistan              0                0              0   \n1        Albania             89              132             54   \n2        Algeria             25                0             14   \n3        Andorra            245              138            312   \n4         Angola            217               57             45   \n..           ...            ...              ...            ...   \n188    Venezuela            333              100              3   \n189      Vietnam            111                2              1   \n190        Yemen              6                0              0   \n191       Zambia             32               19              4   \n192     Zimbabwe             64               18              4   \n\n     total_litres_of_pure_alcohol      continent  \n0                             0.0           Asia  \n1                             4.9         Europe  \n2                             0.7         Africa  \n3                            12.4         Europe  \n4                             5.9         Africa  \n..                            ...            ...  \n188                           7.7  South America  \n189                           2.0           Asia  \n190                           0.1           Asia  \n191                           2.5         Africa  \n192                           4.7         Africa  \n\n[193 rows x 6 columns]",
      "text/html": "<div>\n<style scoped>\n    .dataframe tbody tr th:only-of-type {\n        vertical-align: middle;\n    }\n\n    .dataframe tbody tr th {\n        vertical-align: top;\n    }\n\n    .dataframe thead th {\n        text-align: right;\n    }\n</style>\n<table border=\"1\" class=\"dataframe\">\n  <thead>\n    <tr style=\"text-align: right;\">\n      <th></th>\n      <th>country</th>\n      <th>beer_servings</th>\n      <th>spirit_servings</th>\n      <th>wine_servings</th>\n      <th>total_litres_of_pure_alcohol</th>\n      <th>continent</th>\n    </tr>\n  </thead>\n  <tbody>\n    <tr>\n      <th>0</th>\n      <td>Afghanistan</td>\n      <td>0</td>\n      <td>0</td>\n      <td>0</td>\n      <td>0.0</td>\n      <td>Asia</td>\n    </tr>\n    <tr>\n      <th>1</th>\n      <td>Albania</td>\n      <td>89</td>\n      <td>132</td>\n      <td>54</td>\n      <td>4.9</td>\n      <td>Europe</td>\n    </tr>\n    <tr>\n      <th>2</th>\n      <td>Algeria</td>\n      <td>25</td>\n      <td>0</td>\n      <td>14</td>\n      <td>0.7</td>\n      <td>Africa</td>\n    </tr>\n    <tr>\n      <th>3</th>\n      <td>Andorra</td>\n      <td>245</td>\n      <td>138</td>\n      <td>312</td>\n      <td>12.4</td>\n      <td>Europe</td>\n    </tr>\n    <tr>\n      <th>4</th>\n      <td>Angola</td>\n      <td>217</td>\n      <td>57</td>\n      <td>45</td>\n      <td>5.9</td>\n      <td>Africa</td>\n    </tr>\n    <tr>\n      <th>...</th>\n      <td>...</td>\n      <td>...</td>\n      <td>...</td>\n      <td>...</td>\n      <td>...</td>\n      <td>...</td>\n    </tr>\n    <tr>\n      <th>188</th>\n      <td>Venezuela</td>\n      <td>333</td>\n      <td>100</td>\n      <td>3</td>\n      <td>7.7</td>\n      <td>South America</td>\n    </tr>\n    <tr>\n      <th>189</th>\n      <td>Vietnam</td>\n      <td>111</td>\n      <td>2</td>\n      <td>1</td>\n      <td>2.0</td>\n      <td>Asia</td>\n    </tr>\n    <tr>\n      <th>190</th>\n      <td>Yemen</td>\n      <td>6</td>\n      <td>0</td>\n      <td>0</td>\n      <td>0.1</td>\n      <td>Asia</td>\n    </tr>\n    <tr>\n      <th>191</th>\n      <td>Zambia</td>\n      <td>32</td>\n      <td>19</td>\n      <td>4</td>\n      <td>2.5</td>\n      <td>Africa</td>\n    </tr>\n    <tr>\n      <th>192</th>\n      <td>Zimbabwe</td>\n      <td>64</td>\n      <td>18</td>\n      <td>4</td>\n      <td>4.7</td>\n      <td>Africa</td>\n    </tr>\n  </tbody>\n</table>\n<p>193 rows × 6 columns</p>\n</div>"
     },
     "execution_count": 56,
     "metadata": {},
     "output_type": "execute_result"
    }
   ],
   "source": [
    "pd.concat((pd.read_csv(file) for file in drinks_files), axis='columns')"
   ],
   "metadata": {
    "collapsed": false,
    "ExecuteTime": {
     "end_time": "2024-04-01T16:34:34.750148Z",
     "start_time": "2024-04-01T16:34:34.740324Z"
    }
   },
   "id": "b7d271e9ad9885bf",
   "execution_count": 56
  },
  {
   "cell_type": "markdown",
   "source": [
    "# 11. Create a DataFrame from the clipboard"
   ],
   "metadata": {
    "collapsed": false
   },
   "id": "3b715638aed2733d"
  },
  {
   "cell_type": "code",
   "outputs": [
    {
     "data": {
      "text/plain": "Empty DataFrame\nColumns: [The, pd.read_clipboard(), function, is, a, part, of, the, pandas, library, in, Python,, which, is.1, widely, used, for, data, manipulation, and, analysis., This, particular, function.1, reads, the.1, contents, of.1, your, clipboard, and.1, attempts, to, convert, it, into, a.1, pandas.1, DataFrame., Essentially,, it's, a.2, quick, and.2, convenient, way, to.1, import, tabular, data.1, (like, a.3, table, copied, from, a.4, web, page, or, a.5, spreadsheet), directly, into.1, a.6, DataFrame, without, needing, to.2, save, it.1, to.3, a.7, file, first.]\nIndex: []\n\n[0 rows x 74 columns]",
      "text/html": "<div>\n<style scoped>\n    .dataframe tbody tr th:only-of-type {\n        vertical-align: middle;\n    }\n\n    .dataframe tbody tr th {\n        vertical-align: top;\n    }\n\n    .dataframe thead th {\n        text-align: right;\n    }\n</style>\n<table border=\"1\" class=\"dataframe\">\n  <thead>\n    <tr style=\"text-align: right;\">\n      <th></th>\n      <th>The</th>\n      <th>pd.read_clipboard()</th>\n      <th>function</th>\n      <th>is</th>\n      <th>a</th>\n      <th>part</th>\n      <th>of</th>\n      <th>the</th>\n      <th>pandas</th>\n      <th>library</th>\n      <th>...</th>\n      <th>DataFrame</th>\n      <th>without</th>\n      <th>needing</th>\n      <th>to.2</th>\n      <th>save</th>\n      <th>it.1</th>\n      <th>to.3</th>\n      <th>a.7</th>\n      <th>file</th>\n      <th>first.</th>\n    </tr>\n  </thead>\n  <tbody>\n  </tbody>\n</table>\n<p>0 rows × 74 columns</p>\n</div>"
     },
     "execution_count": 59,
     "metadata": {},
     "output_type": "execute_result"
    }
   ],
   "source": [
    "df = pd.read_clipboard()\n",
    "df"
   ],
   "metadata": {
    "collapsed": false,
    "ExecuteTime": {
     "end_time": "2024-04-01T16:41:18.346788Z",
     "start_time": "2024-04-01T16:41:18.335266Z"
    }
   },
   "id": "c64b6c5ba15b467f",
   "execution_count": 59
  },
  {
   "cell_type": "markdown",
   "source": [
    "# 12. Split a DataFrame into two random subsets"
   ],
   "metadata": {
    "collapsed": false
   },
   "id": "edd92b0cda449af"
  },
  {
   "cell_type": "code",
   "outputs": [],
   "source": [
    "movies_path = r'F:\\DataSpell\\Pandas_training\\from_youtube_video\\data\\pandas-videos-master\\imdb_1000.csv'"
   ],
   "metadata": {
    "collapsed": false,
    "ExecuteTime": {
     "end_time": "2024-04-01T16:41:52.019900Z",
     "start_time": "2024-04-01T16:41:52.016597Z"
    }
   },
   "id": "5d544fced1841b23",
   "execution_count": 60
  },
  {
   "cell_type": "code",
   "outputs": [],
   "source": [
    "movies = pd.read_csv(movies_path)"
   ],
   "metadata": {
    "collapsed": false,
    "ExecuteTime": {
     "end_time": "2024-04-01T16:41:54.031137Z",
     "start_time": "2024-04-01T16:41:54.024590Z"
    }
   },
   "id": "a8df295cfd0d549b",
   "execution_count": 61
  },
  {
   "cell_type": "code",
   "outputs": [
    {
     "data": {
      "text/plain": "     star_rating                                              title  \\\n905          7.5                                            Dracula   \n882          7.5                                              Mulan   \n368          8.0                                 Planet of the Apes   \n853          7.5                                    L'illusionniste   \n85           8.4                                 Lawrence of Arabia   \n..           ...                                                ...   \n891          7.5             Harry Potter and the Half-Blood Prince   \n10           8.8  The Lord of the Rings: The Fellowship of the Ring   \n959          7.4                               Deconstructing Harry   \n540          7.8                                   The Color Purple   \n251          8.1                   The Man Who Shot Liberty Valance   \n\n    content_rating      genre  duration  \\\n905              R     Horror       128   \n882              G  Animation        88   \n368              G  Adventure       112   \n853             PG  Animation        80   \n85              PG  Adventure       216   \n..             ...        ...       ...   \n891             PG  Adventure       153   \n10           PG-13  Adventure       178   \n959              R     Comedy        96   \n540          PG-13      Drama       154   \n251       APPROVED      Drama       123   \n\n                                           actors_list  \n905  [u'Gary Oldman', u'Winona Ryder', u'Anthony Ho...  \n882      [u'Ming-Na Wen', u'Eddie Murphy', u'BD Wong']  \n368  [u'Charlton Heston', u'Roddy McDowall', u'Kim ...  \n853  [u'Jean-Claude Donda', u'Eilidh Rankin', u'Dun...  \n85   [u\"Peter O'Toole\", u'Alec Guinness', u'Anthony...  \n..                                                 ...  \n891  [u'Daniel Radcliffe', u'Emma Watson', u'Rupert...  \n10   [u'Elijah Wood', u'Ian McKellen', u'Orlando Bl...  \n959  [u'Woody Allen', u'Judy Davis', u'Julia Louis-...  \n540  [u'Danny Glover', u'Whoopi Goldberg', u'Oprah ...  \n251   [u'James Stewart', u'John Wayne', u'Vera Miles']  \n\n[734 rows x 6 columns]",
      "text/html": "<div>\n<style scoped>\n    .dataframe tbody tr th:only-of-type {\n        vertical-align: middle;\n    }\n\n    .dataframe tbody tr th {\n        vertical-align: top;\n    }\n\n    .dataframe thead th {\n        text-align: right;\n    }\n</style>\n<table border=\"1\" class=\"dataframe\">\n  <thead>\n    <tr style=\"text-align: right;\">\n      <th></th>\n      <th>star_rating</th>\n      <th>title</th>\n      <th>content_rating</th>\n      <th>genre</th>\n      <th>duration</th>\n      <th>actors_list</th>\n    </tr>\n  </thead>\n  <tbody>\n    <tr>\n      <th>905</th>\n      <td>7.5</td>\n      <td>Dracula</td>\n      <td>R</td>\n      <td>Horror</td>\n      <td>128</td>\n      <td>[u'Gary Oldman', u'Winona Ryder', u'Anthony Ho...</td>\n    </tr>\n    <tr>\n      <th>882</th>\n      <td>7.5</td>\n      <td>Mulan</td>\n      <td>G</td>\n      <td>Animation</td>\n      <td>88</td>\n      <td>[u'Ming-Na Wen', u'Eddie Murphy', u'BD Wong']</td>\n    </tr>\n    <tr>\n      <th>368</th>\n      <td>8.0</td>\n      <td>Planet of the Apes</td>\n      <td>G</td>\n      <td>Adventure</td>\n      <td>112</td>\n      <td>[u'Charlton Heston', u'Roddy McDowall', u'Kim ...</td>\n    </tr>\n    <tr>\n      <th>853</th>\n      <td>7.5</td>\n      <td>L'illusionniste</td>\n      <td>PG</td>\n      <td>Animation</td>\n      <td>80</td>\n      <td>[u'Jean-Claude Donda', u'Eilidh Rankin', u'Dun...</td>\n    </tr>\n    <tr>\n      <th>85</th>\n      <td>8.4</td>\n      <td>Lawrence of Arabia</td>\n      <td>PG</td>\n      <td>Adventure</td>\n      <td>216</td>\n      <td>[u\"Peter O'Toole\", u'Alec Guinness', u'Anthony...</td>\n    </tr>\n    <tr>\n      <th>...</th>\n      <td>...</td>\n      <td>...</td>\n      <td>...</td>\n      <td>...</td>\n      <td>...</td>\n      <td>...</td>\n    </tr>\n    <tr>\n      <th>891</th>\n      <td>7.5</td>\n      <td>Harry Potter and the Half-Blood Prince</td>\n      <td>PG</td>\n      <td>Adventure</td>\n      <td>153</td>\n      <td>[u'Daniel Radcliffe', u'Emma Watson', u'Rupert...</td>\n    </tr>\n    <tr>\n      <th>10</th>\n      <td>8.8</td>\n      <td>The Lord of the Rings: The Fellowship of the Ring</td>\n      <td>PG-13</td>\n      <td>Adventure</td>\n      <td>178</td>\n      <td>[u'Elijah Wood', u'Ian McKellen', u'Orlando Bl...</td>\n    </tr>\n    <tr>\n      <th>959</th>\n      <td>7.4</td>\n      <td>Deconstructing Harry</td>\n      <td>R</td>\n      <td>Comedy</td>\n      <td>96</td>\n      <td>[u'Woody Allen', u'Judy Davis', u'Julia Louis-...</td>\n    </tr>\n    <tr>\n      <th>540</th>\n      <td>7.8</td>\n      <td>The Color Purple</td>\n      <td>PG-13</td>\n      <td>Drama</td>\n      <td>154</td>\n      <td>[u'Danny Glover', u'Whoopi Goldberg', u'Oprah ...</td>\n    </tr>\n    <tr>\n      <th>251</th>\n      <td>8.1</td>\n      <td>The Man Who Shot Liberty Valance</td>\n      <td>APPROVED</td>\n      <td>Drama</td>\n      <td>123</td>\n      <td>[u'James Stewart', u'John Wayne', u'Vera Miles']</td>\n    </tr>\n  </tbody>\n</table>\n<p>734 rows × 6 columns</p>\n</div>"
     },
     "execution_count": 63,
     "metadata": {},
     "output_type": "execute_result"
    }
   ],
   "source": [
    "movies_1 = movies.sample(frac=0.75, random_state=123)\n",
    "movies_1"
   ],
   "metadata": {
    "collapsed": false,
    "ExecuteTime": {
     "end_time": "2024-04-01T16:42:25.207846Z",
     "start_time": "2024-04-01T16:42:25.199778Z"
    }
   },
   "id": "6f096b7513399003",
   "execution_count": 63
  },
  {
   "cell_type": "code",
   "outputs": [
    {
     "data": {
      "text/plain": "     star_rating                                  title content_rating  \\\n2            9.1                 The Godfather: Part II              R   \n3            9.0                        The Dark Knight          PG-13   \n8            8.9                       Schindler's List              R   \n14           8.8  The Lord of the Rings: The Two Towers          PG-13   \n16           8.7        One Flew Over the Cuckoo's Nest              R   \n..           ...                                    ...            ...   \n961          7.4                                 Capote              R   \n970          7.4                            Wonder Boys              R   \n972          7.4                         Blue Valentine          NC-17   \n975          7.4            Back to the Future Part III             PG   \n977          7.4                            Poltergeist             PG   \n\n         genre  duration                                        actors_list  \n2        Crime       200  [u'Al Pacino', u'Robert De Niro', u'Robert Duv...  \n3       Action       152  [u'Christian Bale', u'Heath Ledger', u'Aaron E...  \n8    Biography       195  [u'Liam Neeson', u'Ralph Fiennes', u'Ben Kings...  \n14   Adventure       179  [u'Elijah Wood', u'Ian McKellen', u'Viggo Mort...  \n16       Drama       133  [u'Jack Nicholson', u'Louise Fletcher', u'Mich...  \n..         ...       ...                                                ...  \n961  Biography       114  [u'Philip Seymour Hoffman', u'Clifton Collins ...  \n970      Drama       107  [u'Michael Douglas', u'Tobey Maguire', u'Franc...  \n972      Drama       112  [u'Ryan Gosling', u'Michelle Williams', u'John...  \n975  Adventure       118  [u'Michael J. Fox', u'Christopher Lloyd', u'Ma...  \n977     Horror       114  [u'JoBeth Williams', u\"Heather O'Rourke\", u'Cr...  \n\n[245 rows x 6 columns]",
      "text/html": "<div>\n<style scoped>\n    .dataframe tbody tr th:only-of-type {\n        vertical-align: middle;\n    }\n\n    .dataframe tbody tr th {\n        vertical-align: top;\n    }\n\n    .dataframe thead th {\n        text-align: right;\n    }\n</style>\n<table border=\"1\" class=\"dataframe\">\n  <thead>\n    <tr style=\"text-align: right;\">\n      <th></th>\n      <th>star_rating</th>\n      <th>title</th>\n      <th>content_rating</th>\n      <th>genre</th>\n      <th>duration</th>\n      <th>actors_list</th>\n    </tr>\n  </thead>\n  <tbody>\n    <tr>\n      <th>2</th>\n      <td>9.1</td>\n      <td>The Godfather: Part II</td>\n      <td>R</td>\n      <td>Crime</td>\n      <td>200</td>\n      <td>[u'Al Pacino', u'Robert De Niro', u'Robert Duv...</td>\n    </tr>\n    <tr>\n      <th>3</th>\n      <td>9.0</td>\n      <td>The Dark Knight</td>\n      <td>PG-13</td>\n      <td>Action</td>\n      <td>152</td>\n      <td>[u'Christian Bale', u'Heath Ledger', u'Aaron E...</td>\n    </tr>\n    <tr>\n      <th>8</th>\n      <td>8.9</td>\n      <td>Schindler's List</td>\n      <td>R</td>\n      <td>Biography</td>\n      <td>195</td>\n      <td>[u'Liam Neeson', u'Ralph Fiennes', u'Ben Kings...</td>\n    </tr>\n    <tr>\n      <th>14</th>\n      <td>8.8</td>\n      <td>The Lord of the Rings: The Two Towers</td>\n      <td>PG-13</td>\n      <td>Adventure</td>\n      <td>179</td>\n      <td>[u'Elijah Wood', u'Ian McKellen', u'Viggo Mort...</td>\n    </tr>\n    <tr>\n      <th>16</th>\n      <td>8.7</td>\n      <td>One Flew Over the Cuckoo's Nest</td>\n      <td>R</td>\n      <td>Drama</td>\n      <td>133</td>\n      <td>[u'Jack Nicholson', u'Louise Fletcher', u'Mich...</td>\n    </tr>\n    <tr>\n      <th>...</th>\n      <td>...</td>\n      <td>...</td>\n      <td>...</td>\n      <td>...</td>\n      <td>...</td>\n      <td>...</td>\n    </tr>\n    <tr>\n      <th>961</th>\n      <td>7.4</td>\n      <td>Capote</td>\n      <td>R</td>\n      <td>Biography</td>\n      <td>114</td>\n      <td>[u'Philip Seymour Hoffman', u'Clifton Collins ...</td>\n    </tr>\n    <tr>\n      <th>970</th>\n      <td>7.4</td>\n      <td>Wonder Boys</td>\n      <td>R</td>\n      <td>Drama</td>\n      <td>107</td>\n      <td>[u'Michael Douglas', u'Tobey Maguire', u'Franc...</td>\n    </tr>\n    <tr>\n      <th>972</th>\n      <td>7.4</td>\n      <td>Blue Valentine</td>\n      <td>NC-17</td>\n      <td>Drama</td>\n      <td>112</td>\n      <td>[u'Ryan Gosling', u'Michelle Williams', u'John...</td>\n    </tr>\n    <tr>\n      <th>975</th>\n      <td>7.4</td>\n      <td>Back to the Future Part III</td>\n      <td>PG</td>\n      <td>Adventure</td>\n      <td>118</td>\n      <td>[u'Michael J. Fox', u'Christopher Lloyd', u'Ma...</td>\n    </tr>\n    <tr>\n      <th>977</th>\n      <td>7.4</td>\n      <td>Poltergeist</td>\n      <td>PG</td>\n      <td>Horror</td>\n      <td>114</td>\n      <td>[u'JoBeth Williams', u\"Heather O'Rourke\", u'Cr...</td>\n    </tr>\n  </tbody>\n</table>\n<p>245 rows × 6 columns</p>\n</div>"
     },
     "execution_count": 65,
     "metadata": {},
     "output_type": "execute_result"
    }
   ],
   "source": [
    "movies_2 = movies.drop(movies_1.index)\n",
    "movies_2"
   ],
   "metadata": {
    "collapsed": false,
    "ExecuteTime": {
     "end_time": "2024-04-01T16:42:36.014476Z",
     "start_time": "2024-04-01T16:42:36.006137Z"
    }
   },
   "id": "4d3141b8b9b9e800",
   "execution_count": 65
  },
  {
   "cell_type": "markdown",
   "source": [
    "# 13. Filter a DataFrame by multiple categories"
   ],
   "metadata": {
    "collapsed": false
   },
   "id": "89f15349380ba6ec"
  },
  {
   "cell_type": "code",
   "outputs": [
    {
     "data": {
      "text/plain": "array(['Crime', 'Action', 'Drama', 'Western', 'Adventure', 'Biography',\n       'Comedy', 'Animation', 'Mystery', 'Horror', 'Film-Noir', 'Sci-Fi',\n       'History', 'Thriller', 'Family', 'Fantasy'], dtype=object)"
     },
     "execution_count": 67,
     "metadata": {},
     "output_type": "execute_result"
    }
   ],
   "source": [
    "movies.genre.unique()"
   ],
   "metadata": {
    "collapsed": false,
    "ExecuteTime": {
     "end_time": "2024-04-01T16:43:30.815263Z",
     "start_time": "2024-04-01T16:43:30.810953Z"
    }
   },
   "id": "d2640b3944310b45",
   "execution_count": 67
  },
  {
   "cell_type": "code",
   "outputs": [
    {
     "data": {
      "text/plain": "     star_rating                                            title  \\\n0            9.3                         The Shawshank Redemption   \n1            9.2                                    The Godfather   \n2            9.1                           The Godfather: Part II   \n3            9.0                                  The Dark Knight   \n4            8.9                                     Pulp Fiction   \n..           ...                                              ...   \n970          7.4                                      Wonder Boys   \n972          7.4                                   Blue Valentine   \n973          7.4                            The Cider House Rules   \n976          7.4  Master and Commander: The Far Side of the World   \n978          7.4                                      Wall Street   \n\n    content_rating   genre  duration  \\\n0                R   Crime       142   \n1                R   Crime       175   \n2                R   Crime       200   \n3            PG-13  Action       152   \n4                R   Crime       154   \n..             ...     ...       ...   \n970              R   Drama       107   \n972          NC-17   Drama       112   \n973          PG-13   Drama       126   \n976          PG-13  Action       138   \n978              R   Crime       126   \n\n                                           actors_list  \n0    [u'Tim Robbins', u'Morgan Freeman', u'Bob Gunt...  \n1      [u'Marlon Brando', u'Al Pacino', u'James Caan']  \n2    [u'Al Pacino', u'Robert De Niro', u'Robert Duv...  \n3    [u'Christian Bale', u'Heath Ledger', u'Aaron E...  \n4    [u'John Travolta', u'Uma Thurman', u'Samuel L....  \n..                                                 ...  \n970  [u'Michael Douglas', u'Tobey Maguire', u'Franc...  \n972  [u'Ryan Gosling', u'Michelle Williams', u'John...  \n973  [u'Tobey Maguire', u'Charlize Theron', u'Micha...  \n976  [u'Russell Crowe', u'Paul Bettany', u'Billy Bo...  \n978  [u'Charlie Sheen', u'Michael Douglas', u'Tamar...  \n\n[538 rows x 6 columns]",
      "text/html": "<div>\n<style scoped>\n    .dataframe tbody tr th:only-of-type {\n        vertical-align: middle;\n    }\n\n    .dataframe tbody tr th {\n        vertical-align: top;\n    }\n\n    .dataframe thead th {\n        text-align: right;\n    }\n</style>\n<table border=\"1\" class=\"dataframe\">\n  <thead>\n    <tr style=\"text-align: right;\">\n      <th></th>\n      <th>star_rating</th>\n      <th>title</th>\n      <th>content_rating</th>\n      <th>genre</th>\n      <th>duration</th>\n      <th>actors_list</th>\n    </tr>\n  </thead>\n  <tbody>\n    <tr>\n      <th>0</th>\n      <td>9.3</td>\n      <td>The Shawshank Redemption</td>\n      <td>R</td>\n      <td>Crime</td>\n      <td>142</td>\n      <td>[u'Tim Robbins', u'Morgan Freeman', u'Bob Gunt...</td>\n    </tr>\n    <tr>\n      <th>1</th>\n      <td>9.2</td>\n      <td>The Godfather</td>\n      <td>R</td>\n      <td>Crime</td>\n      <td>175</td>\n      <td>[u'Marlon Brando', u'Al Pacino', u'James Caan']</td>\n    </tr>\n    <tr>\n      <th>2</th>\n      <td>9.1</td>\n      <td>The Godfather: Part II</td>\n      <td>R</td>\n      <td>Crime</td>\n      <td>200</td>\n      <td>[u'Al Pacino', u'Robert De Niro', u'Robert Duv...</td>\n    </tr>\n    <tr>\n      <th>3</th>\n      <td>9.0</td>\n      <td>The Dark Knight</td>\n      <td>PG-13</td>\n      <td>Action</td>\n      <td>152</td>\n      <td>[u'Christian Bale', u'Heath Ledger', u'Aaron E...</td>\n    </tr>\n    <tr>\n      <th>4</th>\n      <td>8.9</td>\n      <td>Pulp Fiction</td>\n      <td>R</td>\n      <td>Crime</td>\n      <td>154</td>\n      <td>[u'John Travolta', u'Uma Thurman', u'Samuel L....</td>\n    </tr>\n    <tr>\n      <th>...</th>\n      <td>...</td>\n      <td>...</td>\n      <td>...</td>\n      <td>...</td>\n      <td>...</td>\n      <td>...</td>\n    </tr>\n    <tr>\n      <th>970</th>\n      <td>7.4</td>\n      <td>Wonder Boys</td>\n      <td>R</td>\n      <td>Drama</td>\n      <td>107</td>\n      <td>[u'Michael Douglas', u'Tobey Maguire', u'Franc...</td>\n    </tr>\n    <tr>\n      <th>972</th>\n      <td>7.4</td>\n      <td>Blue Valentine</td>\n      <td>NC-17</td>\n      <td>Drama</td>\n      <td>112</td>\n      <td>[u'Ryan Gosling', u'Michelle Williams', u'John...</td>\n    </tr>\n    <tr>\n      <th>973</th>\n      <td>7.4</td>\n      <td>The Cider House Rules</td>\n      <td>PG-13</td>\n      <td>Drama</td>\n      <td>126</td>\n      <td>[u'Tobey Maguire', u'Charlize Theron', u'Micha...</td>\n    </tr>\n    <tr>\n      <th>976</th>\n      <td>7.4</td>\n      <td>Master and Commander: The Far Side of the World</td>\n      <td>PG-13</td>\n      <td>Action</td>\n      <td>138</td>\n      <td>[u'Russell Crowe', u'Paul Bettany', u'Billy Bo...</td>\n    </tr>\n    <tr>\n      <th>978</th>\n      <td>7.4</td>\n      <td>Wall Street</td>\n      <td>R</td>\n      <td>Crime</td>\n      <td>126</td>\n      <td>[u'Charlie Sheen', u'Michael Douglas', u'Tamar...</td>\n    </tr>\n  </tbody>\n</table>\n<p>538 rows × 6 columns</p>\n</div>"
     },
     "execution_count": 68,
     "metadata": {},
     "output_type": "execute_result"
    }
   ],
   "source": [
    "movies[movies.genre.isin(['Crime', 'Drama', 'Action'])]"
   ],
   "metadata": {
    "collapsed": false,
    "ExecuteTime": {
     "end_time": "2024-04-01T16:43:34.377252Z",
     "start_time": "2024-04-01T16:43:34.369524Z"
    }
   },
   "id": "1e0046dda120aabf",
   "execution_count": 68
  },
  {
   "cell_type": "code",
   "outputs": [
    {
     "data": {
      "text/plain": "     star_rating                                              title  \\\n6            8.9                     The Good, the Bad and the Ugly   \n7            8.9      The Lord of the Rings: The Return of the King   \n8            8.9                                   Schindler's List   \n10           8.8  The Lord of the Rings: The Fellowship of the Ring   \n14           8.8              The Lord of the Rings: The Two Towers   \n..           ...                                                ...   \n966          7.4                                 The Simpsons Movie   \n971          7.4                                 Death at a Funeral   \n974          7.4                                            Tootsie   \n975          7.4                        Back to the Future Part III   \n977          7.4                                        Poltergeist   \n\n    content_rating      genre  duration  \\\n6        NOT RATED    Western       161   \n7            PG-13  Adventure       201   \n8                R  Biography       195   \n10           PG-13  Adventure       178   \n14           PG-13  Adventure       179   \n..             ...        ...       ...   \n966          PG-13  Animation        87   \n971              R     Comedy        90   \n974             PG     Comedy       116   \n975             PG  Adventure       118   \n977             PG     Horror       114   \n\n                                           actors_list  \n6    [u'Clint Eastwood', u'Eli Wallach', u'Lee Van ...  \n7    [u'Elijah Wood', u'Viggo Mortensen', u'Ian McK...  \n8    [u'Liam Neeson', u'Ralph Fiennes', u'Ben Kings...  \n10   [u'Elijah Wood', u'Ian McKellen', u'Orlando Bl...  \n14   [u'Elijah Wood', u'Ian McKellen', u'Viggo Mort...  \n..                                                 ...  \n966  [u'Dan Castellaneta', u'Julie Kavner', u'Nancy...  \n971  [u'Matthew Macfadyen', u'Peter Dinklage', u'Ew...  \n974  [u'Dustin Hoffman', u'Jessica Lange', u'Teri G...  \n975  [u'Michael J. Fox', u'Christopher Lloyd', u'Ma...  \n977  [u'JoBeth Williams', u\"Heather O'Rourke\", u'Cr...  \n\n[441 rows x 6 columns]",
      "text/html": "<div>\n<style scoped>\n    .dataframe tbody tr th:only-of-type {\n        vertical-align: middle;\n    }\n\n    .dataframe tbody tr th {\n        vertical-align: top;\n    }\n\n    .dataframe thead th {\n        text-align: right;\n    }\n</style>\n<table border=\"1\" class=\"dataframe\">\n  <thead>\n    <tr style=\"text-align: right;\">\n      <th></th>\n      <th>star_rating</th>\n      <th>title</th>\n      <th>content_rating</th>\n      <th>genre</th>\n      <th>duration</th>\n      <th>actors_list</th>\n    </tr>\n  </thead>\n  <tbody>\n    <tr>\n      <th>6</th>\n      <td>8.9</td>\n      <td>The Good, the Bad and the Ugly</td>\n      <td>NOT RATED</td>\n      <td>Western</td>\n      <td>161</td>\n      <td>[u'Clint Eastwood', u'Eli Wallach', u'Lee Van ...</td>\n    </tr>\n    <tr>\n      <th>7</th>\n      <td>8.9</td>\n      <td>The Lord of the Rings: The Return of the King</td>\n      <td>PG-13</td>\n      <td>Adventure</td>\n      <td>201</td>\n      <td>[u'Elijah Wood', u'Viggo Mortensen', u'Ian McK...</td>\n    </tr>\n    <tr>\n      <th>8</th>\n      <td>8.9</td>\n      <td>Schindler's List</td>\n      <td>R</td>\n      <td>Biography</td>\n      <td>195</td>\n      <td>[u'Liam Neeson', u'Ralph Fiennes', u'Ben Kings...</td>\n    </tr>\n    <tr>\n      <th>10</th>\n      <td>8.8</td>\n      <td>The Lord of the Rings: The Fellowship of the Ring</td>\n      <td>PG-13</td>\n      <td>Adventure</td>\n      <td>178</td>\n      <td>[u'Elijah Wood', u'Ian McKellen', u'Orlando Bl...</td>\n    </tr>\n    <tr>\n      <th>14</th>\n      <td>8.8</td>\n      <td>The Lord of the Rings: The Two Towers</td>\n      <td>PG-13</td>\n      <td>Adventure</td>\n      <td>179</td>\n      <td>[u'Elijah Wood', u'Ian McKellen', u'Viggo Mort...</td>\n    </tr>\n    <tr>\n      <th>...</th>\n      <td>...</td>\n      <td>...</td>\n      <td>...</td>\n      <td>...</td>\n      <td>...</td>\n      <td>...</td>\n    </tr>\n    <tr>\n      <th>966</th>\n      <td>7.4</td>\n      <td>The Simpsons Movie</td>\n      <td>PG-13</td>\n      <td>Animation</td>\n      <td>87</td>\n      <td>[u'Dan Castellaneta', u'Julie Kavner', u'Nancy...</td>\n    </tr>\n    <tr>\n      <th>971</th>\n      <td>7.4</td>\n      <td>Death at a Funeral</td>\n      <td>R</td>\n      <td>Comedy</td>\n      <td>90</td>\n      <td>[u'Matthew Macfadyen', u'Peter Dinklage', u'Ew...</td>\n    </tr>\n    <tr>\n      <th>974</th>\n      <td>7.4</td>\n      <td>Tootsie</td>\n      <td>PG</td>\n      <td>Comedy</td>\n      <td>116</td>\n      <td>[u'Dustin Hoffman', u'Jessica Lange', u'Teri G...</td>\n    </tr>\n    <tr>\n      <th>975</th>\n      <td>7.4</td>\n      <td>Back to the Future Part III</td>\n      <td>PG</td>\n      <td>Adventure</td>\n      <td>118</td>\n      <td>[u'Michael J. Fox', u'Christopher Lloyd', u'Ma...</td>\n    </tr>\n    <tr>\n      <th>977</th>\n      <td>7.4</td>\n      <td>Poltergeist</td>\n      <td>PG</td>\n      <td>Horror</td>\n      <td>114</td>\n      <td>[u'JoBeth Williams', u\"Heather O'Rourke\", u'Cr...</td>\n    </tr>\n  </tbody>\n</table>\n<p>441 rows × 6 columns</p>\n</div>"
     },
     "execution_count": 69,
     "metadata": {},
     "output_type": "execute_result"
    }
   ],
   "source": [
    "movies[~movies.genre.isin(['Crime', 'Drama', 'Action'])]"
   ],
   "metadata": {
    "collapsed": false,
    "ExecuteTime": {
     "end_time": "2024-04-01T16:43:45.091218Z",
     "start_time": "2024-04-01T16:43:45.083596Z"
    }
   },
   "id": "e4ba2ea9d4330cde",
   "execution_count": 69
  },
  {
   "cell_type": "markdown",
   "source": [
    "# 14. Filter a DataFrame by largest categories"
   ],
   "metadata": {
    "collapsed": false
   },
   "id": "b53ce59aebc4b65e"
  },
  {
   "cell_type": "code",
   "outputs": [
    {
     "data": {
      "text/plain": "genre\nDrama        278\nComedy       156\nAction       136\nCrime        124\nBiography     77\nAdventure     75\nAnimation     62\nHorror        29\nMystery       16\nWestern        9\nSci-Fi         5\nThriller       5\nFilm-Noir      3\nFamily         2\nHistory        1\nFantasy        1\nName: count, dtype: int64"
     },
     "execution_count": 71,
     "metadata": {},
     "output_type": "execute_result"
    }
   ],
   "source": [
    "counts = movies.genre.value_counts()\n",
    "counts"
   ],
   "metadata": {
    "collapsed": false,
    "ExecuteTime": {
     "end_time": "2024-04-01T16:44:16.270769Z",
     "start_time": "2024-04-01T16:44:16.266019Z"
    }
   },
   "id": "1028cb3cb2e6256a",
   "execution_count": 71
  },
  {
   "cell_type": "code",
   "outputs": [
    {
     "data": {
      "text/plain": "Index(['Drama', 'Comedy', 'Action'], dtype='object', name='genre')"
     },
     "execution_count": 73,
     "metadata": {},
     "output_type": "execute_result"
    }
   ],
   "source": [
    "counts.nlargest(3).index"
   ],
   "metadata": {
    "collapsed": false,
    "ExecuteTime": {
     "end_time": "2024-04-01T16:44:44.652472Z",
     "start_time": "2024-04-01T16:44:44.647461Z"
    }
   },
   "id": "453d6f191648915e",
   "execution_count": 73
  },
  {
   "cell_type": "code",
   "outputs": [
    {
     "data": {
      "text/plain": "     star_rating                                            title  \\\n3            9.0                                  The Dark Knight   \n5            8.9                                     12 Angry Men   \n9            8.9                                       Fight Club   \n11           8.8                                        Inception   \n12           8.8   Star Wars: Episode V - The Empire Strikes Back   \n..           ...                                              ...   \n971          7.4                               Death at a Funeral   \n972          7.4                                   Blue Valentine   \n973          7.4                            The Cider House Rules   \n974          7.4                                          Tootsie   \n976          7.4  Master and Commander: The Far Side of the World   \n\n    content_rating   genre  duration  \\\n3            PG-13  Action       152   \n5        NOT RATED   Drama        96   \n9                R   Drama       139   \n11           PG-13  Action       148   \n12              PG  Action       124   \n..             ...     ...       ...   \n971              R  Comedy        90   \n972          NC-17   Drama       112   \n973          PG-13   Drama       126   \n974             PG  Comedy       116   \n976          PG-13  Action       138   \n\n                                           actors_list  \n3    [u'Christian Bale', u'Heath Ledger', u'Aaron E...  \n5    [u'Henry Fonda', u'Lee J. Cobb', u'Martin Bals...  \n9    [u'Brad Pitt', u'Edward Norton', u'Helena Bonh...  \n11   [u'Leonardo DiCaprio', u'Joseph Gordon-Levitt'...  \n12   [u'Mark Hamill', u'Harrison Ford', u'Carrie Fi...  \n..                                                 ...  \n971  [u'Matthew Macfadyen', u'Peter Dinklage', u'Ew...  \n972  [u'Ryan Gosling', u'Michelle Williams', u'John...  \n973  [u'Tobey Maguire', u'Charlize Theron', u'Micha...  \n974  [u'Dustin Hoffman', u'Jessica Lange', u'Teri G...  \n976  [u'Russell Crowe', u'Paul Bettany', u'Billy Bo...  \n\n[570 rows x 6 columns]",
      "text/html": "<div>\n<style scoped>\n    .dataframe tbody tr th:only-of-type {\n        vertical-align: middle;\n    }\n\n    .dataframe tbody tr th {\n        vertical-align: top;\n    }\n\n    .dataframe thead th {\n        text-align: right;\n    }\n</style>\n<table border=\"1\" class=\"dataframe\">\n  <thead>\n    <tr style=\"text-align: right;\">\n      <th></th>\n      <th>star_rating</th>\n      <th>title</th>\n      <th>content_rating</th>\n      <th>genre</th>\n      <th>duration</th>\n      <th>actors_list</th>\n    </tr>\n  </thead>\n  <tbody>\n    <tr>\n      <th>3</th>\n      <td>9.0</td>\n      <td>The Dark Knight</td>\n      <td>PG-13</td>\n      <td>Action</td>\n      <td>152</td>\n      <td>[u'Christian Bale', u'Heath Ledger', u'Aaron E...</td>\n    </tr>\n    <tr>\n      <th>5</th>\n      <td>8.9</td>\n      <td>12 Angry Men</td>\n      <td>NOT RATED</td>\n      <td>Drama</td>\n      <td>96</td>\n      <td>[u'Henry Fonda', u'Lee J. Cobb', u'Martin Bals...</td>\n    </tr>\n    <tr>\n      <th>9</th>\n      <td>8.9</td>\n      <td>Fight Club</td>\n      <td>R</td>\n      <td>Drama</td>\n      <td>139</td>\n      <td>[u'Brad Pitt', u'Edward Norton', u'Helena Bonh...</td>\n    </tr>\n    <tr>\n      <th>11</th>\n      <td>8.8</td>\n      <td>Inception</td>\n      <td>PG-13</td>\n      <td>Action</td>\n      <td>148</td>\n      <td>[u'Leonardo DiCaprio', u'Joseph Gordon-Levitt'...</td>\n    </tr>\n    <tr>\n      <th>12</th>\n      <td>8.8</td>\n      <td>Star Wars: Episode V - The Empire Strikes Back</td>\n      <td>PG</td>\n      <td>Action</td>\n      <td>124</td>\n      <td>[u'Mark Hamill', u'Harrison Ford', u'Carrie Fi...</td>\n    </tr>\n    <tr>\n      <th>...</th>\n      <td>...</td>\n      <td>...</td>\n      <td>...</td>\n      <td>...</td>\n      <td>...</td>\n      <td>...</td>\n    </tr>\n    <tr>\n      <th>971</th>\n      <td>7.4</td>\n      <td>Death at a Funeral</td>\n      <td>R</td>\n      <td>Comedy</td>\n      <td>90</td>\n      <td>[u'Matthew Macfadyen', u'Peter Dinklage', u'Ew...</td>\n    </tr>\n    <tr>\n      <th>972</th>\n      <td>7.4</td>\n      <td>Blue Valentine</td>\n      <td>NC-17</td>\n      <td>Drama</td>\n      <td>112</td>\n      <td>[u'Ryan Gosling', u'Michelle Williams', u'John...</td>\n    </tr>\n    <tr>\n      <th>973</th>\n      <td>7.4</td>\n      <td>The Cider House Rules</td>\n      <td>PG-13</td>\n      <td>Drama</td>\n      <td>126</td>\n      <td>[u'Tobey Maguire', u'Charlize Theron', u'Micha...</td>\n    </tr>\n    <tr>\n      <th>974</th>\n      <td>7.4</td>\n      <td>Tootsie</td>\n      <td>PG</td>\n      <td>Comedy</td>\n      <td>116</td>\n      <td>[u'Dustin Hoffman', u'Jessica Lange', u'Teri G...</td>\n    </tr>\n    <tr>\n      <th>976</th>\n      <td>7.4</td>\n      <td>Master and Commander: The Far Side of the World</td>\n      <td>PG-13</td>\n      <td>Action</td>\n      <td>138</td>\n      <td>[u'Russell Crowe', u'Paul Bettany', u'Billy Bo...</td>\n    </tr>\n  </tbody>\n</table>\n<p>570 rows × 6 columns</p>\n</div>"
     },
     "execution_count": 75,
     "metadata": {},
     "output_type": "execute_result"
    }
   ],
   "source": [
    "movies[movies.genre.isin(counts.nlargest(3).index)]"
   ],
   "metadata": {
    "collapsed": false,
    "ExecuteTime": {
     "end_time": "2024-04-01T16:44:56.110793Z",
     "start_time": "2024-04-01T16:44:56.102455Z"
    }
   },
   "id": "6c02b0a6fa214ed7",
   "execution_count": 75
  },
  {
   "cell_type": "markdown",
   "source": [
    "# 15. Handle missing values"
   ],
   "metadata": {
    "collapsed": false
   },
   "id": "59a7c50232c86be"
  },
  {
   "cell_type": "code",
   "outputs": [],
   "source": [
    "ufo_path = r'F:\\DataSpell\\Pandas_training\\from_youtube_video\\data\\pandas-videos-master\\ufo.csv'"
   ],
   "metadata": {
    "collapsed": false,
    "ExecuteTime": {
     "end_time": "2024-04-01T16:45:20.867427Z",
     "start_time": "2024-04-01T16:45:20.864428Z"
    }
   },
   "id": "31139abedc610a8b",
   "execution_count": 76
  },
  {
   "cell_type": "code",
   "outputs": [],
   "source": [
    "ufo = pd.read_csv(ufo_path)"
   ],
   "metadata": {
    "collapsed": false,
    "ExecuteTime": {
     "end_time": "2024-04-01T16:45:22.938940Z",
     "start_time": "2024-04-01T16:45:22.918606Z"
    }
   },
   "id": "292f125874344ac8",
   "execution_count": 77
  },
  {
   "cell_type": "code",
   "outputs": [
    {
     "data": {
      "text/plain": "City                  26\nColors Reported    15359\nShape Reported      2644\nState                  0\nTime                   0\ndtype: int64"
     },
     "execution_count": 84,
     "metadata": {},
     "output_type": "execute_result"
    }
   ],
   "source": [
    "ufo.isna().sum()"
   ],
   "metadata": {
    "collapsed": false,
    "ExecuteTime": {
     "end_time": "2024-04-01T16:46:14.405966Z",
     "start_time": "2024-04-01T16:46:14.398826Z"
    }
   },
   "id": "11a95d5ecff44f48",
   "execution_count": 84
  },
  {
   "cell_type": "code",
   "outputs": [
    {
     "data": {
      "text/plain": "City               0.001425\nColors Reported    0.842004\nShape Reported     0.144948\nState              0.000000\nTime               0.000000\ndtype: float64"
     },
     "execution_count": 85,
     "metadata": {},
     "output_type": "execute_result"
    }
   ],
   "source": [
    "ufo.isna().mean()"
   ],
   "metadata": {
    "collapsed": false,
    "ExecuteTime": {
     "end_time": "2024-04-01T16:46:25.197001Z",
     "start_time": "2024-04-01T16:46:25.189691Z"
    }
   },
   "id": "68136c38afa99c7a",
   "execution_count": 85
  },
  {
   "cell_type": "code",
   "outputs": [
    {
     "data": {
      "text/plain": "                   City State             Time\n0                Ithaca    NY   6/1/1930 22:00\n1           Willingboro    NJ  6/30/1930 20:00\n2               Holyoke    CO  2/15/1931 14:00\n3               Abilene    KS   6/1/1931 13:00\n4  New York Worlds Fair    NY  4/18/1933 19:00",
      "text/html": "<div>\n<style scoped>\n    .dataframe tbody tr th:only-of-type {\n        vertical-align: middle;\n    }\n\n    .dataframe tbody tr th {\n        vertical-align: top;\n    }\n\n    .dataframe thead th {\n        text-align: right;\n    }\n</style>\n<table border=\"1\" class=\"dataframe\">\n  <thead>\n    <tr style=\"text-align: right;\">\n      <th></th>\n      <th>City</th>\n      <th>State</th>\n      <th>Time</th>\n    </tr>\n  </thead>\n  <tbody>\n    <tr>\n      <th>0</th>\n      <td>Ithaca</td>\n      <td>NY</td>\n      <td>6/1/1930 22:00</td>\n    </tr>\n    <tr>\n      <th>1</th>\n      <td>Willingboro</td>\n      <td>NJ</td>\n      <td>6/30/1930 20:00</td>\n    </tr>\n    <tr>\n      <th>2</th>\n      <td>Holyoke</td>\n      <td>CO</td>\n      <td>2/15/1931 14:00</td>\n    </tr>\n    <tr>\n      <th>3</th>\n      <td>Abilene</td>\n      <td>KS</td>\n      <td>6/1/1931 13:00</td>\n    </tr>\n    <tr>\n      <th>4</th>\n      <td>New York Worlds Fair</td>\n      <td>NY</td>\n      <td>4/18/1933 19:00</td>\n    </tr>\n  </tbody>\n</table>\n</div>"
     },
     "execution_count": 86,
     "metadata": {},
     "output_type": "execute_result"
    }
   ],
   "source": [
    "ufo.dropna(thresh=len(ufo)*0.9, axis='columns').head()"
   ],
   "metadata": {
    "collapsed": false,
    "ExecuteTime": {
     "end_time": "2024-04-01T16:46:46.081070Z",
     "start_time": "2024-04-01T16:46:46.072511Z"
    }
   },
   "id": "49d9fb4524839399",
   "execution_count": 86
  },
  {
   "cell_type": "markdown",
   "source": [
    "# 16. Split a string into multiple columns"
   ],
   "metadata": {
    "collapsed": false
   },
   "id": "4b79dcf395dc6aff"
  },
  {
   "cell_type": "code",
   "outputs": [
    {
     "data": {
      "text/plain": "              name         location\n0  John Arthur Doe  Los Angeles, CA\n1   Jane Ann Smith   Washington, DC",
      "text/html": "<div>\n<style scoped>\n    .dataframe tbody tr th:only-of-type {\n        vertical-align: middle;\n    }\n\n    .dataframe tbody tr th {\n        vertical-align: top;\n    }\n\n    .dataframe thead th {\n        text-align: right;\n    }\n</style>\n<table border=\"1\" class=\"dataframe\">\n  <thead>\n    <tr style=\"text-align: right;\">\n      <th></th>\n      <th>name</th>\n      <th>location</th>\n    </tr>\n  </thead>\n  <tbody>\n    <tr>\n      <th>0</th>\n      <td>John Arthur Doe</td>\n      <td>Los Angeles, CA</td>\n    </tr>\n    <tr>\n      <th>1</th>\n      <td>Jane Ann Smith</td>\n      <td>Washington, DC</td>\n    </tr>\n  </tbody>\n</table>\n</div>"
     },
     "execution_count": 87,
     "metadata": {},
     "output_type": "execute_result"
    }
   ],
   "source": [
    "df = pd.DataFrame({'name': ['John Arthur Doe', 'Jane Ann Smith'],\n",
    "                   'location': ['Los Angeles, CA', 'Washington, DC']})\n",
    "df"
   ],
   "metadata": {
    "collapsed": false,
    "ExecuteTime": {
     "end_time": "2024-04-01T16:48:47.669810Z",
     "start_time": "2024-04-01T16:48:47.664084Z"
    }
   },
   "id": "f068b1efc3ca550b",
   "execution_count": 87
  },
  {
   "cell_type": "code",
   "outputs": [
    {
     "data": {
      "text/plain": "      0       1      2\n0  John  Arthur    Doe\n1  Jane     Ann  Smith",
      "text/html": "<div>\n<style scoped>\n    .dataframe tbody tr th:only-of-type {\n        vertical-align: middle;\n    }\n\n    .dataframe tbody tr th {\n        vertical-align: top;\n    }\n\n    .dataframe thead th {\n        text-align: right;\n    }\n</style>\n<table border=\"1\" class=\"dataframe\">\n  <thead>\n    <tr style=\"text-align: right;\">\n      <th></th>\n      <th>0</th>\n      <th>1</th>\n      <th>2</th>\n    </tr>\n  </thead>\n  <tbody>\n    <tr>\n      <th>0</th>\n      <td>John</td>\n      <td>Arthur</td>\n      <td>Doe</td>\n    </tr>\n    <tr>\n      <th>1</th>\n      <td>Jane</td>\n      <td>Ann</td>\n      <td>Smith</td>\n    </tr>\n  </tbody>\n</table>\n</div>"
     },
     "execution_count": 88,
     "metadata": {},
     "output_type": "execute_result"
    }
   ],
   "source": [
    "df.name.str.split(' ', expand=True)"
   ],
   "metadata": {
    "collapsed": false,
    "ExecuteTime": {
     "end_time": "2024-04-01T16:48:54.513801Z",
     "start_time": "2024-04-01T16:48:54.508280Z"
    }
   },
   "id": "b31476d95c95b4af",
   "execution_count": 88
  },
  {
   "cell_type": "code",
   "outputs": [
    {
     "data": {
      "text/plain": "              name         location first  middle   last\n0  John Arthur Doe  Los Angeles, CA  John  Arthur    Doe\n1   Jane Ann Smith   Washington, DC  Jane     Ann  Smith",
      "text/html": "<div>\n<style scoped>\n    .dataframe tbody tr th:only-of-type {\n        vertical-align: middle;\n    }\n\n    .dataframe tbody tr th {\n        vertical-align: top;\n    }\n\n    .dataframe thead th {\n        text-align: right;\n    }\n</style>\n<table border=\"1\" class=\"dataframe\">\n  <thead>\n    <tr style=\"text-align: right;\">\n      <th></th>\n      <th>name</th>\n      <th>location</th>\n      <th>first</th>\n      <th>middle</th>\n      <th>last</th>\n    </tr>\n  </thead>\n  <tbody>\n    <tr>\n      <th>0</th>\n      <td>John Arthur Doe</td>\n      <td>Los Angeles, CA</td>\n      <td>John</td>\n      <td>Arthur</td>\n      <td>Doe</td>\n    </tr>\n    <tr>\n      <th>1</th>\n      <td>Jane Ann Smith</td>\n      <td>Washington, DC</td>\n      <td>Jane</td>\n      <td>Ann</td>\n      <td>Smith</td>\n    </tr>\n  </tbody>\n</table>\n</div>"
     },
     "execution_count": 90,
     "metadata": {},
     "output_type": "execute_result"
    }
   ],
   "source": [
    "df[['first', 'middle', 'last']] = df.name.str.split(' ', expand=True)\n",
    "df"
   ],
   "metadata": {
    "collapsed": false,
    "ExecuteTime": {
     "end_time": "2024-04-01T16:49:38.372763Z",
     "start_time": "2024-04-01T16:49:38.365075Z"
    }
   },
   "id": "7b1c2ea4ec382212",
   "execution_count": 90
  },
  {
   "cell_type": "markdown",
   "source": [
    "# 17. Expand a Series of lists into a DataFrame"
   ],
   "metadata": {
    "collapsed": false
   },
   "id": "79e14b378457a48c"
  },
  {
   "cell_type": "code",
   "outputs": [
    {
     "data": {
      "text/plain": "  col_one       col_two\n0       a      [10, 40]\n1       b  [20, 50, 30]\n2       c          [30]",
      "text/html": "<div>\n<style scoped>\n    .dataframe tbody tr th:only-of-type {\n        vertical-align: middle;\n    }\n\n    .dataframe tbody tr th {\n        vertical-align: top;\n    }\n\n    .dataframe thead th {\n        text-align: right;\n    }\n</style>\n<table border=\"1\" class=\"dataframe\">\n  <thead>\n    <tr style=\"text-align: right;\">\n      <th></th>\n      <th>col_one</th>\n      <th>col_two</th>\n    </tr>\n  </thead>\n  <tbody>\n    <tr>\n      <th>0</th>\n      <td>a</td>\n      <td>[10, 40]</td>\n    </tr>\n    <tr>\n      <th>1</th>\n      <td>b</td>\n      <td>[20, 50, 30]</td>\n    </tr>\n    <tr>\n      <th>2</th>\n      <td>c</td>\n      <td>[30]</td>\n    </tr>\n  </tbody>\n</table>\n</div>"
     },
     "execution_count": 91,
     "metadata": {},
     "output_type": "execute_result"
    }
   ],
   "source": [
    "df = pd.DataFrame({'col_one': ['a', 'b', 'c'],\n",
    "                   'col_two': [[10, 40], [20, 50, 30], [30]]})\n",
    "df"
   ],
   "metadata": {
    "collapsed": false,
    "ExecuteTime": {
     "end_time": "2024-04-01T16:50:30.436930Z",
     "start_time": "2024-04-01T16:50:30.429819Z"
    }
   },
   "id": "a45e765789783d54",
   "execution_count": 91
  },
  {
   "cell_type": "code",
   "outputs": [
    {
     "data": {
      "text/plain": "      0     1     2\n0  10.0  40.0   NaN\n1  20.0  50.0  30.0\n2  30.0   NaN   NaN",
      "text/html": "<div>\n<style scoped>\n    .dataframe tbody tr th:only-of-type {\n        vertical-align: middle;\n    }\n\n    .dataframe tbody tr th {\n        vertical-align: top;\n    }\n\n    .dataframe thead th {\n        text-align: right;\n    }\n</style>\n<table border=\"1\" class=\"dataframe\">\n  <thead>\n    <tr style=\"text-align: right;\">\n      <th></th>\n      <th>0</th>\n      <th>1</th>\n      <th>2</th>\n    </tr>\n  </thead>\n  <tbody>\n    <tr>\n      <th>0</th>\n      <td>10.0</td>\n      <td>40.0</td>\n      <td>NaN</td>\n    </tr>\n    <tr>\n      <th>1</th>\n      <td>20.0</td>\n      <td>50.0</td>\n      <td>30.0</td>\n    </tr>\n    <tr>\n      <th>2</th>\n      <td>30.0</td>\n      <td>NaN</td>\n      <td>NaN</td>\n    </tr>\n  </tbody>\n</table>\n</div>"
     },
     "execution_count": 92,
     "metadata": {},
     "output_type": "execute_result"
    }
   ],
   "source": [
    "df_new = df.col_two.apply(pd.Series)\n",
    "df_new"
   ],
   "metadata": {
    "collapsed": false,
    "ExecuteTime": {
     "end_time": "2024-04-01T16:50:41.688439Z",
     "start_time": "2024-04-01T16:50:41.682129Z"
    }
   },
   "id": "f14ab88366f78e62",
   "execution_count": 92
  },
  {
   "cell_type": "code",
   "outputs": [
    {
     "data": {
      "text/plain": "  col_one       col_two     0     1     2\n0       a      [10, 40]  10.0  40.0   NaN\n1       b  [20, 50, 30]  20.0  50.0  30.0\n2       c          [30]  30.0   NaN   NaN",
      "text/html": "<div>\n<style scoped>\n    .dataframe tbody tr th:only-of-type {\n        vertical-align: middle;\n    }\n\n    .dataframe tbody tr th {\n        vertical-align: top;\n    }\n\n    .dataframe thead th {\n        text-align: right;\n    }\n</style>\n<table border=\"1\" class=\"dataframe\">\n  <thead>\n    <tr style=\"text-align: right;\">\n      <th></th>\n      <th>col_one</th>\n      <th>col_two</th>\n      <th>0</th>\n      <th>1</th>\n      <th>2</th>\n    </tr>\n  </thead>\n  <tbody>\n    <tr>\n      <th>0</th>\n      <td>a</td>\n      <td>[10, 40]</td>\n      <td>10.0</td>\n      <td>40.0</td>\n      <td>NaN</td>\n    </tr>\n    <tr>\n      <th>1</th>\n      <td>b</td>\n      <td>[20, 50, 30]</td>\n      <td>20.0</td>\n      <td>50.0</td>\n      <td>30.0</td>\n    </tr>\n    <tr>\n      <th>2</th>\n      <td>c</td>\n      <td>[30]</td>\n      <td>30.0</td>\n      <td>NaN</td>\n      <td>NaN</td>\n    </tr>\n  </tbody>\n</table>\n</div>"
     },
     "execution_count": 93,
     "metadata": {},
     "output_type": "execute_result"
    }
   ],
   "source": [
    "pd.concat([df, df_new], axis='columns')"
   ],
   "metadata": {
    "collapsed": false,
    "ExecuteTime": {
     "end_time": "2024-04-01T16:50:58.965196Z",
     "start_time": "2024-04-01T16:50:58.958168Z"
    }
   },
   "id": "9ca94218638be996",
   "execution_count": 93
  },
  {
   "cell_type": "markdown",
   "source": [
    "# 18. Aggregate by multiple functions"
   ],
   "metadata": {
    "collapsed": false
   },
   "id": "48be65cc4bd651ab"
  },
  {
   "cell_type": "code",
   "outputs": [],
   "source": [
    "orders_path = r'F:\\DataSpell\\Pandas_training\\from_youtube_video\\data\\pandas-videos-master\\chipotle.tsv'"
   ],
   "metadata": {
    "collapsed": false,
    "ExecuteTime": {
     "end_time": "2024-04-01T16:51:39.194342Z",
     "start_time": "2024-04-01T16:51:39.189978Z"
    }
   },
   "id": "8818210f566a9644",
   "execution_count": 94
  },
  {
   "cell_type": "code",
   "outputs": [
    {
     "data": {
      "text/plain": "      order_id  quantity                              item_name  \\\n0            1         1           Chips and Fresh Tomato Salsa   \n1            1         1                                   Izze   \n2            1         1                       Nantucket Nectar   \n3            1         1  Chips and Tomatillo-Green Chili Salsa   \n4            2         2                           Chicken Bowl   \n...        ...       ...                                    ...   \n4617      1833         1                          Steak Burrito   \n4618      1833         1                          Steak Burrito   \n4619      1834         1                     Chicken Salad Bowl   \n4620      1834         1                     Chicken Salad Bowl   \n4621      1834         1                     Chicken Salad Bowl   \n\n                                     choice_description  item_price  \n0                                                   NaN        2.39  \n1                                          [Clementine]        3.39  \n2                                               [Apple]        3.39  \n3                                                   NaN        2.39  \n4     [Tomatillo-Red Chili Salsa (Hot), [Black Beans...       16.98  \n...                                                 ...         ...  \n4617  [Fresh Tomato Salsa, [Rice, Black Beans, Sour ...       11.75  \n4618  [Fresh Tomato Salsa, [Rice, Sour Cream, Cheese...       11.75  \n4619  [Fresh Tomato Salsa, [Fajita Vegetables, Pinto...       11.25  \n4620  [Fresh Tomato Salsa, [Fajita Vegetables, Lettu...        8.75  \n4621  [Fresh Tomato Salsa, [Fajita Vegetables, Pinto...        8.75  \n\n[4622 rows x 5 columns]",
      "text/html": "<div>\n<style scoped>\n    .dataframe tbody tr th:only-of-type {\n        vertical-align: middle;\n    }\n\n    .dataframe tbody tr th {\n        vertical-align: top;\n    }\n\n    .dataframe thead th {\n        text-align: right;\n    }\n</style>\n<table border=\"1\" class=\"dataframe\">\n  <thead>\n    <tr style=\"text-align: right;\">\n      <th></th>\n      <th>order_id</th>\n      <th>quantity</th>\n      <th>item_name</th>\n      <th>choice_description</th>\n      <th>item_price</th>\n    </tr>\n  </thead>\n  <tbody>\n    <tr>\n      <th>0</th>\n      <td>1</td>\n      <td>1</td>\n      <td>Chips and Fresh Tomato Salsa</td>\n      <td>NaN</td>\n      <td>2.39</td>\n    </tr>\n    <tr>\n      <th>1</th>\n      <td>1</td>\n      <td>1</td>\n      <td>Izze</td>\n      <td>[Clementine]</td>\n      <td>3.39</td>\n    </tr>\n    <tr>\n      <th>2</th>\n      <td>1</td>\n      <td>1</td>\n      <td>Nantucket Nectar</td>\n      <td>[Apple]</td>\n      <td>3.39</td>\n    </tr>\n    <tr>\n      <th>3</th>\n      <td>1</td>\n      <td>1</td>\n      <td>Chips and Tomatillo-Green Chili Salsa</td>\n      <td>NaN</td>\n      <td>2.39</td>\n    </tr>\n    <tr>\n      <th>4</th>\n      <td>2</td>\n      <td>2</td>\n      <td>Chicken Bowl</td>\n      <td>[Tomatillo-Red Chili Salsa (Hot), [Black Beans...</td>\n      <td>16.98</td>\n    </tr>\n    <tr>\n      <th>...</th>\n      <td>...</td>\n      <td>...</td>\n      <td>...</td>\n      <td>...</td>\n      <td>...</td>\n    </tr>\n    <tr>\n      <th>4617</th>\n      <td>1833</td>\n      <td>1</td>\n      <td>Steak Burrito</td>\n      <td>[Fresh Tomato Salsa, [Rice, Black Beans, Sour ...</td>\n      <td>11.75</td>\n    </tr>\n    <tr>\n      <th>4618</th>\n      <td>1833</td>\n      <td>1</td>\n      <td>Steak Burrito</td>\n      <td>[Fresh Tomato Salsa, [Rice, Sour Cream, Cheese...</td>\n      <td>11.75</td>\n    </tr>\n    <tr>\n      <th>4619</th>\n      <td>1834</td>\n      <td>1</td>\n      <td>Chicken Salad Bowl</td>\n      <td>[Fresh Tomato Salsa, [Fajita Vegetables, Pinto...</td>\n      <td>11.25</td>\n    </tr>\n    <tr>\n      <th>4620</th>\n      <td>1834</td>\n      <td>1</td>\n      <td>Chicken Salad Bowl</td>\n      <td>[Fresh Tomato Salsa, [Fajita Vegetables, Lettu...</td>\n      <td>8.75</td>\n    </tr>\n    <tr>\n      <th>4621</th>\n      <td>1834</td>\n      <td>1</td>\n      <td>Chicken Salad Bowl</td>\n      <td>[Fresh Tomato Salsa, [Fajita Vegetables, Pinto...</td>\n      <td>8.75</td>\n    </tr>\n  </tbody>\n</table>\n<p>4622 rows × 5 columns</p>\n</div>"
     },
     "execution_count": 101,
     "metadata": {},
     "output_type": "execute_result"
    }
   ],
   "source": [
    "orders = pd.read_csv(orders_path, sep='\\t')\n",
    "orders['item_price'] = orders.item_price.str.replace('$', '').astype(float)\n",
    "orders"
   ],
   "metadata": {
    "collapsed": false,
    "ExecuteTime": {
     "end_time": "2024-04-01T16:55:25.665721Z",
     "start_time": "2024-04-01T16:55:25.650957Z"
    }
   },
   "id": "2388c13f2d88369b",
   "execution_count": 101
  },
  {
   "cell_type": "code",
   "outputs": [
    {
     "data": {
      "text/plain": "            sum    mean\norder_id               \n1         11.56   2.890\n2         16.98  16.980\n3         12.67   6.335\n4         21.00  10.500\n5         13.70   6.850",
      "text/html": "<div>\n<style scoped>\n    .dataframe tbody tr th:only-of-type {\n        vertical-align: middle;\n    }\n\n    .dataframe tbody tr th {\n        vertical-align: top;\n    }\n\n    .dataframe thead th {\n        text-align: right;\n    }\n</style>\n<table border=\"1\" class=\"dataframe\">\n  <thead>\n    <tr style=\"text-align: right;\">\n      <th></th>\n      <th>sum</th>\n      <th>mean</th>\n    </tr>\n    <tr>\n      <th>order_id</th>\n      <th></th>\n      <th></th>\n    </tr>\n  </thead>\n  <tbody>\n    <tr>\n      <th>1</th>\n      <td>11.56</td>\n      <td>2.890</td>\n    </tr>\n    <tr>\n      <th>2</th>\n      <td>16.98</td>\n      <td>16.980</td>\n    </tr>\n    <tr>\n      <th>3</th>\n      <td>12.67</td>\n      <td>6.335</td>\n    </tr>\n    <tr>\n      <th>4</th>\n      <td>21.00</td>\n      <td>10.500</td>\n    </tr>\n    <tr>\n      <th>5</th>\n      <td>13.70</td>\n      <td>6.850</td>\n    </tr>\n  </tbody>\n</table>\n</div>"
     },
     "execution_count": 102,
     "metadata": {},
     "output_type": "execute_result"
    }
   ],
   "source": [
    "orders.groupby('order_id')['item_price'].agg(['sum', 'mean']).head()"
   ],
   "metadata": {
    "collapsed": false,
    "ExecuteTime": {
     "end_time": "2024-04-01T16:55:34.334147Z",
     "start_time": "2024-04-01T16:55:34.327299Z"
    }
   },
   "id": "b1ea9dae757a68e1",
   "execution_count": 102
  },
  {
   "cell_type": "markdown",
   "source": [
    "# 19. Combine the output of an aggregation with a DataFrame"
   ],
   "metadata": {
    "collapsed": false
   },
   "id": "1387b3c14c2b8189"
  },
  {
   "cell_type": "code",
   "outputs": [
    {
     "data": {
      "text/plain": "1834"
     },
     "execution_count": 104,
     "metadata": {},
     "output_type": "execute_result"
    }
   ],
   "source": [
    "len(orders.groupby('order_id')['item_price'].agg(['sum', 'mean']))"
   ],
   "metadata": {
    "collapsed": false,
    "ExecuteTime": {
     "end_time": "2024-04-01T16:55:55.282363Z",
     "start_time": "2024-04-01T16:55:55.277371Z"
    }
   },
   "id": "55656cc44783930d",
   "execution_count": 104
  },
  {
   "cell_type": "code",
   "outputs": [
    {
     "data": {
      "text/plain": "0       11.56\n1       11.56\n2       11.56\n3       11.56\n4       16.98\n        ...  \n4617    23.50\n4618    23.50\n4619    28.75\n4620    28.75\n4621    28.75\nName: item_price, Length: 4622, dtype: float64"
     },
     "execution_count": 106,
     "metadata": {},
     "output_type": "execute_result"
    }
   ],
   "source": [
    "orders.groupby('order_id')['item_price'].transform('sum')"
   ],
   "metadata": {
    "collapsed": false,
    "ExecuteTime": {
     "end_time": "2024-04-01T16:56:35.012746Z",
     "start_time": "2024-04-01T16:56:35.006588Z"
    }
   },
   "id": "17514960320b623b",
   "execution_count": 106
  },
  {
   "cell_type": "markdown",
   "source": [
    "# 20. Select a slice of rows and columns"
   ],
   "metadata": {
    "collapsed": false
   },
   "id": "e9acaea8b20eb987"
  },
  {
   "cell_type": "code",
   "outputs": [],
   "source": [
    "titanic_path = r'F:\\DataSpell\\Pandas_training\\from_youtube_video\\data\\pandas-videos-master\\titanic_train.csv'"
   ],
   "metadata": {
    "collapsed": false,
    "ExecuteTime": {
     "end_time": "2024-04-01T16:57:08.015706Z",
     "start_time": "2024-04-01T16:57:08.011993Z"
    }
   },
   "id": "2bc11cce8f76f51c",
   "execution_count": 107
  },
  {
   "cell_type": "code",
   "outputs": [],
   "source": [
    "titanic = pd.read_csv(titanic_path)"
   ],
   "metadata": {
    "collapsed": false,
    "ExecuteTime": {
     "end_time": "2024-04-01T16:57:10.942881Z",
     "start_time": "2024-04-01T16:57:10.933894Z"
    }
   },
   "id": "a3c8e897d1583389",
   "execution_count": 108
  },
  {
   "cell_type": "code",
   "outputs": [
    {
     "data": {
      "text/plain": "       PassengerId    Survived      Pclass         Age       SibSp  \\\ncount   891.000000  891.000000  891.000000  714.000000  891.000000   \nmean    446.000000    0.383838    2.308642   29.699118    0.523008   \nstd     257.353842    0.486592    0.836071   14.526497    1.102743   \nmin       1.000000    0.000000    1.000000    0.420000    0.000000   \n25%     223.500000    0.000000    2.000000   20.125000    0.000000   \n50%     446.000000    0.000000    3.000000   28.000000    0.000000   \n75%     668.500000    1.000000    3.000000   38.000000    1.000000   \nmax     891.000000    1.000000    3.000000   80.000000    8.000000   \n\n            Parch        Fare  \ncount  891.000000  891.000000  \nmean     0.381594   32.204208  \nstd      0.806057   49.693429  \nmin      0.000000    0.000000  \n25%      0.000000    7.910400  \n50%      0.000000   14.454200  \n75%      0.000000   31.000000  \nmax      6.000000  512.329200  ",
      "text/html": "<div>\n<style scoped>\n    .dataframe tbody tr th:only-of-type {\n        vertical-align: middle;\n    }\n\n    .dataframe tbody tr th {\n        vertical-align: top;\n    }\n\n    .dataframe thead th {\n        text-align: right;\n    }\n</style>\n<table border=\"1\" class=\"dataframe\">\n  <thead>\n    <tr style=\"text-align: right;\">\n      <th></th>\n      <th>PassengerId</th>\n      <th>Survived</th>\n      <th>Pclass</th>\n      <th>Age</th>\n      <th>SibSp</th>\n      <th>Parch</th>\n      <th>Fare</th>\n    </tr>\n  </thead>\n  <tbody>\n    <tr>\n      <th>count</th>\n      <td>891.000000</td>\n      <td>891.000000</td>\n      <td>891.000000</td>\n      <td>714.000000</td>\n      <td>891.000000</td>\n      <td>891.000000</td>\n      <td>891.000000</td>\n    </tr>\n    <tr>\n      <th>mean</th>\n      <td>446.000000</td>\n      <td>0.383838</td>\n      <td>2.308642</td>\n      <td>29.699118</td>\n      <td>0.523008</td>\n      <td>0.381594</td>\n      <td>32.204208</td>\n    </tr>\n    <tr>\n      <th>std</th>\n      <td>257.353842</td>\n      <td>0.486592</td>\n      <td>0.836071</td>\n      <td>14.526497</td>\n      <td>1.102743</td>\n      <td>0.806057</td>\n      <td>49.693429</td>\n    </tr>\n    <tr>\n      <th>min</th>\n      <td>1.000000</td>\n      <td>0.000000</td>\n      <td>1.000000</td>\n      <td>0.420000</td>\n      <td>0.000000</td>\n      <td>0.000000</td>\n      <td>0.000000</td>\n    </tr>\n    <tr>\n      <th>25%</th>\n      <td>223.500000</td>\n      <td>0.000000</td>\n      <td>2.000000</td>\n      <td>20.125000</td>\n      <td>0.000000</td>\n      <td>0.000000</td>\n      <td>7.910400</td>\n    </tr>\n    <tr>\n      <th>50%</th>\n      <td>446.000000</td>\n      <td>0.000000</td>\n      <td>3.000000</td>\n      <td>28.000000</td>\n      <td>0.000000</td>\n      <td>0.000000</td>\n      <td>14.454200</td>\n    </tr>\n    <tr>\n      <th>75%</th>\n      <td>668.500000</td>\n      <td>1.000000</td>\n      <td>3.000000</td>\n      <td>38.000000</td>\n      <td>1.000000</td>\n      <td>0.000000</td>\n      <td>31.000000</td>\n    </tr>\n    <tr>\n      <th>max</th>\n      <td>891.000000</td>\n      <td>1.000000</td>\n      <td>3.000000</td>\n      <td>80.000000</td>\n      <td>8.000000</td>\n      <td>6.000000</td>\n      <td>512.329200</td>\n    </tr>\n  </tbody>\n</table>\n</div>"
     },
     "execution_count": 109,
     "metadata": {},
     "output_type": "execute_result"
    }
   ],
   "source": [
    "titanic.describe()"
   ],
   "metadata": {
    "collapsed": false,
    "ExecuteTime": {
     "end_time": "2024-04-01T16:57:22.461169Z",
     "start_time": "2024-04-01T16:57:22.448954Z"
    }
   },
   "id": "7519e8087243fd09",
   "execution_count": 109
  },
  {
   "cell_type": "code",
   "outputs": [
    {
     "data": {
      "text/plain": "     Pclass     Age  SibSp  Parch\nmin     1.0   0.420    0.0    0.0\n25%     2.0  20.125    0.0    0.0\n50%     3.0  28.000    0.0    0.0\n75%     3.0  38.000    1.0    0.0\nmax     3.0  80.000    8.0    6.0",
      "text/html": "<div>\n<style scoped>\n    .dataframe tbody tr th:only-of-type {\n        vertical-align: middle;\n    }\n\n    .dataframe tbody tr th {\n        vertical-align: top;\n    }\n\n    .dataframe thead th {\n        text-align: right;\n    }\n</style>\n<table border=\"1\" class=\"dataframe\">\n  <thead>\n    <tr style=\"text-align: right;\">\n      <th></th>\n      <th>Pclass</th>\n      <th>Age</th>\n      <th>SibSp</th>\n      <th>Parch</th>\n    </tr>\n  </thead>\n  <tbody>\n    <tr>\n      <th>min</th>\n      <td>1.0</td>\n      <td>0.420</td>\n      <td>0.0</td>\n      <td>0.0</td>\n    </tr>\n    <tr>\n      <th>25%</th>\n      <td>2.0</td>\n      <td>20.125</td>\n      <td>0.0</td>\n      <td>0.0</td>\n    </tr>\n    <tr>\n      <th>50%</th>\n      <td>3.0</td>\n      <td>28.000</td>\n      <td>0.0</td>\n      <td>0.0</td>\n    </tr>\n    <tr>\n      <th>75%</th>\n      <td>3.0</td>\n      <td>38.000</td>\n      <td>1.0</td>\n      <td>0.0</td>\n    </tr>\n    <tr>\n      <th>max</th>\n      <td>3.0</td>\n      <td>80.000</td>\n      <td>8.0</td>\n      <td>6.0</td>\n    </tr>\n  </tbody>\n</table>\n</div>"
     },
     "execution_count": 112,
     "metadata": {},
     "output_type": "execute_result"
    }
   ],
   "source": [
    "titanic.describe().loc['min':'max', 'Pclass':'Parch']"
   ],
   "metadata": {
    "collapsed": false,
    "ExecuteTime": {
     "end_time": "2024-04-01T16:58:02.994392Z",
     "start_time": "2024-04-01T16:58:02.981459Z"
    }
   },
   "id": "a72162a8d9b7a3eb",
   "execution_count": 112
  },
  {
   "cell_type": "markdown",
   "source": [
    "# 21. Reshape a MultiIndexed Series"
   ],
   "metadata": {
    "collapsed": false
   },
   "id": "278b2ec592b47ee9"
  },
  {
   "cell_type": "code",
   "outputs": [
    {
     "data": {
      "text/plain": "Pclass         1         2         3\nSex                                 \nfemale  0.968085  0.921053  0.500000\nmale    0.368852  0.157407  0.135447",
      "text/html": "<div>\n<style scoped>\n    .dataframe tbody tr th:only-of-type {\n        vertical-align: middle;\n    }\n\n    .dataframe tbody tr th {\n        vertical-align: top;\n    }\n\n    .dataframe thead th {\n        text-align: right;\n    }\n</style>\n<table border=\"1\" class=\"dataframe\">\n  <thead>\n    <tr style=\"text-align: right;\">\n      <th>Pclass</th>\n      <th>1</th>\n      <th>2</th>\n      <th>3</th>\n    </tr>\n    <tr>\n      <th>Sex</th>\n      <th></th>\n      <th></th>\n      <th></th>\n    </tr>\n  </thead>\n  <tbody>\n    <tr>\n      <th>female</th>\n      <td>0.968085</td>\n      <td>0.921053</td>\n      <td>0.500000</td>\n    </tr>\n    <tr>\n      <th>male</th>\n      <td>0.368852</td>\n      <td>0.157407</td>\n      <td>0.135447</td>\n    </tr>\n  </tbody>\n</table>\n</div>"
     },
     "execution_count": 114,
     "metadata": {},
     "output_type": "execute_result"
    }
   ],
   "source": [
    "titanic.groupby(['Sex', 'Pclass'])['Survived'].mean().unstack()"
   ],
   "metadata": {
    "collapsed": false,
    "ExecuteTime": {
     "end_time": "2024-04-01T16:59:10.009959Z",
     "start_time": "2024-04-01T16:59:09.999756Z"
    }
   },
   "id": "9e4862ecc8a40",
   "execution_count": 114
  },
  {
   "cell_type": "markdown",
   "source": [
    "# 22. Create a pivot table"
   ],
   "metadata": {
    "collapsed": false
   },
   "id": "82ad12ac4a901a7c"
  },
  {
   "cell_type": "code",
   "outputs": [
    {
     "data": {
      "text/plain": "Pclass         1         2         3       All\nSex                                           \nfemale  0.968085  0.921053  0.500000  0.742038\nmale    0.368852  0.157407  0.135447  0.188908\nAll     0.629630  0.472826  0.242363  0.383838",
      "text/html": "<div>\n<style scoped>\n    .dataframe tbody tr th:only-of-type {\n        vertical-align: middle;\n    }\n\n    .dataframe tbody tr th {\n        vertical-align: top;\n    }\n\n    .dataframe thead th {\n        text-align: right;\n    }\n</style>\n<table border=\"1\" class=\"dataframe\">\n  <thead>\n    <tr style=\"text-align: right;\">\n      <th>Pclass</th>\n      <th>1</th>\n      <th>2</th>\n      <th>3</th>\n      <th>All</th>\n    </tr>\n    <tr>\n      <th>Sex</th>\n      <th></th>\n      <th></th>\n      <th></th>\n      <th></th>\n    </tr>\n  </thead>\n  <tbody>\n    <tr>\n      <th>female</th>\n      <td>0.968085</td>\n      <td>0.921053</td>\n      <td>0.500000</td>\n      <td>0.742038</td>\n    </tr>\n    <tr>\n      <th>male</th>\n      <td>0.368852</td>\n      <td>0.157407</td>\n      <td>0.135447</td>\n      <td>0.188908</td>\n    </tr>\n    <tr>\n      <th>All</th>\n      <td>0.629630</td>\n      <td>0.472826</td>\n      <td>0.242363</td>\n      <td>0.383838</td>\n    </tr>\n  </tbody>\n</table>\n</div>"
     },
     "execution_count": 117,
     "metadata": {},
     "output_type": "execute_result"
    }
   ],
   "source": [
    "titanic.pivot_table(index='Sex', columns='Pclass', values='Survived', aggfunc='mean', margins=True)"
   ],
   "metadata": {
    "collapsed": false,
    "ExecuteTime": {
     "end_time": "2024-04-01T17:00:04.249856Z",
     "start_time": "2024-04-01T17:00:04.235775Z"
    }
   },
   "id": "1e4609b70755631e",
   "execution_count": 117
  },
  {
   "cell_type": "code",
   "outputs": [
    {
     "data": {
      "text/plain": "Pclass    1    2    3  All\nSex                       \nfemale   94   76  144  314\nmale    122  108  347  577\nAll     216  184  491  891",
      "text/html": "<div>\n<style scoped>\n    .dataframe tbody tr th:only-of-type {\n        vertical-align: middle;\n    }\n\n    .dataframe tbody tr th {\n        vertical-align: top;\n    }\n\n    .dataframe thead th {\n        text-align: right;\n    }\n</style>\n<table border=\"1\" class=\"dataframe\">\n  <thead>\n    <tr style=\"text-align: right;\">\n      <th>Pclass</th>\n      <th>1</th>\n      <th>2</th>\n      <th>3</th>\n      <th>All</th>\n    </tr>\n    <tr>\n      <th>Sex</th>\n      <th></th>\n      <th></th>\n      <th></th>\n      <th></th>\n    </tr>\n  </thead>\n  <tbody>\n    <tr>\n      <th>female</th>\n      <td>94</td>\n      <td>76</td>\n      <td>144</td>\n      <td>314</td>\n    </tr>\n    <tr>\n      <th>male</th>\n      <td>122</td>\n      <td>108</td>\n      <td>347</td>\n      <td>577</td>\n    </tr>\n    <tr>\n      <th>All</th>\n      <td>216</td>\n      <td>184</td>\n      <td>491</td>\n      <td>891</td>\n    </tr>\n  </tbody>\n</table>\n</div>"
     },
     "execution_count": 118,
     "metadata": {},
     "output_type": "execute_result"
    }
   ],
   "source": [
    "titanic.pivot_table(index='Sex', columns='Pclass', values='Survived', aggfunc='count', margins=True)"
   ],
   "metadata": {
    "collapsed": false,
    "ExecuteTime": {
     "end_time": "2024-04-01T17:00:28.066937Z",
     "start_time": "2024-04-01T17:00:28.053096Z"
    }
   },
   "id": "f945d2a4eb8828dc",
   "execution_count": 118
  },
  {
   "cell_type": "markdown",
   "source": [
    "# 23. Convert continuous data into categorical data"
   ],
   "metadata": {
    "collapsed": false
   },
   "id": "9b741f06fde96ac9"
  },
  {
   "cell_type": "code",
   "outputs": [
    {
     "data": {
      "text/plain": "0    22.0\n1    38.0\n2    26.0\n3    35.0\n4    35.0\nName: Age, dtype: float64"
     },
     "execution_count": 120,
     "metadata": {},
     "output_type": "execute_result"
    }
   ],
   "source": [
    "titanic['Age'].head()"
   ],
   "metadata": {
    "collapsed": false,
    "ExecuteTime": {
     "end_time": "2024-04-01T17:00:53.314910Z",
     "start_time": "2024-04-01T17:00:53.310106Z"
    }
   },
   "id": "ba13dff7840d5d8c",
   "execution_count": 120
  },
  {
   "cell_type": "code",
   "outputs": [
    {
     "data": {
      "text/plain": "0    young adult\n1          adult\n2          adult\n3          adult\n4          adult\nName: Age, dtype: category\nCategories (3, object): ['child' < 'young adult' < 'adult']"
     },
     "execution_count": 121,
     "metadata": {},
     "output_type": "execute_result"
    }
   ],
   "source": [
    "pd.cut(titanic['Age'], bins=[0, 18, 25, 99], labels=['child', 'young adult', 'adult']).head()"
   ],
   "metadata": {
    "collapsed": false,
    "ExecuteTime": {
     "end_time": "2024-04-01T17:01:00.327353Z",
     "start_time": "2024-04-01T17:01:00.321765Z"
    }
   },
   "id": "1e64e233e928fa0c",
   "execution_count": 121
  },
  {
   "cell_type": "code",
   "outputs": [
    {
     "data": {
      "text/plain": "0     young\n1       old\n2    middle\n3       old\n4       old\nName: Age, dtype: category\nCategories (3, object): ['young' < 'middle' < 'old']"
     },
     "execution_count": 122,
     "metadata": {},
     "output_type": "execute_result"
    }
   ],
   "source": [
    "pd.qcut(titanic['Age'], q=3, labels=['young', 'middle', 'old']).head()"
   ],
   "metadata": {
    "collapsed": false,
    "ExecuteTime": {
     "end_time": "2024-04-01T17:02:15.024378Z",
     "start_time": "2024-04-01T17:02:15.017415Z"
    }
   },
   "id": "493cb889162e83db",
   "execution_count": 122
  },
  {
   "cell_type": "markdown",
   "source": [
    "# 24. Change display options"
   ],
   "metadata": {
    "collapsed": false
   },
   "id": "1568f16c8ef81076"
  },
  {
   "cell_type": "code",
   "outputs": [
    {
     "data": {
      "text/plain": "   PassengerId  Survived  Pclass  \\\n0            1         0       3   \n1            2         1       1   \n2            3         1       3   \n3            4         1       1   \n4            5         0       3   \n\n                                                Name     Sex   Age  SibSp  \\\n0                            Braund, Mr. Owen Harris    male  22.0      1   \n1  Cumings, Mrs. John Bradley (Florence Briggs Th...  female  38.0      1   \n2                             Heikkinen, Miss. Laina  female  26.0      0   \n3       Futrelle, Mrs. Jacques Heath (Lily May Peel)  female  35.0      1   \n4                           Allen, Mr. William Henry    male  35.0      0   \n\n   Parch            Ticket     Fare Cabin Embarked  \n0      0         A/5 21171   7.2500   NaN        S  \n1      0          PC 17599  71.2833   C85        C  \n2      0  STON/O2. 3101282   7.9250   NaN        S  \n3      0            113803  53.1000  C123        S  \n4      0            373450   8.0500   NaN        S  ",
      "text/html": "<div>\n<style scoped>\n    .dataframe tbody tr th:only-of-type {\n        vertical-align: middle;\n    }\n\n    .dataframe tbody tr th {\n        vertical-align: top;\n    }\n\n    .dataframe thead th {\n        text-align: right;\n    }\n</style>\n<table border=\"1\" class=\"dataframe\">\n  <thead>\n    <tr style=\"text-align: right;\">\n      <th></th>\n      <th>PassengerId</th>\n      <th>Survived</th>\n      <th>Pclass</th>\n      <th>Name</th>\n      <th>Sex</th>\n      <th>Age</th>\n      <th>SibSp</th>\n      <th>Parch</th>\n      <th>Ticket</th>\n      <th>Fare</th>\n      <th>Cabin</th>\n      <th>Embarked</th>\n    </tr>\n  </thead>\n  <tbody>\n    <tr>\n      <th>0</th>\n      <td>1</td>\n      <td>0</td>\n      <td>3</td>\n      <td>Braund, Mr. Owen Harris</td>\n      <td>male</td>\n      <td>22.0</td>\n      <td>1</td>\n      <td>0</td>\n      <td>A/5 21171</td>\n      <td>7.2500</td>\n      <td>NaN</td>\n      <td>S</td>\n    </tr>\n    <tr>\n      <th>1</th>\n      <td>2</td>\n      <td>1</td>\n      <td>1</td>\n      <td>Cumings, Mrs. John Bradley (Florence Briggs Th...</td>\n      <td>female</td>\n      <td>38.0</td>\n      <td>1</td>\n      <td>0</td>\n      <td>PC 17599</td>\n      <td>71.2833</td>\n      <td>C85</td>\n      <td>C</td>\n    </tr>\n    <tr>\n      <th>2</th>\n      <td>3</td>\n      <td>1</td>\n      <td>3</td>\n      <td>Heikkinen, Miss. Laina</td>\n      <td>female</td>\n      <td>26.0</td>\n      <td>0</td>\n      <td>0</td>\n      <td>STON/O2. 3101282</td>\n      <td>7.9250</td>\n      <td>NaN</td>\n      <td>S</td>\n    </tr>\n    <tr>\n      <th>3</th>\n      <td>4</td>\n      <td>1</td>\n      <td>1</td>\n      <td>Futrelle, Mrs. Jacques Heath (Lily May Peel)</td>\n      <td>female</td>\n      <td>35.0</td>\n      <td>1</td>\n      <td>0</td>\n      <td>113803</td>\n      <td>53.1000</td>\n      <td>C123</td>\n      <td>S</td>\n    </tr>\n    <tr>\n      <th>4</th>\n      <td>5</td>\n      <td>0</td>\n      <td>3</td>\n      <td>Allen, Mr. William Henry</td>\n      <td>male</td>\n      <td>35.0</td>\n      <td>0</td>\n      <td>0</td>\n      <td>373450</td>\n      <td>8.0500</td>\n      <td>NaN</td>\n      <td>S</td>\n    </tr>\n  </tbody>\n</table>\n</div>"
     },
     "execution_count": 123,
     "metadata": {},
     "output_type": "execute_result"
    }
   ],
   "source": [
    "titanic.head()"
   ],
   "metadata": {
    "collapsed": false,
    "ExecuteTime": {
     "end_time": "2024-04-01T17:04:07.916543Z",
     "start_time": "2024-04-01T17:04:07.908862Z"
    }
   },
   "id": "cf085efa6c64fc2e",
   "execution_count": 123
  },
  {
   "cell_type": "code",
   "outputs": [],
   "source": [
    "pd.set_option('display.float_format', '{:.2f}'.format)"
   ],
   "metadata": {
    "collapsed": false,
    "ExecuteTime": {
     "end_time": "2024-04-01T17:05:10.060921Z",
     "start_time": "2024-04-01T17:05:10.057415Z"
    }
   },
   "id": "415f1ef0f77d15f0",
   "execution_count": 124
  },
  {
   "cell_type": "code",
   "outputs": [
    {
     "data": {
      "text/plain": "   PassengerId  Survived  Pclass  \\\n0            1         0       3   \n1            2         1       1   \n2            3         1       3   \n3            4         1       1   \n4            5         0       3   \n\n                                                Name     Sex   Age  SibSp  \\\n0                            Braund, Mr. Owen Harris    male 22.00      1   \n1  Cumings, Mrs. John Bradley (Florence Briggs Th...  female 38.00      1   \n2                             Heikkinen, Miss. Laina  female 26.00      0   \n3       Futrelle, Mrs. Jacques Heath (Lily May Peel)  female 35.00      1   \n4                           Allen, Mr. William Henry    male 35.00      0   \n\n   Parch            Ticket  Fare Cabin Embarked  \n0      0         A/5 21171  7.25   NaN        S  \n1      0          PC 17599 71.28   C85        C  \n2      0  STON/O2. 3101282  7.92   NaN        S  \n3      0            113803 53.10  C123        S  \n4      0            373450  8.05   NaN        S  ",
      "text/html": "<div>\n<style scoped>\n    .dataframe tbody tr th:only-of-type {\n        vertical-align: middle;\n    }\n\n    .dataframe tbody tr th {\n        vertical-align: top;\n    }\n\n    .dataframe thead th {\n        text-align: right;\n    }\n</style>\n<table border=\"1\" class=\"dataframe\">\n  <thead>\n    <tr style=\"text-align: right;\">\n      <th></th>\n      <th>PassengerId</th>\n      <th>Survived</th>\n      <th>Pclass</th>\n      <th>Name</th>\n      <th>Sex</th>\n      <th>Age</th>\n      <th>SibSp</th>\n      <th>Parch</th>\n      <th>Ticket</th>\n      <th>Fare</th>\n      <th>Cabin</th>\n      <th>Embarked</th>\n    </tr>\n  </thead>\n  <tbody>\n    <tr>\n      <th>0</th>\n      <td>1</td>\n      <td>0</td>\n      <td>3</td>\n      <td>Braund, Mr. Owen Harris</td>\n      <td>male</td>\n      <td>22.00</td>\n      <td>1</td>\n      <td>0</td>\n      <td>A/5 21171</td>\n      <td>7.25</td>\n      <td>NaN</td>\n      <td>S</td>\n    </tr>\n    <tr>\n      <th>1</th>\n      <td>2</td>\n      <td>1</td>\n      <td>1</td>\n      <td>Cumings, Mrs. John Bradley (Florence Briggs Th...</td>\n      <td>female</td>\n      <td>38.00</td>\n      <td>1</td>\n      <td>0</td>\n      <td>PC 17599</td>\n      <td>71.28</td>\n      <td>C85</td>\n      <td>C</td>\n    </tr>\n    <tr>\n      <th>2</th>\n      <td>3</td>\n      <td>1</td>\n      <td>3</td>\n      <td>Heikkinen, Miss. Laina</td>\n      <td>female</td>\n      <td>26.00</td>\n      <td>0</td>\n      <td>0</td>\n      <td>STON/O2. 3101282</td>\n      <td>7.92</td>\n      <td>NaN</td>\n      <td>S</td>\n    </tr>\n    <tr>\n      <th>3</th>\n      <td>4</td>\n      <td>1</td>\n      <td>1</td>\n      <td>Futrelle, Mrs. Jacques Heath (Lily May Peel)</td>\n      <td>female</td>\n      <td>35.00</td>\n      <td>1</td>\n      <td>0</td>\n      <td>113803</td>\n      <td>53.10</td>\n      <td>C123</td>\n      <td>S</td>\n    </tr>\n    <tr>\n      <th>4</th>\n      <td>5</td>\n      <td>0</td>\n      <td>3</td>\n      <td>Allen, Mr. William Henry</td>\n      <td>male</td>\n      <td>35.00</td>\n      <td>0</td>\n      <td>0</td>\n      <td>373450</td>\n      <td>8.05</td>\n      <td>NaN</td>\n      <td>S</td>\n    </tr>\n  </tbody>\n</table>\n</div>"
     },
     "execution_count": 126,
     "metadata": {},
     "output_type": "execute_result"
    }
   ],
   "source": [
    "titanic.head()"
   ],
   "metadata": {
    "collapsed": false,
    "ExecuteTime": {
     "end_time": "2024-04-01T17:05:20.610714Z",
     "start_time": "2024-04-01T17:05:20.600873Z"
    }
   },
   "id": "cb2830f50dabc2",
   "execution_count": 126
  },
  {
   "cell_type": "code",
   "outputs": [],
   "source": [
    "pd.reset_option('display.float_format')"
   ],
   "metadata": {
    "collapsed": false,
    "ExecuteTime": {
     "end_time": "2024-04-01T17:05:22.684046Z",
     "start_time": "2024-04-01T17:05:22.681148Z"
    }
   },
   "id": "9385d43e75121098",
   "execution_count": 127
  },
  {
   "cell_type": "markdown",
   "source": [
    "# 25. Style a DataFrame"
   ],
   "metadata": {
    "collapsed": false
   },
   "id": "7a11481cebc9163f"
  },
  {
   "cell_type": "code",
   "outputs": [],
   "source": [
    "stocks_path = r'F:\\DataSpell\\Pandas_training\\from_youtube_video\\data\\pandas-videos-master\\stocks.csv'"
   ],
   "metadata": {
    "collapsed": false,
    "ExecuteTime": {
     "end_time": "2024-04-01T17:05:45.886542Z",
     "start_time": "2024-04-01T17:05:45.882588Z"
    }
   },
   "id": "d638fe6af49d2a8a",
   "execution_count": 128
  },
  {
   "cell_type": "code",
   "outputs": [
    {
     "data": {
      "text/plain": "         Date   Close    Volume Symbol\n0  2016-10-03   31.50  14070500   CSCO\n1  2016-10-03  112.52  21701800   AAPL\n2  2016-10-03   57.42  19189500   MSFT\n3  2016-10-04  113.00  29736800   AAPL\n4  2016-10-04   57.24  20085900   MSFT\n5  2016-10-04   31.35  18460400   CSCO\n6  2016-10-05   57.64  16726400   MSFT\n7  2016-10-05   31.59  11808600   CSCO\n8  2016-10-05  113.05  21453100   AAPL",
      "text/html": "<div>\n<style scoped>\n    .dataframe tbody tr th:only-of-type {\n        vertical-align: middle;\n    }\n\n    .dataframe tbody tr th {\n        vertical-align: top;\n    }\n\n    .dataframe thead th {\n        text-align: right;\n    }\n</style>\n<table border=\"1\" class=\"dataframe\">\n  <thead>\n    <tr style=\"text-align: right;\">\n      <th></th>\n      <th>Date</th>\n      <th>Close</th>\n      <th>Volume</th>\n      <th>Symbol</th>\n    </tr>\n  </thead>\n  <tbody>\n    <tr>\n      <th>0</th>\n      <td>2016-10-03</td>\n      <td>31.50</td>\n      <td>14070500</td>\n      <td>CSCO</td>\n    </tr>\n    <tr>\n      <th>1</th>\n      <td>2016-10-03</td>\n      <td>112.52</td>\n      <td>21701800</td>\n      <td>AAPL</td>\n    </tr>\n    <tr>\n      <th>2</th>\n      <td>2016-10-03</td>\n      <td>57.42</td>\n      <td>19189500</td>\n      <td>MSFT</td>\n    </tr>\n    <tr>\n      <th>3</th>\n      <td>2016-10-04</td>\n      <td>113.00</td>\n      <td>29736800</td>\n      <td>AAPL</td>\n    </tr>\n    <tr>\n      <th>4</th>\n      <td>2016-10-04</td>\n      <td>57.24</td>\n      <td>20085900</td>\n      <td>MSFT</td>\n    </tr>\n    <tr>\n      <th>5</th>\n      <td>2016-10-04</td>\n      <td>31.35</td>\n      <td>18460400</td>\n      <td>CSCO</td>\n    </tr>\n    <tr>\n      <th>6</th>\n      <td>2016-10-05</td>\n      <td>57.64</td>\n      <td>16726400</td>\n      <td>MSFT</td>\n    </tr>\n    <tr>\n      <th>7</th>\n      <td>2016-10-05</td>\n      <td>31.59</td>\n      <td>11808600</td>\n      <td>CSCO</td>\n    </tr>\n    <tr>\n      <th>8</th>\n      <td>2016-10-05</td>\n      <td>113.05</td>\n      <td>21453100</td>\n      <td>AAPL</td>\n    </tr>\n  </tbody>\n</table>\n</div>"
     },
     "execution_count": 129,
     "metadata": {},
     "output_type": "execute_result"
    }
   ],
   "source": [
    "stocks = pd.read_csv(stocks_path)\n",
    "stocks"
   ],
   "metadata": {
    "collapsed": false,
    "ExecuteTime": {
     "end_time": "2024-04-01T17:05:54.158562Z",
     "start_time": "2024-04-01T17:05:54.150790Z"
    }
   },
   "id": "a76ceabfbdfcb12d",
   "execution_count": 129
  },
  {
   "cell_type": "code",
   "outputs": [
    {
     "data": {
      "text/plain": "{'Date': '{:%m/%d/%y}', 'Close': '${:.2f}', 'Volume': '{:,}'}"
     },
     "execution_count": 130,
     "metadata": {},
     "output_type": "execute_result"
    }
   ],
   "source": [
    "format_dict = {'Date': '{:%m/%d/%y}', 'Close': '${:.2f}', 'Volume': '{:,}'}\n",
    "format_dict"
   ],
   "metadata": {
    "collapsed": false,
    "ExecuteTime": {
     "end_time": "2024-04-01T17:06:15.965615Z",
     "start_time": "2024-04-01T17:06:15.961086Z"
    }
   },
   "id": "ab5db53867e0dd6a",
   "execution_count": 130
  },
  {
   "cell_type": "code",
   "outputs": [],
   "source": [
    "# stocks.style.format(format_dict)"
   ],
   "metadata": {
    "collapsed": false,
    "ExecuteTime": {
     "end_time": "2024-04-01T17:07:16.027709Z",
     "start_time": "2024-04-01T17:07:16.024752Z"
    }
   },
   "id": "7d1b863064efd6e7",
   "execution_count": 133
  },
  {
   "cell_type": "markdown",
   "source": [
    "# 26. Profile a DataFrame"
   ],
   "metadata": {
    "collapsed": false
   },
   "id": "de9e9f9494a3b641"
  },
  {
   "cell_type": "code",
   "outputs": [],
   "source": [
    "import ydata_profiling"
   ],
   "metadata": {
    "collapsed": false,
    "ExecuteTime": {
     "end_time": "2024-04-01T17:16:43.864192Z",
     "start_time": "2024-04-01T17:16:41.243443Z"
    }
   },
   "id": "e8103802d5c640ee",
   "execution_count": 145
  },
  {
   "cell_type": "code",
   "outputs": [
    {
     "data": {
      "text/plain": "Summarize dataset:   0%|          | 0/5 [00:00<?, ?it/s]",
      "application/vnd.jupyter.widget-view+json": {
       "version_major": 2,
       "version_minor": 0,
       "model_id": "45160ef1b3304182b76f96c9f7f59ead"
      }
     },
     "metadata": {},
     "output_type": "display_data"
    },
    {
     "name": "stderr",
     "output_type": "stream",
     "text": [
      "F:\\DataSpell\\Pandas_training\\venv\\Lib\\site-packages\\seaborn\\matrix.py:260: FutureWarning: Format strings passed to MaskedConstant are ignored, but in future may error or produce different behavior\n",
      "  annotation = (\"{:\" + self.fmt + \"}\").format(val)\n",
      "F:\\DataSpell\\Pandas_training\\venv\\Lib\\site-packages\\ydata_profiling\\model\\missing.py:78: UserWarning: There was an attempt to generate the Heatmap missing values diagrams, but this failed.\n",
      "To hide this warning, disable the calculation\n",
      "(using `df.profile_report(missing_diagrams={\"Heatmap\": False}`)\n",
      "If this is problematic for your use case, please report this as an issue:\n",
      "https://github.com/ydataai/ydata-profiling/issues\n",
      "(include the error message: 'could not convert string to float: '--'')\n",
      "  warnings.warn(\n"
     ]
    },
    {
     "data": {
      "text/plain": "Generate report structure:   0%|          | 0/1 [00:00<?, ?it/s]",
      "application/vnd.jupyter.widget-view+json": {
       "version_major": 2,
       "version_minor": 0,
       "model_id": "11cc0f87b6ad42578402c6d176939457"
      }
     },
     "metadata": {},
     "output_type": "display_data"
    },
    {
     "data": {
      "text/plain": "Render HTML:   0%|          | 0/1 [00:00<?, ?it/s]",
      "application/vnd.jupyter.widget-view+json": {
       "version_major": 2,
       "version_minor": 0,
       "model_id": "0419b53b32cd4f048ed1908526c21cb1"
      }
     },
     "metadata": {},
     "output_type": "display_data"
    },
    {
     "data": {
      "text/plain": "Export report to file:   0%|          | 0/1 [00:00<?, ?it/s]",
      "application/vnd.jupyter.widget-view+json": {
       "version_major": 2,
       "version_minor": 0,
       "model_id": "e2b5527215524add9a9928cce21eaa8c"
      }
     },
     "metadata": {},
     "output_type": "display_data"
    }
   ],
   "source": [
    "profile = ydata_profiling.ProfileReport(titanic, correlations={\"auto\": {\"calculate\": False}}, missing_diagrams={\"Heatmap\": False})\n",
    "profile.to_file(\"titanic.html\")"
   ],
   "metadata": {
    "collapsed": false,
    "ExecuteTime": {
     "end_time": "2024-04-01T17:21:36.527645Z",
     "start_time": "2024-04-01T17:21:30.560985Z"
    }
   },
   "id": "1f7d5d5e06834345",
   "execution_count": 148
  },
  {
   "cell_type": "code",
   "outputs": [
    {
     "name": "stdout",
     "output_type": "stream",
     "text": [
      "Requirement already satisfied: pydantic-settings in f:\\dataspell\\pandas_training\\venv\\lib\\site-packages (2.2.1)\n",
      "Requirement already satisfied: pydantic>=2.3.0 in f:\\dataspell\\pandas_training\\venv\\lib\\site-packages (from pydantic-settings) (2.6.4)\n",
      "Requirement already satisfied: python-dotenv>=0.21.0 in f:\\dataspell\\pandas_training\\venv\\lib\\site-packages (from pydantic-settings) (1.0.1)\n",
      "Requirement already satisfied: annotated-types>=0.4.0 in f:\\dataspell\\pandas_training\\venv\\lib\\site-packages (from pydantic>=2.3.0->pydantic-settings) (0.6.0)\n",
      "Requirement already satisfied: pydantic-core==2.16.3 in f:\\dataspell\\pandas_training\\venv\\lib\\site-packages (from pydantic>=2.3.0->pydantic-settings) (2.16.3)\n",
      "Requirement already satisfied: typing-extensions>=4.6.1 in f:\\dataspell\\pandas_training\\venv\\lib\\site-packages (from pydantic>=2.3.0->pydantic-settings) (4.10.0)\n",
      "Note: you may need to restart the kernel to use updated packages.\n"
     ]
    }
   ],
   "source": [],
   "metadata": {
    "collapsed": false,
    "ExecuteTime": {
     "end_time": "2024-04-01T17:11:43.669118Z",
     "start_time": "2024-04-01T17:11:41.678123Z"
    }
   },
   "id": "43e3ca06ef0a88ae",
   "execution_count": 142
  }
 ],
 "metadata": {
  "kernelspec": {
   "display_name": "Python 3",
   "language": "python",
   "name": "python3"
  },
  "language_info": {
   "codemirror_mode": {
    "name": "ipython",
    "version": 2
   },
   "file_extension": ".py",
   "mimetype": "text/x-python",
   "name": "python",
   "nbconvert_exporter": "python",
   "pygments_lexer": "ipython2",
   "version": "2.7.6"
  }
 },
 "nbformat": 4,
 "nbformat_minor": 5
}
